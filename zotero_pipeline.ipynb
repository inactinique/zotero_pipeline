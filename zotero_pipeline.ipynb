{
 "cells": [
  {
   "cell_type": "markdown",
   "metadata": {},
   "source": [
    "# Zotero PipeLine implementation\n",
    "\n",
    "Code written with Claude.ai"
   ]
  },
  {
   "cell_type": "markdown",
   "metadata": {},
   "source": [
    "## First, we create a conda environment and install the necessary libraries"
   ]
  },
  {
   "cell_type": "code",
   "execution_count": 1,
   "metadata": {},
   "outputs": [],
   "source": [
    "# do that outside your jupyter notebook. It is here to facilitate reproducibility. Version of python 3.11 installed for the creation of the notebook is 3.11.10\n",
    "# !conda create -n zotero_env python=3.11\n",
    "# !conda activate zotero_env"
   ]
  },
  {
   "cell_type": "markdown",
   "metadata": {},
   "source": [
    "## Then we import the necessary libraries\n",
    "\n",
    "Run this once within your environment. Adapt the version of python before running it. You can also run this outside the jupyter notebook."
   ]
  },
  {
   "cell_type": "code",
   "execution_count": 17,
   "metadata": {},
   "outputs": [
    {
     "name": "stdout",
     "output_type": "stream",
     "text": [
      "Requirement already satisfied: requests==2.31.0 in /opt/anaconda3/envs/zotero_env/lib/python3.11/site-packages (from -r requirements.txt (line 1)) (2.31.0)\n",
      "Requirement already satisfied: pyzotero==1.5.5 in /opt/anaconda3/envs/zotero_env/lib/python3.11/site-packages (from -r requirements.txt (line 2)) (1.5.5)\n",
      "Requirement already satisfied: PyPDF2==3.0.1 in /opt/anaconda3/envs/zotero_env/lib/python3.11/site-packages (from -r requirements.txt (line 3)) (3.0.1)\n",
      "Requirement already satisfied: pandas==2.1.4 in /opt/anaconda3/envs/zotero_env/lib/python3.11/site-packages (from -r requirements.txt (line 4)) (2.1.4)\n",
      "Requirement already satisfied: numpy==1.24.3 in /opt/anaconda3/envs/zotero_env/lib/python3.11/site-packages (from -r requirements.txt (line 5)) (1.24.3)\n",
      "Requirement already satisfied: gensim==4.3.2 in /opt/anaconda3/envs/zotero_env/lib/python3.11/site-packages (from -r requirements.txt (line 6)) (4.3.2)\n",
      "Requirement already satisfied: spacy==3.7.2 in /opt/anaconda3/envs/zotero_env/lib/python3.11/site-packages (from -r requirements.txt (line 7)) (3.7.2)\n",
      "Requirement already satisfied: scipy==1.11.4 in /opt/anaconda3/envs/zotero_env/lib/python3.11/site-packages (from -r requirements.txt (line 8)) (1.11.4)\n",
      "\u001b[31mERROR: Could not find a version that satisfies the requirement warnings (from versions: none)\u001b[0m\u001b[31m\n",
      "\u001b[0m\u001b[31mERROR: No matching distribution found for warnings\u001b[0m\u001b[31m\n",
      "\u001b[0m"
     ]
    }
   ],
   "source": [
    "# Install all packages with specific versions\n",
    "# !python3.11 -m pip install -r requirements.txt\n",
    "\n",
    "# Install spacy language model\n",
    "# !python3.11 -m spacy download en_core_web_sm==3.7.1 # alternatively, you can install other languages (fr_core_web_sm for instance)"
   ]
  },
  {
   "cell_type": "markdown",
   "metadata": {},
   "source": [
    "# Pipeline"
   ]
  },
  {
   "cell_type": "markdown",
   "metadata": {},
   "source": [
    "## Let's start the pipeline\n"
   ]
  },
  {
   "cell_type": "code",
   "execution_count": 12,
   "metadata": {},
   "outputs": [
    {
     "name": "stdout",
     "output_type": "stream",
     "text": [
      "Processing item: Les commémorations du centenaire de la Première Guerre mondiale\n",
      "Found 1 attachments\n",
      "Attachment type: application/pdf\n",
      "Method 1 failed: The file at 2 couldn't be opened or found.\n",
      "Method 2 failed: \n",
      "Code: 404\n",
      "URL: https://api.zotero.org/users/4583/items/2VV85K37/file\n",
      "Method: GET\n",
      "Response: Not found\n"
     ]
    },
    {
     "name": "stderr",
     "output_type": "stream",
     "text": [
      "2024-11-04 14:36:15,549 - zotero_processor - ERROR - Error downloading PDF: Could not download PDF content using any method\n"
     ]
    },
    {
     "name": "stdout",
     "output_type": "stream",
     "text": [
      "Processing item: Les commémorations du centenaire de la Première Guerre mondiale : réflexion à mi-terme\n",
      "Found 1 attachments\n",
      "Attachment type: application/pdf\n",
      "Method 1 failed: The file at 6 couldn't be opened or found.\n",
      "Processing item: Les sciences sociales face aux traces du big data\n",
      "Found 1 attachments\n",
      "Attachment type: application/pdf\n",
      "Method 1 failed: The file at 6 couldn't be opened or found.\n"
     ]
    },
    {
     "name": "stderr",
     "output_type": "stream",
     "text": [
      "2024-11-04 14:36:22,426 - zotero_processor - WARNING - No PDF found for item: Une loi pour le 11 Novembre, au nom de quelle urgence?\n"
     ]
    },
    {
     "name": "stdout",
     "output_type": "stream",
     "text": [
      "Processing item: Une loi pour le 11 Novembre, au nom de quelle urgence?\n",
      "Found 1 attachments\n",
      "Attachment type: text/html\n",
      "Processing item: A Conspiracy of Data: QAnon, Social Media, and Information Visualization\n",
      "Found 2 attachments\n",
      "Attachment type: application/pdf\n",
      "Method 1 failed: The file at 3 couldn't be opened or found.\n"
     ]
    },
    {
     "name": "stderr",
     "output_type": "stream",
     "text": [
      "2024-11-04 14:36:28,191 - zotero_processor - WARNING - No PDF found for item: Bogost and Warzel - 2023 - Zombie Twitter Has Arrived.pdf\n"
     ]
    },
    {
     "name": "stdout",
     "output_type": "stream",
     "text": [
      "Processing item: Bogost and Warzel - 2023 - Zombie Twitter Has Arrived.pdf\n",
      "Found 0 attachments\n"
     ]
    },
    {
     "name": "stderr",
     "output_type": "stream",
     "text": [
      "2024-11-04 14:36:28,518 - zotero_processor - WARNING - No PDF found for item: Liu - 2018 - Friending the Past The Sense of History in the Di.epub\n"
     ]
    },
    {
     "name": "stdout",
     "output_type": "stream",
     "text": [
      "Processing item: Liu - 2018 - Friending the Past The Sense of History in the Di.epub\n",
      "Found 0 attachments\n"
     ]
    },
    {
     "name": "stderr",
     "output_type": "stream",
     "text": [
      "2024-11-04 14:36:28,863 - zotero_processor - WARNING - No PDF found for item: Braunstein - Was machen Geisteswissenscha!ler auf Twitter Eine.pdf\n"
     ]
    },
    {
     "name": "stdout",
     "output_type": "stream",
     "text": [
      "Processing item: Braunstein - Was machen Geisteswissenscha!ler auf Twitter Eine.pdf\n",
      "Found 0 attachments\n",
      "Processing item: Was machen Geisteswissenscha!ler auf Twitter? Eine Betriebsblindenschri!\n",
      "Found 1 attachments\n",
      "Attachment type: application/pdf\n",
      "Method 1 failed: The file at 5 couldn't be opened or found.\n"
     ]
    },
    {
     "name": "stderr",
     "output_type": "stream",
     "text": [
      "2024-11-04 14:36:31,043 - zotero_processor - WARNING - No PDF found for item: ANNOTÉ_Grison - 2022 - « Discriminations algorithmiques »  La modération.pdf\n"
     ]
    },
    {
     "name": "stdout",
     "output_type": "stream",
     "text": [
      "Processing item: ANNOTÉ_Grison - 2022 - « Discriminations algorithmiques »  La modération.pdf\n",
      "Found 0 attachments\n"
     ]
    },
    {
     "name": "stderr",
     "output_type": "stream",
     "text": [
      "2024-11-04 14:36:31,427 - zotero_processor - WARNING - No PDF found for item: Grison - 2022 - « Discriminations algorithmiques »  La modération.pdf\n"
     ]
    },
    {
     "name": "stdout",
     "output_type": "stream",
     "text": [
      "Processing item: Grison - 2022 - « Discriminations algorithmiques »  La modération.pdf\n",
      "Found 0 attachments\n",
      "Processing item: « Discriminations algorithmiques » ? La modération des réseaux sociaux numériques au prisme de la censure\n",
      "Found 2 attachments\n",
      "Attachment type: application/pdf\n",
      "Method 1 failed: The file at U couldn't be opened or found.\n",
      "Processing item: Friending the Past: The Sense of History in the Digital Age\n",
      "Found 3 attachments\n",
      "Attachment type: application/epub+zip\n",
      "Attachment type: application/pdf\n",
      "Method 1 failed: The file at G couldn't be opened or found.\n",
      "Processing item: Créer un cadre français de responsabilisation des réseaux sociaux : agir en France avec une ambition européenne\n",
      "Found 1 attachments\n",
      "Attachment type: application/pdf\n",
      "Method 1 failed: The file at C couldn't be opened or found.\n"
     ]
    },
    {
     "name": "stderr",
     "output_type": "stream",
     "text": [
      "2024-11-04 14:37:15,165 - zotero_processor - WARNING - No PDF found for item: rapport-mission-regulation-reseaux-sociaux.pdf\n"
     ]
    },
    {
     "name": "stdout",
     "output_type": "stream",
     "text": [
      "Processing item: rapport-mission-regulation-reseaux-sociaux.pdf\n",
      "Found 0 attachments\n"
     ]
    },
    {
     "name": "stderr",
     "output_type": "stream",
     "text": [
      "2024-11-04 14:37:15,571 - zotero_processor - WARNING - No PDF found for item: Schroeder et al. - Social Media in the Global South A Network Datase.pdf\n"
     ]
    },
    {
     "name": "stdout",
     "output_type": "stream",
     "text": [
      "Processing item: Schroeder et al. - Social Media in the Global South A Network Datase.pdf\n",
      "Found 0 attachments\n"
     ]
    },
    {
     "name": "stderr",
     "output_type": "stream",
     "text": [
      "2024-11-04 14:37:16,225 - zotero_processor - WARNING - No PDF found for item: ANNOTÉ_Schroeder et al. - Social media in the Global South A Network Datase.pdf\n"
     ]
    },
    {
     "name": "stdout",
     "output_type": "stream",
     "text": [
      "Processing item: ANNOTÉ_Schroeder et al. - Social media in the Global South A Network Datase.pdf\n",
      "Found 0 attachments\n",
      "Processing item: Twitter est mort, réinventons-le !\n",
      "Found 1 attachments\n",
      "Attachment type: application/pdf\n",
      "Method 1 failed: The file at G couldn't be opened or found.\n"
     ]
    },
    {
     "name": "stderr",
     "output_type": "stream",
     "text": [
      "2024-11-04 14:37:20,677 - zotero_processor - WARNING - No PDF found for item: Usbek & Rica - Twitter est mort, réinventons-le !.pdf\n"
     ]
    },
    {
     "name": "stdout",
     "output_type": "stream",
     "text": [
      "Processing item: Usbek & Rica - Twitter est mort, réinventons-le !.pdf\n",
      "Found 0 attachments\n"
     ]
    },
    {
     "name": "stderr",
     "output_type": "stream",
     "text": [
      "2024-11-04 14:37:21,038 - zotero_processor - WARNING - No PDF found for item: Snapshot\n"
     ]
    },
    {
     "name": "stdout",
     "output_type": "stream",
     "text": [
      "Processing item: Snapshot\n",
      "Found 0 attachments\n",
      "Processing item: Zombie Twitter Has Arrived\n",
      "Found 2 attachments\n",
      "Attachment type: application/pdf\n",
      "Method 1 failed: The file at 8 couldn't be opened or found.\n"
     ]
    },
    {
     "name": "stderr",
     "output_type": "stream",
     "text": [
      "2024-11-04 14:37:23,383 - zotero_processor - WARNING - No PDF found for item: Liu - 2018 - Friending the Past_annoté.pdf\n"
     ]
    },
    {
     "name": "stdout",
     "output_type": "stream",
     "text": [
      "Processing item: Liu - 2018 - Friending the Past_annoté.pdf\n",
      "Found 0 attachments\n"
     ]
    },
    {
     "name": "stderr",
     "output_type": "stream",
     "text": [
      "2024-11-04 14:37:23,770 - zotero_processor - WARNING - No PDF found for item: Bruns - 2019 - After the ‘APIcalypse’ social media platforms and_annoté.pdf\n"
     ]
    },
    {
     "name": "stdout",
     "output_type": "stream",
     "text": [
      "Processing item: Bruns - 2019 - After the ‘APIcalypse’ social media platforms and_annoté.pdf\n",
      "Found 0 attachments\n"
     ]
    },
    {
     "name": "stderr",
     "output_type": "stream",
     "text": [
      "2024-11-04 14:37:24,137 - zotero_processor - WARNING - No PDF found for item: Braun - 2023 - Journalism, Media Research, and Mastodon Notes on_annoté.pdf\n"
     ]
    },
    {
     "name": "stdout",
     "output_type": "stream",
     "text": [
      "Processing item: Braun - 2023 - Journalism, Media Research, and Mastodon Notes on_annoté.pdf\n",
      "Found 0 attachments\n"
     ]
    },
    {
     "name": "stderr",
     "output_type": "stream",
     "text": [
      "2024-11-04 14:37:24,494 - zotero_processor - WARNING - No PDF found for item: Beaude - Sur les traces numériques de l’individu_annoté.pdf\n"
     ]
    },
    {
     "name": "stdout",
     "output_type": "stream",
     "text": [
      "Processing item: Beaude - Sur les traces numériques de l’individu_annoté.pdf\n",
      "Found 0 attachments\n"
     ]
    },
    {
     "name": "stderr",
     "output_type": "stream",
     "text": [
      "2024-11-04 14:37:24,885 - zotero_processor - WARNING - No PDF found for item: Beaude - Sur les traces numériques de l’individu.pdf\n"
     ]
    },
    {
     "name": "stdout",
     "output_type": "stream",
     "text": [
      "Processing item: Beaude - Sur les traces numériques de l’individu.pdf\n",
      "Found 0 attachments\n",
      "Processing item: Sur les traces numériques de l’individu\n",
      "Found 2 attachments\n",
      "Attachment type: application/pdf\n",
      "Method 1 failed: The file at S couldn't be opened or found.\n"
     ]
    },
    {
     "name": "stderr",
     "output_type": "stream",
     "text": [
      "2024-11-04 14:37:29,806 - zotero_processor - WARNING - No PDF found for item: Liu - 2018 - Friending the Past The Sense of History in the Di.pdf\n"
     ]
    },
    {
     "name": "stdout",
     "output_type": "stream",
     "text": [
      "Processing item: Liu - 2018 - Friending the Past The Sense of History in the Di.pdf\n",
      "Found 0 attachments\n"
     ]
    },
    {
     "name": "stderr",
     "output_type": "stream",
     "text": [
      "2024-11-04 14:37:30,152 - zotero_processor - WARNING - No PDF found for item: Angwin - What if You Knew What You Were Missing on Social M.pdf\n"
     ]
    },
    {
     "name": "stdout",
     "output_type": "stream",
     "text": [
      "Processing item: Angwin - What if You Knew What You Were Missing on Social M.pdf\n",
      "Found 0 attachments\n",
      "Processing item: What if You Knew What You Were Missing on Social Media?\n",
      "Found 1 attachments\n",
      "Attachment type: application/pdf\n",
      "Method 1 failed: The file at C couldn't be opened or found.\n"
     ]
    },
    {
     "name": "stderr",
     "output_type": "stream",
     "text": [
      "2024-11-04 14:37:33,898 - zotero_processor - WARNING - No PDF found for item: Bruns - 2019 - After the ‘APIcalypse’ social media platforms and.pdf\n"
     ]
    },
    {
     "name": "stdout",
     "output_type": "stream",
     "text": [
      "Processing item: Bruns - 2019 - After the ‘APIcalypse’ social media platforms and.pdf\n",
      "Found 0 attachments\n",
      "Processing item: After the ‘APIcalypse’: social media platforms and their fight against critical scholarly research\n",
      "Found 2 attachments\n",
      "Attachment type: application/pdf\n",
      "Method 1 failed: The file at V couldn't be opened or found.\n",
      "Processing item: Journalism, Media Research, and Mastodon: Notes on the Future\n",
      "Found 2 attachments\n",
      "Attachment type: application/pdf\n",
      "Method 1 failed: The file at D couldn't be opened or found.\n"
     ]
    },
    {
     "name": "stderr",
     "output_type": "stream",
     "text": [
      "2024-11-04 14:37:45,233 - zotero_processor - WARNING - No PDF found for item: Braun - 2023 - Journalism, Media Research, and Mastodon Notes on.pdf\n"
     ]
    },
    {
     "name": "stdout",
     "output_type": "stream",
     "text": [
      "Processing item: Braun - 2023 - Journalism, Media Research, and Mastodon Notes on.pdf\n",
      "Found 0 attachments\n",
      "Processing item: Social media in the Global South: A Network Dataset of the Malian Twittersphere\n",
      "Found 2 attachments\n",
      "Attachment type: application/pdf\n",
      "Method 1 failed: The file at T couldn't be opened or found.\n",
      "Processing item: 14-18: la marque et la trace\n",
      "Found 1 attachments\n",
      "Attachment type: application/pdf\n",
      "Method 1 failed: The file at 4 couldn't be opened or found.\n"
     ]
    },
    {
     "name": "stderr",
     "output_type": "stream",
     "text": [
      "incorrect startxref pointer(3)\n",
      "2024-11-04 14:37:50,816 - zotero_processor - WARNING - No PDF found for item: Hannah_2021_A Conspiracy of Data.pdf\n"
     ]
    },
    {
     "name": "stdout",
     "output_type": "stream",
     "text": [
      "Processing item: Hannah_2021_A Conspiracy of Data.pdf\n",
      "Found 0 attachments\n"
     ]
    },
    {
     "name": "stderr",
     "output_type": "stream",
     "text": [
      "2024-11-04 14:37:51,194 - zotero_processor - WARNING - No PDF found for item: 20563051211036064.pdf\n"
     ]
    },
    {
     "name": "stdout",
     "output_type": "stream",
     "text": [
      "Processing item: 20563051211036064.pdf\n",
      "Found 0 attachments\n"
     ]
    },
    {
     "name": "stderr",
     "output_type": "stream",
     "text": [
      "2024-11-04 14:37:51,628 - zotero_processor - WARNING - No PDF found for item: 1914-1918 : « Histoire et mémoire sont difficilement séparables »\n"
     ]
    },
    {
     "name": "stdout",
     "output_type": "stream",
     "text": [
      "Processing item: 1914-1918 : « Histoire et mémoire sont difficilement séparables »\n",
      "Found 0 attachments\n"
     ]
    },
    {
     "name": "stderr",
     "output_type": "stream",
     "text": [
      "2024-11-04 14:37:52,068 - zotero_processor - WARNING - No PDF found for item: Djemili et al. - 2014 - What does Twitter have to say about ideology.pdf\n"
     ]
    },
    {
     "name": "stdout",
     "output_type": "stream",
     "text": [
      "Processing item: Djemili et al. - 2014 - What does Twitter have to say about ideology.pdf\n",
      "Found 0 attachments\n"
     ]
    },
    {
     "name": "stderr",
     "output_type": "stream",
     "text": [
      "2024-11-04 14:37:52,462 - zotero_processor - WARNING - No PDF found for item: Cointet et Parasie - 2019 - Enquêter à partir des traces textuelles du web.pdf\n"
     ]
    },
    {
     "name": "stdout",
     "output_type": "stream",
     "text": [
      "Processing item: Cointet et Parasie - 2019 - Enquêter à partir des traces textuelles du web.pdf\n",
      "Found 0 attachments\n"
     ]
    },
    {
     "name": "stderr",
     "output_type": "stream",
     "text": [
      "2024-11-04 14:37:52,832 - zotero_processor - WARNING - No PDF found for item: Beaudouin - 2019 - Comment s’élabore la mémoire collective sur le web.pdf\n"
     ]
    },
    {
     "name": "stdout",
     "output_type": "stream",
     "text": [
      "Processing item: Beaudouin - 2019 - Comment s’élabore la mémoire collective sur le web.pdf\n",
      "Found 0 attachments\n",
      "Processing item: Comment s’élabore la mémoire collective sur le web ?\n",
      "Found 1 attachments\n",
      "Attachment type: application/pdf\n",
      "Method 1 failed: The file at 4 couldn't be opened or found.\n",
      "Processing item: Enquêter à partir des traces textuelles du web\n",
      "Found 1 attachments\n",
      "Attachment type: application/pdf\n",
      "Method 1 failed: The file at Q couldn't be opened or found.\n"
     ]
    },
    {
     "name": "stderr",
     "output_type": "stream",
     "text": [
      "2024-11-04 14:38:01,113 - zotero_processor - WARNING - No PDF found for item: le tiers livre, web & littérature : Après le livre | accorder son traitement de texte\n"
     ]
    },
    {
     "name": "stdout",
     "output_type": "stream",
     "text": [
      "Processing item: le tiers livre, web & littérature : Après le livre | accorder son traitement de texte\n",
      "Found 0 attachments\n"
     ]
    },
    {
     "name": "stderr",
     "output_type": "stream",
     "text": [
      "2024-11-04 14:38:01,467 - zotero_processor - WARNING - No PDF found for item: Пројекат Први светски рат у фондовима и збиркама Историјског архива Београда – онлајн дигитални тематски водич, Projekat Prvi svetski rat u fondovima i zbirkama Istorijskog arhiva Beograda - onlajn digitalni tematski vodič, PROJECT FIRST WORLD WAR IN FONDS AND COLLECTIONS OF THE HISTORICAL ARCHIVES OF BELGRADE – ONLINE DIGITAL THEMATIC GUIDE\n"
     ]
    },
    {
     "name": "stdout",
     "output_type": "stream",
     "text": [
      "Processing item: Пројекат Први светски рат у фондовима и збиркама Историјског архива Београда – онлајн дигитални тематски водич, Projekat Prvi svetski rat u fondovima i zbirkama Istorijskog arhiva Beograda - onlajn digitalni tematski vodič, PROJECT FIRST WORLD WAR IN FONDS AND COLLECTIONS OF THE HISTORICAL ARCHIVES OF BELGRADE – ONLINE DIGITAL THEMATIC GUIDE\n",
      "Found 0 attachments\n"
     ]
    },
    {
     "name": "stderr",
     "output_type": "stream",
     "text": [
      "2024-11-04 14:38:01,991 - zotero_processor - WARNING - No PDF found for item: Пројекат Први светски рат у фондовима и збиркама Историјског архива Београда – онлајн дигитални тематски водич, Projekat Prvi svetski rat u fondovima i zbirkama Istorijskog arhiva Beograda - onlajn digitalni tematski vodič, PROJECT FIRST WORLD WAR IN FONDS AND COLLECTIONS OF THE HISTORICAL ARCHIVES OF BELGRADE – ONLINE DIGITAL THEMATIC GUIDE\n"
     ]
    },
    {
     "name": "stdout",
     "output_type": "stream",
     "text": [
      "Processing item: Пројекат Први светски рат у фондовима и збиркама Историјског архива Београда – онлајн дигитални тематски водич, Projekat Prvi svetski rat u fondovima i zbirkama Istorijskog arhiva Beograda - onlajn digitalni tematski vodič, PROJECT FIRST WORLD WAR IN FONDS AND COLLECTIONS OF THE HISTORICAL ARCHIVES OF BELGRADE – ONLINE DIGITAL THEMATIC GUIDE\n",
      "Found 1 attachments\n",
      "Attachment type: text/html\n"
     ]
    },
    {
     "name": "stderr",
     "output_type": "stream",
     "text": [
      "2024-11-04 14:38:02,375 - zotero_processor - WARNING - No PDF found for item: Site Corpus 14\n"
     ]
    },
    {
     "name": "stdout",
     "output_type": "stream",
     "text": [
      "Processing item: Site Corpus 14\n",
      "Found 0 attachments\n"
     ]
    },
    {
     "name": "stderr",
     "output_type": "stream",
     "text": [
      "2024-11-04 14:38:02,707 - zotero_processor - WARNING - No PDF found for item: Accueil\n"
     ]
    },
    {
     "name": "stdout",
     "output_type": "stream",
     "text": [
      "Processing item: Accueil\n",
      "Found 0 attachments\n"
     ]
    },
    {
     "name": "stderr",
     "output_type": "stream",
     "text": [
      "2024-11-04 14:38:03,111 - zotero_processor - WARNING - No PDF found for item: Site Corpus 14\n"
     ]
    },
    {
     "name": "stdout",
     "output_type": "stream",
     "text": [
      "Processing item: Site Corpus 14\n",
      "Found 1 attachments\n",
      "Attachment type: text/html\n"
     ]
    },
    {
     "name": "stderr",
     "output_type": "stream",
     "text": [
      "2024-11-04 14:38:03,465 - zotero_processor - WARNING - No PDF found for item: Accueil | Testaments de Poilus\n"
     ]
    },
    {
     "name": "stdout",
     "output_type": "stream",
     "text": [
      "Processing item: Accueil | Testaments de Poilus\n",
      "Found 0 attachments\n",
      "Processing item: World Leaders a-Twitter: Communication Platforms and Agenda-Building During the 2018 NATO Summit\n",
      "Found 1 attachments\n",
      "Attachment type: application/pdf\n",
      "Method 1 failed: The file at L couldn't be opened or found.\n"
     ]
    },
    {
     "name": "stderr",
     "output_type": "stream",
     "text": [
      "2024-11-04 14:38:09,882 - zotero_processor - WARNING - No PDF found for item: Walton - World Leaders a-Twitter Communication Platforms a.pdf\n"
     ]
    },
    {
     "name": "stdout",
     "output_type": "stream",
     "text": [
      "Processing item: Walton - World Leaders a-Twitter Communication Platforms a.pdf\n",
      "Found 0 attachments\n"
     ]
    },
    {
     "name": "stderr",
     "output_type": "stream",
     "text": [
      "2024-11-04 14:38:10,238 - zotero_processor - WARNING - No PDF found for item: Snapshot\n"
     ]
    },
    {
     "name": "stdout",
     "output_type": "stream",
     "text": [
      "Processing item: Snapshot\n",
      "Found 0 attachments\n"
     ]
    },
    {
     "name": "stderr",
     "output_type": "stream",
     "text": [
      "2024-11-04 14:38:10,662 - zotero_processor - WARNING - No PDF found for item: Politique étrangère 2014/1 (Printemps)\n"
     ]
    },
    {
     "name": "stdout",
     "output_type": "stream",
     "text": [
      "Processing item: Politique étrangère 2014/1 (Printemps)\n",
      "Found 1 attachments\n",
      "Attachment type: text/html\n"
     ]
    },
    {
     "name": "stderr",
     "output_type": "stream",
     "text": [
      "2024-11-04 14:38:10,998 - zotero_processor - WARNING - No PDF found for item: Prost - 2013 - Commémorer sans travestir La guerre de 1914-1918 .pdf\n"
     ]
    },
    {
     "name": "stdout",
     "output_type": "stream",
     "text": [
      "Processing item: Prost - 2013 - Commémorer sans travestir La guerre de 1914-1918 .pdf\n",
      "Found 0 attachments\n",
      "Processing item: Commémorer sans travestir: La guerre de 1914-1918 comme grand événement\n",
      "Found 1 attachments\n",
      "Attachment type: application/pdf\n",
      "Method 1 failed: The file at I couldn't be opened or found.\n"
     ]
    },
    {
     "name": "stderr",
     "output_type": "stream",
     "text": [
      "incorrect startxref pointer(3)\n",
      "2024-11-04 14:38:13,847 - zotero_processor - WARNING - No PDF found for item: Nora - 14-18 la marque et la trace.pdf\n"
     ]
    },
    {
     "name": "stdout",
     "output_type": "stream",
     "text": [
      "Processing item: Nora - 14-18 la marque et la trace.pdf\n",
      "Found 0 attachments\n"
     ]
    },
    {
     "name": "stderr",
     "output_type": "stream",
     "text": [
      "2024-11-04 14:38:14,209 - zotero_processor - WARNING - No PDF found for item: Lanneau - Les commémorations du centenaire de la Première Gu.pdf\n"
     ]
    },
    {
     "name": "stdout",
     "output_type": "stream",
     "text": [
      "Processing item: Lanneau - Les commémorations du centenaire de la Première Gu.pdf\n",
      "Found 0 attachments\n"
     ]
    },
    {
     "name": "stderr",
     "output_type": "stream",
     "text": [
      "2024-11-04 14:38:14,544 - zotero_processor - WARNING - No PDF found for item: Großmann - 2017 - 1914, un lieu de mémoire européen  de la commémor.pdf\n"
     ]
    },
    {
     "name": "stdout",
     "output_type": "stream",
     "text": [
      "Processing item: Großmann - 2017 - 1914, un lieu de mémoire européen  de la commémor.pdf\n",
      "Found 0 attachments\n",
      "Processing item: 1914, un lieu de mémoire européen ? de la commémoration nationale à l’émergence d’un consensus mémoriel\n",
      "Found 1 attachments\n",
      "Attachment type: application/pdf\n",
      "Method 1 failed: The file at P couldn't be opened or found.\n"
     ]
    },
    {
     "name": "stderr",
     "output_type": "stream",
     "text": [
      "incorrect startxref pointer(3)\n",
      "2024-11-04 14:38:18,926 - zotero_processor - WARNING - No PDF found for item: Sumartojo - 2017 - Tweeting from the past Commemorating the Anzac Ce.pdf\n"
     ]
    },
    {
     "name": "stdout",
     "output_type": "stream",
     "text": [
      "Processing item: Sumartojo - 2017 - Tweeting from the past Commemorating the Anzac Ce.pdf\n",
      "Found 0 attachments\n",
      "Processing item: Tweeting from the past: Commemorating the Anzac Centenary @ABCNews1915\n",
      "Found 1 attachments\n",
      "Attachment type: application/pdf\n",
      "Method 1 failed: The file at X couldn't be opened or found.\n",
      "Processing item: What does Twitter have to say about ideology?\n",
      "Found 1 attachments\n",
      "Attachment type: application/pdf\n",
      "Method 1 failed: The file at J couldn't be opened or found.\n",
      "Processing item: The politics of memory: Commemorating the centenary of the First World War\n",
      "Found 1 attachments\n",
      "Attachment type: application/pdf\n",
      "Method 1 failed: The file at T couldn't be opened or found.\n"
     ]
    },
    {
     "name": "stderr",
     "output_type": "stream",
     "text": [
      "2024-11-04 14:38:26,236 - zotero_processor - WARNING - No PDF found for item: Beaumont - 2015 - The politics of memory Commemorating the centenar.pdf\n"
     ]
    },
    {
     "name": "stdout",
     "output_type": "stream",
     "text": [
      "Processing item: Beaumont - 2015 - The politics of memory Commemorating the centenar.pdf\n",
      "Found 0 attachments\n"
     ]
    },
    {
     "name": "stderr",
     "output_type": "stream",
     "text": [
      "2024-11-04 14:38:26,632 - zotero_processor - WARNING - No PDF found for item: Boullier - 2015 - Les sciences sociales face aux traces du big data.pdf\n"
     ]
    },
    {
     "name": "stdout",
     "output_type": "stream",
     "text": [
      "Processing item: Boullier - 2015 - Les sciences sociales face aux traces du big data.pdf\n",
      "Found 0 attachments\n"
     ]
    },
    {
     "name": "stderr",
     "output_type": "stream",
     "text": [
      "2024-11-04 14:38:27,187 - zotero_processor - WARNING - No PDF found for item: Schall and Vilatte - 2016 - Le quotidien d’un poilu de la première guerre mond.pdf\n"
     ]
    },
    {
     "name": "stdout",
     "output_type": "stream",
     "text": [
      "Processing item: Schall and Vilatte - 2016 - Le quotidien d’un poilu de la première guerre mond.pdf\n",
      "Found 0 attachments\n",
      "Processing item: Le quotidien d’un poilu de la première guerre mondiale sur Facebook : nouvelle forme de médiation, nouvelle expérience ?\n",
      "Found 1 attachments\n",
      "Attachment type: application/pdf\n",
      "Method 1 failed: The file at W couldn't be opened or found.\n",
      "Processing item: French commemoration: The centenary effect and the (re)discovery of <i>14–18</i>\n",
      "Found 1 attachments\n",
      "Attachment type: application/pdf\n",
      "Method 1 failed: The file at 4 couldn't be opened or found.\n"
     ]
    },
    {
     "name": "stderr",
     "output_type": "stream",
     "text": [
      "2024-11-04 14:38:32,629 - zotero_processor - WARNING - No PDF found for item: Fathi - 2015 - French commemoration The centenary effect and the.pdf\n"
     ]
    },
    {
     "name": "stdout",
     "output_type": "stream",
     "text": [
      "Processing item: Fathi - 2015 - French commemoration The centenary effect and the.pdf\n",
      "Found 0 attachments\n"
     ]
    },
    {
     "name": "stderr",
     "output_type": "stream",
     "text": [
      "2024-11-04 14:38:32,990 - zotero_processor - WARNING - No PDF found for item: Craig - 2015 - Commemoration in the United States ‘The reason fo.pdf\n"
     ]
    },
    {
     "name": "stdout",
     "output_type": "stream",
     "text": [
      "Processing item: Craig - 2015 - Commemoration in the United States ‘The reason fo.pdf\n",
      "Found 0 attachments\n",
      "Processing item: Commemoration in the United States: ‘The reason for fighting I never got straight’\n",
      "Found 1 attachments\n",
      "Attachment type: application/pdf\n",
      "Method 1 failed: The file at X couldn't be opened or found.\n"
     ]
    },
    {
     "name": "stderr",
     "output_type": "stream",
     "text": [
      "2024-11-04 14:38:35,286 - zotero_processor - WARNING - No PDF found for item: Jeffery - 2015 - Commemoration in the United Kingdom A multitude o.pdf\n"
     ]
    },
    {
     "name": "stdout",
     "output_type": "stream",
     "text": [
      "Processing item: Jeffery - 2015 - Commemoration in the United Kingdom A multitude o.pdf\n",
      "Found 0 attachments\n",
      "Processing item: Commemoration in the United Kingdom: A multitude of memories\n",
      "Found 1 attachments\n",
      "Attachment type: application/pdf\n",
      "Method 1 failed: The file at F couldn't be opened or found.\n"
     ]
    },
    {
     "name": "stderr",
     "output_type": "stream",
     "text": [
      "2024-11-04 14:38:37,947 - zotero_processor - WARNING - No PDF found for item: Bayer - 2015 - Commemoration in Germany Rediscovering history.pdf\n"
     ]
    },
    {
     "name": "stdout",
     "output_type": "stream",
     "text": [
      "Processing item: Bayer - 2015 - Commemoration in Germany Rediscovering history.pdf\n",
      "Found 0 attachments\n",
      "Processing item: Commemoration in Germany: Rediscovering history\n",
      "Found 1 attachments\n",
      "Attachment type: application/pdf\n",
      "Method 1 failed: The file at W couldn't be opened or found.\n"
     ]
    },
    {
     "name": "stderr",
     "output_type": "stream",
     "text": [
      "2024-11-04 14:38:40,357 - zotero_processor - WARNING - No PDF found for item: Les commémorations du centenaire de la Première Guerre mondiale sur Twitter\n"
     ]
    },
    {
     "name": "stdout",
     "output_type": "stream",
     "text": [
      "Processing item: Les commémorations du centenaire de la Première Guerre mondiale sur Twitter\n",
      "Found 0 attachments\n",
      "Processing item: « Mort pour la France » ou le triomphe d’une théologie nationale (1914-1915)\n",
      "Found 1 attachments\n",
      "Attachment type: application/pdf\n",
      "Method 1 failed: The file at R couldn't be opened or found.\n",
      "Method 2 failed: \n",
      "Code: 404\n",
      "URL: https://api.zotero.org/users/4583/items/R4IF9AH9/file\n",
      "Method: GET\n",
      "Response: Not found\n"
     ]
    },
    {
     "name": "stderr",
     "output_type": "stream",
     "text": [
      "2024-11-04 14:38:42,605 - zotero_processor - ERROR - Error downloading PDF: Could not download PDF content using any method\n",
      "2024-11-04 14:38:43,136 - zotero_processor - WARNING - No PDF found for item: Snapshot\n"
     ]
    },
    {
     "name": "stdout",
     "output_type": "stream",
     "text": [
      "Processing item: Snapshot\n",
      "Found 0 attachments\n"
     ]
    },
    {
     "name": "stderr",
     "output_type": "stream",
     "text": [
      "2024-11-04 14:38:43,742 - zotero_processor - WARNING - No PDF found for item: This Is What Controversies Look Like in the Twittersphere\n"
     ]
    },
    {
     "name": "stdout",
     "output_type": "stream",
     "text": [
      "Processing item: This Is What Controversies Look Like in the Twittersphere\n",
      "Found 1 attachments\n",
      "Attachment type: text/html\n"
     ]
    },
    {
     "name": "stderr",
     "output_type": "stream",
     "text": [
      "2024-11-04 14:38:44,881 - zotero_processor - WARNING - No PDF found for item: The Atlantic Snapshot\n"
     ]
    },
    {
     "name": "stdout",
     "output_type": "stream",
     "text": [
      "Processing item: The Atlantic Snapshot\n",
      "Found 0 attachments\n"
     ]
    },
    {
     "name": "stderr",
     "output_type": "stream",
     "text": [
      "2024-11-04 14:38:45,302 - zotero_processor - WARNING - No PDF found for item: Can Twitter Fit Inside the Library of Congress?\n"
     ]
    },
    {
     "name": "stdout",
     "output_type": "stream",
     "text": [
      "Processing item: Can Twitter Fit Inside the Library of Congress?\n",
      "Found 1 attachments\n",
      "Attachment type: text/html\n"
     ]
    },
    {
     "name": "stderr",
     "output_type": "stream",
     "text": [
      "2024-11-04 14:38:45,646 - zotero_processor - WARNING - No PDF found for item: Petit - 2016 - « Mort pour la France » ou le triomphe d’une théol.pdf\n"
     ]
    },
    {
     "name": "stdout",
     "output_type": "stream",
     "text": [
      "Processing item: Petit - 2016 - « Mort pour la France » ou le triomphe d’une théol.pdf\n",
      "Found 0 attachments\n"
     ]
    },
    {
     "name": "stderr",
     "output_type": "stream",
     "text": [
      "2024-11-04 14:38:46,043 - zotero_processor - WARNING - No PDF found for item: Seignobos - 1901 - La méthode historique appliquée aux sciences socia.pdf\n"
     ]
    },
    {
     "name": "stdout",
     "output_type": "stream",
     "text": [
      "Processing item: Seignobos - 1901 - La méthode historique appliquée aux sciences socia.pdf\n",
      "Found 0 attachments\n"
     ]
    },
    {
     "name": "stderr",
     "output_type": "stream",
     "text": [
      "2024-11-04 14:38:46,888 - zotero_processor - WARNING - No PDF found for item: Seignobos - 1901 - La méthode historique appliquée aux sciences socia.pdf\n"
     ]
    },
    {
     "name": "stdout",
     "output_type": "stream",
     "text": [
      "Processing item: Seignobos - 1901 - La méthode historique appliquée aux sciences socia.pdf\n",
      "Found 0 attachments\n",
      "Processing item: La méthode historique appliquée aux sciences sociales\n",
      "Found 2 attachments\n",
      "Attachment type: application/pdf\n",
      "Method 1 failed: The file at 5 couldn't be opened or found.\n",
      "Method 2 failed: \n",
      "Code: 404\n",
      "URL: https://api.zotero.org/users/4583/items/5N4ZLXPD/file\n",
      "Method: GET\n",
      "Response: Not found\n"
     ]
    },
    {
     "name": "stderr",
     "output_type": "stream",
     "text": [
      "2024-11-04 14:38:48,129 - zotero_processor - ERROR - Error downloading PDF: Could not download PDF content using any method\n",
      "2024-11-04 14:38:48,691 - zotero_processor - WARNING - No PDF found for item: Wieder - 2013 - Généalogie heurtée d'un « événement majeur ».PDF\n"
     ]
    },
    {
     "name": "stdout",
     "output_type": "stream",
     "text": [
      "Processing item: Wieder - 2013 - Généalogie heurtée d'un « événement majeur ».PDF\n",
      "Found 0 attachments\n"
     ]
    },
    {
     "name": "stderr",
     "output_type": "stream",
     "text": [
      "2024-11-04 14:38:49,313 - zotero_processor - WARNING - No PDF found for item: Bost_Kesteloot_2014_Les commémorations du centenaire de la Première Guerre mondiale.pdf\n"
     ]
    },
    {
     "name": "stdout",
     "output_type": "stream",
     "text": [
      "Processing item: Bost_Kesteloot_2014_Les commémorations du centenaire de la Première Guerre mondiale.pdf\n",
      "Found 0 attachments\n"
     ]
    },
    {
     "name": "stderr",
     "output_type": "stream",
     "text": [
      "2024-11-04 14:38:49,769 - zotero_processor - WARNING - No PDF found for item: Auzas - 2012 - Une loi pour le 11 Novembre, au nom de quelle urge.html\n"
     ]
    },
    {
     "name": "stdout",
     "output_type": "stream",
     "text": [
      "Processing item: Auzas - 2012 - Une loi pour le 11 Novembre, au nom de quelle urge.html\n",
      "Found 0 attachments\n"
     ]
    },
    {
     "name": "stderr",
     "output_type": "stream",
     "text": [
      "2024-11-04 14:38:50,208 - zotero_processor - WARNING - No PDF found for item: Volkwein_2008_Analyse du (dis)cours mémoriel allemand de la fuite et expulsion.pdf\n"
     ]
    },
    {
     "name": "stdout",
     "output_type": "stream",
     "text": [
      "Processing item: Volkwein_2008_Analyse du (dis)cours mémoriel allemand de la fuite et expulsion.pdf\n",
      "Found 0 attachments\n",
      "Processing item: Analyse du (dis)cours mémoriel allemand de la fuite et expulsion\n",
      "Found 1 attachments\n",
      "Attachment type: application/pdf\n",
      "Method 1 failed: The file at M couldn't be opened or found.\n",
      "Method 2 failed: \n",
      "Code: 404\n",
      "URL: https://api.zotero.org/users/4583/items/MPN6BI2Q/file\n",
      "Method: GET\n",
      "Response: Not found\n"
     ]
    },
    {
     "name": "stderr",
     "output_type": "stream",
     "text": [
      "2024-11-04 14:38:51,870 - zotero_processor - ERROR - Error downloading PDF: Could not download PDF content using any method\n"
     ]
    },
    {
     "name": "stdout",
     "output_type": "stream",
     "text": [
      "Processing item: Généalogie heurtée d'un « événement majeur »\n",
      "Found 1 attachments\n",
      "Attachment type: application/pdf\n",
      "Method 1 failed: The file at T couldn't be opened or found.\n",
      "Method 2 failed: \n",
      "Code: 404\n",
      "URL: https://api.zotero.org/users/4583/items/T7T2SMBH/file\n",
      "Method: GET\n",
      "Response: Not found\n"
     ]
    },
    {
     "name": "stderr",
     "output_type": "stream",
     "text": [
      "2024-11-04 14:38:53,060 - zotero_processor - ERROR - Error downloading PDF: Could not download PDF content using any method\n"
     ]
    },
    {
     "name": "stdout",
     "output_type": "stream",
     "text": [
      "Processed: Les commémorations du centenaire de la Première Guerre mondiale : réflexion à mi-terme\n",
      "Text length: 14285 characters\n",
      "Processed: Les sciences sociales face aux traces du big data\n",
      "Text length: 91000 characters\n",
      "Processed: A Conspiracy of Data: QAnon, Social Media, and Information Visualization\n",
      "Text length: 62096 characters\n",
      "Processed: Was machen Geisteswissenscha!ler auf Twitter? Eine Betriebsblindenschri!\n",
      "Text length: 4459 characters\n",
      "Processed: « Discriminations algorithmiques » ? La modération des réseaux sociaux numériques au prisme de la censure\n",
      "Text length: 28182 characters\n",
      "Processed: Friending the Past: The Sense of History in the Digital Age\n",
      "Text length: 949425 characters\n",
      "Processed: Créer un cadre français de responsabilisation des réseaux sociaux : agir en France avec une ambition européenne\n",
      "Text length: 84497 characters\n",
      "Processed: Twitter est mort, réinventons-le !\n",
      "Text length: 9362 characters\n",
      "Processed: Zombie Twitter Has Arrived\n",
      "Text length: 10507 characters\n",
      "Processed: Sur les traces numériques de l’individu\n",
      "Text length: 117800 characters\n",
      "Processed: What if You Knew What You Were Missing on Social Media?\n",
      "Text length: 7609 characters\n",
      "Processed: After the ‘APIcalypse’: social media platforms and their fight against critical scholarly research\n",
      "Text length: 84592 characters\n",
      "Processed: Journalism, Media Research, and Mastodon: Notes on the Future\n",
      "Text length: 25035 characters\n",
      "Processed: Social media in the Global South: A Network Dataset of the Malian Twittersphere\n",
      "Text length: 42595 characters\n",
      "Processed: 14-18: la marque et la trace\n",
      "Text length: 23845 characters\n",
      "Processed: Comment s’élabore la mémoire collective sur le web ?\n",
      "Text length: 70547 characters\n",
      "Processed: Enquêter à partir des traces textuelles du web\n",
      "Text length: 40344 characters\n",
      "Processed: World Leaders a-Twitter: Communication Platforms and Agenda-Building During the 2018 NATO Summit\n",
      "Text length: 142066 characters\n",
      "Processed: Commémorer sans travestir: La guerre de 1914-1918 comme grand événement\n",
      "Text length: 32673 characters\n",
      "Processed: 1914, un lieu de mémoire européen ? de la commémoration nationale à l’émergence d’un consensus mémoriel\n",
      "Text length: 53161 characters\n",
      "Processed: Tweeting from the past: Commemorating the Anzac Centenary @ABCNews1915\n",
      "Text length: 55831 characters\n",
      "Processed: What does Twitter have to say about ideology?\n",
      "Text length: 41929 characters\n",
      "Processed: The politics of memory: Commemorating the centenary of the First World War\n",
      "Text length: 25820 characters\n",
      "Processed: Le quotidien d’un poilu de la première guerre mondiale sur Facebook : nouvelle forme de médiation, nouvelle expérience ?\n",
      "Text length: 37663 characters\n",
      "Processed: French commemoration: The centenary effect and the (re)discovery of <i>14–18</i>\n",
      "Text length: 31495 characters\n",
      "Processed: Commemoration in the United States: ‘The reason for fighting I never got straight’\n",
      "Text length: 28400 characters\n",
      "Processed: Commemoration in the United Kingdom: A multitude of memories\n",
      "Text length: 21476 characters\n",
      "Processed: Commemoration in Germany: Rediscovering history\n",
      "Text length: 31160 characters\n"
     ]
    }
   ],
   "source": [
    "from zotero_processor import ZoteroPDFProcessor\n",
    "\n",
    "# Your credentials\n",
    "LIBRARY_ID = '4583'\n",
    "API_KEY = '8Fcy1q02vHUjcdFHEC25mKI2'\n",
    "LIBRARY_TYPE = 'user'\n",
    "\n",
    "# Create an instance of the processor\n",
    "processor = ZoteroPDFProcessor(LIBRARY_ID, LIBRARY_TYPE, API_KEY)\n",
    "\n",
    "# Process a collection\n",
    "results = processor.process_collection(\"03 #ww1\")\n",
    "\n",
    "# Work with the results\n",
    "for text, metadata in results:\n",
    "    print(f\"Processed: {metadata['title']}\")\n",
    "    print(f\"Text length: {len(text)} characters\")"
   ]
  },
  {
   "cell_type": "markdown",
   "metadata": {},
   "source": [
    "## And now LDA"
   ]
  },
  {
   "cell_type": "code",
   "execution_count": 14,
   "metadata": {},
   "outputs": [
    {
     "name": "stderr",
     "output_type": "stream",
     "text": [
      "[nltk_data] Downloading package wordnet to\n",
      "[nltk_data]     /Users/frederic.clavert/nltk_data...\n",
      "[nltk_data]   Package wordnet is already up-to-date!\n"
     ]
    },
    {
     "data": {
      "text/html": [
       "\n",
       "        <h3>Topic Words</h3>\n",
       "        <table style='width:100%; border-collapse: collapse;'>\n",
       "        <tr>\n",
       "            <th style='border: 1px solid black; padding: 8px;'>Topic</th>\n",
       "            <th style='border: 1px solid black; padding: 8px;'>Top Words</th>\n",
       "        </tr>\n",
       "        \n",
       "            <tr>\n",
       "                <td style='border: 1px solid black; padding: 8px;'>Topic 0</td>\n",
       "                <td style='border: 1px solid black; padding: 8px;'>history (0.001), medium (0.001), network (0.001), time (0.000), data (0.000), social (0.000), digital (0.000), sense (0.000), university (0.000), accessed (0.000), book (0.000), example (0.000), timeline (0.000), page (0.000), agrippa (0.000), information (0.000), dans (0.000), study (0.000), work (0.000), world (0.000)</td>\n",
       "            </tr>\n",
       "            \n",
       "            <tr>\n",
       "                <td style='border: 1px solid black; padding: 8px;'>Topic 1</td>\n",
       "                <td style='border: 1px solid black; padding: 8px;'>dans (0.015), pour (0.012), plus (0.011), sont (0.007), nous (0.006), trace (0.006), mais (0.006), cette (0.006), science (0.005), comme (0.005), avec (0.005), leur (0.005), dune (0.004), rseaux (0.004), sociales (0.004), entre (0.004), donne (0.004), contenus (0.004), sociaux (0.003), social (0.003)</td>\n",
       "            </tr>\n",
       "            \n",
       "            <tr>\n",
       "                <td style='border: 1px solid black; padding: 8px;'>Topic 2</td>\n",
       "                <td style='border: 1px solid black; padding: 8px;'>twitter (0.008), thread (0.007), like (0.004), medium (0.004), social (0.004), people (0.004), posting (0.004), network (0.003), idea (0.002), post (0.002), felt (0.002), follower (0.002), good (0.002), feel (0.002), musk (0.002), time (0.002), facebook (0.002), platform (0.002), thing (0.001), short (0.001)</td>\n",
       "            </tr>\n",
       "            \n",
       "            <tr>\n",
       "                <td style='border: 1px solid black; padding: 8px;'>Topic 3</td>\n",
       "                <td style='border: 1px solid black; padding: 8px;'>mmoire (0.013), guerre (0.010), revue (0.007), dans (0.007), france (0.006), world (0.005), press (0.005), depuis (0.004), federal (0.004), universitaires (0.004), premire (0.004), document (0.004), mondiale (0.004), germany (0.004), guerres (0.004), lieu (0.004), dhistoire (0.004), mondiales (0.004), pour (0.004), tlcharg (0.004)</td>\n",
       "            </tr>\n",
       "            \n",
       "            <tr>\n",
       "                <td style='border: 1px solid black; padding: 8px;'>Topic 4</td>\n",
       "                <td style='border: 1px solid black; padding: 8px;'>medium (0.000), history (0.000), network (0.000), pour (0.000), digital (0.000), sense (0.000), data (0.000), social (0.000), time (0.000), study (0.000), dans (0.000), science (0.000), information (0.000), accessed (0.000), world (0.000), plus (0.000), work (0.000), example (0.000), book (0.000), timeline (0.000)</td>\n",
       "            </tr>\n",
       "            \n",
       "            <tr>\n",
       "                <td style='border: 1px solid black; padding: 8px;'>Topic 5</td>\n",
       "                <td style='border: 1px solid black; padding: 8px;'>medium (0.000), dans (0.000), pour (0.000), mmoire (0.000), history (0.000), twitter (0.000), social (0.000), data (0.000), plus (0.000), digital (0.000), time (0.000), guerre (0.000), sont (0.000), mais (0.000), cette (0.000), world (0.000), network (0.000), document (0.000), public (0.000), communication (0.000)</td>\n",
       "            </tr>\n",
       "            \n",
       "            <tr>\n",
       "                <td style='border: 1px solid black; padding: 8px;'>Topic 6</td>\n",
       "                <td style='border: 1px solid black; padding: 8px;'>twitter (0.020), user (0.013), network (0.011), malian (0.011), social (0.009), medium (0.008), account (0.007), mali (0.007), follower (0.007), analysis (0.005), twittersphere (0.005), tweet (0.005), dataset (0.005), conflict (0.005), country (0.004), data (0.004), number (0.004), africa (0.004), information (0.004), profile (0.003)</td>\n",
       "            </tr>\n",
       "            \n",
       "            <tr>\n",
       "                <td style='border: 1px solid black; padding: 8px;'>Topic 7</td>\n",
       "                <td style='border: 1px solid black; padding: 8px;'>memory (0.017), world (0.016), commemoration (0.015), national (0.014), centenary (0.012), state (0.006), france (0.006), australian (0.006), event (0.005), french (0.005), political (0.005), commemorative (0.005), consulted (0.004), local (0.004), great (0.004), history (0.003), past (0.003), november (0.003), battle (0.003), australia (0.003)</td>\n",
       "            </tr>\n",
       "            \n",
       "            <tr>\n",
       "                <td style='border: 1px solid black; padding: 8px;'>Topic 8</td>\n",
       "                <td style='border: 1px solid black; padding: 8px;'>guerre (0.017), dans (0.010), pour (0.009), gallimard (0.005), elle (0.005), france (0.004), plus (0.004), cest (0.004), mais (0.004), depuis (0.004), tlcharg (0.004), luxembourg (0.004), consortium (0.004), wwwcairninfo (0.004), document (0.004), sans (0.004), leur (0.003), cette (0.003), franais (0.003), morts (0.003)</td>\n",
       "            </tr>\n",
       "            \n",
       "            <tr>\n",
       "                <td style='border: 1px solid black; padding: 8px;'>Topic 9</td>\n",
       "                <td style='border: 1px solid black; padding: 8px;'>tweet (0.024), rule (0.015), ideological (0.009), ideology (0.007), political (0.006), text (0.006), criterion (0.005), analysis (0.005), corpus (0.004), order (0.004), work (0.004), verb (0.004), speech (0.004), linguistic (0.004), language (0.003), french (0.003), wikimeta (0.003), identied (0.003), tagger (0.003), result (0.003)</td>\n",
       "            </tr>\n",
       "            \n",
       "            <tr>\n",
       "                <td style='border: 1px solid black; padding: 8px;'>Topic 10</td>\n",
       "                <td style='border: 1px solid black; padding: 8px;'>information (0.011), data (0.010), qanon (0.010), visualization (0.009), post (0.009), american (0.009), world (0.008), conspiracy (0.006), medium (0.005), theory (0.004), state (0.004), twitter (0.004), astodon (0.004), social (0.004), online (0.003), anons (0.003), clock (0.003), map (0.003), event (0.003), news (0.003)</td>\n",
       "            </tr>\n",
       "            \n",
       "            <tr>\n",
       "                <td style='border: 1px solid black; padding: 8px;'>Topic 11</td>\n",
       "                <td style='border: 1px solid black; padding: 8px;'>medium (0.012), history (0.010), digital (0.007), network (0.007), data (0.007), time (0.006), sense (0.006), social (0.005), accessed (0.004), example (0.004), timeline (0.004), book (0.004), study (0.003), agrippa (0.003), work (0.003), research (0.003), form (0.003), university (0.003), page (0.003), like (0.003)</td>\n",
       "            </tr>\n",
       "            \n",
       "            <tr>\n",
       "                <td style='border: 1px solid black; padding: 8px;'>Topic 12</td>\n",
       "                <td style='border: 1px solid black; padding: 8px;'>president (0.014), twitter (0.013), tweet (0.013), nato (0.012), communication (0.012), trump (0.009), leader (0.009), verbal (0.008), summit (0.007), macron (0.006), tone (0.006), guerre (0.006), content (0.005), prime (0.005), mmoire (0.005), minister (0.005), agenda (0.005), study (0.005), site (0.005), trudeau (0.005)</td>\n",
       "            </tr>\n",
       "            \n",
       "            <tr>\n",
       "                <td style='border: 1px solid black; padding: 8px;'>Topic 13</td>\n",
       "                <td style='border: 1px solid black; padding: 8px;'>medium (0.000), data (0.000), history (0.000), time (0.000), network (0.000), dans (0.000), plus (0.000), digital (0.000), sense (0.000), pour (0.000), analysis (0.000), science (0.000), tweet (0.000), twitter (0.000), study (0.000), social (0.000), example (0.000), world (0.000), page (0.000), guerre (0.000)</td>\n",
       "            </tr>\n",
       "            \n",
       "            <tr>\n",
       "                <td style='border: 1px solid black; padding: 8px;'>Topic 14</td>\n",
       "                <td style='border: 1px solid black; padding: 8px;'>network (0.000), medium (0.000), twitter (0.000), time (0.000), social (0.000), digital (0.000), world (0.000), history (0.000), data (0.000), dans (0.000), tweet (0.000), sense (0.000), example (0.000), communication (0.000), pour (0.000), accessed (0.000), timeline (0.000), plus (0.000), research (0.000), user (0.000)</td>\n",
       "            </tr>\n",
       "            </table>"
      ],
      "text/plain": [
       "<IPython.core.display.HTML object>"
      ]
     },
     "metadata": {},
     "output_type": "display_data"
    },
    {
     "data": {
      "text/html": [
       "<h3>Document Topics</h3>"
      ],
      "text/plain": [
       "<IPython.core.display.HTML object>"
      ]
     },
     "metadata": {},
     "output_type": "display_data"
    },
    {
     "data": {
      "text/html": [
       "<style type=\"text/css\">\n",
       "#T_d70f1 th {\n",
       "  border: 1px solid black;\n",
       "  padding: 8px;\n",
       "  text-align: left;\n",
       "}\n",
       "#T_d70f1_row0_col0, #T_d70f1_row0_col1, #T_d70f1_row0_col2, #T_d70f1_row0_col3, #T_d70f1_row0_col4, #T_d70f1_row1_col0, #T_d70f1_row1_col1, #T_d70f1_row1_col2, #T_d70f1_row1_col3, #T_d70f1_row1_col4, #T_d70f1_row2_col0, #T_d70f1_row2_col1, #T_d70f1_row2_col2, #T_d70f1_row2_col3, #T_d70f1_row2_col4, #T_d70f1_row3_col0, #T_d70f1_row3_col1, #T_d70f1_row3_col2, #T_d70f1_row3_col3, #T_d70f1_row3_col4, #T_d70f1_row4_col0, #T_d70f1_row4_col1, #T_d70f1_row4_col2, #T_d70f1_row4_col3, #T_d70f1_row4_col4, #T_d70f1_row5_col0, #T_d70f1_row5_col1, #T_d70f1_row5_col2, #T_d70f1_row5_col3, #T_d70f1_row5_col4, #T_d70f1_row6_col0, #T_d70f1_row6_col1, #T_d70f1_row6_col2, #T_d70f1_row6_col3, #T_d70f1_row6_col4, #T_d70f1_row7_col0, #T_d70f1_row7_col1, #T_d70f1_row7_col2, #T_d70f1_row7_col3, #T_d70f1_row7_col4, #T_d70f1_row8_col0, #T_d70f1_row8_col1, #T_d70f1_row8_col2, #T_d70f1_row8_col3, #T_d70f1_row8_col4, #T_d70f1_row9_col0, #T_d70f1_row9_col1, #T_d70f1_row9_col2, #T_d70f1_row9_col3, #T_d70f1_row9_col4, #T_d70f1_row10_col0, #T_d70f1_row10_col1, #T_d70f1_row10_col2, #T_d70f1_row10_col3, #T_d70f1_row10_col4, #T_d70f1_row11_col0, #T_d70f1_row11_col1, #T_d70f1_row11_col2, #T_d70f1_row11_col3, #T_d70f1_row11_col4, #T_d70f1_row12_col0, #T_d70f1_row12_col1, #T_d70f1_row12_col2, #T_d70f1_row12_col3, #T_d70f1_row12_col4, #T_d70f1_row13_col0, #T_d70f1_row13_col1, #T_d70f1_row13_col2, #T_d70f1_row13_col3, #T_d70f1_row13_col4, #T_d70f1_row14_col0, #T_d70f1_row14_col1, #T_d70f1_row14_col2, #T_d70f1_row14_col3, #T_d70f1_row14_col4, #T_d70f1_row15_col0, #T_d70f1_row15_col1, #T_d70f1_row15_col2, #T_d70f1_row15_col3, #T_d70f1_row15_col4, #T_d70f1_row16_col0, #T_d70f1_row16_col1, #T_d70f1_row16_col2, #T_d70f1_row16_col3, #T_d70f1_row16_col4, #T_d70f1_row17_col0, #T_d70f1_row17_col1, #T_d70f1_row17_col2, #T_d70f1_row17_col3, #T_d70f1_row17_col4, #T_d70f1_row18_col0, #T_d70f1_row18_col1, #T_d70f1_row18_col2, #T_d70f1_row18_col3, #T_d70f1_row18_col4, #T_d70f1_row19_col0, #T_d70f1_row19_col1, #T_d70f1_row19_col2, #T_d70f1_row19_col3, #T_d70f1_row19_col4, #T_d70f1_row20_col0, #T_d70f1_row20_col1, #T_d70f1_row20_col2, #T_d70f1_row20_col3, #T_d70f1_row20_col4, #T_d70f1_row21_col0, #T_d70f1_row21_col1, #T_d70f1_row21_col2, #T_d70f1_row21_col3, #T_d70f1_row21_col4, #T_d70f1_row22_col0, #T_d70f1_row22_col1, #T_d70f1_row22_col2, #T_d70f1_row22_col3, #T_d70f1_row22_col4, #T_d70f1_row23_col0, #T_d70f1_row23_col1, #T_d70f1_row23_col2, #T_d70f1_row23_col3, #T_d70f1_row23_col4, #T_d70f1_row24_col0, #T_d70f1_row24_col1, #T_d70f1_row24_col2, #T_d70f1_row24_col3, #T_d70f1_row24_col4, #T_d70f1_row25_col0, #T_d70f1_row25_col1, #T_d70f1_row25_col2, #T_d70f1_row25_col3, #T_d70f1_row25_col4, #T_d70f1_row26_col0, #T_d70f1_row26_col1, #T_d70f1_row26_col2, #T_d70f1_row26_col3, #T_d70f1_row26_col4, #T_d70f1_row27_col0, #T_d70f1_row27_col1, #T_d70f1_row27_col2, #T_d70f1_row27_col3, #T_d70f1_row27_col4 {\n",
       "  border: 1px solid black;\n",
       "  padding: 8px;\n",
       "  text-align: left;\n",
       "}\n",
       "</style>\n",
       "<table id=\"T_d70f1\">\n",
       "  <thead>\n",
       "    <tr>\n",
       "      <th class=\"blank level0\" >&nbsp;</th>\n",
       "      <th id=\"T_d70f1_level0_col0\" class=\"col_heading level0 col0\" >Document</th>\n",
       "      <th id=\"T_d70f1_level0_col1\" class=\"col_heading level0 col1\" >Dominant_Topic</th>\n",
       "      <th id=\"T_d70f1_level0_col2\" class=\"col_heading level0 col2\" >Topic_Probability</th>\n",
       "      <th id=\"T_d70f1_level0_col3\" class=\"col_heading level0 col3\" >Authors</th>\n",
       "      <th id=\"T_d70f1_level0_col4\" class=\"col_heading level0 col4\" >Date</th>\n",
       "    </tr>\n",
       "  </thead>\n",
       "  <tbody>\n",
       "    <tr>\n",
       "      <th id=\"T_d70f1_level0_row0\" class=\"row_heading level0 row0\" >0</th>\n",
       "      <td id=\"T_d70f1_row0_col0\" class=\"data row0 col0\" >Les commémorations du centenaire de la Première Guerre mondiale : réflexion à mi-terme</td>\n",
       "      <td id=\"T_d70f1_row0_col1\" class=\"data row0 col1\" >12</td>\n",
       "      <td id=\"T_d70f1_row0_col2\" class=\"data row0 col2\" >0.507</td>\n",
       "      <td id=\"T_d70f1_row0_col3\" class=\"data row0 col3\" ></td>\n",
       "      <td id=\"T_d70f1_row0_col4\" class=\"data row0 col4\" ></td>\n",
       "    </tr>\n",
       "    <tr>\n",
       "      <th id=\"T_d70f1_level0_row1\" class=\"row_heading level0 row1\" >1</th>\n",
       "      <td id=\"T_d70f1_row1_col0\" class=\"data row1 col0\" >Les sciences sociales face aux traces du big data</td>\n",
       "      <td id=\"T_d70f1_row1_col1\" class=\"data row1 col1\" >1</td>\n",
       "      <td id=\"T_d70f1_row1_col2\" class=\"data row1 col2\" >1.000</td>\n",
       "      <td id=\"T_d70f1_row1_col3\" class=\"data row1 col3\" ></td>\n",
       "      <td id=\"T_d70f1_row1_col4\" class=\"data row1 col4\" >2015</td>\n",
       "    </tr>\n",
       "    <tr>\n",
       "      <th id=\"T_d70f1_level0_row2\" class=\"row_heading level0 row2\" >2</th>\n",
       "      <td id=\"T_d70f1_row2_col0\" class=\"data row2 col0\" >A Conspiracy of Data: QAnon, Social Media, and Information Visualization</td>\n",
       "      <td id=\"T_d70f1_row2_col1\" class=\"data row2 col1\" >10</td>\n",
       "      <td id=\"T_d70f1_row2_col2\" class=\"data row2 col2\" >1.000</td>\n",
       "      <td id=\"T_d70f1_row2_col3\" class=\"data row2 col3\" ></td>\n",
       "      <td id=\"T_d70f1_row2_col4\" class=\"data row2 col4\" >07/2021</td>\n",
       "    </tr>\n",
       "    <tr>\n",
       "      <th id=\"T_d70f1_level0_row3\" class=\"row_heading level0 row3\" >3</th>\n",
       "      <td id=\"T_d70f1_row3_col0\" class=\"data row3 col0\" >Was machen Geisteswissenscha!ler auf Twitter? Eine Betriebsblindenschri!</td>\n",
       "      <td id=\"T_d70f1_row3_col1\" class=\"data row3 col1\" >8</td>\n",
       "      <td id=\"T_d70f1_row3_col2\" class=\"data row3 col2\" >0.999</td>\n",
       "      <td id=\"T_d70f1_row3_col3\" class=\"data row3 col3\" ></td>\n",
       "      <td id=\"T_d70f1_row3_col4\" class=\"data row3 col4\" ></td>\n",
       "    </tr>\n",
       "    <tr>\n",
       "      <th id=\"T_d70f1_level0_row4\" class=\"row_heading level0 row4\" >4</th>\n",
       "      <td id=\"T_d70f1_row4_col0\" class=\"data row4 col0\" >« Discriminations algorithmiques » ? La modération des réseaux sociaux numériques au prisme de la censure</td>\n",
       "      <td id=\"T_d70f1_row4_col1\" class=\"data row4 col1\" >1</td>\n",
       "      <td id=\"T_d70f1_row4_col2\" class=\"data row4 col2\" >1.000</td>\n",
       "      <td id=\"T_d70f1_row4_col3\" class=\"data row4 col3\" ></td>\n",
       "      <td id=\"T_d70f1_row4_col4\" class=\"data row4 col4\" >2022/06/23</td>\n",
       "    </tr>\n",
       "    <tr>\n",
       "      <th id=\"T_d70f1_level0_row5\" class=\"row_heading level0 row5\" >5</th>\n",
       "      <td id=\"T_d70f1_row5_col0\" class=\"data row5 col0\" >Friending the Past: The Sense of History in the Digital Age</td>\n",
       "      <td id=\"T_d70f1_row5_col1\" class=\"data row5 col1\" >11</td>\n",
       "      <td id=\"T_d70f1_row5_col2\" class=\"data row5 col2\" >1.000</td>\n",
       "      <td id=\"T_d70f1_row5_col3\" class=\"data row5 col3\" ></td>\n",
       "      <td id=\"T_d70f1_row5_col4\" class=\"data row5 col4\" >2018</td>\n",
       "    </tr>\n",
       "    <tr>\n",
       "      <th id=\"T_d70f1_level0_row6\" class=\"row_heading level0 row6\" >6</th>\n",
       "      <td id=\"T_d70f1_row6_col0\" class=\"data row6 col0\" >Créer un cadre français de responsabilisation des réseaux sociaux : agir en France avec une ambition européenne</td>\n",
       "      <td id=\"T_d70f1_row6_col1\" class=\"data row6 col1\" >1</td>\n",
       "      <td id=\"T_d70f1_row6_col2\" class=\"data row6 col2\" >1.000</td>\n",
       "      <td id=\"T_d70f1_row6_col3\" class=\"data row6 col3\" ></td>\n",
       "      <td id=\"T_d70f1_row6_col4\" class=\"data row6 col4\" >2019</td>\n",
       "    </tr>\n",
       "    <tr>\n",
       "      <th id=\"T_d70f1_level0_row7\" class=\"row_heading level0 row7\" >7</th>\n",
       "      <td id=\"T_d70f1_row7_col0\" class=\"data row7 col0\" >Twitter est mort, réinventons-le !</td>\n",
       "      <td id=\"T_d70f1_row7_col1\" class=\"data row7 col1\" >1</td>\n",
       "      <td id=\"T_d70f1_row7_col2\" class=\"data row7 col2\" >0.719</td>\n",
       "      <td id=\"T_d70f1_row7_col3\" class=\"data row7 col3\" ></td>\n",
       "      <td id=\"T_d70f1_row7_col4\" class=\"data row7 col4\" >2 août 2023</td>\n",
       "    </tr>\n",
       "    <tr>\n",
       "      <th id=\"T_d70f1_level0_row8\" class=\"row_heading level0 row8\" >8</th>\n",
       "      <td id=\"T_d70f1_row8_col0\" class=\"data row8 col0\" >Zombie Twitter Has Arrived</td>\n",
       "      <td id=\"T_d70f1_row8_col1\" class=\"data row8 col1\" >2</td>\n",
       "      <td id=\"T_d70f1_row8_col2\" class=\"data row8 col2\" >1.000</td>\n",
       "      <td id=\"T_d70f1_row8_col3\" class=\"data row8 col3\" >; </td>\n",
       "      <td id=\"T_d70f1_row8_col4\" class=\"data row8 col4\" >2023-07-06</td>\n",
       "    </tr>\n",
       "    <tr>\n",
       "      <th id=\"T_d70f1_level0_row9\" class=\"row_heading level0 row9\" >9</th>\n",
       "      <td id=\"T_d70f1_row9_col0\" class=\"data row9 col0\" >Sur les traces numériques de l’individu</td>\n",
       "      <td id=\"T_d70f1_row9_col1\" class=\"data row9 col1\" >1</td>\n",
       "      <td id=\"T_d70f1_row9_col2\" class=\"data row9 col2\" >1.000</td>\n",
       "      <td id=\"T_d70f1_row9_col3\" class=\"data row9 col3\" ></td>\n",
       "      <td id=\"T_d70f1_row9_col4\" class=\"data row9 col4\" ></td>\n",
       "    </tr>\n",
       "    <tr>\n",
       "      <th id=\"T_d70f1_level0_row10\" class=\"row_heading level0 row10\" >10</th>\n",
       "      <td id=\"T_d70f1_row10_col0\" class=\"data row10 col0\" >What if You Knew What You Were Missing on Social Media?</td>\n",
       "      <td id=\"T_d70f1_row10_col1\" class=\"data row10 col1\" >11</td>\n",
       "      <td id=\"T_d70f1_row10_col2\" class=\"data row10 col2\" >0.838</td>\n",
       "      <td id=\"T_d70f1_row10_col3\" class=\"data row10 col3\" ></td>\n",
       "      <td id=\"T_d70f1_row10_col4\" class=\"data row10 col4\" ></td>\n",
       "    </tr>\n",
       "    <tr>\n",
       "      <th id=\"T_d70f1_level0_row11\" class=\"row_heading level0 row11\" >11</th>\n",
       "      <td id=\"T_d70f1_row11_col0\" class=\"data row11 col0\" >After the ‘APIcalypse’: social media platforms and their fight against critical scholarly research</td>\n",
       "      <td id=\"T_d70f1_row11_col1\" class=\"data row11 col1\" >11</td>\n",
       "      <td id=\"T_d70f1_row11_col2\" class=\"data row11 col2\" >0.991</td>\n",
       "      <td id=\"T_d70f1_row11_col3\" class=\"data row11 col3\" ></td>\n",
       "      <td id=\"T_d70f1_row11_col4\" class=\"data row11 col4\" >2019-09-19</td>\n",
       "    </tr>\n",
       "    <tr>\n",
       "      <th id=\"T_d70f1_level0_row12\" class=\"row_heading level0 row12\" >12</th>\n",
       "      <td id=\"T_d70f1_row12_col0\" class=\"data row12 col0\" >Journalism, Media Research, and Mastodon: Notes on the Future</td>\n",
       "      <td id=\"T_d70f1_row12_col1\" class=\"data row12 col1\" >11</td>\n",
       "      <td id=\"T_d70f1_row12_col2\" class=\"data row12 col2\" >0.540</td>\n",
       "      <td id=\"T_d70f1_row12_col3\" class=\"data row12 col3\" ></td>\n",
       "      <td id=\"T_d70f1_row12_col4\" class=\"data row12 col4\" >2023-05-10</td>\n",
       "    </tr>\n",
       "    <tr>\n",
       "      <th id=\"T_d70f1_level0_row13\" class=\"row_heading level0 row13\" >13</th>\n",
       "      <td id=\"T_d70f1_row13_col0\" class=\"data row13 col0\" >Social media in the Global South: A Network Dataset of the Malian Twittersphere</td>\n",
       "      <td id=\"T_d70f1_row13_col1\" class=\"data row13 col1\" >6</td>\n",
       "      <td id=\"T_d70f1_row13_col2\" class=\"data row13 col2\" >1.000</td>\n",
       "      <td id=\"T_d70f1_row13_col3\" class=\"data row13 col3\" >; ; ; ; ; ; ; ; ; </td>\n",
       "      <td id=\"T_d70f1_row13_col4\" class=\"data row13 col4\" ></td>\n",
       "    </tr>\n",
       "    <tr>\n",
       "      <th id=\"T_d70f1_level0_row14\" class=\"row_heading level0 row14\" >14</th>\n",
       "      <td id=\"T_d70f1_row14_col0\" class=\"data row14 col0\" >14-18: la marque et la trace</td>\n",
       "      <td id=\"T_d70f1_row14_col1\" class=\"data row14 col1\" >12</td>\n",
       "      <td id=\"T_d70f1_row14_col2\" class=\"data row14 col2\" >0.430</td>\n",
       "      <td id=\"T_d70f1_row14_col3\" class=\"data row14 col3\" ></td>\n",
       "      <td id=\"T_d70f1_row14_col4\" class=\"data row14 col4\" >2018</td>\n",
       "    </tr>\n",
       "    <tr>\n",
       "      <th id=\"T_d70f1_level0_row15\" class=\"row_heading level0 row15\" >15</th>\n",
       "      <td id=\"T_d70f1_row15_col0\" class=\"data row15 col0\" >Comment s’élabore la mémoire collective sur le web ?</td>\n",
       "      <td id=\"T_d70f1_row15_col1\" class=\"data row15 col1\" >1</td>\n",
       "      <td id=\"T_d70f1_row15_col2\" class=\"data row15 col2\" >0.554</td>\n",
       "      <td id=\"T_d70f1_row15_col3\" class=\"data row15 col3\" ></td>\n",
       "      <td id=\"T_d70f1_row15_col4\" class=\"data row15 col4\" >2019-06-17</td>\n",
       "    </tr>\n",
       "    <tr>\n",
       "      <th id=\"T_d70f1_level0_row16\" class=\"row_heading level0 row16\" >16</th>\n",
       "      <td id=\"T_d70f1_row16_col0\" class=\"data row16 col0\" >Enquêter à partir des traces textuelles du web</td>\n",
       "      <td id=\"T_d70f1_row16_col1\" class=\"data row16 col1\" >1</td>\n",
       "      <td id=\"T_d70f1_row16_col2\" class=\"data row16 col2\" >1.000</td>\n",
       "      <td id=\"T_d70f1_row16_col3\" class=\"data row16 col3\" >; </td>\n",
       "      <td id=\"T_d70f1_row16_col4\" class=\"data row16 col4\" >2019-06-17</td>\n",
       "    </tr>\n",
       "    <tr>\n",
       "      <th id=\"T_d70f1_level0_row17\" class=\"row_heading level0 row17\" >17</th>\n",
       "      <td id=\"T_d70f1_row17_col0\" class=\"data row17 col0\" >World Leaders a-Twitter: Communication Platforms and Agenda-Building During the 2018 NATO Summit</td>\n",
       "      <td id=\"T_d70f1_row17_col1\" class=\"data row17 col1\" >12</td>\n",
       "      <td id=\"T_d70f1_row17_col2\" class=\"data row17 col2\" >1.000</td>\n",
       "      <td id=\"T_d70f1_row17_col3\" class=\"data row17 col3\" ></td>\n",
       "      <td id=\"T_d70f1_row17_col4\" class=\"data row17 col4\" ></td>\n",
       "    </tr>\n",
       "    <tr>\n",
       "      <th id=\"T_d70f1_level0_row18\" class=\"row_heading level0 row18\" >18</th>\n",
       "      <td id=\"T_d70f1_row18_col0\" class=\"data row18 col0\" >Commémorer sans travestir: La guerre de 1914-1918 comme grand événement</td>\n",
       "      <td id=\"T_d70f1_row18_col1\" class=\"data row18 col1\" >8</td>\n",
       "      <td id=\"T_d70f1_row18_col2\" class=\"data row18 col2\" >1.000</td>\n",
       "      <td id=\"T_d70f1_row18_col3\" class=\"data row18 col3\" ></td>\n",
       "      <td id=\"T_d70f1_row18_col4\" class=\"data row18 col4\" >2013</td>\n",
       "    </tr>\n",
       "    <tr>\n",
       "      <th id=\"T_d70f1_level0_row19\" class=\"row_heading level0 row19\" >19</th>\n",
       "      <td id=\"T_d70f1_row19_col0\" class=\"data row19 col0\" >1914, un lieu de mémoire européen ? de la commémoration nationale à l’émergence d’un consensus mémoriel</td>\n",
       "      <td id=\"T_d70f1_row19_col1\" class=\"data row19 col1\" >3</td>\n",
       "      <td id=\"T_d70f1_row19_col2\" class=\"data row19 col2\" >1.000</td>\n",
       "      <td id=\"T_d70f1_row19_col3\" class=\"data row19 col3\" ></td>\n",
       "      <td id=\"T_d70f1_row19_col4\" class=\"data row19 col4\" >2017-05-02</td>\n",
       "    </tr>\n",
       "    <tr>\n",
       "      <th id=\"T_d70f1_level0_row20\" class=\"row_heading level0 row20\" >20</th>\n",
       "      <td id=\"T_d70f1_row20_col0\" class=\"data row20 col0\" >Tweeting from the past: Commemorating the Anzac Centenary @ABCNews1915</td>\n",
       "      <td id=\"T_d70f1_row20_col1\" class=\"data row20 col1\" >11</td>\n",
       "      <td id=\"T_d70f1_row20_col2\" class=\"data row20 col2\" >0.831</td>\n",
       "      <td id=\"T_d70f1_row20_col3\" class=\"data row20 col3\" ></td>\n",
       "      <td id=\"T_d70f1_row20_col4\" class=\"data row20 col4\" >2017-05-28</td>\n",
       "    </tr>\n",
       "    <tr>\n",
       "      <th id=\"T_d70f1_level0_row21\" class=\"row_heading level0 row21\" >21</th>\n",
       "      <td id=\"T_d70f1_row21_col0\" class=\"data row21 col0\" >What does Twitter have to say about ideology?</td>\n",
       "      <td id=\"T_d70f1_row21_col1\" class=\"data row21 col1\" >9</td>\n",
       "      <td id=\"T_d70f1_row21_col2\" class=\"data row21 col2\" >1.000</td>\n",
       "      <td id=\"T_d70f1_row21_col3\" class=\"data row21 col3\" >; ; ; ; </td>\n",
       "      <td id=\"T_d70f1_row21_col4\" class=\"data row21 col4\" >2014/10/07</td>\n",
       "    </tr>\n",
       "    <tr>\n",
       "      <th id=\"T_d70f1_level0_row22\" class=\"row_heading level0 row22\" >22</th>\n",
       "      <td id=\"T_d70f1_row22_col0\" class=\"data row22 col0\" >The politics of memory: Commemorating the centenary of the First World War</td>\n",
       "      <td id=\"T_d70f1_row22_col1\" class=\"data row22 col1\" >7</td>\n",
       "      <td id=\"T_d70f1_row22_col2\" class=\"data row22 col2\" >1.000</td>\n",
       "      <td id=\"T_d70f1_row22_col3\" class=\"data row22 col3\" ></td>\n",
       "      <td id=\"T_d70f1_row22_col4\" class=\"data row22 col4\" >juillet 3, 2015</td>\n",
       "    </tr>\n",
       "    <tr>\n",
       "      <th id=\"T_d70f1_level0_row23\" class=\"row_heading level0 row23\" >23</th>\n",
       "      <td id=\"T_d70f1_row23_col0\" class=\"data row23 col0\" >Le quotidien d’un poilu de la première guerre mondiale sur Facebook : nouvelle forme de médiation, nouvelle expérience ?</td>\n",
       "      <td id=\"T_d70f1_row23_col1\" class=\"data row23 col1\" >1</td>\n",
       "      <td id=\"T_d70f1_row23_col2\" class=\"data row23 col2\" >1.000</td>\n",
       "      <td id=\"T_d70f1_row23_col3\" class=\"data row23 col3\" >; ; ; ; ; </td>\n",
       "      <td id=\"T_d70f1_row23_col4\" class=\"data row23 col4\" >2016</td>\n",
       "    </tr>\n",
       "    <tr>\n",
       "      <th id=\"T_d70f1_level0_row24\" class=\"row_heading level0 row24\" >24</th>\n",
       "      <td id=\"T_d70f1_row24_col0\" class=\"data row24 col0\" >French commemoration: The centenary effect and the (re)discovery of <i>14–18</i></td>\n",
       "      <td id=\"T_d70f1_row24_col1\" class=\"data row24 col1\" >7</td>\n",
       "      <td id=\"T_d70f1_row24_col2\" class=\"data row24 col2\" >1.000</td>\n",
       "      <td id=\"T_d70f1_row24_col3\" class=\"data row24 col3\" ></td>\n",
       "      <td id=\"T_d70f1_row24_col4\" class=\"data row24 col4\" >2015-07-03</td>\n",
       "    </tr>\n",
       "    <tr>\n",
       "      <th id=\"T_d70f1_level0_row25\" class=\"row_heading level0 row25\" >25</th>\n",
       "      <td id=\"T_d70f1_row25_col0\" class=\"data row25 col0\" >Commemoration in the United States: ‘The reason for fighting I never got straight’</td>\n",
       "      <td id=\"T_d70f1_row25_col1\" class=\"data row25 col1\" >10</td>\n",
       "      <td id=\"T_d70f1_row25_col2\" class=\"data row25 col2\" >0.806</td>\n",
       "      <td id=\"T_d70f1_row25_col3\" class=\"data row25 col3\" ></td>\n",
       "      <td id=\"T_d70f1_row25_col4\" class=\"data row25 col4\" >2015-07-03</td>\n",
       "    </tr>\n",
       "    <tr>\n",
       "      <th id=\"T_d70f1_level0_row26\" class=\"row_heading level0 row26\" >26</th>\n",
       "      <td id=\"T_d70f1_row26_col0\" class=\"data row26 col0\" >Commemoration in the United Kingdom: A multitude of memories</td>\n",
       "      <td id=\"T_d70f1_row26_col1\" class=\"data row26 col1\" >7</td>\n",
       "      <td id=\"T_d70f1_row26_col2\" class=\"data row26 col2\" >0.966</td>\n",
       "      <td id=\"T_d70f1_row26_col3\" class=\"data row26 col3\" ></td>\n",
       "      <td id=\"T_d70f1_row26_col4\" class=\"data row26 col4\" >2015-07-03</td>\n",
       "    </tr>\n",
       "    <tr>\n",
       "      <th id=\"T_d70f1_level0_row27\" class=\"row_heading level0 row27\" >27</th>\n",
       "      <td id=\"T_d70f1_row27_col0\" class=\"data row27 col0\" >Commemoration in Germany: Rediscovering history</td>\n",
       "      <td id=\"T_d70f1_row27_col1\" class=\"data row27 col1\" >3</td>\n",
       "      <td id=\"T_d70f1_row27_col2\" class=\"data row27 col2\" >0.720</td>\n",
       "      <td id=\"T_d70f1_row27_col3\" class=\"data row27 col3\" ></td>\n",
       "      <td id=\"T_d70f1_row27_col4\" class=\"data row27 col4\" >2015-07-03</td>\n",
       "    </tr>\n",
       "  </tbody>\n",
       "</table>\n"
      ],
      "text/plain": [
       "<pandas.io.formats.style.Styler at 0x1555a1c90>"
      ]
     },
     "metadata": {},
     "output_type": "display_data"
    },
    {
     "data": {
      "text/html": [
       "\n",
       "<link rel=\"stylesheet\" type=\"text/css\" href=\"https://cdn.jsdelivr.net/gh/bmabey/pyLDAvis@3.4.0/pyLDAvis/js/ldavis.v1.0.0.css\">\n",
       "\n",
       "\n",
       "<div id=\"ldavis_el696565721852496395316195\" style=\"background-color:white;\"></div>\n",
       "<script type=\"text/javascript\">\n",
       "\n",
       "var ldavis_el696565721852496395316195_data = {\"mdsDat\": {\"x\": [0.22147980148586527, -0.2664008542931636, 0.044905369508653585, 0.14492280532981908, 0.10300000751818733, -0.11296787618684999, 0.08836335642208244, -0.16830713965970945, 0.05496499080817119, 0.013379212786766901, -0.03088982457556764, -0.01564169582930895, -0.024983726530982478, -0.02573086562680236, -0.02609356115716138], \"y\": [0.004452623803248863, 0.08003635290943845, 0.2272722044682097, 0.03140192713681805, 0.08312642658068688, 0.09549722687486094, -0.020965856276675292, -0.018061820507598494, -0.027838884306866537, -0.08154681184920638, -0.07337992055588567, -0.07103024592320929, -0.07631260215047346, -0.07867866800488148, -0.07397195219846636], \"topics\": [1, 2, 3, 4, 5, 6, 7, 8, 9, 10, 11, 12, 13, 14, 15], \"cluster\": [1, 1, 1, 1, 1, 1, 1, 1, 1, 1, 1, 1, 1, 1, 1], \"Freq\": [48.31783003310785, 23.752145214821574, 9.053171566024336, 4.383833763810742, 4.371216263774873, 3.5430243903241383, 2.0729169830182443, 2.0587231532972323, 1.954283741008429, 0.491278774199213, 0.00032765458942236, 0.00031896354418303117, 0.0003100199326090981, 0.00030985112638686797, 0.00030962742078678257]}, \"tinfo\": {\"Term\": [\"network\", \"medium\", \"twitter\", \"dans\", \"history\", \"pour\", \"tweet\", \"data\", \"social\", \"digital\", \"plus\", \"world\", \"sense\", \"information\", \"time\", \"guerre\", \"accessed\", \"communication\", \"user\", \"memory\", \"like\", \"analysis\", \"text\", \"president\", \"work\", \"nato\", \"timeline\", \"example\", \"agrippa\", \"sont\", \"accessed\", \"agrippa\", \"archaeology\", \"timelinejs\", \"javascript\", \"linearity\", \"romantic\", \"arst\", \"wordsworth\", \"linear\", \"parameter\", \"digerent\", \"temporality\", \"workjow\", \"mcluhan\", \"webpage\", \"browser\", \"archival\", \"paradigm\", \"scientiac\", \"companion\", \"eusebius\", \"speciac\", \"electronic\", \"programming\", \"codex\", \"diagram\", \"begos\", \"rosenberg\", \"blackwell\", \"sense\", \"edited\", \"poem\", \"chapter\", \"timeline\", \"provenance\", \"modern\", \"history\", \"writing\", \"graphical\", \"database\", \"encounter\", \"material\", \"early\", \"mentioned\", \"digital\", \"book\", \"literary\", \"network\", \"medium\", \"reading\", \"example\", \"time\", \"knowledge\", \"humanity\", \"form\", \"work\", \"today\", \"data\", \"http\", \"like\", \"historical\", \"research\", \"university\", \"text\", \"social\", \"study\", \"page\", \"january\", \"platform\", \"information\", \"analysis\", \"contenus\", \"modration\", \"algorithmes\", \"traabilit\", \"commentaires\", \"rgulation\", \"saisir\", \"rseaux\", \"capacit\", \"plateformes\", \"numriques\", \"plateforme\", \"lors\", \"vibration\", \"sociologie\", \"termes\", \"trop\", \"mthodes\", \"approche\", \"transparence\", \"chercheurs\", \"rgulateur\", \"utilisateurs\", \"prcisment\", \"contenu\", \"lorsque\", \"statistique\", \"algorithmique\", \"entits\", \"personnes\", \"sociales\", \"individus\", \"plate\", \"compte\", \"numrique\", \"donne\", \"sociaux\", \"politique\", \"nous\", \"trace\", \"alors\", \"plus\", \"sont\", \"rseau\", \"acteurs\", \"permet\", \"cela\", \"leur\", \"pour\", \"comme\", \"tout\", \"dans\", \"aussi\", \"avec\", \"cette\", \"leurs\", \"mais\", \"dune\", \"entre\", \"ainsi\", \"fait\", \"sans\", \"science\", \"elle\", \"dont\", \"social\", \"service\", \"macron\", \"trudeau\", \"nato\", \"summit\", \"disinhibition\", \"toface\", \"slabore\", \"trudeaus\", \"anonymity\", \"twiplomacy\", \"burden\", \"kiousis\", \"damateurs\", \"lfkens\", \"parmelee\", \"promotionjob\", \"rgiments\", \"rgiment\", \"president\", \"valued\", \"realdonaldtrump\", \"referenced\", \"entretiens\", \"verbal\", \"clemenceau\", \"joinson\", \"schandorf\", \"upcoming\", \"zakaria\", \"bichard\", \"tone\", \"trump\", \"leader\", \"prime\", \"minister\", \"negative\", \"domestic\", \"grievance\", \"sharing\", \"hypothesis\", \"agenda\", \"positive\", \"amateur\", \"influence\", \"coded\", \"tweet\", \"communication\", \"building\", \"twitter\", \"tweeted\", \"mmoire\", \"category\", \"content\", \"guerre\", \"international\", \"total\", \"document\", \"site\", \"related\", \"grande\", \"study\", \"political\", \"wwwcairninfo\", \"tlcharg\", \"platform\", \"consortium\", \"social\", \"qanon\", \"anons\", \"cooper\", \"centennial\", \"qanons\", \"keene\", \"kazin\", \"conspiracy\", \"debunk\", \"purdue\", \"breadcrumb\", \"normies\", \"pill\", \"roosevelt\", \"trout\", \"apophenia\", \"pershing\", \"adherent\", \"believer\", \"cabal\", \"astodon\", \"dylan\", \"budreau\", \"striner\", \"snell\", \"woodrow\", \"kostrich\", \"parinya\", \"newcomer\", \"yuan\", \"wilson\", \"drop\", \"gehl\", \"mastodon\", \"braun\", \"hannah\", \"american\", \"clock\", \"slippage\", \"mation\", \"visualization\", \"map\", \"post\", \"thread\", \"infor\", \"information\", \"belief\", \"mainstream\", \"prominent\", \"intervention\", \"theory\", \"world\", \"data\", \"spread\", \"state\", \"visual\", \"news\", \"online\", \"sign\", \"twitter\", \"medium\", \"social\", \"event\", \"united\", \"reality\", \"memorial\", \"march\", \"figure\", \"public\", \"great\", \"university\", \"research\", \"platform\", \"fathi\", \"jeffery\", \"fusills\", \"reconciliation\", \"irish\", \"anniversary\", \"tower\", \"cathedral\", \"substate\", \"romain\", \"centenary\", \"defence\", \"trauma\", \"scottish\", \"symphorien\", \"gove\", \"commemoration\", \"belfast\", \"cemetery\", \"flandrin\", \"tenary\", \"slaughter\", \"mon\", \"beaumont\", \"county\", \"civilian\", \"ceremony\", \"enthusiasm\", \"ashplant\", \"dawson\", \"commemorative\", \"zimet\", \"remembrance\", \"memory\", \"commemorating\", \"australia\", \"australian\", \"national\", \"battle\", \"british\", \"consulted\", \"military\", \"hollande\", \"commonwealth\", \"soldier\", \"world\", \"french\", \"local\", \"memorial\", \"november\", \"france\", \"peace\", \"gallipoli\", \"country\", \"state\", \"government\", \"centenaire\", \"mission\", \"great\", \"event\", \"political\", \"different\", \"journal\", \"past\", \"nation\", \"history\", \"public\", \"april\", \"weltkrieg\", \"trve\", \"munich\", \"grossmann\", \"primor\", \"guilt\", \"ersten\", \"mondiales\", \"monath\", \"krumeich\", \"deutsche\", \"oldenbourg\", \"erste\", \"krieg\", \"hirschfeld\", \"gromann\", \"europa\", \"communiste\", \"mouchoir\", \"bonn\", \"countless\", \"erster\", \"copping\", \"zeit\", \"erinnerung\", \"tannenberg\", \"volkstrauertag\", \"symbolique\", \"mentalits\", \"politik\", \"guerres\", \"symbole\", \"mar\", \"sarajevo\", \"universitaires\", \"revue\", \"federal\", \"dhistoire\", \"exhibition\", \"collectif\", \"johannes\", \"mmoire\", \"mondiale\", \"commmoration\", \"lieu\", \"germany\", \"merkel\", \"lieux\", \"guerre\", \"premire\", \"german\", \"france\", \"depuis\", \"tlcharg\", \"wwwcairninfo\", \"luxembourg\", \"press\", \"consortium\", \"world\", \"dans\", \"document\", \"dune\", \"page\", \"pour\", \"malian\", \"mali\", \"xxxxx\", \"nigeria\", \"twittersphere\", \"bamako\", \"diaspora\", \"mutsvairo\", \"kalaban\", \"egbunike\", \"bosch\", \"schroeder\", \"kayes\", \"sikasso\", \"twitterspheres\", \"segou\", \"tombouctou\", \"malienne\", \"malikura\", \"checking\", \"thilo\", \"nioro\", \"sirakoro\", \"langguth\", \"koutiala\", \"malien\", \"mopti\", \"cornelissen\", \"conflict\", \"bruchler\", \"africa\", \"profile\", \"south\", \"african\", \"dataset\", \"characteristic\", \"user\", \"location\", \"twitter\", \"manual\", \"follower\", \"account\", \"country\", \"snapshot\", \"identification\", \"urban\", \"filtering\", \"network\", \"population\", \"number\", \"social\", \"analysis\", \"frequently\", \"west\", \"tweet\", \"medium\", \"collected\", \"figure\", \"information\", \"research\", \"data\", \"people\", \"access\", \"digital\", \"national\", \"travestir\", \"rpprostindd\", \"sich\", \"noch\", \"usines\", \"das\", \"absurde\", \"allis\", \"souffrances\", \"auch\", \"heute\", \"mich\", \"ernstha\", \"ikarus\", \"stolz\", \"jetzt\", \"australiens\", \"britan\", \"blesss\", \"grves\", \"canadiens\", \"niques\", \"sacrices\", \"ehre\", \"wird\", \"schnell\", \"mitarbeiterin\", \"stets\", \"projektleiter\", \"sondern\", \"eine\", \"antoine\", \"commmorer\", \"bataille\", \"nicht\", \"ouvriers\", \"gallimard\", \"larme\", \"guerre\", \"morts\", \"prost\", \"lallemagne\", \"toll\", \"tat\", \"britannique\", \"paix\", \"franais\", \"soldats\", \"allemands\", \"elle\", \"ltat\", \"pour\", \"dans\", \"france\", \"cest\", \"tlcharg\", \"wwwcairninfo\", \"sans\", \"luxembourg\", \"consortium\", \"depuis\", \"leur\", \"mais\", \"document\", \"plus\", \"pay\", \"cette\", \"deux\", \"leurs\", \"comme\", \"sont\", \"wikimeta\", \"identied\", \"tagger\", \"longhi\", \"nonideological\", \"satises\", \"identication\", \"sarfatis\", \"sarfati\", \"connector\", \"cergypontoise\", \"detect\", \"interlocution\", \"ideol\", \"timelessness\", \"syntactic\", \"abbreviation\", \"morphosyntactic\", \"bearing\", \"claudia\", \"georgeselia\", \"marinica\", \"ideolog\", \"ucpenseacnrs\", \"tagging\", \"classify\", \"lucas\", \"ported\", \"compute\", \"mourad\", \"criterion\", \"ideological\", \"linguistic\", \"julien\", \"tense\", \"rule\", \"noun\", \"verb\", \"satisfy\", \"tweet\", \"detecting\", \"ideology\", \"proper\", \"detection\", \"speech\", \"expert\", \"political\", \"order\", \"corpus\", \"text\", \"french\", \"analysis\", \"language\", \"mark\", \"work\", \"processing\", \"result\", \"discourse\", \"politician\", \"natural\", \"based\", \"eoects\", \"glorious\", \"pasted\", \"nagging\", \"copied\", \"werent\", \"ombie\", \"metas\", \"excitement\", \"uncle\", \"admit\", \"socialmedia\", \"decned\", \"decamped\", \"bodyapparently\", \"regret\", \"thrived\", \"drifted\", \"internetbrain\", \"cring\", \"fated\", \"baby\", \"rushed\", \"hooting\", \"wordprocess\", \"onboarding\", \"sickos\", \"takedown\", \"exhaustion\", \"vaguely\", \"behold\", \"thread\", \"zuckerberg\", \"posting\", \"unfortunate\", \"misguided\", \"rebuilding\", \"felt\", \"recovery\", \"there\", \"recommended\", \"prof\", \"professional\", \"bluesky\", \"musk\", \"feel\", \"weird\", \"twitter\", \"instagram\", \"people\", \"like\", \"billion\", \"social\", \"started\", \"medium\", \"network\", \"idea\", \"good\", \"post\", \"feeling\", \"follower\", \"short\", \"thing\", \"facebook\", \"platform\", \"time\", \"work\", \"text\", \"friend\", \"merely\", \"oulipo\", \"dictent\", \"autorgulation\", \"pausing\", \"mesoscale\", \"mediasocial\", \"historywho\", \"uller\", \"mathias\", \"internetone\", \"decreased\", \"clash\", \"lccn\", \"dogma\", \"xxxv\", \"glee\", \"rehearse\", \"ashamed\", \"diversify\", \"inertia\", \"soundtrack\", \"factory\", \"iconoclastic\", \"hose\", \"blogged\", \"inveterate\", \"threader\", \"rebirth\", \"bajilliondollar\", \"cngertips\", \"blast\", \"rushed\", \"copycat\", \"porting\", \"exhaustion\", \"mmoire\", \"dans\", \"medium\", \"pour\", \"twitter\", \"plus\", \"guerre\", \"mais\", \"social\", \"history\", \"cette\", \"digital\", \"sont\", \"data\", \"consortium\", \"document\", \"time\", \"world\", \"depuis\", \"public\", \"luxembourg\", \"avec\", \"nous\", \"leur\", \"wwwcairninfo\", \"entre\", \"tweet\", \"communication\", \"network\", \"press\", \"information\", \"page\", \"site\", \"oulipo\", \"historywho\", \"mesoscale\", \"mathias\", \"mediasocial\", \"pausing\", \"autorgulation\", \"uller\", \"internetone\", \"decreased\", \"dictent\", \"clash\", \"dogma\", \"lccn\", \"xxxv\", \"instagrams\", \"diversify\", \"iconoclastic\", \"drifted\", \"unhealthy\", \"proud\", \"inveterate\", \"brunch\", \"plight\", \"blogged\", \"rehearse\", \"ashamed\", \"semiprivate\", \"thirst\", \"planetary\", \"truculent\", \"procle\", \"dinnertime\", \"strangersall\", \"beeven\", \"libreosce\", \"network\", \"history\", \"medium\", \"university\", \"time\", \"book\", \"accessed\", \"social\", \"data\", \"sense\", \"agrippa\", \"digital\", \"example\", \"timeline\", \"page\", \"information\", \"historical\", \"project\", \"study\", \"work\", \"reading\", \"archaeology\", \"version\", \"timelinejs\", \"humanity\", \"knowledge\", \"event\", \"january\", \"press\", \"javascript\", \"world\", \"dans\", \"form\", \"pour\", \"oulipo\", \"mediasocial\", \"mesoscale\", \"historywho\", \"pausing\", \"uller\", \"mathias\", \"autorgulation\", \"dictent\", \"internetone\", \"decreased\", \"lccn\", \"clash\", \"dogma\", \"xxxv\", \"billionaireking\", \"crepuscular\", \"factory\", \"vaguely\", \"saccharine\", \"thrived\", \"gravity\", \"rehearse\", \"rebirth\", \"discharging\", \"bajilliondollar\", \"instantaneously\", \"internetbrain\", \"onboarding\", \"newest\", \"millennial\", \"nailed\", \"medium\", \"history\", \"network\", \"pour\", \"sense\", \"digital\", \"study\", \"time\", \"social\", \"science\", \"data\", \"accessed\", \"information\", \"work\", \"world\", \"book\", \"dans\", \"example\", \"plus\", \"timeline\", \"like\", \"page\", \"analysis\", \"tweet\", \"twitter\", \"american\", \"university\", \"site\", \"sont\", \"structure\", \"today\", \"document\", \"press\", \"oulipo\", \"historywho\", \"mediasocial\", \"mesoscale\", \"pausing\", \"autorgulation\", \"uller\", \"dictent\", \"mathias\", \"internetone\", \"decreased\", \"clash\", \"lccn\", \"dogma\", \"xxxv\", \"gravity\", \"youthful\", \"ashamed\", \"distributes\", \"planetary\", \"comrade\", \"cring\", \"brunch\", \"smiling\", \"cght\", \"iconoclastic\", \"ineuence\", \"rushed\", \"instagrams\", \"metaverse\", \"truculent\", \"starbucks\", \"network\", \"twitter\", \"medium\", \"world\", \"time\", \"social\", \"digital\", \"tweet\", \"history\", \"sense\", \"data\", \"dans\", \"user\", \"example\", \"communication\", \"state\", \"research\", \"accessed\", \"timeline\", \"analysis\", \"science\", \"public\", \"pour\", \"nous\", \"plus\", \"political\", \"study\", \"president\", \"content\", \"american\", \"press\", \"information\", \"book\", \"historywho\", \"oulipo\", \"uller\", \"autorgulation\", \"mesoscale\", \"mediasocial\", \"pausing\", \"mathias\", \"dictent\", \"internetone\", \"decreased\", \"lccn\", \"clash\", \"dogma\", \"xxxv\", \"rehearse\", \"blogged\", \"diversify\", \"deathrebirth\", \"postsnot\", \"giddiness\", \"cring\", \"getty\", \"tilde\", \"vaguely\", \"nowobvious\", \"planetary\", \"ineuencer\", \"rebirth\", \"libreosce\", \"ridiculous\", \"takedown\", \"medium\", \"data\", \"time\", \"plus\", \"history\", \"network\", \"dans\", \"digital\", \"analysis\", \"sense\", \"pour\", \"science\", \"guerre\", \"tweet\", \"page\", \"university\", \"world\", \"study\", \"example\", \"press\", \"sont\", \"information\", \"twitter\", \"work\", \"accessed\", \"visualization\", \"timeline\", \"nous\", \"event\", \"social\", \"like\"], \"Freq\": [620.0, 1049.0, 492.0, 689.0, 853.0, 545.0, 345.0, 745.0, 633.0, 611.0, 461.0, 360.0, 463.0, 368.0, 551.0, 250.0, 339.0, 364.0, 199.0, 193.0, 255.0, 279.0, 219.0, 224.0, 276.0, 186.0, 334.0, 368.0, 260.0, 311.0, 337.21622141062693, 259.20058639429607, 187.06728019745904, 124.80457190465509, 113.08669179184075, 103.42274953160621, 110.19302780039698, 88.74076462208946, 106.18036339410929, 94.53796603039582, 84.8101896499373, 82.78409687015588, 72.20964452080041, 68.32507385475864, 76.9667276864806, 62.446144458381674, 55.645152424606415, 51.78503655877947, 56.55087220955057, 52.69133282732083, 54.612761807342785, 50.73079904328838, 50.741555495169585, 51.70266345811199, 50.76362200619598, 52.66136483079939, 45.90055278869608, 44.871804083681475, 45.86353888154213, 44.90661728757943, 454.7711094569478, 104.27291642895291, 119.6346670049088, 127.67528635861008, 324.40027730313386, 95.58504325358828, 189.45631972961493, 805.7660208834689, 134.0833590682228, 85.76474583104479, 100.37508206490875, 104.28408007956548, 97.5592708106877, 151.96188147051555, 109.21755350019086, 564.1729821491788, 288.333834666981, 119.91481058155121, 558.8724442361989, 917.8255012598876, 194.95677849389264, 337.00612516631173, 489.7168130769318, 194.01932465950227, 185.33819542717163, 227.4851125306581, 240.30235601387818, 165.81439798898532, 529.7331566115432, 141.7554589947766, 215.53704160242594, 173.5864034379883, 238.74974842860223, 223.35476311574072, 185.2080016395359, 379.33649216117584, 271.71130531340157, 219.11524783868572, 154.40150515069297, 187.7963946899257, 214.30234184467605, 178.26567504384556, 137.32769457546, 69.72322583901848, 66.80675232403652, 51.3574225576952, 47.50296427072764, 56.05439064848948, 42.639021818658556, 165.01714466958737, 44.49943647735798, 46.39661518386719, 89.05870843299391, 41.56393994045169, 36.774324020131644, 29.1051268322433, 34.80713483520431, 29.08347909211305, 29.07778433076138, 51.86914139763651, 33.797857588761694, 29.031866381410808, 34.73613699492466, 28.073470883016686, 39.44101747530628, 28.04637578427911, 35.62378880313104, 23.288681565327238, 23.265185051961964, 22.32147178188683, 23.267492644831954, 27.05193595514967, 161.5042416150001, 56.02554348849877, 35.88116412718978, 48.35129478639406, 63.45344653071085, 143.30624936605068, 134.26654893204807, 100.34854132505279, 240.2696823995501, 216.80044631139933, 67.08997448753182, 414.7465004090145, 283.9133437877527, 92.33599411032971, 68.46887143402698, 66.91422407618032, 72.27723184237536, 174.17630014502353, 468.42890150227817, 204.10719211353305, 114.35112281770421, 565.7740184932908, 124.44843849616288, 197.50405784926224, 214.15141966128684, 121.61502932803707, 216.47641169155042, 166.89735154783443, 152.62863667397446, 105.76277495402255, 90.94405229185996, 100.55441639420218, 206.88407650192343, 89.32916911311268, 83.94361620956018, 132.4071148878626, 90.62232976311276, 92.42069622023863, 69.55182949261489, 183.8477042522572, 108.56108950542715, 17.00208657964746, 17.00514354894846, 12.737636693367678, 11.071117791640054, 10.228846453570196, 9.37726361787065, 68.68090699695163, 8.526541465619845, 8.512713951647571, 7.685317692464687, 7.683650332596363, 7.679907559750551, 7.6706294950436735, 7.669257030699618, 210.27606282834202, 6.838861666889828, 6.835247910835884, 6.832815022760663, 6.824557090826694, 122.88635283249056, 6.798815026144956, 5.9853337208863095, 5.98478122040552, 5.142124117841705, 5.139234741781969, 5.137202620153247, 86.53093993900228, 134.79895243086952, 127.80647205582342, 78.89480550500822, 77.18872516854368, 44.335073181114176, 23.370856062828732, 13.614765711111474, 69.27920200944573, 22.08964473844619, 74.21003348414854, 50.566057874107244, 23.63122137861665, 25.49443302326854, 14.458499525240644, 189.83740268407902, 181.17029978116892, 38.40016702350512, 196.7098125744994, 23.85985284987725, 78.64446663704545, 33.131981927073774, 79.00284013742247, 82.4611828210592, 52.58884571658375, 30.547716435406425, 68.49137832930737, 69.6284474646413, 43.36830964006344, 44.18987828362428, 73.78995138080933, 53.74489446502035, 45.03876248237499, 44.63466988868307, 46.5071501682431, 44.75946898875026, 44.98045889401279, 70.43945009710707, 23.261518717869926, 11.664828256611688, 8.568787707438135, 8.560791861022194, 5.47082727509182, 5.470981280855516, 42.53844091520266, 4.693711700822123, 4.691807591824619, 4.6932878736395525, 4.690733702577498, 3.920434232458448, 3.9195400857872853, 3.919780434405021, 3.9193520410138234, 3.918970139928647, 3.917513934486475, 3.9184300819810227, 3.918590314392847, 27.362580125430373, 3.148308486443492, 3.1485928367079983, 3.147526626993568, 3.147279429062892, 3.14812044167003, 3.1453923395702708, 3.145974531170227, 3.145552571982095, 3.1447009740731393, 11.666959430710923, 8.547462682929792, 4.452137678734619, 15.043072122017, 3.777200570023585, 10.109174941639889, 62.63626779731931, 22.487626056671218, 5.46809751255256, 7.769914564170145, 65.09299430683127, 20.169873352054903, 64.38769274096973, 13.186263234351694, 7.779534320417835, 81.32809428600899, 12.169828514836533, 9.27414655846246, 7.760433454620769, 12.34186000975294, 31.332407036608245, 55.83273649457298, 71.00991069199037, 10.694561227195589, 30.816608110090165, 17.87470594552801, 18.263635671111032, 24.49034357480712, 10.884984580242232, 28.76297985642126, 33.60472845604409, 27.079764107022832, 18.718192607522344, 12.522103208220384, 12.716326477064534, 12.284683605763798, 12.958753134835682, 14.172930424716865, 14.330780105857224, 13.285561667596278, 13.83423231491103, 13.553919409050895, 13.467245297330638, 11.715140373771144, 7.508524414925114, 5.048203062889826, 5.048153806991651, 5.0435547961965295, 14.91103192471332, 5.005906319471491, 5.002828446708235, 4.221598858023586, 4.220032189329541, 82.95385980955179, 5.704526730360222, 5.739702478213867, 4.200322793502764, 4.182368397745406, 4.179788464860337, 109.97732438790213, 4.1780595414428925, 5.629945022221454, 3.386449789611806, 3.3819180400221747, 3.379688072363213, 3.3709538426545222, 10.05654775627852, 3.3551050330653562, 4.7762235827920225, 15.5327026191149, 3.9645848926686886, 2.5556234436587473, 2.5551335751252195, 33.04253202398246, 7.545792503663408, 17.708227195734075, 119.30196426617334, 11.414619791129299, 22.95295715319, 41.78454499241534, 97.54669200941453, 23.141187533276984, 22.69218897778094, 29.28725241317777, 20.48228461206602, 8.208329036945592, 7.338274507247462, 16.812102636702853, 113.32222206737977, 36.60745041971021, 28.55584785594509, 22.120537441018254, 24.186397692544926, 45.014980242837105, 8.651357280884723, 15.017676325158067, 21.884402181677896, 46.09603048371139, 21.9452410803108, 15.049117316967758, 22.135337389716874, 27.0683776791835, 37.987698370532506, 33.10737762088706, 18.265413227207596, 20.644060849597174, 24.34154963264424, 20.144077886424064, 24.704963788528566, 20.50126841470372, 19.289811734708934, 15.226049598572104, 9.441354901666399, 7.270227037721519, 6.553294479478329, 5.834197993045451, 5.834883069225814, 5.829157550080818, 22.44643180854192, 4.387380843738742, 4.387272815075629, 4.386211651530825, 4.380185195395727, 9.44805066582296, 3.664073587893649, 3.6625598446390946, 3.662622917274701, 3.663092271621581, 3.660259706395915, 3.6570262273428575, 2.9411132315443913, 2.940454994783435, 2.9399611494663462, 2.94006280376735, 2.939286473561003, 2.939774280008725, 2.9402131045160296, 2.939587746043846, 2.938397753285889, 2.9378767330566506, 2.9386027393516096, 23.180986458582257, 6.555243692312762, 21.002448230939105, 12.079884544729243, 23.883569992224984, 41.02830661156754, 25.050231242892114, 22.614870636856338, 19.105601787711098, 21.322751204113153, 8.001199296256507, 74.39346513712097, 23.525440883309688, 11.335722724512172, 22.8995805139838, 23.523860041506616, 8.004290526386708, 18.854413003452002, 56.55866557328906, 23.583008753995752, 19.94016548234578, 35.09776919354616, 25.828571721753022, 22.11462814415198, 22.094632776693768, 22.113479417001358, 29.04690260649741, 22.102147814127726, 30.917143133267267, 39.05734579558905, 23.54198470143216, 20.81217419296613, 21.90624152399219, 22.26178733878956, 38.334562211803494, 23.279581914356953, 5.695873290676792, 3.80953601597258, 17.634200239440858, 3.1818421281995066, 2.554633068602059, 2.55447466522646, 2.5545633868197326, 2.5546016627283343, 2.55281054649247, 2.553381544534128, 1.9264433605975564, 1.925665083789315, 1.9262608139565314, 1.9260869039307804, 1.9256450625448154, 1.9259648135966756, 1.9259640284498325, 1.926065116105884, 1.9266064748542142, 1.9259361557369017, 1.9260111372604196, 1.9250864305659365, 1.9264309945347773, 1.925791492431057, 1.9257651900118127, 1.9252899798850152, 15.744549645058687, 1.2982886897709278, 12.603434653905431, 11.345744042668418, 10.717567682160247, 8.838170320402362, 16.383057752875455, 9.462662771922618, 44.064070800666066, 8.836438286466443, 66.93008132629132, 4.438543061840769, 22.7229489193406, 23.968326857783826, 13.880356651917793, 3.18388723943912, 3.183522735017202, 3.181457209959668, 2.554638564629961, 38.49443067141194, 7.595720194537125, 12.639973032543645, 29.797029328512327, 17.68663862679907, 4.439914713375698, 6.956338218283966, 17.212793085214834, 26.6495672102793, 5.698623660068236, 10.763955727945385, 12.097891949117653, 10.832429169280607, 13.511742771423068, 8.879722646780731, 7.607265778865185, 9.000630549739947, 7.641023167385072, 5.767823715339126, 5.135116577087588, 4.500851456921762, 3.866414007425076, 3.858662306619299, 2.5912578602760115, 2.5887286739201585, 2.587829793213604, 2.5864304946424372, 1.9536557112802566, 1.9539851644127826, 1.9538440259110377, 1.9541615875399636, 1.9540266872040417, 1.9539929621200613, 1.9532422378518024, 1.9526351863401539, 1.9520472392113384, 1.9520848631489582, 1.9509986425250323, 1.9515244029383, 1.950525321693214, 2.3862635437403434, 1.316703306243501, 1.3165426734735592, 1.3167249448811995, 1.316465183757477, 1.3165241539187724, 1.316941721143548, 1.316281840165086, 3.229323972854851, 7.421819579121264, 6.40756438555607, 6.630513702871722, 4.504047347249946, 3.039952752737465, 17.372137756313798, 3.8624270396934657, 58.111945632233734, 8.68738357160409, 7.627228343798796, 3.6660371032545025, 3.2281016822389113, 7.675057140934289, 2.587576952555091, 3.6485717984916226, 8.766345494820607, 7.909851565491683, 3.0285749231044004, 17.00769943031111, 5.770710426573708, 29.984009150186605, 33.161038384004755, 14.771683475015944, 12.968363076387748, 12.348510848470546, 12.314324140219176, 11.925999097509584, 12.34575747803043, 12.330675152611928, 12.502896095340494, 11.627640102528238, 12.549662064973896, 12.220008531370858, 14.226979311685234, 6.763303199433251, 9.472105063827481, 7.1448988207613064, 7.142077610267865, 7.521654405181461, 7.305934732169275, 10.792373124581918, 9.606259815103176, 9.601655691410231, 7.210583254249792, 5.416708222301124, 4.821580822219146, 4.2243737942408135, 3.6291331415985435, 3.626104930983135, 3.028724138047098, 3.0294317814957243, 7.21366476018769, 2.4320389601014862, 2.431449750702839, 2.431574106455318, 2.43034701866561, 2.4303590471238112, 2.4290853259269243, 2.429832940867419, 2.4296236456947207, 2.428533682328505, 2.429695816443927, 1.8334945526244029, 1.8343661532109692, 1.8331858838816442, 1.8333837057557503, 1.8328389091258455, 1.8330826241943186, 1.8329923182312093, 1.8331520191454782, 16.782171501221523, 27.571402422414927, 11.413943887173026, 4.222233098787438, 7.816494074582385, 47.948116920512916, 6.623396857218927, 12.00547015192282, 4.8295184943126035, 75.4378649871696, 3.6282589502671336, 22.2623207729261, 6.628306688803382, 3.628193811539645, 11.434846016568748, 6.622708459303422, 18.072104839124943, 13.319497416868904, 13.855335991318425, 17.756139078462013, 10.85982575732201, 15.386556499670318, 10.99142967365902, 7.879827423021634, 13.106252468604279, 7.8822027659365315, 8.507011959581762, 7.922589517192289, 7.232403987745667, 6.6619204928259474, 6.703618160972413, 0.8648923813563811, 0.8643768499421398, 0.5827151313424968, 0.5823720484892185, 0.5824647157493853, 0.582339019495886, 0.5825336114382944, 0.5823204116123183, 0.5822737988639813, 0.5823145501289945, 1.147190722172582, 1.1464691084478291, 0.30054723179010506, 0.30055407018731617, 0.30046910193897547, 0.30048554665607835, 0.30037061971519374, 0.3003349390984528, 0.30038936715788817, 0.30027832461269827, 0.3002948158495101, 0.300431118596643, 0.3002657875511446, 0.30037636489924524, 0.3002515292603609, 0.30023252595926747, 0.30034596426946664, 0.30036745637498724, 0.30027541713089084, 0.30013857940710537, 0.8646624809549031, 5.943206915487354, 1.1474266701362195, 2.841111208333596, 0.5828564582181929, 0.8657883509501626, 0.5831339948016041, 1.7123022839432998, 0.5831481833128245, 0.5829606623661716, 0.583200192347396, 0.8663096508083099, 1.148429542021097, 0.8642450130870631, 1.4306148399446246, 1.4316852584468525, 0.5829175851157126, 6.062888356702312, 1.1497481896901174, 2.871550914667708, 3.18018369054533, 0.8661497160490461, 3.053673900376393, 1.149757679710737, 3.1456255013411933, 2.7254983808607003, 1.7488461204029382, 1.4422176927038042, 1.7454797681867178, 0.8665640205766794, 1.444847358809582, 1.154137231187215, 1.1705731095454157, 1.2256246261196753, 1.2187588753197258, 1.244443057889876, 0.9274353388155518, 0.9103330191073762, 0.8720450657209435, 0.8694504754756907, 1.80736364880621e-05, 1.8185680929121546e-05, 1.8097955024178236e-05, 1.8057621274779015e-05, 1.8045528906449515e-05, 1.803851316100113e-05, 1.8010316379750454e-05, 1.8060931357001345e-05, 1.80591803293231e-05, 1.8063587954918506e-05, 1.80286624183594e-05, 1.8080159696378398e-05, 1.804219555475638e-05, 1.8056989120822084e-05, 1.8050289452352164e-05, 1.805010717483084e-05, 1.8027516396922143e-05, 1.803526706982352e-05, 1.8027968212480315e-05, 1.803870707325786e-05, 1.8040991359642103e-05, 1.8039975259416852e-05, 1.8013333654465126e-05, 1.8041082498402765e-05, 1.8024462278878692e-05, 1.8039166645306303e-05, 1.8039457513691393e-05, 1.802753190990268e-05, 1.8032401046669096e-05, 1.803634716109349e-05, 1.8037898459147308e-05, 1.8035982606050843e-05, 1.8038596543271526e-05, 1.8036913384883134e-05, 1.8035811963264924e-05, 0.0001034658791691967, 0.00014811499071207414, 0.00015451370735955277, 0.00011925657308495347, 9.944762938529914e-05, 9.402433792809911e-05, 8.009883171436778e-05, 7.684553475729727e-05, 9.621277736208851e-05, 0.00010102919326414535, 7.489993552065227e-05, 9.28420548988344e-05, 7.737731197365522e-05, 9.463023616546839e-05, 6.2307106804258e-05, 7.057504065045684e-05, 8.177766198118826e-05, 7.134730009111738e-05, 6.019018996703979e-05, 6.436629208440343e-05, 5.545019100711395e-05, 6.169730317403823e-05, 6.24305474686453e-05, 5.87911401824702e-05, 5.4171083709820285e-05, 5.684022774999087e-05, 6.369660834930636e-05, 6.426033842732779e-05, 7.080648656359596e-05, 6.013879546251686e-05, 6.222934023282019e-05, 5.9674724649717725e-05, 5.8080847342569346e-05, 1.732725726544155e-05, 1.7334179414764187e-05, 1.732312323025841e-05, 1.7360733511988494e-05, 1.728836524403596e-05, 1.7253590268627825e-05, 1.7242975802949838e-05, 1.726983381782916e-05, 1.7285124084944886e-05, 1.7327064721337127e-05, 1.71798194490127e-05, 1.729652949160084e-05, 1.73507646353665e-05, 1.71940677127398e-05, 1.7384433426017866e-05, 1.7154592395959054e-05, 1.7123426678665153e-05, 1.7111260534028012e-05, 1.713550032662468e-05, 1.7131690973656838e-05, 1.713121527645768e-05, 1.713080942368856e-05, 1.7117051958659003e-05, 1.7128227067464572e-05, 1.7111687151357414e-05, 1.710858379343911e-05, 1.7115600327126658e-05, 1.7130120417824702e-05, 1.7116814110059426e-05, 1.711425063070842e-05, 1.7123656976515536e-05, 1.7121723984722143e-05, 1.7120468672668815e-05, 1.7125146361793846e-05, 1.7122197794234e-05, 1.7123494635407888e-05, 0.0002909151742970007, 0.0003129353033564147, 0.00030376585475447646, 0.00014444090897266636, 0.00017951145090720804, 0.0001411912326365028, 0.0001439726870152115, 0.00017109155007615556, 0.00017776517403985604, 0.0001472550429938822, 0.00011633385671259332, 0.00014945948422076405, 0.00012705407063303055, 0.00012279017011452068, 0.00012002390029243896, 0.00011030237111250893, 8.954630542473754e-05, 8.558947877440658e-05, 0.00010650504648812986, 9.646754865747162e-05, 8.847104098591545e-05, 8.617943391035017e-05, 7.887520157705127e-05, 7.505468105115145e-05, 8.38307507216354e-05, 8.450183865765725e-05, 8.517101625413327e-05, 7.921392818584702e-05, 8.817255231956893e-05, 6.947154383664606e-05, 9.189646100954495e-05, 0.00010685315867817244, 8.414482413431616e-05, 8.750511894615647e-05, 1.714912781659037e-05, 1.7152089114861755e-05, 1.7141693380037916e-05, 1.7109210836917334e-05, 1.708014277711958e-05, 1.7109579623133285e-05, 1.7120588166893087e-05, 1.704112115900567e-05, 1.7078621763323432e-05, 1.711313354801041e-05, 1.7121305556994767e-05, 1.7152237730202512e-05, 1.7116304008613232e-05, 1.7114238071900975e-05, 1.711337206645854e-05, 1.7151580887091513e-05, 1.7136066179419366e-05, 1.712975277957312e-05, 1.712700614790505e-05, 1.712338617176537e-05, 1.7125609897604848e-05, 1.710932642662681e-05, 1.7103686382707207e-05, 1.711087863129694e-05, 1.711709295424935e-05, 1.711175564528314e-05, 1.7107122883117558e-05, 1.711928365445755e-05, 1.7116047142592168e-05, 1.7107064170884173e-05, 1.7118918537756182e-05, 1.711175564528314e-05, 0.0001423775475896053, 0.00012802892358473105, 0.00010954950499263343, 0.00010331114671968374, 9.216319076170899e-05, 9.728014537699366e-05, 8.487408900397384e-05, 8.754952475003489e-05, 8.888580050383287e-05, 7.737817340413791e-05, 9.148667905252337e-05, 7.351189210637503e-05, 7.429434270167578e-05, 6.873237871344494e-05, 7.259999571451735e-05, 6.646262982202007e-05, 7.879983142333692e-05, 6.821294424565334e-05, 6.978977869769048e-05, 6.470542404999317e-05, 6.0572247947803086e-05, 6.25867857692445e-05, 5.994390228708119e-05, 6.0833917363458965e-05, 6.282865815370566e-05, 4.765550156025154e-05, 5.4951975372791164e-05, 5.352419660326171e-05, 5.527013696550775e-05, 4.8812800409602685e-05, 4.950980635775446e-05, 5.1723998798338205e-05, 5.2354142521207544e-05, 1.7212896536868206e-05, 1.7202073695583628e-05, 1.7222124008461566e-05, 1.7205755882181295e-05, 1.7187508153678614e-05, 1.7182764221045064e-05, 1.7193247817050477e-05, 1.720455293675895e-05, 1.7175570387368448e-05, 1.7148676488642657e-05, 1.7193777773189284e-05, 1.722991197981629e-05, 1.719015059933959e-05, 1.7220150884567594e-05, 1.719329366100712e-05, 1.7369514162831136e-05, 1.7379460467664677e-05, 1.736407156829833e-05, 1.7370478719678934e-05, 1.7356776877917094e-05, 1.73647482250984e-05, 1.7367711578455886e-05, 1.735265642309391e-05, 1.735846576927987e-05, 1.7355680290474163e-05, 1.733133348197953e-05, 1.735408125326641e-05, 1.7357794613754597e-05, 1.73506961355078e-05, 1.7341380643517684e-05, 1.7351829398116047e-05, 1.735191375099627e-05, 0.00010522110063514498, 9.00873944040963e-05, 0.00010332987972035825, 7.887854700457388e-05, 8.554861531028927e-05, 8.464697837610908e-05, 8.000690247570088e-05, 7.002285156201885e-05, 7.863194319299305e-05, 6.852666618787747e-05, 7.464454586957097e-05, 7.337824776665966e-05, 5.293331010993076e-05, 5.983017397044011e-05, 5.85383536199858e-05, 5.0819236220621476e-05, 5.3430060554061875e-05, 5.477249630016798e-05, 5.37424779498012e-05, 5.1764230535237534e-05, 5.28633742371908e-05, 4.830792628074791e-05, 5.527136290133779e-05, 4.8934198738706925e-05, 5.359266356700428e-05, 4.57897507499273e-05, 5.1288025518716115e-05, 4.6698007551446914e-05, 4.5648833762235895e-05, 4.1158502561810514e-05, 4.637667809053594e-05, 4.670203815211508e-05, 4.6230479879039124e-05, 1.7072283098264024e-05, 1.7030126113994056e-05, 1.7073829672841257e-05, 1.703780951115323e-05, 1.701179993822756e-05, 1.701059236400197e-05, 1.6986787209579162e-05, 1.700851621590244e-05, 1.7009084270545734e-05, 1.7014697016908377e-05, 1.7048278208498892e-05, 1.7053975246840862e-05, 1.7015325541884667e-05, 1.7048769300900195e-05, 1.704408376631016e-05, 1.7022116543523568e-05, 1.7021618121384933e-05, 1.7018638583159122e-05, 1.7027243694787905e-05, 1.7019380719064077e-05, 1.7025678795867338e-05, 1.7030122449125388e-05, 1.7028015149642188e-05, 1.7019785687051715e-05, 1.702242072762288e-05, 1.702075137994532e-05, 1.7012994685412818e-05, 1.701884748067311e-05, 1.7010420115174648e-05, 1.701919564319642e-05, 1.7020480179664005e-05, 1.702173173231359e-05, 0.000168804217262733, 0.00014205063201935407, 0.00010658868846712164, 9.442296635572935e-05, 0.00010846636193915616, 9.906017598752732e-05, 9.830630517310489e-05, 9.380119939725713e-05, 7.335485312880798e-05, 8.127643010261448e-05, 8.00883749675425e-05, 7.240476524598478e-05, 6.573152316707574e-05, 6.979551069075705e-05, 6.773781886982737e-05, 6.41739613135794e-05, 6.77833878468258e-05, 6.901791351658813e-05, 6.796675588568206e-05, 6.272726173724262e-05, 6.40389402221707e-05, 6.558294206160124e-05, 6.931553017125176e-05, 6.140197559495608e-05, 6.156800514015145e-05, 5.2772602535601534e-05, 6.117264643815408e-05, 5.790503121081982e-05, 5.695377423489201e-05, 6.863473683803798e-05, 5.290436555876577e-05], \"Total\": [620.0, 1049.0, 492.0, 689.0, 853.0, 545.0, 345.0, 745.0, 633.0, 611.0, 461.0, 360.0, 463.0, 368.0, 551.0, 250.0, 339.0, 364.0, 199.0, 193.0, 255.0, 279.0, 219.0, 224.0, 276.0, 186.0, 334.0, 368.0, 260.0, 311.0, 339.26173594388877, 260.97136102142167, 188.44245068436237, 125.80093547207568, 114.05946861249222, 104.32444917020126, 111.16812260570616, 89.57101171842544, 107.1780110203907, 95.44535987023939, 85.66898575794816, 83.65519179837901, 72.97846057228503, 69.05317483671325, 77.81723416257599, 63.17991483914527, 56.31131391197827, 52.431727454235414, 57.27954675315953, 53.37221178442294, 55.32168799528572, 51.39202477083141, 51.40935537174311, 52.38361840599852, 51.43423495464546, 53.360755252702305, 46.53510469265304, 45.50089592526041, 46.51424949097583, 45.54966645585089, 463.2418983109062, 105.89017506963597, 121.74933812519313, 130.12227933498667, 334.6035761457444, 97.45162654911564, 194.61799351955054, 853.6798986301466, 137.18555317292885, 87.39145840366068, 102.79225098100406, 106.89662663355747, 99.87691528131742, 157.16744277588205, 112.23412485319588, 611.4529566957765, 305.56508335436723, 123.71945555201576, 620.8120684504049, 1049.1901535272875, 205.88463119758546, 368.69753108883157, 551.3391984728654, 207.34556518469068, 197.87576191612413, 251.5602841008323, 276.6392725185404, 182.71438480796826, 745.7158649028732, 152.8906660110333, 255.06450525455307, 196.0436174767247, 291.3669030871105, 278.04496309736305, 219.41564943610655, 633.3795315080503, 393.58008595865493, 314.4066582675317, 177.24135454524873, 254.0863959457162, 368.4110164215575, 279.94538991984, 138.3791001527691, 70.42551782922085, 67.51676533241276, 51.98377668682317, 48.096563831444165, 56.80426061359409, 43.233896468542206, 167.3852870407062, 45.1579455858497, 47.096574294678156, 90.46722786143022, 42.236658168798165, 37.40028301050323, 29.641540957738982, 35.45631006615565, 29.631519544472965, 29.630135431701717, 52.90000179287701, 34.47468378634624, 29.61806344528767, 35.44743954761805, 28.650484222376246, 40.263240270747104, 28.656059167712105, 36.409861138048086, 23.810611721578766, 23.7971807266129, 22.83242328452843, 23.800612127468177, 27.67659141960574, 166.47697130666054, 57.45059012502355, 36.734522650430485, 49.68008435169537, 65.39184623931594, 149.74140953798522, 140.71747428811994, 104.80018916639301, 255.71310075040338, 233.12362609221023, 69.84548962029758, 461.5631347034888, 311.71641042302866, 97.93747953922835, 71.74571456866381, 70.08826452134511, 76.1337497098908, 192.210773637091, 545.3362193270596, 228.4073669681665, 123.52121760255108, 689.6280229523137, 136.20801242255888, 223.99851972890497, 245.88740758978454, 133.17607744933804, 250.625012922114, 202.6812720225242, 185.28532209067544, 120.20416315184596, 101.46604912731728, 118.51219052648244, 362.52877476133744, 116.97830394364408, 110.02166546234093, 633.3795315080503, 163.71397527444407, 93.22417999671042, 70.25594222746173, 186.1665833360364, 110.25268166556185, 17.49768071544391, 17.504200121677517, 13.241407410395423, 11.546711358586808, 10.69701385449633, 9.846508877330752, 72.32303529699611, 8.992642983385535, 8.98657691544607, 8.14511010253756, 8.145675555302079, 8.143505679653053, 8.138813176112317, 8.139634002488252, 224.02146914686963, 7.293354629909707, 7.293665294593499, 7.293260078803589, 7.288336606460659, 131.27603370408383, 7.293150055171787, 6.440789082392561, 6.440974764416192, 5.591816365852961, 5.590014734942217, 5.591303678586677, 95.1304619987909, 149.3719887640002, 142.9932640107351, 88.36558295529595, 87.57178633843641, 51.01240261506278, 26.185397323582247, 14.931996297362273, 82.32180356184593, 24.80227369028614, 90.98150597168771, 61.798816973103435, 28.191652420358523, 32.21814732784609, 16.897015999646875, 345.02139811491065, 364.58172826590874, 58.67205748313258, 492.2161581014313, 32.39427042938765, 181.31868047640754, 53.82883749168391, 200.46131018422557, 250.3553017786189, 123.98910245038803, 49.08734563985164, 248.66211410036928, 260.04483454423, 108.11159250940935, 115.19048591943394, 393.58008595865493, 186.97866678050931, 127.93300611255167, 128.02526081423963, 254.0863959457162, 142.28971607898703, 633.3795315080503, 71.19806447740302, 23.806086553256893, 12.148003382401102, 9.040796233567354, 9.037918455206887, 5.927659070059957, 5.930473421345816, 46.466124971785966, 5.15086639026405, 5.150320415754122, 5.152190394875144, 5.15120071662578, 4.373168970957832, 4.372976490404427, 4.373348440121512, 4.373797403117157, 4.374611383868592, 4.373402448796139, 4.374564069093306, 4.3747590022181795, 30.587433776076494, 3.5966562858618847, 3.5977774569968837, 3.59674456234533, 3.5967228049044886, 3.5978430171044935, 3.5949922414605955, 3.59592390755985, 3.5957628401676356, 3.596468462098172, 13.425073677034348, 10.008044861313124, 5.213709471717309, 19.587148202410795, 4.4103000244171, 13.520417170047617, 118.58619116475697, 36.743946576814324, 6.891307982847061, 10.719467138097398, 150.88417570292185, 35.014151786851144, 176.9987685664836, 21.659652682287614, 11.650145959398868, 368.4110164215575, 23.348592617511258, 16.669509627492417, 12.76273786353259, 27.09166968380437, 132.7804121238948, 360.92226509488137, 745.7158649028732, 23.158389134928917, 193.60899062349554, 75.39257623852112, 86.12993507170918, 187.18037439892595, 28.07908218309103, 492.2161581014313, 1049.1901535272875, 633.3795315080503, 236.2945759068256, 46.007570124270586, 54.963288054039054, 47.29871916234614, 69.08904446143573, 167.9030838284588, 230.99170916768617, 105.45899740456863, 278.04496309736305, 291.3669030871105, 254.0863959457162, 12.200663209215909, 8.02375379249274, 5.50853809589714, 5.509813893676874, 5.510053630461603, 16.390102749812467, 5.5176264706062454, 5.517770175365851, 4.671839056100661, 4.673193677203895, 91.89356882568028, 6.319757156677917, 6.3693159714261665, 4.67481793127411, 4.676600481535946, 4.677855780153901, 123.09783323875205, 4.678367382931801, 6.3308879001298255, 3.835424732445764, 3.8346116486513036, 3.835881757360231, 3.8373380366569334, 11.495748154498434, 3.83941779690009, 5.484155943872522, 18.10978402105612, 4.63888596102104, 2.997787346255658, 2.9974829565711922, 38.98980763262463, 8.864425876531104, 21.804100731585304, 193.50326004886335, 14.694840096593959, 32.68476613901583, 64.83781906333647, 173.39155492891922, 34.51419266747235, 34.49497813030225, 46.960493746134894, 32.090295723714135, 10.53226435512297, 9.617529254737846, 28.629811568675287, 360.92226509488137, 95.11797893182927, 66.87295241085029, 47.29871916234614, 53.98651564520326, 145.5187123232317, 12.34193980812846, 29.93992017396879, 56.1720830069368, 193.60899062349554, 62.77880947858243, 31.984861822386055, 68.88888127947048, 105.45899740456863, 236.2945759068256, 186.97866678050931, 55.613416015673494, 89.18284808845736, 181.90194005134967, 120.96632135983567, 853.6798986301466, 230.99170916768617, 109.89164808650438, 15.748421152106893, 9.933441970938764, 7.751932467630198, 7.0283076799978135, 6.301674568558727, 6.303870653769471, 6.301166066953632, 24.684600878551738, 4.847884842144168, 4.848079054763051, 4.848447192984689, 4.848190397310477, 10.574938946415118, 4.120224264726163, 4.12111376936431, 4.1216040533410245, 4.122164957287099, 4.119140000601821, 4.117247613917509, 3.3948130093674336, 3.394141980093242, 3.3936349334937117, 3.3937586306016816, 3.3928708825546767, 3.393845593499019, 3.394504587863814, 3.3940067336194795, 3.3929656885583213, 3.392513549600975, 3.393476756071347, 27.535425532265528, 7.671823705974317, 25.722197690140437, 14.716957527076923, 30.22344702441451, 62.31305422485449, 36.43653083449126, 32.724711322005156, 29.539037023467973, 37.18570021215579, 11.339935970729693, 181.31868047640754, 45.55651350421677, 18.812027435439976, 52.16845164180369, 59.97179622269529, 12.731525455028098, 45.67444123969014, 250.3553017786189, 67.54281218608203, 51.8310795782539, 145.5187123232317, 164.5497431659809, 128.02526081423963, 127.93300611255167, 129.95723203425442, 274.65135598342135, 142.28971607898703, 360.92226509488137, 689.6280229523137, 248.66211410036928, 202.6812720225242, 314.4066582675317, 545.3362193270596, 39.02036667464882, 23.873365541597405, 6.175273953794914, 4.280149449287687, 19.88907322334155, 3.6483957657108927, 3.0147414838122115, 3.0154521216882273, 3.0157278359363624, 3.015892447336277, 3.0150787928744167, 3.0159498692213047, 2.38325403930713, 2.382618880897679, 2.383375261949583, 2.3832834323946477, 2.3828900725853654, 2.3833304377333393, 2.3833359510588887, 2.383491127010082, 2.384209969913291, 2.3836389112302063, 2.3837504049045486, 2.3827150176547374, 2.384440776756807, 2.383764254832807, 2.3838088835239866, 2.3832458676394555, 20.63385119400431, 1.7508542636008573, 17.493056866113438, 17.444792360518612, 16.81737417794302, 14.015440132150433, 31.54606136594175, 21.175455722267255, 199.55313881177605, 22.78775344668521, 492.2161581014313, 8.351047009687518, 108.89552196186756, 134.28613548079343, 56.1720830069368, 5.461536995704802, 5.57585347884085, 5.595423074991328, 3.8630062607268267, 620.8120684504049, 32.90206661374564, 94.84356924703884, 633.3795315080503, 279.94538991984, 11.498406541201765, 34.669417154953614, 345.02139811491065, 1049.1901535272875, 25.280813387686937, 167.9030838284588, 368.4110164215575, 291.3669030871105, 745.7158649028732, 155.72296172318266, 108.53502513459404, 611.4529566957765, 173.39155492891922, 6.25794607098144, 5.617141577056484, 4.971434762188442, 4.333226352233717, 4.333827899832176, 3.05132542903946, 3.0511061737566547, 3.05160054792687, 3.052482505961563, 2.409771711537453, 2.410214579305791, 2.4100431146523182, 2.410456924359456, 2.410689405901872, 2.410678036987763, 2.409863844759626, 2.4103212424231093, 2.4109275435764093, 2.4110079645879114, 2.410809569861847, 2.4115534622593677, 2.410791108332852, 3.1158007683108804, 1.769203549335028, 1.7690293175010119, 1.7694205152891054, 1.7690998351802836, 1.7693020589140265, 1.769929989037095, 1.7690556247015559, 4.418092507213518, 10.804260184319226, 9.306026569730294, 9.841686193573198, 6.9175646713801875, 4.476891224410205, 31.86768092313416, 5.905457205405792, 250.3553017786189, 18.653271930376476, 17.942498041524477, 6.104688559771559, 5.365357351475601, 21.76067559900792, 3.7774721489876937, 6.831634061726398, 31.856230131954028, 28.12553080684578, 5.202558184839165, 116.97830394364408, 17.668882573410215, 545.3362193270596, 689.6280229523137, 145.5187123232317, 115.96834239488075, 128.02526081423963, 127.93300611255167, 118.51219052648244, 129.95723203425442, 142.28971607898703, 164.5497431659809, 192.210773637091, 250.625012922114, 248.66211410036928, 461.5631347034888, 47.861091223991835, 245.88740758978454, 67.28279199413647, 133.17607744933804, 228.4073669681665, 311.71641042302866, 11.31602745504466, 10.12178169134639, 10.118744676715748, 7.708917039632844, 5.9036806089352325, 5.301873832293993, 4.700243274180507, 4.0997916103064265, 4.098652012251142, 3.4950935897753515, 3.4970090314471065, 8.341869822917548, 2.8944296486618795, 2.8943477286734614, 2.8946801774095463, 2.89446434590202, 2.8955140689135788, 2.894354908136735, 2.8961727300107176, 2.896048936151211, 2.8950023085821215, 2.896449315749885, 2.2920956509928563, 2.293330831085096, 2.29267175813163, 2.2929966950147387, 2.292631932371262, 2.2930688101830397, 2.2929794360534355, 2.2933640429192583, 21.528545615716876, 40.544428930030485, 16.1094267602047, 5.664504990196755, 11.237219432700028, 83.22555766944996, 10.033999337646257, 20.21281897406018, 7.246508083356264, 345.02139811491065, 5.065431178862897, 80.29997680536738, 14.79844666029351, 5.996809989915705, 49.13906300492624, 22.010849589619067, 186.97866678050931, 104.06410733419293, 118.90659836485447, 219.41564943610655, 95.11797893182927, 279.94538991984, 129.25224522497527, 49.4398249297428, 276.6392725185404, 52.26115666551688, 75.71630472542145, 67.2646497412277, 45.21447525168959, 33.054836554869034, 86.98051287382312, 1.345517374492064, 1.3458372869522892, 1.0593413756473173, 1.059799126543367, 1.0600690526229384, 1.059857093495785, 1.060236092624213, 1.0599690551018988, 1.06002610271041, 1.0606883887916274, 2.595713946664467, 2.5965673109585157, 0.7737737104906769, 0.773797965700308, 0.7737514670400627, 0.773801688584462, 0.7735224968527401, 0.7734353474852742, 0.7735927833021662, 0.7734423937111099, 0.7734923428777475, 0.773862895278707, 0.7734624231314552, 0.7737593679066328, 0.7734677879891672, 0.7734665051740016, 0.7737632949261569, 0.7738303636544073, 0.7736032151426343, 0.7732605200490533, 2.3086614609286493, 21.659652682287614, 3.560520335953515, 11.492409455584422, 1.7861735806992916, 3.085701950350674, 1.8362991795312649, 8.710139395725331, 2.021165040130558, 2.022723821863418, 2.0243850774436067, 3.8642566734129025, 6.507489374618637, 5.254339739500979, 14.714934603734282, 19.037084909641866, 3.0057579249109443, 492.2161581014313, 14.197636302171146, 155.72296172318266, 255.06450525455307, 7.413772411239204, 633.3795315080503, 20.325342458202254, 1049.1901535272875, 620.8120684504049, 121.58544485182625, 60.22095127888947, 176.9987685664836, 7.6318362145734815, 108.89552196186756, 39.487633000146204, 82.02052261408436, 222.59967369421895, 254.0863959457162, 551.3391984728654, 276.6392725185404, 219.41564943610655, 37.25056180201684, 19.15793713512261, 0.4943020929075612, 0.49818913865887904, 0.49622503962648673, 0.49574694718893125, 0.4956332548414466, 0.49580409626849603, 0.49506850280459813, 0.49713342595043075, 0.4978545701497002, 0.4995107852970525, 0.5010951500259653, 0.5035381025670586, 0.5039764090002561, 0.5057856943126131, 0.5522928411304769, 0.7733814255648109, 0.7725459730384763, 0.7728880685259641, 0.772665103895556, 0.7731424548311754, 0.7733263214266416, 0.7733247219294499, 0.7721869268756723, 0.7733790555056412, 0.7726751556121545, 0.773337860739646, 0.7733552239785855, 0.7729515289028461, 0.7731850633588091, 0.7733560787125879, 0.7734819014673056, 0.7734624231314552, 0.7736404320566473, 0.7735915351364844, 0.7736032151426343, 181.31868047640754, 689.6280229523137, 1049.1901535272875, 545.3362193270596, 492.2161581014313, 461.5631347034888, 250.3553017786189, 250.625012922114, 633.3795315080503, 853.6798986301466, 245.88740758978454, 611.4529566957765, 311.71641042302866, 745.7158649028732, 142.28971607898703, 248.66211410036928, 551.3391984728654, 360.92226509488137, 164.5497431659809, 230.99170916768617, 129.95723203425442, 223.99851972890497, 255.71310075040338, 192.210773637091, 127.93300611255167, 185.28532209067544, 345.02139811491065, 364.58172826590874, 620.8120684504049, 274.65135598342135, 368.4110164215575, 314.4066582675317, 260.04483454423, 0.4943020929075612, 0.49506850280459813, 0.4956332548414466, 0.4978545701497002, 0.49580409626849603, 0.49574694718893125, 0.49622503962648673, 0.49713342595043075, 0.4995107852970525, 0.5010951500259653, 0.49818913865887904, 0.5035381025670586, 0.5057856943126131, 0.5039764090002561, 0.5522928411304769, 0.7732459357805527, 0.772665103895556, 0.7721869268756723, 0.7734353474852742, 0.7732878523707413, 0.7732744415367211, 0.773337860739646, 0.7727745886622218, 0.7734185137434124, 0.7726751556121545, 0.7725459730384763, 0.7728880685259641, 0.7735491148179063, 0.7729649460095628, 0.7728516555293617, 0.7733247949022817, 0.7733012642087685, 0.773245184721056, 0.7735692069936639, 0.7733715591354371, 0.7734792098314817, 620.8120684504049, 853.6798986301466, 1049.1901535272875, 278.04496309736305, 551.3391984728654, 305.56508335436723, 339.26173594388877, 633.3795315080503, 745.7158649028732, 463.2418983109062, 260.97136102142167, 611.4529566957765, 368.69753108883157, 334.6035761457444, 314.4066582675317, 368.4110164215575, 196.0436174767247, 169.55710115635944, 393.58008595865493, 276.6392725185404, 205.88463119758546, 188.44245068436237, 139.47026105661976, 125.80093547207568, 197.87576191612413, 207.34556518469068, 236.2945759068256, 177.24135454524873, 274.65135598342135, 114.05946861249222, 360.92226509488137, 689.6280229523137, 251.5602841008323, 545.3362193270596, 0.4943020929075612, 0.49580409626849603, 0.4956332548414466, 0.49506850280459813, 0.49574694718893125, 0.49713342595043075, 0.4978545701497002, 0.49622503962648673, 0.49818913865887904, 0.4995107852970525, 0.5010951500259653, 0.5039764090002561, 0.5035381025670586, 0.5057856943126131, 0.5522928411304769, 0.7733409009139456, 0.7733012228006657, 0.7733247219294499, 0.7732605200490533, 0.7733761270468513, 0.7735224968527401, 0.7727872249639385, 0.7725459730384763, 0.7729515289028461, 0.7732531615503242, 0.7731850633588091, 0.7730108935141021, 0.7735927833021662, 0.7734665051740016, 0.773135377821484, 0.7737832626742424, 0.7733951596328571, 1049.1901535272875, 853.6798986301466, 620.8120684504049, 545.3362193270596, 463.2418983109062, 611.4529566957765, 393.58008595865493, 551.3391984728654, 633.3795315080503, 362.52877476133744, 745.7158649028732, 339.26173594388877, 368.4110164215575, 276.6392725185404, 360.92226509488137, 305.56508335436723, 689.6280229523137, 368.69753108883157, 461.5631347034888, 334.6035761457444, 255.06450525455307, 314.4066582675317, 279.94538991984, 345.02139811491065, 492.2161581014313, 118.58619116475697, 278.04496309736305, 260.04483454423, 311.71641042302866, 167.87350416315974, 182.71438480796826, 248.66211410036928, 274.65135598342135, 0.4943020929075612, 0.49506850280459813, 0.49580409626849603, 0.4956332548414466, 0.49574694718893125, 0.49622503962648673, 0.49713342595043075, 0.49818913865887904, 0.4978545701497002, 0.4995107852970525, 0.5010951500259653, 0.5035381025670586, 0.5039764090002561, 0.5057856943126131, 0.5522928411304769, 0.7727872249639385, 0.7735268993457561, 0.7728880685259641, 0.7732039999988897, 0.7728516555293617, 0.7732904761236729, 0.7734423937111099, 0.7727745886622218, 0.7732010414575878, 0.7732011444805867, 0.7721869268756723, 0.7732888362870624, 0.7734624231314552, 0.7732459357805527, 0.7728434661080962, 0.7733247949022817, 0.773410035714009, 620.8120684504049, 492.2161581014313, 1049.1901535272875, 360.92226509488137, 551.3391984728654, 633.3795315080503, 611.4529566957765, 345.02139811491065, 853.6798986301466, 463.2418983109062, 745.7158649028732, 689.6280229523137, 199.55313881177605, 368.69753108883157, 364.58172826590874, 193.60899062349554, 291.3669030871105, 339.26173594388877, 334.6035761457444, 279.94538991984, 362.52877476133744, 230.99170916768617, 545.3362193270596, 255.71310075040338, 461.5631347034888, 186.97866678050931, 393.58008595865493, 224.02146914686963, 200.46131018422557, 118.58619116475697, 274.65135598342135, 368.4110164215575, 305.56508335436723, 0.49506850280459813, 0.4943020929075612, 0.49713342595043075, 0.49622503962648673, 0.4956332548414466, 0.49580409626849603, 0.49574694718893125, 0.4978545701497002, 0.49818913865887904, 0.4995107852970525, 0.5010951500259653, 0.5039764090002561, 0.5035381025670586, 0.5057856943126131, 0.5522928411304769, 0.7725459730384763, 0.7726751556121545, 0.772665103895556, 0.77306381870701, 0.77279649689803, 0.7731577053919033, 0.7734423937111099, 0.773451105735773, 0.7730838557626974, 0.7732605200490533, 0.7731888390437782, 0.7728516555293617, 0.77325372480632, 0.7729515289028461, 0.7734792098314817, 0.7735622976705938, 0.7738303636544073, 1049.1901535272875, 745.7158649028732, 551.3391984728654, 461.5631347034888, 853.6798986301466, 620.8120684504049, 689.6280229523137, 611.4529566957765, 279.94538991984, 463.2418983109062, 545.3362193270596, 362.52877476133744, 250.3553017786189, 345.02139811491065, 314.4066582675317, 278.04496309736305, 360.92226509488137, 393.58008595865493, 368.69753108883157, 274.65135598342135, 311.71641042302866, 368.4110164215575, 492.2161581014313, 276.6392725185404, 339.26173594388877, 150.88417570292185, 334.6035761457444, 255.71310075040338, 236.2945759068256, 633.3795315080503, 255.06450525455307], \"Category\": [\"Default\", \"Default\", \"Default\", \"Default\", \"Default\", \"Default\", \"Default\", \"Default\", \"Default\", \"Default\", \"Default\", \"Default\", \"Default\", \"Default\", \"Default\", \"Default\", \"Default\", \"Default\", \"Default\", \"Default\", \"Default\", \"Default\", \"Default\", \"Default\", \"Default\", \"Default\", \"Default\", \"Default\", \"Default\", \"Default\", \"Topic1\", \"Topic1\", \"Topic1\", \"Topic1\", \"Topic1\", \"Topic1\", \"Topic1\", \"Topic1\", \"Topic1\", \"Topic1\", \"Topic1\", \"Topic1\", \"Topic1\", \"Topic1\", \"Topic1\", \"Topic1\", \"Topic1\", \"Topic1\", \"Topic1\", \"Topic1\", \"Topic1\", \"Topic1\", \"Topic1\", \"Topic1\", \"Topic1\", \"Topic1\", \"Topic1\", \"Topic1\", \"Topic1\", \"Topic1\", \"Topic1\", \"Topic1\", \"Topic1\", \"Topic1\", \"Topic1\", \"Topic1\", \"Topic1\", \"Topic1\", \"Topic1\", \"Topic1\", \"Topic1\", \"Topic1\", \"Topic1\", \"Topic1\", \"Topic1\", \"Topic1\", \"Topic1\", \"Topic1\", \"Topic1\", \"Topic1\", \"Topic1\", \"Topic1\", \"Topic1\", \"Topic1\", \"Topic1\", \"Topic1\", \"Topic1\", \"Topic1\", \"Topic1\", \"Topic1\", \"Topic1\", \"Topic1\", \"Topic1\", \"Topic1\", \"Topic1\", \"Topic1\", \"Topic1\", \"Topic1\", \"Topic1\", \"Topic1\", \"Topic1\", \"Topic1\", \"Topic2\", \"Topic2\", \"Topic2\", \"Topic2\", \"Topic2\", \"Topic2\", \"Topic2\", \"Topic2\", \"Topic2\", \"Topic2\", \"Topic2\", \"Topic2\", \"Topic2\", \"Topic2\", \"Topic2\", \"Topic2\", \"Topic2\", \"Topic2\", \"Topic2\", \"Topic2\", \"Topic2\", \"Topic2\", \"Topic2\", \"Topic2\", \"Topic2\", \"Topic2\", \"Topic2\", \"Topic2\", \"Topic2\", \"Topic2\", \"Topic2\", \"Topic2\", \"Topic2\", \"Topic2\", \"Topic2\", \"Topic2\", \"Topic2\", \"Topic2\", \"Topic2\", \"Topic2\", \"Topic2\", \"Topic2\", \"Topic2\", \"Topic2\", \"Topic2\", \"Topic2\", \"Topic2\", \"Topic2\", \"Topic2\", \"Topic2\", \"Topic2\", \"Topic2\", \"Topic2\", \"Topic2\", \"Topic2\", \"Topic2\", \"Topic2\", \"Topic2\", \"Topic2\", \"Topic2\", \"Topic2\", \"Topic2\", \"Topic2\", \"Topic2\", \"Topic2\", \"Topic2\", \"Topic2\", \"Topic3\", \"Topic3\", \"Topic3\", \"Topic3\", \"Topic3\", \"Topic3\", \"Topic3\", \"Topic3\", \"Topic3\", \"Topic3\", \"Topic3\", \"Topic3\", \"Topic3\", \"Topic3\", \"Topic3\", \"Topic3\", \"Topic3\", \"Topic3\", \"Topic3\", \"Topic3\", \"Topic3\", \"Topic3\", \"Topic3\", \"Topic3\", \"Topic3\", \"Topic3\", \"Topic3\", \"Topic3\", \"Topic3\", \"Topic3\", \"Topic3\", \"Topic3\", \"Topic3\", \"Topic3\", \"Topic3\", \"Topic3\", \"Topic3\", \"Topic3\", \"Topic3\", \"Topic3\", \"Topic3\", \"Topic3\", \"Topic3\", \"Topic3\", \"Topic3\", \"Topic3\", \"Topic3\", \"Topic3\", \"Topic3\", \"Topic3\", \"Topic3\", \"Topic3\", \"Topic3\", \"Topic3\", \"Topic3\", \"Topic3\", \"Topic3\", \"Topic3\", \"Topic3\", \"Topic3\", \"Topic3\", \"Topic3\", \"Topic3\", \"Topic3\", \"Topic3\", \"Topic3\", \"Topic3\", \"Topic4\", \"Topic4\", \"Topic4\", \"Topic4\", \"Topic4\", \"Topic4\", \"Topic4\", \"Topic4\", \"Topic4\", \"Topic4\", \"Topic4\", \"Topic4\", \"Topic4\", \"Topic4\", \"Topic4\", \"Topic4\", \"Topic4\", \"Topic4\", \"Topic4\", \"Topic4\", \"Topic4\", \"Topic4\", \"Topic4\", \"Topic4\", \"Topic4\", \"Topic4\", \"Topic4\", \"Topic4\", \"Topic4\", \"Topic4\", \"Topic4\", \"Topic4\", \"Topic4\", \"Topic4\", \"Topic4\", \"Topic4\", \"Topic4\", \"Topic4\", \"Topic4\", \"Topic4\", \"Topic4\", \"Topic4\", \"Topic4\", \"Topic4\", \"Topic4\", \"Topic4\", \"Topic4\", \"Topic4\", \"Topic4\", \"Topic4\", \"Topic4\", \"Topic4\", \"Topic4\", \"Topic4\", \"Topic4\", \"Topic4\", \"Topic4\", \"Topic4\", \"Topic4\", \"Topic4\", \"Topic4\", \"Topic4\", \"Topic4\", \"Topic4\", \"Topic4\", \"Topic4\", \"Topic4\", \"Topic4\", \"Topic4\", \"Topic4\", \"Topic4\", \"Topic4\", \"Topic4\", \"Topic5\", \"Topic5\", \"Topic5\", \"Topic5\", \"Topic5\", \"Topic5\", \"Topic5\", \"Topic5\", \"Topic5\", \"Topic5\", \"Topic5\", \"Topic5\", \"Topic5\", \"Topic5\", \"Topic5\", \"Topic5\", \"Topic5\", \"Topic5\", \"Topic5\", \"Topic5\", \"Topic5\", \"Topic5\", \"Topic5\", \"Topic5\", \"Topic5\", \"Topic5\", \"Topic5\", \"Topic5\", \"Topic5\", \"Topic5\", \"Topic5\", \"Topic5\", \"Topic5\", \"Topic5\", \"Topic5\", \"Topic5\", \"Topic5\", \"Topic5\", \"Topic5\", \"Topic5\", \"Topic5\", \"Topic5\", \"Topic5\", \"Topic5\", \"Topic5\", \"Topic5\", \"Topic5\", \"Topic5\", \"Topic5\", \"Topic5\", \"Topic5\", \"Topic5\", \"Topic5\", \"Topic5\", \"Topic5\", \"Topic5\", \"Topic5\", \"Topic5\", \"Topic5\", \"Topic5\", \"Topic5\", \"Topic5\", \"Topic5\", \"Topic5\", \"Topic5\", \"Topic5\", \"Topic5\", \"Topic5\", \"Topic6\", \"Topic6\", \"Topic6\", \"Topic6\", \"Topic6\", \"Topic6\", \"Topic6\", \"Topic6\", \"Topic6\", \"Topic6\", \"Topic6\", \"Topic6\", \"Topic6\", \"Topic6\", \"Topic6\", \"Topic6\", \"Topic6\", \"Topic6\", \"Topic6\", \"Topic6\", \"Topic6\", \"Topic6\", \"Topic6\", \"Topic6\", \"Topic6\", \"Topic6\", \"Topic6\", \"Topic6\", \"Topic6\", \"Topic6\", \"Topic6\", \"Topic6\", \"Topic6\", \"Topic6\", \"Topic6\", \"Topic6\", \"Topic6\", \"Topic6\", \"Topic6\", \"Topic6\", \"Topic6\", \"Topic6\", \"Topic6\", \"Topic6\", \"Topic6\", \"Topic6\", \"Topic6\", \"Topic6\", \"Topic6\", \"Topic6\", \"Topic6\", \"Topic6\", \"Topic6\", \"Topic6\", \"Topic6\", \"Topic6\", \"Topic6\", \"Topic6\", \"Topic6\", \"Topic6\", \"Topic6\", \"Topic6\", \"Topic6\", \"Topic6\", \"Topic7\", \"Topic7\", \"Topic7\", \"Topic7\", \"Topic7\", \"Topic7\", \"Topic7\", \"Topic7\", \"Topic7\", \"Topic7\", \"Topic7\", \"Topic7\", \"Topic7\", \"Topic7\", \"Topic7\", \"Topic7\", \"Topic7\", \"Topic7\", \"Topic7\", \"Topic7\", \"Topic7\", \"Topic7\", \"Topic7\", \"Topic7\", \"Topic7\", \"Topic7\", \"Topic7\", \"Topic7\", \"Topic7\", \"Topic7\", \"Topic7\", \"Topic7\", \"Topic7\", \"Topic7\", \"Topic7\", \"Topic7\", \"Topic7\", \"Topic7\", \"Topic7\", \"Topic7\", \"Topic7\", \"Topic7\", \"Topic7\", \"Topic7\", \"Topic7\", \"Topic7\", \"Topic7\", \"Topic7\", \"Topic7\", \"Topic7\", \"Topic7\", \"Topic7\", \"Topic7\", \"Topic7\", \"Topic7\", \"Topic7\", \"Topic7\", \"Topic7\", \"Topic7\", \"Topic7\", \"Topic7\", \"Topic7\", \"Topic7\", \"Topic7\", \"Topic7\", \"Topic8\", \"Topic8\", \"Topic8\", \"Topic8\", \"Topic8\", \"Topic8\", \"Topic8\", \"Topic8\", \"Topic8\", \"Topic8\", \"Topic8\", \"Topic8\", \"Topic8\", \"Topic8\", \"Topic8\", \"Topic8\", \"Topic8\", \"Topic8\", \"Topic8\", \"Topic8\", \"Topic8\", \"Topic8\", \"Topic8\", \"Topic8\", \"Topic8\", \"Topic8\", \"Topic8\", \"Topic8\", \"Topic8\", \"Topic8\", \"Topic8\", \"Topic8\", \"Topic8\", \"Topic8\", \"Topic8\", \"Topic8\", \"Topic8\", \"Topic8\", \"Topic8\", \"Topic8\", \"Topic8\", \"Topic8\", \"Topic8\", \"Topic8\", \"Topic8\", \"Topic8\", \"Topic8\", \"Topic8\", \"Topic8\", \"Topic8\", \"Topic8\", \"Topic8\", \"Topic8\", \"Topic8\", \"Topic8\", \"Topic8\", \"Topic8\", \"Topic8\", \"Topic8\", \"Topic8\", \"Topic8\", \"Topic8\", \"Topic8\", \"Topic8\", \"Topic8\", \"Topic8\", \"Topic8\", \"Topic8\", \"Topic8\", \"Topic8\", \"Topic8\", \"Topic9\", \"Topic9\", \"Topic9\", \"Topic9\", \"Topic9\", \"Topic9\", \"Topic9\", \"Topic9\", \"Topic9\", \"Topic9\", \"Topic9\", \"Topic9\", \"Topic9\", \"Topic9\", \"Topic9\", \"Topic9\", \"Topic9\", \"Topic9\", \"Topic9\", \"Topic9\", \"Topic9\", \"Topic9\", \"Topic9\", \"Topic9\", \"Topic9\", \"Topic9\", \"Topic9\", \"Topic9\", \"Topic9\", \"Topic9\", \"Topic9\", \"Topic9\", \"Topic9\", \"Topic9\", \"Topic9\", \"Topic9\", \"Topic9\", \"Topic9\", \"Topic9\", \"Topic9\", \"Topic9\", \"Topic9\", \"Topic9\", \"Topic9\", \"Topic9\", \"Topic9\", \"Topic9\", \"Topic9\", \"Topic9\", \"Topic9\", \"Topic9\", \"Topic9\", \"Topic9\", \"Topic9\", \"Topic9\", \"Topic9\", \"Topic9\", \"Topic9\", \"Topic9\", \"Topic9\", \"Topic9\", \"Topic10\", \"Topic10\", \"Topic10\", \"Topic10\", \"Topic10\", \"Topic10\", \"Topic10\", \"Topic10\", \"Topic10\", \"Topic10\", \"Topic10\", \"Topic10\", \"Topic10\", \"Topic10\", \"Topic10\", \"Topic10\", \"Topic10\", \"Topic10\", \"Topic10\", \"Topic10\", \"Topic10\", \"Topic10\", \"Topic10\", \"Topic10\", \"Topic10\", \"Topic10\", \"Topic10\", \"Topic10\", \"Topic10\", \"Topic10\", \"Topic10\", \"Topic10\", \"Topic10\", \"Topic10\", \"Topic10\", \"Topic10\", \"Topic10\", \"Topic10\", \"Topic10\", \"Topic10\", \"Topic10\", \"Topic10\", \"Topic10\", \"Topic10\", \"Topic10\", \"Topic10\", \"Topic10\", \"Topic10\", \"Topic10\", \"Topic10\", \"Topic10\", \"Topic10\", \"Topic10\", \"Topic10\", \"Topic10\", \"Topic10\", \"Topic10\", \"Topic10\", \"Topic10\", \"Topic10\", \"Topic10\", \"Topic10\", \"Topic10\", \"Topic10\", \"Topic10\", \"Topic10\", \"Topic10\", \"Topic10\", \"Topic10\", \"Topic10\", \"Topic11\", \"Topic11\", \"Topic11\", \"Topic11\", \"Topic11\", \"Topic11\", \"Topic11\", \"Topic11\", \"Topic11\", \"Topic11\", \"Topic11\", \"Topic11\", \"Topic11\", \"Topic11\", \"Topic11\", \"Topic11\", \"Topic11\", \"Topic11\", \"Topic11\", \"Topic11\", \"Topic11\", \"Topic11\", \"Topic11\", \"Topic11\", \"Topic11\", \"Topic11\", \"Topic11\", \"Topic11\", \"Topic11\", \"Topic11\", \"Topic11\", \"Topic11\", \"Topic11\", \"Topic11\", \"Topic11\", \"Topic11\", \"Topic11\", \"Topic11\", \"Topic11\", \"Topic11\", \"Topic11\", \"Topic11\", \"Topic11\", \"Topic11\", \"Topic11\", \"Topic11\", \"Topic11\", \"Topic11\", \"Topic11\", \"Topic11\", \"Topic11\", \"Topic11\", \"Topic11\", \"Topic11\", \"Topic11\", \"Topic11\", \"Topic11\", \"Topic11\", \"Topic11\", \"Topic11\", \"Topic11\", \"Topic11\", \"Topic11\", \"Topic11\", \"Topic11\", \"Topic11\", \"Topic11\", \"Topic11\", \"Topic12\", \"Topic12\", \"Topic12\", \"Topic12\", \"Topic12\", \"Topic12\", \"Topic12\", \"Topic12\", \"Topic12\", \"Topic12\", \"Topic12\", \"Topic12\", \"Topic12\", \"Topic12\", \"Topic12\", \"Topic12\", \"Topic12\", \"Topic12\", \"Topic12\", \"Topic12\", \"Topic12\", \"Topic12\", \"Topic12\", \"Topic12\", \"Topic12\", \"Topic12\", \"Topic12\", \"Topic12\", \"Topic12\", \"Topic12\", \"Topic12\", \"Topic12\", \"Topic12\", \"Topic12\", \"Topic12\", \"Topic12\", \"Topic12\", \"Topic12\", \"Topic12\", \"Topic12\", \"Topic12\", \"Topic12\", \"Topic12\", \"Topic12\", \"Topic12\", \"Topic12\", \"Topic12\", \"Topic12\", \"Topic12\", \"Topic12\", \"Topic12\", \"Topic12\", \"Topic12\", \"Topic12\", \"Topic12\", \"Topic12\", \"Topic12\", \"Topic12\", \"Topic12\", \"Topic12\", \"Topic12\", \"Topic12\", \"Topic12\", \"Topic12\", \"Topic12\", \"Topic12\", \"Topic12\", \"Topic12\", \"Topic12\", \"Topic12\", \"Topic13\", \"Topic13\", \"Topic13\", \"Topic13\", \"Topic13\", \"Topic13\", \"Topic13\", \"Topic13\", \"Topic13\", \"Topic13\", \"Topic13\", \"Topic13\", \"Topic13\", \"Topic13\", \"Topic13\", \"Topic13\", \"Topic13\", \"Topic13\", \"Topic13\", \"Topic13\", \"Topic13\", \"Topic13\", \"Topic13\", \"Topic13\", \"Topic13\", \"Topic13\", \"Topic13\", \"Topic13\", \"Topic13\", \"Topic13\", \"Topic13\", \"Topic13\", \"Topic13\", \"Topic13\", \"Topic13\", \"Topic13\", \"Topic13\", \"Topic13\", \"Topic13\", \"Topic13\", \"Topic13\", \"Topic13\", \"Topic13\", \"Topic13\", \"Topic13\", \"Topic13\", \"Topic13\", \"Topic13\", \"Topic13\", \"Topic13\", \"Topic13\", \"Topic13\", \"Topic13\", \"Topic13\", \"Topic13\", \"Topic13\", \"Topic13\", \"Topic13\", \"Topic13\", \"Topic13\", \"Topic13\", \"Topic13\", \"Topic13\", \"Topic13\", \"Topic13\", \"Topic14\", \"Topic14\", \"Topic14\", \"Topic14\", \"Topic14\", \"Topic14\", \"Topic14\", \"Topic14\", \"Topic14\", \"Topic14\", \"Topic14\", \"Topic14\", \"Topic14\", \"Topic14\", \"Topic14\", \"Topic14\", \"Topic14\", \"Topic14\", \"Topic14\", \"Topic14\", \"Topic14\", \"Topic14\", \"Topic14\", \"Topic14\", \"Topic14\", \"Topic14\", \"Topic14\", \"Topic14\", \"Topic14\", \"Topic14\", \"Topic14\", \"Topic14\", \"Topic14\", \"Topic14\", \"Topic14\", \"Topic14\", \"Topic14\", \"Topic14\", \"Topic14\", \"Topic14\", \"Topic14\", \"Topic14\", \"Topic14\", \"Topic14\", \"Topic14\", \"Topic14\", \"Topic14\", \"Topic14\", \"Topic14\", \"Topic14\", \"Topic14\", \"Topic14\", \"Topic14\", \"Topic14\", \"Topic14\", \"Topic14\", \"Topic14\", \"Topic14\", \"Topic14\", \"Topic14\", \"Topic14\", \"Topic14\", \"Topic14\", \"Topic14\", \"Topic14\", \"Topic15\", \"Topic15\", \"Topic15\", \"Topic15\", \"Topic15\", \"Topic15\", \"Topic15\", \"Topic15\", \"Topic15\", \"Topic15\", \"Topic15\", \"Topic15\", \"Topic15\", \"Topic15\", \"Topic15\", \"Topic15\", \"Topic15\", \"Topic15\", \"Topic15\", \"Topic15\", \"Topic15\", \"Topic15\", \"Topic15\", \"Topic15\", \"Topic15\", \"Topic15\", \"Topic15\", \"Topic15\", \"Topic15\", \"Topic15\", \"Topic15\", \"Topic15\", \"Topic15\", \"Topic15\", \"Topic15\", \"Topic15\", \"Topic15\", \"Topic15\", \"Topic15\", \"Topic15\", \"Topic15\", \"Topic15\", \"Topic15\", \"Topic15\", \"Topic15\", \"Topic15\", \"Topic15\", \"Topic15\", \"Topic15\", \"Topic15\", \"Topic15\", \"Topic15\", \"Topic15\", \"Topic15\", \"Topic15\", \"Topic15\", \"Topic15\", \"Topic15\", \"Topic15\", \"Topic15\", \"Topic15\", \"Topic15\", \"Topic15\"], \"logprob\": [30.0, 29.0, 28.0, 27.0, 26.0, 25.0, 24.0, 23.0, 22.0, 21.0, 20.0, 19.0, 18.0, 17.0, 16.0, 15.0, 14.0, 13.0, 12.0, 11.0, 10.0, 9.0, 8.0, 7.0, 6.0, 5.0, 4.0, 3.0, 2.0, 1.0, -5.4514, -5.7146, -6.0407, -6.4454, -6.544, -6.6333, -6.5699, -6.7864, -6.607, -6.7232, -6.8317, -6.8559, -6.9926, -7.0479, -6.9288, -7.1379, -7.2532, -7.3251, -7.237, -7.3077, -7.2719, -7.3456, -7.3454, -7.3266, -7.345, -7.3083, -7.4457, -7.4683, -7.4465, -7.4676, -5.1524, -6.6251, -6.4877, -6.4227, -5.4902, -6.7121, -6.028, -4.5804, -6.3737, -6.8206, -6.6632, -6.625, -6.6917, -6.2485, -6.5788, -4.9368, -5.608, -6.4854, -4.9462, -4.4502, -5.9994, -5.4521, -5.0783, -6.0042, -6.05, -5.8451, -5.7903, -6.1613, -4.9998, -6.3181, -5.899, -6.1155, -5.7967, -5.8634, -6.0507, -5.3337, -5.6674, -5.8826, -6.2326, -6.0368, -5.9048, -6.0889, -5.6397, -6.3175, -6.3602, -6.6232, -6.7012, -6.5357, -6.8093, -5.456, -6.7666, -6.7248, -6.0727, -6.8348, -6.9572, -7.1911, -7.0122, -7.1919, -7.1921, -6.6133, -7.0416, -7.1936, -7.0143, -7.2272, -6.8872, -7.2282, -6.989, -7.4141, -7.4151, -7.4565, -7.415, -7.2643, -5.4775, -6.5362, -6.9818, -6.6835, -6.4117, -5.597, -5.6622, -5.9534, -5.0803, -5.1831, -6.356, -4.5344, -4.9134, -6.0366, -6.3357, -6.3586, -6.2815, -5.402, -4.4126, -5.2434, -5.8228, -4.2238, -5.7381, -5.2763, -5.1953, -5.7612, -5.1845, -5.4447, -5.534, -5.9008, -6.0518, -5.9513, -5.2299, -6.0697, -6.1319, -5.6761, -6.0553, -5.0711, -5.3554, -4.3834, -4.9102, -6.7641, -6.764, -7.0529, -7.1931, -7.2723, -7.3592, -5.368, -7.4543, -7.4559, -7.5582, -7.5584, -7.5589, -7.5601, -7.5603, -4.2491, -7.6749, -7.6754, -7.6757, -7.6769, -4.7862, -7.6807, -7.8082, -7.8083, -7.96, -7.9606, -7.961, -5.137, -4.6937, -4.747, -5.2294, -5.2512, -5.8057, -6.446, -6.9863, -5.3593, -6.5024, -5.2906, -5.6742, -6.4349, -6.359, -6.9262, -4.3513, -4.398, -5.9494, -4.3157, -6.4253, -5.2325, -6.097, -5.228, -5.1851, -5.635, -6.1782, -5.3708, -5.3543, -5.8277, -5.809, -5.2963, -5.6132, -5.7899, -5.799, -5.7579, -5.7962, -5.7912, -4.6175, -5.7255, -6.4157, -6.7242, -6.7251, -7.1729, -7.1728, -5.1219, -7.3261, -7.3265, -7.3261, -7.3267, -7.5061, -7.5063, -7.5062, -7.5064, -7.5065, -7.5068, -7.5066, -7.5065, -5.5631, -7.7254, -7.7253, -7.7257, -7.7257, -7.7255, -7.7263, -7.7262, -7.7263, -7.7266, -6.4155, -6.7266, -7.3789, -6.1614, -7.5433, -6.5588, -4.7349, -5.7593, -7.1734, -6.822, -4.6965, -5.8681, -4.7074, -6.2931, -6.8208, -4.4738, -6.3733, -6.6451, -6.8232, -6.3593, -5.4276, -4.8499, -4.6095, -6.5025, -5.4442, -5.9889, -5.9674, -5.674, -6.4849, -5.5132, -5.3576, -5.5735, -5.9428, -6.3448, -6.3294, -6.3639, -6.3105, -6.2209, -6.2099, -6.2856, -6.2451, -6.2656, -6.272, -6.4085, -6.8534, -7.2504, -7.2504, -7.2513, -6.1673, -7.2588, -7.2594, -7.4292, -7.4296, -4.4511, -7.1281, -7.122, -7.4342, -7.4385, -7.4391, -4.1691, -7.4396, -7.1413, -7.6496, -7.651, -7.6516, -7.6542, -6.5612, -7.6589, -7.3057, -6.1265, -7.492, -7.9311, -7.9313, -5.3716, -6.8484, -5.9954, -4.0877, -6.4345, -5.736, -5.1369, -4.2891, -5.7278, -5.7474, -5.4922, -5.8498, -6.7642, -6.8763, -6.0473, -4.1392, -5.2691, -5.5175, -5.7729, -5.6836, -5.0624, -6.7117, -6.1602, -5.7836, -5.0387, -5.7808, -6.1581, -5.7722, -5.571, -5.2321, -5.3696, -5.9644, -5.842, -5.6772, -5.8665, -5.6624, -5.8489, -5.9098, -5.9363, -6.4142, -6.6756, -6.7794, -6.8956, -6.8955, -6.8965, -5.5482, -7.1806, -7.1806, -7.1809, -7.1822, -6.4135, -7.3608, -7.3612, -7.3612, -7.361, -7.3618, -7.3627, -7.5806, -7.5808, -7.5809, -7.5809, -7.5812, -7.581, -7.5809, -7.5811, -7.5815, -7.5817, -7.5814, -5.516, -6.7791, -5.6147, -6.1678, -5.4861, -4.9451, -5.4385, -5.5407, -5.7094, -5.5996, -6.5797, -4.35, -5.5013, -6.2314, -5.5282, -5.5013, -6.5794, -5.7226, -4.6241, -5.4988, -5.6666, -5.1012, -5.4079, -5.5631, -5.564, -5.5632, -5.2904, -5.5637, -5.228, -4.9943, -5.5006, -5.6238, -5.5726, -5.5565, -4.477, -4.9757, -6.3836, -6.7858, -5.2535, -6.9659, -7.1854, -7.1855, -7.1854, -7.1854, -7.1861, -7.1859, -7.4676, -7.468, -7.4677, -7.4678, -7.4681, -7.4679, -7.4679, -7.4678, -7.4676, -7.4679, -7.4679, -7.4683, -7.4676, -7.468, -7.468, -7.4682, -5.3668, -7.8623, -5.5893, -5.6945, -5.7514, -5.9442, -5.3271, -5.876, -4.3377, -5.9444, -3.9197, -6.633, -4.9999, -4.9466, -5.4928, -6.9652, -6.9653, -6.966, -7.1854, -4.4728, -6.0957, -5.5865, -4.7289, -5.2505, -6.6327, -6.1837, -5.2777, -4.8405, -6.3831, -5.7471, -5.6303, -5.7408, -5.5198, -5.9395, -6.0942, -5.926, -6.0898, -6.3641, -6.4803, -6.6122, -6.7641, -6.7661, -7.1643, -7.1653, -7.1656, -7.1662, -7.4467, -7.4466, -7.4466, -7.4465, -7.4466, -7.4466, -7.447, -7.4473, -7.4476, -7.4475, -7.4481, -7.4478, -7.4483, -7.2467, -7.8413, -7.8414, -7.8413, -7.8415, -7.8414, -7.8411, -7.8416, -6.9442, -6.112, -6.259, -6.2248, -6.6115, -7.0046, -5.2616, -6.7651, -4.0541, -5.9546, -6.0847, -6.8173, -6.9445, -6.0785, -7.1657, -6.8221, -5.9455, -6.0483, -7.0084, -5.2828, -6.3636, -4.7158, -4.6151, -5.4237, -5.5539, -5.6029, -5.6057, -5.6377, -5.6031, -5.6044, -5.5905, -5.6631, -5.5868, -5.6134, -5.4613, -6.2049, -5.8681, -6.15, -6.1504, -6.0987, -6.1278, -5.6855, -5.802, -5.8024, -6.0888, -6.3749, -6.4913, -6.6235, -6.7754, -6.7762, -6.9562, -6.956, -6.0884, -7.1757, -7.1759, -7.1758, -7.1763, -7.1763, -7.1769, -7.1766, -7.1766, -7.1771, -7.1766, -7.4582, -7.4577, -7.4583, -7.4582, -7.4585, -7.4584, -7.4584, -7.4583, -5.2441, -4.7476, -5.6295, -6.624, -6.0081, -4.1943, -6.1738, -5.579, -6.4896, -3.7411, -6.7756, -4.9615, -6.173, -6.7756, -5.6277, -6.1739, -5.17, -5.4752, -5.4357, -5.1877, -5.6793, -5.3309, -5.6673, -6.0001, -5.4913, -5.9998, -5.9235, -5.9947, -6.0858, -6.168, -6.1617, -6.8288, -6.8294, -7.2237, -7.2243, -7.2241, -7.2243, -7.224, -7.2243, -7.2244, -7.2244, -6.5463, -6.5469, -7.8858, -7.8857, -7.886, -7.886, -7.8864, -7.8865, -7.8863, -7.8867, -7.8866, -7.8862, -7.8867, -7.8863, -7.8867, -7.8868, -7.8864, -7.8864, -7.8867, -7.8871, -6.829, -4.9014, -6.5461, -5.6394, -7.2234, -6.8277, -7.223, -6.1458, -7.2229, -7.2232, -7.2228, -6.8271, -6.5452, -6.8295, -6.3255, -6.3248, -7.2233, -4.8814, -6.5441, -5.6288, -5.5267, -6.8273, -5.5673, -6.5441, -5.5376, -5.681, -6.1247, -6.3174, -6.1266, -6.8268, -6.3156, -6.5403, -6.5261, -6.4802, -6.4858, -6.4649, -6.7589, -6.7776, -6.8205, -6.8235, -10.2919, -10.2857, -10.2905, -10.2928, -10.2934, -10.2938, -10.2954, -10.2926, -10.2927, -10.2924, -10.2944, -10.2915, -10.2936, -10.2928, -10.2932, -10.2932, -10.2944, -10.294, -10.2944, -10.2938, -10.2937, -10.2937, -10.2952, -10.2937, -10.2946, -10.2938, -10.2938, -10.2944, -10.2941, -10.2939, -10.2938, -10.2939, -10.2938, -10.2939, -10.294, -8.5471, -8.1883, -8.146, -8.405, -8.5867, -8.6428, -8.8031, -8.8445, -8.6198, -8.5709, -8.8702, -8.6554, -8.8376, -8.6363, -9.0542, -8.9296, -8.7823, -8.9188, -9.0888, -9.0217, -9.1708, -9.0641, -9.0523, -9.1123, -9.1942, -9.1461, -9.0322, -9.0234, -8.9264, -9.0897, -9.0555, -9.0974, -9.1245, -10.3072, -10.3068, -10.3074, -10.3052, -10.3094, -10.3114, -10.312, -10.3105, -10.3096, -10.3072, -10.3157, -10.3089, -10.3058, -10.3149, -10.3039, -10.3172, -10.319, -10.3197, -10.3183, -10.3185, -10.3185, -10.3186, -10.3194, -10.3187, -10.3197, -10.3199, -10.3194, -10.3186, -10.3194, -10.3195, -10.319, -10.3191, -10.3192, -10.3189, -10.3191, -10.319, -7.4864, -7.4134, -7.4432, -8.1866, -7.9692, -8.2093, -8.1898, -8.0172, -7.979, -8.1673, -8.403, -8.1524, -8.3148, -8.349, -8.3717, -8.4562, -8.6647, -8.7099, -8.4912, -8.5902, -8.6768, -8.703, -8.7916, -8.8412, -8.7306, -8.7227, -8.7148, -8.7873, -8.6801, -8.9185, -8.6388, -8.488, -8.7269, -8.6877, -10.289, -10.2889, -10.2895, -10.2914, -10.2931, -10.2914, -10.2907, -10.2954, -10.2932, -10.2911, -10.2907, -10.2889, -10.291, -10.2911, -10.2911, -10.2889, -10.2898, -10.2902, -10.2903, -10.2905, -10.2904, -10.2914, -10.2917, -10.2913, -10.2909, -10.2912, -10.2915, -10.2908, -10.291, -10.2915, -10.2908, -10.2912, -8.1725, -8.2787, -8.4346, -8.4932, -8.6074, -8.5534, -8.6898, -8.6588, -8.6436, -8.7823, -8.6148, -8.8335, -8.823, -8.9008, -8.846, -8.9344, -8.7641, -8.9084, -8.8855, -8.9611, -9.0272, -8.9944, -9.0376, -9.0228, -8.9906, -9.267, -9.1245, -9.1509, -9.1188, -9.243, -9.2288, -9.1851, -9.173, -10.2848, -10.2854, -10.2843, -10.2852, -10.2863, -10.2865, -10.2859, -10.2853, -10.287, -10.2885, -10.2859, -10.2838, -10.2861, -10.2844, -10.2859, -10.2757, -10.2752, -10.276, -10.2757, -10.2765, -10.276, -10.2758, -10.2767, -10.2764, -10.2765, -10.2779, -10.2766, -10.2764, -10.2768, -10.2774, -10.2768, -10.2767, -8.4744, -8.6297, -8.4925, -8.7625, -8.6814, -8.692, -8.7483, -8.8816, -8.7657, -8.9032, -8.8177, -8.8348, -9.1614, -9.0389, -9.0608, -9.2022, -9.1521, -9.1273, -9.1462, -9.1838, -9.1627, -9.2529, -9.1182, -9.24, -9.149, -9.3064, -9.193, -9.2867, -9.3095, -9.413, -9.2937, -9.2867, -9.2968, -10.2923, -10.2947, -10.2922, -10.2943, -10.2958, -10.2959, -10.2973, -10.296, -10.296, -10.2957, -10.2937, -10.2933, -10.2956, -10.2936, -10.2939, -10.2952, -10.2952, -10.2954, -10.2949, -10.2954, -10.295, -10.2947, -10.2949, -10.2954, -10.2952, -10.2953, -10.2958, -10.2954, -10.2959, -10.2954, -10.2953, -10.2952, -8.001, -8.1735, -8.4608, -8.5819, -8.4433, -8.534, -8.5416, -8.5885, -8.8344, -8.7319, -8.7466, -8.8475, -8.9441, -8.8842, -8.9141, -8.9681, -8.9134, -8.8954, -8.9107, -8.9909, -8.9702, -8.9464, -8.8911, -9.0123, -9.0096, -9.1637, -9.016, -9.0709, -9.0875, -8.9009, -9.1612], \"loglift\": [30.0, 29.0, 28.0, 27.0, 26.0, 25.0, 24.0, 23.0, 22.0, 21.0, 20.0, 19.0, 18.0, 17.0, 16.0, 15.0, 14.0, 13.0, 12.0, 11.0, 10.0, 9.0, 8.0, 7.0, 6.0, 5.0, 4.0, 3.0, 2.0, 1.0, 0.7213, 0.7206, 0.72, 0.7194, 0.7188, 0.7187, 0.7186, 0.7181, 0.718, 0.7178, 0.7173, 0.7169, 0.7168, 0.7168, 0.7164, 0.7157, 0.7155, 0.715, 0.7146, 0.7145, 0.7145, 0.7144, 0.7143, 0.7143, 0.7142, 0.7142, 0.7136, 0.7134, 0.7133, 0.7132, 0.7089, 0.712, 0.7098, 0.7084, 0.6964, 0.708, 0.7005, 0.6696, 0.7045, 0.7086, 0.7036, 0.7026, 0.7039, 0.6937, 0.7001, 0.6469, 0.6693, 0.6961, 0.6223, 0.5936, 0.6728, 0.6375, 0.6088, 0.6609, 0.6619, 0.6268, 0.5866, 0.6303, 0.3854, 0.6517, 0.559, 0.6057, 0.5282, 0.5083, 0.5579, 0.2147, 0.3568, 0.3663, 0.5894, 0.4251, 0.1856, 0.276, 1.4299, 1.4275, 1.4269, 1.4254, 1.4251, 1.4242, 1.4236, 1.4232, 1.4228, 1.4225, 1.4218, 1.4214, 1.4206, 1.4192, 1.419, 1.4188, 1.4187, 1.4178, 1.4177, 1.4175, 1.4172, 1.4172, 1.4169, 1.416, 1.4157, 1.4153, 1.4149, 1.4149, 1.4148, 1.4147, 1.4072, 1.4124, 1.414, 1.4104, 1.4074, 1.3936, 1.3906, 1.3941, 1.3752, 1.3649, 1.3972, 1.3305, 1.3441, 1.3786, 1.3907, 1.3912, 1.3855, 1.339, 1.2855, 1.325, 1.3604, 1.2395, 1.3472, 1.3116, 1.2993, 1.3467, 1.291, 1.2432, 1.2436, 1.3095, 1.328, 1.2732, 0.8766, 1.1678, 1.167, -0.1277, 0.8461, 2.3934, 2.392, 2.3895, 2.3866, 2.3733, 2.3731, 2.3633, 2.36, 2.3573, 2.3532, 2.3504, 2.3488, 2.3479, 2.3439, 2.3437, 2.3434, 2.3428, 2.3425, 2.3387, 2.3377, 2.3371, 2.3368, 2.3363, 2.336, 2.3319, 2.3287, 2.3286, 2.3182, 2.318, 2.3174, 2.3073, 2.2994, 2.2898, 2.2887, 2.2758, 2.2618, 2.2883, 2.3097, 2.2296, 2.2862, 2.1983, 2.2015, 2.2256, 2.168, 2.2462, 1.8046, 1.7027, 1.9782, 1.4849, 2.0963, 1.5667, 1.9167, 1.4709, 1.2915, 1.5444, 1.9277, 1.1127, 1.0844, 1.4886, 1.444, 0.728, 1.1553, 1.3581, 1.3483, 0.704, 1.2455, -0.2428, 3.1165, 3.1041, 3.0867, 3.0736, 3.073, 3.047, 3.0466, 3.0389, 3.0343, 3.034, 3.034, 3.0336, 3.018, 3.0178, 3.0178, 3.0175, 3.0173, 3.0172, 3.0171, 3.0171, 3.0158, 2.9941, 2.9939, 2.9938, 2.9938, 2.9937, 2.9936, 2.9936, 2.9935, 2.993, 2.9869, 2.9695, 2.9693, 2.8633, 2.9723, 2.8365, 2.489, 2.6362, 2.8959, 2.8054, 2.2866, 2.5757, 2.116, 2.631, 2.7234, 1.6165, 2.4757, 2.5409, 2.6298, 2.341, 1.6832, 1.2609, 0.7757, 2.3546, 1.2895, 1.6879, 1.5763, 1.0935, 2.1796, 0.2874, -0.3139, -0.025, 0.5917, 1.8259, 1.6635, 1.7791, 1.4536, 0.6552, 0.3473, 1.0556, 0.1266, 0.0593, 0.1898, 3.0895, 3.0638, 3.0429, 3.0426, 3.0417, 3.0356, 3.0328, 3.0322, 3.0288, 3.0281, 3.0278, 3.0277, 3.026, 3.0231, 3.0184, 3.0175, 3.0174, 3.017, 3.0128, 3.0056, 3.0045, 3.0035, 3.0005, 2.9964, 2.9953, 2.9919, 2.9766, 2.9731, 2.9706, 2.9705, 2.9646, 2.9691, 2.9221, 2.6465, 2.8775, 2.7767, 2.6908, 2.5549, 2.7304, 2.7113, 2.658, 2.6811, 2.8808, 2.8596, 2.5978, 1.9717, 2.1753, 2.2792, 2.3702, 2.3272, 1.9568, 2.7748, 2.4402, 2.1875, 1.695, 2.0791, 2.3762, 1.9948, 1.7702, 1.3023, 1.3989, 2.0167, 1.6669, 1.1188, 1.3375, -0.4124, 0.7082, 1.3902, 3.3065, 3.2894, 3.276, 3.2702, 3.2631, 3.2629, 3.2623, 3.2451, 3.2404, 3.2403, 3.24, 3.2387, 3.2275, 3.2229, 3.2222, 3.2221, 3.2221, 3.2221, 3.2217, 3.1967, 3.1967, 3.1967, 3.1967, 3.1967, 3.1966, 3.1965, 3.1964, 3.1963, 3.1963, 3.1963, 3.168, 3.1829, 3.1375, 3.1427, 3.1048, 2.9223, 2.9655, 2.9707, 2.9045, 2.784, 2.9915, 2.4493, 2.6793, 2.8337, 2.5168, 2.4043, 2.8761, 2.4554, 1.8526, 2.288, 2.3849, 1.918, 1.4885, 1.5842, 1.584, 1.5692, 1.0936, 1.478, 0.8828, 0.4691, 0.9829, 1.0641, 0.6763, 0.1417, 3.8585, 3.851, 3.7954, 3.7597, 3.7559, 3.7394, 3.7106, 3.7103, 3.7103, 3.7102, 3.7098, 3.7097, 3.6634, 3.6633, 3.6633, 3.6632, 3.6632, 3.6631, 3.6631, 3.6631, 3.6631, 3.663, 3.663, 3.6629, 3.6629, 3.6629, 3.6628, 3.6628, 3.6058, 3.5772, 3.5484, 3.446, 3.4257, 3.4151, 3.221, 3.0707, 2.3658, 2.9289, 1.8809, 3.2442, 2.3092, 2.153, 2.4783, 3.3366, 3.3158, 3.3116, 3.4627, 1.0957, 2.4103, 1.8608, 0.8196, 1.1144, 2.9246, 2.27, 0.8783, 0.2032, 2.3864, 1.129, 0.46, 0.5842, -0.1346, 1.0119, 1.2182, -0.3423, 0.7542, 3.8015, 3.7934, 3.7836, 3.7691, 3.767, 3.7197, 3.7187, 3.7182, 3.7174, 3.6733, 3.6732, 3.6732, 3.6732, 3.6731, 3.6731, 3.673, 3.6725, 3.672, 3.6719, 3.6715, 3.6714, 3.6712, 3.6163, 3.5877, 3.5877, 3.5876, 3.5876, 3.5875, 3.5875, 3.5874, 3.5696, 3.5076, 3.5099, 3.4881, 3.454, 3.496, 3.2764, 3.4585, 2.4226, 3.1189, 3.0276, 3.3731, 3.375, 2.841, 3.5048, 3.2559, 2.5928, 2.6145, 3.342, 1.9548, 2.7641, 0.9823, 0.8483, 1.5955, 1.6923, 1.5444, 1.5423, 1.5868, 1.5292, 1.4373, 1.3058, 1.0779, 0.8888, 0.8701, 0.4036, 1.9263, 0.6266, 1.6406, 0.9574, 0.4697, 0.1297, 3.8878, 3.8829, 3.8827, 3.8683, 3.8491, 3.8402, 3.8284, 3.8132, 3.8126, 3.7919, 3.7916, 3.7898, 3.7611, 3.7609, 3.7608, 3.7604, 3.76, 3.7599, 3.7596, 3.7595, 3.7594, 3.7594, 3.7119, 3.7118, 3.7115, 3.7115, 3.7113, 3.7113, 3.7112, 3.7112, 3.6861, 3.5495, 3.5906, 3.6413, 3.5722, 3.3837, 3.5198, 3.4142, 3.5294, 2.4148, 3.6015, 2.6523, 3.132, 3.4327, 2.4772, 2.7341, 1.5985, 1.8794, 1.7855, 1.4209, 1.7651, 1.034, 1.4705, 2.0987, 0.8855, 2.0435, 1.749, 1.7962, 2.1023, 2.3334, 1.3721, 4.874, 4.8732, 4.7182, 4.7172, 4.7171, 4.7171, 4.7171, 4.7169, 4.7168, 4.7163, 4.4994, 4.4984, 4.3702, 4.3702, 4.37, 4.37, 4.37, 4.37, 4.3699, 4.3698, 4.3698, 4.3697, 4.3697, 4.3697, 4.3697, 4.3696, 4.3696, 4.3696, 4.3696, 4.3695, 4.3338, 4.0227, 4.1835, 3.9184, 4.196, 4.045, 4.1688, 3.6893, 4.0729, 4.0718, 4.0714, 3.8206, 3.5814, 3.511, 2.9852, 2.7284, 3.6757, 0.9192, 2.8024, 1.3227, 0.9313, 3.1689, -0.0188, 2.4436, -0.4938, -0.1125, 1.0743, 1.5841, 0.6968, 3.1404, 0.9935, 1.7833, 1.0664, 0.114, -0.0239, -0.7777, -0.3821, -0.169, 1.5613, 2.2233, 2.4123, 2.4106, 2.4097, 2.4085, 2.408, 2.4073, 2.4072, 2.4059, 2.4043, 2.4012, 2.3961, 2.3941, 2.3911, 2.3884, 2.3, 1.9633, 1.9632, 1.9632, 1.963, 1.963, 1.9629, 1.9629, 1.9629, 1.9628, 1.9628, 1.9628, 1.9628, 1.9626, 1.9626, 1.9626, 1.9625, 1.9625, 1.9624, 1.9623, 1.9623, -1.7478, -2.725, -3.1023, -2.7069, -2.7861, -2.7779, -2.3264, -2.369, -3.0713, -3.3209, -2.3755, -3.0717, -2.5802, -3.2512, -2.0126, -2.4462, -3.0951, -2.8079, -2.1925, -2.4646, -2.0385, -2.4762, -2.5968, -2.3714, -2.0461, -2.3684, -2.8763, -2.9226, -3.3579, -2.7056, -2.9652, -2.8486, -2.6858, 2.397, 2.3958, 2.3941, 2.3918, 2.3917, 2.3898, 2.3882, 2.388, 2.3841, 2.3833, 2.3806, 2.3767, 2.3754, 2.3699, 2.2893, 1.9395, 1.9385, 1.9384, 1.9382, 1.9381, 1.9381, 1.938, 1.9379, 1.9378, 1.9378, 1.9377, 1.9377, 1.9377, 1.9377, 1.9377, 1.9376, 1.9375, 1.9375, 1.9374, 1.9375, 1.9374, -1.9179, -2.1635, -2.3994, -1.8148, -2.282, -1.932, -2.0171, -2.4688, -2.5938, -2.306, -1.9679, -2.5687, -2.2253, -2.1624, -2.1229, -2.3659, -1.9435, -1.8435, -2.467, -2.2134, -2.0045, -1.9423, -1.7299, -1.6764, -2.0187, -2.0575, -2.1803, -1.9653, -2.2961, -1.6557, -2.5279, -3.0246, -2.255, -2.9896, 2.4151, 2.4122, 2.412, 2.4112, 2.4081, 2.4071, 2.4063, 2.4049, 2.4031, 2.4025, 2.3998, 2.3959, 2.3947, 2.3901, 2.3021, 1.9677, 1.9668, 1.9664, 1.9663, 1.966, 1.9659, 1.9659, 1.9659, 1.9658, 1.9658, 1.9655, 1.9655, 1.9654, 1.9654, 1.9653, 1.9652, 1.9653, -3.1288, -3.0288, -2.8661, -2.7951, -2.7462, -2.9697, -2.6656, -2.9716, -3.0952, -2.6759, -3.2296, -2.6608, -2.7326, -2.524, -2.7352, -2.657, -3.3007, -2.8188, -3.0206, -2.7746, -2.5691, -2.7456, -2.6727, -2.8669, -3.19, -2.0431, -2.7528, -2.7122, -2.8613, -2.3667, -2.4372, -2.7016, -2.7889, 2.4193, 2.4172, 2.4168, 2.4162, 2.415, 2.4137, 2.4125, 2.411, 2.41, 2.4051, 2.4046, 2.4018, 2.3986, 2.3968, 2.3073, 1.9815, 1.9812, 1.9811, 1.9811, 1.9807, 1.9806, 1.9806, 1.9806, 1.9804, 1.9802, 1.9801, 1.98, 1.98, 1.9799, 1.9799, 1.9798, 1.9797, -2.9059, -2.8291, -3.4488, -2.6517, -2.9942, -3.1435, -3.1646, -2.7257, -3.5157, -3.0419, -3.4325, -3.3714, -2.458, -2.9494, -2.96, -2.4685, -2.8271, -2.9545, -2.9597, -2.8188, -3.0563, -2.6957, -3.4201, -2.7845, -3.2841, -2.5379, -3.1687, -2.699, -2.6106, -2.1891, -2.9096, -3.1963, -3.0194, 2.4103, 2.4094, 2.4062, 2.406, 2.4056, 2.4052, 2.4039, 2.401, 2.4003, 2.398, 2.3968, 2.3914, 2.39, 2.3875, 2.2993, 1.9624, 1.9622, 1.962, 1.962, 1.9619, 1.9618, 1.9617, 1.9616, 1.9615, 1.9615, 1.9615, 1.9614, 1.9613, 1.9612, 1.961, 1.961, 1.9607, -2.9572, -2.7884, -2.7736, -2.717, -3.1933, -2.9655, -3.0783, -3.0049, -2.4695, -2.8706, -3.0485, -2.741, -2.4675, -2.7282, -2.6652, -2.5964, -2.8025, -2.8711, -2.8212, -2.6069, -2.7128, -2.8561, -3.0904, -2.6355, -2.8368, -2.1807, -2.8294, -2.6155, -2.553, -3.3525, -2.7032]}, \"token.table\": {\"Topic\": [9, 8, 1, 3, 4, 5, 7, 9, 1, 9, 1, 3, 4, 5, 7, 9, 2, 3, 6, 4, 1, 10, 1, 3, 5, 6, 7, 1, 4, 7, 1, 2, 3, 5, 7, 1, 2, 3, 6, 8, 2, 2, 6, 8, 8, 2, 3, 6, 1, 2, 3, 1, 2, 3, 4, 5, 7, 9, 1, 2, 3, 4, 5, 7, 9, 3, 5, 4, 3, 3, 5, 8, 4, 2, 1, 2, 3, 4, 5, 6, 1, 1, 1, 5, 1, 4, 8, 2, 3, 6, 8, 1, 5, 1, 3, 4, 5, 6, 7, 8, 2, 3, 5, 6, 8, 9, 7, 1, 2, 3, 4, 5, 6, 7, 9, 3, 6, 8, 1, 2, 4, 5, 9, 1, 5, 1, 1, 10, 5, 1, 4, 6, 9, 4, 3, 1, 3, 6, 10, 1, 8, 1, 10, 6, 1, 2, 3, 4, 5, 6, 7, 9, 7, 4, 4, 8, 6, 8, 1, 2, 5, 6, 1, 7, 4, 1, 3, 4, 5, 6, 1, 3, 4, 8, 2, 1, 3, 6, 9, 5, 2, 6, 8, 5, 3, 5, 8, 1, 4, 5, 6, 4, 1, 5, 6, 9, 2, 3, 6, 8, 9, 2, 3, 6, 8, 9, 1, 4, 9, 1, 3, 7, 9, 7, 2, 5, 9, 9, 3, 1, 4, 1, 3, 1, 1, 3, 4, 7, 2, 3, 5, 6, 2, 3, 6, 8, 9, 1, 4, 5, 6, 1, 4, 5, 6, 1, 4, 5, 6, 2, 3, 6, 8, 3, 5, 6, 8, 1, 5, 8, 1, 2, 3, 4, 5, 7, 9, 6, 1, 2, 8, 9, 1, 3, 4, 7, 9, 1, 2, 3, 6, 8, 9, 1, 4, 1, 4, 5, 6, 1, 2, 3, 4, 7, 9, 10, 2, 2, 4, 10, 6, 7, 1, 2, 3, 7, 9, 6, 1, 3, 4, 5, 6, 7, 5, 1, 7, 9, 3, 1, 2, 3, 5, 6, 8, 9, 8, 1, 2, 3, 4, 5, 6, 7, 9, 1, 5, 7, 1, 3, 7, 9, 5, 4, 5, 2, 3, 6, 8, 7, 9, 1, 9, 7, 9, 6, 2, 3, 5, 6, 8, 2, 3, 6, 1, 7, 1, 2, 3, 4, 5, 6, 7, 9, 1, 1, 2, 3, 4, 5, 7, 9, 1, 3, 4, 5, 7, 9, 3, 1, 2, 3, 5, 6, 8, 9, 1, 3, 5, 1, 2, 3, 6, 8, 1, 2, 3, 4, 6, 8, 1, 4, 2, 3, 6, 8, 9, 4, 1, 3, 4, 6, 1, 7, 7, 8, 6, 8, 1, 2, 3, 6, 8, 1, 4, 5, 5, 2, 2, 3, 5, 6, 8, 3, 10, 6, 8, 6, 8, 6, 6, 6, 1, 1, 3, 4, 5, 6, 7, 10, 1, 3, 4, 5, 6, 7, 9, 10, 1, 5, 6, 1, 2, 3, 5, 6, 9, 1, 2, 3, 4, 7, 10, 2, 3, 6, 8, 5, 1, 2, 4, 5, 6, 1, 3, 4, 10, 1, 3, 4, 5, 10, 1, 3, 4, 10, 1, 2, 3, 4, 6, 7, 9, 3, 7, 5, 1, 2, 3, 4, 7, 10, 1, 2, 3, 4, 5, 6, 7, 9, 2, 3, 5, 6, 8, 1, 2, 3, 4, 5, 6, 7, 8, 9, 1, 3, 5, 7, 8, 9, 1, 3, 7, 1, 2, 3, 4, 5, 7, 10, 5, 2, 3, 6, 8, 1, 5, 6, 8, 4, 9, 1, 3, 4, 5, 6, 7, 8, 1, 3, 4, 5, 6, 8, 9, 10, 1, 2, 3, 4, 5, 7, 9, 10, 5, 1, 2, 3, 4, 5, 6, 7, 2, 3, 5, 6, 8, 1, 4, 1, 3, 4, 5, 6, 8, 3, 5, 6, 6, 8, 2, 3, 5, 6, 8, 5, 6, 8, 6, 1, 4, 8, 6, 1, 3, 4, 5, 6, 7, 1, 2, 3, 4, 5, 6, 9, 3, 5, 1, 4, 5, 7, 1, 3, 4, 7, 9, 1, 3, 7, 9, 1, 2, 3, 4, 6, 9, 10, 9, 9, 1, 2, 7, 9, 9, 1, 4, 5, 9, 1, 4, 5, 6, 9, 8, 2, 8, 2, 3, 6, 7, 2, 3, 4, 9, 1, 2, 3, 4, 5, 7, 9, 1, 2, 3, 10, 9, 1, 2, 3, 5, 6, 7, 8, 9, 1, 2, 4, 5, 8, 5, 1, 2, 3, 4, 5, 6, 7, 1, 5, 8, 1, 6, 7, 3, 1, 2, 3, 4, 5, 6, 7, 9, 2, 9, 7, 7, 4, 4, 3, 1, 2, 4, 7, 9, 4, 7, 6, 6, 2, 6, 8, 7, 1, 2, 3, 6, 7, 9, 3, 6, 8, 1, 2, 3, 5, 2, 3, 6, 8, 2, 3, 6, 8, 3, 1, 2, 3, 6, 8, 1, 2, 3, 6, 8, 1, 2, 3, 4, 5, 6, 7, 9, 10, 1, 1, 1, 7, 9, 1, 4, 7, 9, 1, 3, 4, 5, 6, 7, 1, 4, 5, 7, 9, 2, 2, 2, 6, 8, 9, 1, 2, 3, 6, 8, 3, 1, 2, 4, 2, 3, 6, 8, 9, 7, 7, 7, 7, 7, 1, 3, 4, 7, 1, 2, 4, 7, 2, 6, 8, 1, 2, 3, 4, 5, 6, 8, 9, 9, 1, 2, 3, 4, 5, 7, 9, 10, 1, 4, 8, 10, 1, 4, 7, 1, 3, 4, 8, 1, 1, 2, 3, 4, 5, 6, 7, 9, 10, 1, 3, 4, 5, 6, 1, 2, 3, 4, 5, 6, 10, 6, 1, 3, 7, 9, 1, 3, 4, 6, 10, 3, 6, 10, 8, 1, 3, 4, 5, 6, 3, 5, 6, 1, 4, 10, 1, 2, 3, 5, 8, 8, 1, 2, 3, 5, 6, 8, 1, 3, 4, 5, 6, 2, 5, 6, 2, 3, 5, 6, 8, 5, 6, 7, 9, 3, 6, 8, 6, 9, 2, 6, 1, 2, 4, 8, 10, 7, 10, 1, 3, 4, 5, 6, 7, 8, 1, 2, 3, 4, 5, 6, 7, 8, 1, 3, 1, 5, 7, 9, 1, 3, 5, 6, 9, 1, 2, 3, 4, 5, 7, 9, 10, 4, 1, 2, 3, 4, 5, 7, 9, 10, 1, 8, 7, 7, 8, 8, 9, 4, 1, 9, 2, 3, 6, 8, 9, 1, 3, 4, 5, 6, 1, 2, 3, 4, 5, 6, 7, 9, 2, 3, 2, 9, 6, 10, 1, 2, 3, 4, 5, 6, 7, 9, 10, 1, 3, 4, 5, 9, 6, 8, 1, 2, 4, 5, 6, 8, 9, 2, 6, 8, 1, 1, 4, 3, 1, 3, 4, 5, 6, 9, 10, 1, 2, 3, 6, 8, 1, 4, 5, 6, 1, 2, 3, 4, 5, 6, 7, 9, 10, 2, 3, 4, 2, 4, 2, 2, 2, 1, 2, 3, 4, 7, 10, 1, 2, 3, 4, 6, 8, 9, 1, 5, 1, 2, 3, 4, 5, 6, 7, 9, 1, 3, 5, 6, 7, 9, 6, 2, 6, 8, 9, 1, 2, 3, 5, 6, 7, 8, 9, 1, 2, 3, 5, 9, 1, 2, 3, 4, 5, 6, 7, 9, 10, 1, 3, 4, 10, 1, 2, 3, 4, 5, 6, 8, 9, 2, 2, 3, 5, 6, 8, 3, 4, 5, 6, 1, 2, 3, 4, 5, 6, 7, 8, 9, 1, 2, 3, 5, 6, 1, 4, 7, 9, 1, 4, 10, 1, 10, 1, 3, 4, 7, 1, 1, 3, 4, 5, 6, 7, 9, 8, 1, 3, 4, 3, 1, 5, 9, 3, 5, 6, 8, 1, 2, 1, 2, 3, 4, 5, 6, 7, 9, 4, 4, 4, 1, 2, 3, 4, 5, 6, 7, 9, 10, 3, 1, 2, 3, 4, 5, 7, 4, 10, 1, 10, 5, 1, 10, 3, 1, 3, 4, 5, 7, 9, 5, 6, 1, 2, 3, 4, 5, 7, 9, 1, 3, 4, 5, 7, 9, 2, 3, 6, 3, 3, 2, 2, 5, 1, 4, 1, 8, 2, 3, 2, 3, 1, 3, 5, 9, 8, 2, 1, 2, 3, 6, 8, 2, 5, 6, 9, 9, 9, 1, 9, 3, 8, 7, 1, 2, 3, 4, 5, 6, 7, 9, 1, 5, 7, 1, 2, 3, 4, 5, 9, 1, 2, 3, 4, 5, 7, 9, 1, 3, 1, 3, 4, 5, 9, 10, 8, 1, 3, 4, 5, 8, 9, 7, 7, 1, 2, 3, 4, 5, 6, 7, 8, 3, 5, 1, 4, 1, 3, 7, 4, 1, 2, 3, 4, 5, 6, 7, 9, 10, 2, 5, 6, 1, 10, 2, 5, 6, 2, 2, 3, 5, 6, 8, 1, 3, 4, 5, 6, 8, 2, 3, 5, 6, 8, 9, 8, 1, 5, 7, 1, 1, 3, 4, 5, 6, 7, 9, 1, 2, 4, 1, 3, 6, 7, 9, 10, 1, 3, 4, 5, 6, 7, 9, 2, 8, 8, 4, 1, 2, 3, 4, 5, 7, 9, 1, 2, 3, 4, 5, 6, 7, 9, 5, 3, 5, 6, 8, 6, 5, 9, 9, 9, 6, 2, 8, 1, 5, 1, 9, 2, 1, 2, 3, 4, 8, 9, 10, 1, 2, 3, 4, 7, 9, 2, 10, 7, 1, 2, 4, 5, 10, 1, 2, 4, 10, 1, 3, 4, 5, 6, 7, 8, 9, 10, 9, 1, 2, 3, 4, 9, 1, 2, 3, 6, 8, 1, 3, 4, 5, 7, 3, 5, 8, 7, 1, 3, 4, 5, 6, 1, 2, 3, 5, 7, 8, 2, 3, 6, 8, 5, 2, 1, 2, 3, 4, 8, 2, 5, 8, 2, 4, 3, 3, 2, 3, 4, 6, 1, 2, 3, 4, 5, 7, 8, 9, 1, 3, 7, 9, 3, 1, 2, 3, 4, 5, 7, 8, 9, 10, 3, 7, 7, 9, 10, 6, 10, 1, 3, 4, 5, 6, 2, 6, 1, 2, 3, 4, 5, 6, 7, 8, 9, 3, 1, 7, 1, 3, 4, 7, 9, 10, 8, 2, 3, 1, 3, 9, 1, 3, 9, 1, 2, 4, 7, 9, 2, 1, 3, 4, 1, 3, 4, 6, 1, 1, 10, 6, 10, 1, 4, 5, 6, 7, 9, 4, 7, 8, 8, 4, 1, 1, 2, 3, 4, 5, 6, 7, 9, 10, 1, 1, 2, 3, 4, 5, 6, 7, 1, 3, 4, 5, 2, 3, 6, 8, 7, 4, 3, 6, 3, 5, 1, 2, 10], \"Freq\": [0.6907236340075588, 0.9832499523627751, 0.8200117878042715, 0.018427231186612842, 0.027640846779919265, 0.04606807796653211, 0.07370892474645137, 0.009213615593306421, 0.9933333597507064, 0.0029475767351653005, 0.4542538943547501, 0.253190695214123, 0.08191463668692216, 0.014893570306713119, 0.1787228436805574, 0.022340355460069676, 0.9477918006506298, 0.013938114715450438, 0.027876229430900876, 0.9146196918376617, 0.38525046308936145, 0.38525046308936145, 0.11433107519785676, 0.05716553759892838, 0.05716553759892838, 0.05716553759892838, 0.7431519887860689, 0.2853995281121626, 0.07134988202804066, 0.642148938252366, 0.09892120276400664, 0.021982489503112584, 0.8133521116151656, 0.04396497900622517, 0.010991244751556292, 0.992446063760767, 0.8818330182632461, 0.01663835883515559, 0.08319179417577793, 0.01663835883515559, 0.9923461183327058, 0.963542052713586, 0.3844262628005244, 0.5766393942007866, 0.9830906610755705, 0.9592602237343231, 0.014317316772154075, 0.02863463354430815, 0.03547149294724749, 0.10641447884174247, 0.8513158307339398, 0.33730740153738686, 0.05059611023060803, 0.025298055115304016, 0.5312591574213843, 0.03373074015373869, 0.008432685038434673, 0.008432685038434673, 0.6358382970727569, 0.07144250528907381, 0.1536013863715087, 0.014288501057814762, 0.0035721252644536905, 0.06429825476016643, 0.05358187896680536, 0.06101243020038064, 0.9151864530057097, 0.9661394764967528, 0.9348403335755847, 0.18511216556064636, 0.09255608278032318, 0.6478925794622622, 0.9145371015925987, 0.9862309458938608, 0.6278912110380278, 0.0545992357424372, 0.0272996178712186, 0.1091984714848744, 0.17289757985105111, 0.009099872623739532, 0.9923454047688095, 0.9917659120689425, 0.9936250388661405, 1.0007380956314682, 0.09807949310041189, 0.882715437903707, 0.8299541364953548, 0.9103722886383079, 0.007341712005147645, 0.03670856002573822, 0.03670856002573822, 0.27535763791978596, 0.703691741350564, 0.24676955874117987, 0.030846194842647483, 0.04626929226397122, 0.6477700916955972, 0.015423097421323742, 0.015423097421323742, 0.8297649146507081, 0.8839344127792909, 0.0357145217284562, 0.00892863043211405, 0.04464315216057024, 0.02232157608028512, 0.004464315216057025, 0.8222792132901864, 0.6668160267591979, 0.011496828047572379, 0.12646510852329618, 0.022993656095144758, 0.011496828047572379, 0.011496828047572379, 0.08047779633300665, 0.08047779633300665, 0.10160860449432114, 0.2032172089886423, 0.7112602314602481, 0.144867940217307, 0.0289735880434614, 0.1158943521738456, 0.6663925249996122, 0.6905665464202471, 0.0869886836907337, 0.869886836907337, 0.9889915151103139, 0.4331514242879743, 0.4331514242879743, 0.8549991209739738, 0.34263307133981447, 0.5139496070097217, 0.04282913391747681, 0.08565826783495362, 0.914376824026962, 0.8942458302075014, 0.2697681947948686, 0.5395363895897372, 0.1348840973974343, 0.1348840973974343, 0.9879325909799218, 0.8295285745112996, 0.7612754786160615, 0.19031886965401537, 0.8837011027476296, 0.9425160651159975, 0.013090500904388855, 0.003272625226097214, 0.019635751356583284, 0.003272625226097214, 0.013090500904388855, 0.003272625226097214, 0.003272625226097214, 0.9949988726961124, 0.9069677749482977, 0.9704610305111148, 0.8295562449932309, 0.26472729925169275, 0.7941818977550782, 0.17393836219682296, 0.05797945406560766, 0.6667637217544881, 0.08696918109841148, 0.9944715565958043, 0.5711497643118344, 0.8338481287011407, 0.22157054921309557, 0.6476677592382794, 0.06817555360402941, 0.034087776802014705, 0.017043888401007352, 0.04148055993060074, 0.954052878403817, 0.9143360806782359, 0.8293409336760935, 0.9743578772057215, 0.33439325162429606, 0.6130542946445428, 0.018577402868016447, 0.03715480573603289, 0.9061631494407937, 0.945704109863989, 0.026269558607333026, 0.013134779303666513, 0.9477343612223745, 0.3751774844811509, 0.4689718556014386, 0.12505916149371696, 0.010882154352901172, 0.043528617411604686, 0.9032188112907972, 0.032646463058703515, 0.9954875397571861, 0.05521877007684392, 0.8835003212295027, 0.05521877007684392, 0.8578759657245043, 0.7243356097474758, 0.04311521486592118, 0.0948534727050266, 0.11209955865139506, 0.02586912891955271, 0.8703170369627773, 0.020334510209410683, 0.06100353062823205, 0.03660211837693923, 0.0040669020418821365, 0.9836901155910197, 0.0076850790280548415, 0.0076850790280548415, 0.33057139793402807, 0.1416734562574406, 0.42502036877232174, 0.09444897083829372, 0.8391052844022358, 0.9873773803318858, 0.911717327364939, 0.8722210565537447, 0.690596065223248, 0.9598047410303994, 0.3810151413847878, 0.5987380793189523, 0.11836409458580126, 0.8285486621006088, 0.9932393150922646, 0.4746682717829253, 0.1582227572609751, 0.11866706794573133, 0.23733413589146266, 0.08067617344527823, 0.2958126359660202, 0.026892057815092747, 0.5647332141169477, 0.8931410694315819, 0.02626885498328182, 0.03502513997770909, 0.03502513997770909, 0.004378142497213636, 0.06805109776130092, 0.06805109776130092, 0.74856207537431, 0.06805109776130092, 0.024370859511242633, 0.048741719022485266, 0.8935981820788966, 0.032494479348323516, 0.07694318546700797, 0.025647728489002656, 0.8463750401370876, 0.05129545697800531, 0.9979922925100725, 0.21262992591986127, 0.5847322962796185, 0.15947244443989594, 0.1074572474629182, 0.1074572474629182, 0.1074572474629182, 0.6447434847775092, 0.10397680875338891, 0.7278376612737224, 0.10397680875338891, 0.33737291384578, 0.1371434609129187, 0.49645932850476565, 0.005485738436516748, 0.002742869218258374, 0.01371434609129187, 0.002742869218258374, 0.9710764866976083, 0.9941851377471863, 0.9661819343984661, 0.020128790299968044, 0.8722276216494564, 0.09692810039170732, 0.04846405019585366, 0.09692810039170732, 0.7754248031336586, 0.8583461137568068, 0.09839080705051377, 0.3373399098874758, 0.3162561655195086, 0.15461412536509309, 0.08433497747186895, 0.007027914789322413, 0.06456316298855537, 0.9254053361692935, 0.06388348504634103, 0.12776697009268206, 0.6175403554479633, 0.1703559601235761, 0.48388389715130675, 0.03990795028052014, 0.3940910090201364, 0.029930962710390106, 0.02494246892532509, 0.01995397514026007, 0.004988493785065017, 0.9887431282285286, 0.9900338985349191, 0.9878166495561307, 0.9433347738297717, 0.8839756525254503, 0.8391916365645267, 0.2102490555090113, 0.5382375821030689, 0.10091954664432543, 0.025229886661081356, 0.11773947108504633, 0.8838758123835425, 0.10681462532302831, 0.21362925064605662, 0.035604875107676105, 0.39165362618443716, 0.017802437553838053, 0.24923412575373272, 0.7813684674854016, 0.13934986847461983, 0.04644995615820661, 0.7896492546895123, 1.0014936815964772, 0.0014500570839899697, 0.8207323095383229, 0.06380251169555867, 0.0029001141679799395, 0.056552226275608825, 0.047851883771669004, 0.005800228335959879, 0.9831793001982038, 0.7107264642532858, 0.10996145295994232, 0.053639733151191374, 0.09521052634336469, 0.004022979986339353, 0.0013409933287797844, 0.01877390660291698, 0.006704966643898922, 0.9728359778645176, 0.009728359778645175, 0.009728359778645175, 0.31699678397241554, 0.12679871358896622, 0.5071948543558649, 0.031699678397241554, 1.000839719012677, 0.9707104826968117, 0.9494035690374529, 0.4922523635803886, 0.2734735353224381, 0.1580069315196309, 0.07900346575981546, 0.1198772003433461, 0.8391404024034227, 0.19741656034590188, 0.7896662413836075, 0.3335106503896605, 0.667021300779321, 0.8250064073684615, 0.6539562151914636, 0.11890113003481158, 0.029725282508702894, 0.08917584752610869, 0.10403848878046013, 0.09167384153462961, 0.18334768306925922, 0.702832785098827, 0.9885010532116085, 0.995110199699919, 0.053943818145508485, 0.017981272715169496, 0.32366290887305094, 0.14385018172135597, 0.32366290887305094, 0.03596254543033899, 0.053943818145508485, 0.03596254543033899, 0.9921679481656307, 0.9223931192479516, 0.029438078273870797, 0.011448141550949755, 0.016354487929928222, 0.001635448792992822, 0.014719039136935399, 0.003270897585985644, 0.6541325966800006, 0.0445999497736364, 0.11893319939636372, 0.014866649924545465, 0.0445999497736364, 0.11893319939636372, 0.9715573324523722, 0.3177001863987719, 0.23726975946237394, 0.273463451583753, 0.008043042693639793, 0.09651651232367753, 0.048258256161838764, 0.016086085387279587, 0.07637844770065125, 0.8783521485574894, 0.038189223850325624, 0.013356358846700023, 0.9549796575390516, 0.0066781794233500115, 0.0066781794233500115, 0.013356358846700023, 0.0818020701848091, 0.7634859883915516, 0.027267356728269698, 0.03635647563769293, 0.045445594547116164, 0.045445594547116164, 0.09991961605463799, 0.8992765444917419, 0.8239537789235953, 0.04933854963614343, 0.1036109542359012, 0.019735419854457373, 0.004933854963614343, 0.8341080608099016, 0.9671214172311072, 0.006362640902836232, 0.019087922708508696, 0.006362640902836232, 0.982149665269767, 0.009443746781440068, 0.9947304329932875, 0.5652260873972695, 0.22634202393165778, 0.6790260717949733, 0.9926767486158499, 0.7608248452882082, 0.017097187534566478, 0.06838875013826591, 0.14532609404381505, 0.9729025440298773, 0.009354832154133436, 0.009354832154133436, 0.8622759933334472, 0.9663617001453423, 0.8257534826483689, 0.05397081585937052, 0.010794163171874102, 0.08095622378905577, 0.03238248951562231, 0.9604386265303573, 0.7432085374427084, 0.8839530017943543, 0.8297182081075649, 0.8510687433378498, 0.09456319370420553, 0.9522047088184054, 0.8840078732073668, 0.9703638843780044, 0.9923718753526537, 0.6094088256041108, 0.1100321490674089, 0.08040810893387573, 0.16081621786775147, 0.025392034400171282, 0.00846401146672376, 0.00423200573336188, 0.9140283608755857, 0.016273501974046034, 0.016273501974046034, 0.02169800263206138, 0.0027122503290076725, 0.013561251645038363, 0.01084900131603069, 0.9433729956678164, 0.23697454979452065, 0.10156052134050884, 0.643216635156556, 0.18172855998645832, 0.3180249799763021, 0.09086427999322916, 0.04543213999661458, 0.04543213999661458, 0.3180249799763021, 0.5885004134370487, 0.36388193502596144, 0.008984739136443492, 0.01347710870466524, 0.01347710870466524, 0.004492369568221746, 0.8968517132840689, 0.01971102666558393, 0.029566539998375895, 0.049277566663959826, 0.9835530900431433, 0.10977993536677624, 0.02744498384169406, 0.10977993536677624, 0.05488996768338812, 0.6861245960423515, 0.7879357617616566, 0.05252905078411044, 0.05252905078411044, 0.05252905078411044, 0.39309019686131463, 0.1310300656204382, 0.1310300656204382, 0.1310300656204382, 0.1310300656204382, 0.5740436258062467, 0.11480872516124935, 0.11480872516124935, 0.2296174503224987, 0.7146980106845456, 0.03573490053422728, 0.08338143457986366, 0.08338143457986366, 0.005955816755704547, 0.06551398431275002, 0.005955816755704547, 0.2588657466508608, 0.7765972399525826, 0.7821819509639986, 0.12856359699439657, 0.5601699583327279, 0.06428179849719828, 0.01836622814205665, 0.21121162363365148, 0.009183114071028325, 0.9023681969965185, 0.003975190295138848, 0.011925570885416544, 0.023851141770833088, 0.015900761180555393, 0.003975190295138848, 0.007950380590277696, 0.023851141770833088, 0.47086550850076736, 0.06278206780010231, 0.06278206780010231, 0.1569551695002558, 0.2825193051004604, 0.08246362140248426, 0.12369543210372638, 0.08933558985269127, 0.013743936900414042, 0.30923858025931594, 0.24051889575724575, 0.006871968450207021, 0.10307952675310532, 0.034359842251035104, 0.2838580077416364, 0.17872541228177105, 0.3889906032015017, 0.021026519091973065, 0.010513259545986533, 0.11564585500585187, 0.43484286123331145, 0.1739371444933246, 0.3478742889866492, 0.6174403522352976, 0.10738093082353002, 0.026845232705882505, 0.026845232705882505, 0.08053569811764752, 0.10738093082353002, 0.026845232705882505, 0.9076818409813834, 0.0627595087582326, 0.28241778941204665, 0.09413926313734888, 0.5334558244449771, 0.3674024491743278, 0.5010033397831742, 0.06680044530442324, 0.03340022265221162, 0.7672080735796094, 0.6908457357947791, 0.28940165094098014, 0.019293443396065344, 0.03858688679213069, 0.23152132075278412, 0.38586886792130687, 0.019293443396065344, 0.019293443396065344, 0.06669801893454493, 0.10004702840181738, 0.13339603786908985, 0.28346658047181594, 0.4001881136072695, 0.01667450473363623, 0.01667450473363623, 0.7430318729424908, 0.6808261764269505, 0.04981654949465492, 0.09963309898930985, 0.09963309898930985, 0.033211032996436615, 0.016605516498218308, 0.016605516498218308, 0.016605516498218308, 0.855092629612536, 0.11150259232596813, 0.015928941760852588, 0.3504367187387569, 0.09557365056511553, 0.3504367187387569, 0.04778682528255777, 0.015928941760852588, 0.41670108096923875, 0.38197599088846884, 0.0694501801615398, 0.0694501801615398, 0.05208763512115484, 0.9840778672300725, 0.0114427658980241, 0.5499767817580955, 0.028447074918522178, 0.12327065798026278, 0.2560236742666996, 0.028447074918522178, 0.00948235830617406, 0.9375839453210345, 0.06697028180864532, 0.9704959399866538, 0.9959723334141481, 0.8295968395855552, 0.15577860633639162, 0.3275345056303619, 0.051926202112130546, 0.22767642464549545, 0.23167074788489012, 0.10895055885316364, 0.8352876178742545, 0.036316852951054544, 0.9517961788147147, 0.22188664464037647, 0.7396221488012549, 0.8298016355772172, 0.9706113987280209, 0.8875575866205293, 0.005100905670232927, 0.025504528351164634, 0.06121086804279512, 0.005100905670232927, 0.01530271701069878, 0.9441478021133496, 0.0011713992582051485, 0.002342798516410297, 0.009371194065641188, 0.02928498145512871, 0.012885391840256633, 0.0011713992582051485, 0.18989268903293197, 0.7595707561317279, 0.9287682741191842, 0.026162486594906595, 0.03924372989235989, 0.006540621648726649, 0.9349300703055187, 0.005053676055705506, 0.030322056334233037, 0.020214704222822025, 0.005053676055705506, 0.040318884167125854, 0.8870154516767689, 0.040318884167125854, 0.040318884167125854, 0.9293875606386178, 0.02467400603465357, 0.008224668678217858, 0.008224668678217858, 0.008224668678217858, 0.008224668678217858, 0.016449337356435716, 0.8510197806085696, 0.9879683542818842, 0.1793447413557014, 0.1793447413557014, 0.5380342240671041, 0.6910019760882846, 0.8725639347265762, 0.2713073112703903, 0.02466430102458094, 0.02466430102458094, 0.6906004286882663, 0.6600250972483145, 0.037359911164998934, 0.01245330372166631, 0.01245330372166631, 0.27397268187665885, 0.8296381919228506, 0.9747506488294239, 0.017406261586239712, 0.1551920397259624, 0.775960198629812, 0.03103840794519248, 0.03103840794519248, 0.17167166891900446, 0.08583583445950223, 0.6866866756760178, 0.08583583445950223, 0.5808729664998091, 0.05971591244390561, 0.09228822832239958, 0.21986313217983428, 0.002714359656541164, 0.03257231587849397, 0.008143078969623492, 0.6339083357575298, 0.21130277858584326, 0.07043425952861442, 0.07043425952861442, 0.690982418910965, 0.2742176475840244, 0.08065224928941894, 0.4274569212339204, 0.15323927364989598, 0.008065224928941893, 0.03226089971576757, 0.008065224928941893, 0.02419567478682568, 0.2214702921609461, 0.2583820075211038, 0.4429405843218922, 0.036911715360157686, 0.036911715360157686, 0.9074321840277854, 0.8688717167340575, 0.0056420241346367365, 0.0056420241346367365, 0.03949416894245716, 0.04513619307709389, 0.01692607240391021, 0.011284048269273473, 0.9907112611922497, 0.9970395661298875, 0.8299224059272493, 0.08818391943139453, 0.7054713554511562, 0.17636783886278906, 0.9315628757976933, 0.4036650630880599, 0.0897033473529022, 0.12334210261024052, 0.06727751051467665, 0.23547128680136825, 0.02242583683822555, 0.0448516736764511, 0.011212918419112775, 0.1765379325696852, 0.7061517302787408, 0.9947847296599698, 0.8391887591561362, 0.8431030113048442, 0.8435033022149545, 1.0008181150556135, 0.9356361194761833, 0.019291466380952232, 0.02893719957142835, 0.004822866595238058, 0.004822866595238058, 0.8344941514480547, 0.8387710944619462, 0.9708209415309209, 0.8250690541174558, 0.163808520321538, 0.163808520321538, 0.655234081286152, 0.8393786017971059, 0.7117864748876559, 0.007736809509648434, 0.15473619019296866, 0.007736809509648434, 0.030947238038593734, 0.08510490460613276, 0.16933489909716232, 0.16933489909716232, 0.6773395963886493, 0.05594669130288128, 0.01398667282572032, 0.8951470608461005, 0.02797334565144064, 0.905256228397091, 0.010405244004564265, 0.02081048800912853, 0.062431464027385586, 0.9160804427988235, 0.02252656826554484, 0.007508856088514947, 0.052561992619604626, 0.9821843903015686, 0.019168673183289932, 0.46004815639895835, 0.057506019549869794, 0.4408794832156684, 0.019168673183289932, 0.08757633134489412, 0.24083491119845882, 0.24083491119845882, 0.41598757388824703, 0.02189408283622353, 0.8468446042087789, 0.0705703836840649, 0.015682307485347758, 0.031364614970695516, 0.0039205768713369395, 0.0039205768713369395, 0.0039205768713369395, 0.011761730614010818, 0.011761730614010818, 0.9953338761481453, 0.9873045179654821, 0.1862263657581494, 0.06207545525271647, 0.6828300077798811, 0.969936373099767, 0.01616560621832945, 0.008082803109164725, 0.008082803109164725, 0.47851932427628135, 0.014953728883633792, 0.014953728883633792, 0.43365813762537997, 0.029907457767267585, 0.029907457767267585, 0.3071825406737603, 0.043883220096251466, 0.2632993205775088, 0.39494898086626323, 0.9080393476816288, 0.9892973266969446, 0.9659558632488162, 0.6225634221234696, 0.056596674738497235, 0.33958004843098344, 0.8723598287891795, 0.007694839173986237, 0.3847419586993118, 0.33857292365539443, 0.16928646182769722, 0.09233807008783484, 0.9868684283760542, 0.35993860251920173, 0.05998976708653363, 0.5399079037788026, 0.8618453420973017, 0.011970074195795858, 0.0678304204428432, 0.05187032151511538, 0.0039900247319319525, 0.9634167398779349, 0.9738504078355639, 0.8390091410865108, 0.839161858689681, 0.8391599174725758, 0.11974546411245963, 0.23949092822491927, 0.11974546411245963, 0.47898185644983854, 0.37127844990041675, 0.028559880761570518, 0.5711976152314103, 0.028559880761570518, 0.11663078078083229, 0.816415465465826, 0.0388769269269441, 0.4486963199686984, 0.18816297289009934, 0.0289481496753999, 0.18816297289009934, 0.0578962993507998, 0.0578962993507998, 0.01447407483769995, 0.01447407483769995, 0.6905006033161688, 0.6674780917386973, 0.020226608840566585, 0.020226608840566585, 0.020226608840566585, 0.10113304420283294, 0.020226608840566585, 0.16181287072453268, 0.020226608840566585, 0.05105388439736825, 0.7658082659605238, 0.15316165319210476, 0.05105388439736825, 0.9812077167578631, 0.010012323640386359, 0.010012323640386359, 0.09328821919197472, 0.09328821919197472, 0.7463057535357978, 0.09328821919197472, 0.9894980312347182, 0.8749605559237881, 0.011437392887892655, 0.03431217866367796, 0.03240594651569585, 0.009531160739910545, 0.003812464295964218, 0.025734133997758472, 0.004765580369955272, 0.0028593482219731636, 0.1902799940334278, 0.021142221559269755, 0.25370665871123704, 0.4651288743039346, 0.06342666467780926, 0.3359116532899044, 0.005167871589075453, 0.02067148635630181, 0.010335743178150905, 0.6149767190999789, 0.010335743178150905, 0.005167871589075453, 0.8843000790233713, 0.9711841219644545, 0.00890994607306839, 0.00890994607306839, 0.00890994607306839, 0.7829653001888296, 0.05219768667925531, 0.10439537335851062, 0.05219768667925531, 0.05219768667925531, 0.31418073302600735, 0.6283614660520147, 0.9434237680682728, 0.8298606725500541, 0.18697241221015334, 0.09348620610507667, 0.031162068701692223, 0.6232413740338444, 0.031162068701692223, 0.8792786263651183, 0.07993442057864712, 0.03425760881942019, 0.32407536958854866, 0.32407536958854866, 0.32407536958854866, 0.14516130635699687, 0.4790323109780896, 0.014516130635699686, 0.3193548739853931, 0.014516130635699686, 0.5652592239929145, 0.005515151540770869, 0.1103030308154174, 0.4356969717208987, 0.03309090924462522, 0.4081212140170443, 0.005515151540770869, 0.9711332265945586, 0.005138271040182849, 0.005138271040182849, 0.010276542080365698, 0.005138271040182849, 0.9939579027270667, 0.7817919535214006, 0.8251021074648387, 0.1536553054998836, 0.1756060634284384, 0.0658522737856644, 0.5268181902853152, 0.0658522737856644, 0.08102217288584093, 0.8912439017442503, 0.8389934335018495, 0.6910002620540812, 0.42887918161811395, 0.10721979540452849, 0.4824890793203782, 0.9715228169612201, 0.8720813453821179, 0.9829867341706178, 0.9030006426436186, 0.06795816814206058, 0.06795816814206058, 0.5436653451364847, 0.20387450442618177, 0.06795816814206058, 0.9948756866086216, 0.9435750369615726, 0.46293876982022225, 0.23146938491011113, 0.05786734622752778, 0.16533527493579367, 0.04133381873394842, 0.008266763746789682, 0.03306705498715873, 0.21915715569641128, 0.0634402292805401, 0.017301880712874574, 0.0634402292805401, 0.5651947699539028, 0.017301880712874574, 0.046138348567665535, 0.005767293570958192, 0.005371533290671018, 0.9883621254834674, 0.7260662130384898, 0.030252758876603742, 0.030252758876603742, 0.21176931213622618, 0.05880922768209646, 0.8625353393374148, 0.01960307589403215, 0.01960307589403215, 0.0392061517880643, 0.9004335263573522, 0.012886347425507724, 0.004832380284565396, 0.003221586856376931, 0.003221586856376931, 0.06121015027116169, 0.006443173712753862, 0.004832380284565396, 0.834315313147888, 0.4992457031832138, 0.08127255633215108, 0.06966219114184379, 0.20898657342553137, 0.04644146076122919, 0.04644146076122919, 0.023220730380614594, 0.011610365190307297, 0.28911908959442534, 0.7227977239860633, 0.9345468066928574, 0.8390532603647552, 0.8296031925317127, 0.9230997125128386, 0.846929285509194, 0.970647481054704, 0.29898347598493363, 0.6976281106315119, 0.9385518352235671, 0.01564253058705945, 0.01564253058705945, 0.011731897940294589, 0.007821265293529726, 0.2408008711922689, 0.09261571968933419, 0.12966200756506788, 0.4445554545088041, 0.07409257575146735, 0.48500916156143276, 0.010543677425248539, 0.21087354850497078, 0.03163103227574562, 0.07380574197673977, 0.03163103227574562, 0.137067806528231, 0.03163103227574562, 0.9634228672706006, 0.015292426464612707, 0.9837816644091539, 0.011053726566394988, 0.8250501057505892, 0.9431861516097596, 0.6624626133919707, 0.010684880861160817, 0.11753368947276899, 0.1282185703339298, 0.04273952344464327, 0.0053424404305804085, 0.010684880861160817, 0.010684880861160817, 0.0053424404305804085, 0.72070958874556, 0.06726622828291894, 0.028828383549822402, 0.048047305916370665, 0.12492299538256374, 0.22336928682732113, 0.6701078604819634, 0.6965501341693939, 0.2035580300769005, 0.00636118843990314, 0.00318059421995157, 0.06997307283893454, 0.00318059421995157, 0.015902971099757853, 0.1463778637679685, 0.292755727535937, 0.585511455071874, 0.9951196060547719, 0.992191039125427, 0.8342779427820994, 0.9821162094766642, 0.8081277195751893, 0.016492402440309986, 0.02748733740051664, 0.1319392195224799, 0.005497467480103328, 0.010994934960206657, 0.9439827641858543, 0.020893798583069487, 0.5432387631598067, 0.12536279149841692, 0.1671503886645559, 0.1462565900814864, 0.16204908070308288, 0.08102454035154144, 0.7292208631638729, 0.08102454035154144, 0.7641776054294267, 0.006421660549827115, 0.02568664219930846, 0.044951623848789805, 0.05779494494844404, 0.006421660549827115, 0.05779494494844404, 0.02568664219930846, 0.019264981649481344, 0.9559374947798203, 0.04280317140805165, 0.9143669343407339, 0.9755536579867111, 0.91466852220071, 0.9800045679803634, 0.9943968538454827, 0.9767164743699401, 0.7399058076299563, 0.003935669189521044, 0.18497645190748907, 0.051163699463773575, 0.011807007568563134, 0.003935669189521044, 0.015165855922390436, 0.8991186011131472, 0.01733240676844621, 0.0021665508460557764, 0.032498262690836645, 0.03033171184478087, 0.0021665508460557764, 0.9856316415996093, 0.008213597013330076, 0.3101958153765482, 0.03743742599372134, 0.2888030005229932, 0.053482037133887626, 0.17649072254182918, 0.02139281485355505, 0.010696407426777525, 0.09626766684099773, 0.06635043276075386, 0.5971538948467848, 0.04423362184050258, 0.08846724368100516, 0.02211681092025129, 0.15481767644175903, 0.884049078760487, 0.9541967509355191, 0.019083935018710384, 0.009541967509355192, 0.009541967509355192, 0.09117968288188551, 0.24314582101836135, 0.09117968288188551, 0.18235936576377101, 0.09117968288188551, 0.24314582101836135, 0.06078645525459034, 0.8721936259036003, 0.06472615813569556, 0.04854461860177167, 0.8252585162301185, 0.04854461860177167, 0.01618153953392389, 0.20339124555252383, 0.30508686832878573, 0.09039610913445503, 0.36158443653782013, 0.011299513641806879, 0.0056497568209034395, 0.0056497568209034395, 0.0056497568209034395, 0.011299513641806879, 0.43506977534379326, 0.1740279101375173, 0.1740279101375173, 0.261041865206276, 0.007334924507556031, 0.8581861673840556, 0.022004773522668095, 0.0018337311268890077, 0.00916865563444504, 0.04034208479155817, 0.05501193380667023, 0.0036674622537780153, 0.9771057435402244, 0.45896815659073054, 0.07402712203076299, 0.04441627321845779, 0.35533018574766234, 0.07402712203076299, 0.9374101544808766, 0.01785543151392146, 0.022319289392401825, 0.01785543151392146, 0.5752747858617427, 0.11287036937793687, 0.10922938972058407, 0.040050776230880825, 0.02912783725882242, 0.10558841006323126, 0.007281959314705605, 0.010922938972058406, 0.007281959314705605, 0.022633246260727977, 0.011316623130363988, 0.8940132272987551, 0.06789973878218393, 0.9521278724763275, 0.7845214805024159, 0.03826934051231297, 0.019134670256156484, 0.15307736204925187, 0.2587819817664447, 0.5175639635328894, 0.2587819817664447, 0.7683454727566141, 0.15366909455132283, 0.22929478994848207, 0.05732369748712052, 0.05732369748712052, 0.6305606723583257, 0.9915574722744809, 0.8669645741610191, 0.005897718191571559, 0.04128402734100091, 0.05307946372414403, 0.011795436383143117, 0.005897718191571559, 0.017693154574714674, 0.564994099311259, 0.15670618807541825, 0.23505928211312738, 0.626824752301673, 0.9823778989911423, 0.4730226192443608, 0.06757465989205154, 0.4730226192443608, 0.1672007985207564, 0.278667997534594, 0.11146719901383759, 0.44586879605535035, 0.9851041321677271, 0.010261501376747157, 0.29871201978903117, 0.29871201978903117, 0.18615386740475853, 0.06060823589922371, 0.09091235384883557, 0.025974958242524448, 0.025974958242524448, 0.01731663882834963, 0.9708133856498885, 0.983172794285956, 0.995804514568834, 0.9471323763494537, 0.019428356437937513, 0.004857089109484378, 0.004857089109484378, 0.004857089109484378, 0.004857089109484378, 0.004857089109484378, 0.004857089109484378, 0.004857089109484378, 0.9597369384620403, 0.6367886863971556, 0.018193962468490157, 0.05458188740547047, 0.23652151209037206, 0.036387924936980315, 0.018193962468490157, 0.544573570116859, 0.544573570116859, 0.49397716429662675, 0.49397716429662675, 0.9074716671897135, 0.49476414847122263, 0.49476414847122263, 0.9597902617437309, 0.5087336031537335, 0.39773718064746433, 0.02774910562656728, 0.036998807502089705, 0.009249701875522426, 0.009249701875522426, 0.8255327849373442, 0.13758879748955735, 0.8202716144755321, 0.020592592832021726, 0.05148148208005431, 0.04804938327471736, 0.006864197610673909, 0.0377530868587065, 0.01716049402668477, 0.6471525542311423, 0.13207194984309026, 0.03962158495292708, 0.02641438996861805, 0.03962158495292708, 0.11886475485878123, 0.3209600339574224, 0.01604800169787112, 0.6579680696127159, 0.9828451743105935, 0.9829442975150556, 0.9772958733497351, 0.985841544192169, 0.8559456928807012, 0.9894922880918905, 0.9147087821709435, 0.9889442590904193, 0.8901324510713364, 0.9393747973997011, 0.051052978119548974, 0.9857497210007106, 0.00597424073333764, 0.3604661938001319, 0.03604661938001319, 0.02403107958667546, 0.576745910080211, 0.6418895650649153, 0.9945899748195864, 0.008437950522706291, 0.8522330027933354, 0.008437950522706291, 0.02531385156811887, 0.10125540627247548, 0.06794882693383839, 0.06794882693383839, 0.8153859232060606, 0.9759306201267479, 0.9756593456956296, 0.9430628034836921, 0.2759950002117003, 0.6899875005292507, 0.931536020471249, 0.5651567794988577, 0.9947114939196842, 0.3475586181619631, 0.5709891584089394, 0.01930881212010906, 0.011033606925776606, 0.033100820777329815, 0.005516803462888303, 0.005516803462888303, 0.0027584017314441515, 0.9930261128033002, 0.85564829664068, 0.8391784094225265, 0.9822082192026278, 0.0021586993828629185, 0.0021586993828629185, 0.004317398765725837, 0.006476098148588755, 0.0021586993828629185, 0.29930248726694353, 0.5558474763528951, 0.03664928415513594, 0.02443285610342396, 0.0610821402585599, 0.00610821402585599, 0.01832464207756797, 0.14576940106741898, 0.8381740561376592, 0.6077852273371549, 0.2279194602514331, 0.05064876894476291, 0.05064876894476291, 0.05064876894476291, 0.025324384472381455, 1.0057458740138399, 0.4273643960922017, 0.07122739934870029, 0.3917506964178516, 0.035613699674350144, 0.07122739934870029, 0.035613699674350144, 0.8394124700491238, 0.8390140158487294, 0.5037592853155433, 0.16535610128678135, 0.2691843509319697, 0.026918435093196965, 0.015381962910398266, 0.007690981455199133, 0.0115364721827987, 0.0038454907275995666, 0.9817687498833468, 0.7820887581437165, 0.14511033355192784, 0.7255516677596392, 0.18309864069152051, 0.18309864069152051, 0.5492959220745616, 0.8340926345252968, 0.5983774042991519, 0.20840585057384708, 0.07104744905926605, 0.04262846943555963, 0.00947299320790214, 0.006315328805268094, 0.0473649660395107, 0.011051825409219163, 0.00473649660395107, 0.9731075639379954, 0.00600683681443207, 0.018020510443296212, 0.38512385016156303, 0.38512385016156303, 0.9522626857673279, 0.007106437953487521, 0.028425751813950084, 0.9871303566190545, 0.07110976904703246, 0.28443907618812986, 0.07110976904703246, 0.28443907618812986, 0.28443907618812986, 0.10478588001893759, 0.0349286266729792, 0.20957176003787517, 0.5937866534406463, 0.0698572533459584, 0.5652733503892522, 0.9110845322983963, 0.02887239715030129, 0.0032080441278112544, 0.02887239715030129, 0.02245630889467878, 0.0032080441278112544, 0.9828066153175118, 0.23784925979979898, 0.11892462989989949, 0.6540854644494472, 0.9920373370025155, 0.4070081677787584, 0.08140163355575168, 0.04070081677787584, 0.04070081677787584, 0.1831536755004413, 0.02035040838893792, 0.2238544922783171, 0.47498985943755123, 0.04318089631250466, 0.47498985943755123, 0.6887952824799922, 0.049199663034285156, 0.049199663034285156, 0.049199663034285156, 0.049199663034285156, 0.049199663034285156, 0.3667185070866422, 0.17561167944994135, 0.16011653126318182, 0.23759227219697948, 0.02582524697793255, 0.02066019758234604, 0.015495148186759532, 0.9665010433054619, 0.5651946172570366, 0.8296421045504188, 0.8340875889289701, 0.7743926038122747, 0.14296478839611224, 0.011913732366342687, 0.029784330915856718, 0.01787059854951403, 0.01787059854951403, 0.011913732366342687, 0.6910918760980534, 0.030489347474914125, 0.18801764276197044, 0.025407789562428437, 0.035570905387399814, 0.0025407789562428436, 0.015244673737457063, 0.010163115824971375, 0.8561938782494339, 0.988638084383637, 0.00907007416865722, 0.9124297257442002, 0.13034710367774288, 0.8841822391887219, 0.8553221545848774, 0.690974135795315, 0.9882648806240767, 0.872344675118196, 0.8837813950011248, 0.5974079224172928, 0.36763564456448783, 0.9865924744834009, 0.7823478033440883, 0.26696995800136064, 0.7119198880036284, 0.9786875747791085, 0.8431486107551853, 0.018230240232544548, 0.036460480465089096, 0.009115120116272274, 0.004557560058136137, 0.08203608104645047, 0.004557560058136137, 0.5799048125272636, 0.07531231331522903, 0.06778108198370612, 0.23346817127721, 0.007531231331522903, 0.030124925326091612, 0.4943828659113522, 0.4943828659113522, 0.8388522928929519, 0.8900211516997165, 0.04876828228491597, 0.03657621171368698, 0.012192070571228992, 0.012192070571228992, 0.04616879202397181, 0.04616879202397181, 0.6001942963116336, 0.27701275214383086, 0.8887450799022333, 0.04353037126051755, 0.019951420161070543, 0.0290202475070117, 0.0036275309383764624, 0.0018137654691882312, 0.0018137654691882312, 0.010882592815129388, 0.0018137654691882312, 0.69092261577229, 0.9683100334195898, 0.014943056071289965, 0.0029886112142579933, 0.00896583364277398, 0.0029886112142579933, 0.993633310681911, 0.37492600831055045, 0.3514931327911411, 0.17184108714233565, 0.09373150207763761, 0.9085217903038396, 0.01094604566631132, 0.02189209133262264, 0.05473022833155661, 0.00547302283315566, 0.9711954777611856, 0.3727617507993111, 0.5591426261989667, 0.8393169382883278, 0.04204751996317267, 0.9145335591990057, 0.010511879990793168, 0.021023759981586336, 0.010511879990793168, 0.20371849138816508, 0.08148739655526605, 0.6315273233033118, 0.02037184913881651, 0.04074369827763302, 0.02037184913881651, 0.9229183634411127, 0.016191550235808993, 0.016191550235808993, 0.040478875589522484, 0.9061867501608221, 0.9810753133088052, 0.05576440371109341, 0.9308365850236361, 0.004289569516237954, 0.004289569516237954, 0.004289569516237954, 0.9791322127988079, 0.9420163840068572, 0.9587810332566535, 0.9787332922202061, 0.914630986935233, 0.996357002420762, 0.9526522018600351, 0.013389391254339484, 0.9037839096679151, 0.0803363475260369, 0.9060303594997949, 0.10434135446871637, 0.05796741914928687, 0.5506904819182252, 0.011593483829857374, 0.0028983709574643434, 0.049272306276893836, 0.0028983709574643434, 0.21737782180982576, 0.2160875953437029, 0.7408717554641242, 0.030869656477671842, 0.030869656477671842, 0.9140295420563082, 0.2905227665657654, 0.08329673726710757, 0.40023066442976074, 0.058917204408441934, 0.0020316277382221356, 0.1361190584608831, 0.006094883214666407, 0.012189766429332814, 0.012189766429332814, 0.10055772722747215, 0.9050195450472494, 0.83914607654525, 0.8720939747945979, 0.9427839604610306, 0.559856002129702, 0.559856002129702, 0.173884427679864, 0.28256219497977897, 0.28256219497977897, 0.239091088059813, 0.021735553459983, 0.16543447198332467, 0.7940854655199584, 0.8020285550791009, 0.05394810908603817, 0.014386162422943513, 0.0503515684803023, 0.04315848726883054, 0.01798270302867939, 0.003596540605735878, 0.003596540605735878, 0.007193081211471756, 0.8941638410254399, 0.35743499163431885, 0.5361524874514783, 0.641433157915562, 0.050111965462153275, 0.0551231620083686, 0.2204926480334744, 0.025055982731076638, 0.005011196546215328, 0.9229715836558476, 0.9686254692306794, 0.9597778190153166, 0.34631488111496694, 0.04947355444499528, 0.5936826533399434, 0.053322756656245925, 0.9369570098168927, 0.0076175366651779885, 0.9320983485305503, 0.05018991107472194, 0.007169987296388848, 0.007169987296388848, 0.007169987296388848, 0.9783566934440537, 0.689723081427626, 0.06631952706034866, 0.23875029741725515, 0.5567184206605528, 0.0066276002459589615, 0.43079401598733247, 0.8839110336120937, 0.9813245262810292, 0.6653895789226795, 0.33269478946133973, 0.9524764327243835, 0.9435234298443435, 0.6634089029302799, 0.05768773068958955, 0.05768773068958955, 0.028843865344794776, 0.20190705741356343, 0.9720725796839795, 0.8938498431131774, 0.07448748692609812, 0.07448748692609812, 0.565281756558242, 0.8338329342713704, 0.989008836708431, 0.8675557805478077, 0.0036148157522825322, 0.028918526018260258, 0.03253334177054279, 0.0072296315045650645, 0.0072296315045650645, 0.0036148157522825322, 0.04699260477967292, 0.0036148157522825322, 0.9847483502503158, 0.3324815662687191, 0.01108271887562397, 0.08866175100499175, 0.15515806425873557, 0.31308680823637713, 0.08589107128608577, 0.008312039156717977, 0.9767792373230926, 0.0072893972934559145, 0.0072893972934559145, 0.0072893972934559145, 0.37519637393473754, 0.35174660056381646, 0.17196500472008805, 0.09379909348368438, 0.971616813261021, 0.8341516216855149, 0.8944520250985857, 0.8842069456357081, 0.11281046442585041, 0.9024837154068033, 0.28085782572344103, 0.28085782572344103, 0.28085782572344103], \"Term\": [\"abbreviation\", \"absurde\", \"access\", \"access\", \"access\", \"access\", \"access\", \"access\", \"accessed\", \"accessed\", \"account\", \"account\", \"account\", \"account\", \"account\", \"account\", \"acteurs\", \"acteurs\", \"acteurs\", \"adherent\", \"admit\", \"admit\", \"africa\", \"africa\", \"africa\", \"africa\", \"africa\", \"african\", \"african\", \"african\", \"agenda\", \"agenda\", \"agenda\", \"agenda\", \"agenda\", \"agrippa\", \"ainsi\", \"ainsi\", \"ainsi\", \"ainsi\", \"algorithmes\", \"algorithmique\", \"allemands\", \"allemands\", \"allis\", \"alors\", \"alors\", \"alors\", \"amateur\", \"amateur\", \"amateur\", \"american\", \"american\", \"american\", \"american\", \"american\", \"american\", \"american\", \"analysis\", \"analysis\", \"analysis\", \"analysis\", \"analysis\", \"analysis\", \"analysis\", \"anniversary\", \"anniversary\", \"anons\", \"anonymity\", \"antoine\", \"antoine\", \"antoine\", \"apophenia\", \"approche\", \"april\", \"april\", \"april\", \"april\", \"april\", \"april\", \"archaeology\", \"archival\", \"arst\", \"ashplant\", \"astodon\", \"astodon\", \"auch\", \"aussi\", \"aussi\", \"aussi\", \"aussi\", \"australia\", \"australia\", \"australian\", \"australian\", \"australian\", \"australian\", \"australian\", \"australian\", \"australiens\", \"avec\", \"avec\", \"avec\", \"avec\", \"avec\", \"avec\", \"bamako\", \"based\", \"based\", \"based\", \"based\", \"based\", \"based\", \"based\", \"based\", \"bataille\", \"bataille\", \"bataille\", \"battle\", \"battle\", \"battle\", \"battle\", \"bearing\", \"beaumont\", \"beaumont\", \"begos\", \"behold\", \"behold\", \"belfast\", \"belief\", \"belief\", \"belief\", \"belief\", \"believer\", \"bichard\", \"billion\", \"billion\", \"billion\", \"billion\", \"blackwell\", \"blesss\", \"bluesky\", \"bluesky\", \"bonn\", \"book\", \"book\", \"book\", \"book\", \"book\", \"book\", \"book\", \"book\", \"bosch\", \"braun\", \"breadcrumb\", \"britan\", \"britannique\", \"britannique\", \"british\", \"british\", \"british\", \"british\", \"browser\", \"bruchler\", \"budreau\", \"building\", \"building\", \"building\", \"building\", \"building\", \"burden\", \"burden\", \"cabal\", \"canadiens\", \"capacit\", \"category\", \"category\", \"category\", \"category\", \"cathedral\", \"cela\", \"cela\", \"cela\", \"cemetery\", \"centenaire\", \"centenaire\", \"centenaire\", \"centenary\", \"centenary\", \"centenary\", \"centenary\", \"centennial\", \"ceremony\", \"ceremony\", \"ceremony\", \"cergypontoise\", \"cest\", \"cest\", \"cest\", \"cest\", \"cest\", \"cette\", \"cette\", \"cette\", \"cette\", \"cette\", \"chapter\", \"chapter\", \"chapter\", \"characteristic\", \"characteristic\", \"characteristic\", \"characteristic\", \"checking\", \"chercheurs\", \"civilian\", \"classify\", \"claudia\", \"clemenceau\", \"clock\", \"clock\", \"coded\", \"coded\", \"codex\", \"collected\", \"collected\", \"collected\", \"collected\", \"collectif\", \"collectif\", \"collectif\", \"collectif\", \"comme\", \"comme\", \"comme\", \"comme\", \"comme\", \"commemorating\", \"commemorating\", \"commemorating\", \"commemorating\", \"commemoration\", \"commemoration\", \"commemoration\", \"commemoration\", \"commemorative\", \"commemorative\", \"commemorative\", \"commemorative\", \"commentaires\", \"commmoration\", \"commmoration\", \"commmoration\", \"commmorer\", \"commmorer\", \"commmorer\", \"commmorer\", \"commonwealth\", \"commonwealth\", \"commonwealth\", \"communication\", \"communication\", \"communication\", \"communication\", \"communication\", \"communication\", \"communication\", \"communiste\", \"companion\", \"compte\", \"compte\", \"compute\", \"conflict\", \"conflict\", \"conflict\", \"conflict\", \"connector\", \"consortium\", \"consortium\", \"consortium\", \"consortium\", \"consortium\", \"consortium\", \"conspiracy\", \"conspiracy\", \"consulted\", \"consulted\", \"consulted\", \"consulted\", \"content\", \"content\", \"content\", \"content\", \"content\", \"content\", \"content\", \"contenu\", \"contenus\", \"cooper\", \"copied\", \"copping\", \"cornelissen\", \"corpus\", \"corpus\", \"corpus\", \"corpus\", \"corpus\", \"countless\", \"country\", \"country\", \"country\", \"country\", \"country\", \"country\", \"county\", \"criterion\", \"criterion\", \"criterion\", \"damateurs\", \"dans\", \"dans\", \"dans\", \"dans\", \"dans\", \"dans\", \"dans\", \"das\", \"data\", \"data\", \"data\", \"data\", \"data\", \"data\", \"data\", \"data\", \"database\", \"database\", \"database\", \"dataset\", \"dataset\", \"dataset\", \"dataset\", \"dawson\", \"debunk\", \"defence\", \"depuis\", \"depuis\", \"depuis\", \"depuis\", \"detect\", \"detect\", \"detecting\", \"detecting\", \"detection\", \"detection\", \"deutsche\", \"deux\", \"deux\", \"deux\", \"deux\", \"deux\", \"dhistoire\", \"dhistoire\", \"dhistoire\", \"diagram\", \"diaspora\", \"different\", \"different\", \"different\", \"different\", \"different\", \"different\", \"different\", \"different\", \"digerent\", \"digital\", \"digital\", \"digital\", \"digital\", \"digital\", \"digital\", \"digital\", \"discourse\", \"discourse\", \"discourse\", \"discourse\", \"discourse\", \"discourse\", \"disinhibition\", \"document\", \"document\", \"document\", \"document\", \"document\", \"document\", \"document\", \"domestic\", \"domestic\", \"domestic\", \"donne\", \"donne\", \"donne\", \"donne\", \"donne\", \"dont\", \"dont\", \"dont\", \"dont\", \"dont\", \"dont\", \"drop\", \"drop\", \"dune\", \"dune\", \"dune\", \"dune\", \"dune\", \"dylan\", \"early\", \"early\", \"early\", \"early\", \"edited\", \"edited\", \"egbunike\", \"ehre\", \"eine\", \"eine\", \"electronic\", \"elle\", \"elle\", \"elle\", \"elle\", \"encounter\", \"encounter\", \"encounter\", \"enthusiasm\", \"entits\", \"entre\", \"entre\", \"entre\", \"entre\", \"entre\", \"entretiens\", \"eoects\", \"erinnerung\", \"ernstha\", \"erste\", \"erste\", \"ersten\", \"erster\", \"europa\", \"eusebius\", \"event\", \"event\", \"event\", \"event\", \"event\", \"event\", \"event\", \"example\", \"example\", \"example\", \"example\", \"example\", \"example\", \"example\", \"excitement\", \"exhibition\", \"exhibition\", \"exhibition\", \"expert\", \"expert\", \"expert\", \"expert\", \"expert\", \"expert\", \"facebook\", \"facebook\", \"facebook\", \"facebook\", \"facebook\", \"facebook\", \"fait\", \"fait\", \"fait\", \"fait\", \"fathi\", \"federal\", \"federal\", \"federal\", \"federal\", \"federal\", \"feel\", \"feel\", \"feel\", \"feel\", \"feeling\", \"feeling\", \"feeling\", \"feeling\", \"feeling\", \"felt\", \"felt\", \"felt\", \"felt\", \"figure\", \"figure\", \"figure\", \"figure\", \"figure\", \"figure\", \"figure\", \"filtering\", \"filtering\", \"flandrin\", \"follower\", \"follower\", \"follower\", \"follower\", \"follower\", \"follower\", \"form\", \"form\", \"form\", \"form\", \"form\", \"form\", \"form\", \"form\", \"franais\", \"franais\", \"franais\", \"franais\", \"franais\", \"france\", \"france\", \"france\", \"france\", \"france\", \"france\", \"france\", \"france\", \"france\", \"french\", \"french\", \"french\", \"french\", \"french\", \"french\", \"frequently\", \"frequently\", \"frequently\", \"friend\", \"friend\", \"friend\", \"friend\", \"friend\", \"friend\", \"friend\", \"fusills\", \"gallimard\", \"gallimard\", \"gallimard\", \"gallimard\", \"gallipoli\", \"gallipoli\", \"gallipoli\", \"gallipoli\", \"gehl\", \"georgeselia\", \"german\", \"german\", \"german\", \"german\", \"german\", \"german\", \"german\", \"germany\", \"germany\", \"germany\", \"germany\", \"germany\", \"germany\", \"germany\", \"glorious\", \"good\", \"good\", \"good\", \"good\", \"good\", \"good\", \"good\", \"good\", \"gove\", \"government\", \"government\", \"government\", \"government\", \"government\", \"government\", \"government\", \"grande\", \"grande\", \"grande\", \"grande\", \"grande\", \"graphical\", \"graphical\", \"great\", \"great\", \"great\", \"great\", \"great\", \"great\", \"grievance\", \"grievance\", \"gromann\", \"grossmann\", \"grves\", \"guerre\", \"guerre\", \"guerre\", \"guerre\", \"guerre\", \"guerres\", \"guerres\", \"guerres\", \"guilt\", \"hannah\", \"hannah\", \"heute\", \"hirschfeld\", \"historical\", \"historical\", \"historical\", \"historical\", \"historical\", \"historical\", \"history\", \"history\", \"history\", \"history\", \"history\", \"history\", \"history\", \"hollande\", \"hollande\", \"http\", \"http\", \"http\", \"http\", \"humanity\", \"humanity\", \"humanity\", \"humanity\", \"humanity\", \"hypothesis\", \"hypothesis\", \"hypothesis\", \"hypothesis\", \"idea\", \"idea\", \"idea\", \"idea\", \"idea\", \"idea\", \"idea\", \"identication\", \"identied\", \"identification\", \"identification\", \"identification\", \"ideol\", \"ideolog\", \"ideological\", \"ideological\", \"ideological\", \"ideological\", \"ideology\", \"ideology\", \"ideology\", \"ideology\", \"ideology\", \"ikarus\", \"individus\", \"individus\", \"influence\", \"influence\", \"influence\", \"influence\", \"infor\", \"infor\", \"infor\", \"infor\", \"information\", \"information\", \"information\", \"information\", \"information\", \"information\", \"information\", \"instagram\", \"instagram\", \"instagram\", \"instagram\", \"interlocution\", \"international\", \"international\", \"international\", \"international\", \"international\", \"international\", \"international\", \"international\", \"intervention\", \"intervention\", \"intervention\", \"intervention\", \"intervention\", \"irish\", \"january\", \"january\", \"january\", \"january\", \"january\", \"january\", \"january\", \"javascript\", \"jeffery\", \"jetzt\", \"johannes\", \"johannes\", \"johannes\", \"joinson\", \"journal\", \"journal\", \"journal\", \"journal\", \"journal\", \"journal\", \"journal\", \"journal\", \"julien\", \"julien\", \"kalaban\", \"kayes\", \"kazin\", \"keene\", \"kiousis\", \"knowledge\", \"knowledge\", \"knowledge\", \"knowledge\", \"knowledge\", \"kostrich\", \"koutiala\", \"krieg\", \"krumeich\", \"lallemagne\", \"lallemagne\", \"lallemagne\", \"langguth\", \"language\", \"language\", \"language\", \"language\", \"language\", \"language\", \"larme\", \"larme\", \"larme\", \"leader\", \"leader\", \"leader\", \"leader\", \"leur\", \"leur\", \"leur\", \"leur\", \"leurs\", \"leurs\", \"leurs\", \"leurs\", \"lfkens\", \"lieu\", \"lieu\", \"lieu\", \"lieu\", \"lieu\", \"lieux\", \"lieux\", \"lieux\", \"lieux\", \"lieux\", \"like\", \"like\", \"like\", \"like\", \"like\", \"like\", \"like\", \"like\", \"like\", \"linear\", \"linearity\", \"linguistic\", \"linguistic\", \"linguistic\", \"literary\", \"literary\", \"literary\", \"literary\", \"local\", \"local\", \"local\", \"local\", \"local\", \"local\", \"location\", \"location\", \"location\", \"location\", \"longhi\", \"lors\", \"lorsque\", \"ltat\", \"ltat\", \"ltat\", \"lucas\", \"luxembourg\", \"luxembourg\", \"luxembourg\", \"luxembourg\", \"luxembourg\", \"macron\", \"mainstream\", \"mainstream\", \"mainstream\", \"mais\", \"mais\", \"mais\", \"mais\", \"mais\", \"mali\", \"malian\", \"malien\", \"malienne\", \"malikura\", \"manual\", \"manual\", \"manual\", \"manual\", \"map\", \"map\", \"map\", \"map\", \"mar\", \"mar\", \"mar\", \"march\", \"march\", \"march\", \"march\", \"march\", \"march\", \"march\", \"march\", \"marinica\", \"mark\", \"mark\", \"mark\", \"mark\", \"mark\", \"mark\", \"mark\", \"mark\", \"mastodon\", \"mastodon\", \"mastodon\", \"mastodon\", \"material\", \"material\", \"material\", \"mation\", \"mation\", \"mation\", \"mation\", \"mcluhan\", \"medium\", \"medium\", \"medium\", \"medium\", \"medium\", \"medium\", \"medium\", \"medium\", \"medium\", \"memorial\", \"memorial\", \"memorial\", \"memorial\", \"memorial\", \"memory\", \"memory\", \"memory\", \"memory\", \"memory\", \"memory\", \"memory\", \"mentalits\", \"mentioned\", \"mentioned\", \"mentioned\", \"mentioned\", \"merely\", \"merely\", \"merely\", \"merely\", \"merely\", \"merkel\", \"merkel\", \"metas\", \"mich\", \"military\", \"military\", \"military\", \"military\", \"military\", \"minister\", \"minister\", \"minister\", \"misguided\", \"misguided\", \"misguided\", \"mission\", \"mission\", \"mission\", \"mission\", \"mission\", \"mitarbeiterin\", \"mmoire\", \"mmoire\", \"mmoire\", \"mmoire\", \"mmoire\", \"mmoire\", \"modern\", \"modern\", \"modern\", \"modern\", \"modern\", \"modration\", \"mon\", \"monath\", \"mondiale\", \"mondiale\", \"mondiale\", \"mondiale\", \"mondiale\", \"mondiales\", \"mondiales\", \"mopti\", \"morphosyntactic\", \"morts\", \"morts\", \"morts\", \"mouchoir\", \"mourad\", \"mthodes\", \"munich\", \"musk\", \"musk\", \"musk\", \"musk\", \"musk\", \"mutsvairo\", \"nagging\", \"nation\", \"nation\", \"nation\", \"nation\", \"nation\", \"nation\", \"nation\", \"national\", \"national\", \"national\", \"national\", \"national\", \"national\", \"national\", \"national\", \"nato\", \"nato\", \"natural\", \"natural\", \"natural\", \"natural\", \"negative\", \"negative\", \"negative\", \"negative\", \"negative\", \"network\", \"network\", \"network\", \"network\", \"network\", \"network\", \"network\", \"network\", \"newcomer\", \"news\", \"news\", \"news\", \"news\", \"news\", \"news\", \"news\", \"news\", \"nicht\", \"nicht\", \"nigeria\", \"nioro\", \"niques\", \"noch\", \"nonideological\", \"normies\", \"noun\", \"noun\", \"nous\", \"nous\", \"nous\", \"nous\", \"nous\", \"november\", \"november\", \"november\", \"november\", \"november\", \"number\", \"number\", \"number\", \"number\", \"number\", \"number\", \"number\", \"number\", \"numrique\", \"numrique\", \"numriques\", \"numriques\", \"oldenbourg\", \"ombie\", \"online\", \"online\", \"online\", \"online\", \"online\", \"online\", \"online\", \"online\", \"online\", \"order\", \"order\", \"order\", \"order\", \"order\", \"ouvriers\", \"ouvriers\", \"page\", \"page\", \"page\", \"page\", \"page\", \"page\", \"page\", \"paix\", \"paix\", \"paix\", \"paradigm\", \"parameter\", \"parinya\", \"parmelee\", \"past\", \"past\", \"past\", \"past\", \"past\", \"past\", \"pasted\", \"pay\", \"pay\", \"pay\", \"pay\", \"pay\", \"peace\", \"peace\", \"peace\", \"peace\", \"people\", \"people\", \"people\", \"people\", \"people\", \"people\", \"people\", \"people\", \"people\", \"permet\", \"permet\", \"pershing\", \"personnes\", \"pill\", \"plate\", \"plateforme\", \"plateformes\", \"platform\", \"platform\", \"platform\", \"platform\", \"platform\", \"platform\", \"plus\", \"plus\", \"plus\", \"plus\", \"plus\", \"plus\", \"plus\", \"poem\", \"poem\", \"political\", \"political\", \"political\", \"political\", \"political\", \"political\", \"political\", \"political\", \"politician\", \"politician\", \"politician\", \"politician\", \"politician\", \"politician\", \"politik\", \"politique\", \"politique\", \"politique\", \"politique\", \"population\", \"population\", \"population\", \"population\", \"population\", \"population\", \"population\", \"ported\", \"positive\", \"positive\", \"positive\", \"positive\", \"positive\", \"post\", \"post\", \"post\", \"post\", \"post\", \"post\", \"post\", \"post\", \"post\", \"posting\", \"posting\", \"posting\", \"posting\", \"pour\", \"pour\", \"pour\", \"pour\", \"pour\", \"pour\", \"pour\", \"pour\", \"prcisment\", \"premire\", \"premire\", \"premire\", \"premire\", \"premire\", \"president\", \"president\", \"president\", \"president\", \"press\", \"press\", \"press\", \"press\", \"press\", \"press\", \"press\", \"press\", \"press\", \"prime\", \"prime\", \"prime\", \"prime\", \"primor\", \"processing\", \"processing\", \"processing\", \"processing\", \"prof\", \"prof\", \"prof\", \"professional\", \"professional\", \"profile\", \"profile\", \"profile\", \"profile\", \"programming\", \"project\", \"project\", \"project\", \"project\", \"project\", \"project\", \"project\", \"projektleiter\", \"prominent\", \"prominent\", \"prominent\", \"promotionjob\", \"proper\", \"proper\", \"proper\", \"prost\", \"prost\", \"prost\", \"prost\", \"provenance\", \"provenance\", \"public\", \"public\", \"public\", \"public\", \"public\", \"public\", \"public\", \"public\", \"purdue\", \"qanon\", \"qanons\", \"reading\", \"reading\", \"reading\", \"reading\", \"reading\", \"reading\", \"reading\", \"reading\", \"reading\", \"realdonaldtrump\", \"reality\", \"reality\", \"reality\", \"reality\", \"reality\", \"reality\", \"rebuilding\", \"rebuilding\", \"recommended\", \"recommended\", \"reconciliation\", \"recovery\", \"recovery\", \"referenced\", \"related\", \"related\", \"related\", \"related\", \"related\", \"related\", \"remembrance\", \"remembrance\", \"research\", \"research\", \"research\", \"research\", \"research\", \"research\", \"research\", \"result\", \"result\", \"result\", \"result\", \"result\", \"result\", \"revue\", \"revue\", \"revue\", \"rgiment\", \"rgiments\", \"rgulateur\", \"rgulation\", \"romain\", \"romantic\", \"roosevelt\", \"rosenberg\", \"rpprostindd\", \"rseau\", \"rseau\", \"rseaux\", \"rseaux\", \"rule\", \"rule\", \"rule\", \"rule\", \"sacrices\", \"saisir\", \"sans\", \"sans\", \"sans\", \"sans\", \"sans\", \"sarajevo\", \"sarajevo\", \"sarajevo\", \"sarfati\", \"sarfatis\", \"satises\", \"satisfy\", \"satisfy\", \"schandorf\", \"schnell\", \"schroeder\", \"science\", \"science\", \"science\", \"science\", \"science\", \"science\", \"science\", \"science\", \"scientiac\", \"scottish\", \"segou\", \"sense\", \"sense\", \"sense\", \"sense\", \"sense\", \"sense\", \"service\", \"service\", \"service\", \"service\", \"service\", \"service\", \"service\", \"sharing\", \"sharing\", \"short\", \"short\", \"short\", \"short\", \"short\", \"short\", \"sich\", \"sign\", \"sign\", \"sign\", \"sign\", \"sign\", \"sign\", \"sikasso\", \"sirakoro\", \"site\", \"site\", \"site\", \"site\", \"site\", \"site\", \"site\", \"site\", \"slabore\", \"slaughter\", \"slippage\", \"slippage\", \"snapshot\", \"snapshot\", \"snapshot\", \"snell\", \"social\", \"social\", \"social\", \"social\", \"social\", \"social\", \"social\", \"social\", \"social\", \"sociales\", \"sociales\", \"sociales\", \"socialmedia\", \"socialmedia\", \"sociaux\", \"sociaux\", \"sociaux\", \"sociologie\", \"soldats\", \"soldats\", \"soldats\", \"soldats\", \"soldats\", \"soldier\", \"soldier\", \"soldier\", \"soldier\", \"soldier\", \"sondern\", \"sont\", \"sont\", \"sont\", \"sont\", \"sont\", \"sont\", \"souffrances\", \"south\", \"south\", \"south\", \"speciac\", \"speech\", \"speech\", \"speech\", \"speech\", \"speech\", \"speech\", \"speech\", \"spread\", \"spread\", \"spread\", \"started\", \"started\", \"started\", \"started\", \"started\", \"started\", \"state\", \"state\", \"state\", \"state\", \"state\", \"state\", \"state\", \"statistique\", \"stets\", \"stolz\", \"striner\", \"structure\", \"structure\", \"structure\", \"structure\", \"structure\", \"structure\", \"structure\", \"study\", \"study\", \"study\", \"study\", \"study\", \"study\", \"study\", \"study\", \"substate\", \"summit\", \"summit\", \"symbole\", \"symbole\", \"symbolique\", \"symphorien\", \"syntactic\", \"tagger\", \"tagging\", \"tannenberg\", \"tat\", \"tat\", \"temporality\", \"tenary\", \"tense\", \"tense\", \"termes\", \"text\", \"text\", \"text\", \"text\", \"text\", \"text\", \"text\", \"theory\", \"theory\", \"theory\", \"theory\", \"theory\", \"theory\", \"there\", \"there\", \"thilo\", \"thing\", \"thing\", \"thing\", \"thing\", \"thing\", \"thread\", \"thread\", \"thread\", \"thread\", \"time\", \"time\", \"time\", \"time\", \"time\", \"time\", \"time\", \"time\", \"time\", \"timelessness\", \"timeline\", \"timeline\", \"timeline\", \"timeline\", \"timeline\", \"timelinejs\", \"tlcharg\", \"tlcharg\", \"tlcharg\", \"tlcharg\", \"today\", \"today\", \"today\", \"today\", \"today\", \"toface\", \"toll\", \"toll\", \"tombouctou\", \"tone\", \"tone\", \"tone\", \"tone\", \"tone\", \"total\", \"total\", \"total\", \"total\", \"total\", \"total\", \"tout\", \"tout\", \"tout\", \"tout\", \"tower\", \"traabilit\", \"trace\", \"trace\", \"trace\", \"trace\", \"trace\", \"transparence\", \"trauma\", \"travestir\", \"trop\", \"trout\", \"trudeau\", \"trudeaus\", \"trump\", \"trump\", \"trump\", \"trve\", \"tweet\", \"tweet\", \"tweet\", \"tweet\", \"tweet\", \"tweet\", \"tweet\", \"tweet\", \"tweeted\", \"tweeted\", \"tweeted\", \"tweeted\", \"twiplomacy\", \"twitter\", \"twitter\", \"twitter\", \"twitter\", \"twitter\", \"twitter\", \"twitter\", \"twitter\", \"twitter\", \"twittersphere\", \"twittersphere\", \"twitterspheres\", \"ucpenseacnrs\", \"uncle\", \"unfortunate\", \"unfortunate\", \"united\", \"united\", \"united\", \"united\", \"united\", \"universitaires\", \"universitaires\", \"university\", \"university\", \"university\", \"university\", \"university\", \"university\", \"university\", \"university\", \"university\", \"upcoming\", \"urban\", \"urban\", \"user\", \"user\", \"user\", \"user\", \"user\", \"user\", \"usines\", \"utilisateurs\", \"valued\", \"verb\", \"verb\", \"verb\", \"verbal\", \"verbal\", \"verbal\", \"version\", \"version\", \"version\", \"version\", \"version\", \"vibration\", \"visual\", \"visual\", \"visual\", \"visualization\", \"visualization\", \"visualization\", \"volkstrauertag\", \"webpage\", \"weird\", \"weird\", \"weltkrieg\", \"werent\", \"west\", \"west\", \"west\", \"west\", \"west\", \"wikimeta\", \"wilson\", \"wilson\", \"wilson\", \"wird\", \"woodrow\", \"wordsworth\", \"work\", \"work\", \"work\", \"work\", \"work\", \"work\", \"work\", \"work\", \"work\", \"workjow\", \"world\", \"world\", \"world\", \"world\", \"world\", \"world\", \"world\", \"writing\", \"writing\", \"writing\", \"writing\", \"wwwcairninfo\", \"wwwcairninfo\", \"wwwcairninfo\", \"wwwcairninfo\", \"xxxxx\", \"yuan\", \"zakaria\", \"zeit\", \"zimet\", \"zimet\", \"zuckerberg\", \"zuckerberg\", \"zuckerberg\"]}, \"R\": 30, \"lambda.step\": 0.01, \"plot.opts\": {\"xlab\": \"PC1\", \"ylab\": \"PC2\"}, \"topic.order\": [12, 2, 13, 11, 8, 4, 7, 9, 10, 3, 6, 1, 5, 15, 14]};\n",
       "\n",
       "function LDAvis_load_lib(url, callback){\n",
       "  var s = document.createElement('script');\n",
       "  s.src = url;\n",
       "  s.async = true;\n",
       "  s.onreadystatechange = s.onload = callback;\n",
       "  s.onerror = function(){console.warn(\"failed to load library \" + url);};\n",
       "  document.getElementsByTagName(\"head\")[0].appendChild(s);\n",
       "}\n",
       "\n",
       "if(typeof(LDAvis) !== \"undefined\"){\n",
       "   // already loaded: just create the visualization\n",
       "   !function(LDAvis){\n",
       "       new LDAvis(\"#\" + \"ldavis_el696565721852496395316195\", ldavis_el696565721852496395316195_data);\n",
       "   }(LDAvis);\n",
       "}else if(typeof define === \"function\" && define.amd){\n",
       "   // require.js is available: use it to load d3/LDAvis\n",
       "   require.config({paths: {d3: \"https://d3js.org/d3.v5\"}});\n",
       "   require([\"d3\"], function(d3){\n",
       "      window.d3 = d3;\n",
       "      LDAvis_load_lib(\"https://cdn.jsdelivr.net/gh/bmabey/pyLDAvis@3.4.0/pyLDAvis/js/ldavis.v3.0.0.js\", function(){\n",
       "        new LDAvis(\"#\" + \"ldavis_el696565721852496395316195\", ldavis_el696565721852496395316195_data);\n",
       "      });\n",
       "    });\n",
       "}else{\n",
       "    // require.js not available: dynamically load d3 & LDAvis\n",
       "    LDAvis_load_lib(\"https://d3js.org/d3.v5.js\", function(){\n",
       "         LDAvis_load_lib(\"https://cdn.jsdelivr.net/gh/bmabey/pyLDAvis@3.4.0/pyLDAvis/js/ldavis.v3.0.0.js\", function(){\n",
       "                 new LDAvis(\"#\" + \"ldavis_el696565721852496395316195\", ldavis_el696565721852496395316195_data);\n",
       "            })\n",
       "         });\n",
       "}\n",
       "</script>"
      ],
      "text/plain": [
       "<IPython.core.display.HTML object>"
      ]
     },
     "execution_count": 14,
     "metadata": {},
     "output_type": "execute_result"
    }
   ],
   "source": [
    "#!pip install gensim pyLDAvis pandas nltk\n",
    "\n",
    "# Import necessary libraries first\n",
    "# import warnings\n",
    "warnings.filterwarnings('ignore')  # This will hide some warning messages\n",
    "# import pyLDAvis\n",
    "\n",
    "from zotero_ldaprocessor import LDAProcessor\n",
    "\n",
    "# Organize your results from the ZoteroPDFProcessor\n",
    "texts = []\n",
    "metadata_list = []\n",
    "for text, metadata in results:\n",
    "    if text.strip():  # Only include non-empty texts\n",
    "        texts.append(text)\n",
    "        metadata_list.append(metadata)\n",
    "\n",
    "# Initialize LDA processor\n",
    "lda_processor = LDAProcessor(num_topics=15, num_words=20)\n",
    "\n",
    "# Perform LDA analysis\n",
    "lda_model, dictionary, corpus, doc_details = lda_processor.perform_lda(texts, metadata_list)\n",
    "\n",
    "# Display topics\n",
    "lda_processor.display_topics(lda_model)\n",
    "\n",
    "# Display document-topic distribution\n",
    "lda_processor.display_document_topics(doc_details)\n",
    "\n",
    "# Display interactive visualization\n",
    "lda_processor.display_visualization(lda_model, corpus, dictionary)"
   ]
  },
  {
   "cell_type": "markdown",
   "metadata": {},
   "source": [
    "## Perform NER on prepared texts"
   ]
  },
  {
   "cell_type": "code",
   "execution_count": 15,
   "metadata": {},
   "outputs": [
    {
     "data": {
      "application/vnd.plotly.v1+json": {
       "config": {
        "plotlyServerURL": "https://plot.ly"
       },
       "data": [
        {
         "alignmentgroup": "True",
         "hovertemplate": "Entity Type=%{x}<br>Count=%{y}<extra></extra>",
         "legendgroup": "CARDINAL",
         "marker": {
          "color": "#ab63fa",
          "pattern": {
           "shape": ""
          }
         },
         "name": "CARDINAL",
         "offsetgroup": "CARDINAL",
         "orientation": "v",
         "showlegend": true,
         "textposition": "auto",
         "type": "bar",
         "x": [
          "CARDINAL"
         ],
         "xaxis": "x",
         "y": [
          8731
         ],
         "yaxis": "y"
        },
        {
         "alignmentgroup": "True",
         "hovertemplate": "Entity Type=%{x}<br>Count=%{y}<extra></extra>",
         "legendgroup": "PERSON",
         "marker": {
          "color": "#7aecec",
          "pattern": {
           "shape": ""
          }
         },
         "name": "PERSON",
         "offsetgroup": "PERSON",
         "orientation": "v",
         "showlegend": true,
         "textposition": "auto",
         "type": "bar",
         "x": [
          "PERSON"
         ],
         "xaxis": "x",
         "y": [
          8686
         ],
         "yaxis": "y"
        },
        {
         "alignmentgroup": "True",
         "hovertemplate": "Entity Type=%{x}<br>Count=%{y}<extra></extra>",
         "legendgroup": "ORG",
         "marker": {
          "color": "#ffd966",
          "pattern": {
           "shape": ""
          }
         },
         "name": "ORG",
         "offsetgroup": "ORG",
         "orientation": "v",
         "showlegend": true,
         "textposition": "auto",
         "type": "bar",
         "x": [
          "ORG"
         ],
         "xaxis": "x",
         "y": [
          7255
         ],
         "yaxis": "y"
        },
        {
         "alignmentgroup": "True",
         "hovertemplate": "Entity Type=%{x}<br>Count=%{y}<extra></extra>",
         "legendgroup": "DATE",
         "marker": {
          "color": "#bfe1d9",
          "pattern": {
           "shape": ""
          }
         },
         "name": "DATE",
         "offsetgroup": "DATE",
         "orientation": "v",
         "showlegend": true,
         "textposition": "auto",
         "type": "bar",
         "x": [
          "DATE"
         ],
         "xaxis": "x",
         "y": [
          5143
         ],
         "yaxis": "y"
        },
        {
         "alignmentgroup": "True",
         "hovertemplate": "Entity Type=%{x}<br>Count=%{y}<extra></extra>",
         "legendgroup": "GPE",
         "marker": {
          "color": "#ff9966",
          "pattern": {
           "shape": ""
          }
         },
         "name": "GPE",
         "offsetgroup": "GPE",
         "orientation": "v",
         "showlegend": true,
         "textposition": "auto",
         "type": "bar",
         "x": [
          "GPE"
         ],
         "xaxis": "x",
         "y": [
          3385
         ],
         "yaxis": "y"
        },
        {
         "alignmentgroup": "True",
         "hovertemplate": "Entity Type=%{x}<br>Count=%{y}<extra></extra>",
         "legendgroup": "NORP",
         "marker": {
          "color": "#FFA15A",
          "pattern": {
           "shape": ""
          }
         },
         "name": "NORP",
         "offsetgroup": "NORP",
         "orientation": "v",
         "showlegend": true,
         "textposition": "auto",
         "type": "bar",
         "x": [
          "NORP"
         ],
         "xaxis": "x",
         "y": [
          1787
         ],
         "yaxis": "y"
        },
        {
         "alignmentgroup": "True",
         "hovertemplate": "Entity Type=%{x}<br>Count=%{y}<extra></extra>",
         "legendgroup": "PRODUCT",
         "marker": {
          "color": "#bfeeb7",
          "pattern": {
           "shape": ""
          }
         },
         "name": "PRODUCT",
         "offsetgroup": "PRODUCT",
         "orientation": "v",
         "showlegend": true,
         "textposition": "auto",
         "type": "bar",
         "x": [
          "PRODUCT"
         ],
         "xaxis": "x",
         "y": [
          828
         ],
         "yaxis": "y"
        },
        {
         "alignmentgroup": "True",
         "hovertemplate": "Entity Type=%{x}<br>Count=%{y}<extra></extra>",
         "legendgroup": "WORK_OF_ART",
         "marker": {
          "color": "#ffeb80",
          "pattern": {
           "shape": ""
          }
         },
         "name": "WORK_OF_ART",
         "offsetgroup": "WORK_OF_ART",
         "orientation": "v",
         "showlegend": true,
         "textposition": "auto",
         "type": "bar",
         "x": [
          "WORK_OF_ART"
         ],
         "xaxis": "x",
         "y": [
          799
         ],
         "yaxis": "y"
        },
        {
         "alignmentgroup": "True",
         "hovertemplate": "Entity Type=%{x}<br>Count=%{y}<extra></extra>",
         "legendgroup": "PERCENT",
         "marker": {
          "color": "#e4e7d2",
          "pattern": {
           "shape": ""
          }
         },
         "name": "PERCENT",
         "offsetgroup": "PERCENT",
         "orientation": "v",
         "showlegend": true,
         "textposition": "auto",
         "type": "bar",
         "x": [
          "PERCENT"
         ],
         "xaxis": "x",
         "y": [
          411
         ],
         "yaxis": "y"
        },
        {
         "alignmentgroup": "True",
         "hovertemplate": "Entity Type=%{x}<br>Count=%{y}<extra></extra>",
         "legendgroup": "EVENT",
         "marker": {
          "color": "#bfeeb7",
          "pattern": {
           "shape": ""
          }
         },
         "name": "EVENT",
         "offsetgroup": "EVENT",
         "orientation": "v",
         "showlegend": true,
         "textposition": "auto",
         "type": "bar",
         "x": [
          "EVENT"
         ],
         "xaxis": "x",
         "y": [
          316
         ],
         "yaxis": "y"
        },
        {
         "alignmentgroup": "True",
         "hovertemplate": "Entity Type=%{x}<br>Count=%{y}<extra></extra>",
         "legendgroup": "LOC",
         "marker": {
          "color": "#ff9966",
          "pattern": {
           "shape": ""
          }
         },
         "name": "LOC",
         "offsetgroup": "LOC",
         "orientation": "v",
         "showlegend": true,
         "textposition": "auto",
         "type": "bar",
         "x": [
          "LOC"
         ],
         "xaxis": "x",
         "y": [
          308
         ],
         "yaxis": "y"
        },
        {
         "alignmentgroup": "True",
         "hovertemplate": "Entity Type=%{x}<br>Count=%{y}<extra></extra>",
         "legendgroup": "FAC",
         "marker": {
          "color": "#19d3f3",
          "pattern": {
           "shape": ""
          }
         },
         "name": "FAC",
         "offsetgroup": "FAC",
         "orientation": "v",
         "showlegend": true,
         "textposition": "auto",
         "type": "bar",
         "x": [
          "FAC"
         ],
         "xaxis": "x",
         "y": [
          252
         ],
         "yaxis": "y"
        },
        {
         "alignmentgroup": "True",
         "hovertemplate": "Entity Type=%{x}<br>Count=%{y}<extra></extra>",
         "legendgroup": "ORDINAL",
         "marker": {
          "color": "#FF6692",
          "pattern": {
           "shape": ""
          }
         },
         "name": "ORDINAL",
         "offsetgroup": "ORDINAL",
         "orientation": "v",
         "showlegend": true,
         "textposition": "auto",
         "type": "bar",
         "x": [
          "ORDINAL"
         ],
         "xaxis": "x",
         "y": [
          217
         ],
         "yaxis": "y"
        },
        {
         "alignmentgroup": "True",
         "hovertemplate": "Entity Type=%{x}<br>Count=%{y}<extra></extra>",
         "legendgroup": "LANGUAGE",
         "marker": {
          "color": "#ff9966",
          "pattern": {
           "shape": ""
          }
         },
         "name": "LANGUAGE",
         "offsetgroup": "LANGUAGE",
         "orientation": "v",
         "showlegend": true,
         "textposition": "auto",
         "type": "bar",
         "x": [
          "LANGUAGE"
         ],
         "xaxis": "x",
         "y": [
          89
         ],
         "yaxis": "y"
        },
        {
         "alignmentgroup": "True",
         "hovertemplate": "Entity Type=%{x}<br>Count=%{y}<extra></extra>",
         "legendgroup": "MONEY",
         "marker": {
          "color": "#e4e7d2",
          "pattern": {
           "shape": ""
          }
         },
         "name": "MONEY",
         "offsetgroup": "MONEY",
         "orientation": "v",
         "showlegend": true,
         "textposition": "auto",
         "type": "bar",
         "x": [
          "MONEY"
         ],
         "xaxis": "x",
         "y": [
          50
         ],
         "yaxis": "y"
        },
        {
         "alignmentgroup": "True",
         "hovertemplate": "Entity Type=%{x}<br>Count=%{y}<extra></extra>",
         "legendgroup": "TIME",
         "marker": {
          "color": "#bfe1d9",
          "pattern": {
           "shape": ""
          }
         },
         "name": "TIME",
         "offsetgroup": "TIME",
         "orientation": "v",
         "showlegend": true,
         "textposition": "auto",
         "type": "bar",
         "x": [
          "TIME"
         ],
         "xaxis": "x",
         "y": [
          41
         ],
         "yaxis": "y"
        },
        {
         "alignmentgroup": "True",
         "hovertemplate": "Entity Type=%{x}<br>Count=%{y}<extra></extra>",
         "legendgroup": "LAW",
         "marker": {
          "color": "#ff9966",
          "pattern": {
           "shape": ""
          }
         },
         "name": "LAW",
         "offsetgroup": "LAW",
         "orientation": "v",
         "showlegend": true,
         "textposition": "auto",
         "type": "bar",
         "x": [
          "LAW"
         ],
         "xaxis": "x",
         "y": [
          38
         ],
         "yaxis": "y"
        },
        {
         "alignmentgroup": "True",
         "hovertemplate": "Entity Type=%{x}<br>Count=%{y}<extra></extra>",
         "legendgroup": "QUANTITY",
         "marker": {
          "color": "#B6E880",
          "pattern": {
           "shape": ""
          }
         },
         "name": "QUANTITY",
         "offsetgroup": "QUANTITY",
         "orientation": "v",
         "showlegend": true,
         "textposition": "auto",
         "type": "bar",
         "x": [
          "QUANTITY"
         ],
         "xaxis": "x",
         "y": [
          26
         ],
         "yaxis": "y"
        }
       ],
       "layout": {
        "barmode": "relative",
        "legend": {
         "title": {
          "text": "Entity Type"
         },
         "tracegroupgap": 0
        },
        "showlegend": false,
        "template": {
         "data": {
          "bar": [
           {
            "error_x": {
             "color": "#2a3f5f"
            },
            "error_y": {
             "color": "#2a3f5f"
            },
            "marker": {
             "line": {
              "color": "#E5ECF6",
              "width": 0.5
             },
             "pattern": {
              "fillmode": "overlay",
              "size": 10,
              "solidity": 0.2
             }
            },
            "type": "bar"
           }
          ],
          "barpolar": [
           {
            "marker": {
             "line": {
              "color": "#E5ECF6",
              "width": 0.5
             },
             "pattern": {
              "fillmode": "overlay",
              "size": 10,
              "solidity": 0.2
             }
            },
            "type": "barpolar"
           }
          ],
          "carpet": [
           {
            "aaxis": {
             "endlinecolor": "#2a3f5f",
             "gridcolor": "white",
             "linecolor": "white",
             "minorgridcolor": "white",
             "startlinecolor": "#2a3f5f"
            },
            "baxis": {
             "endlinecolor": "#2a3f5f",
             "gridcolor": "white",
             "linecolor": "white",
             "minorgridcolor": "white",
             "startlinecolor": "#2a3f5f"
            },
            "type": "carpet"
           }
          ],
          "choropleth": [
           {
            "colorbar": {
             "outlinewidth": 0,
             "ticks": ""
            },
            "type": "choropleth"
           }
          ],
          "contour": [
           {
            "colorbar": {
             "outlinewidth": 0,
             "ticks": ""
            },
            "colorscale": [
             [
              0,
              "#0d0887"
             ],
             [
              0.1111111111111111,
              "#46039f"
             ],
             [
              0.2222222222222222,
              "#7201a8"
             ],
             [
              0.3333333333333333,
              "#9c179e"
             ],
             [
              0.4444444444444444,
              "#bd3786"
             ],
             [
              0.5555555555555556,
              "#d8576b"
             ],
             [
              0.6666666666666666,
              "#ed7953"
             ],
             [
              0.7777777777777778,
              "#fb9f3a"
             ],
             [
              0.8888888888888888,
              "#fdca26"
             ],
             [
              1,
              "#f0f921"
             ]
            ],
            "type": "contour"
           }
          ],
          "contourcarpet": [
           {
            "colorbar": {
             "outlinewidth": 0,
             "ticks": ""
            },
            "type": "contourcarpet"
           }
          ],
          "heatmap": [
           {
            "colorbar": {
             "outlinewidth": 0,
             "ticks": ""
            },
            "colorscale": [
             [
              0,
              "#0d0887"
             ],
             [
              0.1111111111111111,
              "#46039f"
             ],
             [
              0.2222222222222222,
              "#7201a8"
             ],
             [
              0.3333333333333333,
              "#9c179e"
             ],
             [
              0.4444444444444444,
              "#bd3786"
             ],
             [
              0.5555555555555556,
              "#d8576b"
             ],
             [
              0.6666666666666666,
              "#ed7953"
             ],
             [
              0.7777777777777778,
              "#fb9f3a"
             ],
             [
              0.8888888888888888,
              "#fdca26"
             ],
             [
              1,
              "#f0f921"
             ]
            ],
            "type": "heatmap"
           }
          ],
          "heatmapgl": [
           {
            "colorbar": {
             "outlinewidth": 0,
             "ticks": ""
            },
            "colorscale": [
             [
              0,
              "#0d0887"
             ],
             [
              0.1111111111111111,
              "#46039f"
             ],
             [
              0.2222222222222222,
              "#7201a8"
             ],
             [
              0.3333333333333333,
              "#9c179e"
             ],
             [
              0.4444444444444444,
              "#bd3786"
             ],
             [
              0.5555555555555556,
              "#d8576b"
             ],
             [
              0.6666666666666666,
              "#ed7953"
             ],
             [
              0.7777777777777778,
              "#fb9f3a"
             ],
             [
              0.8888888888888888,
              "#fdca26"
             ],
             [
              1,
              "#f0f921"
             ]
            ],
            "type": "heatmapgl"
           }
          ],
          "histogram": [
           {
            "marker": {
             "pattern": {
              "fillmode": "overlay",
              "size": 10,
              "solidity": 0.2
             }
            },
            "type": "histogram"
           }
          ],
          "histogram2d": [
           {
            "colorbar": {
             "outlinewidth": 0,
             "ticks": ""
            },
            "colorscale": [
             [
              0,
              "#0d0887"
             ],
             [
              0.1111111111111111,
              "#46039f"
             ],
             [
              0.2222222222222222,
              "#7201a8"
             ],
             [
              0.3333333333333333,
              "#9c179e"
             ],
             [
              0.4444444444444444,
              "#bd3786"
             ],
             [
              0.5555555555555556,
              "#d8576b"
             ],
             [
              0.6666666666666666,
              "#ed7953"
             ],
             [
              0.7777777777777778,
              "#fb9f3a"
             ],
             [
              0.8888888888888888,
              "#fdca26"
             ],
             [
              1,
              "#f0f921"
             ]
            ],
            "type": "histogram2d"
           }
          ],
          "histogram2dcontour": [
           {
            "colorbar": {
             "outlinewidth": 0,
             "ticks": ""
            },
            "colorscale": [
             [
              0,
              "#0d0887"
             ],
             [
              0.1111111111111111,
              "#46039f"
             ],
             [
              0.2222222222222222,
              "#7201a8"
             ],
             [
              0.3333333333333333,
              "#9c179e"
             ],
             [
              0.4444444444444444,
              "#bd3786"
             ],
             [
              0.5555555555555556,
              "#d8576b"
             ],
             [
              0.6666666666666666,
              "#ed7953"
             ],
             [
              0.7777777777777778,
              "#fb9f3a"
             ],
             [
              0.8888888888888888,
              "#fdca26"
             ],
             [
              1,
              "#f0f921"
             ]
            ],
            "type": "histogram2dcontour"
           }
          ],
          "mesh3d": [
           {
            "colorbar": {
             "outlinewidth": 0,
             "ticks": ""
            },
            "type": "mesh3d"
           }
          ],
          "parcoords": [
           {
            "line": {
             "colorbar": {
              "outlinewidth": 0,
              "ticks": ""
             }
            },
            "type": "parcoords"
           }
          ],
          "pie": [
           {
            "automargin": true,
            "type": "pie"
           }
          ],
          "scatter": [
           {
            "fillpattern": {
             "fillmode": "overlay",
             "size": 10,
             "solidity": 0.2
            },
            "type": "scatter"
           }
          ],
          "scatter3d": [
           {
            "line": {
             "colorbar": {
              "outlinewidth": 0,
              "ticks": ""
             }
            },
            "marker": {
             "colorbar": {
              "outlinewidth": 0,
              "ticks": ""
             }
            },
            "type": "scatter3d"
           }
          ],
          "scattercarpet": [
           {
            "marker": {
             "colorbar": {
              "outlinewidth": 0,
              "ticks": ""
             }
            },
            "type": "scattercarpet"
           }
          ],
          "scattergeo": [
           {
            "marker": {
             "colorbar": {
              "outlinewidth": 0,
              "ticks": ""
             }
            },
            "type": "scattergeo"
           }
          ],
          "scattergl": [
           {
            "marker": {
             "colorbar": {
              "outlinewidth": 0,
              "ticks": ""
             }
            },
            "type": "scattergl"
           }
          ],
          "scattermapbox": [
           {
            "marker": {
             "colorbar": {
              "outlinewidth": 0,
              "ticks": ""
             }
            },
            "type": "scattermapbox"
           }
          ],
          "scatterpolar": [
           {
            "marker": {
             "colorbar": {
              "outlinewidth": 0,
              "ticks": ""
             }
            },
            "type": "scatterpolar"
           }
          ],
          "scatterpolargl": [
           {
            "marker": {
             "colorbar": {
              "outlinewidth": 0,
              "ticks": ""
             }
            },
            "type": "scatterpolargl"
           }
          ],
          "scatterternary": [
           {
            "marker": {
             "colorbar": {
              "outlinewidth": 0,
              "ticks": ""
             }
            },
            "type": "scatterternary"
           }
          ],
          "surface": [
           {
            "colorbar": {
             "outlinewidth": 0,
             "ticks": ""
            },
            "colorscale": [
             [
              0,
              "#0d0887"
             ],
             [
              0.1111111111111111,
              "#46039f"
             ],
             [
              0.2222222222222222,
              "#7201a8"
             ],
             [
              0.3333333333333333,
              "#9c179e"
             ],
             [
              0.4444444444444444,
              "#bd3786"
             ],
             [
              0.5555555555555556,
              "#d8576b"
             ],
             [
              0.6666666666666666,
              "#ed7953"
             ],
             [
              0.7777777777777778,
              "#fb9f3a"
             ],
             [
              0.8888888888888888,
              "#fdca26"
             ],
             [
              1,
              "#f0f921"
             ]
            ],
            "type": "surface"
           }
          ],
          "table": [
           {
            "cells": {
             "fill": {
              "color": "#EBF0F8"
             },
             "line": {
              "color": "white"
             }
            },
            "header": {
             "fill": {
              "color": "#C8D4E3"
             },
             "line": {
              "color": "white"
             }
            },
            "type": "table"
           }
          ]
         },
         "layout": {
          "annotationdefaults": {
           "arrowcolor": "#2a3f5f",
           "arrowhead": 0,
           "arrowwidth": 1
          },
          "autotypenumbers": "strict",
          "coloraxis": {
           "colorbar": {
            "outlinewidth": 0,
            "ticks": ""
           }
          },
          "colorscale": {
           "diverging": [
            [
             0,
             "#8e0152"
            ],
            [
             0.1,
             "#c51b7d"
            ],
            [
             0.2,
             "#de77ae"
            ],
            [
             0.3,
             "#f1b6da"
            ],
            [
             0.4,
             "#fde0ef"
            ],
            [
             0.5,
             "#f7f7f7"
            ],
            [
             0.6,
             "#e6f5d0"
            ],
            [
             0.7,
             "#b8e186"
            ],
            [
             0.8,
             "#7fbc41"
            ],
            [
             0.9,
             "#4d9221"
            ],
            [
             1,
             "#276419"
            ]
           ],
           "sequential": [
            [
             0,
             "#0d0887"
            ],
            [
             0.1111111111111111,
             "#46039f"
            ],
            [
             0.2222222222222222,
             "#7201a8"
            ],
            [
             0.3333333333333333,
             "#9c179e"
            ],
            [
             0.4444444444444444,
             "#bd3786"
            ],
            [
             0.5555555555555556,
             "#d8576b"
            ],
            [
             0.6666666666666666,
             "#ed7953"
            ],
            [
             0.7777777777777778,
             "#fb9f3a"
            ],
            [
             0.8888888888888888,
             "#fdca26"
            ],
            [
             1,
             "#f0f921"
            ]
           ],
           "sequentialminus": [
            [
             0,
             "#0d0887"
            ],
            [
             0.1111111111111111,
             "#46039f"
            ],
            [
             0.2222222222222222,
             "#7201a8"
            ],
            [
             0.3333333333333333,
             "#9c179e"
            ],
            [
             0.4444444444444444,
             "#bd3786"
            ],
            [
             0.5555555555555556,
             "#d8576b"
            ],
            [
             0.6666666666666666,
             "#ed7953"
            ],
            [
             0.7777777777777778,
             "#fb9f3a"
            ],
            [
             0.8888888888888888,
             "#fdca26"
            ],
            [
             1,
             "#f0f921"
            ]
           ]
          },
          "colorway": [
           "#636efa",
           "#EF553B",
           "#00cc96",
           "#ab63fa",
           "#FFA15A",
           "#19d3f3",
           "#FF6692",
           "#B6E880",
           "#FF97FF",
           "#FECB52"
          ],
          "font": {
           "color": "#2a3f5f"
          },
          "geo": {
           "bgcolor": "white",
           "lakecolor": "white",
           "landcolor": "#E5ECF6",
           "showlakes": true,
           "showland": true,
           "subunitcolor": "white"
          },
          "hoverlabel": {
           "align": "left"
          },
          "hovermode": "closest",
          "mapbox": {
           "style": "light"
          },
          "paper_bgcolor": "white",
          "plot_bgcolor": "#E5ECF6",
          "polar": {
           "angularaxis": {
            "gridcolor": "white",
            "linecolor": "white",
            "ticks": ""
           },
           "bgcolor": "#E5ECF6",
           "radialaxis": {
            "gridcolor": "white",
            "linecolor": "white",
            "ticks": ""
           }
          },
          "scene": {
           "xaxis": {
            "backgroundcolor": "#E5ECF6",
            "gridcolor": "white",
            "gridwidth": 2,
            "linecolor": "white",
            "showbackground": true,
            "ticks": "",
            "zerolinecolor": "white"
           },
           "yaxis": {
            "backgroundcolor": "#E5ECF6",
            "gridcolor": "white",
            "gridwidth": 2,
            "linecolor": "white",
            "showbackground": true,
            "ticks": "",
            "zerolinecolor": "white"
           },
           "zaxis": {
            "backgroundcolor": "#E5ECF6",
            "gridcolor": "white",
            "gridwidth": 2,
            "linecolor": "white",
            "showbackground": true,
            "ticks": "",
            "zerolinecolor": "white"
           }
          },
          "shapedefaults": {
           "line": {
            "color": "#2a3f5f"
           }
          },
          "ternary": {
           "aaxis": {
            "gridcolor": "white",
            "linecolor": "white",
            "ticks": ""
           },
           "baxis": {
            "gridcolor": "white",
            "linecolor": "white",
            "ticks": ""
           },
           "bgcolor": "#E5ECF6",
           "caxis": {
            "gridcolor": "white",
            "linecolor": "white",
            "ticks": ""
           }
          },
          "title": {
           "x": 0.05
          },
          "xaxis": {
           "automargin": true,
           "gridcolor": "white",
           "linecolor": "white",
           "ticks": "",
           "title": {
            "standoff": 15
           },
           "zerolinecolor": "white",
           "zerolinewidth": 2
          },
          "yaxis": {
           "automargin": true,
           "gridcolor": "white",
           "linecolor": "white",
           "ticks": "",
           "title": {
            "standoff": 15
           },
           "zerolinecolor": "white",
           "zerolinewidth": 2
          }
         }
        },
        "title": {
         "text": "Named Entities Distribution Across All Documents"
        },
        "xaxis": {
         "anchor": "y",
         "categoryarray": [
          "CARDINAL",
          "PERSON",
          "ORG",
          "DATE",
          "GPE",
          "NORP",
          "PRODUCT",
          "WORK_OF_ART",
          "PERCENT",
          "EVENT",
          "LOC",
          "FAC",
          "ORDINAL",
          "LANGUAGE",
          "MONEY",
          "TIME",
          "LAW",
          "QUANTITY"
         ],
         "categoryorder": "array",
         "domain": [
          0,
          1
         ],
         "title": {
          "text": "Entity Type"
         }
        },
        "yaxis": {
         "anchor": "x",
         "domain": [
          0,
          1
         ],
         "title": {
          "text": "Count"
         }
        }
       }
      }
     },
     "metadata": {},
     "output_type": "display_data"
    },
    {
     "data": {
      "text/html": [
       "<h3>Entity Type Counts</h3>"
      ],
      "text/plain": [
       "<IPython.core.display.HTML object>"
      ]
     },
     "metadata": {},
     "output_type": "display_data"
    },
    {
     "data": {
      "text/html": [
       "<style type=\"text/css\">\n",
       "#T_29b13 th {\n",
       "  border: 1px solid black;\n",
       "  padding: 8px;\n",
       "  text-align: left;\n",
       "}\n",
       "#T_29b13_row0_col0, #T_29b13_row0_col1, #T_29b13_row1_col0, #T_29b13_row1_col1, #T_29b13_row2_col0, #T_29b13_row2_col1, #T_29b13_row3_col0, #T_29b13_row3_col1, #T_29b13_row4_col0, #T_29b13_row4_col1, #T_29b13_row5_col0, #T_29b13_row5_col1, #T_29b13_row6_col0, #T_29b13_row6_col1, #T_29b13_row7_col0, #T_29b13_row7_col1, #T_29b13_row8_col0, #T_29b13_row8_col1, #T_29b13_row9_col0, #T_29b13_row9_col1, #T_29b13_row10_col0, #T_29b13_row10_col1, #T_29b13_row11_col0, #T_29b13_row11_col1, #T_29b13_row12_col0, #T_29b13_row12_col1, #T_29b13_row13_col0, #T_29b13_row13_col1, #T_29b13_row14_col0, #T_29b13_row14_col1, #T_29b13_row15_col0, #T_29b13_row15_col1, #T_29b13_row16_col0, #T_29b13_row16_col1, #T_29b13_row17_col0, #T_29b13_row17_col1 {\n",
       "  border: 1px solid black;\n",
       "  padding: 8px;\n",
       "  text-align: left;\n",
       "}\n",
       "</style>\n",
       "<table id=\"T_29b13\">\n",
       "  <thead>\n",
       "    <tr>\n",
       "      <th class=\"blank level0\" >&nbsp;</th>\n",
       "      <th id=\"T_29b13_level0_col0\" class=\"col_heading level0 col0\" >Entity Type</th>\n",
       "      <th id=\"T_29b13_level0_col1\" class=\"col_heading level0 col1\" >Count</th>\n",
       "    </tr>\n",
       "  </thead>\n",
       "  <tbody>\n",
       "    <tr>\n",
       "      <th id=\"T_29b13_level0_row0\" class=\"row_heading level0 row0\" >0</th>\n",
       "      <td id=\"T_29b13_row0_col0\" class=\"data row0 col0\" >CARDINAL</td>\n",
       "      <td id=\"T_29b13_row0_col1\" class=\"data row0 col1\" >8731</td>\n",
       "    </tr>\n",
       "    <tr>\n",
       "      <th id=\"T_29b13_level0_row1\" class=\"row_heading level0 row1\" >1</th>\n",
       "      <td id=\"T_29b13_row1_col0\" class=\"data row1 col0\" >PERSON</td>\n",
       "      <td id=\"T_29b13_row1_col1\" class=\"data row1 col1\" >8686</td>\n",
       "    </tr>\n",
       "    <tr>\n",
       "      <th id=\"T_29b13_level0_row2\" class=\"row_heading level0 row2\" >2</th>\n",
       "      <td id=\"T_29b13_row2_col0\" class=\"data row2 col0\" >ORG</td>\n",
       "      <td id=\"T_29b13_row2_col1\" class=\"data row2 col1\" >7255</td>\n",
       "    </tr>\n",
       "    <tr>\n",
       "      <th id=\"T_29b13_level0_row3\" class=\"row_heading level0 row3\" >3</th>\n",
       "      <td id=\"T_29b13_row3_col0\" class=\"data row3 col0\" >DATE</td>\n",
       "      <td id=\"T_29b13_row3_col1\" class=\"data row3 col1\" >5143</td>\n",
       "    </tr>\n",
       "    <tr>\n",
       "      <th id=\"T_29b13_level0_row4\" class=\"row_heading level0 row4\" >4</th>\n",
       "      <td id=\"T_29b13_row4_col0\" class=\"data row4 col0\" >GPE</td>\n",
       "      <td id=\"T_29b13_row4_col1\" class=\"data row4 col1\" >3385</td>\n",
       "    </tr>\n",
       "    <tr>\n",
       "      <th id=\"T_29b13_level0_row5\" class=\"row_heading level0 row5\" >5</th>\n",
       "      <td id=\"T_29b13_row5_col0\" class=\"data row5 col0\" >NORP</td>\n",
       "      <td id=\"T_29b13_row5_col1\" class=\"data row5 col1\" >1787</td>\n",
       "    </tr>\n",
       "    <tr>\n",
       "      <th id=\"T_29b13_level0_row6\" class=\"row_heading level0 row6\" >6</th>\n",
       "      <td id=\"T_29b13_row6_col0\" class=\"data row6 col0\" >PRODUCT</td>\n",
       "      <td id=\"T_29b13_row6_col1\" class=\"data row6 col1\" >828</td>\n",
       "    </tr>\n",
       "    <tr>\n",
       "      <th id=\"T_29b13_level0_row7\" class=\"row_heading level0 row7\" >7</th>\n",
       "      <td id=\"T_29b13_row7_col0\" class=\"data row7 col0\" >WORK_OF_ART</td>\n",
       "      <td id=\"T_29b13_row7_col1\" class=\"data row7 col1\" >799</td>\n",
       "    </tr>\n",
       "    <tr>\n",
       "      <th id=\"T_29b13_level0_row8\" class=\"row_heading level0 row8\" >8</th>\n",
       "      <td id=\"T_29b13_row8_col0\" class=\"data row8 col0\" >PERCENT</td>\n",
       "      <td id=\"T_29b13_row8_col1\" class=\"data row8 col1\" >411</td>\n",
       "    </tr>\n",
       "    <tr>\n",
       "      <th id=\"T_29b13_level0_row9\" class=\"row_heading level0 row9\" >9</th>\n",
       "      <td id=\"T_29b13_row9_col0\" class=\"data row9 col0\" >EVENT</td>\n",
       "      <td id=\"T_29b13_row9_col1\" class=\"data row9 col1\" >316</td>\n",
       "    </tr>\n",
       "    <tr>\n",
       "      <th id=\"T_29b13_level0_row10\" class=\"row_heading level0 row10\" >10</th>\n",
       "      <td id=\"T_29b13_row10_col0\" class=\"data row10 col0\" >LOC</td>\n",
       "      <td id=\"T_29b13_row10_col1\" class=\"data row10 col1\" >308</td>\n",
       "    </tr>\n",
       "    <tr>\n",
       "      <th id=\"T_29b13_level0_row11\" class=\"row_heading level0 row11\" >11</th>\n",
       "      <td id=\"T_29b13_row11_col0\" class=\"data row11 col0\" >FAC</td>\n",
       "      <td id=\"T_29b13_row11_col1\" class=\"data row11 col1\" >252</td>\n",
       "    </tr>\n",
       "    <tr>\n",
       "      <th id=\"T_29b13_level0_row12\" class=\"row_heading level0 row12\" >12</th>\n",
       "      <td id=\"T_29b13_row12_col0\" class=\"data row12 col0\" >ORDINAL</td>\n",
       "      <td id=\"T_29b13_row12_col1\" class=\"data row12 col1\" >217</td>\n",
       "    </tr>\n",
       "    <tr>\n",
       "      <th id=\"T_29b13_level0_row13\" class=\"row_heading level0 row13\" >13</th>\n",
       "      <td id=\"T_29b13_row13_col0\" class=\"data row13 col0\" >LANGUAGE</td>\n",
       "      <td id=\"T_29b13_row13_col1\" class=\"data row13 col1\" >89</td>\n",
       "    </tr>\n",
       "    <tr>\n",
       "      <th id=\"T_29b13_level0_row14\" class=\"row_heading level0 row14\" >14</th>\n",
       "      <td id=\"T_29b13_row14_col0\" class=\"data row14 col0\" >MONEY</td>\n",
       "      <td id=\"T_29b13_row14_col1\" class=\"data row14 col1\" >50</td>\n",
       "    </tr>\n",
       "    <tr>\n",
       "      <th id=\"T_29b13_level0_row15\" class=\"row_heading level0 row15\" >15</th>\n",
       "      <td id=\"T_29b13_row15_col0\" class=\"data row15 col0\" >TIME</td>\n",
       "      <td id=\"T_29b13_row15_col1\" class=\"data row15 col1\" >41</td>\n",
       "    </tr>\n",
       "    <tr>\n",
       "      <th id=\"T_29b13_level0_row16\" class=\"row_heading level0 row16\" >16</th>\n",
       "      <td id=\"T_29b13_row16_col0\" class=\"data row16 col0\" >LAW</td>\n",
       "      <td id=\"T_29b13_row16_col1\" class=\"data row16 col1\" >38</td>\n",
       "    </tr>\n",
       "    <tr>\n",
       "      <th id=\"T_29b13_level0_row17\" class=\"row_heading level0 row17\" >17</th>\n",
       "      <td id=\"T_29b13_row17_col0\" class=\"data row17 col0\" >QUANTITY</td>\n",
       "      <td id=\"T_29b13_row17_col1\" class=\"data row17 col1\" >26</td>\n",
       "    </tr>\n",
       "  </tbody>\n",
       "</table>\n"
      ],
      "text/plain": [
       "<pandas.io.formats.style.Styler at 0x15042a2d0>"
      ]
     },
     "metadata": {},
     "output_type": "display_data"
    },
    {
     "data": {
      "text/html": [
       "\n",
       "            <h3>Document: Les commémorations du centenaire de la Première Guerre mondiale : réflexion à mi-terme</h3>\n",
       "            <p><strong>Authors:</strong> </p>\n",
       "            <p><strong>Date:</strong> </p>\n",
       "            "
      ],
      "text/plain": [
       "<IPython.core.display.HTML object>"
      ]
     },
     "metadata": {},
     "output_type": "display_data"
    },
    {
     "data": {
      "text/html": [
       "<style type=\"text/css\">\n",
       "#T_95343 th {\n",
       "  border: 1px solid black;\n",
       "  padding: 8px;\n",
       "  text-align: left;\n",
       "}\n",
       "#T_95343_row0_col0, #T_95343_row0_col1, #T_95343_row0_col2, #T_95343_row1_col0, #T_95343_row1_col1, #T_95343_row1_col2, #T_95343_row2_col0, #T_95343_row2_col1, #T_95343_row2_col2, #T_95343_row3_col0, #T_95343_row3_col1, #T_95343_row3_col2, #T_95343_row4_col0, #T_95343_row4_col1, #T_95343_row4_col2, #T_95343_row5_col0, #T_95343_row5_col1, #T_95343_row5_col2, #T_95343_row6_col0, #T_95343_row6_col1, #T_95343_row6_col2, #T_95343_row7_col0, #T_95343_row7_col1, #T_95343_row7_col2, #T_95343_row8_col0, #T_95343_row8_col1, #T_95343_row8_col2, #T_95343_row9_col0, #T_95343_row9_col1, #T_95343_row9_col2, #T_95343_row10_col0, #T_95343_row10_col1, #T_95343_row10_col2, #T_95343_row11_col0, #T_95343_row11_col1, #T_95343_row11_col2 {\n",
       "  border: 1px solid black;\n",
       "  padding: 8px;\n",
       "  text-align: left;\n",
       "}\n",
       "</style>\n",
       "<table id=\"T_95343\">\n",
       "  <thead>\n",
       "    <tr>\n",
       "      <th class=\"blank level0\" >&nbsp;</th>\n",
       "      <th id=\"T_95343_level0_col0\" class=\"col_heading level0 col0\" >Entity Type</th>\n",
       "      <th id=\"T_95343_level0_col1\" class=\"col_heading level0 col1\" >Count</th>\n",
       "      <th id=\"T_95343_level0_col2\" class=\"col_heading level0 col2\" >Unique Entities</th>\n",
       "    </tr>\n",
       "  </thead>\n",
       "  <tbody>\n",
       "    <tr>\n",
       "      <th id=\"T_95343_level0_row0\" class=\"row_heading level0 row0\" >0</th>\n",
       "      <td id=\"T_95343_row0_col0\" class=\"data row0 col0\" >CARDINAL</td>\n",
       "      <td id=\"T_95343_row0_col1\" class=\"data row0 col1\" >11</td>\n",
       "      <td id=\"T_95343_row0_col2\" class=\"data row0 col2\" >14-18 (3), 206 (1), 20 (1), 207 (1), ten (1), 1914­1921 (1), 1900­1930 (1), 209 (1), membres (1)</td>\n",
       "    </tr>\n",
       "    <tr>\n",
       "      <th id=\"T_95343_level0_row1\" class=\"row_heading level0 row1\" >1</th>\n",
       "      <td id=\"T_95343_row1_col0\" class=\"data row1 col0\" >ORG</td>\n",
       "      <td id=\"T_95343_row1_col1\" class=\"data row1 col1\" >63</td>\n",
       "      <td id=\"T_95343_row1_col2\" class=\"data row1 col2\" >un (12), Debate - Débat (3), Fatherland (3), Chantal Kesteloot (3), Professeur (2), Belgique (2), sur la (2), la Belgique (1), XLII (1), Wallonie-Bruxelles (1), Intro (1), de la Belgique (1), Intitulé Pour (1), sec (1), jusqu’au cas d’école que constitue \n",
       "le centenaire de la Grande Guerre (1), COST (1), Chantal \n",
       "Kesteloot et (1), FWO (1), Brain (1), Cultural Dynamics (1), GWB (1), Belspo-Brain (1), de la Grande Guerre (1), Belgique (MEMEX WWI (1), UCL (1), Antoine Prost (1), doit \n",
       "être relativisé à l’aune de l’interdisciplinarité (1), UGent (1), nouvelle génération de chercheurs est (1), de la (1), social de l’historien (1), sein de la (1), che scientifique (1), une \n",
       "politique à long (1), State University (1), RTBF (1), BBC (1), cadre national à (1), État (1), d’évi (1), sur la capacité \n",
       "à mobi liser (1), cœur de plusieurs \n",
       "projets de thèse (1), dans leur chair (1)</td>\n",
       "    </tr>\n",
       "    <tr>\n",
       "      <th id=\"T_95343_level0_row2\" class=\"row_heading level0 row2\" >2</th>\n",
       "      <td id=\"T_95343_row2_col0\" class=\"data row2 col0\" >GPE</td>\n",
       "      <td id=\"T_95343_row2_col1\" class=\"data row2 col1\" >14</td>\n",
       "      <td id=\"T_95343_row2_col2\" class=\"data row2 col2\" >Les (3), France (2), la parole (1), CegeSoma (1), bezet (1), Belgium (1), revanche (1), Plongée (1), la (1), Oserait (1), fixe (1)</td>\n",
       "    </tr>\n",
       "    <tr>\n",
       "      <th id=\"T_95343_level0_row3\" class=\"row_heading level0 row3\" >3</th>\n",
       "      <td id=\"T_95343_row3_col0\" class=\"data row3 col0\" >PERSON</td>\n",
       "      <td id=\"T_95343_row3_col1\" class=\"data row3 col1\" >80</td>\n",
       "      <td id=\"T_95343_row3_col2\" class=\"data row3 col2\" >Guerre (10), Revue (2), Laurence van \n",
       " (2), Laurence van Ypersele (2), Nico Wouters (2), Florent Verfaillie (2), Catherine Lanneau (1), BTNG (1), comme de \n",
       " (1), Ypersele et Nico Wouters (1), d’août \n",
       "2014 ont ouvert (1), montées (1), Bruxelles (1), Liège (1), soutien de (1), de vue de deux (1), gran des \n",
       "communautés (1), Ypersele (1), de l’ULB (1), Mélanie Bost (1), Courrier (1), sur Les (1), Laurence van Ypersele est (1), Commémorer (1), qui peut être essentiellement lue \n",
       "comme celle des (1), Désormais (1), qui doit se (1), phénomène commémo (1), Présentée (1), de ta bleau (1), moment commé-\n",
       "moratif (1), compris commerciaux (1), cadre du \n",
       "colloque (1), Sous la (1), Jan Naert (1), tijdens de \n",
       "Eerste Wereldoorlog (1), Diplômé de l’UCL \n",
       "et de l’Université du Kent (1), de Bruno De Wever (1), Karla \n",
       "Vanraepenbusch (1), l’Université de Neuchâtel (1), de Liège (1), aujourd’hui moins (1), Belspo (1), compris \n",
       "l’expérience (1), Jan \n",
       "Naert (1), Karla (1), terrain de la (1), comment l’historien (1), de sa (1), rigueur scientifique \n",
       "et de son (1), de ren (1), Sophie De \n",
       "Schaepdrijver (1), belge de la Pre-\n",
       " (1), Bas (1), l’Université du Kent (1), La Belgique (1), néer landais (1), Grande Guerre (1), sa (1), S’interro- (1), communautés lin guistiques (1), Mais la (1), Sophie De Schaepdrijver (1), mémorielle et (1), guerre (1), suscités (1)</td>\n",
       "    </tr>\n",
       "    <tr>\n",
       "      <th id=\"T_95343_level0_row4\" class=\"row_heading level0 row4\" >4</th>\n",
       "      <td id=\"T_95343_row4_col0\" class=\"data row4 col0\" >DATE</td>\n",
       "      <td id=\"T_95343_row4_col1\" class=\"data row4 col1\" >23</td>\n",
       "      <td id=\"T_95343_row4_col2\" class=\"data row4 col2\" >2014 (2), 2015 (2), d’une (2), 2013-2017 (2), 2012 (1), 4 (1), l’agenda (1), 2014-\n",
       "2015 (1), 1914 (1), 2235-2236 (1), Burgemees (1), Frankrijk (1), 2013-\n",
       "2017 (1), 1990 (1), Winter (1), 2000 (1), 2004 (1), 1997 (1), 2018-2019 (1)</td>\n",
       "    </tr>\n",
       "    <tr>\n",
       "      <th id=\"T_95343_level0_row5\" class=\"row_heading level0 row5\" >5</th>\n",
       "      <td id=\"T_95343_row5_col0\" class=\"data row5 col0\" >NORP</td>\n",
       "      <td id=\"T_95343_row5_col1\" class=\"data row5 col1\" >26</td>\n",
       "      <td id=\"T_95343_row5_col2\" class=\"data row5 col2\" >dans (19), Dans (2), Identities (1), manque (1), scientifique (1), European (1), Sans (1)</td>\n",
       "    </tr>\n",
       "    <tr>\n",
       "      <th id=\"T_95343_level0_row6\" class=\"row_heading level0 row6\" >6</th>\n",
       "      <td id=\"T_95343_row6_col0\" class=\"data row6 col0\" >PRODUCT</td>\n",
       "      <td id=\"T_95343_row6_col1\" class=\"data row6 col1\" >7</td>\n",
       "      <td id=\"T_95343_row6_col2\" class=\"data row6 col2\" >Chantal \n",
       "Kesteloot (1), commé- (1), CegeSoma (1), d’exemples (1), grâce (1), VRT­Canvas (1), 210\n",
       " (1)</td>\n",
       "    </tr>\n",
       "    <tr>\n",
       "      <th id=\"T_95343_level0_row7\" class=\"row_heading level0 row7\" >7</th>\n",
       "      <td id=\"T_95343_row7_col0\" class=\"data row7 col0\" >EVENT</td>\n",
       "      <td id=\"T_95343_row7_col1\" class=\"data row7 col1\" >3</td>\n",
       "      <td id=\"T_95343_row7_col2\" class=\"data row7 col2\" >the First World War (1), The Great War (1), The Great War from Below (1)</td>\n",
       "    </tr>\n",
       "    <tr>\n",
       "      <th id=\"T_95343_level0_row8\" class=\"row_heading level0 row8\" >8</th>\n",
       "      <td id=\"T_95343_row8_col0\" class=\"data row8 col0\" >LOC</td>\n",
       "      <td id=\"T_95343_row8_col1\" class=\"data row8 col1\" >1</td>\n",
       "      <td id=\"T_95343_row8_col2\" class=\"data row8 col2\" >Communauté (1)</td>\n",
       "    </tr>\n",
       "    <tr>\n",
       "      <th id=\"T_95343_level0_row9\" class=\"row_heading level0 row9\" >9</th>\n",
       "      <td id=\"T_95343_row9_col0\" class=\"data row9 col0\" >WORK_OF_ART</td>\n",
       "      <td id=\"T_95343_row9_col1\" class=\"data row9 col1\" >3</td>\n",
       "      <td id=\"T_95343_row9_col2\" class=\"data row9 col2\" >Le (1), d’Antoon Vrints ( UGent (1), sein même \n",
       "des (1)</td>\n",
       "    </tr>\n",
       "    <tr>\n",
       "      <th id=\"T_95343_level0_row10\" class=\"row_heading level0 row10\" >10</th>\n",
       "      <td id=\"T_95343_row10_col0\" class=\"data row10 col0\" >FAC</td>\n",
       "      <td id=\"T_95343_row10_col1\" class=\"data row10 col1\" >4</td>\n",
       "      <td id=\"T_95343_row10_col2\" class=\"data row10 col2\" >Le second texte (1), CegeSoma (1), de la VUB et de  208\n",
       "Debate - Débat (1), Le (1)</td>\n",
       "    </tr>\n",
       "    <tr>\n",
       "      <th id=\"T_95343_level0_row11\" class=\"row_heading level0 row11\" >11</th>\n",
       "      <td id=\"T_95343_row11_col0\" class=\"data row11 col0\" >ORDINAL</td>\n",
       "      <td id=\"T_95343_row11_col1\" class=\"data row11 col1\" >1</td>\n",
       "      <td id=\"T_95343_row11_col2\" class=\"data row11 col2\" >second (1)</td>\n",
       "    </tr>\n",
       "  </tbody>\n",
       "</table>\n"
      ],
      "text/plain": [
       "<pandas.io.formats.style.Styler at 0x14f533f90>"
      ]
     },
     "metadata": {},
     "output_type": "display_data"
    },
    {
     "data": {
      "text/html": [
       "<hr>"
      ],
      "text/plain": [
       "<IPython.core.display.HTML object>"
      ]
     },
     "metadata": {},
     "output_type": "display_data"
    },
    {
     "data": {
      "text/html": [
       "\n",
       "            <h3>Document: Les sciences sociales face aux traces du big data</h3>\n",
       "            <p><strong>Authors:</strong> </p>\n",
       "            <p><strong>Date:</strong> 2015</p>\n",
       "            "
      ],
      "text/plain": [
       "<IPython.core.display.HTML object>"
      ]
     },
     "metadata": {},
     "output_type": "display_data"
    },
    {
     "data": {
      "text/html": [
       "<style type=\"text/css\">\n",
       "#T_e17fe th {\n",
       "  border: 1px solid black;\n",
       "  padding: 8px;\n",
       "  text-align: left;\n",
       "}\n",
       "#T_e17fe_row0_col0, #T_e17fe_row0_col1, #T_e17fe_row0_col2, #T_e17fe_row1_col0, #T_e17fe_row1_col1, #T_e17fe_row1_col2, #T_e17fe_row2_col0, #T_e17fe_row2_col1, #T_e17fe_row2_col2, #T_e17fe_row3_col0, #T_e17fe_row3_col1, #T_e17fe_row3_col2, #T_e17fe_row4_col0, #T_e17fe_row4_col1, #T_e17fe_row4_col2, #T_e17fe_row5_col0, #T_e17fe_row5_col1, #T_e17fe_row5_col2, #T_e17fe_row6_col0, #T_e17fe_row6_col1, #T_e17fe_row6_col2, #T_e17fe_row7_col0, #T_e17fe_row7_col1, #T_e17fe_row7_col2, #T_e17fe_row8_col0, #T_e17fe_row8_col1, #T_e17fe_row8_col2, #T_e17fe_row9_col0, #T_e17fe_row9_col1, #T_e17fe_row9_col2, #T_e17fe_row10_col0, #T_e17fe_row10_col1, #T_e17fe_row10_col2, #T_e17fe_row11_col0, #T_e17fe_row11_col1, #T_e17fe_row11_col2, #T_e17fe_row12_col0, #T_e17fe_row12_col1, #T_e17fe_row12_col2, #T_e17fe_row13_col0, #T_e17fe_row13_col1, #T_e17fe_row13_col2, #T_e17fe_row14_col0, #T_e17fe_row14_col1, #T_e17fe_row14_col2, #T_e17fe_row15_col0, #T_e17fe_row15_col1, #T_e17fe_row15_col2 {\n",
       "  border: 1px solid black;\n",
       "  padding: 8px;\n",
       "  text-align: left;\n",
       "}\n",
       "</style>\n",
       "<table id=\"T_e17fe\">\n",
       "  <thead>\n",
       "    <tr>\n",
       "      <th class=\"blank level0\" >&nbsp;</th>\n",
       "      <th id=\"T_e17fe_level0_col0\" class=\"col_heading level0 col0\" >Entity Type</th>\n",
       "      <th id=\"T_e17fe_level0_col1\" class=\"col_heading level0 col1\" >Count</th>\n",
       "      <th id=\"T_e17fe_level0_col2\" class=\"col_heading level0 col2\" >Unique Entities</th>\n",
       "    </tr>\n",
       "  </thead>\n",
       "  <tbody>\n",
       "    <tr>\n",
       "      <th id=\"T_e17fe_level0_row0\" class=\"row_heading level0 row0\" >0</th>\n",
       "      <td id=\"T_e17fe_row0_col0\" class=\"data row0 col0\" >CARDINAL</td>\n",
       "      <td id=\"T_e17fe_row0_col1\" class=\"data row0 col1\" >184</td>\n",
       "      <td id=\"T_e17fe_row0_col2\" class=\"data row0 col2\" >11 (7), 3 (5), 2 (4), 13 (4), 14 (4), 19 (4), 1 (3), 15 (3), 20 (3), 23 (3), 24 (3), 6 (2), 5 (2), 7 (2), 2/2015 (2), 12 (2), 17 (2), 22 (2), 28 (2), 29 (2), 30 (2), 31 (2), 33 (2), 35 (2), 37 (2), 41 (2), 43 (2), 53 (2), 57 (2), 58 (2), 59 (2), 60 (2), 61 (2), 62 (2), 64 (2), 67 (2), 229- (2), 72 (2), 78 (2), 79 (2), 15.52 (1), 3e (1), 65 (1), 828 (1), 9 (1), 289-318 (1), 8 (1), 230 (1), d’une (1), 2                                                    (1), 885 (1), 16 (1), 18 (1), 1 million (1), 1/ (1), 92-99 (1), 345-357 (1), 21 (1), 41 millions (1), 106 millions (1), 225- 234 (1), 173-186 (1), 25 (1), 26 (1), 27 (1), 148 (1), 1 000 (1), 1 635 (1), 32 (1), 678 (1), 7                                                   monde (1), 3,4 millions (1), 36 (1), 38 (1), 600000 (1), 39 (1), 107 (1), 326- 343 (1), 893-915 (1), 42 (1), 40 (1), 44 (1), 3V (1), 45 (1), 187 (1), 46 (1), 50 Or (1), 51 (1), 48 (1), 63 (1), 590 (1), 615 (1), 49 (1), 50 (1), 52 (1), 167 (1), 277 (1), 54 (1), 1e (1), 587- (1), vaine (1), 2/ (1), 200 (1), II (1), 57- (1), 16                                                   Le (1), 70 (1), 257 (1), 68 (1), 173 (1), 600 (1), 71 (1), 249 (1), 73 (1), 4 (1), 785- (1), 813 (1), 74 (1), 125 (1), 75 (1), 76 (1), 80 (1), d’instructions (1)</td>\n",
       "    </tr>\n",
       "    <tr>\n",
       "      <th id=\"T_e17fe_level0_row1\" class=\"row_heading level0 row1\" >1</th>\n",
       "      <td id=\"T_e17fe_row1_col0\" class=\"data row1 col0\" >WORK_OF_ART</td>\n",
       "      <td id=\"T_e17fe_row1_col1\" class=\"data row1 col1\" >24</td>\n",
       "      <td id=\"T_e17fe_row1_col2\" class=\"data row1 col2\" >Le (4), Revue Française de Science Politique (1), Read/Write Book 2 (1), Open Edition Press (1), Gallup Lazarsfeld (1), Le moteur \n",
       "d’appariement (1), La place de la longue durée dans (1), Inferring Web Communities From Link Topology (1), La nouvelle fabrique des SHS (1), WCIT ( World Conference on International Telecommunications (1), The Cost of Racial Animus (1), The Agenda -Setting Function of Mass Media (1), The Whole (1), The Issues Deserve More Credit: Pragmatist Contributions (1), Scraping the Social (1), Bursty and Hierarchical Structure in Streams” (1), The End of Theory (1), The End of Theory: The Data Deluge Makes (1), qui obsède (1), La fabrique de l’opinion (1), Amplification  \n",
       "Le (1)</td>\n",
       "    </tr>\n",
       "    <tr>\n",
       "      <th id=\"T_e17fe_level0_row2\" class=\"row_heading level0 row2\" >2</th>\n",
       "      <td id=\"T_e17fe_row2_col0\" class=\"data row2 col0\" >ORG</td>\n",
       "      <td id=\"T_e17fe_row2_col1\" class=\"data row2 col1\" >391</td>\n",
       "      <td id=\"T_e17fe_row2_col2\" class=\"data row2 col2\" >un (59), Big Data (18), Google (8), de la (8), qu’il (4), dans la (3), SHS (3), La \n",
       "Découverte (3), sur la (3), Félix Alcan (3), n’a (3), qui sont (3), Cette (3), Oxford (3), Oxford University Press (3), dans leur (2), De (2), Par (2), l’approche (2), Vélocité (2), nouvelle génération de sciences (2), Il n’y (2), Flammarion, Champs (2), Dominique Cardon (2), Pour (2), de la plate -forme (2), Elle (2), Alain Desrosières (2), Chaque (2), nœud (2), Oct - Déc (1), efficace7 (1), de nouveaux domaines (1), HAL (1), GE (1), Le Réseau Quetelet (1), Conseil (1), CESSDA (1), OpenEditions (1), numéro de la Revue d’Histoire Moderne (1), Contemporaine (1), Google N (1), Données Infrastructures et (1), La \n",
       "Documentation (1), La fabrique de l’opinion (1), dans la prolifération des (1), qui (1), grâce à (1), dans le même temps à schématiser (1), qualitatifs des méthodes des sciences (1), une mutation des méthodes de \n",
       "quantification qui pénètre (1), Exhaustivité  Représentativité  Traçabilité  \n",
       "Co-construction \n",
       "institutions/ \n",
       "recherche (1), Suivi (1), Machines de \n",
       "Hollerith (1), Courbes (1), D. Cardon (1), Intervalle de (1), Explications  Corrélations (1), constitué la \n",
       "réflexivité des sociétés pour (1), époque des sciences (1), fait alliance avec des (1), compte qui (1), Savage M (1), Big \n",
       "Data & Society (1), Pour la (1), qui distinguait (1), ce sont donc plus de 25 (1), qui transitent par leur (1), d’actions (1), celle de la vitesse de la (1), McKay Brothers (1), soit à (1), de la vitesse de la (1), de la science politique et des autres sciences (1), par des principes qui laissent de (1), la robustesse (1), Foucault (1), Entret (1), Propos (1), Geof Bowker (1), The Theory/Data Thing (1), International Journal of Communication (1), Social Network (1), Raleigh NC (1), the Dynamics of the News Cycle (1), KDD (1), Knight Foundation (1), fondateur (1), René Caillau (1), WWW (1), son prénom (1), être des métadonnées ( plus (1), relationnelles27 (1), ne \n",
       "pourra jamais garantir la pertinence dans une situation (1), il distingue les clics (1), Apple (1), Amazon (1), Geof Bowker & Leigh Star S., Sorting Things Out (1), MIT \n",
       "Press (1), sur un \n",
       "post (1), Smolinski (1), J. -S. (1), A Researc h Agenda (1), Management and Organization Studies (1), Hermès/Lavoisier (1), Brossaud (1), Digital Cognitive Technologies (1), sur de \n",
       " (1), IP (1), sur un (1), sur leur (1), mesurer à la fois une forme d’audience (1), marketeur après le lancement de p (1), qui doivent pratiquer (1), qui fonctionnent comme indices (1), la capacité à \n",
       "déterminer (1), de la marque (1), Frequency Politics (1), la construction de l’opinion (1), Audrey Lohard (1), Zones (1), Éditions \n",
       "Raisons d’agir (1), dans la recherche en (1), Nouveaux (1), nouveaux enjeux (1), PS et à l’UMP (1), s’interroge (1), Google S (1), Pratiquer (1), la plate -forme (1), iranienne de 2009 à l’aide des \n",
       " (1), Causal Inference (1), American Political Science Association (1), American Political Review (1), Black Presidential Candidate : Evidence Using \n",
       " (1), Google Search Data (1), Journal of Public Economics (1), Digital Methods (1), MIT Press (1), Controversy Analysis (1), Digital Method (1), Science, Technology (1), radical46 (1), aucune de ces deux (1), début de cet article (1), une spécialité de méthodes (1), un dénombrement d’actions (1), justifie notre démarche (1), dans la tradition des (1), Maxwell McCombs (1), University of Chicago (1), che de \n",
       "la (1), qui acceptent de perdre (1), social -société (1), chaque (1), constituaient pas leur point fort (1), sur la diversité des (1), suivre à la trace (1), Digital Test of Gabriel Tarde’s (1), British Journal of Sociology (1), Social Studies of Science (1), Journal of Cultural Economy (1), de la physique sociale (1), Dieu (1), qu’elle n’existerait (1), il apparait que la manifestation (1), sens de la p (1), par la (1), dans la rue comme (1), compte de la haute (1), sur la longue \n",
       "durée des (1), de la vélocité à (1), de la focalisation de \n",
       "l’attention en courbes à (1), Toute (1), dans un milieu (1), Formes (1), Cevipof (1), SIGKDD Intl (1), Data Mining (1), Genette (1), Principes de Psychologie (1), nécessiterait de \n",
       "mobiliser des catégories classiques de l’opposition (1), annoncées \n",
       "n’ont pas été conduites par (1), la puissance de connectivité (1), créer de petites (1), de faisabilité de cette (1), de la dépendance (1), d’exploiter (1), de (1), la force de frappe des (1), dans la mare avec son court (1), de la même façon (1), monde qui ne décalquait rien \n",
       "mais (1), limitait à ce secteur du marketing (1), de la bulle auto -référentielle si typique de la \n",
       "finance devenue spéculation (1), Wired \n",
       "Magazine (1), de la validité de (1), qui revient à une (1), qui sont les plus (1), démarche de benchmarking à partir de séries de données suffisamment (1), d’approche (1), conviendra de donner (1), s’amplifie (1), qui ne leur est (1), de la même façon que (1), Cependa (1), Data (1), WW Norton (1), Co (1), Gouverner (1), substance de l’opinion de (1), la physique (1), qui cherche des lois (1), qui déclenchent leur (1), L’approche par (1), memetracker de première génération (1), avec l’élan mimétique qui (1), Social Physics (1), Penguin Press (1), Guilhem Fouetillou (1), Ecologie (1), l’approche par (1), ées à une approche des (1), proposant leur (1), la \n",
       "propagation (1), indicateur de connexion (1), sa capacité de circulation (1), memetracker ni leur (1), des dispositifs qui l’ont (1), années de construction des (1), de l’influence de Spinoza (1), Lumiè (1), Wladimir Berelowitch & Michel Porret (1), Droz, Genève (1), Biographie (1), Gallup (1), social qui \n",
       "affleure désormais g râce à (1), dispositifs de traçabilité (1), de l’opinion de continuer à développer (1), Etats (1), Les sciences (1), qui ne réduisent (1), CEE (1), Glossaire  \n",
       "Big Data (1), d’activité sur (1), Leur (1), de calcul qui (1), Il cherche à (1), Timestamp (1), voit attachée (1), dans un journal d’événements (1), une (1), dans la longue (1), de la prolifération des innovations et des usages liés à ces \n",
       "innovations (1), d’être (1), pouvoir de contagion (1), qui participent à la constitution de ce (1), nouvelle version de l’intelligence (1), XXeme (1), ce qui n’est (1), Un (1), être exécuté par des (1), grâce à leur (1), d’autorité pour chaque (1)</td>\n",
       "    </tr>\n",
       "    <tr>\n",
       "      <th id=\"T_e17fe_level0_row3\" class=\"row_heading level0 row3\" >3</th>\n",
       "      <td id=\"T_e17fe_row3_col0\" class=\"data row3 col0\" >DATE</td>\n",
       "      <td id=\"T_e17fe_row3_col1\" class=\"data row3 col1\" >112</td>\n",
       "      <td id=\"T_e17fe_row3_col2\" class=\"data row3 col2\" >2013 (9), 2015 (8), 2014 (7), d’une (5), 2009 (4), 2007 (4), 2010 (4), 2012 (4), 2008 (3), 1991 (3), 2005 (3), 2011 (2), 1993 (2), 1912 (2), 1999 (2), 1890 (2), 2002 (2), 2004 (2), 2006 (2), 2838 (1), 1998 (1), April –June 2014 (1), 1901 (1), qu’en dit A. Laumonier (1), 1799 (1), April 26 (1), 14 September 2008 (1), 24 1998 (1), 93 (1), Reber (1), 2013/3 (1), 43 (1), avril 2015 (1), January 2015 (1), 71- 74 (1), 118, 2014 (1), Values , March 2015 (1), 36 (1), 49 (1), 4 (1), 37 (1), 6 (1), 54 (1), septembre 2014 (1), 1892 (1), 1976 (1), 4, 1994 (1), 23/06/2008 (1), 20 14 (1), 126, 2004 (1), 147, 2008 (1), 1893 (1), 1987 (1), 75 (1), 7 (1), 42, 2014 (1), 1936 (1), 1939 (1), rond, 1996 (1), 1986 (1), 21- 71 (1)</td>\n",
       "    </tr>\n",
       "    <tr>\n",
       "      <th id=\"T_e17fe_level0_row4\" class=\"row_heading level0 row4\" >4</th>\n",
       "      <td id=\"T_e17fe_row4_col0\" class=\"data row4 col0\" >GPE</td>\n",
       "      <td id=\"T_e17fe_row4_col1\" class=\"data row4 col1\" >119</td>\n",
       "      <td id=\"T_e17fe_row4_col2\" class=\"data row4 col2\" >Paris (23), Les (9), sont (5), pp. (4), la (4), La Découverte (3), Seuil (3), New York (3), Chicago (3), Réseau (2), Sciences Sociales (2), La (2), Proc (2), Marseille (2), Agone (2), Cambridge (2), faveur (2), qui (2), Cleo5 (1), convention10 (1), Loïc Blondiaux (1), Tableau (1), Plates (1), Métriques (1), Najar (1), Hosung Park (1), USA (1), Meme (1), numériques (1), Franck (1), Cochoy (1), Czarniawska (1), Cheltenham (1), UK (1), Lavoisier (1), pp (1), l leur (1), Faire (1), rpus (1), amplifie38 (1), Wikipédia (1), Contropedia (1), fort qui (1), qu’il (1), MA (1), jadis47 (1), qu’à (1), Obama (1), Formulés (1), non de (1), Le (1), la collecte et (1), Alain (1), Desrosières63 (1), York City (1), La télévision (1), Trois (1), L’Harmattan (1), corpusculaire66 (1), Mines de Paris (1), Notre (1), Algorith (1)</td>\n",
       "    </tr>\n",
       "    <tr>\n",
       "      <th id=\"T_e17fe_level0_row5\" class=\"row_heading level0 row5\" >5</th>\n",
       "      <td id=\"T_e17fe_row5_col0\" class=\"data row5 col0\" >NORP</td>\n",
       "      <td id=\"T_e17fe_row5_col1\" class=\"data row5 col1\" >104</td>\n",
       "      <td id=\"T_e17fe_row5_col2\" class=\"data row5 col2\" >dans (76), Dans (12), Essais (2), R. (2), Certes (1), appr (1), être (1), Durkheim (1), Sans (1), sans (1), R. Rogers (1), Selfish (1), affiché (1), Adblock (1), Dominique (1), dépasse77 (1)</td>\n",
       "    </tr>\n",
       "    <tr>\n",
       "      <th id=\"T_e17fe_level0_row6\" class=\"row_heading level0 row6\" >6</th>\n",
       "      <td id=\"T_e17fe_row6_col0\" class=\"data row6 col0\" >PERSON</td>\n",
       "      <td id=\"T_e17fe_row6_col1\" class=\"data row6 col1\" >540</td>\n",
       "      <td id=\"T_e17fe_row6_col2\" class=\"data row6 col2\" >Mais (10), qui (9), Bruno Latour (8), La (6), Dominique Boullier (6), de la (5), Cependant (5), Gabriel Tarde (5), humanités numériques (4), Variété (4), mais qui (3), Twitter (3), J. Kleinberg (3), William James (3), Cela (3), Réseaux (3), mais bien (3), Charlie (3), Yves Citton (3), Thévenot L. (2), Emmanuel Didier (2), G. Bowker (2), B. Latour (2), N. Mayer (2), Y. Citton (2), réseaux sociaux (2), Charles Seignobos (2), ce qui est (2), de Twitter (2), L. Backstrom (2), qui se (2), Jon Kleinberg (2), mais (2), d’entités (2), Humanités numériques (2), Qui (2), Revue (2), J. Pan (2), G. Tarde (2), Nonna Mayer (2), Sociologie (2), Janvier (2), Noortje Marres (2), Kleinberg (2), propriétés de (2), Comme (2), je suis \n",
       "charlie (2), Tarde (2), Désormais (2), s’équipent de façon plus (1), mais il \n",
       " (1), choix suffisent à rendre compte de ce qui est (1), modalité de \n",
       "réflexivité (1), sociétés qui (1), une grille de lecture de la (1), Electronique Ouverte (1), Plateforme de carnets (1), retour de la longue durée provoqué (1), de la taille des \n",
       "archives désormais numérisées  et par l’usage (1), indique bien (1), cadre de pensée (1), David (1), Méthodes d'Enquête (1), Sciences Humaines (1), Pierre Mounier (1), Eymard -Duvernay F. (1), Favereau O., (1), Salais R. (1), Problèmes (1), de la raison statistique (1), Rappelons de plus (1), qui pourr (1), quotidienne (1), générations ont (1), Dispositifs de \n",
       "collecte (1), Durkheim (1), calcul \n",
       "mécanographique (1), Graphes (1), de E. Didier (1), N. \n",
       "Marres (1), G. Fouetillou (1), S. Parasie (1), R. Rogers (1), F. Cochoy (1), M. Wievorka (1), F. Thibault (1), Yves Deloye (1), Collège de France (1), Probabilités  Volume (1), Modalités (1), propriétés socio -démographiques (1), peu de (1), meilleur et (1), l’émergence de «  transactional (1), venir de l’empirisme (1), Burrows R. (1), Roger Burrows (1), Mike Savage (1), Editions Karthala (1), de la vitesse de (1), environnement qui doit agréger (1), avant même (1), que toute (1), soit pas \n",
       "remise (1), autorités depuis l’avènement (1), Geof Bowker (1), Depuis de nombreuses (1), mais de façon (1), recensements21 (1), Alexandre Laumonier (1), Auray N. (1), Bourdeau V. (1), Cottin -Marx S. (1), Ouardi S. (1), Mouvements (1), contexte du numérique (1), Lemercier  Claire (1), Annales (1), Corée du Sud (1), Haewoon Kwak (1), Changhyun Lee (1), Sue Moon (1), Ou encore (1), J. Leskovec (1), Tim Berners -Lee (1), du \n",
       "réseau non plus (1), de vue \n",
       "des (1), La \n",
       "plate (1), quelque lien (1), ce soit (1), identités de Faceb (1), e entité qui (1), jamais de leurs (1), mais de s (1), un rang d’ (1), sens de la \n",
       "topologie des réseaux22 (1), la particularité de ce (1), mais de comptes (1), mais de clusters (1), mais de connectivité (1), mais de verbatim s issus de (1), Précisons (1), de \n",
       "données par les opérat eurs (1), Elles (1), comportement spécifique (1), qu’à (1), propriétés non plus (1), D. Gibson (1), P. Raghavan (1), Hypermedia (1), Cardon D. (1), Du Lien Au Like (1), Weibo (1), de se connecter (1), administratifs  pour (1), qui deviennent des modes de présentation \n",
       " (1), ce qui souligne (1), dan s une base de données \n",
       " (1), dynamique s (1), n’avaient \n",
       "jamais eu l’occasion de traiter (1), La « Vélocité  » (1), sur la (1), de ce qui est (1), de mesure de l’opinion (1), qui sont des marques d’attachement (1), trouve (1), identifiables de \n",
       "tous (1), J. et Vayre (1), B. (1), Edward Elgar (1), Camille Roth (1), Guilhem Fouetillou (1), Topographie de la renommée (1), Bernard Reber (1), Claire Brossaud (1), dir. (1), qui ont (1), mais beaucoup plus (1), mais aussi des activités (1), qui constituent (1), domaine de la (1), ce qui préoccupe (1), approximatifs (1), individuel mais (1), qui sont (1), désormais pris (1), Frequency Trading de la (1), mécanisme de \n",
       "likes (1), bijoutier qui abat s (1), Jesuis Charlie (1), Bien (1), d’analyse de cette (1), bien analysée (1), Cécile Méadel (1), Quantifier (1), d’audience de la (1), Economica (1), Yves Gingras (1), revue de ces (1), Fabienne \n",
       "Greffet (1), Revue de la BNF (1), -83 (1), propriétés socio (1), Anaïs \n",
       "Theviot (1), entier36 (1), limités ici à (1), bijoutier de Nice (1), preuve que l (1), Pour Charlie (1), ce matériau nouveau (1), de Retweets à (1), sur leur  usage de ces (1), de même (1), que leur (1), De (1), pas de traces   (1), autour de thèmes (1), avec de \n",
       "nouveaux outils (1), Louise Merzeau (1), Médium (1), Boullier (1), Lohard (1), Elisabeth L. Eisenstein (1), Monroe (1), de ce qui pourrait (1), de vue de la (1), et ont pu vérifier la (1), validité de leur s hypothèses (1), D’autres42 (1), Obama (1), garde l’historique de (1), Mais Wikipédia est (1), sont bien \n",
       "présents (1), Dégage (1), N. Marres44 est \n",
       "plus (1), N. Marres (1), Burt L. Monroe (1), M. Roberts (1), M. Sen (1), B. Sinclair (1), Formal Theory (1), Gary King (1), Séverine Arsène (1), Seth Stephens -Davidowitz (1), Richard Rogers (1), Marres (1), Noortje (1), Cela donne (1), de la façon d ont (1), Construire (1), un point de vue d’empirisme plus (1), mais bien de (1), Mais il \n",
       "convient (1), de ce que fait (1), conventions qui (1), ce qui \n",
       " (1), Armand Colin (1), Donald Shaw (1), notre deuil de l’exhaustivité sans (1), l’impératif de (1), ivité qui (1), puisqu’il se (1), la contrainte de \n",
       "représentativité (1), Nos (1), de ne traiter que des (1), jamais cependant (1), E. Todd (1), jesuisC harlie (1), Jensen P. (1), Venturini T. (1), Grauwin S. (1), Boullier D. (1), Weltevrede (1), qui ont produit (1), Emmanuel Todd (1), La controverse qui (1), de l’ouvrage de Todd (1), une seule de ces (1), jeu de montrer (1), de traiter la vélocité des traces (1), emparée de cette (1), qui avait (1), l’étude de la topologie (1), qui f urent (1), se soit  intéressé (1), Leur (1), qui leur permit de réaliser (1), autour de \n",
       "certains (1), l’unité de mesure (1), qui possède des propriétés de réfraction (1), travaux ont (1), Archives de \n",
       "sciences (1), Vincent Tiberj (1), Luc Rouban (1), Conf (1), Leskovec J. (1), pour qui «  ça (1), Précis de psychologie (1), attendu de la courbe de p (1), donne (1), Sortir de l’autoréférence (1), critère essentiel de \n",
       "qualité des entités (1), a/ Les (1), soit encore (1), laxisme (1), être signe (1), b/ Les (1), forme peu connue (1), d’étude de la (1), entités qui leur (1), qui s’installe ainsi (1), Richard Dawkins (1), Susan Blackmore (1), RFID (1), automatiques qui (1), l’interobjectivité de B. Latour (1), leur état (1), Cependant \n",
       "leur (1), se heurter à (1), Chris Anderson du (1), se fondait \n",
       "sur une (1), peut être (1), jeu de miroir (1), Chris Anderson (1), André Orléan (1), Jacob (1), Ce qui est (1), l’absence de détours (1), l’absence de \n",
       "questionnement (1), désormais abondante (1), volonté mais (1), Machine Learning (1), élaborés (1), n’a pas de pouvoir (1), Cela n’empêche (1), mais lorsque (1), domaines qui (1), explicatifs de grande portée (1), bien au -delà de la seule collecte (1), joué par la (1), théorie de Vladimir Vapnik (1), Pour (1), être connectées à \n",
       "des (1), qui s ont faites de \n",
       " (1), Nous proposon s de parler (1), d’autres qui (1), jamais théorisé (1), l’acteur -réseau (1), qui ont toutes leur (1), nos objectifs (1), Goliath (1), The Hidden Battles (1), Presses de l'École des Mines (1), Voir (1), mais aussi comme (1), être dessinée (1), Toute (1), suis charlie (1), vibration qui se (1), lle affecte (1), charlie (1), sens bien (1), et qui \n",
       "finissent (1), bien indiqué G. (1), d’abord (1), l’existence (1), de propriétés (1), Madeleine Akrich (1), M. Callon (1), Sociologie de la (1), Presses (1), Alex Pentland (1), Monadologie (1), Debaise (1), qui se différencie radicalement (1), échologie71 (1), Leskovec (1), commencé ce (1), de \n",
       "la (1), Roland Barthes (1), qui deviennent des \n",
       "attracteurs de tags (1), suffisa nte (1), du drapeau breton (1), M. Le Béchec (1), drapeau et de \n",
       "constater (1), quand bien même (1), qui existent (1), qui perturbe (1), Gilles Deleuze (1), du spinozisme dans l’espace (1), Réseaux de (1), Maxime Crépel (1), Communautés (1), De \n",
       "même (1), réalité (1), qui ont permis (1), générations de durer (1), bien au -delà de la prolifération de (1), aussi présente chez (1), de la qualité de leur (1), lignée de  la théorie de \n",
       "l’acteur (1), de Tarde qui en avait annoncé (1), De même   (1), d’un cadre spécifique (1), qui \n",
       "envahissent notre (1), Herbert L. Baker Foundation (1), Stafford Litt (1), qui produisent (1), comme toute la (1), Bruno \n",
       "Latour (1), Changer la (1), de Claire Lemercier (1), générati (1), domaine de \n",
       " (1), d’actualité (1), l’impossibilité de penser (1), temporalités mais (1), Laurent Thévenot (1), Conventions (1), mais aussi à leur (1), CV (1), algorithme s. Il (1), de vente et (1), microseconde près (1), ici étendus (1), avis de consommateurs (1), réseaux se (1), Timeline (1), aphique de données à (1), ligne de temps (1), qui peut devenir (1), Elisabeth Eiseinstein (1), sociétés de l’époque ont été \n",
       " (1), qui provoque (1), particularité de se (1), L’analyse \n",
       "de tous (1), Machine lea (1), artificielle qui ne s’appuie (1), qui leur (1), mais suppose (1)</td>\n",
       "    </tr>\n",
       "    <tr>\n",
       "      <th id=\"T_e17fe_level0_row7\" class=\"row_heading level0 row7\" >7</th>\n",
       "      <td id=\"T_e17fe_row7_col0\" class=\"data row7 col0\" >PRODUCT</td>\n",
       "      <td id=\"T_e17fe_row7_col1\" class=\"data row7 col1\" >15</td>\n",
       "      <td id=\"T_e17fe_row7_col2\" class=\"data row7 col2\" >Twitter (4), 1 Archive (1), Tableaux (1), • Facebook de (1), qu’on (1), soir même (1), Revue (1), d’être (1), Discovery (1), 607 (1), couple \n",
       "traces/  X (1), R Dawkins (1)</td>\n",
       "    </tr>\n",
       "    <tr>\n",
       "      <th id=\"T_e17fe_level0_row8\" class=\"row_heading level0 row8\" >8</th>\n",
       "      <td id=\"T_e17fe_row8_col0\" class=\"data row8 col0\" >LOC</td>\n",
       "      <td id=\"T_e17fe_row8_col1\" class=\"data row8 col1\" >3</td>\n",
       "      <td id=\"T_e17fe_row8_col2\" class=\"data row8 col2\" >Quételet est (1), région74 (1), Europe (1)</td>\n",
       "    </tr>\n",
       "    <tr>\n",
       "      <th id=\"T_e17fe_level0_row9\" class=\"row_heading level0 row9\" >9</th>\n",
       "      <td id=\"T_e17fe_row9_col0\" class=\"data row9 col0\" >FAC</td>\n",
       "      <td id=\"T_e17fe_row9_col1\" class=\"data row9 col1\" >15</td>\n",
       "      <td id=\"T_e17fe_row9_col2\" class=\"data row9 col2\" >d’échelle de la collecte (1), la longue (1), » de Berners -Lee et des (1), loi et leur (1), Le montage des (1), qualitatifs de Séverine Arsène (1), Prendre la parole (1), Le calcul est (1), la trace avec les dispositifs classiques des sciences (1), la contrainte de la (1), la surface même (1), toute leur place (1), Mèmes  \n",
       "Le (1), Le (1), sein de bibliothèques d’algorithmes (1)</td>\n",
       "    </tr>\n",
       "    <tr>\n",
       "      <th id=\"T_e17fe_level0_row10\" class=\"row_heading level0 row10\" >10</th>\n",
       "      <td id=\"T_e17fe_row10_col0\" class=\"data row10 col0\" >TIME</td>\n",
       "      <td id=\"T_e17fe_row10_col1\" class=\"data row10 col1\" >4</td>\n",
       "      <td id=\"T_e17fe_row10_col2\" class=\"data row10 col2\" >1                                                   Pour mieux (1), 7 Novembre (1), 8                                                   Des auteurs (1), 10                                                   rassemblées (1)</td>\n",
       "    </tr>\n",
       "    <tr>\n",
       "      <th id=\"T_e17fe_level0_row11\" class=\"row_heading level0 row11\" >11</th>\n",
       "      <td id=\"T_e17fe_row11_col0\" class=\"data row11 col0\" >ORDINAL</td>\n",
       "      <td id=\"T_e17fe_row11_col1\" class=\"data row11 col1\" >6</td>\n",
       "      <td id=\"T_e17fe_row11_col2\" class=\"data row11 col2\" >second (2), 70e (1), 19th (1), 9th (1), 8th (1)</td>\n",
       "    </tr>\n",
       "    <tr>\n",
       "      <th id=\"T_e17fe_level0_row12\" class=\"row_heading level0 row12\" >12</th>\n",
       "      <td id=\"T_e17fe_row12_col0\" class=\"data row12 col0\" >QUANTITY</td>\n",
       "      <td id=\"T_e17fe_row12_col1\" class=\"data row12 col1\" >3</td>\n",
       "      <td id=\"T_e17fe_row12_col2\" class=\"data row12 col2\" >300 mètres (1), 400 000 membres (1), 21   (1)</td>\n",
       "    </tr>\n",
       "    <tr>\n",
       "      <th id=\"T_e17fe_level0_row13\" class=\"row_heading level0 row13\" >13</th>\n",
       "      <td id=\"T_e17fe_row13_col0\" class=\"data row13 col0\" >PERCENT</td>\n",
       "      <td id=\"T_e17fe_row13_col1\" class=\"data row13 col1\" >3</td>\n",
       "      <td id=\"T_e17fe_row13_col2\" class=\"data row13 col2\" >95 % (1), 40 % (1), 76 George Gallup (1)</td>\n",
       "    </tr>\n",
       "    <tr>\n",
       "      <th id=\"T_e17fe_level0_row14\" class=\"row_heading level0 row14\" >14</th>\n",
       "      <td id=\"T_e17fe_row14_col0\" class=\"data row14 col0\" >EVENT</td>\n",
       "      <td id=\"T_e17fe_row14_col1\" class=\"data row14 col1\" >2</td>\n",
       "      <td id=\"T_e17fe_row14_col2\" class=\"data row14 col2\" >International World Wide (1), SIGKDD International Conference on Knowledge Discovery and Data Mining (1)</td>\n",
       "    </tr>\n",
       "    <tr>\n",
       "      <th id=\"T_e17fe_level0_row15\" class=\"row_heading level0 row15\" >15</th>\n",
       "      <td id=\"T_e17fe_row15_col0\" class=\"data row15 col0\" >MONEY</td>\n",
       "      <td id=\"T_e17fe_row15_col1\" class=\"data row15 col1\" >1</td>\n",
       "      <td id=\"T_e17fe_row15_col2\" class=\"data row15 col2\" >87 (1)</td>\n",
       "    </tr>\n",
       "  </tbody>\n",
       "</table>\n"
      ],
      "text/plain": [
       "<pandas.io.formats.style.Styler at 0x151067f10>"
      ]
     },
     "metadata": {},
     "output_type": "display_data"
    },
    {
     "data": {
      "text/html": [
       "<hr>"
      ],
      "text/plain": [
       "<IPython.core.display.HTML object>"
      ]
     },
     "metadata": {},
     "output_type": "display_data"
    },
    {
     "data": {
      "text/html": [
       "\n",
       "            <h3>Document: A Conspiracy of Data: QAnon, Social Media, and Information Visualization</h3>\n",
       "            <p><strong>Authors:</strong> </p>\n",
       "            <p><strong>Date:</strong> 07/2021</p>\n",
       "            "
      ],
      "text/plain": [
       "<IPython.core.display.HTML object>"
      ]
     },
     "metadata": {},
     "output_type": "display_data"
    },
    {
     "data": {
      "text/html": [
       "<style type=\"text/css\">\n",
       "#T_c5f00 th {\n",
       "  border: 1px solid black;\n",
       "  padding: 8px;\n",
       "  text-align: left;\n",
       "}\n",
       "#T_c5f00_row0_col0, #T_c5f00_row0_col1, #T_c5f00_row0_col2, #T_c5f00_row1_col0, #T_c5f00_row1_col1, #T_c5f00_row1_col2, #T_c5f00_row2_col0, #T_c5f00_row2_col1, #T_c5f00_row2_col2, #T_c5f00_row3_col0, #T_c5f00_row3_col1, #T_c5f00_row3_col2, #T_c5f00_row4_col0, #T_c5f00_row4_col1, #T_c5f00_row4_col2, #T_c5f00_row5_col0, #T_c5f00_row5_col1, #T_c5f00_row5_col2, #T_c5f00_row6_col0, #T_c5f00_row6_col1, #T_c5f00_row6_col2, #T_c5f00_row7_col0, #T_c5f00_row7_col1, #T_c5f00_row7_col2, #T_c5f00_row8_col0, #T_c5f00_row8_col1, #T_c5f00_row8_col2, #T_c5f00_row9_col0, #T_c5f00_row9_col1, #T_c5f00_row9_col2, #T_c5f00_row10_col0, #T_c5f00_row10_col1, #T_c5f00_row10_col2, #T_c5f00_row11_col0, #T_c5f00_row11_col1, #T_c5f00_row11_col2, #T_c5f00_row12_col0, #T_c5f00_row12_col1, #T_c5f00_row12_col2, #T_c5f00_row13_col0, #T_c5f00_row13_col1, #T_c5f00_row13_col2, #T_c5f00_row14_col0, #T_c5f00_row14_col1, #T_c5f00_row14_col2 {\n",
       "  border: 1px solid black;\n",
       "  padding: 8px;\n",
       "  text-align: left;\n",
       "}\n",
       "</style>\n",
       "<table id=\"T_c5f00\">\n",
       "  <thead>\n",
       "    <tr>\n",
       "      <th class=\"blank level0\" >&nbsp;</th>\n",
       "      <th id=\"T_c5f00_level0_col0\" class=\"col_heading level0 col0\" >Entity Type</th>\n",
       "      <th id=\"T_c5f00_level0_col1\" class=\"col_heading level0 col1\" >Count</th>\n",
       "      <th id=\"T_c5f00_level0_col2\" class=\"col_heading level0 col2\" >Unique Entities</th>\n",
       "    </tr>\n",
       "  </thead>\n",
       "  <tbody>\n",
       "    <tr>\n",
       "      <th id=\"T_c5f00_level0_row0\" class=\"row_heading level0 row0\" >0</th>\n",
       "      <td id=\"T_c5f00_row0_col0\" class=\"data row0 col0\" >PRODUCT</td>\n",
       "      <td id=\"T_c5f00_row0_col1\" class=\"data row0 col1\" >8</td>\n",
       "      <td id=\"T_c5f00_row0_col2\" class=\"data row0 col2\" >Twitter (4), the Creative Commons (1), Allyn (1), Critical \n",
       "Delphi (1), Conversation (1)</td>\n",
       "    </tr>\n",
       "    <tr>\n",
       "      <th id=\"T_c5f00_level0_row1\" class=\"row_heading level0 row1\" >1</th>\n",
       "      <td id=\"T_c5f00_row1_col0\" class=\"data row1 col0\" >ORG</td>\n",
       "      <td id=\"T_c5f00_row1_col1\" class=\"data row1 col1\" >256</td>\n",
       "      <td id=\"T_c5f00_row1_col2\" class=\"data row1 col2\" >QAnon (95), Trump (11), Social Media + Society (4), YouTube (3), COVID-19 (3), J. (3), Reddit.com (3), Meyer (2), Purdue University (2), Oxford English Dictionary (2), Electoral College (2), TikTok (2), Drucker (2), GAM (2), Deep State Mapping Project (2), Clock (2), Nagle (2), Pizzagate (2), Warner Bros. (2), The New York Times (2), Purdue (2), NonCommercial 4.0 License (https://creativecommons.org/licenses/by-nc/4.0/ (1), School of Information Studies (1), Social \n",
       "Media (1), Information Visualization (1), Klein & D’Ignazio (1), Cassin & Wendling (1), Greenspan & Orrechio-Egresitz (1), It’s Always Sunny (1), Charles Meadow and Weijing Yuan (1), Meadow and Yuan’s (1), Always Sunny (1), knowledge.4 (1), the Deep State (1), Howley (1), Bjork-James (1), Vaughn (1), Trump White House (1), Patriot (1), QAnon (Conger (1), White supremacists (1), Q. QAnon (1), Information Visualizations (1), QArmy (1), Wilke (1), Schäfer & van Es (1), Visualizing the World (1), the Democratic Party (1), END (1), Deep State (1), the World Trade Center (1), the US Senate (1), Pulse (1), Columbine (1), Texas Branch Davidians (1), MK Ultra (1), the Central Intelligence Agency’s (1), CIA (1), Champ (1), Burke (1), Storm (1), Ex-QAnon (1), State (1), Purdue University \n",
       "Libraries Open Access Publishing Fund (1), ORCID (1), Marsh’s (1), Google (1), Morpheus offers Neo (1), CBC Radio (1), NPR (1), Target (1), The Washington Post (1), S. (1), Guardian (1), Bjork-James, S. ( (1), GOP (1), The Washington \n",
       "Post (1), the National Academy of \n",
       "Sciences of the United States of America (1), CNN (1), M. Engebretsen & H. Kennedy (1), Information (1), Amsterdam University Press (1), E., & Wendling, M. ( (1), BBC News (1), The New \n",
       "York Times (1), the Great Replacement (1), SalHagen (1), Digital Humanities Quarterly, (1), Orrechio-Egresitz (1), https://www.insider.com/qanon-conspiracy-theory-future-biden-inauguration-trump-2021-1?utm_source=copy-link&utm_medium=referral&utm_content=topbar\n",
       "Haken, H., & Portugali (1), SpringerBriefs (1), php/fm/article (1), M., & Geman, O. ( (1), Holmes, A. (1), New York Magazine (1), MIT Press (1), https://twit- (1), ter.com/MajorPatriot/status/1338636690559279110.1\n",
       "Marsh (1), Teachers College Record (1), C., & Yuan (1), Information Processing & Management (1), MIT (1), Packt Publishing (1), The Seattle \n",
       "Times (1), Polity Press (1), Twitter.com (1), University Press (1), Big Data & Society (1), & Wachowski (1), G., & Walker (1), Slate Magazine (1), The Daily Beast (1), Verge (1), Perseus Publishing (1), Readwrite (1), Zin, C. (1), the American Society for \n",
       "Information Science and Technology (1), Journal of Design and Science (1), Digital \n",
       "Humanities (1), the School of Information Studies (1), Purdue \n",
       "University (1), Digital Humanities (1), DH Studio (1), The \n",
       "Journal of Magazine Media (1), Collection Management (1), Digital Humanities at University of Iowa’s (1), Obermann Center for Advanced Studies (1)</td>\n",
       "    </tr>\n",
       "    <tr>\n",
       "      <th id=\"T_c5f00_level0_row2\" class=\"row_heading level0 row2\" >2</th>\n",
       "      <td id=\"T_c5f00_row2_col0\" class=\"data row2 col0\" >DATE</td>\n",
       "      <td id=\"T_c5f00_row2_col1\" class=\"data row2 col1\" >215</td>\n",
       "      <td id=\"T_c5f00_row2_col2\" class=\"data row2 col2\" >2020 (43), 2021 (20), 2019 (17), 2017 (9), 1997 (5), 2018 (4), 2008 (4), 2012 (3), 1999 (3), 2009 (2), 2007 (2), 2015 (2), 2018b (2), 2017a (2), 2011 (2), 1983 (2), 2002 (2), 2018a (2), 105976 (2), 2019c (2), Today (2), July-September 2021 (1), 2016 (1), 1036064 (1), 2021 2021 (1), 47907 (1), 8chan (1), December 2020 (1), Charlie Day (1), Q post \n",
       "1676 (1), 21st-century (1), 6 January 2021 (1), 2020b (1), the past 4 years (1), Satan (1), 2019b (1), link-ages (1), 1993 (1), 2001 (1), 1995 (1), the \n",
       "past decades (1), 2020a (1), Roose, 2019 (1), 11 March (1), 7 December 2020 (1), November 3 (1), 2020, October 18 (1), November 11 (1), January 20 (1), 2020, October 16 (1), April 26 (1), August 24 (1), 116(6 (1), 2020, October 15 (1), August 2 (1), July 21 (1), November (1), Monday (1), 2021, January 24 (1), 2020, June 25 (1), covid-19 (1), 2021, January 22 (1), February 1 (1), May 6 (1), 2021, January 29 (1), January 30 (1), 2019, March 11 (1), August 26 (1), 2018, March 9 (1), February 16 (1), November 21 (1), (2017b, (1), December 9 (1), December 14 (1), February 11 (1), July 3 (1), 2019a (1), February 21 (1), 2845 (1), 2019b, March 9 (1), July 8) (1), 2020a, (1), April 10 (1), 3929 (1), 2020b, October 14 (1), 4855 (1), 2020c (1), October 21 (1), 4910 (1), A week (1), today (1), 2021, March 4 (1), August 4 (1), May 27 (1), May 23 (1), February 8) (1), 2019, March 20 (1), 2020, October 6 (1), 2005 (1), April 28 (1), 2011, January 7 (1), 2019, July 26 (1), 6 (1), 2022 (1)</td>\n",
       "    </tr>\n",
       "    <tr>\n",
       "      <th id=\"T_c5f00_level0_row3\" class=\"row_heading level0 row3\" >3</th>\n",
       "      <td id=\"T_c5f00_row3_col0\" class=\"data row3 col0\" >CARDINAL</td>\n",
       "      <td id=\"T_c5f00_row3_col1\" class=\"data row3 col1\" >118</td>\n",
       "      <td id=\"T_c5f00_row3_col2\" class=\"data row3 col2\" >2 (9), one (8), 4 (8), 1 (7), 3 (6), 5 (6), two (5), 6 (5), 15 (4), 7 (4), 8 (4), 9 (3), 8chan (3), 10 (3), 12 (3), 13 (3), 11 (2), 354 (2), 14 (2), 16 (2), 17 (2), 2021Article (1), 10.1177/20563051211036064 (1), 504 (1), 487 (1), 4chan (1), 94 (1), 4. (1), 8) (1), 25 (1), 19 (1), One (1), 45 (1), 39 (1), 473–488 (1), 25(11 (1), 5(1 (1), 2020-5?utm_source (1), 114(11 (1), 1–48 (1), 33(6 (1), 697–714 (1), Zero (1), 189 (1), 318 (1), 721 (1), 479–493 (1), 428/7808da6b.6b8a82b9Author (1)</td>\n",
       "    </tr>\n",
       "    <tr>\n",
       "      <th id=\"T_c5f00_level0_row4\" class=\"row_heading level0 row4\" >4</th>\n",
       "      <td id=\"T_c5f00_row4_col0\" class=\"data row4 col0\" >FAC</td>\n",
       "      <td id=\"T_c5f00_row4_col1\" class=\"data row4 col1\" >4</td>\n",
       "      <td id=\"T_c5f00_row4_col2\" class=\"data row4 col2\" >journals.sagepub.com/home/smsArticle\n",
       "We (1), Capitol (1), the Q Web (1), Shannon (1)</td>\n",
       "    </tr>\n",
       "    <tr>\n",
       "      <th id=\"T_c5f00_level0_row5\" class=\"row_heading level0 row5\" >5</th>\n",
       "      <td id=\"T_c5f00_row5_col0\" class=\"data row5 col0\" >PERSON</td>\n",
       "      <td id=\"T_c5f00_row5_col1\" class=\"data row5 col1\" >136</td>\n",
       "      <td id=\"T_c5f00_row5_col2\" class=\"data row5 col2\" >Hannah (8), J. (5), Matthew N. Hannah (4), T. (3), Jean Baudrillard (2), Foley (2), Trump (2), Zin (2), Zuckerman (2), de Zeeuw (2), Twitter (2), Statt (2), Börner (2), Chen (2), Van Leeuwen (2), Baudrillard (2), Weinberger (2), Shelton (2), 9a8632 (2), Williams (2), B. (2), L. (2), M. (2), G. (2), C. (2), Miller (2), Daniel Keys Moran (1), Satanic (1), M. Miller (1), Sommer (1), Julia Roberts (1), Mel Gibson’s (1), Charlie Day gif (1), Marsh (1), John Podesta’s (1), Clintons (1), Jeffrey Epstein (1), Haken (1), Portugali (1), Kellyanne Conway (1), Blake (1), Joseph Biden (1), Donald Trump (1), J. Miller (1), Moscovici (1), Dylan Louis Monroe (1), Hidden History (1), MK Ultra (1), Monroe (1), Aurora (1), Sandy Hook (1), Hannah 11 (1), Mega Belief (1), Alice (1), Normie (1), Benjamin Wiederkehr (1), Allyn (1), www.npr.org/2020/10/18/925144034/tiktok-tightens-crack- (1), Anonymous (1), Gohel (1), P. Foss (1), P. Patton (1), Beitchman (1), Semiotext(e (1), http://theconversation.com/qanon-hasnt-gone-away-its-alive-and-kicking-in-states-across-the-country-154788\n",
       "Blake, A. (1), Kellyanne Conway’s (1), kellyanne (1), index.html (1), A. (1), W. W. Norton (1), Foreword (1), https://openresearchlibrary.org/content/49bd8472-8794-4dfc-8cc3-9d527f5960dd\n",
       "Camm (1), J. D. (1), https://www.nytimes.com/2020/07/21/technol-ogy/twitter-bans-qanon-accounts.html (1), Ed (1), S. P. (1), Quartz (1), https://qz.com/1872980/how-bad-\n",
       " (1), Greenspan (1), qanon-capitol-riot-bright-rise-belief.html\n",
       "How (1), https://web.archive.org/web/20200319063209/https://dark-to-\n",
       "light.org/2019/03/11/how-to-read-the-q-clock/\n",
       "Klein (1), L. F., & D’Ignazio (1), Ko, A. (1), wolf (1), Patriot (1), Joe Biden (1), J. A. (1), https://twitter.com/Qtah17/sta-\n",
       "tus/1338680647137648642\n",
       "Rabbit (1), Schäfer (1), Schinella (1), Webster (1), https://doi.org/10.1177/2053951720965612\n",
       "Silver (1), Wachowski (1), L. \n",
       " (1), https://slate.com/technology/2021/02/covid-19-data-dash-\n",
       "boards-states.html\n",
       "Sommer, W. ( (1), Dallas Observer (1), Media (1), Andrew Mellon Postdoctoral Scholar (1)</td>\n",
       "    </tr>\n",
       "    <tr>\n",
       "      <th id=\"T_c5f00_level0_row6\" class=\"row_heading level0 row6\" >6</th>\n",
       "      <td id=\"T_c5f00_row6_col0\" class=\"data row6 col0\" >NORP</td>\n",
       "      <td id=\"T_c5f00_row6_col1\" class=\"data row6 col1\" >36</td>\n",
       "      <td id=\"T_c5f00_row6_col2\" class=\"data row6 col2\" >informa (5), R. (5), Americans (4), American (4), D. (4), Reddit (3), Camm (2), QAnon (1), Christian (1), Democrats (1), Aghbali (1), Baudrillardian (1), Christians (1), K. (1), Qanon (1), Christianity (1)</td>\n",
       "    </tr>\n",
       "    <tr>\n",
       "      <th id=\"T_c5f00_level0_row7\" class=\"row_heading level0 row7\" >7</th>\n",
       "      <td id=\"T_c5f00_row7_col0\" class=\"data row7 col0\" >GPE</td>\n",
       "      <td id=\"T_c5f00_row7_col1\" class=\"data row7 col1\" >82</td>\n",
       "      <td id=\"T_c5f00_row7_col2\" class=\"data row7 col2\" >n.d. (20), Cairo (6), the Deep State (5), Parinya (4), al. (3), Russia (3), Monroe (3), Philadelphia (2), Cosentino (2), Andrews (2), Kristian (2), Beckett (2), pp. (2), the United States (1), West Lafayette (1), USA (1), n.p. (1), apophenia (1), America (1), QTah (1), Media (1), Holmes (1), Alberto Cairo (1), Oklahoma City (1), Parkland (1), Waco (1), Ruby Ridge (1), New Hampshire (1), Wonderland (1), Trans (1), Fry (1), G. Cosentino (1), 26(2 (1), Bhatia (1), Howley (1), C. (1), U.S. (1), Morocco (1), Debates (1)</td>\n",
       "    </tr>\n",
       "    <tr>\n",
       "      <th id=\"T_c5f00_level0_row8\" class=\"row_heading level0 row8\" >8</th>\n",
       "      <td id=\"T_c5f00_row8_col0\" class=\"data row8 col0\" >WORK_OF_ART</td>\n",
       "      <td id=\"T_c5f00_row8_col1\" class=\"data row8 col1\" >8</td>\n",
       "      <td id=\"T_c5f00_row8_col2\" class=\"data row8 col2\" >Motion Picture] (2), Conspiracy Theory (1), the Deep State (1), “How the Left Engineered a Fake (1), Deep State Mapping Project (1), Great Awakening (1), The Matrix (Silver et al. (1)</td>\n",
       "    </tr>\n",
       "    <tr>\n",
       "      <th id=\"T_c5f00_level0_row9\" class=\"row_heading level0 row9\" >9</th>\n",
       "      <td id=\"T_c5f00_row9_col0\" class=\"data row9 col0\" >LOC</td>\n",
       "      <td id=\"T_c5f00_row9_col1\" class=\"data row9 col1\" >8</td>\n",
       "      <td id=\"T_c5f00_row9_col2\" class=\"data row9 col2\" >the Deep State (2), Anouncia et al. (1), Hemanth et al. (1), the orange zone (1), Hemanth (1), Atlantic (1), Moscovici (1)</td>\n",
       "    </tr>\n",
       "    <tr>\n",
       "      <th id=\"T_c5f00_level0_row10\" class=\"row_heading level0 row10\" >10</th>\n",
       "      <td id=\"T_c5f00_row10_col0\" class=\"data row10 col0\" >LAW</td>\n",
       "      <td id=\"T_c5f00_row10_col1\" class=\"data row10 col1\" >2</td>\n",
       "      <td id=\"T_c5f00_row10_col2\" class=\"data row10 col2\" >Patriot Act (1), the Digital Bridges for Humanistic Inquiry (1)</td>\n",
       "    </tr>\n",
       "    <tr>\n",
       "      <th id=\"T_c5f00_level0_row11\" class=\"row_heading level0 row11\" >11</th>\n",
       "      <td id=\"T_c5f00_row11_col0\" class=\"data row11 col0\" >EVENT</td>\n",
       "      <td id=\"T_c5f00_row11_col1\" class=\"data row11 col1\" >3</td>\n",
       "      <td id=\"T_c5f00_row11_col2\" class=\"data row11 col2\" >The Great Awakening Map (1), Charlie Day gif (1), First Monday (1)</td>\n",
       "    </tr>\n",
       "    <tr>\n",
       "      <th id=\"T_c5f00_level0_row12\" class=\"row_heading level0 row12\" >12</th>\n",
       "      <td id=\"T_c5f00_row12_col0\" class=\"data row12 col0\" >ORDINAL</td>\n",
       "      <td id=\"T_c5f00_row12_col1\" class=\"data row12 col1\" >3</td>\n",
       "      <td id=\"T_c5f00_row12_col2\" class=\"data row12 col2\" >First (2), first (1)</td>\n",
       "    </tr>\n",
       "    <tr>\n",
       "      <th id=\"T_c5f00_level0_row13\" class=\"row_heading level0 row13\" >13</th>\n",
       "      <td id=\"T_c5f00_row13_col0\" class=\"data row13 col0\" >TIME</td>\n",
       "      <td id=\"T_c5f00_row13_col1\" class=\"data row13 col1\" >2</td>\n",
       "      <td id=\"T_c5f00_row13_col2\" class=\"data row13 col2\" >12:44:48 (2)</td>\n",
       "    </tr>\n",
       "    <tr>\n",
       "      <th id=\"T_c5f00_level0_row14\" class=\"row_heading level0 row14\" >14</th>\n",
       "      <td id=\"T_c5f00_row14_col0\" class=\"data row14 col0\" >MONEY</td>\n",
       "      <td id=\"T_c5f00_row14_col1\" class=\"data row14 col1\" >1</td>\n",
       "      <td id=\"T_c5f00_row14_col2\" class=\"data row14 col2\" >15/us/ (1)</td>\n",
       "    </tr>\n",
       "  </tbody>\n",
       "</table>\n"
      ],
      "text/plain": [
       "<pandas.io.formats.style.Styler at 0x14fced950>"
      ]
     },
     "metadata": {},
     "output_type": "display_data"
    },
    {
     "data": {
      "text/html": [
       "<hr>"
      ],
      "text/plain": [
       "<IPython.core.display.HTML object>"
      ]
     },
     "metadata": {},
     "output_type": "display_data"
    },
    {
     "data": {
      "text/html": [
       "\n",
       "            <h3>Document: Was machen Geisteswissenscha!ler auf Twitter? Eine Betriebsblindenschri!</h3>\n",
       "            <p><strong>Authors:</strong> </p>\n",
       "            <p><strong>Date:</strong> </p>\n",
       "            "
      ],
      "text/plain": [
       "<IPython.core.display.HTML object>"
      ]
     },
     "metadata": {},
     "output_type": "display_data"
    },
    {
     "data": {
      "text/html": [
       "<style type=\"text/css\">\n",
       "#T_8ee8e th {\n",
       "  border: 1px solid black;\n",
       "  padding: 8px;\n",
       "  text-align: left;\n",
       "}\n",
       "#T_8ee8e_row0_col0, #T_8ee8e_row0_col1, #T_8ee8e_row0_col2, #T_8ee8e_row1_col0, #T_8ee8e_row1_col1, #T_8ee8e_row1_col2, #T_8ee8e_row2_col0, #T_8ee8e_row2_col1, #T_8ee8e_row2_col2, #T_8ee8e_row3_col0, #T_8ee8e_row3_col1, #T_8ee8e_row3_col2, #T_8ee8e_row4_col0, #T_8ee8e_row4_col1, #T_8ee8e_row4_col2, #T_8ee8e_row5_col0, #T_8ee8e_row5_col1, #T_8ee8e_row5_col2, #T_8ee8e_row6_col0, #T_8ee8e_row6_col1, #T_8ee8e_row6_col2, #T_8ee8e_row7_col0, #T_8ee8e_row7_col1, #T_8ee8e_row7_col2, #T_8ee8e_row8_col0, #T_8ee8e_row8_col1, #T_8ee8e_row8_col2, #T_8ee8e_row9_col0, #T_8ee8e_row9_col1, #T_8ee8e_row9_col2, #T_8ee8e_row10_col0, #T_8ee8e_row10_col1, #T_8ee8e_row10_col2 {\n",
       "  border: 1px solid black;\n",
       "  padding: 8px;\n",
       "  text-align: left;\n",
       "}\n",
       "</style>\n",
       "<table id=\"T_8ee8e\">\n",
       "  <thead>\n",
       "    <tr>\n",
       "      <th class=\"blank level0\" >&nbsp;</th>\n",
       "      <th id=\"T_8ee8e_level0_col0\" class=\"col_heading level0 col0\" >Entity Type</th>\n",
       "      <th id=\"T_8ee8e_level0_col1\" class=\"col_heading level0 col1\" >Count</th>\n",
       "      <th id=\"T_8ee8e_level0_col2\" class=\"col_heading level0 col2\" >Unique Entities</th>\n",
       "    </tr>\n",
       "  </thead>\n",
       "  <tbody>\n",
       "    <tr>\n",
       "      <th id=\"T_8ee8e_level0_row0\" class=\"row_heading level0 row0\" >0</th>\n",
       "      <td id=\"T_8ee8e_row0_col0\" class=\"data row0 col0\" >PRODUCT</td>\n",
       "      <td id=\"T_8ee8e_row0_col1\" class=\"data row0 col1\" >4</td>\n",
       "      <td id=\"T_8ee8e_row0_col2\" class=\"data row0 col2\" >Twitter (1), Elon Musk (1), Ikarus (1), das Mammut hingegen (1)</td>\n",
       "    </tr>\n",
       "    <tr>\n",
       "      <th id=\"T_8ee8e_level0_row1\" class=\"row_heading level0 row1\" >1</th>\n",
       "      <td id=\"T_8ee8e_row1_col0\" class=\"data row1 col0\" >ORG</td>\n",
       "      <td id=\"T_8ee8e_row1_col1\" class=\"data row1 col1\" >14</td>\n",
       "      <td id=\"T_8ee8e_row1_col2\" class=\"data row1 col2\" >BraunsteinEin (1), mit»Philosophie (1), Esgeht (1), Sturm! (1), Platz (1), Die Antwort (1), Hand (1), Anmache (1), Ein (1), Unternehmer (1), Womöglich (1), aufMastodon (1), Aberein wenig Regression (1), undGesellscha!swissenscha!lern (1)</td>\n",
       "    </tr>\n",
       "    <tr>\n",
       "      <th id=\"T_8ee8e_level0_row2\" class=\"row_heading level0 row2\" >2</th>\n",
       "      <td id=\"T_8ee8e_row2_col0\" class=\"data row2 col0\" >PERSON</td>\n",
       "      <td id=\"T_8ee8e_row2_col1\" class=\"data row2 col1\" >64</td>\n",
       "      <td id=\"T_8ee8e_row2_col2\" class=\"data row2 col2\" >Philosoph (1), Twitter (1), darüber empören (1), ihre eigene (1), herrschendenMoral identifizieren (1), haben sich (1), zwar einwenden (1), Aufgabe (1), das zwote (1), darauf (1), Insassen (1), Selbstanpreisung (1), Projektleiter gesagt (1), Smiley (1), Heidi aus (1), den hohen Bergen (1), Jubilate (1), Läutet (1), Glocken (1), ihm zur Ehre (1), Ehre (1), Der Projektleiter (1), Kurznachrichtendienst (1), absurde Zumutung (1), Abendim Rahmen (1), Richtig (1), ichichich!»Nicht verpassen (1), geschrieben nichtvon russischen Hackern (1), von der (1), von Aldi (1), von einem Kollegen (1), Aber (1), Kapitalist (1), Der (1), Elon Musk (1), Antlitz (1), Fällen (1), Der Spiegel (1), Herrn Musk (1), Geht das gut (1), Ein Schla\"orscher (1), Arbeit von (1), jedoch nicht über (1), Verzerrungen vonWahrnehmung (1), dazu führen (1), Schluss, Extwitterer (1), Länder (1), Und zwar (1), M. a. W.: (1), mich jetzt (1), Mastodon (1), Vogel (1), Wurscht (1), Erwachsenen (1), gar nicht (1), Mitteilung (1), geschichtswissenscha!lichenFachgesellscha!.Und (1), auf der (1), App (1), Mastodon gGmbH (1), rübergemachte (1), phil (1), Beginn (1), Leider alle (1)</td>\n",
       "    </tr>\n",
       "    <tr>\n",
       "      <th id=\"T_8ee8e_level0_row3\" class=\"row_heading level0 row3\" >3</th>\n",
       "      <td id=\"T_8ee8e_row3_col0\" class=\"data row3 col0\" >WORK_OF_ART</td>\n",
       "      <td id=\"T_8ee8e_row3_col1\" class=\"data row3 col1\" >2</td>\n",
       "      <td id=\"T_8ee8e_row3_col2\" class=\"data row3 col2\" >Leute (1), Twitter die Top-News (1)</td>\n",
       "    </tr>\n",
       "    <tr>\n",
       "      <th id=\"T_8ee8e_level0_row4\" class=\"row_heading level0 row4\" >4</th>\n",
       "      <td id=\"T_8ee8e_row4_col0\" class=\"data row4 col0\" >LAW</td>\n",
       "      <td id=\"T_8ee8e_row4_col1\" class=\"data row4 col1\" >1</td>\n",
       "      <td id=\"T_8ee8e_row4_col2\" class=\"data row4 col2\" >Sichtweise (1)</td>\n",
       "    </tr>\n",
       "    <tr>\n",
       "      <th id=\"T_8ee8e_level0_row5\" class=\"row_heading level0 row5\" >5</th>\n",
       "      <td id=\"T_8ee8e_row5_col0\" class=\"data row5 col0\" >GPE</td>\n",
       "      <td id=\"T_8ee8e_row5_col1\" class=\"data row5 col1\" >10</td>\n",
       "      <td id=\"T_8ee8e_row5_col2\" class=\"data row5 col2\" >Universität (2), Mastodon (2), Philosophen (1), Eigenwerbung (1), Marktschreierei (1), Henscheid (1), Stunden (1), Spätkapitalismus (1)</td>\n",
       "    </tr>\n",
       "    <tr>\n",
       "      <th id=\"T_8ee8e_level0_row6\" class=\"row_heading level0 row6\" >6</th>\n",
       "      <td id=\"T_8ee8e_row6_col0\" class=\"data row6 col0\" >NORP</td>\n",
       "      <td id=\"T_8ee8e_row6_col1\" class=\"data row6 col1\" >2</td>\n",
       "      <td id=\"T_8ee8e_row6_col2\" class=\"data row6 col2\" >Auseinandersetzung (1), Bundeswehr (1)</td>\n",
       "    </tr>\n",
       "    <tr>\n",
       "      <th id=\"T_8ee8e_level0_row7\" class=\"row_heading level0 row7\" >7</th>\n",
       "      <td id=\"T_8ee8e_row7_col0\" class=\"data row7 col0\" >LOC</td>\n",
       "      <td id=\"T_8ee8e_row7_col1\" class=\"data row7 col1\" >3</td>\n",
       "      <td id=\"T_8ee8e_row7_col2\" class=\"data row7 col2\" >Doktorurkunde (1), Antwort (1), Kapital (1)</td>\n",
       "    </tr>\n",
       "    <tr>\n",
       "      <th id=\"T_8ee8e_level0_row8\" class=\"row_heading level0 row8\" >8</th>\n",
       "      <td id=\"T_8ee8e_row8_col0\" class=\"data row8 col0\" >LANGUAGE</td>\n",
       "      <td id=\"T_8ee8e_row8_col1\" class=\"data row8 col1\" >2</td>\n",
       "      <td id=\"T_8ee8e_row8_col2\" class=\"data row8 col2\" >Mitarbeiterin (2)</td>\n",
       "    </tr>\n",
       "    <tr>\n",
       "      <th id=\"T_8ee8e_level0_row9\" class=\"row_heading level0 row9\" >9</th>\n",
       "      <td id=\"T_8ee8e_row9_col0\" class=\"data row9 col0\" >PERCENT</td>\n",
       "      <td id=\"T_8ee8e_row9_col1\" class=\"data row9 col1\" >1</td>\n",
       "      <td id=\"T_8ee8e_row9_col2\" class=\"data row9 col2\" >240 Zeichen (1)</td>\n",
       "    </tr>\n",
       "    <tr>\n",
       "      <th id=\"T_8ee8e_level0_row10\" class=\"row_heading level0 row10\" >10</th>\n",
       "      <td id=\"T_8ee8e_row10_col0\" class=\"data row10 col0\" >FAC</td>\n",
       "      <td id=\"T_8ee8e_row10_col1\" class=\"data row10 col1\" >1</td>\n",
       "      <td id=\"T_8ee8e_row10_col2\" class=\"data row10 col2\" >Vogel den Ikarus (1)</td>\n",
       "    </tr>\n",
       "  </tbody>\n",
       "</table>\n"
      ],
      "text/plain": [
       "<pandas.io.formats.style.Styler at 0x15507c850>"
      ]
     },
     "metadata": {},
     "output_type": "display_data"
    },
    {
     "data": {
      "text/html": [
       "<hr>"
      ],
      "text/plain": [
       "<IPython.core.display.HTML object>"
      ]
     },
     "metadata": {},
     "output_type": "display_data"
    },
    {
     "data": {
      "text/html": [
       "\n",
       "            <h3>Document: « Discriminations algorithmiques » ? La modération des réseaux sociaux numériques au prisme de la censure</h3>\n",
       "            <p><strong>Authors:</strong> </p>\n",
       "            <p><strong>Date:</strong> 2022/06/23</p>\n",
       "            "
      ],
      "text/plain": [
       "<IPython.core.display.HTML object>"
      ]
     },
     "metadata": {},
     "output_type": "display_data"
    },
    {
     "data": {
      "text/html": [
       "<style type=\"text/css\">\n",
       "#T_e9d41 th {\n",
       "  border: 1px solid black;\n",
       "  padding: 8px;\n",
       "  text-align: left;\n",
       "}\n",
       "#T_e9d41_row0_col0, #T_e9d41_row0_col1, #T_e9d41_row0_col2, #T_e9d41_row1_col0, #T_e9d41_row1_col1, #T_e9d41_row1_col2, #T_e9d41_row2_col0, #T_e9d41_row2_col1, #T_e9d41_row2_col2, #T_e9d41_row3_col0, #T_e9d41_row3_col1, #T_e9d41_row3_col2, #T_e9d41_row4_col0, #T_e9d41_row4_col1, #T_e9d41_row4_col2, #T_e9d41_row5_col0, #T_e9d41_row5_col1, #T_e9d41_row5_col2, #T_e9d41_row6_col0, #T_e9d41_row6_col1, #T_e9d41_row6_col2, #T_e9d41_row7_col0, #T_e9d41_row7_col1, #T_e9d41_row7_col2, #T_e9d41_row8_col0, #T_e9d41_row8_col1, #T_e9d41_row8_col2, #T_e9d41_row9_col0, #T_e9d41_row9_col1, #T_e9d41_row9_col2, #T_e9d41_row10_col0, #T_e9d41_row10_col1, #T_e9d41_row10_col2 {\n",
       "  border: 1px solid black;\n",
       "  padding: 8px;\n",
       "  text-align: left;\n",
       "}\n",
       "</style>\n",
       "<table id=\"T_e9d41\">\n",
       "  <thead>\n",
       "    <tr>\n",
       "      <th class=\"blank level0\" >&nbsp;</th>\n",
       "      <th id=\"T_e9d41_level0_col0\" class=\"col_heading level0 col0\" >Entity Type</th>\n",
       "      <th id=\"T_e9d41_level0_col1\" class=\"col_heading level0 col1\" >Count</th>\n",
       "      <th id=\"T_e9d41_level0_col2\" class=\"col_heading level0 col2\" >Unique Entities</th>\n",
       "    </tr>\n",
       "  </thead>\n",
       "  <tbody>\n",
       "    <tr>\n",
       "      <th id=\"T_e9d41_level0_row0\" class=\"row_heading level0 row0\" >0</th>\n",
       "      <td id=\"T_e9d41_row0_col0\" class=\"data row0 col0\" >ORG</td>\n",
       "      <td id=\"T_e9d41_row0_col1\" class=\"data row0 col1\" >139</td>\n",
       "      <td id=\"T_e9d41_row0_col2\" class=\"data row0 col2\" >RSN (17), un (10), LGBT (7), TDS (4), Julliard (3), de la (3), Défenseur (3), TikTok (3), Digital (2), notre approche (2), T. (2), A. (2), Sorbonne Center for Artificial Intelligence (1), Algorithmes (1), de la prolifération de contenus haineux (1), Instagram (1), état de l’art  Le (1), qui sera rendu (1), l’origine de la décision de modération d’un contenu (1), Dupré, Carayol (1), Badouard (1), dans la (1), dans la conception (1), la mise (1), qu’il (1), une condition algorithmique (1), Center for Critical Internet Inquiry (1), Safiya Umoja Noble (1), Ainsi (1), de la modération automatisée sur les (1), Bricoler (1), fait le pari de prendre les cas de modération (1), de par ma fréquentation des milieux militants (1), de la démarche est (1), Bowker, Star (1), du hacking pour désigner notre approche (1), Elle (1), algorithmes de machine learning (1), par une (1), de la collecte et de l’analyse de corpus (1), mais plutôt de conjuguer (1), fait de la possibilité d’accès (1), à la facilité de création d’un compte (1), dans la modération des RSN (1), dans la recherche francophone (1), l’origine de la (1), de la même manière (1), algorithmes de modération qui (1), algorithmes dans la modération des RSN (1), médiatique qui entouraient ces (1), l’expression de l’identité de genre à du contenu (1), Par (1), Warner (1), l’expression de contenus à (1), présence de beaucoup de TDS (1), nouveaux espaces de publicité (1), Chatterjee (1), Foucault (1), mois de notre (1), modération de chaque RSN (1), Perelmuter (1), Institut Montaigne (1), L., & Warner (1), Institut Mines-Télécom (1), Institut Carnot  (1), J., & Julliard (1), MIT Press (1), Nouvelle (1), Birdwell (1), J. (1), I. (1), T., & Julliard (1), Queer (1), Bloomsbury Academic. (1), the Privilege of Partial Perspective (1), Feminist Studies (1), côté de la (1), Online Social Networks (1), https://doi.org/10.1016/j.osnem.2021.100180Lambrecht (1), Fiction (1), Indiana University Press (1), Mirzoeff (1), Duke University Press (1), New York University Press (1), Les (1), Université de Nantes (1), Yale University Press (1), WeChat (1), International Cyber Policy Centre (1), N., & Marty (1), Big Data & Society (1), I., & Custers (1), Borgesius (1)</td>\n",
       "    </tr>\n",
       "    <tr>\n",
       "      <th id=\"T_e9d41_level0_row1\" class=\"row_heading level0 row1\" >1</th>\n",
       "      <td id=\"T_e9d41_row1_col0\" class=\"data row1 col0\" >PERSON</td>\n",
       "      <td id=\"T_e9d41_row1_col1\" class=\"data row1 col1\" >185</td>\n",
       "      <td id=\"T_e9d41_row1_col2\" class=\"data row1 col2\" >Grison (5), Julliard (5), Twitter (4), Roberts (3), Réseaux (2), RSN (2), Quemener (2), Nakamura (2), Benjamin (2), Pailler (2), Kim (2), Wohn (2), Guyan (2), Berlant (2), B. (2), de la (2), C. (2), F. (2), Thibault Grison Doctorant (1), Celsa (1), Sorbonne-Université (1), Algorithms (1), Résumé (1), donc de s’intéresser à la (1), Grison Ces (1), dispositifs médiatiques (1), contexte de la (1), Dite (1), Avia (1), Les dispositifs de modération algorithmique (1), Marty (1), Tubaro (1), de manière (1), de cet enjeu (1), donc de signaler (1), qui relève (1), Depuis (1), Durkheim (1), dispositifs et (1), de l’IA dans la reproduction des (1), sein de l’université UCLA (1), l’IA comme des dispositifs de pouvoir qui (1), objectifs de rentabilité économique et par des (1), La (1), être définie comme (1), de l’existence de biais (1), biais algorithmique (1), vécu par (1), Aussi (1), systématique qui conduit (1), qui interviennent (1), cycle de vie d’un algorithme (1), Sarah T. Roberts.5 (1), comme la chasse-gardée des (1), Zuiderveen Borgesius (1), computationnelle qui prendrait (1), l’opacité algorithmique (1), de départ (1), contexte de la modération des RSN (1), qui prendrait (1), RSN qui (1), de nouveaux (1), méthodologiques (1), donc de procéder d’une (1), l’emploi de (1), milieu de l’informatique (1), d’essais et  d’erreurs (1), collectés et (1), qui doit être modéré (1), Ryan et al. (1), de travaux (1), genre comme (1), computationnelle située découle (1), contexte scientifique des travaux (1), réseaux sociaux (1), l’API de la (1), peu mobilisé (1), Je collecte (1), l’API rest de Twitter (1), Ensuite (1), la comparaison de ces (1), Pour TikTok (1), l’absence d’API (1), Je (1), ethnographique (1), par mot-clé (1), moteur de recherche intégré de TikTok (1), ma base de données (1), qui fustigent (1), de ce (1), de notre (1), cadre de l’initiative CERES de la (1), Bien qu’il (1), mais participe (1), Si Twitter (1), pu constater que la correction de cette (1), poids de la controverse (1), charte de modération ou (1), de rappeler que la (1), de rappeler (1), notre collecte (1), communauté de (1), biais de l’humour (1), Mais (1), de Mirzoeff (1), Tagliavia (1), Bibliographie  Amabile (1), Badouard (1), Jim (1), Clémençon (1), Paris Tech (1), Fondation Abeona (1), Dispositifs de (1), G. Rauscher (1), G. C. (1), S. L. ( (1), Genre (1), Berthelot (1), L. Mucchielli, Éds (1), Éditions Flammarion (1), de la sexualité (1), La volonté de savoir (1), Editions Gallimard (1), Boyer (1), Cartographie de la Haine (1), réseaux sociaux numériques (1), loi Avia (1), L’IA dans la modération (1), terreau de nouvelles (1), Presses de l’Université Laval (1), A. (1), Université Paris-Est Créteil (1), J. (1), Twitch (1), & Tucker (1), Bias (1), Apparent Gender-Based Discrimination (1), Mitchell (1), W. J. T. (1), Que (1), M. Boidy (1), N. Cilins (1), & S. Roth (1), Trad (1), Les Presses (1), L. (1), Baromètre 2020 de la haine (1), Respect Zone (1), S. U. ( (1), O’Neil (1), qui contrôlent (1), N. (1), Sciences Po Lyon (1), S. T. (1), Ryan (1), Fritz (1), & Coville (1), Conseil de l’Europe (1)</td>\n",
       "    </tr>\n",
       "    <tr>\n",
       "      <th id=\"T_e9d41_level0_row2\" class=\"row_heading level0 row2\" >2</th>\n",
       "      <td id=\"T_e9d41_row2_col0\" class=\"data row2 col0\" >NORP</td>\n",
       "      <td id=\"T_e9d41_row2_col1\" class=\"data row2 col1\" >41</td>\n",
       "      <td id=\"T_e9d41_row2_col2\" class=\"data row2 col2\" >dans (21), Dans (4), D. (4), Jean (3), R. (2), suspendus (1), Sans (1), Ryan (1), Onlyfans (1), Usages (1), C. (1), K. (1)</td>\n",
       "    </tr>\n",
       "    <tr>\n",
       "      <th id=\"T_e9d41_level0_row3\" class=\"row_heading level0 row3\" >3</th>\n",
       "      <td id=\"T_e9d41_row3_col0\" class=\"data row3 col0\" >CARDINAL</td>\n",
       "      <td id=\"T_e9d41_row3_col1\" class=\"data row3 col1\" >19</td>\n",
       "      <td id=\"T_e9d41_row3_col2\" class=\"data row3 col2\" >d’une (2), 10 (2), 1délégation (1), 2déréférencement (1), 4TikTok (1), manque (1), 55 (1), 8algorithmes (1), d’interroger (1), 33 (1), 1 (1), 575 (1), 106 (1), 205(5 (1), Three (1), 183 (1), https://doi.org/10.1007/s10506-016-9182-5Zuiderveen (1)</td>\n",
       "    </tr>\n",
       "    <tr>\n",
       "      <th id=\"T_e9d41_level0_row4\" class=\"row_heading level0 row4\" >4</th>\n",
       "      <td id=\"T_e9d41_row4_col0\" class=\"data row4 col0\" >DATE</td>\n",
       "      <td id=\"T_e9d41_row4_col1\" class=\"data row4 col1\" >88</td>\n",
       "      <td id=\"T_e9d41_row4_col2\" class=\"data row4 col2\" >2020 (20), 2019 (13), 2018 (12), 2022 (10), 2015 (4), 2021 (3), 1988 (3), 2014 (3), 1987 (2), 2017 (2), 1985 (2), 2011 (2), 2016 (2), 2010 (1), O’Neil, 2016 (1), 1999 (1), d’une (1), 2008 (1), 11.Durkheim (1), 27 (1), 86 (1), 57 (1), 205395172091977 (1)</td>\n",
       "    </tr>\n",
       "    <tr>\n",
       "      <th id=\"T_e9d41_level0_row5\" class=\"row_heading level0 row5\" >5</th>\n",
       "      <td id=\"T_e9d41_row5_col0\" class=\"data row5 col0\" >GPE</td>\n",
       "      <td id=\"T_e9d41_row5_col1\" class=\"data row5 col1\" >25</td>\n",
       "      <td id=\"T_e9d41_row5_col2\" class=\"data row5 col2\" >al. (3), Casilli (2), Netino (1), YouTube (1), Lauretis (1), Coville (1), Pasquale (1), la critique (1), sont (1), la censure (1), Le (1), qui (1), Boidy (1), Lenoir (1), Boidy, M., & Martinez Tagliavia (1), M. Aghababaie (1), CNIL.Dupré (1), C. (1), Guerin (1), France (1), IA (1), Media (1)</td>\n",
       "    </tr>\n",
       "    <tr>\n",
       "      <th id=\"T_e9d41_level0_row6\" class=\"row_heading level0 row6\" >6</th>\n",
       "      <td id=\"T_e9d41_row6_col0\" class=\"data row6 col0\" >PRODUCT</td>\n",
       "      <td id=\"T_e9d41_row6_col1\" class=\"data row6 col1\" >8</td>\n",
       "      <td id=\"T_e9d41_row6_col2\" class=\"data row6 col2\" >Twitter (2), d’années (1), dans la recherche (1), TikTok (1), LGBT qui (1), Biais (1), Poli (1)</td>\n",
       "    </tr>\n",
       "    <tr>\n",
       "      <th id=\"T_e9d41_level0_row7\" class=\"row_heading level0 row7\" >7</th>\n",
       "      <td id=\"T_e9d41_row7_col0\" class=\"data row7 col0\" >FAC</td>\n",
       "      <td id=\"T_e9d41_row7_col1\" class=\"data row7 col1\" >3</td>\n",
       "      <td id=\"T_e9d41_row7_col2\" class=\"data row7 col2\" >nom de la rapporteure de la proposition de loi4 (1), la mise (1), Le Seuil. (1)</td>\n",
       "    </tr>\n",
       "    <tr>\n",
       "      <th id=\"T_e9d41_level0_row8\" class=\"row_heading level0 row8\" >8</th>\n",
       "      <td id=\"T_e9d41_row8_col0\" class=\"data row8 col0\" >LOC</td>\n",
       "      <td id=\"T_e9d41_row8_col1\" class=\"data row8 col1\" >1</td>\n",
       "      <td id=\"T_e9d41_row8_col2\" class=\"data row8 col2\" >Haraway (1)</td>\n",
       "    </tr>\n",
       "    <tr>\n",
       "      <th id=\"T_e9d41_level0_row9\" class=\"row_heading level0 row9\" >9</th>\n",
       "      <td id=\"T_e9d41_row9_col0\" class=\"data row9 col0\" >WORK_OF_ART</td>\n",
       "      <td id=\"T_e9d41_row9_col1\" class=\"data row9 col1\" >1</td>\n",
       "      <td id=\"T_e9d41_row9_col2\" class=\"data row9 col2\" >La rétro-ingénierie sert en général à comprendre comment fonctionne un (1)</td>\n",
       "    </tr>\n",
       "    <tr>\n",
       "      <th id=\"T_e9d41_level0_row10\" class=\"row_heading level0 row10\" >10</th>\n",
       "      <td id=\"T_e9d41_row10_col0\" class=\"data row10 col0\" >ORDINAL</td>\n",
       "      <td id=\"T_e9d41_row10_col1\" class=\"data row10 col1\" >1</td>\n",
       "      <td id=\"T_e9d41_row10_col2\" class=\"data row10 col2\" >First (1)</td>\n",
       "    </tr>\n",
       "  </tbody>\n",
       "</table>\n"
      ],
      "text/plain": [
       "<pandas.io.formats.style.Styler at 0x14f5d7dd0>"
      ]
     },
     "metadata": {},
     "output_type": "display_data"
    },
    {
     "data": {
      "text/html": [
       "<hr>"
      ],
      "text/plain": [
       "<IPython.core.display.HTML object>"
      ]
     },
     "metadata": {},
     "output_type": "display_data"
    },
    {
     "data": {
      "text/html": [
       "\n",
       "            <h3>Document: Friending the Past: The Sense of History in the Digital Age</h3>\n",
       "            <p><strong>Authors:</strong> </p>\n",
       "            <p><strong>Date:</strong> 2018</p>\n",
       "            "
      ],
      "text/plain": [
       "<IPython.core.display.HTML object>"
      ]
     },
     "metadata": {},
     "output_type": "display_data"
    },
    {
     "data": {
      "text/html": [
       "<style type=\"text/css\">\n",
       "#T_b5bf8 th {\n",
       "  border: 1px solid black;\n",
       "  padding: 8px;\n",
       "  text-align: left;\n",
       "}\n",
       "#T_b5bf8_row0_col0, #T_b5bf8_row0_col1, #T_b5bf8_row0_col2, #T_b5bf8_row1_col0, #T_b5bf8_row1_col1, #T_b5bf8_row1_col2, #T_b5bf8_row2_col0, #T_b5bf8_row2_col1, #T_b5bf8_row2_col2, #T_b5bf8_row3_col0, #T_b5bf8_row3_col1, #T_b5bf8_row3_col2, #T_b5bf8_row4_col0, #T_b5bf8_row4_col1, #T_b5bf8_row4_col2, #T_b5bf8_row5_col0, #T_b5bf8_row5_col1, #T_b5bf8_row5_col2, #T_b5bf8_row6_col0, #T_b5bf8_row6_col1, #T_b5bf8_row6_col2, #T_b5bf8_row7_col0, #T_b5bf8_row7_col1, #T_b5bf8_row7_col2, #T_b5bf8_row8_col0, #T_b5bf8_row8_col1, #T_b5bf8_row8_col2, #T_b5bf8_row9_col0, #T_b5bf8_row9_col1, #T_b5bf8_row9_col2, #T_b5bf8_row10_col0, #T_b5bf8_row10_col1, #T_b5bf8_row10_col2, #T_b5bf8_row11_col0, #T_b5bf8_row11_col1, #T_b5bf8_row11_col2, #T_b5bf8_row12_col0, #T_b5bf8_row12_col1, #T_b5bf8_row12_col2, #T_b5bf8_row13_col0, #T_b5bf8_row13_col1, #T_b5bf8_row13_col2, #T_b5bf8_row14_col0, #T_b5bf8_row14_col1, #T_b5bf8_row14_col2, #T_b5bf8_row15_col0, #T_b5bf8_row15_col1, #T_b5bf8_row15_col2, #T_b5bf8_row16_col0, #T_b5bf8_row16_col1, #T_b5bf8_row16_col2, #T_b5bf8_row17_col0, #T_b5bf8_row17_col1, #T_b5bf8_row17_col2 {\n",
       "  border: 1px solid black;\n",
       "  padding: 8px;\n",
       "  text-align: left;\n",
       "}\n",
       "</style>\n",
       "<table id=\"T_b5bf8\">\n",
       "  <thead>\n",
       "    <tr>\n",
       "      <th class=\"blank level0\" >&nbsp;</th>\n",
       "      <th id=\"T_b5bf8_level0_col0\" class=\"col_heading level0 col0\" >Entity Type</th>\n",
       "      <th id=\"T_b5bf8_level0_col1\" class=\"col_heading level0 col1\" >Count</th>\n",
       "      <th id=\"T_b5bf8_level0_col2\" class=\"col_heading level0 col2\" >Unique Entities</th>\n",
       "    </tr>\n",
       "  </thead>\n",
       "  <tbody>\n",
       "    <tr>\n",
       "      <th id=\"T_b5bf8_level0_row0\" class=\"row_heading level0 row0\" >0</th>\n",
       "      <td id=\"T_b5bf8_row0_col0\" class=\"data row0 col0\" >ORG</td>\n",
       "      <td id=\"T_b5bf8_row0_col1\" class=\"data row0 col1\" >2647</td>\n",
       "      <td id=\"T_b5bf8_row0_col2\" class=\"data row0 col2\" >Home (71), FIGURE (45), Priestley (39), Digital (38), Historismus (37), Translated (37), PROV (33), Blackwell (31), eGect (30), Ales (30), Kirschenbaum (29), Grafton (29), Eusebius (29), Digital\tLiterary\tStudies (28), Digital\tHumanities (28), Ag (27), Foucault (25), DOM (25), Chicago\tPress (23), GeoGrey (23), Cartographies (23), MIT (22), Aelds (18), Stanford (18), Oxford (17), Google (16), Renaissance (16), WordPress (15), the\tUniversity (14), Lincoln (14), CA (14), Manovich (13), PowerPoint (12), Groth (12), Time (12), CSS (11), ScientiAc (11), FileMaker (11), TimeMarker (11), Coleridge (10), Orality (10), XML (10), Knight\tLab’s (10), Siemens (10), NY (10), Harvard\tUniversity\tPress (10), PHP (9), DuPont (9), Social\tNetworks (9), Journal (9), Plato (8), Microsoft (8), Blackwell\t\n",
       "Companion (8), Brooks (8), IBM (8), Linear (8), RDF (8), Networks (8), Chart (8), Kodak (7), McGann (7), Drucker (7), ACM (7), University (6), Yale (6), linear (6), Viewer (6), Neuromancer (6), JavaScript (6), METS (6), Turner (6), YouTube (6), Stanford\tUniversity\tPress (6), Oxford\tUniversity\tPress (6), University\tPress (6), Digital\tLiterary\n",
       "Studies (6), Representations (5), Ranke’s (5), SpeciAcally (5), Social\tEnvironment (5), BBC (5), Nick\tMontfort (5), Google\tBooks\tNgram (5), Fernanda (5), Ashbaugh’s (5), TEI (5), Wings (5), Merton\tCollege (5), Savage\tPreservation (5), NJ (5), Martin (5), The\tUniversity (4), Keats (4), Voice (4), WAN (4), Genesis (4), IP (4), LeOngwell (4), SQL (4), Tufte (4), Diagram (4), Interpretation (4), Discourse\tNetworks (4), Pynchon’s (4), Network\tArchaeology (4), Behavioral (4), UCINET (4), Silicon\tValley (4), Created (4), Northwestern\tUniversity (4), New\tCritics (4), Prelude (4), Hill (4), Digital\tMemory (4), Chicago\n",
       "Press (4), Poetry (4), Scott (4), Critical\tInquiry (4), Digital\tAge (4), Ryan\tHeuser (4), California\tPress (4), Princeton\tUniversity\tPress (4), Manuel (4), Johns\tHopkins\tUniversity\tPress (4), Society (4), Daniel (4), WWW (4), Modern\tLanguage\tAssociation (4), See\n",
       "\t\n",
       " (4), Atari (3), Digital\tHistory\tProject (3), oGset (3), LAN (3), Anger (3), Siva (3), aGairs (3), Oedipus (3), Jaron (3), Rockwell (3), SmartArt (3), Windows (3), Barthes (3), Storyspace (3), Amazon (3), Apple (3), Gibson’s (3), Order (3), ABC (3), IRC (3), Schwenger’s\tarticle (3), Rhizome.org (3), Congress (3), Digital\tLiterary\tNetwork\tAnalysis (3), ARChive (3), WARC/1.0\n",
       "\t\n",
       " (3), Economic\tSciences (3), Burke (3), Chronicon (3), Origen (3), jQuery (3), 74–111 (3), Composition (3), Transliteracies\tProject (3), Frontier\tFoundation (3), http://agrippa.english.ucsb.edu/post/documents- (3), Hodge (3), Social\tSystems (3), Plot\tAnalysis (3), Bell (3), PROV-Overview (3), UnoOcial (3), Draft (3), OWL (3), Network\n",
       "Archaeology (3), Social\tComputing (3), Newton (3), WordNet (3), Katherine\tBode (3), Macmillan (3), Middlesex (3), Doubleday (3), Katherine (3), Social\tSciences (3), Communication (3), Oxford\n",
       "University\tPress (3), Cornell\tUniversity\tPress (3), Lecture\tNotes (3), MLA\tCommons (3), Digital\n",
       "Humanities (3), ELH (3), Principal (3), F (2), History\tDepartment (2), the\n",
       "University (2), Benjamin (2), Rhetoric (2), W (2), Ancestors (2), Tsia (2), Geist (2), Louis\tAlthusser’s (2), Caesar (2), Johns’s (2), NBC (2), Arst (2), Theuth (2), Chapman’s\tHomer (2), post-Enlightenment (2), Neumann (2), Gates (2), AJAX (2), Wittgenstein (2), Iconology (2), Traditions (2), HathiTrust\tResearch\tPortal (2), Antconc (2), RAWgraphs (2), RAWgraph (2), CC (2), Google’s (2), BCE (2), Anding (2), Landscape (2), Thrones (2), Bauhaus (2), Digital\tForensics\tLab (2), MindVox (2), Braxton\tSoderman (2), Archivethe.net (2), railroads2.jpg?w=420 (2), GMT\n",
       "\t\n",
       " (2), Social\tMedia (2), WorkJow (2), IEEE (2), National\tScience\tFoundation’s\tDirectorate (2), Next (2), Interchange (2), HuViz\tResearch\tTeam (2), Working\tGroup (2), Stanford\tUniversity’s (2), Letters (2), Syndicate\tNetwork (2), Neubabelsberg (2), Geistesgeschichte (2), LGA (2), Research\tServices (2), Scott\tPound’s (2), RoSE (2), Epistemological (2), conJicted (2), Frontier\n",
       "Foundation (2), TARDIS (2), FIGURES (2), ISO (2), TimeMarkers (2), B.3 (2), Chronology (2), Group (2), https://docs.google.com/spreadsheets/d/1Y- (2), UTC (2), GitHub (2), Agures (2), Century (2), Control (2), Pattern (2), “Thinking\tDestruction (2), Sämmtliche\tWerke (2), Social\tComputing\tGroup (2), Media\tArts (2), Electronic\tCivil\tDisobedience (2), Digital\tResistance (2), NEH (2), Grammatology (2), Samuels (2), Hamlet (2), Avatars (2), Toychest (2), Digital\tResearch\tTools (2), Isidore\tIsou (2), Wikipedia (2), Hypergraph (2), Database\tManagement (2), Social\tGraph (2), Kaironomia (2), See\tGoody (2), Printing (2), Digital\tText (2), Tufte’s (2), Contemporary\tImage (2), Boris\tEichenbaum (2), Baroque (2), Happiness (2), Phenomena (2), Federal\tUniversity (2), Oxford\tUniversity (2), Rockefeller (2), Analog (2), Digital\tCulture (2), The\tPractice (2), PDF (2), Stanley\tKoteks (2), EGect (2), El-Osta (2), ScientiAc\tLiterature (2), Prosopographical\tNetwork\tAnalysis (2), Warner (2), Deformed\tHumanities (2), De\tLanda’s (2), Annales (2), Digital\tHumanities\tDiversity (2), MS (2), LAMP (2), Britten-Pears\tFoundation (2), Default\n",
       "&lang (2), Verbal (2), Tiutchev’s\tLyric (2), Childhood (2), WordNet\tSystem (2), Directed (2), Digital\n",
       "Humanities:\tResearch (2), Theories (2), barlow@eG.org (2), Oxford\tUniversity\n",
       "Press (2), Drafts (2), Justin (2), Bolla (2), Fordham\tUniversity\tPress (2), Addison-Wesley (2), Gregory (2), Missier (2), HarperCollins (2), Hypermedia (2), Gilles (2), Advanced\tTechnology (2), Rolf (2), The\tArchaeology (2), Social\tNetwork\tAnalysis (2), CliGord (2), Screen (2), Carlo (2), Digital\n",
       "Libraries (2), Ludwig (2), Stanford\n",
       "University\tPress (2), Stuart\tG. (2), IPAW (2), Wayback\tMachine (2), Isidore (2), Fredric (2), Early\n",
       "Church\tFathers (2), MKG (2), Sprech (2), Knight\tLab (2), Contemporary\tHome\tComputing (2), Lyotard\tAuto-DiGerend\tPage (2), Electronics (2), Electronic\tPublishing (2), Jean-Baptiste (2), House (2), Searle (2), Webrecorder (2), Marie-Laure (2), Arturas (2), Dimitar (2), Nicole (2), Eastgate\tSystems (2), Hippolyte (2), Dirk (2), Cornell\n",
       "University\tPress (2), Princeton\tUniversity (2), Communities (2), CMS (2), ROV (2), Instagram (2), Digital\tAge\n",
       "\t\n",
       " (1), ALAN (1), LIU (1), LIU\n",
       "\t\n",
       " (1), IL (1), Congress\tCataloging-in-Publication\tData\n",
       "\t\n",
       "Names: (1), pbk (1), DDC (1), NISO\n",
       "\t\n",
       "Z (1), History\n",
       "\t\n",
       "Notes\n",
       "\t\n",
       "Works (1), Yale\tUniversity (1), Romantics (1), NLH (1), American\n",
       "Council (1), Weiss (1), SpeciAc (1), NY\tTimes (1), Arab/Quixote (1), Nietzsche (1), Arendt (1), aGects (1), Standing\tStone (1), Cairn (1), Pierre\tClastres’s (1), Guayaki (1), CliGord\tGeertz (1), Katherine\tHayles (1), Cashinahua (1), History\n",
       "\t\n",
       " (1), semi-Actional\teGect (1), Gustav\tFreytag (1), Irad (1), Recursion (1), Fidelity (1), Friends (1), Friends\n",
       "\t\n",
       " (1), Blitz (1), CBS (1), Historismus\n",
       "\t\n",
       " (1), Justin\tBieber (1), conAning (1), National\tEndowment (1), Frankfurt\n",
       "School (1), Cortez (1), Derrida (1), Jussi\tParikka’s (1), Oulipo (1), Memex (1), National\tSecurity\tAgency (1), Lanier (1), Fascist (1), Notation (1), DOS (1), post-McLuhan (1), Chartier (1), Coh-Metrix (1), The\tInstitute (1), debugging</ (1), Coyote (1), James\tCummings (1), James\tMeehan’s (1), Communicationally (1), New\n",
       "Critical (1), Babbage (1), Writing\n",
       "\t\n",
       "Encoding\n",
       "\t\n",
       "Reading\n",
       "\t\n",
       "Browsing (1), BubbleViz (1), Jason\tDavies’s\tWord\tTree (1), Literal (1), Network\n",
       "Analysis (1), American\n",
       "Management (1), Joor (1), Non-linear (1), PageRank (1), Dziga\tVertov’s (1), HCI (1), Tribute\n",
       "\t\n",
       "5\n",
       "\t\n",
       "5\tHippic (1), Rolf\tEngelsing (1), Aeld-eGect (1), Lesewut (1), Upper\tChurch (1), Erich\tLessing/Art\n",
       "Resource (1), Post-Painterly\tAbstractionists (1), Renaissance\tIdeals (1), Atted (1), Penshurst (1), Philip’s (1), Ulysses (1), Continuity (1), Authority (1), Baidu (1), FIREDOME (1), Albert\tMuseum (1), Elizabeth\tSwanstrom (1), Interior (1), Mb\tMac (1), RSA (1), SHIT (1), qua (1), Vismann (1), Fluxus (1), Telnet (1), FTP (1), Digital\tMyth (1), Hosted (1), Interactive\tTelevision\tProgram (1), NYU (1), Oedipa\tMaas’s (1), Cris\tCheek (1), Network (1), AGects (1), Networks/Archives (1), Network\tArchaeology\n",
       "\t\n",
       " (1), DAM (1), Google\n",
       "Books (1), HathiTrust (1), Umbrella (1), National\tDigital\tStewardship\tAlliance (1), WGET (1), Archive.is (1), WebCite (1), WARC-Target-URI (1), UTF-8\n",
       "\t\n",
       " (1), Accept-Encoding\n",
       "\t\n",
       " (1), Batcache\n",
       "\t\n",
       "x-ac (1), Digital\tMethods\tInitiative (1), Kepler (1), Advisory\tCommittee (1), ProvOne (1), TrainTopics (1), Plot (1), Resource\n",
       "Description\tFramework (1), Research (1), Text\tEncoding\n",
       "Initiative’s (1), Orlando\tProject\tHuViz (1), Conceptually (1), Northeastern\tUniversity’s\tViral\n",
       "Texts\tProject (1), Roberto\tFranzosi (1), Manchester-school (1), Maureen\n",
       "Pennock (1), NCSA (1), Sense (1), mana (1), aOrmative (1), Semiotically (1), Fernand\tBraudel (1), Freedom\tFoundation (1), Netscape\tNavigator (1), New\tWorld (1), General\tMotors (1), Hippolyte\tTaine’s (1), Andings (1), Digital\n",
       "Collections (1), ChronoZoom (1), eOciently (1), Origen’s (1), Darius (1), Pearse’s (1), eGective (1), Barbeau-Dubourg’s (1), Carte (1), Divines (1), Digital\tTimeline (1), Digital\tTimeline\n",
       "\t\n",
       "Now (1), Eusebian- (1), un (1), International\n",
       "Organization (1), Pressman (1), Knight\n",
       "Lab (1), Mandell (1), Zach\tWise (1), Cartmel\n",
       "Priory (1), Lakes (1), HTML/CSS (1), Google\tDrive (1), Knight\n",
       "Lab’s (1), Wordsworth\tChronology (1), Ancient\tMariner (1), TL (1), Mozilla\tPublic\tLicense (1), Seal (1), Railway (1), J21 (1), Formulae (1), eOcacious (1), Construct (1), TTL (1), UTC National\tMall (1), Generalized\tControl:\tData\tProcessing (1), Cultural\tAnalytics (1), Computation (1), Feature (1), NativeStones.com (1), Comte (1), Herder (1), Postmodern\tCondition (1), Content (1), Civilization\tDepartment (1), Simpson\tCenter (1), Social\tComputing\n",
       "Group (1), Fleet\tCenter (1), Kulturgeschichte (1), Comparing (1), JoAnne\tYates’s (1), Smart\tMachine (1), Media\tEcologies (1), Jameson (1), Tractatus (1), Joachim\tBecher (1), Bishop (1), Institute (1), Svensson (1), Digital Schreibman (1), Tofts (1), ScientiAc\tIllustration (1), Illustrated\tImage\tAnalytics\tProject (1), Jean-Baptiste\tPiggin’s (1), Keeble (1), Chambers (1), CSV (1), Text-Analysis\n",
       "Portal (1), Jason\tDavies (1), RAW (1), Letterist\tPainting (1), Dodge (1), oOce (1), Container\tCorporation (1), Jyer (1), Symbolic (1), Large\tShared\n",
       "Data\tBanks (1), Learning\tOrganization (1), Senge’s (1), Stuart\tG.\tHall (1), eGects (1), Leah\tPrice (1), Paquette (1), PDF\tAle (1), Renaissance\tSelf-Fashioning (1), Elizabethan\tWorld\n",
       "Picture (1), Enquiry\tConcerning\tPolitical\tJustice (1), “Computer\tSimulation (1), EFF (1), the\tTelecommunications\tAct (1), Ivan\tIllich (1), Aldiss (1), Rollin\tMilroy’s (1), Schwenger’s (1), Agrippa\n",
       "File (1), Wiedijk (1), NYPL (1), Medical\tResearch (1), conArmed (1), Yale\tUniversity\tArt\tGallery (1), the\tBeginnings (1), Allied (1), McKenzie\tWark’s (1), Turner’s (1), Information\n",
       "Technology (1), Whitney\tMuseum (1), http://agrippa.english.ucsb.edu/post/documents-subcategories/press- (1), Stewart\tBrand’s (1), James\tGriesemer’s (1), Tristero (1), Oedipa (1), Yoyodyne (1), Algee-Hewitt’s (1), Algee-Hewitt (1), Interface (1), TopicNet (1), DLINA (1), Bearman (1), Moody (1), Pearce-Moses (1), Maureen\n",
       "Pennock’s (1), Digital\tPreservation\n",
       "Coalition (1), P.\tBell (1), Dartmouth\tCollege (1), Chimera (1), See\tSubcommittee (1), Economic\n",
       "Sciences (1), Gómez (1), Postal\tAge (1), Social\tNetwork\n",
       "Analysis (1), Social\n",
       "Network\tAnalysis (1), SNA (1), I.”\n",
       "\t\n",
       "1\n",
       "16 (1), Parikka (1), Capturing (1), Livingroom (1), Moore’s\tLaw (1), Gilder (1), Technical\n",
       "Problem (1), Seshat’s\tWorld\tSample\t30 (1), Merton\tCollege\tMS (1), Barbeau-Dubourg (1), Facebook’s (1), Alexander (1), Mouveaux (1), aGective (1), SpecLab (1), Subjective\n",
       "Meteorology (1), WordPress.org (1), The\tTransliteracies\tProject (1), Claris (1), ASP (1), jQuery\tFoundation’s (1), API (1), Scalable\tVector\tGraphics (1), Fagerjord’s\t\n",
       " (1), Sayers (1), Wardrip-Fruin’s (1), Formal\tMethod (1), HTTP (1), LiveScript (1), Netscape\tCommunications (1), Netscape (1), Columbia (1), InfoVis (1), http://bit.ly/rchrono-timelinejs- (1), TCP (1), Norton (1), Campbell (1), Invariant\tPlot (1), Cited (1), Cited\n",
       "\t\n",
       "4Humanities.org (1), http://we1s.ucsb.edu/ (1), Century-Fox (1), WorkJow\tSystem (1), Limits (1), Esri (1), Digital Arthur (1), Hypermedia\tResearch\tCentre (1), HRC (1), Technical\tImages (1), Hutchinson (1), Wang (1), Philip\tBeitchman (1), Primer (1), Complexity (1), Poetics (1), Harvard\tUniversity\n",
       "Press (1), Information (1), Accessed Information (1), Modern\n",
       "Language\tNotes (1), erdman.blakearchive.org/ (1), Data-Rich\tLiterary\tHistory (1), New\tDirections (1), Federal\n",
       "University (1), Workplace (1), Social\tScience Brügger (1), Social\tScience\n",
       "Computer\tReview (1), Information\tGraphics (1), Networked\tCommunication (1), International\n",
       "Journal (1), CHIA (1), Project\tChimera (1), Boston\tUniversity (1), Contemporary\tTrends (1), Large\tShared\tData\tBanks (1), Biographia\tLiteraria (1), Cornell\tUniversity\n",
       "Press (1), Edmondson (1), Encyclopedia.com (1), Thompson (1), https://wiki.dandascalescu.com/reviews/\n",
       "online_services (1), World\tOrder\tTransformation (1), Columbia\tUniversity\tPress (1), Schizophrenia (1), Mail-Coach (1), DHPoco (1), the\tPoetry\tFoundation (1), Addison-Wesley\tEducational (1), BY-NC-ND (1), BY-NC (1), Digital\tAesthetics (1), Subjective\tMeteorology (1), Information\tDesign\tJournal (1), ICML (1), National\tResearch\n",
       "Council (1), Tiago\tRodrigues (1), Progress\t&\tFreedom\tFoundation (1), Sons (1), Electronic\tLiterature\tCollection (1), Das (1), Archiv (1), Paul\tWerstine (1), York\tUniversity (1), Human\tSciences (1), Leo\tMarshall (1), Pantheon (1), Interviews (1), BC (1), Religion (1), The\tNational\tInterest (1), Digital\tPoetry (1), Pinar\tAlper (1), Oscar\tCorcho (1), Response (1), Gephi.org (1), Berkley\tPublishing\tGroup (1), Ace\tBooks (1), Fox (1), Carole\tGoble (1), Miron (1), Computer (1), Github,\tInc. (1), Francesca\tBorri (1), Meghini (1), Heidelberg (1), Digital\n",
       "Assemblage (1), The\tDomestication (1), Quentin\n",
       "Hoare (1), Nowell (1), Network\tAnalysis (1), MartinGrandjean (1), Liliana\tBounegru (1), Improve\tNews (1), Sebastopol (1), Social\tEnergy (1), Arthur\tAsuncion (1), Intelligent\tSystems (1), Postnarrative\tWorld (1), PfeiGer (1), The\tChurch (1), Boydell\n",
       "&\tBrewer (1), Harvard\n",
       "University\tPress (1), Proceedings (1), HathiTrust\tResearch\tCenter (1), HTRC (1), Cybernetics (1), Informatics (1), Medieval\tPrimary\n",
       "Sources (1), hehmeyer-paxton-interview-with-kevin-begos-jr (1), Modern\n",
       "Communications (1), Domus (1), CNN (1), http://www.oed.com/ (1), Springer\tInternational\tPublishing (1), Interdisciplinary\tResearch (1), Quanta (1), Georg (1), l&d (1), New\tPress (1), ACM/IEEE-CS\tJoint\tConference (1), Digital\tLibraries (1), Putnam (1), jQuery\tFoundation (1), https://jquery.com/ (1), AAAI (1), Complete\tPoems (1), Archive\tJournal (1), Kafkas (1), Digital\tCollections (1), Royal\tCollege (1), Edge (1), www.edge.org/3rd_culture/lanier06/lanier06_index.html (1), IEEE\n",
       "International\tParallel (1), Analog\tTexts (1), Oﬃce\tManagement (1), McGraw-Hill (1), Genny\tLim (1), Immigrants (1), Paul\tLauter (1), Brooke\tGrundfest (1), Lexos/ (1), Zenodo (1), liu.english.ucsb.edu/ (1), Digital\tHumanities\tResources (1), Digital\tHumanities\tSymposium\tUtah (1), Technical\tProblem (1), Basingstoke (1), Point (1), Cross-Domain (1), Destruction\tTheory (1), The\tVoice (1), Jean-Hugues\tRéty (1), Version (1), Social\tNetwork (1), Dirk\n",
       "Baecker (1), Dispute (1), Jean-Loup\tThébaud (1), Digital\tGames (1), International\tJournal (1), Computer\tMathematics (1), CESTA (1), Stanford\tUniversity (1), MacMillan (1), Historical\tMethod (1), Memento\tDevelopment\tGroup (1), Galaxy (1), Parry\tCollection (1), Parry\n",
       "Collection (1), Creek\tPress (1), Modern\tLanguage\n",
       "Association (1), Interactive\n",
       "Fiction (1), Solid-State Circuits (1), Solid-State\n",
       "Circuits\t (1), Society\tNewsletter (1), Claypool (1), Verso (1), Theodor\tHolm (1), Project\n",
       "Xanadu (1), Xanadu (1), Mindful\tPress (1), http://www.bodley.ox.ac.uk/dept/scwmss/wmss/online/ (1), Yale\n",
       "University\tArt\tGallery (1), Vanessa\tBraganholo (1), Springer\n",
       "International\tPublishing (1), King’s\tCollege\tLondon (1), IIPC (1), Organization\tScience (1), Natural\tTheology (1), https://archive.org/details/ (1), Lundgren-Cayrol (1), Educational\tTechnology (1), Digital\tPreservation\tCoalition (1), Maureen\tPennock (1), Agency (1), Piggin’s\tLibrary (1), Translation-Machination (1), Critical\tTheory (1), Thomson\tWadsworth (1), Group\tDecision\tSupport\tSystems (1), SteinAeld (1), Tachistoscope (1), State (1), Perennial/\n",
       "HarperCollins (1), Python.org (1), IdentiAcation (1), https://webrecorder.io/ (1), ReconAguring\tInformation (1), Architectural\tPress (1), Jentry (1), Naive (1), Sentimental\tPoetry (1), Julius\tA.\tElias (1), Wiley-Blackwell (1), The\tApocalyptic\tBook (1), the\tLearning\n",
       "Organization (1), Research\tCommunication (1), Research\tGroup (1), Accessed Social\tNetworks (1), UMIACS (1), Digital\tRepository (1), TAITO\n",
       "Corporation (1), Gerhard (1), Pennsylvania\tPress (1), Knopf (1), Science\tAdvisory\tCommittee (1), National\tScience\tFoundation\tDirectorate (1), National\tScience\n",
       "Foundation (1), Text-Analysis\tPortal (1), Stéfan\tSinclair (1), Radzikowska (1), McMaster\tUniversity (1), Names (1), Warner\tBrothers (1), Elizabethan\tWorld\tPicture (1), Cultural\tPractices (1), Peer (1), Network\tData (1), Jagiellonian\tUniversity (1), Pedagogical\tUniversity (1), Graphics\tPress (1), Stone (1), Shell (1), Contemporary\tLiterature (1), Winthrop-Young (1), Computer\n",
       "Games (1), Wisconsin\tPress (1), WebCite\tConsortium (1), Slides (1), Platform\tTransitions (1), index.php?title=Hypergraphy&oldid=755478227 (1), Lightweight_programming_language&oldid=797388418 (1), WordPress&oldid=796659040 (1), The\tPoetical\tWorks (1), Norton\tCritical\tEdition (1), World-Historical\tDataverse (1), W3C. (1), New\tReview (1), Mu (1), State\tUniversity (1), American\tManagement (1), Technical\tMeans (1), Custance (1), Genome\tBiology\n",
       "\t (1), Fernand\n",
       "\t\n",
       " (1), rtiAcial (1), Belinda (1), Hexapla (1), Niels (1), Grant (1), HIA (1), Schreibman (1), WordPress\n",
       "\t\n",
       " (1), Art\tEnsemble (1), NA (1), See\n",
       "\t\n",
       "Document\tObject\tModel (1), CMAScript (1), Literature\tOrganization (1), luxus (1), Humanities.org (1), School (1), Gustav (1), Drosophila (1), Moretti (1), Félix (1), Georg\tWilhelm\tFriedrich (1), New\tHistoricism\n",
       "\t\n",
       " (1), TML (1), HTML\n",
       "\t\n",
       "H (1), uViz (1), IPC (1), See\n",
       "\t\n",
       "International (1), Internet\tPreservation\tConsortium (1), eGerys (1), Query (1), SON (1), eOngwell (1), Transcendence (1), Graph\tAnalysis (1), Niklas (1), Auto-DiGerend\tPage (1), cCarty (1), cGann (1), cLuhan (1), Time\tTravel\tService (1), Aimée (1), Digital\tStewardship\tAlliance (1), Leah (1), Terence (1), DF (1), Resource\tDescription\tFramework (1), Ayal (1), PHP\n",
       "\t\n",
       " (1), NAC (1), Wikipedia\n",
       "\t\n",
       " (1), Social\tNetworks S (1), ARDIS (1), EI (1), Eusebius-Priestley (1), CINET (1), Alfred\tVictor (1), Florian\n",
       "\t\n",
       " (1), ARCreate (1), ELL (1), Matthews (1), Trade\tCenter (1), ML (1)</td>\n",
       "    </tr>\n",
       "    <tr>\n",
       "      <th id=\"T_b5bf8_level0_row1\" class=\"row_heading level0 row1\" >1</th>\n",
       "      <td id=\"T_b5bf8_row1_col0\" class=\"data row1 col0\" >GPE</td>\n",
       "      <td id=\"T_b5bf8_row1_col1\" class=\"data row1 col1\" >1312</td>\n",
       "      <td id=\"T_b5bf8_row1_col2\" class=\"data row1 col2\" >New\tYork (71), Files (66), n.d. (51), Cambridge (45), Kräutli (32), Malden (30), Chicago (29), al. (28), London (22), California (21), Begos (21), Wikipedia (20), Minneapolis (17), Santa\tBarbara (16), Nebraska (14), Media (14), France (11), Agure (11), America (10), England (8), U.S. (8), Boston (8), Understand (8), Poets (8), Github (7), Taverna (7), Orlando (7), Stephen (7), UK (7), Yolanda (6), Philadelphia (6), Washington (6), New\n",
       "York (6), Ithaca (6), Harcourt (6), Zusammenhang (5), Narratives (5), Gutenberg (5), Marrinan (5), Hayles (5), Ulrich (5), Miami (5), Cordell (5), St. (5), TL.Dom.create(‘div (5), Modeling (5), Berkeley (5), Boris (5), Hayden (4), Negri (4), Tristes (4), Fernand (4), Tableau (4), Middleware (4), NoSQL (4), Germany (4), Graphical (4), Italy (4), Cornelia (4), pp. (4), Paxton (4), aOxed (4), Quinn (4), Gumbrecht (4), New\tYork\tCity (4), Ohio (4), Memento (4), Postrevolutionary (4), Cleanth (4), Oliveira (4), Wordsworth (4), Cornell (4), Minnesota (4), Baltimore (4), Johanna (4), Britain (3), Jowing (3), Tocqueville (3), n’t (3), Madness (3), Olia (3), Pennsylvania (3), Canada (3), New\tYork\tPublic\tLibrary (3), Maryland (3), Heritrix (3), Paris (3), Sangchul (3), Rosenberg (3), Chronicon (3), Persia (3), Newton (3), DC (3), Pattern (3), Birth (3), Neuzeit (3), Modelling (3), Vengeance (3), Certeau (3), Role (3), François (3), Pittsburgh (3), Alberto (3), Brooklyn (3), Autonomedia (3), Humanities (3), Bertrand (3), Rama (3), Wisconsin (2), Dilthey (2), Vietnam (2), Looked (2), Phaedrus (2), Widening (2), Egypt (2), Atropos (2), Scale (2), Arewall (2), Voronoi (2), Bang (2), Panofsky (2), Newtonian (2), Mitrović (2), Lialina (2), Clement (2), Henry (2), Japan (2), College (2), Damien (2), Garden (2), San\tNarciso (2), Exploit (2), Amsterdam (2), Netherlands (2), Garijo (2), Sankey (2), Imagine (2), Project (2), Carrousel (2), Socio (2), Anesse (2), Fagerjord (2), Literaria (2), Pindaric (2), Wong (2), Herzberg (2), Heresy (2), Klein (2), Version (2), Wattenberg (2), Cairo (2), Except (2), Juristo (2), Linking (2), Mannheim (2), Deleuze (2), UtS3BjlcCGiCgCFRhVjYAkl25T0AmH8ngm3KURY0U&font (2), Critique (2), Britten (2), Louis (2), Roland (2), Edmund (2), Vannevar (2), Bertram (2), BanG (2), CC (2), Smith (2), Los\tAngeles (2), Vancouver (2), Leipzig (2), Limassol (2), Cham (2), Switzerland (2), Cullens (2), Schreibmaschinen (2), Bruno (2), Michigan (2), Rollin (2), Braxton (2), Patrik (2), Raymond (2), Vincent (2), Ferdinand (2), Friending (1), Santa\tBarbara\tMuseum (1), New\tLiterary\tHistory (1), GeoGrey\tH.\tHartman (1), Philomela (1), Split\tRock (1), Aura (1), Montana (1), Niebuhr (1), Gothland (1), Germania (1), Alluding (1), Vaidhyanathan (1), Music (1), Machiavellian (1), Berlin (1), Innovating (1), Chauvet (1), Arewalls (1), Juent (1), mutatis (1), Gregory (1), Keatsian (1), Bragdon (1), Bertrand\tGervais (1), reservati (1), Ramon (1), Postman (1), Reformation (1), Mallet (1), Lexos (1), node (1), customer_id (1), protean (1), Los\tAngeles\tTimes (1), Occam (1), Renaissance (1), Quebec (1), Appleton (1), Assisi (1), -Wikipedia (1), Bildung (1), Victoria (1), Afth (1), Unsealing (1), Hirst (1), New\tHistoricist (1), N (1), Manhattan (1), Atlanta (1), aAeld (1), Raised (1), html><html (1), lang=“en”><!--<![endif]--\n",
       "> (1), hackathon (1), Apache (1), Wings (1), Format (1), Zielinski (1), Intuitively (1), Storming (1), Carlylean (1), anesthesia (1), Ascal (1), Kindred (1), Ngram (1), Israel (1), Warden (1), Trojan (1), Los\tAngeles\tRiver (1), Timeglider.js (1), India (1), Ireland (1), Lightweight (1), Client (1), Biographia (1), JSON (1), Algorithm (1), Satan (1), Faust (1), Plain (1), Altering (1), Subject (1), Iroquois (1), Le (1), Austria (1), TD (1), Empire (1), Pingree (1), noun (1), Ulricchio (1), Juliet (1), Bamman (1), 401–2n14 (1), Nineteenth (1), Priceonomics (1), Bounegru (1), Uneven (1), Underwood (1), Taylorist (1), Puritan (1), oOce (1), Meme (1), Hall (1), Concepts (1), Lima (1), Album (1), Catalog (1), Hodge (1), San\tFrancisco (1), Oakland (1), Stovel (1), Milligan (1), Aeld (1), Mathena (1), Advocates (1), Schäfer (1), Weingart (1), Tophet (1), Keyworth (1), Ginzburg (1), Database (1), Jehan (1), Descartes (1), Zepto (1), Lenin (1), pache (1), Indianapolis (1), Bobbs (1), Author (1), Patton (1), Arendt (1), New Bolter (1), Borges (1), Labyrinths (1), San\tDiego: (1), Luxembourg (1), Gustavo (1), Keith (1), Bedford (1), Conroy (1), Columbia (1), English (1), Charlottesville (1), NC (1), Virginia (1), Montreal (1), Vasco (1), Sancho (1), Moura (1), Carta (1), Hoboken (1), Toronto (1), Roberto (1), Linton (1), Gustav (1), Fumerton (1), Visual (1), Gervais (1), Livny (1), Phaidon (1), Natalia (1), André (1), Bollingen (1), Antonio (1), Whobrey (1), Woodbridge (1), Rinke (1), Cologne (1), Hugh (1), North\tCarolina (1), Nathan (1), Manifestos (1), Lettriste (1), Watertown (1), MA (1), Jakobson (1), Pomorska (1), MS (1), WorkJows (1), Medien (1), http://projects.kraeutli.com/brittenPoets/ (1), http://www.kraeutli.com/index.php/2016/02/15/brittens-poets/ (1), Alexey (1), Long\n",
       "Beach (1), Houghton (1), Schoepf (1), Utah (1), mqrarchive;idno (1), Plea (1), Ivana (1), Anjelkovic (1), Bakht (1), http://oldsite.english.ucsb.edu/faculty/ayliu/research/canonweb.html (1), msg00132.html (1), Niklas (1), read.dukeupress.edu/comparative-literature/article/64/4/356/7729/ (1), Clarendon (1), San\n",
       "Rafael (1), Modern (1), Blogging (1), Rebecca (1), Hong\tYu\tWong (1), New\tHaven (1), Wellington (1), Marta (1), Wanda (1), Kendall (1), Karin (1), Jussi (1), Arizona (1), Press (1), Tatlock (1), Rochester (1), Camden (1), Newbury (1), Iowa (1), Norfolk (1), https://rawgraphs.io/ (1), www.rheingold.com/vc/book/ (1), https://muse.jhu.edu/article/24448 (1), Us (1), Denmark (1), Muir (1), Encyclopedia (1), Tomohiro (1), Nishikado (1), Corfu (1), Greece (1), Alberta (1), n.d (1), transliteracies.english.ucsb.edu (1), index.php?title=Big_History&oldid=766187481 (1), Fontana (1), Lexington (1), Kentucky (1), Dover (1), Wenjing (1), Technologies (1), Hearing (1), Island (1), Goldberg (1), airo (1), uPont (1), Johannes (1), Bastille (1), Leo (1), Hulle (1), Freek (1), Zach (1)</td>\n",
       "    </tr>\n",
       "    <tr>\n",
       "      <th id=\"T_b5bf8_level0_row2\" class=\"row_heading level0 row2\" >2</th>\n",
       "      <td id=\"T_b5bf8_row2_col0\" class=\"data row2 col0\" >DATE</td>\n",
       "      <td id=\"T_b5bf8_row2_col1\" class=\"data row2 col1\" >2326</td>\n",
       "      <td id=\"T_b5bf8_row2_col2\" class=\"data row2 col2\" >2017 (304), today (147), February (75), 2016 (52), 2007 (51), August (47), 2018 (45), 2012 (40), 2015 (37), 2013 (33), 1992 (32), January\t9 (31), 2006 (26), 2010 (25), 2005 (25), 2 (23), April\t8 (23), 2008 (22), September (21), March (21), July (20), 2004 (20), 2014 (18), nineteenth-century (16), twentieth-century (16), 22 (16), 5 (16), 1998 (15), 2009 (15), 1 (15), 1994 (14), 2011 (13), 2000 (13), 1996 (13), January\t29 (13), January\t15 (13), 1494 (12), 1514 (12), 4 (12), October (11), 1983 (11), 3 (11), Today (10), 19 (10), 23 (9), 14 (9), twentieth\tcentury (9), 1990 (9), April\t9,\t2018 (9), 15 (9), January\t18 (9), 2001 (8), 1995 (8), 1999 (8), 1805 (8), 1984 (8), 1993 (8), 17 (8), 1977 (8), January\t31 (8), 20 (7), 1970 (7), 1987 (7), 1972 (7), January\t6 (7), January\t21 (7), 26 (7), 1989 (6), 1997 (6), January (6), 31 (6), 1965 (6), January\t14 (6), 1988 (6), January\t11 (6), 25 (6), 1971 (5), 11 (5), 1976 (5), 1969 (5), 2002 (5), Schober (5), 21 (5), 1986 (5), 1968 (5), 1966 (5), 1954 (5), 1980 (5), January\t30 (5), 1975 (4), 1979 (4), 1824 (4), 9 (4), 7 (4), 1935 (4), eighteenth-century (4), 01 (4), Eighteenth-Century (4), 1798 (4), early\tdays (4), 12 (4), 1802 (4), 1799 (4), 1850 (4), 72 (4), 16 (4), April\t7 (4), January\t28 (4), 8 (4), 13 (4), January\t8 (4), 2003 (4), 18 (4), February\t8 (4), Quarterly (4), January\t24 (4), 1973 (4), 67f (4), 97f (4), the\t1980s (3), September\t11 (3), 1963 (3), seventeenth-century (3), December\t9 (3), mid-2000s (3), 2016-09-02T13:20:32Z (3), 1956 (3), 1765 (3), 1981 (3), June (3), 1793 (3), 1909 (3), November\t16 (3), 29 (3), 30 (3), 27 (3), December\t28 (3), 24 (3), January\t25 (3), 1800/1900 (3), January\t10 (3), January\t17 (3), 1967 (3), 6 (3), April\t6 (3), 60637 (2), yesterday (2), mid-twentieth\tcentury (2), the\tyear (2), mid-twentieth-century (2), the\tyears (2), fourteenth-century (2), January\t1 (2), January\t2 (2), 1964 (2), 1957 (2), 2000s (2), 1800 (2), 1898 (2), two\tdecades (2), 1917 (2), 1769 (2), 1795/1805 (2), two\tcenturies (2), late\t1990s (2), 07 (2), Three\tyears (2), Ave-year (2), 32 (2), 37 (2), 1882 (2), 1874 (2), 97 (2), 121–27 (2), 43 (2), 39 (2), 44 (2), 86 (2), twelfth-century (2), eighteen (2), 1948 (2), December\t1 (2), December\t1992 (2), April\t21 (2), 57 (2), 47 (2), 216–21 (2), February\t2017 (2), Early\tYears (2), December\t31 (2), 1960 (2), April\t7,\t2018 (2), 10 (2), 1958 (2), 1961 (2), January\t20 (2), May\t2009 (2), 1947 (2), September\t9 (2), March\t21 (2), June\t19 (2), January\t7,\t2016 (2), December\t17 (2), January\t12 (2), June\t4,\t2005 (2), January\t22 (2), May\t29 (2), 1943 (2), January\t26 (2), April\t30 (2), 1951 (2), April\t19 (2), 9672 (2), 1982 (2), 1991 (2), Eighteenth-Century\tEngland (2), December (2), 46 (2), 159–62 (2), 1427 (1), 1953 (1), 9780226451954 (1), 58\t2018 (1), 302.23/1 (1), 39.48-1992 (1), one\tyear (1), May\t1968 (1), century (1), 1833 (1), 1846 (1), eighth-century (1), Saturday (1), winter (1), January\t2011 (1), Some\tyears\tago (1), twentieth-\n",
       "century (1), an\t18th\tCentury (1), 1929 (1), 1930s (1), 1950s (1), Sundays (1), eighteenth\tcenturies (1), sixteenth-century (1), 1552 (1), a\tyear (1), the\t2000s (1), 1900 (1), early\t1990s (1), September\t2 (1), 18404 (1), pre-1861 (1), 1934 (1), 1888 (1), mid-century (1), quarter-century (1), August\t1792 (1), the\t1990s (1), fourth-century (1), third-century (1), ninth-century (1), year\t1 (1), Second\tYear (1), 1753 (1), 1978 (1), Christmas (1), 1796 (1), 1990s (1), 1770 (1), September\t1785 (1), May–September\t1805)—problems (1), June\t12 (1), May (1), September\t1805 (1), Three\tYears (1), Five\tyears (1), winters (1), mid-eighteenth (1), 1754 (1), 1826 (1), 58 (1), 74 (1), decades (1), Boundaries (1), 107–40 (1), mid\t1960s (1), 1548 (1), 54 (1), 220–21 (1), 45 (1), twentieth-\n",
       "century\tAmerica (1), 1940 (1), 1855 (1), 40 (1), 62 (1), Schwarz (1), 109–11 (1), 126–27 (1), 509–10 (1), 49 (1), 42 (1), thirteen\tcenturies (1), 1564 (1), November\t7,\t2014 (1), 85 (1), 23\tMarch\t1992 (1), September\t15 (1), 68 (1), summer\t (1), 225–27 (1), 55 (1), 1:4 (1), 81 (1), December\n",
       "2016 (1), November\t2016 (1), 116–26 (1), 113–15 (1), 110–11 (1), 35 (1), 75 (1), 119–20 (1), Fall\t2009 (1), January\t1793 (1), 3.4.3 (1), 04 (1), 141–42 (1), 161–63 (1), 264–73 (1), 1797 (1), 1784 (1), December\t25 (1), 1804 (1), 1815 (1), January\t2016 (1), June\t13 (1), October\t2015 (1), June\t2013 (1), 121–73 (1), April\n",
       "9 (1), 3–62 (1), May\t1996 (1), May\t24 (1), 19970614175626 (1), February\t9,\t1996 (1), 20071028001921 (1), September/October\t2002 (1), 1795 (1), April\t2012 (1), 10.1215/00267929-3699787 (1), January\t19 (1), 10.17516/1997-1370-2016-9-7-1562-1571 (1), March\t2005 (1), June\t9–10 (1), 165–74 (1), 1906 (1), 133–52 (1), Spring\t1993 (1), 534–46 (1), June\t1970 (1), 768–91 (1), 1946 (1), September\t2016 (1), 1O11-storeandforward.html (1), June\t16 (1), 1905 (1), January\t7 (1), 1962 (1), 1909–1923 (1), January\t16 (1), August\t1994 (1), May\t21 (1), 1949 (1), 29\tJanuary (1), June\t2 (1), 22–27 (1), 122–61 (1), 1863 (1), Summer\t1989 (1), 3–18 (1), Four\tDecades (1), May\t16 (1), November\t6,\t2002 (1), April\t4 (1), February\n",
       "2012 (1), July\t9,\t2016 (1), April\t20 (1), November\t6,\t2005 (1), May\t2003 (1), 25\tDecember\t2010 (1), This\tDay’\tFeature (1), November\t4,1997 (1), 111–25 (1), 134–44 (1), ninth\tcentury (1), http://www.wings-workJows.org/node/\n",
       "17647 (1), February\t\n",
       "9 (1), December\t5 (1), 415–33 (1), January\t2015 (1), August\n",
       " (1), May\t6 (1), 15\tJanuary\t2018 (1), 10.17516/1997-1370-2016-9-7-1546-1552 (1), February\t2000 (1), 721–71 (1), October\t15 (1), January\n",
       "9 (1), 249–60 (1), 9/30/2012 (1), December\t29 (1), 1936 (1), 1985 (1), May\t5 (1), 177–85 (1), 10.1215/00104124-1891396 (1), December\t24 (1), June\t21 (1), April–June\t1997 (1), September\t2006 (1), May\t1 (1), December\t2013 (1), Tomorrow (1), April\t19–21 (1), 28 (1), June\t3,\t2015 (1), April\t5 (1), April\t23 (1), June\t2001 (1), March\t2018 (1), 1837 (1), 1955 (1), March\t2013 (1), October\t2017 (1), April\t3,\t2018 (1), 373–99 (1), 155–84 (1), 173–93 (1), November\t2 (1), 477–91 (1), 177–97 (1), 33 (1), 1941 (1), April\n",
       "8 (1), 21st-Century (1), 19981001 (1), 14\tJuly\t2012 (1), 5011 (1), June\t10 (1), May\t2 (1), 194–95 (1), 20170812123626 (1), April\t7,\t2008 (1), May\t2015 (1), November\t8 (1), January\t3 (1), 1744 (1), December\t11 (1), 121–38 (1), November\t17 (1), Winter\t2011 (1), Monday (1), February\t6 (1), December\t18 (1), November\t23 (1), December\t30 (1), January\t4 (1), 1974 (1), May\t8 (1), 564–76 (1), 1932 (1), 1950 (1), 279–85 (1), Hélène (1), 165–66 (1), 131–32 (1), 72f (1), 113–14 (1), 171–75 (1), ldweb.today (1), 156–57 (1), 153–55 (1), 179–80 (1)</td>\n",
       "    </tr>\n",
       "    <tr>\n",
       "      <th id=\"T_b5bf8_level0_row3\" class=\"row_heading level0 row3\" >3</th>\n",
       "      <td id=\"T_b5bf8_row3_col0\" class=\"data row3 col0\" >LOC</td>\n",
       "      <td id=\"T_b5bf8_row3_col1\" class=\"data row3 col1\" >131</td>\n",
       "      <td id=\"T_b5bf8_row3_col2\" class=\"data row3 col2\" >Wordsworth (41), Key\tWest (17), Europe (8), Mediterranean (8), Earth (5), Arst (4), Begos (4), South (3), Atlantic (3), Gephi (3), Regina (3), Costa (3), Africa (2), Key\n",
       "West (2), non-Euclidean (2), Americas (2), Valley (2), East (1), Burckhardt (1), West (1), NYC (1), WARCreate (1), Symptomatic (1), earth (1), Sun (1), Varieties (1), DiRT (1), Scope (1), Silicon\tValley (1), Cleanth (1), Brewster (1), Aesthetic (1), Heterogeneous\n",
       "Provenance\tGraphs (1), Leopold (1), Drama (1), Collections (1)</td>\n",
       "    </tr>\n",
       "    <tr>\n",
       "      <th id=\"T_b5bf8_level0_row4\" class=\"row_heading level0 row4\" >4</th>\n",
       "      <td id=\"T_b5bf8_row4_col0\" class=\"data row4 col0\" >ORDINAL</td>\n",
       "      <td id=\"T_b5bf8_row4_col1\" class=\"data row4 col1\" >84</td>\n",
       "      <td id=\"T_b5bf8_row4_col2\" class=\"data row4 col2\" >second (29), First (14), third (10), Hypertext (6), Second (3), seventeenth (2), Fifth (2), 5th (2), 8th (2), 3rd (2), 60th (1), 1066–1307 (1), fourth (1), 1457–58 (1), 26th (1), 1st (1), 10.1126/ (1), Ninth (1), 2005–10 (1), 1787–1805 (1), Third (1), 9–11 (1)</td>\n",
       "    </tr>\n",
       "    <tr>\n",
       "      <th id=\"T_b5bf8_level0_row5\" class=\"row_heading level0 row5\" >5</th>\n",
       "      <td id=\"T_b5bf8_row5_col0\" class=\"data row5 col0\" >CARDINAL</td>\n",
       "      <td id=\"T_b5bf8_row5_col1\" class=\"data row5 col1\" >6381</td>\n",
       "      <td id=\"T_b5bf8_row5_col2\" class=\"data row5 col2\" >1 (231), 2 (205), 4 (192), 3 (190), 5 (161), 6 (140), 8 (125), 7 (98), 2.0 (81), 9 (78), two (60), one (45), 17 (42), 48 (39), 25 (36), One (35), 0 (32), 89 (31), 49 (31), 14 (30), 23 (30), 212 (30), 2\n",
       "\t (29), 31 (29), 18 (29), 38 (29), 21 (29), 27 (28), 26 (27), 28 (27), 148 (27), 143 (27), 5\n",
       "\t (26), 15 (26), 13 (26), 126 (26), 32 (26), 47 (26), 55 (26), 141 (26), 111 (26), 161 (26), 3\n",
       "\t (25), 11 (25), 10 (25), 29 (25), 179 (25), 16 (24), 12 (24), 178 (24), 163 (24), 146 (24), 209 (24), 42 (24), 56 (23), 180 (23), 152 (22), 216 (22), 36 (22), 167 (21), 80 (21), 115 (21), 172 (21), 144 (21), 208 (21), 183 (21), 182 (21), 159 (21), 4\n",
       "\t (20), 100 (20), 102 (20), 125 (20), 142 (20), 75 (20), 1\n",
       "\t (19), 120 (19), 205 (19), 91 (19), 114 (19), 105 (19), 121 (19), 160 (19), 213 (19), 6\n",
       "\t (18), 22 (18), 78 (18), 98 (18), 65 (18), 157 (18), 60 (18), 162 (18), 24 (17), 202 (17), 109 (17), 175 (17), 62 (17), 99 (17), 168 (17), 210 (17), 57 (17), 0\n",
       "\t (16), 20 (16), 41 (16), 51 (16), 74 (16), 158 (16), 95 (16), 46 (16), 45 (16), 117 (16), 87 (16), 129 (16), 156 (16), 187 (16), 44 (16), 35 (16), 211 (16), 131 (15), 139 (15), 39 (15), 63 (15), 92 (15), 239n5 (15), 110 (15), 101 (15), 186 (15), 94 (15), 86 (15), 176 (15), 9\n",
       "\t (14), 52 (14), 79 (14), 73 (14), 112 (14), 113 (14), 135 (14), 76 (14), 61 (14), 140 (14), 196 (14), 214 (14), 184 (14), 8\n",
       "\t (13), 30 (13), 123 (13), 50 (13), 154 (13), 37 (13), 134 (13), 54 (13), 188 (13), 33 (12), 206 (12), 97 (12), 153 (12), 136 (12), 195 (12), 106 (12), 119 (12), three (11), 64 (11), 165 (11), 203 (11), 96 (11), 88 (11), 71 (11), 218 (11), 104 (11), 122 (11), 215 (11), six (10), 19 (10), 82 (10), 197 (10), 118 (10), 43 (10), 202n (10), 151 (10), 219 (10), 124 (10), 150 (10), 177 (9), 189 (9), 85 (9), 193 (9), 174 (9), 198 (9), Two (8), 7\n",
       "\t (8), 1.1 (8), 59 (8), 4.1 (8), 192 (8), 40 (8), 149 (8), 234n34 (8), 191 (8), 169 (8), 226n2 (8), 143–44 (8), 147 (8), four (7), 5.7 (7), 241n13 (7), 112–13 (7), 83 (7), 230n3 (7), 53 (7), 145 (7), 166 (7), 185 (7), 1.0 (6), 3.16 (6), 4.4 (6), 5.6 (6), 5.12 (6), 220 (6), 58 (6), 199 (6), 81 (6), 155 (6), 84 (6), 237n82 (6), 93 (6), 37–38 (6), 192–203 (6), 223n31 (6), 190 (6), 235n55 (6), 255n39 (6), 77 (6), 137f (6), 57–58 (6), 225n61 (6), Anally (5), 3.2 (5), 127 (5), 5.1 (5), 5.2 (5), 315 (5), 240n9 (5), 245n48 (5), 116 (5), 240n11 (5), 253n28 (5), 225n55 (5), 214–15 (5), 217 (5), 132 (5), 138 (5), 40–41 (5), 34 (5), 225n2 (5), 191f (5), 113–14 (5), 176–77 (5), 709 (4), half (4), 3.1 (4), 3.3 (4), 3.15 (4), 4.2 (4), 14–15 (4), 350 (4), 4.11 (4), 4.12 (4), 4.13 (4), 5.4 (4), 5.8 (4), 5.10 (4), 5.13 (4), 128 (4), 21–23 (4), 122–23 (4), Four (4), 53–54 (4), 34–35 (4), 207 (4), 171–72 (4), 1.2 (4), 10.1109 (4), 107f (4), 240n12 (4), 226n5 (4), 254n31 (4), 259n83 (4), 123–24 (4), 239n7 (4), 29–30 (4), 183–88 (4), 133 (4), 233n32 (4), 158–59 (4), 96f (4), 168–72 (4), 170f (4), 171f (4), 100–102 (4), 236n80 (4), 72f (4), 92–99 (4), 96–98 (4), 136–39 (4), 164 (4), 223n38 (4), 12–13 (4), 243n35 (4), 33–34 (4), 256n56 (4), 141–43 (4), 156–57 (4), 978 (3), 3.4 (3), 3.5 (3), 3.6 (3), 3.7 (3), 3.8 (3), 3.9 (3), 3.10 (3), 3.11 (3), 3.12 (3), 3.13 (3), 3.14 (3), 3.0 (3), zero (3), 3.17 (3), 3.18 (3), 3.19 (3), 3.20 (3), 3.21 (3), 4.3 (3), 4.5 (3), 4.6 (3), 4.7 (3), 4.8 (3), 4.9 (3), hundreds (3), 200 (3), 4.10 (3), 06 (3), 09 (3), 4.14 (3), 5.3 (3), 5.5 (3), 5.9 (3), 5.11 (3), 459 (3), 135–36 (3), 110–11 (3), 1957–1969 (3), 31.1 (3), 1797–1800 (3), 153–55 (3), 108 (3), 115–16 (3), 108–9 (3), 241n16 (3), 228n35 (3), 251n122 (3), 172–76 (3), 173f (3), 165–66 (3), 186–87 (3), 120–21 (3), 26–27 (3), 79f (3), 180–82 (3), 187–88 (3), 100–101 (3), 199–202 (3), 188–90 (3), 95f (3), 237n83 (3), 238n4 (3), 256n50 (3), 250n112 (3), 111–12 (3), 98f (3), 70 (3), 130 (3), 210–13 (3), 16–17 (3), 257n66 (3), 155–56 (3), 81–82 (3), 154–55 (3), 228n27 (3), 238n1 (3), 147–48 (3), 204 (3), 144–45 (3), 34f (3), 203–12 (3), 126–29 (3), 1.5 (2), millions (2), 9\n",
       "\tAgain (2), hese (2), fourteen (2), 8\n",
       "\tOne (2), 02 (2), 13:20:31 (2), 08 (2), 13\n",
       "\t (2), 1800 (2), 90 (2), 4.x (2), 103 (2), 1740–1915 (2), 194 (2), 489 (2), Three (2), 244 (2), 336–48 (2), 03 (2), 05 (2), Five (2), 246 (2), 4Humanities.org (2), 108.1 (2), Seven (2), 24–25 (2), 10.1177/0894439312454267 (2), 10.2 (2), 16.1 (2), 38.8 (2), 10.1007/978-3-319 (2), 2006–9 (2), 101–10 (2), 108f (2), 114–19 (2), 171 (2), 195–96 (2), 209–10 (2), 19–20 (2), 114–15 (2), 247n68 (2), 235n63 (2), 257n65 (2), 59–60 (2), 145–46 (2), 159–60 (2), 189–90 (2), 227n20 (2), 257n59 (2), 179–80 (2), 96–97 (2), 17–18 (2), 249n108 (2), 164–65 (2), 118–19 (2), 47–48 (2), 170–71 (2), 222n23 (2), 260n88 (2), 217–19 (2), 211–13 (2), 256n58 (2), 228n38 (2), 191–92 (2), 30–31 (2), 219–20 (2), 54–55 (2), 260n89 (2), 97–98 (2), 225n56 (2), 232n23 (2), 226n3 (2), 227n18 (2), 193–97 (2), 188–89 (2), 48–49 (2), 28–29 (2), 26–32 (2), 258n72 (2), 246n58 (2), 234n48 (2), 237n87 (2), 202–13 (2), 264n123 (2), 221n1 (2), 42–43 (2), 9–10 (2), 233n30 (2), 252n17 (2), 17–23 (2), 22–23 (2), 125–26 (2), 121–25 (2), 147–50 (2), 143–46 (2), 133–34 (2), 157–58 (2), 162–63 (2), 264n126 (2), 185f (2), 194f (2), 149f (2), 151–53 (2), 184–85 (2), 11–12 (2), 30–32 (2), 195–97 (2), 177–79 (2), 13–24 (2), 261n92 (2), 235n56 (2), 4560.3 (1), 1787–1814\n",
       "\t(1964 (1), 1787–1814 (1), 42.1 (1), 1–30 (1), 24/7 (1), 4\n",
       "\tand\t\n",
       "5 (1), 3\n",
       "\tAnchored (1), 710 (1), 711 (1), 713 (1), 714 (1), 715 (1), 716 (1), 717 (1), 718 (1), 720 (1), 721 (1), 722 (1), 723 (1), 724 (1), 726 (1), 728 (1), 729 (1), 730 (1), 731 (1), 733 (1), 734 (1), 8\n",
       "\tOr (1), 529 (1), twenty-six (1), 280 (1), 8\n",
       "\tand\t (1), 3\n",
       "\tOr (1), 6\n",
       "\tand\t (1), only\thalf (1), 1740–1915\n",
       "\t (1), 4\n",
       "\tA (1), 4\n",
       "\tAs\t (1), dozens (1), 9\n",
       "\tAnd\t (1), 195–216 (1), 216–22 (1), 305 (1), 8\n",
       "\tMeanwhile (1), 1\n",
       "\tOne (1), eight (1), forty-two (1), twenty (1), 1.44 (1), 320,000 (1), 1. (1), f894 (1), 336 (1), 2008/12 (1), 9\n",
       "\tOther\tworkJow (1), 07 (1), 12\n",
       "\t (1), 14\n",
       "\t (1), 20\n",
       "\t (1), 2,400 (1), seven (1), 7\n",
       "\tIntelligent (1), 2. (1), twenty-eight (1), 55v (1), approximately\t6,000 (1), 1\n",
       "\tStreams (1), 3.x (1), thirty-six (1), 250,000 (1), 3\n",
       "\tThus (1), 05\n",
       "\t (1), four\thundred (1), 16\n",
       "\t (1), mov’d (1), 4-3-4-3 (1), thirteen (1), 11.257–78 (1), 23\n",
       "\t (1), 1.403–4 (1), 11.268–71 (1), 26\n",
       "\t (1), 27\n",
       "\t (1), 29\n",
       "\t (1), ten\tthousand (1), 221 (1), 294 (1), 282–302 (1), 228 (1), 197–221 (1), 186–206 (1), 266 (1), thirty-seven (1), 333–34 (1), VIII.12 (1), 334 (1), 1955–65 (1), 484 (1), 490 (1), 393–96 (1), 286 (1), 187–206 (1), 27–30 (1), 198–230 (1), 27–48)—are (1), some\tthousands (1), 431n5 (1), 958 (1), 322–23n55 (1), 198–214 (1), 249–55 (1), 225 (1), 227 (1), 276 (1), 18–20 (1), 275 (1), twelve (1), 317 (1), 274 (1), 795 (1), 2–3 (1), 232 (1), 66 (1), 396 (1), 398 (1), 269 (1), 240 (1), 228–29 (1), 230 (1), 72 (1), 1–58 (1), 241 (1), 415 (1), 318 (1), 418 (1), 430 (1), 431–32 (1), 325–30 (1), 496 (1), 497 (1), hundredth (1), 257–58 (1), 217–44 (1), 121–27 (1), 646 (1), 1:6 (1), 21–22 (1), 69 (1), 260 (1), 144–49 (1), 158–67 (1), 37–64 (1), 209–36 (1), 10\tmillion (1), 187–98 (1), 299 (1), 10,000 (1), 8,500 (1), 1Y- (1), 650'\t (1), 137 (1), 314 (1), 370 (1), 290 (1), 518 (1), 201–29 (1), 3.4.[x (1), 283–300 (1), 8.1 (1), 61–71 (1), 10.1002 (1), 1–21 (1), 28500 (1), 95.5 (1), 55.4 (1), 78.1 (1), 37.1 (1), 10.1145/1057977.1057978 (1), 547–63 (1), 31.3 (1), 306–21 (1), 10.7202/1012387ar (1), 587–630 (1), 13.6 (1), 377–87 (1), 10.1145/362384.362685 (1), 88.3 (1), 495–534 (1), 10.1086/687927 (1), 27.3 (1), 417 (1), 451–76 (1), 216–32 (1), 10/2/000248/000248.html (1), 105–23 (1), 10.2307/464648 (1), 10.4 (1), 318–35 (1), 10.1109/ (1), 10.3 (1), 307–19 (1), 183–202 (1), 229–38 (1), 40.12 (1), 2007.421 (1), 10.1145/3025171.3025193 (1), 20.1 (1), 408–20 (1), XXXV.10 (1), 233–49 (1), 108–32 (1), 389–402 (1), 25.1 (1), 215–20 (1), 2002–7 (1), 2:456–64 (1), 221–40 (1), 41–49 (1), 75–163 (1), 357 (1), 2016/04/15 (1), 2007.370574 (1), 402–14 (1), 206–31 (1), 10.5281/ (1), http://contemporary-home-computing.org/RUE/ (1), 274–90 (1), 10.21972/ (1), 48.4 (1), 499 (1), 520 (1), 10.1057/9780230523302_2 (1), 2311/20408 (1), 559–68 (1), 287–95 (1), 10.1080/00207169008803875 (1), 64.4 (1), 356–81 (1), 391–401 (1), 327.5964 (1), 415–16 (1), 63.4 (1), 424–39 (1), 10.2307/4128013 (1), 26.2–3 (1), 305–56 (1), 267–82 (1), 20.3 (1), 43–100 (1), 369–87 (1), 90.1 (1), http://openprovenance.org/ (1), 398–427 (1), 2635280 (1), 9.1 (1), 97–112 (1), 10.7207/ (1), 33–40 (1), 434–50 (1), 303–20 (1), 268–87 (1), 4286515 (1), 1770–1799 (1), 1800–1815 (1), 60.1 (1), 10.1353 (1), 250–66 (1), 30.1 (1), 25–56 (1), 10.1353/ (1), 617–26 (1), 10.22230 (1), 17.1 (1), 640–51 (1), 385–87 (1), 6.1 (1), 77–107 (1), 10.21237/C7clio6127917 (1), 6.627 (1), 2.2 (1), https://www.w3.org/TR/prov-overview/ (1), https://www.w3.org/OWL/ (1), 3Schools (1), 163–82 (1), 265–76 (1), 339–61 (1), 17.2 (1), 492–516 (1), 13.1 (1), 55–75 (1), 265–74 (1), 10.1007/978-1-84628-905-7_14 (1), 2010–16 (1), 10.1186 (1), 67–92 (1), 108–10 (1), 241n15 (1), 114–18 (1), 148–50 (1), 116f (1), 244n38 (1), 243n37 (1), 116–17 (1), 244n44 (1), 245n54 (1), 246n55 (1), 258n69 (1), 251n1 (1), 259n87 (1), 259n84 (1), 242n17 (1), 175–76 (1), 237n97 (1), 247n65 (1), 167–69 (1), 172–74 (1), 159–62 (1), 238n98 (1), 61–62 (1), 242n23 (1), 211–12 (1), 221n2\n",
       "\t (1), 222n16 (1), 213–15 (1), 224n53 (1), 215–16 (1), 261n90 (1), 180–83 (1), 258n71 (1), 36–37 (1), 63–68 (1), 232n15 (1), 264n125 (1), 257n64 (1), 230n4 (1), 3.js (1), 237n93 (1), 221n1\n",
       "\t (1), 228n35\n",
       "\t (1), 224n46 (1), 250n118 (1), 238n95 (1), 238n96 (1), 62f (1), 88–89 (1), 232n20 (1), 86–92 (1), 129–30 (1), 28–30 (1), 14–20 (1), 243n33 (1), 228n37 (1), 127–29 (1), 63–70 (1), 237n91 (1), 243n36 (1), 190–92 (1), 261n98 (1), 182–83 (1), 73\n",
       "\t (1), 66f (1), 59–61 (1), 98–99 (1), 93f (1), 174–76 (1), 235n52 (1), 52–58 (1), 213–14 (1), 212–13 (1), 235n66 (1), 50–51 (1), 111–13 (1), 111–14 (1), 41–42 (1), 221n11 (1), 120–50 (1), 148–49 (1), 119–20 (1), 139–43 (1), 146–47 (1), 129–31 (1), 139–40 (1), 57\n",
       "\t (1), 231n9 (1), 35–58 (1), 49–50 (1), 20–23 (1), 249n93 (1), 152–64 (1), 218–19 (1), 252n5 (1), 152–53 (1), 217–20 (1), 166–67 (1), 157–63 (1), 254n28 (1), 153–57 (1), 242n16 (1), 229n2 (1), 247n67 (1), 236n76 (1), 90f (1), 71f (1), 172–77 (1), 256n47 (1), 256n48 (1), 129–33 (1), 245n50 (1), 170 (1), 222n21 (1), 10–11 (1), 131–32 (1), 3–5 (1), 180–88 (1), 181f (1), 184f (1), 210–11 (1), 244n45 (1), 11–13 (1), 1–7 (1), 27–33 (1), 258n74 (1), 249n96 (1), 234n43 (1), 142–43 (1), 246n57 (1), 73–75 (1), 243n34 (1), 63–65 (1), 64\n",
       "\t (1), 29–31 (1), 68 (1), 256n52 (1), 174–75 (1), 185–86 (1), 197–203 (1), 198–99 (1), 197–201 (1), 166–88 (1), 192–216 (1), 255n40 (1), 167–77 (1), 167–68 (1), 177–88 (1), 183–84 (1), 177–78 (1), 248n70 (1), 144–46 (1), 245n49 (1), 132f (1), 91–92 (1), 205–8 (1), 1787–1814\n",
       "\t (1), 129–35 (1), 248n73 (1), 133–35 (1), 236n67 (1), 117–18 (1)</td>\n",
       "    </tr>\n",
       "    <tr>\n",
       "      <th id=\"T_b5bf8_level0_row6\" class=\"row_heading level0 row6\" >6</th>\n",
       "      <td id=\"T_b5bf8_row6_col0\" class=\"data row6 col0\" >PERSON</td>\n",
       "      <td id=\"T_b5bf8_row6_col1\" class=\"data row6 col1\" >3064</td>\n",
       "      <td id=\"T_b5bf8_row6_col2\" class=\"data row6 col2\" >Agrippa (207), McLuhan (80), MA (58), Gibson (48), Rosenberg (40), Stevens (39), Liu (34), William (30), Lucy (30), Ranke (30), Ray\tSiemens (26), Jow (25), Susan\tSchreibman (24), Stallybrass (22), John (18), Aeld (17), Shakespeare (17), Eusebius (17), Paul (16), Kevin\tBegos (16), Alm (14), Literary (14), Grafton (14), Elizabeth (13), Thomas (13), Cyberspace (13), Moreau (13), Hochman (12), Andrew (12), Moretti (12), Alan\tLiu (11), Roger (11), Lévi-Strauss (10), Kittler (10), Michael (10), Peter (10), Augustine (9), Zeitgeist (9), Drucker (9), Edward (9), Companion (9), Jerome (9), Alan (8), Jows (8), Milman (8), William\tWordsworth (8), Matthew (8), Lyrical (8), Mark (8), David (8), Althusser (7), Richard (7), Twitter (7), Tim (7), Wallace (7), Albert (7), Guattari (7), Blackwell (7), James (7), Nicholas (6), Benjamin (6), Plato (6), Eisenstein (6), Charles (6), Parry (6), Confessions (6), Jacques (6), Gutenberg (6), Marc (6), Franco (6), Graphs (6), Principles (6), Blake (6), Hans (6), Rhizome (6), Gil (6), Joseph (6), Barlow (6), Mandell (6), Wendy\tChun (6), Michel (6), Princeton (6), Lisa (6), Marshall (6), Hegel (5), Braudel (5), L.\tEisenstein (5), Friedrich\tKittler’s (5), Brian (5), Lévi-Strauss’s (5), Shoshana (5), Mitchell (5), Wolf (5), Jexible (5), Wardrip-Fruin (5), Jussi\tParikka (5), William\tGibson (5), William\tTaylor (5), Milton (5), Dennis (5), Allison (5), Landa (5), Susan\n",
       "Schreibman (5), Thomas\tKeenan (5), Robert (5), Dan (5), Chris (5), Wolfgang (5), Ian (5), https://en.wikipedia.org/w/index.php (5), Ray\n",
       "Siemens (4), Rita (4), Geschichten (4), Status (4), Richard\tII (4), Wendy\tHui (4), Noah (4), Voyant (4), Martin\tWattenberg (4), Shelley (4), Cressida (4), Matthew\tG. (4), Foucault (4), Joshua (4), Metadata (4), Library (4), Daniel\tGarijo (4), Taylor (4), Augenblick (4), Kelley (4), Arthur (4), Bode (4), Paley (4), Walter (4), Patricia (4), http://www.digitalhumanities.org/\n",
       "companionDLS/ (4), Friedrich (4), Sylvan\tBarnet (4), intro (4), Ray (3), Beyond (3), Raymond\tWilliams (3), Jight (3), Gospels (3), Edward\tR.\tMurrow (3), Antonio (3), Wolfgang\tErnst’s (3), ZuboG (3), Fate (3), Aristotle (3), Johns (3), XHTML (3), Alison (3), G.\tSayeed (3), OOce (3), Scott\tKarp (3), Sergei (3), Aelds (3), Erwin (3), Alberti (3), Francis (3), Leonid\tBorodkin (3), Siegfried (3), Mac (3), Kevin\n",
       "Begos (3), James\tJ.\tHodge (3), Peter\tKrapp (3), Discourse (3), Eugene (3), Hack (3), Galloway (3), WARC-Type (3), James\tFrew (3), Luc\tMoreau (3), dispositifs\n",
       " (3), Carlyle (3), Schumpeter (3), Alexander (3), Joseph\tPriestley (3), William\tBlake’s (3), Laura\tMandell (3), Style (3), Andrew\tW.\tMellon (3), Laws (3), Stevenson (3), G.\tR.\tDennis (3), Hirsch (3), Greimas (3), Jennifer (3), Williams (3), Schreibman (3), Ryan (3), Jacob (3), Lesergeschichte (3), Agustín (3), Merrilee (3), Reichardt (3), Garcia (3), De\tLanda (3), Kräutli (3), Rita\tRaley (3), Filemaker (3), Visualiser.js (3), Knight\tLab (3), James\tButler (3), Karen\tGreen (3), Sarah (3), Hannah (3), Jay (3), Paul\tLongley (3), Harmondsworth (3), Peter\tS. (3), Jay\tDavid (3), Kyong (3), Cohen (3), Samuel\tTaylor (3), Claude (3), John\tWiley (3), Dickinson (3), Esther (3), Howard (3), Eric (3), William\tHenry (3), Jean-François (3), C.\tWright (3), John\tEdward (3), Giambattista (3), Madison (2), Hartman (2), Matthew\tBurton (2), Lys\tAnn (2), Collingwood (2), Walter\tOng (2), Technique (2), sta (2), Grandmother (2), Thierry (2), Augustin (2), Geist (2), Gilles (2), Athaulf (2), Mehujael (2), Methusael (2), Typewriter (2), Volk (2), Francis\tFukuyama (2), Michael\tHardt (2), Raymond\tWilliams’s (2), Crow (2), Medusa (2), Cixous (2), Klein (2), Lisa\tGitelman (2), Gitelman (2), Chun (2), Thomas\tKeenan’s (2), Walsh (2), Johanna\tDrucker (2), Darren\tTofts (2), Bush (2), David\tSeaman (2), Tim\tBorstelmann (2), Neil (2), Peter\tBol (2), Robert\tSchwartz (2), Aufhebung (2), Jackson (2), Modernist (2), Writings (2), Suppose (2), Strauss (2), Greenberg (2), Wayne (2), Borg (2), John\tPerry\tBarlow (2), Dennis\tAshbaugh (2), Bildung (2), Begos (2), Drosophila (2), Allan (2), mummy (2), Discourse\tNetworks (2), David\tE.\tWellbery (2), Geert\tLovink’s (2), Penn (2), Marc\tScarpa (2), Frederick (2), Thacker (2), Nicole\tStarosielski (2), Fri (2), Anne\tHelmond (2), Susan\tBrown (2), Eric\n",
       "Hobsbawm (2), Ryan\tCordell (2), Protocols (2), Kaiserstr (2), Vincent\tDuquenne (2), Mark\tAlgee-Hewitt (2), Michael\tJ.\tArlen (2), Philip\tII (2), Eric\tHobsbawm (2), Ranger (2), George\tGilder (2), Marx (2), Chronicles (2), Macedon (2), Thousand\tPlateaus (2), Mark\tC.\tMarino (2), William\tPoundstone’s (2), Sharon\tMarcus (2), David\tBerry (2), avaScript (2), Step (2), Rime (2), TL.TimeMarker.js (2), Ave (2), Dorothy (2), Local\n",
       "Transcendence (2), Genre (2), Peter\tde\n",
       "Bolla (2), McCarty (2), Humanities\tComputing (2), Roger\tWines (2), Rickman (2), Anfang (2), Edwards (2), González (2), Mäkinen (2), Scientiﬁc\tOﬃce\tManagement (2), David\tRecordon (2), Isaac (2), Atlas (2), Viégas (2), Text (2), Lei (2), Yoyodyne (2), Starosielski (2), ProOtt (2), Gretarsson (2), Worlds (2), Wu (2), Hydra (2), Liberman (2), Frew (2), Simpson (2), Visualization (2), Henkin (2), Amerikastudien/American\n",
       "Studies (2), Fortier (2), Freeman (2), JeGerson (2), Mauss (2), Russell (2), Vinsel (2), De\tLanda’s (2), Existence (2), Local\tTransdendence (2), index.html (2), Wimsatt (2), Jonathan\tWordsworth (2), Stephen\tGill (2), Rennie (2), Recollections (2), W.\tW.\tNorton (2), Marissa\tGemma (2), Rudolf (2), John\tPerry (2), Jean (2), James\tR. (2), David\tM. (2), Maintenance (2), William\n",
       "Blake\tArchive (2), Richard\tGrusin (2), Jorge\tLuis (2), Katy (2), Leonid (2), Rajendra (2), Joseph\tH. (2), Monica (2), Paula (2), Maria\tTeodora (2), Víctor (2), Paolo (2), William\tH. (2), Jason (2), Brian\tMassumi (2), Quincey (2), Wilhelm (2), Jerome\tMcGann (2), Lee\tT.\tLemon (2), Brad (2), Shakespeare\tLibrary (2), Macbeth (2), Colin\tGordon (2), Kate (2), Christopher (2), Alexander\tR. (2), Nettime-l (2), Matthew\tK. (2), Jack (2), Martin (2), Jonathan (2), John\tO’Brian (2), Karl (2), N.\tKatherine (2), Michael\tA. (2), Spencer (2), Kevin (2), Track\tChanges (2), Michael\tMetteer (2), Eﬀekte (2), Matthew\tK.\tGold (2), Geert (2), Lev (2), Willard (2), Branko (2), Nick (2), Reilly (2), Gilbert (2), Caesarea (2), Maureen (2), Hazard\tAdams (2), Georges (2), Mary\tLouise (2), Kenneth\tM. (2), Joseph\tJohnson (2), John\tUnsworth (2), John\tCrowe (2), Robert\tB. (2), Craig (2), Steven (2), Lee (2), David\tZ. (2), Victor (2), Weikum (2), Arnold (2), Ted (2), John\tA. (2), McKenzie (2), Don (2), David\tE. (2), Ernest (2), Selincourt (2), JoAnne (2), Anthony (2), Leopold (2), James\tJ. (2), Scott\tB. (2), Geoﬀrey (1), Hartman\n",
       "\t\n",
       "In (1), GeoGrey\tHartman (1), William\n",
       "Wordsworth (1), Jee (1), Prodigal (1), Readers (1), Martin\n",
       "Paul\tEve (1), James\tF.\tEnglish (1), Rita\tFelski (1), Jim (1), William\tThomas\tIII (1), Thomas\tPadilla (1), Hillis (1), Miller (1), Heidegger (1), Scheherazade (1), Walter\n",
       "Benjamin (1), Albert\tBorgmann (1), Moderns (1), Alfred\n",
       "de\tVigny (1), Louis\tXIV (1), Friedrich\tSchiller (1), M.\tGuizot (1), Aghter (1), Battle (1), Manuel\tde\tLanda’s (1), Bruno\tLatour’s (1), Andrew\tPickering (1), Pippin (1), Saxon (1), Blessed\tBede (1), Essay (1), Charlemagne (1), Wherein (1), Jack\tGoody (1), Paul\tZumthor’s (1), Kneel (1), J.\tGreimas (1), Granddaughter\n",
       "\t\n",
       " (1), Lian (1), Grandma (1), Asynchrony (1), History (1), Charles\tBabbage (1), Rita\n",
       "Raley (1), Mary\tLouise\tPratt (1), Stephen\tGreenblatt’s (1), •\n",
       "  \n",
       " (1), John\tF.\n",
       "Kennedy (1), Walter\tCronkite (1), Ambrose (1), W.\tJ.\tT.\tMitchell’s (1), {\n",
       "\t{\n",
       "\t\n",
       "This (1), Westerner (1), Matthew\tFuller (1), Ronald\tJ.\tDeibert (1), Socio (1), Quentin\tFiore (1), Fredric\n",
       "Jameson’s (1), Aeneas (1), Jay\tDavid\tBolter (1), Richard\n",
       "Grusin (1), William\tWarner’s (1), Peter\tKrapp’s (1), Von\tNeumann (1), William\tBurroughs’s (1), Jorge\tLuis\tBorges’s (1), Ted\tNelson’s\tXanadu (1), Principal (1), Roger\tChartier (1), Gulliver (1), Thou (1), Nasty (1), James\tJ.\tO’Donnell (1), Robert\tHeinlein (1), William\tSt\tClair (1), Matthew\tSteggle (1), John\tA.\tWalsh (1), payoG (1), David\n",
       "Bamman (1), Stephen\n",
       "Ramsay (1), Willard\tMcCarty (1), David\tL.\n",
       "Hoover (1), William\tWinder (1), Carolyn\tGuertin (1), Douglas\tEngelbart (1), Ted\tNelson (1), Guertin (1), Marie-Laure\tRyan (1), Christopher\tFunkhouser (1), David\tZ.\t (1), Aimée\n",
       "Morrison (1), Kenneth\tM.\n",
       "Price (1), John\tLavagnino (1), Jacquard (1), Poiesis (1), WALLACE\n",
       "\t\n",
       "STEVENS (1), Edward\tAyers (1), Meandre (1), Laurence\tAnthony’s (1), proAciency (1), Order (1), micro- (1), Martin\tGrandjean (1), ﬁle (1), JoAnne\tYates (1), William\tHenry\tLeOngwell (1), Robert\tB.\tReich (1), Schoolteachers (1), Karp (1), Lev\tManovich (1), Fundamentally (1), Recordings (1), Guild (1), Jensed (1), Peter\tStallybrass (1), Jicking (1), Epistles (1), Rudolf\tArnheim (1), Historically (1), Samuel\tEdgerton (1), Peter\tde\tBolla (1), Panofsky (1), Gilbert\n",
       "Paquette (1), Roman\tJakobson’s (1), Hauptmotive (1), Hogarth (1), Steve\tJobs (1), Gombrich (1), Bender (1), W.\tJ.\tT.\n",
       "Mitchell (1), Activating (1), Jesh (1), Philip\tSidney (1), William\tSidney (1), Edward\tVI (1), William\tGodwin’s (1), Jipped (1), Jips (1), Damn\tArst (1), Knowledge (1), Gramsci (1), Descended (1), Friedrich\tKittler (1), Wolfgang\tErnst (1), Javor (1), Beat (1), William\tGibson’s (1), Tim\tBerners-Lee (1), Peter\tSchwenger (1), Kimberly\tKnight (1), David\tRoh (1), Ashbaugh (1), Which (1), Scholars (1), Nietzsche (1), Friedrich\n",
       "Kittler (1), Rousseau (1), Logos (1), David\tGarcia (1), Howard\tRheingold (1), Gopher (1), Jean\tBaudrillard (1), Alexander\tR.\n",
       "Galloway (1), Jaw (1), Jillette (1), Areside (1), Michael\tCarlos\tMuseum (1), Abre (1), Niklas\tLuhmann (1), Michael\tWitmore’s (1), Jux (1), Flash (1), WARC (1), Analized (1), WARC\tAle (1), Chrome (1), max-age=300 (1), Marc\tSpaniol (1), Margaret (1), Keats (1), Robert\tDarnton’s (1), William\tB.\n",
       "Warner’s (1), Maria\tTeodora\tComsa (1), David\tM.\tHenkin’s (1), Peter\tS.\tBearman (1), John\tMohr (1), Usenet (1), Andrew\tPiper (1), Conceived (1), Zielinski (1), Percy\n",
       "Williams\tBridgman’s (1), Rory\tSolomon (1), Solomon (1), Joe (1), Maureen SpeciAcally (1), Georges\tPoulet (1), Mosaic (1), Jickers (1), T.\tS.\n",
       "Eliot (1), Jacobin (1), Equivalently (1), Arehose (1), Tolstoy (1), Karl\tGrossner’s (1), Joseph\tSchumpeter’s (1), Welsh (1), Newt\tGingrich (1), JeGersonian (1), Mosaic\n",
       "Spyglass (1), Joseph\tH.\tBoyett (1), Henry\tP.\tConn’s (1), William\tH.\tDavidow (1), Michael\tS.\tMalone’s (1), Spencer\tJohnson’s (1), DiGerent (1), Vico (1), Brexit (1), Anthony\tGiddens (1), William\tPaley (1), Afteen (1), Daniel\n",
       "Rosenberg (1), Anthony\tGrafton’s (1), Miomi (1), Continuum (1), Palladio (1), Fellows (1), Thomas\tJeGerys’s (1), Saul (1), George\tIII (1), Jown (1), Dickens (1), {Bottomless\tPit}\n",
       "\t (1), William\n",
       "Taylor (1), Surface (1), Consonant (1), innerHTML (1), Beethoven (1), Mark\tL.\tReed’s (1), Timeline.js (1), Thereafter (1), TLStorySlider.js (1), TL.AxisHelper.js (1), TL.TimeGroup.js (1), Revealed (1), Untrodden (1), Grew (1), M.\n",
       "H.\tAbrams (1), Bildungsroman (1), Annette\tVallon (1), Thomas\tDe\n",
       "Quincey (1), J.\tM.\tW.\tTurner’s (1), James\tR.\tBeniger (1), Generalized (1), Andrew\tPilsch (1), Pilsch (1), Katherine\tBode (1), Martin\tLuther\tKing (1), Robert\tF.\tKennedy (1), Matthew\tWilkens’s (1), Wilkens (1), Ingraham (1), Borgmann (1), Gessler (1), Lastovetsky (1), Xia (1), Alfred\tde\tVigny (1), Louis\tXIII (1), Norman (1), Armer (1), Mitfühlen (1), Jules\tMichelet (1), Martin\tPaul\tEve (1), Scott\n",
       "B.\tNoegel (1), Noegel (1), Kelly (1), Ernst (1), Thébaud (1), Deibert (1), Kingsley\tAmis (1), Wendy\n",
       "Chun (1), Lisa\tNakamura (1), W.\tM.\n",
       "Urban (1), John\tWilkins (1), Monica\tBulger’s (1), Goldberg (1), Jones (1), Wardrip-\n",
       "Fruin (1), Alcestis (1), Kopf (1), Steven\tRuggle’s (1), Grabar (1), Baxandall (1), Mair (1), Edward\tL.\tAyers (1), Grusin (1), Kitchin (1), Craig\tRobertson (1), Robertson (1), Robinson (1), Daniel (1), Daniel\tR.\tSchwarz (1), Reich (1), Michael\tA.\tHiltzik (1), Cameron (1), Brad\tFitzpatrick’s (1), Peter\tM.\tSenge (1), Eric\tWhite (1), Abraham (1), Judas (1), Manguel (1), Peter\tde\tBolla’s (1), Concepts (1), Michael\tGavin (1), Gavin (1), Börner (1), Jakobson (1), Greenblatt (1), Lovejoy (1), Godwin (1), Borodkin (1), Peter\n",
       "Stallybrass’s\tHistory (1), William\tHogarth (1), Nielsen (1), Doug\n",
       "Reside (1), Jussi\tParikka’s (1), Peter\n",
       "Pettengill (1), Robert\tXiao (1), Terry\tHarpold (1), Lim (1), Yung (1), Rita\tRaley’s (1), pre-Mosaic (1), Peter\tGalison’s (1), Susan\tLeigh\tStar (1), Luhmann (1), Heuser (1), Duarte (1), Linas (1), Faris (1), Bearman (1), Thomas\n",
       "Padilla (1), Kaczmarek (1), Matthew\tS.\tWeber (1), Mesirov (1), Drummond (1), Ziemann (1), Kale (1), Brown (1), Proposal (1), Mohr (1), Duquenne (1), Fumerton (1), Lovink (1), Compare\tComsa (1), Bridgman (1), Song (1), Arnold\tToynbee (1), Grossner (1), Longue\tDurée (1), Steven\tJackson (1), Gordon\tE.\tMoore (1), Dyson (1), Magnusson (1), DeSanctis (1), Orlikowski (1), Manuel\tDe\tLanda’s (1), Bill\tBenzon (1), Dubourg (1), Isaac\tNewton (1), John\n",
       "Barrell (1), William\tPaley’s (1), Carl\n",
       "Stahmer (1), Matthew\n",
       "Kirschenbaum (1), Mike\tWeber (1), Ian\n",
       "Bogost (1), Marcus (1), Berry (1), Victor\tShklovsky (1), Shklovsky (1), John\n",
       "Crowe\tRansom’s (1), Ransom (1), Robie (1), Mocha (1), JScript (1), JScript—JavaScript (1), Javascript\tTutorial (1), Louis\tXVI (1), Charybdis (1), Zepto (1), Rinehart (1), Gérard (1), George\tBeaumont (1), Dorothy\n",
       "Wordsworth (1), Harold\n",
       "Bloom (1), Franco\n",
       "Moretti (1), Ridley\tScott (1), Brandywine (1), Matthew\tJockers (1), Michael\n",
       "Witmore (1), Ben (1), http://amodern.net/issues/amodern-2-network-\n",
       "archaeology/\n",
       " (1), Laurence\tAnthony (1), Chichester (1), John\n",
       "Wiley (1), G.\tM.\n",
       "A.\tGrube (1), Arlen (1), Michael\tJ.\t\n",
       "Living (1), Andy\tCameron (1), Stephen\tHeath (1), Annette\tLavers (1), Colin\n",
       "Smith (1), Hill (1), Foss (1), James\tMoody (1), Robert\tFaris (1), John\tB. (1), Harry\tZohn (1), Schocken (1), Peter\tLang (1), Bruce\tHerzberg (1), William\tBlake (1), David\tV.\tErdman (1), William\tBlake\tArchive (1), David\tM.\t“Probabilistic\tTopic\tModels (1), Toward (1), CRASSH (1), Donald\tA.\tYates (1), James\tE.\n",
       "Irby (1), Boyett (1), Henry\tP.\tConn. (1), Bragdon (1), Alan\tBurk (1), Lisa\tCharlong (1), Jason\tNugent (1), Sarah\tMatthews (1), Robin (1), L.\tG.\n",
       "Mitchell (1), J.\tM.\tDent (1), Steven\n",
       "Rendall (1), America.net (1), Rachel\tC.\tLee (1), Cynthia (1), David\tH.\tRichter (1), M.\tT.\t\n",
       "From\tMemory (1), Coh-Metrix (1), James\tEngell (1), W.\tJackson (1), Samuel\tTaylor\tColeridge (1), Karen\n",
       "Green (1), Melanie (1), Dan\tEdelstein (1), David\tBamman (1), Ron\tM.\t“ (1), Counter-Origins (1), Jo\tAnn\tAsher (1), Nancy\tH.\tBlossom (1), Michael\tS.\tMalone (1), Revitalizing (1), Ronald\tJ.\t“Medium\tTheory (1), Joan (1), Arc (1), Milton\tHaight\tTurk (1), Ginn (1), Alan\tBass (1), Newman (1), Rob (1), contents.html (1), Miguel (1), Jorge\tGomes (1), Fernando\n",
       "Silva (1), PLOS (1), http://dx.doi.org/10.1371/journal.pone.0151834 (1), http://www.crackingagrippa.net/submissions-toc.html (1), George\tKeyworth (1), Bob (1), J.\tReis (1), Jay\tLeyda (1), Jovanovich (1), Ausmaß (1), Bedeutung (1), Geschichte (1), Buchwesens (1), Barbara\n",
       "Mowat (1), Michael\tPoston (1), Miskowiec (1), Diacritics (1), John\tMepham (1), Counter-Memory (1), Donald\tBouchard (1), Pieter (1), Benjamin\tNelson (1), Die\tTechnik (1), Generative (1), Alexander\tR.\t\n",
       "Protocol:\tHow\tControl\tExists (1), Geert\tLovink (1), msg00096.html (1), Khalid\tBelhajjamey (1), Ewa\tDeelman (1), Mark\tEllisman (1), Thomas\tFahringer (1), Dennis\tGannon (1), Jim\n",
       "Myers (1), Proceedings (1), Enquiry (1), Isaac\tKramnick (1), David\tTheo (1), João\tMiranda (1), Miguel\tCosta (1), Stefan\tGradmann (1), Heiko\tSchuldt (1), Omar\tS. (1), Beth\tE.\tKolko (1), Lisa\n",
       "Nakamura (1), Gilbert\tB.\tRodman (1), Selections (1), Daniele (1), John\tO’Donovan (1), Svetlin (1), Tobias\tHöllerer (1), David\tNewman (1), Transactions (1), Materialities (1), Swanson (1), Tom\tHeath (1), Kingsley\tIdehen (1), Robert\tA. (1), Penguin (1), David\tM.\t\n",
       "The\tPostal\tAge (1), James\tJ.\t“ (1), Beth\tBertram (1), http://link.springer.com/chapter/10.1007%2F978-3-319-16462-5_18\n",
       ". (1), Rama\tKarl\tHoetzlein (1), Susan\n",
       "Brown (1), Philip\tP.\tWiener (1), Charles\tScribner’s\tSons (1), David\tW.\tSeaman (1), Karl\tYoung (1), Karl\tKempton (1), Mary/Shelley (1), http://web.mit.edu/m-i-t/\n",
       "articles (1), Steven\tJ.\t“Rethinking\tRepair (1), Tarleton\tGillespie (1), Krystyna (1), Stephen\tRudy (1), Hal\tFoster (1), Justin\tMathena (1), JCDL (1), Johnson (1), Samuel\tDi (1), Yan\tLiu (1), John\tBarnard (1), Donald\tR.\t\n",
       "Historians (1), https://kepler-\n",
       "project.org/\n",
       " (1), Matthew\tG.\t“Ashbaugh\tand\t (1), ~mgk (1), Doug\tReside (1), alan-liu-no (1), Friedrich\tA. (1), Michael\tWutz (1), Franz\tKafka (1), Rombach (1), http://projects.kraeutli.com/brittenPoets/js/visualiser.js\n",
       " (1), W.\n",
       "Shaw (1), Edwin\tMarshall\tRobinson (1), Judy\tYung (1), Baker (1), Kegan\tPaul (1), Claire\tJacobson (1), Doreen (1), Scott\tKleinman (1), Mark\tD.\tLeBlanc (1), Michael\tDrout (1), Cheng\tZhang (1), Alan\tLiu\n",
       "\t (1), Lively\tMargins (1), Kenneth\tM.\tPrice (1), Approaches (1), Michael\n",
       "Hanrahan (1), Deborah\tL.\tMadsen (1), http://vos.ucsb.edu/ (1), David\tDurand (1), Liam\tR.\tE.\n",
       "Quin (1), Framework (1), Salman (1), Michael\tHetrick (1), Andrew\tKalaidjian (1), Eric\tNebeker (1), Dana\tSolomon (1), Lindsay\tThomas (1), rosedocumentation.wordpress.com/grant-proposals-performance- (1), Arthur\tO.\t\n",
       "The\tGreat\tChain (1), Archeologist\tWolfgang\tErnst (1), John\tBednarz (1), Georges\tVan\tDen\tAbbeele (1), Licensed (1), Sigurdur (1), GylA. (1), Richard\tLance\tKeeble (1), Luton (1), Erkki (1), http://manovich.net/index.php/projects/\n",
       "instagram- (1), Jerome\tJ.\t\n",
       "The\tBeauty (1), W.\tJ.\tT.\t\n",
       "Iconology (1), John\tW. (1), Gordon\tE.\t“Cramming\tMore\tComponents (1), Morgan (1), Hunt (1), Aimée (1), Nelson (1), Literary\tMachines (1), Thinkertoys (1), Sausalito (1), https://networkarchaeology.wordpress.com/\n",
       " (1), agrippa (1), Donald\tA. (1), Timothy (1), Edward\tN.\tZalta (1), Allan\tChasanoﬀ\tCollection (1), Foreword (1), Pamela\tFranks (1), Jock\tReynolds (1), James\tJ.\t\n",
       "Avatars (1), Kary\tOcaña (1), Daniel\tde\tOliveira (1), Walter\tJ.\t\n",
       "Orality (1), Methuen (1), Software (1), http://www.oreilly.com/pub/a//web2/ (1), Gould (1), Christopher\tS.\tWood (1), Stefan\tMihaila (1), Denis\tGareau (1), Joanne\tKaczmarek (1), http://www.piggin.net/stemmahistoryTOC.htm\n",
       " (1), Objecthood (1), Distant (1), Matt (1), Erlin (1), Ian\tBogost (1), Benjamin\tJowett (1), Scott (1), Janet\tFulk (1), Elliott\tColeman (1), Jeremy\tDouglass (1), {Bottomless\tPit (1), Kenneth\tM.\t“Electronic\tScholarly\tEditions (1), David\tRumsey (1), QGIS (1), Hoetzlein (1), George\tBell\t&\tSons (1), Mark\tL.\t\n",
       "Wordsworth (1), Recurrence (1), Leopardi (1), liu.english.ucsb.edu/the-romantic-chronology-with-laura-mandell/ (1), en&initial_zoom=1&height=950 (1), Anthony\tGrafton (1), Aeon (1), Susan (1), Joseph\tA.\t\n",
       "Capitalism (1), Daniel\tR.\t\n",
       "Narrative (1), Peter\tM.\t\n",
       "The (1), Hubler (1), Kenneth (1), Daniel\tSeltzer (1), Scholarly (1), Jussi\n",
       "Parikka (1), John\tF.\t“ (1), John\tF.\tSowa (1), Jennifer\n",
       "Andersen (1), https://www.english.upenn.edu/people/\n",
       "peter-stallybrass (1), amodern.net/article/network-archaeology/\n",
       " (1), Susan\t\n",
       "S (1), David\tTheo\tGoldberg (1), Thomson\tWadsworth (1), Milena (1), Gordon\tDouglas (1), Matthew\tBrehmer (1), Volumes (1), Frank\tFischer (1), Mathias\tGöbel (1), Dario (1), Kampkaspar (1), Kraków (1), Fred (1), Stewart\tBrand (1), tedunderwood.com/2012/04/07/topic-modeling-made-just-simple- (1), Thomas\tGoddard\tBergin (1), Max\tHarold\n",
       "Fisch (1), HINT.FM (1), Stéfan\tSinclair (1), William\tB.\t“Communicating\tLiberty (1), Literary\tHistory\n",
       "\t (1), https://github.com/ikreymer/webarchiveplayer (1), Matthew\tS.\t“Archives\tUnleashed (1), Mike (1), Scott\tB.\t“Demystifying\tNetworks (1), Eric\tCharles (1), FileMaker&oldid=792490589 (1), W.\tK. (1), Wine\tDark\tSea (1), Malden (1), Kathrin\tSimon (1), Chester (1), James\n",
       "Butler (1), M.\tH.\n",
       "Abrams (1), W.\tW.\n",
       "Norton (1), Paul\tH.\tJ. (1), Multimedia (1), Yun\tHuang (1), Duan (1), Andrew\tB.\tWhinston (1), Charles\n",
       "SteinAeld (1), Brian\tT.\tPentland (1), Mark\tAckerman (1), Deep\tTime (1), Gloria (1), Yotam\tEren (1), Marilyn\tC.\n",
       "Engelhardt (1), M.\tH. (1), Michael\tJ. (1), Erich (1), John\tP. (1), Bill (1), Percy\tWilliams (1), Caesarea\n",
       "\t\n",
       " (1), M.\tT. (1), Pierre (1), Henry\tP. (1), Zusammenhang\n",
       "\t\n",
       " (1), Ronald\tJ. (1), Jeremy (1), Douglas (1), Martin\tPaul (1), Quentin (1), Roberto (1), 241n16\n",
       "\t\n",
       "G\n",
       "il (1), George (1), Newt (1), Johann (1), E.\tH. (1), Clement (1), roth (1), Carolyn (1), Terry (1), Anne (1), Johann\tGottfried (1), David\tL. (1), Ivan (1), 241n16\n",
       "\t\n",
       " (1), ameson (1), Steve (1), Joanne (1), 137f\n",
       "\t\n",
       "K (1), John\tF. (1), Kimberley (1), évi-Strauss (1), istservs (1), acbeth\n",
       "\t (1), Michael\tS. (1), Laura (1), Sharon (1), Mark\tC. (1), Jules (1), J.\tHillis (1), W.\tJ.\tT. (1), Gordon\tE. (1), Edward\tR. (1), Barthold\tGeorg (1), Donnell (1), Alexandria (1), Jussi (1), Place (1), rovONE (1), Mark\tL. (1), Doug (1), Percy\tBysshe\n",
       "\t\n",
       "R (1), Daniel\tR. (1), Peter\tM. (1), Global\tHistory\tDatabank (1), Percy\tBysshe (1), Philip (1), Stéfan (1), Gephi (1), QL (1), Carl (1), Frederick\tWinslow (1), Darren (1), J.\tM.\tW. (1), Alfred\tde\t( (1), Comte\tde\tVigny (1), Tools (1), 66f\n",
       "\t\n",
       "W\n",
       "AIL (1), Henirich (1)</td>\n",
       "    </tr>\n",
       "    <tr>\n",
       "      <th id=\"T_b5bf8_level0_row7\" class=\"row_heading level0 row7\" >7</th>\n",
       "      <td id=\"T_b5bf8_row7_col0\" class=\"data row7 col0\" >PRODUCT</td>\n",
       "      <td id=\"T_b5bf8_row7_col1\" class=\"data row7 col1\" >383</td>\n",
       "      <td id=\"T_b5bf8_row7_col2\" class=\"data row7 col2\" >JavaScript (103), RoSE (24), Prelude (22), Twitter (17), Soderman (12), Classic (6), Claude (5), Timeline (5), Troilus (4), JavaScript\tAle (4), TimeMarkers (4), 103f (4), 201f (4), PowerPoint (3), eGort (3), Jessica (3), Völker (3), Crowds (3), 104f (3), Models (2), Freud (2), oGers (2), Bolter (2), Publishing (2), mosaic (2), Razor (2), Nietzsche (2), Jexibility (2), Niels (2), Apache (2), HuViz (2), Timeline\tVisualisations (2), WordPress (2), TimeGroups (2), Shortened (2), Column (2), eGects (2), Shuttle (2), Networked (2), 9\n",
       "9 (2), Marcel (2), Docker (2), 241n16 (2), 130f (2), Encounter\n",
       "\t\n",
       "3 (1), Authors\n",
       "\t\n",
       "Next (1), Reality (1), 712 (1), 719 (1), 727 (1), 732 (1), Pascal (1), Encounter\n",
       "Imagining (1), Communication (1), Gephi (1), ArcGis (1), Hypergraphical (1), F\n",
       "F\n",
       "rom (1), Eliots (1), • (1), Bildungsroman (1), McLuhanesque (1), Hacker (1), HyperCard (1), Excel (1), F (1), Arst- (1), Merit (1), conAgurations (1), Neolithic (1), Chronographers (1), JavaScript\tObject\n",
       "Notation (1), LinkArchive (1), JavaScript\tAles (1), TimeScale (1), Coordinated\tUniversal\tTime (1), TimelineConAg (1), TL.TimeScale.js (1), Beniger (1), Networked\n",
       "Communication (1), Cinq-Mars (1), Zumthor (1), Hardt (1), Protocol (1), Archive (1), V.iii.307 (1), Debates (1), Tillyard (1), Atlantis (1), Sowa (1), OpenWayback (1), WorkJows (1), Hobsbawm (1), Analysis (1), en&initial_zoom=1&height=950 (1), ActionScript (1), Netscape (1), JavaScript\n",
       "Object\tNotation (1), UtS3BjlcCGiCgCFRhVjYAkl25T0AmH8ngm3KURY0U (1), Notes (1), Apache\n",
       "Software\tFoundation (1), Bearman (1), Modern\tLanguage (1), Human\n",
       "Rights\n",
       " (1), Visualization (1), Performances (1), cohmetrix.com/ (1), Computing (1), Speculative\tComputing (1), Release (1), Lektüre (1), Cyber (1), Reason (1), Pictorial\n",
       "Representation (1), Grandjean (1), Method (1), Stranger (1), Discovery (1), Lavagnino (1), G21T07 (1), HD-51433-11 (1), Luhmann (1), Cognos (1), Monkey (1), 955-981 (1), Jattened (1), XML2RDF3.pdf (1), Adolphe (1), Vismann (1), M1 (1), JavaScript\tTutorial (1), JavaScript&oldid=797307603 (1), 106f (1), 118f (1), WordPress\n",
       "\t\n",
       "B\n",
       "ode (1), 190f (1), JavaScript\n",
       "\t\n",
       " (1), F\n",
       "edora (1), F\n",
       "elski (1), F\n",
       "umerton (1), JavaScript\tObject\tNotation (1), P5\tGuidelines (1), Archive\n",
       "\t\n",
       "W (1), 265n2\n",
       "\t\n",
       "W\n",
       "ordPress (1), 210\n",
       "\t\n",
       "W (1)</td>\n",
       "    </tr>\n",
       "    <tr>\n",
       "      <th id=\"T_b5bf8_level0_row8\" class=\"row_heading level0 row8\" >8</th>\n",
       "      <td id=\"T_b5bf8_row8_col0\" class=\"data row8 col0\" >LANGUAGE</td>\n",
       "      <td id=\"T_b5bf8_row8_col1\" class=\"data row8 col1\" >60</td>\n",
       "      <td id=\"T_b5bf8_row8_col2\" class=\"data row8 col2\" >English (36), Latin (13), French (7), Hebrew (2), Spanish (1), Archive (1)</td>\n",
       "    </tr>\n",
       "    <tr>\n",
       "      <th id=\"T_b5bf8_level0_row9\" class=\"row_heading level0 row9\" >9</th>\n",
       "      <td id=\"T_b5bf8_row9_col0\" class=\"data row9 col0\" >NORP</td>\n",
       "      <td id=\"T_b5bf8_row9_col1\" class=\"data row9 col1\" >499</td>\n",
       "      <td id=\"T_b5bf8_row9_col2\" class=\"data row9 col2\" >American (32), Amodern (23), French (19), Christian (14), Greek (13), German (13), Roman (13), Russian (13), Eusebian (12), Teutonic (11), Anal (10), Christianity (9), WARC (9), European (8), Jewish (8), Humanities (8), Albertian (7), Wordsworthian (6), Geist (6), Borstelmann (6), Chinese (6), R. (6), Italian (5), Adrian (5), British (5), Moretti (5), Florian (5), Gitelman (5), Saracens (4), Marxist (4), African (4), Caliban (4), Egyptian (4), Aristotelian (4), Southern (4), Cartesian (4), Latin (4), ECMAScript (4), D. (4), Native\tAmerican (3), Christians (3), Formalists (3), Courtesy (3), Witmore (3), Olaf (3), Oxford (3), Persian (3), Transhumanism (3), Historians (3), Siberian (3), Bodleian (3), Kräutli (3), Sense (2), Caesar (2), Romans (2), Arst (2), Lilliputians (2), Belinda (2), LeOngwellian (2), Fordist (2), Foucauldian (2), Marxian (2), Situationist (2), Australian (2), Semantic (2), Priestleyan (2), Postmodern (2), Posthuman (2), Indian (2), Jews (2), Humanists (2), Speclab (2), Integrated (2), Formalist (2), New\tHistoricists (1), Germans (1), Auratic (1), Félix (1), Anglo (1), Lugdunensian (1), Scandinavian (1), Japanese (1), InJuenced (1), Egyptians (1), Freudian (1), Maoist (1), Saltz (1), Joycean (1), Aeolian (1), Antconc (1), Slavic (1), Syrian (1), contra (1), arabic (1), Catholic (1), Principles (1), Sedan (1), Appalachian (1), LaTeX (1), Mesopotamian (1), Californian (1), Californians (1), Septin (1), Nazi (1), Elsewhereness (1), Burkeanism (1), Hegelianism (1), koan (1), Schumpeterian (1), Parameters (1), Armenian (1), Antiquarians (1), Mathematicians (1), Physicians (1), Metaphysicians (1), cum-Priestleyan (1), Tumbling (1), misAt (1), aGair (1), Eusebian-Priestleyan (1), dans (1), dem (1), Maximilian (1), IV.1.200 (1), Derridean (1), http://dhdebates.gc.cuny.edu/debates/text/93 (1), Carroll (1), Cubist (1), Iskold (1), Orthodox (1), Cyberculture (1), Western (1), Pennock (1), Saussurean (1), Deleuze- (1), Guattarian (1), Meshworks (1), Blurton (1), WordPress.com (1), Letters (1), Semiotext(e (1), Canadian (1), Map (1), Asian (1), Pictographs (1), Materialist (1), Balinese (1), K. (1), http://ceur-ws.org/Vol-538/ (1), agrippa.english.ucsb.edu/hodge-james-bibliographic-description-of- (1), Ivan (1), mqrg (1), Abramis (1), https://ianmilligan.ca/2016/06/21/archives- (1), https://link.springer.com/chapter/ (1), English (1), Cliodynamics (1), index.php?title=Sankey_diagram&oldid=758312074 (1), merican (1), Reformation (1), Schreibman (1), AWgraphs (1), Formalism (1), keuomorphs (1)</td>\n",
       "    </tr>\n",
       "    <tr>\n",
       "      <th id=\"T_b5bf8_level0_row10\" class=\"row_heading level0 row10\" >10</th>\n",
       "      <td id=\"T_b5bf8_row10_col0\" class=\"data row10 col0\" >EVENT</td>\n",
       "      <td id=\"T_b5bf8_row10_col1\" class=\"data row10 col1\" >11</td>\n",
       "      <td id=\"T_b5bf8_row10_col2\" class=\"data row10 col2\" >Holocaust (2), World\tWar\tII (2), Series (2), HathiTrust (1), World\n",
       "War (1), Cold\tWar (1), Hélène (1), Revolution (1)</td>\n",
       "    </tr>\n",
       "    <tr>\n",
       "      <th id=\"T_b5bf8_level0_row11\" class=\"row_heading level0 row11\" >11</th>\n",
       "      <td id=\"T_b5bf8_row11_col0\" class=\"data row11 col0\" >WORK_OF_ART</td>\n",
       "      <td id=\"T_b5bf8_row11_col1\" class=\"data row11 col1\" >606</td>\n",
       "      <td id=\"T_b5bf8_row11_col2\" class=\"data row11 col2\" >Bible (20), The\tIdea (13), The\tMedium\tIs\tthe\tMessage (9), Visualising\tCultural\tData (9), Laws\tof\tCool (8), Document\tObject\tModel (6), Remembering\tNetworks (5), A\tDeclaration (5), The\tMedium (4), Page\tSpace (4), Playboy (4), Deluxe\tEdition (4), Network\tArchaeology (4), Archives\tUnleashed (4), Historical\tNetwork\tAnalysis (4), Ph.D. (4), About\tUs (4), Analyzing\tProvenance (4), Circulation (4), Britten’s\tPoets (4), Friending (3), The\tMedium\tIs\tthe\n",
       "Message (3), Digital\tMaoism:\tThe\tHazards (3), Multimedia\tLiteracy (3), Visible\tWord (3), A\tSlumber\tDid\tMy\tSpirit\tSeal (3), Translating\tthe\tFuture:\tTranspilers (3), In\tPraise (3), Expressive\tProcessing (3), Digital\tHumanities (3), The\tEvolution (3), Die\tPerioden (3), Quantitative\tInformation (3), History\tFlow (3), Bibliographic\tDescription (3), Network\tTheory (3), Assessing\tData\tWorkJows (3), Web\tOntology\tLanguage (3), The\tPrelude (3), Lyrical\tBallads (3), A\tBook\tof\tthe\tDead (3), The\tGreat\tPowers (2), Love (2), Invisible\tBullets (2), Hamlet (2), Stitch\tBitch (2), A\tFarewell (2), Macbeth (2), Common\tMotifs (2), Linked\tData (2), P5:\tGuidelines (2), Deep\tEurope (2), Cold\tWar\tNetworks (2), Becoming\ta\tNazi:\tA\tModel (2), Little\tGidding (2), UtS3BjlcCGiCgCFRhVjYAkl25T0AmH8ngm3KURY0U (2), Facebook\tOOcially\tLaunches\tNostalgia (2), Implicit\n",
       "Many-to-One\tCommunication (2), Emergent\tProperties (2), The\tText (2), ‘Inherent’\tIdeology (2), Blogging (2), Beyond\tSearch (2), Fictional\tWorlds (2), Reading\tDigital\tLiterature (2), Understanding\tKnowledge\tWork (2), The\tHumanities (2), The\tDecline\tof\tQuantitative\tHistory (2), Taylorizing\tthe\tModern\tInterior (2), A\tRelational\tModel (2), The\tCalifornian\tIdeology (2), Thoughts\ton\tthe\tSocial\tGraph (2), Beginning\tWas\tthe\tCodex (2), New\tReading\tHistories (2), Leon\tBattista\tAlberti (2), Declaration (2), Materials\tRelating (2), Technical\tDescription (2), Disk\tWorked (2), Print\tIs\tFlat (2), Textual\tStudies (2), The\tTransmission (2), Reading’s\tRefrain (2), Theatre\tPlays (2), Networks\tand\tHistory (2), List\tof\tWeb\tArchiving\tInitiatives (2), Web\tPage (2), Accessible\tReproducible\tResearch (2), Reliable\tScience (2), Lineage\tRetrieval (2), Cuevas-Vicenttín (2), Sankey\tDiagram (2), Networks\tand\tNumbers (2), Civil\tSociety\tComputer\tNetworks (2), From\tReading (2), Notes\tTowards (2), Equivalence (2), Canon/Archive (2), A\tCyberspace\tIndependence\tDeclaration (2), Distant\tMirrors (2), Britten\tPoets\tVisualiser (2), Works\tCited (2), The\tPower (2), Surface\tReading:\tAn\tIntroduction (2), Lightweight\tProgramming\tLanguage (2), Introducing\tJSON (2), Ode:\tIntimations (2), Internet\tArchive (2), The\tEnd (2), CA (2), Reading\tDigital\tLiterature:\tSurface (2), The\tLucy\n",
       "Algorithm (1), NTRODUCTION (1), Arabian\tNights (1), Jickering (1), La\tBelle\n",
       "Dame (1), Lean\tBear (1), Freytag’s\tPyramid (1), The\tValue (1), Outlines (1), The\n",
       "Memo\tand\tModernity (1), Murrow’s (1), On\tThis\tDay (1), Document\n",
       "Object\tModel (1), Jesh (1), Forking\tPaths (1), Nam\tJune\tPaik (1), Text\tAnalysis (1), The\tChild (1), The\tVirtual\tCodex (1), The\n",
       "Idea (1), The\tOrganization\tof\tHuman\tKnowledge (1), credit_card_number (1), Telelearning\tApplications (1), Paquette (1), painterly (1), Post-Painterly\tAbstraction (1), The\tGreat\tLalulā (1), Virus\tProgram (1), The\tMaking\tof\ta\t (1), Electrical\tShow (1), Discourse\tNetworks (1), Theorizing\tNetwork\n",
       "Movement (1), Reconsidering\tNetwork/History (1), Excavating\tNetworks (1), Network\tTransfers (1), Drawing\tfrom\tthe\tAeld (1), Library’s (1), Archive’s\tARC (1), Network\n",
       "Archaeology (1), Reproducible\tResearch\n",
       "System (1), Reproducible\tResearch\tEnvironment (1), Reproducible\tResearch\n",
       "Publisher (1), Towards\n",
       "Automating\tData\tNarratives (1), Common\n",
       "Motifs (1), Names (1), Encoded\n",
       "Archival\tContext-Corporate\tBodies (1), The\tFrench\tEnlightenment\n",
       "Network (1), Networks\tand\tEmerging\tKnowledge (1), Narrative\n",
       "Networks (1), Laws\tof\tCool\n",
       "\t (1), Escaping\n",
       "History (1), This\t‘ (1), Magna\tCarta (1), Fortune’s (1), World\tSample\t30 (1), Google\tNews (1), Preface (1), Universal\tHistory (1), The\tLibrary\tCompany (1), The\tTyger (1), Transcendental\tData (1), New\tRomantic\n",
       "Canons (1), Jat\tAle (1), Parliamentary\tReform (1), Elegy\tWritten (1), Display\tDate (1), Strange\tFits\n",
       "of\tPassion\tHave\tI\tKnown (1), Lucy\tGray (1), Strange\tFits\tof\tPassion\tHave\tI\tKnown (1), Lucy\n",
       "Gray (1), Strange\tFits\tof\tPassion\tHave\tI\n",
       "Known (1), A\n",
       "Slumber\tDid\tMy\tSpirit\tSeal (1), Tintern\tAbbey (1), Poet’s\tMind (1), The\n",
       "Child (1), Hypothetical\tMachine-Learning\tWork?ow (1), The\tArchitecture (1), Store\tand\n",
       "Forward (1), From\tMass (1), Performance\tModel (1), RéJexions (1), World\tHistory (1), Horace’s (1), Recursion (1), Harnessing\tCollective\tIntelligence (1), Facebook’s (1), Philosophy\tof\tthis\tPage (1), Contingent\tMethods (1), Narrative (1), The\n",
       "Medium\tIs\tthe\tMessage (1), Showing\tSeeing (1), The\tDominion (1), What’s\tNew (1), Medium\tTheory (1), Laugh\tof\tthe\tMedusa,” (1), Multimedia\tand\tMultitasking (1), Virtual\tCodex (1), The\tFuture (1), The\tComputational\tStudy (1), The\n",
       "Visibility (1), International\tStyle (1), Civil\tWar (1), Public\n",
       "Lectures (1), Probabilistic\tTopic\tModels (1), Topic\tModeling\n",
       "Made\tJust\tSimple\tEnough (1), Collaborative\tUser\tExperience (1), Voronoi\tTesselation (1), The\tForce\n",
       "Fields (1), Atlas (1), The\tRise (1), Death\tof\tthe\tAuthor (1), Sure,\tWeb’s\tGot\tStyle\tBut\tHardly\tEnough\n",
       "Substance (1), Cyber-Politics (1), Laws (1), Beginning\tWas\tthe\n",
       "Codex (1), Beauty\tof\tInﬂections (1), Medium\tIs\tthe\tMessage (1), Languages,\tBooks (1), graphical\n",
       "language (1), Dominant (1), Ashbaugh,\t (1), Deluxe\n",
       "Edition (1), The\tDisk (1), Archive\tRumblings (1), Book (1), Weird\tGlobal\tMedia\tEvent (1), Bibliographic Whitney\tMuseum (1), Bibliographic\n",
       "Description (1), Agrippa\tPress\t (1), Publisher’s\tPress\tRelease (1), Technical\tSpecs (1), Hacking\t‘Agrippa’: (1), Network\tArchaeologies (1), Quantitative\tFormalism (1), Style\tat\tthe\tScale\tof\tthe\n",
       "Sentence (1), On\tParagraphs (1), Becoming\ta\tNazi (1), Annotating\tWeb\n",
       "Archives (1), Samvera (1), Catch\tMe (1), Historical\tNetwork\n",
       "Analysis (1), Gene\tName\tErrors\tAre\tWidespread (1), Data\tModel (1), Radial\tGraph\tDemo (1), Duality\tof\tCulture\tand\tPractice (1), Communicating\tLiberty (1), The\n",
       "Development\tof\tSocial\tNetwork\tAnalysis (1), French\tEnlightenment\tNetwork (1), Demystifying\tNetworks (1), Circulating\n",
       "Concepts (1), Joating\tsigniAer (1), Flame-Picture (1), Local\tTranscendence (1), Cramming\tMore\tComponents (1), Understanding\tthe\tUse\tof\tGroup\tDecision\tSupport\n",
       "Systems (1), Duality\tof\tTechnology (1), Religious\tHistory (1), Facebook\tTimeline (1), Facebook’s\n",
       "Timeline (1), Visualising\n",
       "Cultural\tData (1), Temporal\tModeling (1), Transcendental\tData:\tToward\tA\tCultural\n",
       "History (1), The\tCanon (1), FileMaker\tHistory (1), Continuous\tPaper (1), Surface\tReading (1), Reading\tDigital\n",
       "Literature (1), Visualising\tCultural (1), Abrams,\t“Structure\tand\tStyle\tin\tthe\tGreater\tRomantic\tLyric (1), The\tSystolic\tRhythm:\tThe\n",
       "Structure (1), Starry\n",
       "Wheels (1), Pindaric\tTemporality (1), Translating\tthe\tFuture (1), Structure\tand\tStyle\tin\tthe\tGreater\tRomantic\tLyric (1), Twentieth (1), Style\tat\tthe\tScale\tof\tthe\tSentence (1), Quantitative\tFormalism:\tAn\tExperiment (1), The\tDeath (1), Narrative\tNetworks (1), Beginnings (1), The\tWARC\tFile\tFormat (1), www.blakearchive.org/copy/cpd?descId=but306.1.cprint.01 (1), The\tEquivalence (1), The\tGarden (1), Millennium (1), Starry\tWheels (1), Teresa\tLavender\tFagan (1), The\tVirtual\tLibrary (1), The\tLaugh (1), Coleridge (1), The\tRime (1), The\tFrench\tEnlightenment\tNetwork (1), The\tText\tEncoding\tInitiative (1), Store\tand\tForward (1), World\tOrder\tTransformation (1), Network\n",
       "Analysis (1), Evolution\n",
       "of\tCollective\tBehaviors (1), The\tTheory (1), Archive\tBecome\tMetaphorical (1), A\tMacroscope (1), Quantitative\tNarrative\tAnalysis (1), The\t‘Uncanny (1), Papers (1), Interconnected\tPossibilities (1), Deep\tPlay:\tNotes (1), The\tOpen\tGraph\tViz\tPlatform (1), The\tSystolic\tRhythm:\tThe\tStructure (1), Skeuomorphs\tand\tCultural\tAlgorithms (1), Computer\tScience (1), Towards\tAutomating\tData\tNarratives (1), Intelligent\tUser\tInterfaces (1), A\tSurvey (1), The\tAppended\tSubject:\tRace (1), Visualization (1), Topic\tModeling (1), Event\tCentrality (1), The\tMemo\tand\tModernity (1), Revolutionary\tBooks (1), Papers\tRead (1), Sure,\tWeb’s\tGot\tStyle\tBut\tHardly\tEnough\tSubstance (1), Selected\tPapers (1), The\tOrganization\tof\tHuman\tKnowledge:\tSystems (1), Quantitative\tAnalysis (1), Selected\tPivotal\tIdeas (1), About\n",
       "Us (1), A\tData\tModel (1), Jerome,\tChronicle (1), Forensic\tImagination (1), A\tPerformance\tModel (1), Parallel\tComputing (1), The\tStructural\tStudy (1), Rich\tUser\tExperience (1), A\tVernacular\tWeb:\tThe\tIndigenous (1), A\tVernacular\tWeb\t2 (1), The\tBig\tBang (1), Archive\tRumblings:\tInterview (1), Player\tModiAcations (1), Science (1), Showing\tSeeing:\tA\tCritique (1), The\tDuality\tof\tCulture (1), Continuous\tPaper:\tThe\tEarly\tMateriality (1), ‘Operationalizing’: (1), The\tDuality\tof\tTechnology:\t (1), Learning\tDesign (1), Reading’s\tRefrain:\tFrom\tBibliography (1), The\tVisibility (1), The\tWerther\tEGect (1), Platform\tStudies (1), Collaborative\tAnalysis (1), Design\tHistory:\n",
       " (1), Quantitative\tMethods (1), Digital\tLiterary\tStudies (1), A\tTune (1), Timeline:\tWeb\tWidget (1), Computing (1), Circulating\n",
       "Concepts:\tNetworks (1), Textual\n",
       "Materialities (1), Written\tSources (1), Topic\tModeling\tMade\tJust\tSimple\tEnough (1), Transforming\tCulture (1), Multimedia\tand\tMultitasking:\tA\tSurvey\tof\tDigital\n",
       "Resources (1), Bibliothèque\tNationale\tde\tFrance (1), Expressive\tProcessing:\tDigital\tFictions (1), The\tWeird\tGlobal\tMedia\tEvent (1), Filemaker\tHistory (1), Foreword (1), WordPress (1), Writing\tMachines (1), Character\tEncoding (1), Annotating\tWeb\n",
       "Archives:\tStructure (1), Technologies\tConference (1), Gene\tName\tErrors\tAre\n",
       "Widespread (1), Transmission (1), Star\tTrek (1), Encoded\tArchival\tContext-Corporate\tBodies (1), “Declaration\tof\tthe\tIndependence\tof\n",
       "Cyberspace (1), Absolute\tKnowledge (1), Laws\tof\n",
       "Cool\n",
       " (1), Nam\tJune (1), The\tGreat\n",
       "Powers (1)</td>\n",
       "    </tr>\n",
       "    <tr>\n",
       "      <th id=\"T_b5bf8_level0_row12\" class=\"row_heading level0 row12\" >12</th>\n",
       "      <td id=\"T_b5bf8_row12_col0\" class=\"data row12 col0\" >LAW</td>\n",
       "      <td id=\"T_b5bf8_row12_col1\" class=\"data row12 col1\" >9</td>\n",
       "      <td id=\"T_b5bf8_row12_col2\" class=\"data row12 col2\" >Chapter\t1\n",
       "\t (2), chapter\t2\n",
       "\t (1), Chapter\t3 (1), Chapter\t2 (1), Chapter\t3\n",
       "\t (1), Chapter (1), Coordinated\tUniversal\tTime (1), Networked 4 (1)</td>\n",
       "    </tr>\n",
       "    <tr>\n",
       "      <th id=\"T_b5bf8_level0_row13\" class=\"row_heading level0 row13\" >13</th>\n",
       "      <td id=\"T_b5bf8_row13_col0\" class=\"data row13 col0\" >FAC</td>\n",
       "      <td id=\"T_b5bf8_row13_col1\" class=\"data row13 col1\" >35</td>\n",
       "      <td id=\"T_b5bf8_row13_col2\" class=\"data row13 col2\" >Rama\tHoetzlein (4), Saint\tGall (2), Katherine\tStovel (2), Twentieth-Century (2), Hypergraph (2), “Learning\tDesign (2), Angel\tIsland (2), Archive (2), Niels (2), Shannon (1), Baba\n",
       "\t\n",
       " (1), Rama\n",
       "Hoetzlein (1), Instances\n",
       "\t\n",
       "1\tLiterary (1), Mnemograph (1), 460 (1), Fedora\n",
       "Commons (1), Brynjar (1), ReadWriteWeb (1), Port\tTownsend (1), Preservation (1), ms315 (1), Schriftverkehr (1), jerome_chronicle_00_eintro.htm\n",
       " (1), Ballads (1)</td>\n",
       "    </tr>\n",
       "    <tr>\n",
       "      <th id=\"T_b5bf8_level0_row14\" class=\"row_heading level0 row14\" >14</th>\n",
       "      <td id=\"T_b5bf8_row14_col0\" class=\"data row14 col0\" >QUANTITY</td>\n",
       "      <td id=\"T_b5bf8_row14_col1\" class=\"data row14 col1\" >6</td>\n",
       "      <td id=\"T_b5bf8_row14_col2\" class=\"data row14 col2\" >zero-degree (2), twenty-Arst- (1), 1\tinches (1), 3.5\tinch (1), 90-degree (1)</td>\n",
       "    </tr>\n",
       "    <tr>\n",
       "      <th id=\"T_b5bf8_level0_row15\" class=\"row_heading level0 row15\" >15</th>\n",
       "      <td id=\"T_b5bf8_row15_col0\" class=\"data row15 col0\" >TIME</td>\n",
       "      <td id=\"T_b5bf8_row15_col1\" class=\"data row15 col1\" >20</td>\n",
       "      <td id=\"T_b5bf8_row15_col2\" class=\"data row15 col2\" >tonight (2), 01:40 (2), 4:18 (1), two\thours (1), Arst\tminute (1), 8:46\ta.m. (1), evening (1), hourly (1), 7:34 (1), Twenty-second (1), 10.1145/2089094.2089099 (1), 17:08 (1), 07:36 (1), 19:16 (1), 19:15 (1), 4–6 (1), 242n24 (1), 247n65 (1)</td>\n",
       "    </tr>\n",
       "    <tr>\n",
       "      <th id=\"T_b5bf8_level0_row16\" class=\"row_heading level0 row16\" >16</th>\n",
       "      <td id=\"T_b5bf8_row16_col0\" class=\"data row16 col0\" >MONEY</td>\n",
       "      <td id=\"T_b5bf8_row16_col1\" class=\"data row16 col1\" >9</td>\n",
       "      <td id=\"T_b5bf8_row16_col2\" class=\"data row16 col2\" >2,000 (2), 450 (2), 198–205 (1), 1,500 (1), 7,500 (1), D1 (1), D11 (1)</td>\n",
       "    </tr>\n",
       "    <tr>\n",
       "      <th id=\"T_b5bf8_level0_row17\" class=\"row_heading level0 row17\" >17</th>\n",
       "      <td id=\"T_b5bf8_row17_col0\" class=\"data row17 col0\" >PERCENT</td>\n",
       "      <td id=\"T_b5bf8_row17_col1\" class=\"data row17 col1\" >2</td>\n",
       "      <td id=\"T_b5bf8_row17_col2\" class=\"data row17 col2\" >27.5% (1), 58.7% (1)</td>\n",
       "    </tr>\n",
       "  </tbody>\n",
       "</table>\n"
      ],
      "text/plain": [
       "<pandas.io.formats.style.Styler at 0x15507c850>"
      ]
     },
     "metadata": {},
     "output_type": "display_data"
    },
    {
     "data": {
      "text/html": [
       "<hr>"
      ],
      "text/plain": [
       "<IPython.core.display.HTML object>"
      ]
     },
     "metadata": {},
     "output_type": "display_data"
    },
    {
     "data": {
      "text/html": [
       "\n",
       "            <h3>Document: Créer un cadre français de responsabilisation des réseaux sociaux : agir en France avec une ambition européenne</h3>\n",
       "            <p><strong>Authors:</strong> </p>\n",
       "            <p><strong>Date:</strong> 2019</p>\n",
       "            "
      ],
      "text/plain": [
       "<IPython.core.display.HTML object>"
      ]
     },
     "metadata": {},
     "output_type": "display_data"
    },
    {
     "data": {
      "text/html": [
       "<style type=\"text/css\">\n",
       "#T_fd943 th {\n",
       "  border: 1px solid black;\n",
       "  padding: 8px;\n",
       "  text-align: left;\n",
       "}\n",
       "#T_fd943_row0_col0, #T_fd943_row0_col1, #T_fd943_row0_col2, #T_fd943_row1_col0, #T_fd943_row1_col1, #T_fd943_row1_col2, #T_fd943_row2_col0, #T_fd943_row2_col1, #T_fd943_row2_col2, #T_fd943_row3_col0, #T_fd943_row3_col1, #T_fd943_row3_col2, #T_fd943_row4_col0, #T_fd943_row4_col1, #T_fd943_row4_col2, #T_fd943_row5_col0, #T_fd943_row5_col1, #T_fd943_row5_col2, #T_fd943_row6_col0, #T_fd943_row6_col1, #T_fd943_row6_col2, #T_fd943_row7_col0, #T_fd943_row7_col1, #T_fd943_row7_col2, #T_fd943_row8_col0, #T_fd943_row8_col1, #T_fd943_row8_col2, #T_fd943_row9_col0, #T_fd943_row9_col1, #T_fd943_row9_col2, #T_fd943_row10_col0, #T_fd943_row10_col1, #T_fd943_row10_col2, #T_fd943_row11_col0, #T_fd943_row11_col1, #T_fd943_row11_col2, #T_fd943_row12_col0, #T_fd943_row12_col1, #T_fd943_row12_col2, #T_fd943_row13_col0, #T_fd943_row13_col1, #T_fd943_row13_col2, #T_fd943_row14_col0, #T_fd943_row14_col1, #T_fd943_row14_col2 {\n",
       "  border: 1px solid black;\n",
       "  padding: 8px;\n",
       "  text-align: left;\n",
       "}\n",
       "</style>\n",
       "<table id=\"T_fd943\">\n",
       "  <thead>\n",
       "    <tr>\n",
       "      <th class=\"blank level0\" >&nbsp;</th>\n",
       "      <th id=\"T_fd943_level0_col0\" class=\"col_heading level0 col0\" >Entity Type</th>\n",
       "      <th id=\"T_fd943_level0_col1\" class=\"col_heading level0 col1\" >Count</th>\n",
       "      <th id=\"T_fd943_level0_col2\" class=\"col_heading level0 col2\" >Unique Entities</th>\n",
       "    </tr>\n",
       "  </thead>\n",
       "  <tbody>\n",
       "    <tr>\n",
       "      <th id=\"T_fd943_level0_row0\" class=\"row_heading level0 row0\" >0</th>\n",
       "      <td id=\"T_fd943_row0_col0\" class=\"data row0 col0\" >ORG</td>\n",
       "      <td id=\"T_fd943_row0_col1\" class=\"data row0 col1\" >374</td>\n",
       "      <td id=\"T_fd943_row0_col2\" class=\"data row0 col2\" >un (90), de la (16), Par (7), Un (7), n’a (6), sur la (5), Cette (5), dans la (5), Elle (4), Conseil (4), YouTube (3), Compte (3), par la (3), Etats (3), abus (2), SMA (2), la Commission (2), dans leur (2), RGPD (2), Ministère de la Justice (2), Créer un cadre français (1), Rapport de la mission \n",
       " \n",
       " \n",
       " \n",
       " \n",
       " (1), Remis au Secrétaire d’État (1), la règle commune (1), fait de \n",
       "l’asymétrie extrême d’information (1), sur la logique de prévention et la capacité \n",
       "d’autorégulation des (1), seaux sociaux créent des dommages (1), Toute (1), pays de destination (1), laquelle la (1), être pris (1), nction \n",
       "de régulation des réseaux sociaux pour que (1), suivre un e logique de \n",
       "conformité (1), créer de barrière à (1), s’appuyant sur la (1), nouvelle fonction de régulation d (1), s’appliquer à l’ensemble (1), de la Justice (1), algorithmes de détection de contenus haineux dans la fonction de \n",
       "modération (1), de la politique de  transparence de la (1), dans la durée d’acteurs (1), sur sa (1), sur la gouvernance de l’Internet en novembre (1), dans sa capacité à exiger la communication de toute (1), dans la lutte (1), d’é (1), Plateforme Pharos (1), Google (1), par \n",
       "l’édiction de (1), social sont fournis par diff (1), TikTok (1), UGC (1), WhatsApp (1), quelconque de ce s (1), être partagées avec ceux qui (1), dans la \n",
       "proposition de loi de la (1), dans la \n",
       "définition des opérateurs de (1), proposant un service de (1), de média d’expression (1), édictées par l (1), seaux sociaux des médias d’information (1), La loi n° (1), sens du code de la (1), De (1), Contrairem (1), la fonction d’ordonnancement (1), majorité de s services de réseau social n’opère pas de (1), dans la \n",
       "diffusion de contenus et dans la capacité des résea (1), Reuters Institute (1), Digital News Report (1), difficulté 13 (1), l’approche (1), la liberté de communication (1), Créer (1), dynamique de politique pub (1), démarche d’autorégulation (1), de la fonction de modération (1), de la plateforme à savoir notamment (1), conseil de s (1), Quant à YouTube (1), utilisateurs de la (1), palette de (1), chez ces acte (1), par la présence de certains (1), selon leur degré de gravité et de risque  pour (1), suf fisante (1), même niveau d’information qu’un (1), ion de compte (1), qui impliquent (1), la valeur de l’autorégulation (1), quelle (1), compte de leur (1), la périodicité qui leur (1), contrôle par (1), démarche de l’Autorité de (1), prin cipe de supervision (1), de la \n",
       "puissance publique et contenir la pression de la (1), L’approche (1), cœur du modèle de régulation (1), modifie (1), dès la \n",
       "conception de son (1), de réseau social par (1), l’e (1), sur la création d’un devoir de diligence \n",
       "des (1), sur la crédibilisation de \n",
       "l’autorégulation (1), traduit de (1), préjudice et (1), tel par une (1), Les capacité s d’action (1), Il s’agit là (1), régime spéci (1), standard de conformité ab solu qui ne tient compte (1), de la nature stati stique des traitements (1), de la liberté d’expression et de l’impé ratif \n",
       "d’ordre (1), d’incitation à la haine (1), fait de la (1), d'abord (1), qui sont plus (1), la \n",
       "capacité de conjuguer (1), la \n",
       "même (1), niveau de chaque Etat (1), de la capacité europé enne à (1), nouvelle \n",
       "ambition (1), suivi de \n",
       "l’autorégulation de contenus illicites semble porte (1), sur la lutte (1), Etat (1), contexte social (1), culturel et h istorique de l’Etat (1), Conseil des Etats (1), État (1), sur leur (1), fait de l’unicité et de l’ubiquité \n",
       "des services de réseaux sociaux (1), nationaux pour raient (1), à un \n",
       "risque d’inconventionalité (1), chaque réseau social à (1), de la fon ction de régulation et localisation des (1), Chaque Etat (1), de sa capacité à servir (1), Contrairement à l’approche (1), la mise en (1), centrée sur la (1), proche de conformité à appliquer et \n",
       "concevoir avec (1), non à la sanction  des \n",
       "échecs (1), fait de (1), algorithmes de (1), par leur (1), • Les (1), oir (1), par une action visant \n",
       "à (1), combattus par la (1), l’acteur (1), défaut de mise (1), pouvoir (1), par une décision \n",
       "motivée (1), démarche de conformité opp (1), préjudice de \n",
       "sa capacité à saisir (1), fait qui (1), LCEN (1), la loi (1), par une démarche (1), la liberté d’expression et de communication des uti lisateurs (1), droit de savoir s (1), mpris le droit à édicter et appliquer des CGU (1), créer de \n",
       "barrières (1), de la population de l’Etat membre (1), • Elle s’appliquerait (1), de la population de (1), de transparence qui porteraient (1), n à l’auteur du contenu modéré \n",
       " (1), de la décision de la (1), régulateu r de la capacité de se (1), créer un critère d e dessaisissement (1), délais de décision (1), la création de fonction dites de « Trust (1), mesure de poursuivre (1), de la liberté d’entrepre ndre des réseaux sociaux mais la (1), de la respon sabilisation des principaux (1), pris individuellement (1), préjudice de son obligation de \n",
       "protéger (1), pouvoir de s (1), mandat et des compétences juri diques (1), de la politique (1), API (1), ace à des (1), Face à la puissance des (1), rôle de garants de la (1), une mise (1), concertées (1), contrôle de la (1), de la populati (1), éventuelle de la (1), Focus sur la transparence des (1), de la transparence de (1), qu’il (1), l’intelligibil (1), Chaque (1), par la publicati (1), hoix de modération faits par (1), la mise à (1), développement de ces algorithmes (1), d’appréc (1), s’adaptant (1), signifie (1), la capacité (1), étudie (1), spécificités de chaque (1), qu'il (1), Quelle (1), compte de la perfo rmance de l’algorithme (1), Stanford (1), Oxford University (1), CNNum (1), de la défense (1), d’Etat (1), DGMIC (1), Magistrat (1), INHESJ (1), préfet de la Seine-Saint-Denis (1), Ministère de l'Intérieur (1), PHAROS (1), Google France (1)</td>\n",
       "    </tr>\n",
       "    <tr>\n",
       "      <th id=\"T_fd943_level0_row1\" class=\"row_heading level0 row1\" >1</th>\n",
       "      <td id=\"T_fd943_row1_col0\" class=\"data row1 col0\" >GPE</td>\n",
       "      <td id=\"T_fd943_row1_col1\" class=\"data row1 col1\" >82</td>\n",
       "      <td id=\"T_fd943_row1_col2\" class=\"data row1 col2\" >Les (12), La (8), la (7), Elle (5), Le (4), qu’il (3), Enfin (3), sont (3), France (2), Troisième (2), Quatrième (2), revanche (2), qui (1), compte (1), administrati (1), Paris (1), Dublin (1), qu’elle (1), titre (1), Berlin (1), Secrétariat (1), Webedia (1), ntifie (1), l’utilisateur (1), la cap (1), Si (1), sa (1), Quand (1), infrana (1), État (1), Via (1), IV (1), selo (1), la transparence (1), Quelles (1), Collège de l’Arcep (1), la revue stratégique de cyberdéfense (1), SGDSN (1), Ingénieur (1), Normale (1), Inspecteur (1)</td>\n",
       "    </tr>\n",
       "    <tr>\n",
       "      <th id=\"T_fd943_level0_row2\" class=\"row_heading level0 row2\" >2</th>\n",
       "      <td id=\"T_fd943_row2_col0\" class=\"data row2 col0\" >PRODUCT</td>\n",
       "      <td id=\"T_fd943_row2_col1\" class=\"data row2 col1\" >16</td>\n",
       "      <td id=\"T_fd943_row2_col2\" class=\"data row2 col2\" >• (2), Néanmoin s (2), Régulation des réseaux sociaux (1), • un devoir de diligence vis-à-vis de (1), Twitter (1), L111 (1), l’utilisateur (1), Un (1), • la responsabilisation de la (1), • un cadre commun (1), être analysée (1), • de réduire (1), • Seuls (1), • La (1)</td>\n",
       "    </tr>\n",
       "    <tr>\n",
       "      <th id=\"T_fd943_level0_row3\" class=\"row_heading level0 row3\" >3</th>\n",
       "      <td id=\"T_fd943_row3_col0\" class=\"data row3 col0\" >CARDINAL</td>\n",
       "      <td id=\"T_fd943_row3_col1\" class=\"data row3 col1\" >110</td>\n",
       "      <td id=\"T_fd943_row3_col2\" class=\"data row3 col2\" >membres (9), • (6), 2 (5), 5 (5), 15 (4), 10 (4), 3 (3), 4 (3), 14 (3), 8 (3), 9 (3), 11 (3), 12 (3), 16 (3), 17 (3), 18 (3), 19 (3), 21 (3), 7 (2), 1 (2), 22 (2), manque (2), 13 (2), 23 (2), 27 (2), 20 (2), 6 (1), 4chan (1), 1.1 (1), six (1), 1.2 (1), 1.3 (1), essentiel (1), 1.4 (1), aujourd’hui (1), 2.1 (1), 2.2 (1), d’atteindre (1), 2.4 (1), 2.5 (1), européens (1), 24 (1), 25 (1), 26 (1), 28 (1), 29 (1), 31 (1), 32 (1), M6 (1), 33 (1), 34 (1)</td>\n",
       "    </tr>\n",
       "    <tr>\n",
       "      <th id=\"T_fd943_level0_row4\" class=\"row_heading level0 row4\" >4</th>\n",
       "      <td id=\"T_fd943_row4_col0\" class=\"data row4 col0\" >PERSON</td>\n",
       "      <td id=\"T_fd943_row4_col1\" class=\"data row4 col1\" >395</td>\n",
       "      <td id=\"T_fd943_row4_col2\" class=\"data row4 col2\" >réseaux sociaux (20), de la (13), qui (5), État (5), Snap (4), Etat (4), Twitter (3), lien (3), Cela (3), choix et de (2), qui accueille (2), de l’audiovisuel (2), de sa (2), NetzDG (2), utilisateurs de ce (2), de se (2), d’ubiquité (2), compris (2), Quel (2), Quelles (2), Serge Abiteboul (2), membre du (2), Jacques Martinon (2), Gilles Schwoerer (2), Gendarmerie (2), Pierre Dubreuil (2), Synthèse (1), rs \n",
       " (1), Néanmoins (1), libe rtés (1), de grou pes (1), pas de (1), de nos sociétés apparaît (1), de libertés (1), qui forment (1), de la solution (1), ra ppel (1), de \n",
       "proposer (1), de cr (1), qui suscite une (1), réalité de l’action de la (1), rés eau (1), la capacité de chacun des États (1), yeux de (1), se (1), publique de régulati (1), de \n",
       "l’État (1), être mise (1), objectifs de politique publique (1), sauvegarde de l’ordre (1), réseaux sociau (1), mais la (1), d’autorités (1), ges ont eu lieu (1), Face (1), journées de travail à (1), ont eu lieu (1), l’usager de \n",
       "Facebook (1), juridique formel (1), cet état \n",
       "de fait est (1), travaux de la  mission (1), l’étranger tel s que la \n",
       " (1), peut se (1), de la communauté (1), Mark Zuckerberg (1), l’antisémitisme (1), sa démarche (1), d’un atelier citoyen s organisés (1), Centre de lutte (1), crimi nalités numérique (1), Directi (1), Repo (1), Netino (1), dynamiques de poli (1), n’ont pas été (1), pas de r (1), un ensem (1), capacité de diffuser (1), qui se (1), leur nature (1), titre ac cessoire (1), d’un réseau (1), qui \n",
       "peuvent être généralistes comme Facebook (1), chaque utilisateur (1), de messagerie (1), Messenger (1), de diffusi (1), un lien hypertexte (1), une vidéo (1), s’agir de publicité classique (1), publicités indépenda (1), personne qui consulte (1), de YouTube (1), Au-delà de la distinction par type (1), de \n",
       "nouveaux usages de même (1), Une (1), d’un  service de réseau (1), Avia (1), Au (1), peut être défini (1), de leur (1), l’industrie de s (1), Disposant (1), coût (1), qui distingue (1), d’accéder à de nouvelles (1), La capacité d’un individu (1), distincte de celle des (1), mais bien (1), désormais centra (1), lieu de \n",
       "l’agencement (1), l’ordonnancement de s (1), sauf dans (1), obaux de \n",
       "cet ordonnancement (1), de l’auteur (1), de l’existence de cette (1), qui constitue (1), L’existence de cette (1), Que (1), réseaux sociaux sont aus si le \n",
       "lieu (1), li gne (1), la diffusi (1), l’insuffisanc (1), conviendra de tenir compte de la (1), sur un (1), autorégula (1), de Facebook (1), de gou (1), de  la (1), venir \n",
       "confirmer (1), comme nocifs (1), mais \n",
       "doit s’enrichir pour (1), de \n",
       "réseau social et (1), autorités publi (1), d’aut (1), aucun fait (1), La (1), même de mesurer (1), autorités publiques (1), défai (1), par leur \n",
       "incapacité à évaluer concrètement la (1), chacun de leur côté leur (1), d’autorégula (1), comme la \n",
       " (1), agile mais échappe (1), qui ignore (1), leur capacité à (1), Renoncer (1), ce  qui (1), mesurer se s effets (1), réseaux sociaux développent (1), Aujourd’hui (1), de la mission (1), aucun  réseau (1), La crédibilité de la démarche (1), être \n",
       "pertinente (1), la plateforme de résea u social intègre des objectifs (1), s’adapte (1), agit soit (1), difficu ltés (1), publique de responsabili (1), donc pas à (1), de servir de support à l’expression (1), aussi comme (1), la portée de la (1), aussi potentiellement haineux (1), qui imposerait une \n",
       " (1), permettrait de \n",
       "limiter (1), publique qui (1), titre que l’auteur (1), se donne (1), objectifs de poli (1), autorités (1), ce \n",
       "qui est (1), se retrouve (1), l’interface de la (1), de la LCEN (1), qui contrevien (1), lé gislateur (1), assez mal à (1), une harmonisati (1), de l’opin (1), Sauf (1), qui découlent de leur (1), communautés qui se (1), Toutefois (1), européenne nécessitent (1), l’échelle européenn e \n",
       "de mise (1), cadre de cette (1), pertinen (1), d’origine (1), capacité de chacun des Etats (1), trouve dr (1), autorités du (1), jeu la (1), appréciée (1), puisqu’un (1), html (1), d’origine se (1), capacité de cha (1), plateforme vis-à-vis (1), qui pose (1), dans \n",
       "l’ensemble (1), autorités de \n",
       "régulation (1), juridictionnel de la CJUE (1), rançais de régulation des (1), dynamique européenne actuelle pour (1), de la logique (1), qui peut fragiliser la (1), affaiblir leur (1), dynamique européenne (1), de s \n",
       "obligations (1), qu’un établissement (1), mais lorsqu’il (1), n’a pas mis (1), qui la (1), par leur (1), de s (1), d’un accompagneme (1), se de données (1), qu’un (1), • Enfin (1), procureur de tout (1), titre de la  responsabilité (1), que soit \n",
       "leur taille (1), graduelle de (1), cadre de \n",
       "régulation (1), Structuration de la (1), manipuler (1), un comportement (1), objectifs larges (1), objectifs de déf (1), qui sont (1), être pris e n (1), sociaux qui (1), bas (1), commun de la LCEN (1), autorités publique de poursuite (1), l’auteur \n",
       "du signalement (1), saisir de \n",
       "tous (1), conviendra de se (1), figurer de \n",
       " (1), qu’elle \n",
       "soit (1), réseaux sociaux s’engageraient (1), que la \n",
       "démarche (1), puissent se (1), réseau (1), l’effectivité du dialogue (1), la portée de son \n",
       "règlement (1), de l’Etat (1), de la \n",
       "responsabilisation des (1), réseaux sociau x \n",
       "dans leur globalité (1), devoir de \n",
       "diligence (1), de la description publiée (1), voir opposer (1), d’imposer (1), être exercés (1), réseaux sociaux de moindre \n",
       "envergure (1), eu ropéenne. (1), mené de travail spécifique (1), qui renforce (1), Européenne (1), rep oser (1), des autorités \n",
       "nationales face à (1), autorités nationales (1), de l’État-membre (1), du mot (1), moyen d'un (1), fini d'opérations (1), qui ont pu être utilisées (1), qui consistent (1), choix humains (1), choix de modérateurs d’accepter (1), être quotidiennes (1), détour nés de leur (1), moyen de \n",
       "rendre (1), de v (1), levée de \n",
       "voile (1), d’alimenter (1), de s \n",
       " (1), qui ont conduit (1), de données de référence (1), d’API de test (1), elle résulte d’un dialogue (1), d’appliquer la loi (1), générales d'intelligibilité (1), de la loi (1), l'écosystème qui le trouvent soit trop soit pas assez spécifique (1), contexte d'un (1), définir de s \n",
       "principes (1), Au-delà (1), juridiques autour (1), algorithmique (1), trée de l’algorithme (1), mauvais (1), Directeur de recherche en (1), l’Inria et  à (1), Collège de Fran (1), membre de l’Académie de s Sciences (1), Frédéric Potier \n",
       "Après (1), Ministère de l'Intérie (1), Côme Berbain \n",
       "Ingénieur (1), des Mines (1), Côme Berbain (1), Jean-Baptiste Gourdin \n",
       " (1), Jean-Baptiste Gourdin (1), directeur (1), Magistrat de la Cour (1), directeur de cabinet (1), coordinateur de la (1), de la mission de lutte (1), comme formateur (1), variété de secteurs (1), Armée de Terre (1), C3N. (1), Aude Signourel (1), Depuis 2017 (1), de la \n",
       "police judiciaire (1), Sacha Desmaris \n",
       "Juriste (1), Sacha Desmaris (1), Economie de l’audiovisuel (1), laquelle el (1), du Grou (1), Benoît Loutrel (1), de l’INSEE (1), Benoit Loutrel (1), de l’Autorité de régulation des (1)</td>\n",
       "    </tr>\n",
       "    <tr>\n",
       "      <th id=\"T_fd943_level0_row5\" class=\"row_heading level0 row5\" >5</th>\n",
       "      <td id=\"T_fd943_row5_col0\" class=\"data row5 col0\" >FAC</td>\n",
       "      <td id=\"T_fd943_row5_col1\" class=\"data row5 col1\" >15</td>\n",
       "      <td id=\"T_fd943_row5_col2\" class=\"data row5 col2\" >la lutte (4), la loi (2), La démarche (1), grâce (1), La lutte (1), Le (1), de loi qui organis erait le (1), elle leur (1), Les (1), La loi (1), numériques de l'État (1)</td>\n",
       "    </tr>\n",
       "    <tr>\n",
       "      <th id=\"T_fd943_level0_row6\" class=\"row_heading level0 row6\" >6</th>\n",
       "      <td id=\"T_fd943_row6_col0\" class=\"data row6 col0\" >NORP</td>\n",
       "      <td id=\"T_fd943_row6_col1\" class=\"data row6 col1\" >77</td>\n",
       "      <td id=\"T_fd943_row6_col2\" class=\"data row6 col2\" >dans (55), Dans (9), Lorsque (2), examinés (1), leu rs \n",
       "utilisateurs (1), Sans (1), Selon (1), Etats (1), comportement (1), r. (1), donc (1), xaminés (1), Orange (1), Contri (1)</td>\n",
       "    </tr>\n",
       "    <tr>\n",
       "      <th id=\"T_fd943_level0_row7\" class=\"row_heading level0 row7\" >7</th>\n",
       "      <td id=\"T_fd943_row7_col0\" class=\"data row7 col0\" >DATE</td>\n",
       "      <td id=\"T_fd943_row7_col1\" class=\"data row7 col1\" >21</td>\n",
       "      <td id=\"T_fd943_row7_col2\" class=\"data row7 col2\" >d’une (6), 2018 (5), 2017 (3), 2018-1202 (1), l'article 14 (1), 2017 et (1), 2019 (1), 2013 à 2016 (1), 2004 à 2010 (1), 2010 à 2013 (1)</td>\n",
       "    </tr>\n",
       "    <tr>\n",
       "      <th id=\"T_fd943_level0_row8\" class=\"row_heading level0 row8\" >8</th>\n",
       "      <td id=\"T_fd943_row8_col0\" class=\"data row8 col0\" >LAW</td>\n",
       "      <td id=\"T_fd943_row8_col1\" class=\"data row8 col1\" >2</td>\n",
       "      <td id=\"T_fd943_row8_col2\" class=\"data row8 col2\" >Facebook 1 (1), n’inter (1)</td>\n",
       "    </tr>\n",
       "    <tr>\n",
       "      <th id=\"T_fd943_level0_row9\" class=\"row_heading level0 row9\" >9</th>\n",
       "      <td id=\"T_fd943_row9_col0\" class=\"data row9 col0\" >LOC</td>\n",
       "      <td id=\"T_fd943_row9_col1\" class=\"data row9 col1\" >4</td>\n",
       "      <td id=\"T_fd943_row9_col2\" class=\"data row9 col2\" >sein des (1), Il est \n",
       "plus (1), Europe (1), communauté éducative (1)</td>\n",
       "    </tr>\n",
       "    <tr>\n",
       "      <th id=\"T_fd943_level0_row10\" class=\"row_heading level0 row10\" >10</th>\n",
       "      <td id=\"T_fd943_row10_col0\" class=\"data row10 col0\" >QUANTITY</td>\n",
       "      <td id=\"T_fd943_row10_col1\" class=\"data row10 col1\" >2</td>\n",
       "      <td id=\"T_fd943_row10_col2\" class=\"data row10 col2\" >2 milliards d’ut ilisateurs (1), • d’inverser (1)</td>\n",
       "    </tr>\n",
       "    <tr>\n",
       "      <th id=\"T_fd943_level0_row11\" class=\"row_heading level0 row11\" >11</th>\n",
       "      <td id=\"T_fd943_row11_col0\" class=\"data row11 col0\" >WORK_OF_ART</td>\n",
       "      <td id=\"T_fd943_row11_col1\" class=\"data row11 col1\" >4</td>\n",
       "      <td id=\"T_fd943_row11_col2\" class=\"data row11 col2\" >Le (2), l’année à venir (1), être dotée de larges pouvoirs d’accès à l’information détenue par (1)</td>\n",
       "    </tr>\n",
       "    <tr>\n",
       "      <th id=\"T_fd943_level0_row12\" class=\"row_heading level0 row12\" >12</th>\n",
       "      <td id=\"T_fd943_row12_col0\" class=\"data row12 col0\" >MONEY</td>\n",
       "      <td id=\"T_fd943_row12_col1\" class=\"data row12 col1\" >1</td>\n",
       "      <td id=\"T_fd943_row12_col2\" class=\"data row12 col2\" >2.3 Une dynamique (1)</td>\n",
       "    </tr>\n",
       "    <tr>\n",
       "      <th id=\"T_fd943_level0_row13\" class=\"row_heading level0 row13\" >13</th>\n",
       "      <td id=\"T_fd943_row13_col0\" class=\"data row13 col0\" >PERCENT</td>\n",
       "      <td id=\"T_fd943_row13_col1\" class=\"data row13 col1\" >5</td>\n",
       "      <td id=\"T_fd943_row13_col2\" class=\"data row13 col2\" >10 % (1), 20  % (1), 0 % (1), 5 % (1), 4 % (1)</td>\n",
       "    </tr>\n",
       "    <tr>\n",
       "      <th id=\"T_fd943_level0_row14\" class=\"row_heading level0 row14\" >14</th>\n",
       "      <td id=\"T_fd943_row14_col0\" class=\"data row14 col0\" >ORDINAL</td>\n",
       "      <td id=\"T_fd943_row14_col1\" class=\"data row14 col1\" >2</td>\n",
       "      <td id=\"T_fd943_row14_col2\" class=\"data row14 col2\" >second (2)</td>\n",
       "    </tr>\n",
       "  </tbody>\n",
       "</table>\n"
      ],
      "text/plain": [
       "<pandas.io.formats.style.Styler at 0x1502e3410>"
      ]
     },
     "metadata": {},
     "output_type": "display_data"
    },
    {
     "data": {
      "text/html": [
       "<hr>"
      ],
      "text/plain": [
       "<IPython.core.display.HTML object>"
      ]
     },
     "metadata": {},
     "output_type": "display_data"
    },
    {
     "data": {
      "text/html": [
       "\n",
       "            <h3>Document: Twitter est mort, réinventons-le !</h3>\n",
       "            <p><strong>Authors:</strong> </p>\n",
       "            <p><strong>Date:</strong> 2 août 2023</p>\n",
       "            "
      ],
      "text/plain": [
       "<IPython.core.display.HTML object>"
      ]
     },
     "metadata": {},
     "output_type": "display_data"
    },
    {
     "data": {
      "text/html": [
       "<style type=\"text/css\">\n",
       "#T_2fb06 th {\n",
       "  border: 1px solid black;\n",
       "  padding: 8px;\n",
       "  text-align: left;\n",
       "}\n",
       "#T_2fb06_row0_col0, #T_2fb06_row0_col1, #T_2fb06_row0_col2, #T_2fb06_row1_col0, #T_2fb06_row1_col1, #T_2fb06_row1_col2, #T_2fb06_row2_col0, #T_2fb06_row2_col1, #T_2fb06_row2_col2, #T_2fb06_row3_col0, #T_2fb06_row3_col1, #T_2fb06_row3_col2, #T_2fb06_row4_col0, #T_2fb06_row4_col1, #T_2fb06_row4_col2, #T_2fb06_row5_col0, #T_2fb06_row5_col1, #T_2fb06_row5_col2, #T_2fb06_row6_col0, #T_2fb06_row6_col1, #T_2fb06_row6_col2, #T_2fb06_row7_col0, #T_2fb06_row7_col1, #T_2fb06_row7_col2, #T_2fb06_row8_col0, #T_2fb06_row8_col1, #T_2fb06_row8_col2, #T_2fb06_row9_col0, #T_2fb06_row9_col1, #T_2fb06_row9_col2 {\n",
       "  border: 1px solid black;\n",
       "  padding: 8px;\n",
       "  text-align: left;\n",
       "}\n",
       "</style>\n",
       "<table id=\"T_2fb06\">\n",
       "  <thead>\n",
       "    <tr>\n",
       "      <th class=\"blank level0\" >&nbsp;</th>\n",
       "      <th id=\"T_2fb06_level0_col0\" class=\"col_heading level0 col0\" >Entity Type</th>\n",
       "      <th id=\"T_2fb06_level0_col1\" class=\"col_heading level0 col1\" >Count</th>\n",
       "      <th id=\"T_2fb06_level0_col2\" class=\"col_heading level0 col2\" >Unique Entities</th>\n",
       "    </tr>\n",
       "  </thead>\n",
       "  <tbody>\n",
       "    <tr>\n",
       "      <th id=\"T_2fb06_level0_row0\" class=\"row_heading level0 row0\" >0</th>\n",
       "      <td id=\"T_2fb06_row0_col0\" class=\"data row0 col0\" >ORG</td>\n",
       "      <td id=\"T_2fb06_row0_col1\" class=\"data row0 col1\" >32</td>\n",
       "      <td id=\"T_2fb06_row0_col2\" class=\"data row0 col2\" >un (8), Le Passeur (2), Shutterstock\n",
       "TRIBUNE (1), auteur de Comment (1), sauf à considérer (1), de notre (1), Boullier (1), qu’il (1), Meta (1), dans la lignée des menaces (1), sur la (1), NFT (1), privée de moyens d’information (1), cœur de Twitter (1), grâce (1), soit vers une (1), jouer leur (1), notre espace (1), qui exigent des (1), un réseau social plus éthique (1), appris de (1), de Far-West (1), WT Social (1), Les Etats (1)</td>\n",
       "    </tr>\n",
       "    <tr>\n",
       "      <th id=\"T_2fb06_level0_row1\" class=\"row_heading level0 row1\" >1</th>\n",
       "      <td id=\"T_2fb06_row1_col0\" class=\"data row1 col0\" >PERSON</td>\n",
       "      <td id=\"T_2fb06_row1_col1\" class=\"data row1 col1\" >74</td>\n",
       "      <td id=\"T_2fb06_row1_col2\" class=\"data row1 col2\" >de Twitter (5), Elon Musk (4), Twitter (3), Dominique Boullier\n",
       "- 2 (2), réseaux sociaux (2), cela de l’innovation (2), infinie (2), Musk (2), Depuis qu’il (1), Dominique Boullier (1), un réseau social alternatif qui soit réellement\n",
       " (1), Celui qui (1), Ou celui de sa (1), mais rien (1), peu près nulle (1), Threads de Meta (1), Ou mieux encore (1), laissé exploiter (1), jusqu’à la\n",
       "mise (1), Hwang (1), colossaux qui (1), de dispositifs de captation de l’attention (1), effrénés de réactivité et de viralité (1), qualités de l’application Twitter (1), de la (1), comme l’a (1), Travis Kalanick (1), PDG d’Uber (1), Les autorités de régulation doivent (1), Thierry Breton (1), Jack Dorsey (1), limités (1), Roblox (1), aussi choquée (1), aucun contre-\n",
       "pouvoir (1), bouton Retweet (1), qui (1), comme je l’ai appelé (1), de débat (1), Meta et X (1), les média (1), compris ceux de tous (1), qui préserveraient (1), peu coûteux (1), quotidien de\n",
       "tweets (1), l’utilisateur (1), doit se\n",
       "retourner (1), plateforme soit démocratique (1), Cependant (1), Mastodon (1), Jimmy Wales (1), bien commun (1), Mais l’amorçage d’un réseau (1), de se (1), Mais (1), Avec (1), communautés de Mastodon (1), Wikimedia et d’autres (1), pour leur (1), Actu\n",
       "Oeuvrer (1)</td>\n",
       "    </tr>\n",
       "    <tr>\n",
       "      <th id=\"T_2fb06_level0_row2\" class=\"row_heading level0 row2\" >2</th>\n",
       "      <td id=\"T_2fb06_row2_col0\" class=\"data row2 col0\" >DATE</td>\n",
       "      <td id=\"T_2fb06_row2_col1\" class=\"data row2 col1\" >8</td>\n",
       "      <td id=\"T_2fb06_row2_col2\" class=\"data row2 col2\" >2020 (4), d’une (2), July 23, 2023 (1), 2023 (1)</td>\n",
       "    </tr>\n",
       "    <tr>\n",
       "      <th id=\"T_2fb06_level0_row3\" class=\"row_heading level0 row3\" >3</th>\n",
       "      <td id=\"T_2fb06_row3_col0\" class=\"data row3 col0\" >CARDINAL</td>\n",
       "      <td id=\"T_2fb06_row3_col1\" class=\"data row3 col1\" >7</td>\n",
       "      <td id=\"T_2fb06_row3_col2\" class=\"data row3 col2\" >300 millions (2), 15 (1), 2023 (1), # (1), 230 (1), 5 (1)</td>\n",
       "    </tr>\n",
       "    <tr>\n",
       "      <th id=\"T_2fb06_level0_row4\" class=\"row_heading level0 row4\" >4</th>\n",
       "      <td id=\"T_2fb06_row4_col0\" class=\"data row4 col0\" >WORK_OF_ART</td>\n",
       "      <td id=\"T_2fb06_row4_col1\" class=\"data row4 col1\" >1</td>\n",
       "      <td id=\"T_2fb06_row4_col2\" class=\"data row4 col2\" >Far West (1)</td>\n",
       "    </tr>\n",
       "    <tr>\n",
       "      <th id=\"T_2fb06_level0_row5\" class=\"row_heading level0 row5\" >5</th>\n",
       "      <td id=\"T_2fb06_row5_col0\" class=\"data row5 col0\" >PRODUCT</td>\n",
       "      <td id=\"T_2fb06_row5_col1\" class=\"data row5 col1\" >4</td>\n",
       "      <td id=\"T_2fb06_row5_col2\" class=\"data row5 col2\" >Twitter (3), Solid (1)</td>\n",
       "    </tr>\n",
       "    <tr>\n",
       "      <th id=\"T_2fb06_level0_row6\" class=\"row_heading level0 row6\" >6</th>\n",
       "      <td id=\"T_2fb06_row6_col0\" class=\"data row6 col0\" >FAC</td>\n",
       "      <td id=\"T_2fb06_row6_col1\" class=\"data row6 col1\" >2</td>\n",
       "      <td id=\"T_2fb06_row6_col2\" class=\"data row6 col2\" >Le (1), Le moment est (1)</td>\n",
       "    </tr>\n",
       "    <tr>\n",
       "      <th id=\"T_2fb06_level0_row7\" class=\"row_heading level0 row7\" >7</th>\n",
       "      <td id=\"T_2fb06_row7_col0\" class=\"data row7 col0\" >GPE</td>\n",
       "      <td id=\"T_2fb06_row7_col1\" class=\"data row7 col1\" >10</td>\n",
       "      <td id=\"T_2fb06_row7_col2\" class=\"data row7 col2\" >Wikipédia (2), la base (1), faveur (1), France (1), Threads (1), Va (1), qui permettront (1), réagir (1), Mastodon (1)</td>\n",
       "    </tr>\n",
       "    <tr>\n",
       "      <th id=\"T_2fb06_level0_row8\" class=\"row_heading level0 row8\" >8</th>\n",
       "      <td id=\"T_2fb06_row8_col0\" class=\"data row8 col0\" >NORP</td>\n",
       "      <td id=\"T_2fb06_row8_col1\" class=\"data row8 col1\" >11</td>\n",
       "      <td id=\"T_2fb06_row8_col2\" class=\"data row8 col2\" >dans (8), Sans (1), combien (1), Seriez (1)</td>\n",
       "    </tr>\n",
       "    <tr>\n",
       "      <th id=\"T_2fb06_level0_row9\" class=\"row_heading level0 row9\" >9</th>\n",
       "      <td id=\"T_2fb06_row9_col0\" class=\"data row9 col0\" >QUANTITY</td>\n",
       "      <td id=\"T_2fb06_row9_col1\" class=\"data row9 col1\" >1</td>\n",
       "      <td id=\"T_2fb06_row9_col2\" class=\"data row9 col2\" >Decency Act américain de 1996 (1)</td>\n",
       "    </tr>\n",
       "  </tbody>\n",
       "</table>\n"
      ],
      "text/plain": [
       "<pandas.io.formats.style.Styler at 0x1569f1f90>"
      ]
     },
     "metadata": {},
     "output_type": "display_data"
    },
    {
     "data": {
      "text/html": [
       "<hr>"
      ],
      "text/plain": [
       "<IPython.core.display.HTML object>"
      ]
     },
     "metadata": {},
     "output_type": "display_data"
    },
    {
     "data": {
      "text/html": [
       "\n",
       "            <h3>Document: Zombie Twitter Has Arrived</h3>\n",
       "            <p><strong>Authors:</strong> ; </p>\n",
       "            <p><strong>Date:</strong> 2023-07-06</p>\n",
       "            "
      ],
      "text/plain": [
       "<IPython.core.display.HTML object>"
      ]
     },
     "metadata": {},
     "output_type": "display_data"
    },
    {
     "data": {
      "text/html": [
       "<style type=\"text/css\">\n",
       "#T_9c205 th {\n",
       "  border: 1px solid black;\n",
       "  padding: 8px;\n",
       "  text-align: left;\n",
       "}\n",
       "#T_9c205_row0_col0, #T_9c205_row0_col1, #T_9c205_row0_col2, #T_9c205_row1_col0, #T_9c205_row1_col1, #T_9c205_row1_col2, #T_9c205_row2_col0, #T_9c205_row2_col1, #T_9c205_row2_col2, #T_9c205_row3_col0, #T_9c205_row3_col1, #T_9c205_row3_col2, #T_9c205_row4_col0, #T_9c205_row4_col1, #T_9c205_row4_col2, #T_9c205_row5_col0, #T_9c205_row5_col1, #T_9c205_row5_col2, #T_9c205_row6_col0, #T_9c205_row6_col1, #T_9c205_row6_col2, #T_9c205_row7_col0, #T_9c205_row7_col1, #T_9c205_row7_col2, #T_9c205_row8_col0, #T_9c205_row8_col1, #T_9c205_row8_col2, #T_9c205_row9_col0, #T_9c205_row9_col1, #T_9c205_row9_col2 {\n",
       "  border: 1px solid black;\n",
       "  padding: 8px;\n",
       "  text-align: left;\n",
       "}\n",
       "</style>\n",
       "<table id=\"T_9c205\">\n",
       "  <thead>\n",
       "    <tr>\n",
       "      <th class=\"blank level0\" >&nbsp;</th>\n",
       "      <th id=\"T_9c205_level0_col0\" class=\"col_heading level0 col0\" >Entity Type</th>\n",
       "      <th id=\"T_9c205_level0_col1\" class=\"col_heading level0 col1\" >Count</th>\n",
       "      <th id=\"T_9c205_level0_col2\" class=\"col_heading level0 col2\" >Unique Entities</th>\n",
       "    </tr>\n",
       "  </thead>\n",
       "  <tbody>\n",
       "    <tr>\n",
       "      <th id=\"T_9c205_level0_row0\" class=\"row_heading level0 row0\" >0</th>\n",
       "      <td id=\"T_9c205_row0_col0\" class=\"data row0 col0\" >PERSON</td>\n",
       "      <td id=\"T_9c205_row0_col1\" class=\"data row0 col1\" >22</td>\n",
       "      <td id=\"T_9c205_row0_col2\" class=\"data row0 col2\" >Twitter (9), Zuckerberg (5), Behold (2), https://www.theatlantic.com/technology/archive/2023/07/meta-threads-social-media-platform-\n",
       "death-rebirth/674638/ (1), Jack\tDorsey (1), Mark (1), Cght\tMusk (1), MrBeast (1), Cre (1)</td>\n",
       "    </tr>\n",
       "    <tr>\n",
       "      <th id=\"T_9c205_level0_row1\" class=\"row_heading level0 row1\" >1</th>\n",
       "      <td id=\"T_9c205_row1_col0\" class=\"data row1 col0\" >NORP</td>\n",
       "      <td id=\"T_9c205_row1_col1\" class=\"data row1 col1\" >1</td>\n",
       "      <td id=\"T_9c205_row1_col2\" class=\"data row1 col2\" >IwAR2u52G9TKpy6yTVggsJ8kglTs3XlearZTZzqY5otE1U6saHRQegUTC8r (1)</td>\n",
       "    </tr>\n",
       "    <tr>\n",
       "      <th id=\"T_9c205_level0_row2\" class=\"row_heading level0 row2\" >2</th>\n",
       "      <td id=\"T_9c205_row2_col0\" class=\"data row2 col0\" >WORK_OF_ART</td>\n",
       "      <td id=\"T_9c205_row2_col1\" class=\"data row2 col1\" >2</td>\n",
       "      <td id=\"T_9c205_row2_col2\" class=\"data row2 col2\" >Threads\tProves (2)</td>\n",
       "    </tr>\n",
       "    <tr>\n",
       "      <th id=\"T_9c205_level0_row3\" class=\"row_heading level0 row3\" >3</th>\n",
       "      <td id=\"T_9c205_row3_col0\" class=\"data row3 col0\" >LOC</td>\n",
       "      <td id=\"T_9c205_row3_col1\" class=\"data row3 col1\" >2</td>\n",
       "      <td id=\"T_9c205_row3_col2\" class=\"data row3 col2\" >Atlantic (2)</td>\n",
       "    </tr>\n",
       "    <tr>\n",
       "      <th id=\"T_9c205_level0_row4\" class=\"row_heading level0 row4\" >4</th>\n",
       "      <td id=\"T_9c205_row4_col0\" class=\"data row4 col0\" >GPE</td>\n",
       "      <td id=\"T_9c205_row4_col1\" class=\"data row4 col1\" >22</td>\n",
       "      <td id=\"T_9c205_row4_col2\" class=\"data row4 col2\" >Threads (12), Mastodon (3), Bluesky (3), Smartphones (2), LinkedIn (1), Cring (1)</td>\n",
       "    </tr>\n",
       "    <tr>\n",
       "      <th id=\"T_9c205_level0_row5\" class=\"row_heading level0 row5\" >5</th>\n",
       "      <td id=\"T_9c205_row5_col0\" class=\"data row5 col0\" >DATE</td>\n",
       "      <td id=\"T_9c205_row5_col1\" class=\"data row5 col1\" >5</td>\n",
       "      <td id=\"T_9c205_row5_col2\" class=\"data row5 col2\" >2006 (1), last\tyear (1), 10\tmonths\tago (1), two\tmonths\tago (1), today (1)</td>\n",
       "    </tr>\n",
       "    <tr>\n",
       "      <th id=\"T_9c205_level0_row6\" class=\"row_heading level0 row6\" >6</th>\n",
       "      <td id=\"T_9c205_row6_col0\" class=\"data row6 col0\" >PRODUCT</td>\n",
       "      <td id=\"T_9c205_row6_col1\" class=\"data row6 col1\" >12</td>\n",
       "      <td id=\"T_9c205_row6_col2\" class=\"data row6 col2\" >Twitter (9), eOects (3)</td>\n",
       "    </tr>\n",
       "    <tr>\n",
       "      <th id=\"T_9c205_level0_row7\" class=\"row_heading level0 row7\" >7</th>\n",
       "      <td id=\"T_9c205_row7_col0\" class=\"data row7 col0\" >ORG</td>\n",
       "      <td id=\"T_9c205_row7_col1\" class=\"data row7 col1\" >9</td>\n",
       "      <td id=\"T_9c205_row7_col2\" class=\"data row7 col2\" >Meta (2), Instagram (1), WhatsApp (1), Cngertips (1), Starbucks (1), Crst (1), Warzel (1), Galaxy\tBrain (1)</td>\n",
       "    </tr>\n",
       "    <tr>\n",
       "      <th id=\"T_9c205_level0_row8\" class=\"row_heading level0 row8\" >8</th>\n",
       "      <td id=\"T_9c205_row8_col0\" class=\"data row8 col0\" >CARDINAL</td>\n",
       "      <td id=\"T_9c205_row8_col1\" class=\"data row8 col1\" >11</td>\n",
       "      <td id=\"T_9c205_row8_col2\" class=\"data row8 col2\" >two (2), hundreds (2), 2\tbillion (1), One (1), thousands (1), 1 (1), 30\tmillion (1), 1\n",
       "million (1), 750,000 (1)</td>\n",
       "    </tr>\n",
       "    <tr>\n",
       "      <th id=\"T_9c205_level0_row9\" class=\"row_heading level0 row9\" >9</th>\n",
       "      <td id=\"T_9c205_row9_col0\" class=\"data row9 col0\" >TIME</td>\n",
       "      <td id=\"T_9c205_row9_col1\" class=\"data row9 col1\" >1</td>\n",
       "      <td id=\"T_9c205_row9_col2\" class=\"data row9 col2\" >Last\tnight (1)</td>\n",
       "    </tr>\n",
       "  </tbody>\n",
       "</table>\n"
      ],
      "text/plain": [
       "<pandas.io.formats.style.Styler at 0x14f669b10>"
      ]
     },
     "metadata": {},
     "output_type": "display_data"
    },
    {
     "data": {
      "text/html": [
       "<hr>"
      ],
      "text/plain": [
       "<IPython.core.display.HTML object>"
      ]
     },
     "metadata": {},
     "output_type": "display_data"
    },
    {
     "data": {
      "text/html": [
       "\n",
       "            <h3>Document: Sur les traces numériques de l’individu</h3>\n",
       "            <p><strong>Authors:</strong> </p>\n",
       "            <p><strong>Date:</strong> </p>\n",
       "            "
      ],
      "text/plain": [
       "<IPython.core.display.HTML object>"
      ]
     },
     "metadata": {},
     "output_type": "display_data"
    },
    {
     "data": {
      "text/html": [
       "<style type=\"text/css\">\n",
       "#T_ee496 th {\n",
       "  border: 1px solid black;\n",
       "  padding: 8px;\n",
       "  text-align: left;\n",
       "}\n",
       "#T_ee496_row0_col0, #T_ee496_row0_col1, #T_ee496_row0_col2, #T_ee496_row1_col0, #T_ee496_row1_col1, #T_ee496_row1_col2, #T_ee496_row2_col0, #T_ee496_row2_col1, #T_ee496_row2_col2, #T_ee496_row3_col0, #T_ee496_row3_col1, #T_ee496_row3_col2, #T_ee496_row4_col0, #T_ee496_row4_col1, #T_ee496_row4_col2, #T_ee496_row5_col0, #T_ee496_row5_col1, #T_ee496_row5_col2, #T_ee496_row6_col0, #T_ee496_row6_col1, #T_ee496_row6_col2, #T_ee496_row7_col0, #T_ee496_row7_col1, #T_ee496_row7_col2, #T_ee496_row8_col0, #T_ee496_row8_col1, #T_ee496_row8_col2, #T_ee496_row9_col0, #T_ee496_row9_col1, #T_ee496_row9_col2, #T_ee496_row10_col0, #T_ee496_row10_col1, #T_ee496_row10_col2, #T_ee496_row11_col0, #T_ee496_row11_col1, #T_ee496_row11_col2, #T_ee496_row12_col0, #T_ee496_row12_col1, #T_ee496_row12_col2, #T_ee496_row13_col0, #T_ee496_row13_col1, #T_ee496_row13_col2, #T_ee496_row14_col0, #T_ee496_row14_col1, #T_ee496_row14_col2 {\n",
       "  border: 1px solid black;\n",
       "  padding: 8px;\n",
       "  text-align: left;\n",
       "}\n",
       "</style>\n",
       "<table id=\"T_ee496\">\n",
       "  <thead>\n",
       "    <tr>\n",
       "      <th class=\"blank level0\" >&nbsp;</th>\n",
       "      <th id=\"T_ee496_level0_col0\" class=\"col_heading level0 col0\" >Entity Type</th>\n",
       "      <th id=\"T_ee496_level0_col1\" class=\"col_heading level0 col1\" >Count</th>\n",
       "      <th id=\"T_ee496_level0_col2\" class=\"col_heading level0 col2\" >Unique Entities</th>\n",
       "    </tr>\n",
       "  </thead>\n",
       "  <tbody>\n",
       "    <tr>\n",
       "      <th id=\"T_ee496_level0_row0\" class=\"row_heading level0 row0\" >0</th>\n",
       "      <td id=\"T_ee496_row0_col0\" class=\"data row0 col0\" >ORG</td>\n",
       "      <td id=\"T_ee496_row0_col1\" class=\"data row0 col1\" >463</td>\n",
       "      <td id=\"T_ee496_row0_col2\" class=\"data row0 col2\" >un (50), Google (17), Beaude (12), de la (11), Amazon (8), qu’il (7), Par (5), de sa (4), Lazer (4), Barabasi (4), être à (3), la physique (3), Un (3), de la physique (3), Big Data (3), Google et (2), une (2), Le corps (2), par la (2), dans la (2), dans leur (2), sur la (2), YouTube (2), Qu’il s’agisse (2), dans sa (2), Quetelet (2), Comte (2), Rouvroy (2), Lussault et Lévy (2), Belin (2), consulté (2), Harvard University (2), Big Data & Society (2), Beaude - Sur (1), dans Calbérac (1), Yann, Olivier Lazzarotti (1), Carte (1), Colloque de Cerisy (1), dans la trace matérielle (1), contrôle étroit des médias (1), de n’y (1), cœur du débat politique (1), l’ouvertured’Internet à l’ensemble de la (1), cœur même de son (1), d’adapterson (1), l’individu à la trace (1), Parmi (1), laquelle il serait pertinent de (1), qui s’est (1), AugusteComte (1), la téléphonie mobile (1), la trace (1), qui ne s’inscrivent (1), la hiérarchie (1), cela de mieux (1), contrôle de plus (1), symptomatique de cette fiction de lapage (1), Il déplorait ce corps (1), un lieu (1), notre corps (1), qui ne devrait jamais être négligée (1), accueille(Levy (1), chez Foucault (1), n’a de sens que par (1), de la même illusion et des mêmesprésupposés matérialistes (1), notre capacité à (1), leXVIIe (1), Malgré (1), la propension de l’humanité à s’organiser (1), sur la pensée relationnelle del’espace (1), et de la (1), situées et il n’y (1), cela une problématique fondamentale (1), Il (1), de la révolutionindustrielle (1), Google et Facebook (1), Baidu, Tencent (1), Apple (1), l’interopérabilité à l’échelle (1), de la téléphonie mobile (1), dans un (1), WhatsApp (1), pièce (1), matérielles qui avaitvocation à faire circuler de l’information (1), d’exploiter (1), être l’espace privilégié (1), qui n’est autreque (1), être appliquée à lalogique plus (1), de la maitrise de l’énergie (1), limite à de l’énergie (1), la synchôrisationmondiale de l’information (1), Google Search (1), Lemodèle (1), qui (1), Comprendre (1), potentiel de traçabilité (1), de l’individuLe potentiel de traçabilité des (1), De la gouvernance de Wikipédia (1), la généralisation de leur (1), être restituées sousd’autres formes (1), cœur de leur (1), notre attention (1), mais plutôt à (1), près de leur (1), nos (1), Facebook (1), contribua à la prise de conscience dupouvoir que détiennent à (1), de Fox New (1), The Guardian ou Libération (1), l’élection de Trump (1), leur traitement (1), cœur de l’activité de (1), Ainsi (1), c’est la relation même (1), un individu qui peutêtre discutée (1), Merzeau (1), Changeux (1), la temporalité de la (1), de ce qui n’est plus (1), sur l’acte dénoncé (1), Savoir (1), de la connaissance fine de sonenvironnement (1), de leurs corps (1), n’a de sens que (1), dans de tellescirconstances (1), de la politique profondément scientiste (1), d’invariants ne saurait (1), la moindre parole (1), de la force devenue ultime (1), lacapacité de traitement informatique de (1), mal à reconnaitre notre propre histoire (1), être à la sobriété de l’expression (1), qui évitel’opposition épuisée (1), recul sur les cas (1), la DMI (1), d’informaticiensqui (1), qui ne disent jamais (1), qui s’expriment par cette (1), la simplicité de (1), dans un zoo (1), Avec la quantité (1), META Group (1), Laney (1), seuil qui marquerait une (1), surla pluralité (1), Qu’il s’agisse de géolocalisations (1), une telle extrémité (1), cœur des suggestions de Spotify (1), qui convoque sans cesse (1), dans la physique (1), CDC (1), Centers for DiseaseControl and Prevention (1), Google Flu Trends (1), l’équipe de Google (1), cœur de l’introduction de l’ouvrage de (1), ViktorMayer (1), notre façon de vivre (1), sur la quantité (1), Butler (1), qui était bien entendu (1), fait de plusen plus (1), de la fréquentation habituelle de cetronçon (1), Il s’agit (1), cours de leur (1), qui ne sauraient (1), relatif à (1), genre oule lieu de résidence (1), d’être (1), de la réalité (1), social à partir del’observation de (1), fait trop (1), Pris (1), un entrelacs derelations innombrables (1), dans la perspective de Leibniz (1), qui la (1), dans la même (1), corps de l'univers et ceux (1), Laplace (1), l’égard de l’intelligence (1), avec cet espoir (1), était la (1), nouveau (1), qui brille par (1), sa capacité à rendre compte de l’organisation des entitésmatérielles avec de plus en plus de finesse (1), qui ne (1), dans l’organisation des innombrables (1), qui s’appliquerait à (1), ce qui advient (1), contexte des sciences (1), sur de plus (1), la statistiqueserait destinée (1), concevoir unephilosophie plus (1), s’appuyant sur de nombreusesrecherches (1), de l’interaction de myriades de (1), éprouvons à (1), nos devenirs (1), l’auteur (1), n’accordant (1), sur la gouvernementalitéalgorithmique (1), par de moins (1), la gouvernementalité algorithmique (1), sur la faiblesse de (1), la critique (1), ONeil (1), sur la base des (1), critiquaitpas sa (1), de la criminalité par l’acte commis aurait-elle moins (1), critiques’inscrit (1), comme de la naturalisation de leurs (1), la même (1), sérieuxle (1), domaine de la (1), qui ne nous dirait rien de plus sur lesindividus (1), CNBC (1), compte de notre (1), la partialité de notre (1), notre capacité (1), Cette (1), nom de son auteur (1), qui dénonçait la faiblesse des (1), Dans de telles circonstances (1), chercheur ou à la perturbation del’environnement étudié (1), peu à la dolomite d’être (1), Watts (1), sur la complexité supérieure des sciences (1), l’interactivité (1), ceux qui considèrent (1), de la physique pour (1), pourtantqu’accroitre sa (1), la physique et (1), Sokal (1), Assurées de l’avènement des sciences (1), contrôle dela (1), necesse de s’étendre (1), sontjamais assez (1), la multitude des relations qui l’animent (1), pour communiquer avec plus de précision (1), la publicité (1), elle dénonceaussi la (1), Lorsque Goldman Sachs (1), UBS (1), Brésil (1), doit beaucoup à leur (1), de la singularité des sciences (1), fait de nos (1), cela leur (1), dans sa capacité à organiser automatiquement la coexistence (1), conformer à desattentes (1), l’individu et la société (1), qui sont (1), suivre l’individu à latrace (1), soit à l’échelle des (1), ultime de la coexistence et de la (1), consulté le 17mars 2018.• Barabási (1), The New Science of Networks (1), Penguin Publishing Group.• Barabási (1), Network Science (1), Cambridge University (1), Géo-Regards (1), XLIX (1), Benbouzid (1), Bilel et Cardon (1), Dominique (1), Communication & Society (1), Les Liaisons (1), Pallab (1), consulté le 1 (1), V. Dalmont.• Dangeti, Pratap (1), Machine Learning (1), Packt Publishing.• Dastin (1), AI (1), Martin (1), The Social Construction of What (1), Harvard UniversityPress.• (1), Institute of Education.• Heinich (1), Warner (1), 3D Data Management: Controlling Data Volume (1), andVariety (1), META Group Research Note (1), RaisonPratique (1), Candea (1), The Social AfterGabriel Tarde: Debates and Assessments (1), Google Flu (1), The Reinvention of Social Research (1), PhysicalGeography (1), the Institute of British Geographers (1), dans la théorielittéraire (1), O'Neil (1), Crown (1), UpGuard,26 (1), Eli (1), The Black Box Society (1), Social Physics: How Good Ideas Spread-The Lessons (1), NewScience (1), The Penguin Press (1), The Poverty of Historicism, (1), Digital Methods (1), MIT (1), Multitudes (1), Gouvernementalité (1), Antoinette (1), consulté le (1), Nicholas et (1), Taleb (1), Random House Publishing (1), Culture & Society (1), Anton (1), Cf. Department of Justice (1), Office (1), la consommation des centres de données (1), dans de très (1), de l’activité d’Apple.↩9 (1), lorsque la mêmeentreprise (1), d’autant d’information (1), DeepMind Health (1), Guardian (1), la pratique qui consiste à utiliser (1), point de susciter de plus en plus de défiance (1), https://www.google.org/flutrends/about/↩18 (1), l’approche (1), La démarche de Quetelet (1), FuturICT (1), un projet de simulation du cerveau humain lui aété préféré (1)</td>\n",
       "    </tr>\n",
       "    <tr>\n",
       "      <th id=\"T_ee496_level0_row1\" class=\"row_heading level0 row1\" >1</th>\n",
       "      <td id=\"T_ee496_row1_col0\" class=\"data row1 col0\" >GPE</td>\n",
       "      <td id=\"T_ee496_row1_col1\" class=\"data row1 col1\" >171</td>\n",
       "      <td id=\"T_ee496_row1_col2\" class=\"data row1 col2\" >Paris (18), New York (9), la (7), Boris (6), London (6), Cambridge (6), Cardon (5), Wikipédia (4), qu’il (4), Pentland (4), ce point (3), qui (3), Dominique (3), Bruno (3), Netflix (2), Spotify (2), qu’à (2), revanche (2), l’opposé (2), Pariser (2), Pasquale (2), Merzeau (2), Hacking (2), Piette (2), n’y (2), Solove (2), Augustin (2), Franco (2), la fin (1), qui s’actualise (1), qui est (1), situé (1), Casilli (1), Monde (1), la route (1), La messagerie (1), la télévision (1), numériques (1), la collecte (1), Partielles (1), la rigidité (1), être (1), la démarche (1), Tornberg (1), la prudence (1), la vélocité (1), ce qui prévalait il (1), Lesapproches (1), ce qui est (1), la tentation de Laplace (1), la biologie (1), Weber (1), sein du (1), la chute (1), Deleuze (1), procède (1), la récidive (1), Callon (1), Mastercard (1), Beaude (1), Dictionnaire de la (1), Crawford (1), Antonio (1), Birmingham (1), Jérôme (1), Virginia (1), pp. (1), Anthony (1), Berkeley (1), Charles (1), UK (1), Practice (1), Harvey (1), Nathalie (1), Boston (1), Houghton Mifflin (1), Hermes (1), al. (1), Critique (1), ThePenguin (1), Lormont (1), André (1), Qu (1), Zehui (1), Blumm (1), Tommaso (1), Chardronnet (1), U.S. (1), France (1), Cambridge Analytica (1)</td>\n",
       "    </tr>\n",
       "    <tr>\n",
       "      <th id=\"T_ee496_level0_row2\" class=\"row_heading level0 row2\" >2</th>\n",
       "      <td id=\"T_ee496_row2_col0\" class=\"data row2 col0\" >PERSON</td>\n",
       "      <td id=\"T_ee496_row2_col1\" class=\"data row2 col1\" >610</td>\n",
       "      <td id=\"T_ee496_row2_col2\" class=\"data row2 col2\" >qui (13), Aussi (10), de la (8), mais aussi (7), Latour (6), Mais (6), La (6), de se (6), Rouvroy (6), Monde (5), ce qui (5), Tarde (5), Albert-László (5), ce qui est (4), Comte (4), Jensen (4), Michel Foucault (3), Levy (3), Lévy (3), Citton (3), de ce qui n’est plus (3), Chris Anderson (3), Anderson (3), bien décrite (3), Réseaux (3), Jacques (3), Brexit (2), mais la (2), Boullier (2), Bourdieu (2), entités qui (2), de Google (2), De (2), Bien (2), tentés d’y (2), d’autant plus (2), Mayer Schonberger (2), ceux qui (2), Ian Hacking (2), Albert Piette (2), de l’astronomie (2), qui se (2), lois qui (2), Karl Popper (2), Si Amazon (2), Michel (2), Yves (2), Kitchin (2), Rob (2), David et al. (2), Antoinette et Berns (2), Thomas (2), Duncan (2), Jacques Lévy (1), Michel Lussaul (1), dir. (1), Hermann Éditeurs (1), de sa (1), Paul Ricœur (1), Ce qui (1), Jean-PierreChangeux (1), Jacob (1), d’Edward Snowden (1), de Donald Trump (1), Twitter (1), mais qui sont (1), complexité qui caractérise (1), ainsiconvenu de rappeler (1), aussi lemoindre de nos (1), l’ampleur de cette (1), pour de telles données (1), de la pertinence (1), qui exige de (1), la puissance (1), mais aussi leslimites (1), soit finalement (1), relativementinédite de saisir (1), Gabriel Tarde (1), être saisie (1), l’actualité se (1), bulles de filtre (1), laperformativité de tels dispositifs encourageant à (1), Être au MondeEn 1966 (1), corps4 (1), fil deson exposé (1), de vue (1), mais elle est (1), de vue existentiel (1), du Monde qui (1), Mauss et (1), altérité spécifique (1), Monde qui (1), lien qui s’établit (1), L’erreur (1), mais faut-il à (1), Avec (1), jusqu’à ce (1), peu avisé de nepas (1), La récursivité de cette (1), jamais dans (1), Peut-être (1), etpositionnelle de l’espace (1), être cerésidu (1), réalité qui (1), prédisposa (1), aucun doute (1), de l’espace (1), Massey (1), Mais comme (1), Michel Serres (1), connaisseur de la pensée de Leibniz (1), Liebniz (1), ce qui peut être considéré comme (1), Augustin Berque (1), l’existence du lieu (1), platonicienne de la chôra (1), qui pose (1), lieucomme (1), réalités qui le constitue(Berque (1), l’altérité qui (1), notre environnementmatériel (1), qui singularise de plus (1), homogénéité somme toute limitée (1), de s’attarder (1), de laquelle (1), de l’interactionsociale ont profondément changé (1), l’audiovisuel (1), mais aussi plus (1), toutau long (1), àl’échelle de la planète (1), de la télévision (1), Messenger (1), ce qui pourrait (1), Si la synchronisation à l’échelle (1), de la planète (1), mais il (1), réalités matérielles (1), réalités (1), qui ne peuvent être (1), peu à peu despratiques plus (1), La VOD (1), aucœur de l’économie (1), aussi bien être (1), l’offre (1), mais aussi la condition de leur (1), l’ampleur (1), se situe dès (1), mais dans (1), ce qui autorise la (1), ce qui circule (1), Dans de telles (1), Google Map (1), Google Docs (1), près de la (1), coût de (1), associé (1), qui opère de plus (1), peu à peu de la perception (1), cadre de lapublicité (1), mais la norme (1), Yves Citton (1), del’économie de l’attention à (1), de nouveaux (1), l’économie de l’attentionet l’économie (1), Sébastien Missoffe (1), directeur (1), de GoogleFrance (1), d’économie de l’intention (1), qui lui (1), ladéclinaison du (1), n’autorisant (1), pas autour de médias qui tiennent (1), mais autour de médias (1), Breitbart (1), n’avaient pas saisil’ampleur (1), qui leur échappait de par leurs (1), de YouTube (1), de Spotify (1), présent sipersonnelle (1), peu à peu cette (1), FrankPasquale (1), leur octroyer (1), Maitriser la (1), Saisir ce qui (1), que de plus (1), modalités qui engagent àdistinguer (1), Milad Doueihi (1), qui n’a (1), l’ampleur de leur (1), Jean-Pierre Changeux (1), Toute (1), qui participent de nos (1), dispositif qui lui est (1), qu’elle supposede (1), ce qui n’est pas (1), mais aussisur des dynamiques (1), volonté de (1), de parler de« (1), de qualités (1), de ladonnée (1), dans ce (1), comme celle de l’or (1), troistemporalités de la trace (1), d’y (1), Être à ce point (1), d’observer de nouveaux (1), ce qui vient (1), ce qui n’est plus (1), de notre passé (1), Forceest de constater (1), mais toujours (1), du sens à des (1), Franco Moretti (1), l’éventuelle singularité (1), conceptsdepuis peu ( (1), humanités numériques (1), Richard Rogers(Rogers (1), ce qui n’a (1), de ce qui n’est (1), comme l’API de Twitter (1), de l’exhaustivité de ce à quoi (1), de vue de leur auteur (1), Que (1), de la pratiqueou de l’environnement des (1), Marres (1), bien être (1), boyd (1), L’actualité (1), du domaine (1), ce qui relève (1), poussé (1), cadre de Google Map (1), celle de leurs (1), souventpartiale de notre passé (1), Avec de tellesquantités de données (1), déterminismenaturelle qui (1), d’Albert-László (1), de l’analyse de réseaux (1), sur la seule corrélation (1), disposer de deuxsemaines (1), l’année suivante (1), d’être abandonné (1), Kenneth Cukier (1), qui allait (1), aussi théoriquement(Taleb (1), l’ambiguïté (1), de données et (1), comportement de son conducteur (1), Avec Bruno Latour (1), théorique de Tarde (1), près de lasociété (1), d’émergence de singularités (1), l’abandon de la (1), organisée autour de catégories stables etd’une (1), Benbouzid (1), Elle questionne plus (1), l’inéluctabilitéà la (1), desentités reliées (1), Peter et (1), Anton Törnbergsuggèrent (1), Tornberg (1), du relationnisme (1), d’être qui (1), mais puisé (1), l'avenir comme (1), d’un candidat (1), qui fonda (1), positivisme d’AugusteComte (1), qui firent (1), Après l’astronomie (1), Ducan Watts (1), aussi se soustraire à (1), Watts:2014).C’est aussi la (1), démarche de physiciens qui (1), mais sans lamoindre (1), qu’à Durkheim (1), Pour Pentland (1), Karl Marx (1), qui ont largement discuté (1), Alex Pentland (1), Albert-László Barabási (1), cœur de son (1), Dans TheFormula (1), lois scientifiques (1), de Martin Luther King (1), parEinstein (1), Song (1), Pour Barabási (1), qui constitue (1), ce qui sera (1), depesanteur comme de pensée et (1), mystèrede leur (1), fragilité de tels (1), de Tarde soit mobilisée contre celle de Durkheim (1), Comme (1), enclin (1), qu’un momentviendra (1), statisticien pourra (1), ce qui précède (1), qui seraitparticulièrement marquée chez (1), changement qui (1), Max Weber (1), Georg Simmel (1), Werner Heisenberg (1), Mais qui (1), ce qui n’est pas clair (1), Heisenberg (1), 213).Pablo Jensen (1), bien (1), John Law (1), du formalisme (1), complexité dans (1), rappelle dès (1), de Queteletqui (1), James Clerk Maxwell (1), Mais la puissante (1), de l’humain (1), apparente qui (1), d’intérêt (1), sa descriptionne (1), bien cela (1), Dangeti (1), ne se répète jamais.2.4 (1), n’a (1), Antoinette Rouvroy (1), Thomas Berns (1), l’importance de la (1), des méta-droits (1), formesde socialités (1), Bruno Latour (1), Jérôme Denis(Denis (1), actualités de leurs (1), Berns (1), cela qui (1), cadre de l’évaluation du (1), Lagouvernementalité algorithmique (1), qu’un de leurs (1), de ce point de vue (1), rien de l’avenir (1), Au même titre (1), gouvernementalité algorithmique (1), pas se méprendre lorsque (1), aussi ce (1), donc de mieux saisir (1), de la coexistence (1), mais une (1), qui accueille (1), jamais égalespar ailleurs (1), La faiblesse de la physique (1), mais aussi de lapsychologie (1), reste de leur environnement (1), Au-delà deleur capacité à (1), qu’il (1), de la vieprivée (1), de bien plus (1), Eric Schmidt (1), Googlene (1), Cettesensibilité à l’image de (1), Au-delà de la (1), notre environnement (1), de ce quidevrait être (1), l’historicité (1), rappelle (1), prédictionsur ce qui est (1), bien ancienne (1), de la prédiction sur (1), qui tua son (1), qui annonçait cet acte (1), qui lui valutd’être abandonné (1), par la (1), Goodhart (1), comme la loi de Goodhart (1), leurgenre soit interactif (1), Michel Callon (1), comportement de ces (1), Si la pensée (1), comportement de ceux qui la (1), comportement de la (1), Si Comte (1), ceux qui négligent (1), propre de l’humain (1), Lorsque Antoinette Rouvroy (1), qu’un être (1), de la Coupe du Monde de football (1), del’équipe de Belgique (1), de la Corée du Sud ou de la Croatie (1), lorsqu’un simple (1), mais aussiune méconnaissance (1), l’égard de la (1), naturel qui (1), La Chine (1), multidimensionnelle orientée (1), qui n’ont (1), qui supposerait (1), qui devrait (1), présente cet impératif (1), mais aussi cette ambiguïté (1), l’acteur (1), l’individu et (1), Chris (1), Press.• Barabási (1), Formula (1), Pan Macmillan.• Beaude (1), Romele (1), Tracesnumériques (1), Sociologie (1), Revuefrançaise de science (1), Belin.• Berque (1), Kate (1), L'Annéesociologique (1), Seuil.• Casilli (1), Editions La (1), Vinton et Ghosh (1), Vint Cerf (1), La Découverte.• Citton (1), Jeffrey (1), Reuters.• Denis (1), Gilles (1), Presses Universitaires de France.• Eubanks (1), Press.• Fraiberger (1), Samuel P. et al. (1), Ian (1), David (1), Marx (1), Revue duMAUSS (1), Row.• Jensen (1), Pierre-Simon de (1), Essai (1), Bachelier.• Latour (1), de Boa Vista (1), Presses de la Fondation (1), Belin.• Marres (1), Noortje (1), Press.• Massey (1), Victor et (1), Kenneth (1), Merzeau (1), Louise (1), Jean-Baptiste (1), Distant Reading (1), Edgar (1), Cathy (1), Archetype.• O'Sullivan (1), Dan (1), Press.• Pasquale, Frank (1), The Secret Algorithms (1), Press.• Pentland (1), Alex (1), • Piette (1), Albert (1), Correspondance Leibniz-Clarke (1), Richard (1), Press.• Rouvroy (1), la donnée personnelle (1), de la personne (1), Ryan (1), Daniel (1), Press.• Song (1), Chaoming (1), Nassim Nicholas (1), Group.• Tarde (1), Gabriel (1), Törnberg (1), Actes Futur en Seine (1), Shut Down (1), se distancie de la critique de l’idéalisme (1), qui relève d’un autre débat (1), secteur qui (1), qui sera (1), La vente d’ordinateur (1), retour de Steve Job à la (1), autour de (1), domaine de la (1), Richard Rogers (1), prononcé (1), Vinton Cerf (1), enquête de Numérama (1), la moyenne (1), de capter le plus de données (1)</td>\n",
       "    </tr>\n",
       "    <tr>\n",
       "      <th id=\"T_ee496_level0_row3\" class=\"row_heading level0 row3\" >3</th>\n",
       "      <td id=\"T_ee496_row3_col0\" class=\"data row3 col0\" >DATE</td>\n",
       "      <td id=\"T_ee496_row3_col1\" class=\"data row3 col1\" >225</td>\n",
       "      <td id=\"T_ee496_row3_col2\" class=\"data row3 col2\" >2018 (22), 2014 (17), 2013 (15), 2010 (15), 2015 (15), 2017 (12), 2012 (12), 2009 (11), 2016 (10), 1999 (7), 2008 (7), 1994 (6), 2011 (5), 5 (5), 2003 (4), 2001 (4), 2002 (4), 1844 (3), 1998 (2), 2006 (2), 2000 (2), d’une (2), 1971 (2), 1993 (2), 1986 (2), 1984 (2), 2019 (1), Levy, 1994 (1), Giddens, 1984 (1), 2015).L’attrait (1), dès 2008 (1), 17h (1), Levy, 1996 (1), 161).Néanmoins (1), 1825p (1), 2013).Animée (1), social(Pentland, 2014 (1), 97-98 (1), 13).Or (1), 46 (1), 7 (1), 65 (1), février 2015 (1), 1968 (1), 6416 (1), 2004 (1), 47 (1), 1825 (1), 1203 (1), 1996 (1), Doreen, 1999 (1), 24 (1), 6014 (1), 1990 (1), 1991 (1), 5968 (1), 1018 (1), 89-106.• (1), 2018. (1), 7 décembre 1966 (1), 1997 (1)</td>\n",
       "    </tr>\n",
       "    <tr>\n",
       "      <th id=\"T_ee496_level0_row4\" class=\"row_heading level0 row4\" >4</th>\n",
       "      <td id=\"T_ee496_row4_col0\" class=\"data row4 col0\" >CARDINAL</td>\n",
       "      <td id=\"T_ee496_row4_col1\" class=\"data row4 col1\" >110</td>\n",
       "      <td id=\"T_ee496_row4_col2\" class=\"data row4 col2\" >2 (5), 23 (4), 3 (4), 5 (3), 90 (2), 10 (2), d’une (2), tentés (2), 4 (2), 190 (2), l’individu (2), 19 (2), 6 (2), 203-48 (1), 128.Depuis (1), 2017,avec (1), 2015).La (1), 2010).La (1), âme (1), 2017).L’espace (1), 20 (1), 9 (1), 2012).À (1), 128 (1), 2016).L’actualité (1), 2011),tout (1), 2.2 (1), 2013).L’exigence (1), 2008).Peu (1), 2013).Ils (1), inductifs (1), 29 (1), 22).Cette (1), millions (1), 209 (1), 160 (1), 16-17 (1), contemporaines(Latour (1), 307-308 (1), 188 (1), 1 (1), Dis (1), 148 (1), 1984).L’Oedipus (1), 273 (1), 2e (1), 121 (1), 133-160.• (1), 83 (1), 211,n (1), 805 (1), 555-556.• (1), 15 (1), 169 (1), 152 (1), 362 (1), 825 (1), 91 (1), 30-31.• (1), 262 (1), 187 (1), 145-162.• (1), 323 (1), 343 (1), 43 (1), 261-276.• (1), 331 (1), 176-182.• (1), 819-820 (1), 712 (1), 24 (1), 88 (1), 177 (1), 163 (1), 22 (1), 327 (1), 1890 (1), 120 (1), 313 (1), 27 (1), 7 (1), 8 (1), 2017). (1), 11 (1), 12 (1), 13 (1), 2015). (1), 17 (1), six (1)</td>\n",
       "    </tr>\n",
       "    <tr>\n",
       "      <th id=\"T_ee496_level0_row5\" class=\"row_heading level0 row5\" >5</th>\n",
       "      <td id=\"T_ee496_row5_col0\" class=\"data row5 col0\" >TIME</td>\n",
       "      <td id=\"T_ee496_row5_col1\" class=\"data row5 col1\" >2</td>\n",
       "      <td id=\"T_ee496_row5_col2\" class=\"data row5 col2\" >numériques (1), 14novembre (1)</td>\n",
       "    </tr>\n",
       "    <tr>\n",
       "      <th id=\"T_ee496_level0_row6\" class=\"row_heading level0 row6\" >6</th>\n",
       "      <td id=\"T_ee496_row6_col0\" class=\"data row6 col0\" >WORK_OF_ART</td>\n",
       "      <td id=\"T_ee496_row6_col1\" class=\"data row6 col1\" >12</td>\n",
       "      <td id=\"T_ee496_row6_col2\" class=\"data row6 col2\" >Le (2), Le Monde (2), d’autant (1), Giddens ou Foucault (Pentland (1), Nature et (1), Nobel de physique (1), Nature et Science (1), Nature (1), Quantitative Analysis of Culture Using Millions ofDigitized Books (1), The Filter Bubble: What the Internet Is Hiding from You, New York (1)</td>\n",
       "    </tr>\n",
       "    <tr>\n",
       "      <th id=\"T_ee496_level0_row7\" class=\"row_heading level0 row7\" >7</th>\n",
       "      <td id=\"T_ee496_row7_col0\" class=\"data row7 col0\" >NORP</td>\n",
       "      <td id=\"T_ee496_row7_col1\" class=\"data row7 col1\" >134</td>\n",
       "      <td id=\"T_ee496_row7_col2\" class=\"data row7 col2\" >dans (88), être (6), scientifique (5), sans (4), Moretti (4), Dans (4), Sans (3), Beaude,2015).Google (1), YouTube (1), Être (1), quedans (1), Craigslist (1), Selon (1), Petabyte (1), d’Alex (1), s’agirait (1), pu (1), Hacking,1999 (1), d’uneproblématique (1), etl’informatique (1), Dictionnaire (1), Severo (1), Berque (1), Carilian (1), Pablo (1), American (1), O’Sullivan (1)</td>\n",
       "    </tr>\n",
       "    <tr>\n",
       "      <th id=\"T_ee496_level0_row8\" class=\"row_heading level0 row8\" >8</th>\n",
       "      <td id=\"T_ee496_row8_col0\" class=\"data row8 col0\" >FAC</td>\n",
       "      <td id=\"T_ee496_row8_col1\" class=\"data row8 col1\" >11</td>\n",
       "      <td id=\"T_ee496_row8_col2\" class=\"data row8 col2\" >saisi toute la puissance1.La (1), va de même de la (1), la Chine (1), la même (1), la démarche (1), Le débat (1), Le bord de l’eau.• Popper (1), Le (1), Le tissu (1), Le cas de Teemo (1), la sur- (1)</td>\n",
       "    </tr>\n",
       "    <tr>\n",
       "      <th id=\"T_ee496_level0_row9\" class=\"row_heading level0 row9\" >9</th>\n",
       "      <td id=\"T_ee496_row9_col0\" class=\"data row9 col0\" >LOC</td>\n",
       "      <td id=\"T_ee496_row9_col1\" class=\"data row9 col1\" >12</td>\n",
       "      <td id=\"T_ee496_row9_col2\" class=\"data row9 col2\" >Watts (3), stratégique d’existence (1), être saisis (1), Barabási (1), de Vénus (1), s’inscrirait (1), Allemagne (1), être exprimé (1), Declan (1), Eastern District (1)</td>\n",
       "    </tr>\n",
       "    <tr>\n",
       "      <th id=\"T_ee496_level0_row10\" class=\"row_heading level0 row10\" >10</th>\n",
       "      <td id=\"T_ee496_row10_col0\" class=\"data row10 col0\" >PRODUCT</td>\n",
       "      <td id=\"T_ee496_row10_col1\" class=\"data row10 col1\" >13</td>\n",
       "      <td id=\"T_ee496_row10_col2\" class=\"data row10 col2\" >d’être (4), telle une (1), d’appeler (1), une traçabilitéinédite (1), obscurcir.2 (1), l’entre (1), queGoogle (1), d’explications la (1), d’organiser notre (1), Crown Business.• Watts (1)</td>\n",
       "    </tr>\n",
       "    <tr>\n",
       "      <th id=\"T_ee496_level0_row11\" class=\"row_heading level0 row11\" >11</th>\n",
       "      <td id=\"T_ee496_row11_col0\" class=\"data row11 col0\" >QUANTITY</td>\n",
       "      <td id=\"T_ee496_row11_col1\" class=\"data row11 col1\" >1</td>\n",
       "      <td id=\"T_ee496_row11_col2\" class=\"data row11 col2\" >242).Au même (1)</td>\n",
       "    </tr>\n",
       "    <tr>\n",
       "      <th id=\"T_ee496_level0_row12\" class=\"row_heading level0 row12\" >12</th>\n",
       "      <td id=\"T_ee496_row12_col0\" class=\"data row12 col0\" >PERCENT</td>\n",
       "      <td id=\"T_ee496_row12_col1\" class=\"data row12 col1\" >6</td>\n",
       "      <td id=\"T_ee496_row12_col2\" class=\"data row12 col2\" >662-679.• Butler, (1), 155-156.• Callon (1), 93-137.• (1), 721-723.• (1), 139-146.• (1), 100 % (1)</td>\n",
       "    </tr>\n",
       "    <tr>\n",
       "      <th id=\"T_ee496_level0_row13\" class=\"row_heading level0 row13\" >13</th>\n",
       "      <td id=\"T_ee496_row13_col0\" class=\"data row13 col0\" >LAW</td>\n",
       "      <td id=\"T_ee496_row13_col1\" class=\"data row13 col1\" >1</td>\n",
       "      <td id=\"T_ee496_row13_col2\" class=\"data row13 col2\" >The Constitution of Society, (1)</td>\n",
       "    </tr>\n",
       "    <tr>\n",
       "      <th id=\"T_ee496_level0_row14\" class=\"row_heading level0 row14\" >14</th>\n",
       "      <td id=\"T_ee496_row14_col0\" class=\"data row14 col0\" >EVENT</td>\n",
       "      <td id=\"T_ee496_row14_col1\" class=\"data row14 col1\" >1</td>\n",
       "      <td id=\"T_ee496_row14_col2\" class=\"data row14 col2\" >The Data Revolution (1)</td>\n",
       "    </tr>\n",
       "  </tbody>\n",
       "</table>\n"
      ],
      "text/plain": [
       "<pandas.io.formats.style.Styler at 0x14f7c8650>"
      ]
     },
     "metadata": {},
     "output_type": "display_data"
    },
    {
     "data": {
      "text/html": [
       "<hr>"
      ],
      "text/plain": [
       "<IPython.core.display.HTML object>"
      ]
     },
     "metadata": {},
     "output_type": "display_data"
    },
    {
     "data": {
      "text/html": [
       "\n",
       "            <h3>Document: What if You Knew What You Were Missing on Social Media?</h3>\n",
       "            <p><strong>Authors:</strong> </p>\n",
       "            <p><strong>Date:</strong> </p>\n",
       "            "
      ],
      "text/plain": [
       "<IPython.core.display.HTML object>"
      ]
     },
     "metadata": {},
     "output_type": "display_data"
    },
    {
     "data": {
      "text/html": [
       "<style type=\"text/css\">\n",
       "#T_bbb4b th {\n",
       "  border: 1px solid black;\n",
       "  padding: 8px;\n",
       "  text-align: left;\n",
       "}\n",
       "#T_bbb4b_row0_col0, #T_bbb4b_row0_col1, #T_bbb4b_row0_col2, #T_bbb4b_row1_col0, #T_bbb4b_row1_col1, #T_bbb4b_row1_col2, #T_bbb4b_row2_col0, #T_bbb4b_row2_col1, #T_bbb4b_row2_col2, #T_bbb4b_row3_col0, #T_bbb4b_row3_col1, #T_bbb4b_row3_col2, #T_bbb4b_row4_col0, #T_bbb4b_row4_col1, #T_bbb4b_row4_col2, #T_bbb4b_row5_col0, #T_bbb4b_row5_col1, #T_bbb4b_row5_col2, #T_bbb4b_row6_col0, #T_bbb4b_row6_col1, #T_bbb4b_row6_col2, #T_bbb4b_row7_col0, #T_bbb4b_row7_col1, #T_bbb4b_row7_col2, #T_bbb4b_row8_col0, #T_bbb4b_row8_col1, #T_bbb4b_row8_col2, #T_bbb4b_row9_col0, #T_bbb4b_row9_col1, #T_bbb4b_row9_col2 {\n",
       "  border: 1px solid black;\n",
       "  padding: 8px;\n",
       "  text-align: left;\n",
       "}\n",
       "</style>\n",
       "<table id=\"T_bbb4b\">\n",
       "  <thead>\n",
       "    <tr>\n",
       "      <th class=\"blank level0\" >&nbsp;</th>\n",
       "      <th id=\"T_bbb4b_level0_col0\" class=\"col_heading level0 col0\" >Entity Type</th>\n",
       "      <th id=\"T_bbb4b_level0_col1\" class=\"col_heading level0 col1\" >Count</th>\n",
       "      <th id=\"T_bbb4b_level0_col2\" class=\"col_heading level0 col2\" >Unique Entities</th>\n",
       "    </tr>\n",
       "  </thead>\n",
       "  <tbody>\n",
       "    <tr>\n",
       "      <th id=\"T_bbb4b_level0_row0\" class=\"row_heading level0 row0\" >0</th>\n",
       "      <td id=\"T_bbb4b_row0_col0\" class=\"data row0 col0\" >ORG</td>\n",
       "      <td id=\"T_bbb4b_row0_col1\" class=\"data row0 col1\" >13</td>\n",
       "      <td id=\"T_bbb4b_row0_col2\" class=\"data row0 col2\" >K n e w  W (1), the American Civil Liberties Union (1), the\n",
       "Heritage Foundation (1), Bluesky (1), Tech News (1), Cute Animal Pics (1), PositiviFeed (1), UA (1), Stanford (1), Harvard (1), Humane\n",
       "Intelligence (1), Times (1), Instagram (1)</td>\n",
       "    </tr>\n",
       "    <tr>\n",
       "      <th id=\"T_bbb4b_level0_row1\" class=\"row_heading level0 row1\" >1</th>\n",
       "      <td id=\"T_bbb4b_row1_col0\" class=\"data row1 col0\" >DATE</td>\n",
       "      <td id=\"T_bbb4b_row1_col1\" class=\"data row1 col1\" >3</td>\n",
       "      <td id=\"T_bbb4b_row1_col2\" class=\"data row1 col2\" >Aug. 17, 2023 (1), 2020 (1), today (1)</td>\n",
       "    </tr>\n",
       "    <tr>\n",
       "      <th id=\"T_bbb4b_level0_row2\" class=\"row_heading level0 row2\" >2</th>\n",
       "      <td id=\"T_bbb4b_row2_col0\" class=\"data row2 col0\" >PERSON</td>\n",
       "      <td id=\"T_bbb4b_row2_col1\" class=\"data row2 col1\" >28</td>\n",
       "      <td id=\"T_bbb4b_row2_col2\" class=\"data row2 col2\" >Julia Angwin (2), Musk (2), Twitter (2), Angwin (1), journalis t.\n",
       " (1), Elon Musk’s (1), Tucker Carlson (1), Andrew Tate (1), Charlie Warzel (1), Susie (1), Jack Dorsey (1), Feeds (1), Bluesky (1), Jay Graber (1), Francis Fukuyama (1), Robert Faris (1), Joan Donovan (1), Shorenstein Center (1), Nathalie Maréchal (1), Dipayan Ghosh (1), Fukuyama (1), Rumman Chowdhury (1), Chowdhury (1), Algorithms (1), Weʼd (1)</td>\n",
       "    </tr>\n",
       "    <tr>\n",
       "      <th id=\"T_bbb4b_level0_row3\" class=\"row_heading level0 row3\" >3</th>\n",
       "      <td id=\"T_bbb4b_row3_col0\" class=\"data row3 col0\" >PRODUCT</td>\n",
       "      <td id=\"T_bbb4b_row3_col1\" class=\"data row3 col1\" >6</td>\n",
       "      <td id=\"T_bbb4b_row3_col2\" class=\"data row3 col2\" >Twitter (6)</td>\n",
       "    </tr>\n",
       "    <tr>\n",
       "      <th id=\"T_bbb4b_level0_row4\" class=\"row_heading level0 row4\" >4</th>\n",
       "      <td id=\"T_bbb4b_row4_col0\" class=\"data row4 col0\" >NORP</td>\n",
       "      <td id=\"T_bbb4b_row4_col1\" class=\"data row4 col1\" >6</td>\n",
       "      <td id=\"T_bbb4b_row4_col2\" class=\"data row4 col2\" >X (1), Democratic (1), American (1), European (1), Ukrainian (1), ed (1)</td>\n",
       "    </tr>\n",
       "    <tr>\n",
       "      <th id=\"T_bbb4b_level0_row5\" class=\"row_heading level0 row5\" >5</th>\n",
       "      <td id=\"T_bbb4b_row5_col0\" class=\"data row5 col0\" >LOC</td>\n",
       "      <td id=\"T_bbb4b_row5_col1\" class=\"data row5 col1\" >1</td>\n",
       "      <td id=\"T_bbb4b_row5_col2\" class=\"data row5 col2\" >Atlantic (1)</td>\n",
       "    </tr>\n",
       "    <tr>\n",
       "      <th id=\"T_bbb4b_level0_row6\" class=\"row_heading level0 row6\" >6</th>\n",
       "      <td id=\"T_bbb4b_row6_col0\" class=\"data row6 col0\" >GPE</td>\n",
       "      <td id=\"T_bbb4b_row6_col1\" class=\"data row6 col1\" >5</td>\n",
       "      <td id=\"T_bbb4b_row6_col2\" class=\"data row6 col2\" >Belgrade (1), MLB+ (1), Fukuyama (1), the United States (1), Mastodon (1)</td>\n",
       "    </tr>\n",
       "    <tr>\n",
       "      <th id=\"T_bbb4b_level0_row7\" class=\"row_heading level0 row7\" >7</th>\n",
       "      <td id=\"T_bbb4b_row7_col0\" class=\"data row7 col0\" >CARDINAL</td>\n",
       "      <td id=\"T_bbb4b_row7_col1\" class=\"data row7 col1\" >3</td>\n",
       "      <td id=\"T_bbb4b_row7_col2\" class=\"data row7 col2\" >at least one (1), One (1), 265,000 (1)</td>\n",
       "    </tr>\n",
       "    <tr>\n",
       "      <th id=\"T_bbb4b_level0_row8\" class=\"row_heading level0 row8\" >8</th>\n",
       "      <td id=\"T_bbb4b_row8_col0\" class=\"data row8 col0\" >ORDINAL</td>\n",
       "      <td id=\"T_bbb4b_row8_col1\" class=\"data row8 col1\" >1</td>\n",
       "      <td id=\"T_bbb4b_row8_col2\" class=\"data row8 col2\" >first (1)</td>\n",
       "    </tr>\n",
       "    <tr>\n",
       "      <th id=\"T_bbb4b_level0_row9\" class=\"row_heading level0 row9\" >9</th>\n",
       "      <td id=\"T_bbb4b_row9_col0\" class=\"data row9 col0\" >PERCENT</td>\n",
       "      <td id=\"T_bbb4b_row9_col1\" class=\"data row9 col1\" >1</td>\n",
       "      <td id=\"T_bbb4b_row9_col2\" class=\"data row9 col2\" >20\n",
       "percent (1)</td>\n",
       "    </tr>\n",
       "  </tbody>\n",
       "</table>\n"
      ],
      "text/plain": [
       "<pandas.io.formats.style.Styler at 0x15507c850>"
      ]
     },
     "metadata": {},
     "output_type": "display_data"
    },
    {
     "data": {
      "text/html": [
       "<hr>"
      ],
      "text/plain": [
       "<IPython.core.display.HTML object>"
      ]
     },
     "metadata": {},
     "output_type": "display_data"
    },
    {
     "data": {
      "text/html": [
       "\n",
       "            <h3>Document: After the ‘APIcalypse’: social media platforms and their fight against critical scholarly research</h3>\n",
       "            <p><strong>Authors:</strong> </p>\n",
       "            <p><strong>Date:</strong> 2019-09-19</p>\n",
       "            "
      ],
      "text/plain": [
       "<IPython.core.display.HTML object>"
      ]
     },
     "metadata": {},
     "output_type": "display_data"
    },
    {
     "data": {
      "text/html": [
       "<style type=\"text/css\">\n",
       "#T_b48fa th {\n",
       "  border: 1px solid black;\n",
       "  padding: 8px;\n",
       "  text-align: left;\n",
       "}\n",
       "#T_b48fa_row0_col0, #T_b48fa_row0_col1, #T_b48fa_row0_col2, #T_b48fa_row1_col0, #T_b48fa_row1_col1, #T_b48fa_row1_col2, #T_b48fa_row2_col0, #T_b48fa_row2_col1, #T_b48fa_row2_col2, #T_b48fa_row3_col0, #T_b48fa_row3_col1, #T_b48fa_row3_col2, #T_b48fa_row4_col0, #T_b48fa_row4_col1, #T_b48fa_row4_col2, #T_b48fa_row5_col0, #T_b48fa_row5_col1, #T_b48fa_row5_col2, #T_b48fa_row6_col0, #T_b48fa_row6_col1, #T_b48fa_row6_col2, #T_b48fa_row7_col0, #T_b48fa_row7_col1, #T_b48fa_row7_col2, #T_b48fa_row8_col0, #T_b48fa_row8_col1, #T_b48fa_row8_col2, #T_b48fa_row9_col0, #T_b48fa_row9_col1, #T_b48fa_row9_col2, #T_b48fa_row10_col0, #T_b48fa_row10_col1, #T_b48fa_row10_col2, #T_b48fa_row11_col0, #T_b48fa_row11_col1, #T_b48fa_row11_col2, #T_b48fa_row12_col0, #T_b48fa_row12_col1, #T_b48fa_row12_col2, #T_b48fa_row13_col0, #T_b48fa_row13_col1, #T_b48fa_row13_col2 {\n",
       "  border: 1px solid black;\n",
       "  padding: 8px;\n",
       "  text-align: left;\n",
       "}\n",
       "</style>\n",
       "<table id=\"T_b48fa\">\n",
       "  <thead>\n",
       "    <tr>\n",
       "      <th class=\"blank level0\" >&nbsp;</th>\n",
       "      <th id=\"T_b48fa_level0_col0\" class=\"col_heading level0 col0\" >Entity Type</th>\n",
       "      <th id=\"T_b48fa_level0_col1\" class=\"col_heading level0 col1\" >Count</th>\n",
       "      <th id=\"T_b48fa_level0_col2\" class=\"col_heading level0 col2\" >Unique Entities</th>\n",
       "    </tr>\n",
       "  </thead>\n",
       "  <tbody>\n",
       "    <tr>\n",
       "      <th id=\"T_b48fa_level0_row0\" class=\"row_heading level0 row0\" >0</th>\n",
       "      <td id=\"T_b48fa_row0_col0\" class=\"data row0 col0\" >ORG</td>\n",
       "      <td id=\"T_b48fa_row0_col1\" class=\"data row0 col1\" >339</td>\n",
       "      <td id=\"T_b48fa_row0_col2\" class=\"data row0 col2\" >API (19), Facebook (10), Social Science One (10), Facebook ’s (7), Texifter (6), Netvizz (5), COMMU NICATION & SOCIETY (5), King & Persily (4), J. (4), TCAT (3), Weller & Kinder-Kurlanda (3), Knight First Amendment Institute (3), Hughes (3), Guardian (3), ProPublica (3), the Social Science One (3), King &\n",
       "Persily (3), Congress (3), New York Times (3), the New York Times (3), Rieder (3), Sandvig (3), Information, Communication & Society (2), Digital Media Research Centre (2), Queensland University of Technology (2), Social\n",
       "Science One (2), Zimmer & Proferes (2), the Digital Methods Initiative (2), Burgess & Bruns (2), Guillory (2), Mac & Warzel (2), ABC News (2), Merrill & Tobin (2), Swire-Thompson (2), NATO (2), De (2), Nasiritousi (2), Microsoft (2), FUD (2), Digital Methods Initiative (2), FTC (2), United Nations (2), Social Media (2), Aslib Journal of Information Management (2), ACM Press (2), TechCrunch (2), ﬃcial/en_us (2), Weller (2), Oxford (2), Full Terms & Conditions (1), Communication & Society (1), ISSN (1), Submit (1), View Crossmark (1), KEYWORDS (1), Baran & Gha (1), van Osch &\n",
       "Coursaris (1), the Application Programming Interfaces (1), TwapperKeeper.com (1), the Twitter Capture and Analysis (1), Informa UK Limited (1), Taylor & Francis (1), COMMUNICATION & SOCIETY (1), VOL (1), https://doi.org/10.1080/1369118X.2019.1637447 Toolkit (1), the University of\n",
       "Amsterdam (1), Borra & Rieder (1), DMI (1), the Danish Digital Footprints (1), Bechmann & Vahlstrup (1), Bruns et al. (1), Social Media & Society (1), Social Media + Society (1), the Association of Internet Researchers(AoIR (1), the International Communication Association (1), ICA (1), & Hancock (1), COMMU NICATION & SOCIETY 1545 (1), the US Library of (1), Stone (1), Bruns & Weller (1), Bucher (1), Bucher ( (1), Cornell University (1), Constine & Hatmaker (1), & Milan (1), Constine & Hat- (1), Strategic Communication Laboratories (1), the University of Cambridge (1), SCL (1), Product Partnerships (1), Insta-gram (1), Facebook ’s Events (1), Groups (1), the University of Amsterdam (1), Twit- (1), Roth & Johnson (1), Knight First Amendment\n",
       "Institute (1), COMMU NICATION & SOCIETY 1549 (1), Stanford University ’s (1), aFacebook (1), the Facebook Ad Library (1), ter, Inc. (1), Gadde & Gasca (1), DataGrants (1), Stanford (1), Social Science Research Council (1), Nate Persily (1), Social Science One ’s (1), Social Science One ’s\n",
       "Website (1), Social\n",
       "Science One ’s (1), COMMU NICATION & SOCIETY 1551 (1), the King-Persily (1), Woolley & Howard (1), Bounegru, Gray (1), Venturini (1), & Mauri (1), Wardle &\n",
       "Derakhshan (1), the Social Science\n",
       "Research Council (1), Social Science One, 2018b (1), COMMU NICATION & SOCIETY 1553 Deﬂection (1), s‘gift’of (1), the Library of Congress (Stone (1), Frenkel, Confessore (1), & Nicas (1), the University of\n",
       " (1), Yach & Bialous (1), Chapman & Carter (1), sta (1), BuzzFeed (1), Times (1), Facebook ’s FUD (1), WhatsApp (1), Burgess &\n",
       "Bruns (1), Poletti & Gray (1), COMMU NICATION & SOCIETY 1557 (1), Health Metrics (1), Bruns (1), the EU Parliament (1), the European Union (1), Data Protection Regulation (1), the US Federal Trade Commission (1), Overly & Scola (1), Keeper.com (1), Venturini & Rogers (1), the University of Amsterdam ’s (1), HTML (1), the Australian Research Council Future Fellowship (1), Intermedia Information Flows (1), the Australian Online Public Sphere (1), Tracking Infrastructure for Social Media (1), Australian Research Council (1), the Digital Media Research Centre (1), Queensland University (1), Are Filter Bubbles Real (1), the Public Sphere (1), Digitizing Democracy (1), Social Media and Politics (1), Society (1), @snurb_dot_info (1), CNN (1), Journal of Information Science Theory (1), The Digital\n",
       "Footprints (1), L., Gray (1), T., & Mauri (1), Policy Review (1), J., Banks (1), Dreiling, A. (1), Sadkowsky (1), Tracking Infrastructure for Social Media Analysis (1), Journal of Software Studies (1), J., & Bruns, A. (1), Instagram (1), J., & Hatmaker (1), Digital Footprints (1), news/2018/11 (1), Research\n",
       "Ethics (1), Political Communication (1), M., & Nicas (1), V., & Gasca (1), SCL Group (1), B., & Lazer (1), nytimes.com/2019/05/09/opinion/sunday/chris-hughes-facebook-zuckerberg.html (1), K., & Milan (1), S. (1), Institute of Network Cultures (1), Columbia University (1), Knight Institute Calls (1), Digital Journalism and Research (1), J. E., & Hancock (1), the National Academy of\n",
       "Sciences (1), Merrill (1), Google (1), Ad Archive API (1), Environmental Politics (1), doi:10.1080/09644016 (1), NATO Strategic Communications Centre of Excellence (1), TX (1), IEEE Spectrum (1), ACM (1), J. Burgess (1), doi:10.1285 (1), Y. (1), International Journal of Qualitative Methods (1), J., Tanupabrungsun, S., Zhang, F., (1), Montréal: ACM Press (1), Twitter, Inc. (1), International Covenant on Economic, Social and Cultural Rights (1), Communication Monographs (1), I. (1), Amsterdam University Press (1), T., & Rogers (1), Digital Journalism (1), Wardle (1), Council of Europe (1), Disorder-Toward-an-interdisciplinary-framework.pdfINFORMATION (1), COMMU NICATION & (1), AAAI Press (1), Social Media\n",
       "Research (1), http://doi.acm.org/10.1145/2908131.2908172 (1), Working Paper 2017.11 (1), Computational Propaganda Research Project (1), American Journal of Public\n",
       "Health (1), YourTwapperKeeper (1), 00831566 A. BRUNS (1)</td>\n",
       "    </tr>\n",
       "    <tr>\n",
       "      <th id=\"T_b48fa_level0_row1\" class=\"row_heading level0 row1\" >1</th>\n",
       "      <td id=\"T_b48fa_row1_col0\" class=\"data row1 col0\" >WORK_OF_ART</td>\n",
       "      <td id=\"T_b48fa_row1_col1\" class=\"data row1 col1\" >11</td>\n",
       "      <td id=\"T_b48fa_row1_col2\" class=\"data row1 col2\" >Pear Analytics (2), https://www.tandfonline.com/action/journalInformation?journalCode=rics20 (1), Platform Policies (1), Facebook\n",
       "Ad Library (1), The ‘King-Persily (1), Facebook Ad Library (1), Grant Number FT130100703 (1), Web Science (1), Facebook Newsroom (1), Pasternack, A. (1)</td>\n",
       "    </tr>\n",
       "    <tr>\n",
       "      <th id=\"T_b48fa_level0_row2\" class=\"row_heading level0 row2\" >2</th>\n",
       "      <td id=\"T_b48fa_row2_col0\" class=\"data row2 col0\" >CARDINAL</td>\n",
       "      <td id=\"T_b48fa_row2_col1\" class=\"data row2 col1\" >92</td>\n",
       "      <td id=\"T_b48fa_row2_col2\" class=\"data row2 col2\" >one (6), two (5), One (3), four (3), 3 (3), 4 (3), 12 (2), 244 (2), 183 (2), 14 (2), 1369-118X (1), 10.1080/1369118X.2019.1637447 (1), 11 (1), 7888 (1), 94 (1), 257 (1), 22 (1), 3.7 (1), million (1), 7 (1), nearly 700,000 (1), up to 87 million (1), three (1), some 200 (1), 2f (1), more than 230 (1), six (1), 1,300 (1), seven (1), 2 (1), 13 (1), Four (1), ders (1), 5(2 (1), 33 (1), 2.3 (1), 20(12 (1), 262 (1), 278 (1), 189 (1), 2908131.2908174 (1), 93 (1), 111 (1), 87 (1), 35(4 (1), 665–668 (1), 374 (1), 378 (1), 259 (1), 111(24 (1), 8788 (1), 621 (1), 647 (1), 2017.1320832 (1), 260 (1), 276 (1), 346-355 (1), 557 (1), 570 (1), 15(1 (1), 1 (1), 15.doi:10.1177/1609406915624574 (1), https://twitter.com/katestarbird/status/1065654767773409281 (1), 285 (1), 309 (1), 1080/03637751.2014.921720 (1), 200 (1), 1–9.doi:10.1080/21670811.2019.1591927 (1), 166-172 (1), 250 (1), 261 (1)</td>\n",
       "    </tr>\n",
       "    <tr>\n",
       "      <th id=\"T_b48fa_level0_row3\" class=\"row_heading level0 row3\" >3</th>\n",
       "      <td id=\"T_b48fa_row3_col0\" class=\"data row3 col0\" >DATE</td>\n",
       "      <td id=\"T_b48fa_row3_col1\" class=\"data row3 col1\" >252</td>\n",
       "      <td id=\"T_b48fa_row3_col2\" class=\"data row3 col2\" >2018 (75), 2019 (24), 2016 (17), 2014 (17), 2017 (17), 2015 (13), 2013 (10), 2019b (4), 2018b (4), 2009 (3), 2010 (3), 2011 (3), 2019a (3), July 2018 (2), 2001 (2), 2003 (2), 2000 (2), 1976 (2), 1468-4462 (1), 22:11 (1), 1544-1566 (1), November 2018 (1), 6 June 2019 (1), the past ten years or (1), 2008 (1), 1566 (1), 2007 (1), annual (1), the\n",
       "years (1), 2006 (1), the\n",
       "early days (1), 17 March 2018 (1), a next-day (1), 31 July to 4 April 2018 (1), the same day (1), today (1), the coming months (1), 30 September 2018 (1), early\n",
       "2019 (1), July (1), One, 2018a (1), One, 2018b (1), ten years\n",
       "ago (1), late 2018 (1), Ball, 2018 (1), years (1), decades (1), the mid-1990s (1), 1555 (1), multi-year (1), as early as 2011 (1), this day (1), 1559 (1), Schäfer, 2017 (1), Today (1), 1561 (1), Monday (1), 2013-0094 (1), analytica-87 (1), 1563 (1), ﬁne- 1289564 (1), 90219826 (1), August 2009 (1), 1022 (1), 16, 1157-67 (1), 28-37 (1), 1745 –1748 (1)</td>\n",
       "    </tr>\n",
       "    <tr>\n",
       "      <th id=\"T_b48fa_level0_row4\" class=\"row_heading level0 row4\" >4</th>\n",
       "      <td id=\"T_b48fa_row4_col0\" class=\"data row4 col0\" >PERSON</td>\n",
       "      <td id=\"T_b48fa_row4_col1\" class=\"data row4 col1\" >185</td>\n",
       "      <td id=\"T_b48fa_row4_col2\" class=\"data row4 col2\" >Twitter (19), Kogan (7), B. (6), Mozilla (5), J. (5), Facebook (4), ﬁeld (4), Aleksandr Kogan (4), Axel Bruns (3), Kramer (3), Crimson Hexagon (3), Constine (3), Bernhard Rieder (3), Texifter (3), Soros (3), C. (3), Baker (2), Su (2), O’Brien (2), Flick (2), Cambridge Analytica (2), A. BRUNS (2), Schroepfer (2), Rieder (2), Johnson (2), Brexit (2), Grinberg (2), Alaimo (2), Chris Hughes (2), Westra (2), Venturini (2), N. (2), G. (2), ApplicationProgramming (1), Brisbane (1), Blog (1), generate1546 A. BRUNS (1), van der Velden, Wissenbach (1), Stamos (1), Facebook Login (1), Suspension (1), apps\n",
       " (1), aBloomberg (1), refreshingINFORMATION (1), Website (1), Perez (1), Stu Shulman (1), Justin Littman (1), the1550 A. BRUNS (1), ﬁcant (1), Gary King (1), George Soros (1), Kang (1), justify1554 A. BRUNS (1), Kate (1), Analytica (1), sta (1), Oﬃcer Alex Stamos (1), Mark Zuckerberg (1), Lobby (1), su (1), su ﬃcient\n",
       "funding (1), Theleader (1), Richard Rogers (1), van Schie (1), Cato the Elder (1), Bloomberg (1), Aurora Borealis (1), W. Nejdl (1), W. Hall (1), G. Langlois (1), J. Redden (1), Steve Bannon (1), Chapman (1), T. (1), Elliot Schrage (1), Frenkel, S., (1), nytimes.com/2018/11/14/technology/facebook-data-russia-election-racism.html\n",
       "Gadde (1), Joseph, K., Friedland (1), L. (1), doi:10.1126/\n",
       "science.aau2706\n",
       " (1), en_us (1), Torres (1), van der (1), A. Daly (1), S. K. Devitt (1), J. T. (1), J. B. (1), A. (1), Fossil fuel (1), A.\n",
       "Daly (1), Raymond, E. S. ( 2001 (1), Foreword (1), A. Bruns (1), Peter Lang (1), Roth (1), & Johnson (1), C. L. (1), https://twitter.com/passantino/status/1065366769454338048 (1), Rossini (1), Robinson (1), S. (1), Van Schie (1), M. T. (1), M. T. Schäfer & K. van Es (Eds (1), N. J. ( (1)</td>\n",
       "    </tr>\n",
       "    <tr>\n",
       "      <th id=\"T_b48fa_level0_row5\" class=\"row_heading level0 row5\" >5</th>\n",
       "      <td id=\"T_b48fa_row5_col0\" class=\"data row5 col0\" >FAC</td>\n",
       "      <td id=\"T_b48fa_row5_col1\" class=\"data row5 col1\" >3</td>\n",
       "      <td id=\"T_b48fa_row5_col2\" class=\"data row5 col2\" >Axel Bruns (1), Joseph, Friedland (1), Van Osch (1)</td>\n",
       "    </tr>\n",
       "    <tr>\n",
       "      <th id=\"T_b48fa_level0_row6\" class=\"row_heading level0 row6\" >6</th>\n",
       "      <td id=\"T_b48fa_row6_col0\" class=\"data row6 col0\" >GPE</td>\n",
       "      <td id=\"T_b48fa_row6_col1\" class=\"data row6 col1\" >112</td>\n",
       "      <td id=\"T_b48fa_row6_col2\" class=\"data row6 col2\" >Cambridge Analytica (27), US (8), Bruns (4), Amsterdam (4), New York (4), Australia (3), Snelson (3), al. (3), Facebook (3), Starbird (3), Brisbane (2), Cambridge Analytica ’s (2), Cambridge (2), Weaver (2), Alaimo (2), the United States (2), Rosenberg (2), Russia (2), n.p. (2), Dr (1), Harvardand (1), p . (1), UK (1), Hidden (1), Washington (1), Raymond (1), theINFORMATION (1), Analytica (1), Brien (1), Break (1), measur (1), Rome (1), Carthaginem (1), Bechmann (1), Tjondronegoro (1), Hartley (1), Bucher (1), Cadwalladr (1), Confessore (1), U.S. (1), https://www (1), Velden (1), Riga (1), San Antonio (1), NY (1), USA (1), https://blog.twitter.com/en (1), https://blog.twitter.com/o (1), Strasbourg (1), Woolley (1), Yach (1)</td>\n",
       "    </tr>\n",
       "    <tr>\n",
       "      <th id=\"T_b48fa_level0_row7\" class=\"row_heading level0 row7\" >7</th>\n",
       "      <td id=\"T_b48fa_row7_col0\" class=\"data row7 col0\" >PRODUCT</td>\n",
       "      <td id=\"T_b48fa_row7_col1\" class=\"data row7 col1\" >36</td>\n",
       "      <td id=\"T_b48fa_row7_col2\" class=\"data row7 col2\" >Twitter (25), Carole Cad-walladr (1), Facebook (1), Rus-sian (1), Starbird (1), Attempts (1), Realpolitik (1), LE140100148 (1), Notes (1), TechCrunch (1), DataGrants (1), Network Cultures (1)</td>\n",
       "    </tr>\n",
       "    <tr>\n",
       "      <th id=\"T_b48fa_level0_row8\" class=\"row_heading level0 row8\" >8</th>\n",
       "      <td id=\"T_b48fa_row8_col0\" class=\"data row8 col0\" >NORP</td>\n",
       "      <td id=\"T_b48fa_row8_col1\" class=\"data row8 col1\" >37</td>\n",
       "      <td id=\"T_b48fa_row8_col2\" class=\"data row8 col2\" >R. (7), D. (6), K. (6), Australian (3), Rogers (2), Sharma (2), Kirkorian (2), Twitteri (1), withRussian (1), Republican (1), anti-Semites (1), Starbird (1), American (1), Roman (1), twapperkeeper.wordpress.com/2011/02/22/removal-of-export-and-download-api-capabilities/ (1), P. (1)</td>\n",
       "    </tr>\n",
       "    <tr>\n",
       "      <th id=\"T_b48fa_level0_row9\" class=\"row_heading level0 row9\" >9</th>\n",
       "      <td id=\"T_b48fa_row9_col0\" class=\"data row9 col0\" >LOC</td>\n",
       "      <td id=\"T_b48fa_row9_col1\" class=\"data row9 col1\" >3</td>\n",
       "      <td id=\"T_b48fa_row9_col2\" class=\"data row9 col2\" >Burgess (2), the Illuminating 2016 (1)</td>\n",
       "    </tr>\n",
       "    <tr>\n",
       "      <th id=\"T_b48fa_level0_row10\" class=\"row_heading level0 row10\" >10</th>\n",
       "      <td id=\"T_b48fa_row10_col0\" class=\"data row10 col0\" >EVENT</td>\n",
       "      <td id=\"T_b48fa_row10_col1\" class=\"data row10 col1\" >4</td>\n",
       "      <td id=\"T_b48fa_row10_col2\" class=\"data row10 col2\" >the International\n",
       "Conference on Weblogs and Social Media (ICWSM (1), Social Science One (1), Third Punic War (1), International Conference on World Wide Web - WWW (1)</td>\n",
       "    </tr>\n",
       "    <tr>\n",
       "      <th id=\"T_b48fa_level0_row11\" class=\"row_heading level0 row11\" >11</th>\n",
       "      <td id=\"T_b48fa_row11_col0\" class=\"data row11 col0\" >ORDINAL</td>\n",
       "      <td id=\"T_b48fa_row11_col1\" class=\"data row11 col1\" >16</td>\n",
       "      <td id=\"T_b48fa_row11_col2\" class=\"data row11 col2\" >third (8), First (2), 8th (2), second (1), tertiary (1), 5th (1), 25th (1)</td>\n",
       "    </tr>\n",
       "    <tr>\n",
       "      <th id=\"T_b48fa_level0_row12\" class=\"row_heading level0 row12\" >12</th>\n",
       "      <td id=\"T_b48fa_row12_col0\" class=\"data row12 col0\" >LAW</td>\n",
       "      <td id=\"T_b48fa_row12_col1\" class=\"data row12 col1\" >1</td>\n",
       "      <td id=\"T_b48fa_row12_col2\" class=\"data row12 col2\" >the Social Science One (1)</td>\n",
       "    </tr>\n",
       "    <tr>\n",
       "      <th id=\"T_b48fa_level0_row13\" class=\"row_heading level0 row13\" >13</th>\n",
       "      <td id=\"T_b48fa_row13_col0\" class=\"data row13 col0\" >MONEY</td>\n",
       "      <td id=\"T_b48fa_row13_col1\" class=\"data row13 col1\" >3</td>\n",
       "      <td id=\"T_b48fa_row13_col2\" class=\"data row13 col2\" >US$5 billion (1), 2+ billion (1), up to $5B (1)</td>\n",
       "    </tr>\n",
       "  </tbody>\n",
       "</table>\n"
      ],
      "text/plain": [
       "<pandas.io.formats.style.Styler at 0x14f5422d0>"
      ]
     },
     "metadata": {},
     "output_type": "display_data"
    },
    {
     "data": {
      "text/html": [
       "<hr>"
      ],
      "text/plain": [
       "<IPython.core.display.HTML object>"
      ]
     },
     "metadata": {},
     "output_type": "display_data"
    },
    {
     "data": {
      "text/html": [
       "\n",
       "            <h3>Document: Journalism, Media Research, and Mastodon: Notes on the Future</h3>\n",
       "            <p><strong>Authors:</strong> </p>\n",
       "            <p><strong>Date:</strong> 2023-05-10</p>\n",
       "            "
      ],
      "text/plain": [
       "<IPython.core.display.HTML object>"
      ]
     },
     "metadata": {},
     "output_type": "display_data"
    },
    {
     "data": {
      "text/html": [
       "<style type=\"text/css\">\n",
       "#T_b6e48 th {\n",
       "  border: 1px solid black;\n",
       "  padding: 8px;\n",
       "  text-align: left;\n",
       "}\n",
       "#T_b6e48_row0_col0, #T_b6e48_row0_col1, #T_b6e48_row0_col2, #T_b6e48_row1_col0, #T_b6e48_row1_col1, #T_b6e48_row1_col2, #T_b6e48_row2_col0, #T_b6e48_row2_col1, #T_b6e48_row2_col2, #T_b6e48_row3_col0, #T_b6e48_row3_col1, #T_b6e48_row3_col2, #T_b6e48_row4_col0, #T_b6e48_row4_col1, #T_b6e48_row4_col2, #T_b6e48_row5_col0, #T_b6e48_row5_col1, #T_b6e48_row5_col2, #T_b6e48_row6_col0, #T_b6e48_row6_col1, #T_b6e48_row6_col2, #T_b6e48_row7_col0, #T_b6e48_row7_col1, #T_b6e48_row7_col2, #T_b6e48_row8_col0, #T_b6e48_row8_col1, #T_b6e48_row8_col2, #T_b6e48_row9_col0, #T_b6e48_row9_col1, #T_b6e48_row9_col2 {\n",
       "  border: 1px solid black;\n",
       "  padding: 8px;\n",
       "  text-align: left;\n",
       "}\n",
       "</style>\n",
       "<table id=\"T_b6e48\">\n",
       "  <thead>\n",
       "    <tr>\n",
       "      <th class=\"blank level0\" >&nbsp;</th>\n",
       "      <th id=\"T_b6e48_level0_col0\" class=\"col_heading level0 col0\" >Entity Type</th>\n",
       "      <th id=\"T_b6e48_level0_col1\" class=\"col_heading level0 col1\" >Count</th>\n",
       "      <th id=\"T_b6e48_level0_col2\" class=\"col_heading level0 col2\" >Unique Entities</th>\n",
       "    </tr>\n",
       "  </thead>\n",
       "  <tbody>\n",
       "    <tr>\n",
       "      <th id=\"T_b6e48_level0_row0\" class=\"row_heading level0 row0\" >0</th>\n",
       "      <td id=\"T_b6e48_row0_col0\" class=\"data row0 col0\" >ORG</td>\n",
       "      <td id=\"T_b6e48_row0_col1\" class=\"data row0 col1\" >50</td>\n",
       "      <td id=\"T_b6e48_row0_col2\" class=\"data row0 col2\" >Future (3), Digital Journalism (2), Media Research (2), Black Software (2), The Modem World (2), xford University Press (2), Full Terms & Conditions (1), ISSN (1), Journalism, Media Research (1), Submit (1), View Crossmark (1), AryDigital Journalism (1), university of m assachusetts (1), taylor & Francis (1), jabraun@journ.umass.edu  https://doi.org/10.1080/21670811.2023.2208619 (1), Rolling Stone (1), ProPublica (1), Washington Post (1), Texas Observer (1), Presscheck.org (1), Media Research on (1), the Association of i nternet (1), Fenix (1), Aviary (1), Parham 2022 (1), Bluesky Social (1), tumblr (1), ActivityPub (1), ORCID (1), References\n",
       "Bell (1), New York Times (1), Dr AG (1), Driscoll (1), yale University Press (1), FOSS Academic (1), J. (1), J. Flowers (1), the m astodon (1), Social Sciences (1), Social Media + Society  7 (1), The Power of Platforms (1), Parham (1), The New York Times (1)</td>\n",
       "    </tr>\n",
       "    <tr>\n",
       "      <th id=\"T_b6e48_level0_row1\" class=\"row_heading level0 row1\" >1</th>\n",
       "      <td id=\"T_b6e48_row1_col0\" class=\"data row1 col0\" >PERSON</td>\n",
       "      <td id=\"T_b6e48_row1_col1\" class=\"data row1 col1\" >60</td>\n",
       "      <td id=\"T_b6e48_row1_col2\" class=\"data row1 col2\" >astodon (16), Joshua Braun (5), Mastodon (4), DiGit Al JoUrnAliSm (3), Gehl (3), Bernstein (2), J. Br (2), astodon server (2), ma, usa (1), Dave Karpf (1), Markup (1), Hugh (1), asnick 2023 (1), Twitter (1), Foucault Welles (1), Warzel et  al. (1), twitter (1), Kevin Driscoll (1), https://www.engadget.com/twitter-client-developers-fleeing-twitter-mastodon-130031551 (1), https://www.nytimes.com/2022/11/21/style/mastodon-twitter-adam-davidson (1), S. J. (1), m. Bailey (1), B. Foucault Welles (1), W. 2022 (1), S. A. Ganter (1), https://www.hughrundle.net/home-invasion/\n",
       " (1), Schiffer (1), Elon Musk (1), B. Wu (1), J. Donovan (1), S. Jeong (1)</td>\n",
       "    </tr>\n",
       "    <tr>\n",
       "      <th id=\"T_b6e48_level0_row2\" class=\"row_heading level0 row2\" >2</th>\n",
       "      <td id=\"T_b6e48_row2_col0\" class=\"data row2 col0\" >DATE</td>\n",
       "      <td id=\"T_b6e48_row2_col1\" class=\"data row2 col1\" >37</td>\n",
       "      <td id=\"T_b6e48_row2_col2\" class=\"data row2 col2\" >2022 (10), 2023 (5), 2020 (3), clark 2020 (2), September (2), 2021 (2), 2019 (2), 10 May 2023 (1), the years (1), recent months (1), Schiffer 2023 (1), late 2016 (1), the 1990s (1), many years (1), seven years (1), late 2022 (1), Spring (1), 2): 205630512110213 (1)</td>\n",
       "    </tr>\n",
       "    <tr>\n",
       "      <th id=\"T_b6e48_level0_row3\" class=\"row_heading level0 row3\" >3</th>\n",
       "      <td id=\"T_b6e48_row3_col0\" class=\"data row3 col0\" >CARDINAL</td>\n",
       "      <td id=\"T_b6e48_row3_col1\" class=\"data row3 col1\" >19</td>\n",
       "      <td id=\"T_b6e48_row3_col2\" class=\"data row3 col2\" >one (8), thousands (2), 2.5 million (2), 10.1080/21670811.2023.2208619 (1), 4 (1), 9 million (1), two (1), 6 (1), # (1), 8 (1)</td>\n",
       "    </tr>\n",
       "    <tr>\n",
       "      <th id=\"T_b6e48_level0_row4\" class=\"row_heading level0 row4\" >4</th>\n",
       "      <td id=\"T_b6e48_row4_col0\" class=\"data row4 col0\" >ORDINAL</td>\n",
       "      <td id=\"T_b6e48_row4_col1\" class=\"data row4 col1\" >4</td>\n",
       "      <td id=\"T_b6e48_row4_col2\" class=\"data row4 col2\" >third (3), first (1)</td>\n",
       "    </tr>\n",
       "    <tr>\n",
       "      <th id=\"T_b6e48_level0_row5\" class=\"row_heading level0 row5\" >5</th>\n",
       "      <td id=\"T_b6e48_row5_col0\" class=\"data row5 col0\" >NORP</td>\n",
       "      <td id=\"T_b6e48_row5_col1\" class=\"data row5 col1\" >3</td>\n",
       "      <td id=\"T_b6e48_row5_col2\" class=\"data row5 col2\" >German (2), r. K. (1)</td>\n",
       "    </tr>\n",
       "    <tr>\n",
       "      <th id=\"T_b6e48_level0_row6\" class=\"row_heading level0 row6\" >6</th>\n",
       "      <td id=\"T_b6e48_row6_col0\" class=\"data row6 col0\" >GPE</td>\n",
       "      <td id=\"T_b6e48_row6_col1\" class=\"data row6 col1\" >24</td>\n",
       "      <td id=\"T_b6e48_row6_col2\" class=\"data row6 col2\" >Mastodon (4), Gehl (3), Hendrix (2), Jackson (2), new york (2), Heise (1), mastodon (1), n’t (1), Bailey (1), Takeaways (1), london (1), https://fossacademic.tech/2022/10/18/notesonnobree (1), Hoover (1), Karpf (1), https://davekarpf.substack.com/p/twitter-tumbleweed-watch . (1), masnick (1)</td>\n",
       "    </tr>\n",
       "    <tr>\n",
       "      <th id=\"T_b6e48_level0_row7\" class=\"row_heading level0 row7\" >7</th>\n",
       "      <td id=\"T_b6e48_row7_col0\" class=\"data row7 col0\" >PRODUCT</td>\n",
       "      <td id=\"T_b6e48_row7_col1\" class=\"data row7 col1\" >3</td>\n",
       "      <td id=\"T_b6e48_row7_col2\" class=\"data row7 col2\" >Conversation (1), Poynter (1), Twitter (1)</td>\n",
       "    </tr>\n",
       "    <tr>\n",
       "      <th id=\"T_b6e48_level0_row8\" class=\"row_heading level0 row8\" >8</th>\n",
       "      <td id=\"T_b6e48_row8_col0\" class=\"data row8 col0\" >LOC</td>\n",
       "      <td id=\"T_b6e48_row8_col1\" class=\"data row8 col1\" >1</td>\n",
       "      <td id=\"T_b6e48_row8_col2\" class=\"data row8 col2\" >Black twitter’s (1)</td>\n",
       "    </tr>\n",
       "    <tr>\n",
       "      <th id=\"T_b6e48_level0_row9\" class=\"row_heading level0 row9\" >9</th>\n",
       "      <td id=\"T_b6e48_row9_col0\" class=\"data row9 col0\" >LAW</td>\n",
       "      <td id=\"T_b6e48_row9_col1\" class=\"data row9 col1\" >1</td>\n",
       "      <td id=\"T_b6e48_row9_col2\" class=\"data row9 col2\" >Bell 2023 (1)</td>\n",
       "    </tr>\n",
       "  </tbody>\n",
       "</table>\n"
      ],
      "text/plain": [
       "<pandas.io.formats.style.Styler at 0x15507c850>"
      ]
     },
     "metadata": {},
     "output_type": "display_data"
    },
    {
     "data": {
      "text/html": [
       "<hr>"
      ],
      "text/plain": [
       "<IPython.core.display.HTML object>"
      ]
     },
     "metadata": {},
     "output_type": "display_data"
    },
    {
     "data": {
      "text/html": [
       "\n",
       "            <h3>Document: Social media in the Global South: A Network Dataset of the Malian Twittersphere</h3>\n",
       "            <p><strong>Authors:</strong> ; ; ; ; ; ; ; ; ; </p>\n",
       "            <p><strong>Date:</strong> </p>\n",
       "            "
      ],
      "text/plain": [
       "<IPython.core.display.HTML object>"
      ]
     },
     "metadata": {},
     "output_type": "display_data"
    },
    {
     "data": {
      "text/html": [
       "<style type=\"text/css\">\n",
       "#T_ea0d0 th {\n",
       "  border: 1px solid black;\n",
       "  padding: 8px;\n",
       "  text-align: left;\n",
       "}\n",
       "#T_ea0d0_row0_col0, #T_ea0d0_row0_col1, #T_ea0d0_row0_col2, #T_ea0d0_row1_col0, #T_ea0d0_row1_col1, #T_ea0d0_row1_col2, #T_ea0d0_row2_col0, #T_ea0d0_row2_col1, #T_ea0d0_row2_col2, #T_ea0d0_row3_col0, #T_ea0d0_row3_col1, #T_ea0d0_row3_col2, #T_ea0d0_row4_col0, #T_ea0d0_row4_col1, #T_ea0d0_row4_col2, #T_ea0d0_row5_col0, #T_ea0d0_row5_col1, #T_ea0d0_row5_col2, #T_ea0d0_row6_col0, #T_ea0d0_row6_col1, #T_ea0d0_row6_col2, #T_ea0d0_row7_col0, #T_ea0d0_row7_col1, #T_ea0d0_row7_col2, #T_ea0d0_row8_col0, #T_ea0d0_row8_col1, #T_ea0d0_row8_col2, #T_ea0d0_row9_col0, #T_ea0d0_row9_col1, #T_ea0d0_row9_col2, #T_ea0d0_row10_col0, #T_ea0d0_row10_col1, #T_ea0d0_row10_col2, #T_ea0d0_row11_col0, #T_ea0d0_row11_col1, #T_ea0d0_row11_col2, #T_ea0d0_row12_col0, #T_ea0d0_row12_col1, #T_ea0d0_row12_col2, #T_ea0d0_row13_col0, #T_ea0d0_row13_col1, #T_ea0d0_row13_col2, #T_ea0d0_row14_col0, #T_ea0d0_row14_col1, #T_ea0d0_row14_col2, #T_ea0d0_row15_col0, #T_ea0d0_row15_col1, #T_ea0d0_row15_col2, #T_ea0d0_row16_col0, #T_ea0d0_row16_col1, #T_ea0d0_row16_col2 {\n",
       "  border: 1px solid black;\n",
       "  padding: 8px;\n",
       "  text-align: left;\n",
       "}\n",
       "</style>\n",
       "<table id=\"T_ea0d0\">\n",
       "  <thead>\n",
       "    <tr>\n",
       "      <th class=\"blank level0\" >&nbsp;</th>\n",
       "      <th id=\"T_ea0d0_level0_col0\" class=\"col_heading level0 col0\" >Entity Type</th>\n",
       "      <th id=\"T_ea0d0_level0_col1\" class=\"col_heading level0 col1\" >Count</th>\n",
       "      <th id=\"T_ea0d0_level0_col2\" class=\"col_heading level0 col2\" >Unique Entities</th>\n",
       "    </tr>\n",
       "  </thead>\n",
       "  <tbody>\n",
       "    <tr>\n",
       "      <th id=\"T_ea0d0_level0_row0\" class=\"row_heading level0 row0\" >0</th>\n",
       "      <td id=\"T_ea0d0_row0_col0\" class=\"data row0 col0\" >CARDINAL</td>\n",
       "      <td id=\"T_ea0d0_row0_col1\" class=\"data row0 col1\" >142</td>\n",
       "      <td id=\"T_ea0d0_row0_col2\" class=\"data row0 col2\" >1 (12), 2 (12), # (11), 3 (6), 5 (4), 7 (4), 12 (4), 4 (3), 6 (3), 13 (3), two (2), one (2), 9 (2), 56 (2), 15 (2), 16 (2), 20 (2), 17 (2), 113 (2), 19 (2), 93 (2), seven (1), 56,000 (1), ten (1), One (1), 804 (1), 2. (1), 40 (1), 400 (1), 300 (1), 118 (1), 10 (1), 505 (1), 10,676,046 (1), 20.86𝑀 (1), 56.200 (1), 025,250 (1), 0 (1), 11 (1), 14 (1), more than 20 (1), 25.4004 (1), 6.894 475 (1), 2.844 4.555 (1), 185 8 (1), 140 160 (1), 8 (1), 28 (1), 221 (1), 39 (1), 801 (1), 871 (1), 98 (1), 129 (1), 214 (1), 235 (1), 583 (1), 18 (1), 34 (1), 44 (1), 59 (1), 2 023 (1), 169 (1), 187 (1), 139 (1), 158 (1), 2023(fc. (1), 49 (1), 111 (1), 329 (1), 249 (1), 82 (1), 2540/ (1), 21 (1), 393 (1), 440 (1), 442 (1), 341 (1), 363 (1)</td>\n",
       "    </tr>\n",
       "    <tr>\n",
       "      <th id=\"T_ea0d0_level0_row1\" class=\"row_heading level0 row1\" >1</th>\n",
       "      <td id=\"T_ea0d0_row1_col0\" class=\"data row1 col0\" >LOC</td>\n",
       "      <td id=\"T_ea0d0_row1_col1\" class=\"data row1 col1\" >21</td>\n",
       "      <td id=\"T_ea0d0_row1_col2\" class=\"data row1 col2\" >Africa (7), the Global South (3), South (2), the Global South: A (1), Malian Twittersphere (1), the Global Sou (1), the Global North (1), South - (1), West (1), the Malian Twit (1), Watts (1), North (1)</td>\n",
       "    </tr>\n",
       "    <tr>\n",
       "      <th id=\"T_ea0d0_level0_row2\" class=\"row_heading level0 row2\" >2</th>\n",
       "      <td id=\"T_ea0d0_row2_col0\" class=\"data row2 col0\" >PERSON</td>\n",
       "      <td id=\"T_ea0d0_row2_col1\" class=\"data row2 col1\" >263</td>\n",
       "      <td id=\"T_ea0d0_row2_col2\" class=\"data row2 col2\" >Mali (30), Twitter (21), Malian Twitter (9), Jean Burgess (4), Daniel Thilo Schroeder (2), Mirjam de Bruijn (2), Mulatu Alemayehu Moges (2), Birgit Bräuchler (2), Daniel Miller (2), Cornelissen (2), Roy (2), Breslin (2), Ma (2), Twittersphere (2), kadiolo (2), sanankoroba (2), ménaka (2), Tim Highfield (2), Martha Pérez -Escolar (2), Luca Bruls (1), Noémie Fritz (1), Modibo Galy Cisse (1), Bruce Mutsvairo (1), Kristin Skare Orgeret (1), soci al (1), Burkina Faso (1), Philipp Budka (1), Keita et al. 2015 (1), Malian \n",
       "Twittersphere (1), Logan (1), Sene (1), Aduloju 2016 (1), Nigeria (1), Stefanie Stratchan (1), Arurona Gerber (1), Laurenz Cornelissen (1), Barbara Poblete (1), al. (1), Axel Bruns (1), Mutsvairo et al. 2023 (1), knowi ng (1), Carley (1), Sekara et al. 2016 (1), Yang (1), Twitt (1), Austin Logan (1), ∈ 𝑈𝑡 (1), U𝑢𝐹u (1), malienne (1), bas (1), Assim (1), Sikasso (1), Gao (1), Moroever (1), sikasso (1), manankoro (1), baguineda (1), faladie (1), sebenikoro (1), timbuktu (1), sahel (1), bougouni (1), kalaban (1), gao (1), sirakoro (1), sikoroni (1), tabakoro (1), nènèk oro (1), nènèkoro (1), kalabanko (1), mali (1), malian (1), Ayodeji Anthony (1), https://doi.org/10.1080/1369118X.2016.1162829 (1), Zizi Papacharissi (1), Blok (1), Tobias Gårdhus (1), Morten Axel \n",
       "Pedersen (1), http://somatosphere.net/forumpost/covid19 (1), https (1), Paul Arthur (1), Katherine Bode (1), Pallgrave Macmillan (1), Enli Gunn (1), Budka (1), Philipp (1), Theorising Media (1), Berghahn Books (1), Boko Haram (1), Al Shabaab (1), Laurenz (1), Pieter Theron (1), Richard Barnett (1), Kathleen (1), Ediger (1), David (1), Karl Jiang (1), David A. Bader (1), Courtney Corley (1), Mining Twitter (1), Nwachukwu Andrew (1), Noel Ihebuzor (1), Ngozi Onyechi (1), Nkiru Comfort (1), Augustine Godwin Mboso (1), Stefan (1), Gabriele Griffin (1), Matt Hayler (1), Edinburgh (1), Alissa Marie (1), Keita (1), Seydou Magassa (1), Youssouf Ag Rhissa (1), Téléphonie (1), Mobilité Au Mali (1), Mankon (1), Austin (1), Phillip LaCasse (1), Brian Lunday (1), Alice (1), McCue (1), Colleen (1), Butterworth -Heinemann (1), Shamsuddeen Hassan Muhammad (1), Idris Abdulmumin (1), Abinew Ali Ayele (1), Nedjma \n",
       " (1), David Ifeoluwa Adelani (1), Ibrahim Sa'id Ahmad (1), Beloucif (1), Saif M. Mohammad (1), Sebastian Ruder (1), Oumaima Hourrane (1), Pavel Brazdil (1), António Ali (1), Davis David (1), Salomey Osei (1), Shehu Bello (1), Falalu \n",
       "Ibrahim (1), Samuel Rutunda (1), Tad (1), Belay (1), Wendimu Baye \n",
       "Messelle (1), Sisay Adugna Chala (1), Bernard Opoku (1), Steven Arthur (1), https://arxiv.org/abs/2302.08956 Munoriyarwa (1), Allen (1), Jose Manuel Noguera (1), Jose Manuel Nogoera (1), Mutsvairo (1), Kristin Ogoreth (1), Bruls (1), Samba Dialimpa Badji (1), Ngué Um (1), Rhonda Jones (1), Marcelo Mendoza (1), Ruth Garcia (1), Alejandro Jaimes (1), Glasgow (1), https://orangedatamining.com/blog/2020/2020 -01-29 (1), Melissa (1), Nicolas Moreau (1), Cécile Rousseau (1), Arnaud Mercier (1), Atlani -Duault (1), Schroeder (1), Daniel Thilo (1), Luk Burchard (1), Konstantin Pogorelov (1), Pedro \n",
       "G. Lind (1), Shipley (1), Jesse Weaver (1), Alexia (1), Tanja Bosch (1), Black Twitter (1), Arkadiusz Stopczynski (1), Sune Lehmann (1), Stefanie (1), Ludo Waltm (1), Marie (1), Olivier J. Walther (1), Radil (1), Steven M. 2021 (1), Blog Twitter (1), Duncan (1), Steven Strogatz (1), Set Whose Agenda (1)</td>\n",
       "    </tr>\n",
       "    <tr>\n",
       "      <th id=\"T_ea0d0_level0_row3\" class=\"row_heading level0 row3\" >3</th>\n",
       "      <td id=\"T_ea0d0_row3_col0\" class=\"data row3 col0\" >ORG</td>\n",
       "      <td id=\"T_ea0d0_row3_col1\" class=\"data row3 col1\" >136</td>\n",
       "      <td id=\"T_ea0d0_row3_col2\" class=\"data row3 col2\" >the Malian Twittersphere (7), Twittersphere (5), Axel (4), Bamako (3), Johannes Langguth (2), the Global North (2), DataReportal (2), nioro (2), Egbunike (2), Social Media (2), Computational Social Science (1), Al geria (1), Decoding  Digital Media (1), African Regions of Conflict (1), WhatsApp (1), TikTok (1), Mirca Madianou (1), API (1), Digital Humanities (1), Natural Language Processing (1), NLP (1), Egbunike 2018 (1), Ezeh & Mboso 2018 (1), Smit and Bosch 2022 (1), Bosch 2017 (1), Bruns et (1), GPS (1), Bruns (1), conflict1 (1), the Norwegian Twittersphere (1), Bruns & Enli (1), Internati onal Telecommunication Union (1), ITU (1), Internet World Statistics (1), Twitter Terms of Service (1), Twittersp (1), Goïta (1), Tombouctou (1), Francophone Canada (1), politi cians (1), koulikor (1), kolokani (1), timbuktu (1), #n (1), sokorodji (1), gao (1), sébénikoro (1), kalaban (1), sikoroni (1), djalakorodji (1), tabakoro (1), Youth Networks on Facebook (1), Journal of African Elections (1), Bosch, Tanja (1), Communication & Society   (1), Culture on Social Network \n",
       "Sites (1), Social Media \n",
       "Audiences (1), American Behavioral \n",
       "Scientist 57 (1), The Norwegian Twittersphere: Structure and Dynamics (1), Nordicom Review (1), Conflict (1), Journal of Multicultural Discourses (1), Clarice de Bruyn (1), Cross -Sample Community Detection (1), Computer Scientists and Information Technologists (1), SAICSIT (1), Social Good (1), IEEE (1), Nwachukwu (1), Narrative Landscape Press (Prima Imprint (1), Social Change   (1), Communication (1), the Interpretation of Twitter Material (1), the Digital Humanities (1), Edinburgh University Press (1), D/Statistics/Dashboards/Pages/Digital (1), Anthro pology News (1), Naffet (1), Langaa Research and (1), Social Network Analysis (1), Directed Multilayer Network Approach (1), Social Network Analysis & Mining (1), Mirca (1), International Journal of Cultural Studies (1), Marwick (1), The International Journal of Research (1), New Media Technologies (1), Data Mining and Predictive Analysis (1), Oxford (1), Ousidhoum (1), Sei d Muhie Yimam (1), Tajuddeen Gwadabe (1), Arxiv (1), Twitter Hashtags (1), Post-Apartheid South Africa (1), Modibo Galy Cisse (1), Bamba (1), Social Movements (1), the Challenges of Resource Mobilization (1), Digital Era (1), Nothias, Toussaint (1), Cu lture \n",
       "& Society  42 (1), Wilson (1), Psychiatry (1), Digital Music (1), American Ethnologist  44 (1), Media, Culture & Society   (1), Dynamic  Social Networks (1), the National Academy of Sciences (1), The Detection of Network Patterns (1), FAIR (1), Artificial Intelligence Research (1), Yang, Fan (1), Dynamic Social Network Analysis of Tweets (1), Paris Attack (1)</td>\n",
       "    </tr>\n",
       "    <tr>\n",
       "      <th id=\"T_ea0d0_level0_row4\" class=\"row_heading level0 row4\" >4</th>\n",
       "      <td id=\"T_ea0d0_row4_col0\" class=\"data row4 col0\" >WORK_OF_ART</td>\n",
       "      <td id=\"T_ea0d0_row4_col1\" class=\"data row4 col1\" >20</td>\n",
       "      <td id=\"T_ea0d0_row4_col2\" class=\"data row4 col2\" >Twittersphere (2), Ngué Um (1), Twitter Activism and Youth (1), Resear ching News Discussion on Twitter (1), A ‘Big Data’ Approach to Mapping the \n",
       " (1), Sentiment Analysis (1), Nature of Tweets in \n",
       "the 2015 Nigerian Presidential Elections (1), International Journal of Civic Engage (1), Twitter and Election Campaigns (1), Research Methods for Reading Digital Data (1), Mali” ITU (1), Polymedia: Towards a New Theory of Digital Media (1), Conceiving and Confronting Falsehoods: Probing Perceptions and Realities of \n",
       "Online -based Disinformation (1), Guest Editors’ Introduction: The Current \n",
       "State of Digital Humanities (1), Computing (1), Access Granted: Facebook’s Free Basics (1), Graph Analysis (1), Guaranteeing Well (1), Collective Dynamics of ‘Smallworld’ Networks (1)</td>\n",
       "    </tr>\n",
       "    <tr>\n",
       "      <th id=\"T_ea0d0_level0_row5\" class=\"row_heading level0 row5\" >5</th>\n",
       "      <td id=\"T_ea0d0_row5_col0\" class=\"data row5 col0\" >NORP</td>\n",
       "      <td id=\"T_ea0d0_row5_col1\" class=\"data row5 col1\" >61</td>\n",
       "      <td id=\"T_ea0d0_row5_col2\" class=\"data row5 col2\" >Malian (28), Malians (5), African (4), South African (4), West African (2), Facebook (2), Australian (2), French (2), kalaban (2), West \n",
       "African (1), Mutsvairo (1), Arab (1), Trémolières (1), D. (1), Danish (1), Arabic Twitter (1), Madianou (1), Humanities (1), German (1)</td>\n",
       "    </tr>\n",
       "    <tr>\n",
       "      <th id=\"T_ea0d0_level0_row6\" class=\"row_heading level0 row6\" >6</th>\n",
       "      <td id=\"T_ea0d0_row6_col0\" class=\"data row6 col0\" >DATE</td>\n",
       "      <td id=\"T_ea0d0_row6_col1\" class=\"data row6 col1\" >125</td>\n",
       "      <td id=\"T_ea0d0_row6_col2\" class=\"data row6 col2\" >2020 (9), 2021 (8), 2022 (8), 2019 (7), 2015 (7), 2010 (6), 2018 (6), 2014 (5), 2012 (4), 2013 (3), 2017 (3), 2011 (3), 2016 (3), June 2022 (2), February 4th 2022 (2), 2003 (2), 2023 (2), June 22nd 2022 (2), January 2022 (2), 2009 (1), May 2022 (1), May 2023 (1), June 24th 2022 (1), Jones 2022 (1), Chiluwa 2015 (1), Spring (1), between February 4th 2022 and June \n",
       "22nd 2022 (1), between June 22nd and June 24th 2022 (1), December 2021 (1), a year (1), a year -by-year (1), the preceding years (1), May 2021 (1), daily (1), weekly (1), 12.700 3278 (1), 7910  1062 (1), 32 (1), 58 (1), 6 (1), 14 (1), 7 (1), 39 (1), ed. 2020 (1), 5 (1), 4): e278 (1), 65 (1), 68 (1), 48 (1), January 29th (1), 44 (1), 4085 (1), 42 (1), 1512 (1), 27 (1), 36): 9977 (1), December 2nd, 2021 (1), 1998 (1), 69 (1), 4 (1)</td>\n",
       "    </tr>\n",
       "    <tr>\n",
       "      <th id=\"T_ea0d0_level0_row7\" class=\"row_heading level0 row7\" >7</th>\n",
       "      <td id=\"T_ea0d0_row7_col0\" class=\"data row7 col0\" >PRODUCT</td>\n",
       "      <td id=\"T_ea0d0_row7_col1\" class=\"data row7 col1\" >51</td>\n",
       "      <td id=\"T_ea0d0_row7_col2\" class=\"data row7 col2\" >Twitter (47), 𝐸|𝑢 ∈ (1), Blogger (1), no.1 (1), Ndiaye (1)</td>\n",
       "    </tr>\n",
       "    <tr>\n",
       "      <th id=\"T_ea0d0_level0_row8\" class=\"row_heading level0 row8\" >8</th>\n",
       "      <td id=\"T_ea0d0_row8_col0\" class=\"data row8 col0\" >ORDINAL</td>\n",
       "      <td id=\"T_ea0d0_row8_col1\" class=\"data row8 col1\" >8</td>\n",
       "      <td id=\"T_ea0d0_row8_col2\" class=\"data row8 col2\" >first (5), First (1), 39th (1), 20th (1)</td>\n",
       "    </tr>\n",
       "    <tr>\n",
       "      <th id=\"T_ea0d0_level0_row9\" class=\"row_heading level0 row9\" >9</th>\n",
       "      <td id=\"T_ea0d0_row9_col0\" class=\"data row9 col0\" >GPE</td>\n",
       "      <td id=\"T_ea0d0_row9_col1\" class=\"data row9 col1\" >93</td>\n",
       "      <td id=\"T_ea0d0_row9_col2\" class=\"data row9 col2\" >West Africa (4), Nigeria (4), South Africa (4), Bruns (3), Gelfgren (2), Jordan (2), Mali (2), West -Africa (2), France (2), koutiala (2), niamakoro (2), kalabancoro (2), kolondieba (2), dialakorodji (2), diallassagou (2), New York (2), Senegal (1), Mauritania (1), Ivory \n",
       "Coast (1), Niger (1), Ethiopia (1), Kenya (1), Ghana (1), al. 2020 (1), Domain (1), 𝐹𝑡. (1), Mopti (1), Kayes (1), Segou (1), Koutiala (1), the Malian Twittersphere (1), kati (1), korofina,#korofina (1), koulikoro (1), segou (1), ségou (1), #koumantou (1), quelessebougou (1), wassoulou (1), korodougou (1), #korodougou (1), kalabankoro (1), malikura (1), New York: (1), Samantha (1), Somalia (1), Maphiri Ledingwane (1), Jas (1), Riedy (1), San Diego (1), pp. (1), Internat (1), Logan (1), Hagos (1), London (1), Johannes (1), Emmanuel (1), Media (1), Poblete (1), Barbara (1), Scotland (1), Ajda (1), Sekara (1), Vedran (1), Strachan (1), Aurona Gerber (1), Traag (1), Louvain (1), Leiden (1), Tongxin (1)</td>\n",
       "    </tr>\n",
       "    <tr>\n",
       "      <th id=\"T_ea0d0_level0_row10\" class=\"row_heading level0 row10\" >10</th>\n",
       "      <td id=\"T_ea0d0_row10_col0\" class=\"data row10 col0\" >FAC</td>\n",
       "      <td id=\"T_ea0d0_row10_col1\" class=\"data row10 col1\" >6</td>\n",
       "      <td id=\"T_ea0d0_row10_col2\" class=\"data row10 col2\" >the Malian Twittersphere (4), Digital 2022 (1), International Journa l (1)</td>\n",
       "    </tr>\n",
       "    <tr>\n",
       "      <th id=\"T_ea0d0_level0_row11\" class=\"row_heading level0 row11\" >11</th>\n",
       "      <td id=\"T_ea0d0_row11_col0\" class=\"data row11 col0\" >EVENT</td>\n",
       "      <td id=\"T_ea0d0_row11_col1\" class=\"data row11 col1\" >3</td>\n",
       "      <td id=\"T_ea0d0_row11_col2\" class=\"data row11 col2\" >Nothias 2020 (1), The Arab Spring (1), World Stats (1)</td>\n",
       "    </tr>\n",
       "    <tr>\n",
       "      <th id=\"T_ea0d0_level0_row12\" class=\"row_heading level0 row12\" >12</th>\n",
       "      <td id=\"T_ea0d0_row12_col0\" class=\"data row12 col0\" >LANGUAGE</td>\n",
       "      <td id=\"T_ea0d0_row12_col1\" class=\"data row12 col1\" >3</td>\n",
       "      <td id=\"T_ea0d0_row12_col2\" class=\"data row12 col2\" >English (2), French (1)</td>\n",
       "    </tr>\n",
       "    <tr>\n",
       "      <th id=\"T_ea0d0_level0_row13\" class=\"row_heading level0 row13\" >13</th>\n",
       "      <td id=\"T_ea0d0_row13_col0\" class=\"data row13 col0\" >LAW</td>\n",
       "      <td id=\"T_ea0d0_row13_col1\" class=\"data row13 col1\" >2</td>\n",
       "      <td id=\"T_ea0d0_row13_col2\" class=\"data row13 col2\" >Section 2.3 (1), Section 3 (1)</td>\n",
       "    </tr>\n",
       "    <tr>\n",
       "      <th id=\"T_ea0d0_level0_row14\" class=\"row_heading level0 row14\" >14</th>\n",
       "      <td id=\"T_ea0d0_row14_col0\" class=\"data row14 col0\" >PERCENT</td>\n",
       "      <td id=\"T_ea0d0_row14_col1\" class=\"data row14 col1\" >6</td>\n",
       "      <td id=\"T_ea0d0_row14_col2\" class=\"data row14 col2\" >68% (1), 59.8% (1), 29 .9% (1), at least 50% (1), #bamako (1), #djikoroni (1)</td>\n",
       "    </tr>\n",
       "    <tr>\n",
       "      <th id=\"T_ea0d0_level0_row15\" class=\"row_heading level0 row15\" >15</th>\n",
       "      <td id=\"T_ea0d0_row15_col0\" class=\"data row15 col0\" >QUANTITY</td>\n",
       "      <td id=\"T_ea0d0_row15_col1\" class=\"data row15 col1\" >3</td>\n",
       "      <td id=\"T_ea0d0_row15_col2\" class=\"data row15 col2\" >2 xxxxx   (1), 3 xxxxx   (1), 4 xxxxx   (1)</td>\n",
       "    </tr>\n",
       "    <tr>\n",
       "      <th id=\"T_ea0d0_level0_row16\" class=\"row_heading level0 row16\" >16</th>\n",
       "      <td id=\"T_ea0d0_row16_col0\" class=\"data row16 col0\" >MONEY</td>\n",
       "      <td id=\"T_ea0d0_row16_col1\" class=\"data row16 col1\" >9</td>\n",
       "      <td id=\"T_ea0d0_row16_col2\" class=\"data row16 col2\" >kati (1), mopti (1), sokorodji (1), sébénikoro (1), wassoulou (1), djalakorodji (1), #malien (1), malienne (1), 00223 (1)</td>\n",
       "    </tr>\n",
       "  </tbody>\n",
       "</table>\n"
      ],
      "text/plain": [
       "<pandas.io.formats.style.Styler at 0x14f3b7990>"
      ]
     },
     "metadata": {},
     "output_type": "display_data"
    },
    {
     "data": {
      "text/html": [
       "<hr>"
      ],
      "text/plain": [
       "<IPython.core.display.HTML object>"
      ]
     },
     "metadata": {},
     "output_type": "display_data"
    },
    {
     "data": {
      "text/html": [
       "\n",
       "            <h3>Document: 14-18: la marque et la trace</h3>\n",
       "            <p><strong>Authors:</strong> </p>\n",
       "            <p><strong>Date:</strong> 2018</p>\n",
       "            "
      ],
      "text/plain": [
       "<IPython.core.display.HTML object>"
      ]
     },
     "metadata": {},
     "output_type": "display_data"
    },
    {
     "data": {
      "text/html": [
       "<style type=\"text/css\">\n",
       "#T_f1dfc th {\n",
       "  border: 1px solid black;\n",
       "  padding: 8px;\n",
       "  text-align: left;\n",
       "}\n",
       "#T_f1dfc_row0_col0, #T_f1dfc_row0_col1, #T_f1dfc_row0_col2, #T_f1dfc_row1_col0, #T_f1dfc_row1_col1, #T_f1dfc_row1_col2, #T_f1dfc_row2_col0, #T_f1dfc_row2_col1, #T_f1dfc_row2_col2, #T_f1dfc_row3_col0, #T_f1dfc_row3_col1, #T_f1dfc_row3_col2, #T_f1dfc_row4_col0, #T_f1dfc_row4_col1, #T_f1dfc_row4_col2, #T_f1dfc_row5_col0, #T_f1dfc_row5_col1, #T_f1dfc_row5_col2, #T_f1dfc_row6_col0, #T_f1dfc_row6_col1, #T_f1dfc_row6_col2, #T_f1dfc_row7_col0, #T_f1dfc_row7_col1, #T_f1dfc_row7_col2, #T_f1dfc_row8_col0, #T_f1dfc_row8_col1, #T_f1dfc_row8_col2, #T_f1dfc_row9_col0, #T_f1dfc_row9_col1, #T_f1dfc_row9_col2, #T_f1dfc_row10_col0, #T_f1dfc_row10_col1, #T_f1dfc_row10_col2 {\n",
       "  border: 1px solid black;\n",
       "  padding: 8px;\n",
       "  text-align: left;\n",
       "}\n",
       "</style>\n",
       "<table id=\"T_f1dfc\">\n",
       "  <thead>\n",
       "    <tr>\n",
       "      <th class=\"blank level0\" >&nbsp;</th>\n",
       "      <th id=\"T_f1dfc_level0_col0\" class=\"col_heading level0 col0\" >Entity Type</th>\n",
       "      <th id=\"T_f1dfc_level0_col1\" class=\"col_heading level0 col1\" >Count</th>\n",
       "      <th id=\"T_f1dfc_level0_col2\" class=\"col_heading level0 col2\" >Unique Entities</th>\n",
       "    </tr>\n",
       "  </thead>\n",
       "  <tbody>\n",
       "    <tr>\n",
       "      <th id=\"T_f1dfc_level0_row0\" class=\"row_heading level0 row0\" >0</th>\n",
       "      <td id=\"T_f1dfc_row0_col0\" class=\"data row0 col0\" >DATE</td>\n",
       "      <td id=\"T_f1dfc_row0_col1\" class=\"data row0 col1\" >49</td>\n",
       "      <td id=\"T_f1dfc_row0_col2\" class=\"data row0 col2\" >1960 (5), 1930 (4), 14-18 (3), 1914 (3), 1990 (3), 1932 (2), 2000 (2), 1992 (2), 2018 (2), 2011 (2), 0246-2346 (1), 1964 (1), 2014 (1), 1929 (1), 1915 (1), 1934 (1), 1925 (1), 1998 (1), 1916 (1), 1966 (1), 1961 (1), 1977 (1), 1959 (1), 1914-\n",
       "1918 (1), 2013 (1), 2004 (1), 1789 (1), l’œuvre d’une (1), d’une (1), 2005 (1), Fin 2017 (1)</td>\n",
       "    </tr>\n",
       "    <tr>\n",
       "      <th id=\"T_f1dfc_level0_row1\" class=\"row_heading level0 row1\" >1</th>\n",
       "      <td id=\"T_f1dfc_row1_col0\" class=\"data row1 col0\" >GPE</td>\n",
       "      <td id=\"T_f1dfc_row1_col1\" class=\"data row1 col1\" >46</td>\n",
       "      <td id=\"T_f1dfc_row1_col2\" class=\"data row1 col2\" >Consortium Luxembourg (14), France (7), voit (2), sont (2), la (2), LA (1), la Pre -\n",
       " (1), sacrée (1), Somme et Ardennes (1), Soudain (1), Et puis (1), Oserais (1), Craonne (1), Berlin (1), la nôtre (1), Bref (1), Goncourt (1), Conan (1), La (1), Maastricht (1), chez (1), Paris (1), la mesure (1), la ﬁgure (1)</td>\n",
       "    </tr>\n",
       "    <tr>\n",
       "      <th id=\"T_f1dfc_level0_row2\" class=\"row_heading level0 row2\" >2</th>\n",
       "      <td id=\"T_f1dfc_row2_col0\" class=\"data row2 col0\" >PERSON</td>\n",
       "      <td id=\"T_f1dfc_row2_col1\" class=\"data row2 col1\" >183</td>\n",
       "      <td id=\"T_f1dfc_row2_col2\" class=\"data row2 col2\" >Gallimard (11), Pierre Nora (6), de la (4), qui (3), C’est (2), Mais (2), Goncourt (2), qui voit (2), Rouzeau (2), Grande Guerre (2), l'adresse (1), ce soit (1), écrit de\n",
       "l'éditeur (1), par la (1), TCPDF (1), Gallimard  Pierre Nora (1), directeur de la (1), Nora (1), guerre de \n",
       "1914 (1), la seule ambition de mettre (1), Si l’on jette (1), siècle qui (1), s’individualiser deux \n",
       " (1), d’à peu près égale longueur (1), jusqu’aux années (1), mais qui dit l’essentiel (1), qui n’a (1), La \n",
       "seule (1), seule journée (1), Gallimard  87\n",
       " (1), de Georges Duhamel (1), Les Croix (1), Maurice Genevoix (1), qui les domine (1), de Norton Cru (1), Témoins (1), qui se (1), donne (1), mais \n",
       "encore plus (1), Pierre Renouvin (1), la mienne (1), Isaac» de la même (1), année consacre (1), intro -\n",
       " (1), appartenait encore (1), du capo -\n",
       " (1), Adolf Hitler (1), laisse sans \n",
       "voix (1), qui en (1), Jacques Chirac (1), C’est François \n",
       "Hollande (1), qui déclare tous (1), qui n’ont plus (1), de la mémoire (1), mais \n",
       "tous (1), titre de \n",
       " (1), Gallimard  88 (1), Verdun (1), Nouvelle Histoire (1), la collecte des (1), profondeurs de l’individuel et \n",
       "du (1), la guerre \n",
       "ouvre (1), jeune généra (1), Jean-Jacques \n",
       "Becker (1), lien étroit (1), de \n",
       "l’opinion (1), d’appréhender et de \n",
       "faire (1), de \n",
       "Hitler (1), justiﬁer (1), la condam -\n",
       " (1), Guerre (1), celle qui (1), extré -\n",
       "mités de sens qu’a (1), André Ducasse (1), Jacques Meyer (1), Gabriel Perreux (1), Livre (1), avait fallu toute l’autorité de \n",
       "Maurice Genevoix (1), Genevoix (1), ce soit le (1), même historien (1), Marc Ferro (1), Fernand Braudel (1), qui soit à (1), l’auteur de la (1), Guerre  qui prend en (1), Gallimard  89 (1), se situe (1), de François \n",
       "Furet (1), Jean Rouaud (1), Pierre Lemaître (1), guerre  de Stéphane Audoin-Rouzeau (1), j’ai eu l’honneur de publier en (1), Jean-Jacques Becker (1), Stéphane Audoin-\n",
       " (1), année (1), Jay (1), j’emprunte ici beaucoup (1), la dispari -\n",
       "tion (1), la guerre \n",
       " (1), aussi présente (1), qui \n",
       "effacent la (1), de Sarajevo qui \n",
       "semble (1), Quel (1), Gallimard  90 (1), qui s’attache (1), de la guerre (1), jusqu’à l’anni -\n",
       "versaire (1), quatre années qui marquent le (1), celui de l (1), Joseph Zimet (1), ampleur \n",
       "à (1), de la République (1), directeur de la \n",
       "Mission (1), du \n",
       " (1), Cette (1), musée qui pour marquer sa spéciﬁcité \n",
       " (1), Musée (1), la muséographie (1), de ce \n",
       "lieu (1), qui favorise (1), de ce qui n’est \n",
       "plus (1), de musées \n",
       "locaux sur toutes (1), musée de Meaux (1), Jean-Pierre Vernay (1), de Meaux (1), de \n",
       "vue architectural (1), Gallimard  91\n",
       " (1), Macron (1), Clemenceau (1), de \n",
       "Clemenceau (1), Jean-Noël Jeanneney (1), année \n",
       "d’hommage à Georges Clemenceau (1), L’Année  Clemenceau (1), Éditions (1), de Samuël Tomei (1), de Michel Winock (1), de 2007 (1), Voilà (1), de \n",
       "Gaulle (1), nationale qui (1), France Libre (1), diffus qui \n",
       "nourrit la (1), de Clemenceau (1), C’est ce qui lui donne son (1), de mythe d’origine (1), Pierre Nora.rang (1), guerre (1), l’homme (1), déﬁ de la transmission après \n",
       "l’effacement (1), du deuil (1), qui viendront (1), d’Argonne du Nord (1), quatre années (1), l’année de l’armistice (1), qui doit mettre (1), de paix (1)</td>\n",
       "    </tr>\n",
       "    <tr>\n",
       "      <th id=\"T_f1dfc_level0_row3\" class=\"row_heading level0 row3\" >3</th>\n",
       "      <td id=\"T_f1dfc_row3_col0\" class=\"data row3 col0\" >FAC</td>\n",
       "      <td id=\"T_f1dfc_row3_col1\" class=\"data row3 col1\" >7</td>\n",
       "      <td id=\"T_f1dfc_row3_col2\" class=\"data row3 col2\" >Le Débat (1), par la (1), la consoli -\n",
       "dation (1), la base est (1), Le  Passé (1), Le (1), nom même (1)</td>\n",
       "    </tr>\n",
       "    <tr>\n",
       "      <th id=\"T_f1dfc_level0_row4\" class=\"row_heading level0 row4\" >4</th>\n",
       "      <td id=\"T_f1dfc_row4_col0\" class=\"data row4 col0\" >CARDINAL</td>\n",
       "      <td id=\"T_f1dfc_row4_col1\" class=\"data row4 col1\" >35</td>\n",
       "      <td id=\"T_f1dfc_row4_col2\" class=\"data row4 col2\" >14-18 (7), RP-Nora.indd (6), 86 (2), 91 (2), 89 (2), 2018/4 (1), 201 (1), 22 (1), 27 000 (1), 1918 (1), 28 (1), gros (1), 87 (1), globaux (1), mémoriaux (1), qu’impuis (1), 88 (1), 50 000 (1), 90 (1), 2013 (1), 11 (1)</td>\n",
       "    </tr>\n",
       "    <tr>\n",
       "      <th id=\"T_f1dfc_level0_row5\" class=\"row_heading level0 row5\" >5</th>\n",
       "      <td id=\"T_f1dfc_row5_col0\" class=\"data row5 col0\" >ORG</td>\n",
       "      <td id=\"T_f1dfc_row5_col1\" class=\"data row5 col1\" >80</td>\n",
       "      <td id=\"T_f1dfc_row5_col2\" class=\"data row5 col2\" >un (16), vécu (2), Antoine Prost (2), Un (2), ISSN (1), ligne à (1), Toute (1), sauf (1), de la \n",
       "Grande Guerre (1), d’oiseau (1), par un engagement plus (1), par un trait un peu fort (1), trois semaines après la déclaration \n",
       "de guerre (1), de la \n",
       "mettre à jour (1), noire de la guerre (1), La Crise (1), la  Grande (1), de la \n",
       "célèbre (1), qui (1), la \n",
       "perspective (1), dans la mémoire \n",
       "des Français (1), La Vie (1), un domaine immense à (1), Les Français (1), la Grande  Guerre (1), Les Anciens (1), nouveaux font leur (1), Allemagne (1), par la ruine parais -\n",
       " (1), celle de la Première (1), qu’il (1), sa préface (1), Norton Cru» (1), Cette (1), d’obus (1), dans la plus (1), Les Champs (1), l’Encyclopédie (1), François \n",
       "Hollande (1), nouvelle de ce (1), n’a jamais (1), la disparition du communisme à \n",
       "l’Est et l’éclatement de l’Union soviétique (1), sein \n",
       "de millions de familles (1), cas de la Grande Guerre (1), dans une (1), de la mémoire (1), Il s’agit d’une (1), Prost (1), de la révolution de (1), nouvelle de la (1), l’«Historial de la Grande Guerre (1), Par (1), accompagnée par exemple de \n",
       "sonorisation (1), Belgique (1), Benjamin-Franklin à Paris (1), dans la (1), fondateur et (1), côté de la (1), la Grande (1), dans sa \n",
       "chair (1), Chemin des Dames (1), La France (1)</td>\n",
       "    </tr>\n",
       "    <tr>\n",
       "      <th id=\"T_f1dfc_level0_row6\" class=\"row_heading level0 row6\" >6</th>\n",
       "      <td id=\"T_f1dfc_row6_col0\" class=\"data row6 col0\" >NORP</td>\n",
       "      <td id=\"T_f1dfc_row6_col1\" class=\"data row6 col1\" >40</td>\n",
       "      <td id=\"T_f1dfc_row6_col2\" class=\"data row6 col2\" >dans (29), Dans (2), Chacun (1), Texte (1), Lionel (1), d’époque (1), Capitaine (1), être (1), Sans (1), Dictionnaire (1), sans (1)</td>\n",
       "    </tr>\n",
       "    <tr>\n",
       "      <th id=\"T_f1dfc_level0_row7\" class=\"row_heading level0 row7\" >7</th>\n",
       "      <td id=\"T_f1dfc_row7_col0\" class=\"data row7 col0\" >LOC</td>\n",
       "      <td id=\"T_f1dfc_row7_col1\" class=\"data row7 col1\" >2</td>\n",
       "      <td id=\"T_f1dfc_row7_col2\" class=\"data row7 col2\" >d’État jusqu’aux (1), Grand Palais (1)</td>\n",
       "    </tr>\n",
       "    <tr>\n",
       "      <th id=\"T_f1dfc_level0_row8\" class=\"row_heading level0 row8\" >8</th>\n",
       "      <td id=\"T_f1dfc_row8_col0\" class=\"data row8 col0\" >WORK_OF_ART</td>\n",
       "      <td id=\"T_f1dfc_row8_col1\" class=\"data row8 col1\" >2</td>\n",
       "      <td id=\"T_f1dfc_row8_col2\" class=\"data row8 col2\" >Halphen-Sagnac (1), Bouquins (1)</td>\n",
       "    </tr>\n",
       "    <tr>\n",
       "      <th id=\"T_f1dfc_level0_row9\" class=\"row_heading level0 row9\" >9</th>\n",
       "      <td id=\"T_f1dfc_row9_col0\" class=\"data row9 col0\" >PERCENT</td>\n",
       "      <td id=\"T_f1dfc_row9_col1\" class=\"data row9 col1\" >1</td>\n",
       "      <td id=\"T_f1dfc_row9_col2\" class=\"data row9 col2\" >14-18 qui (1)</td>\n",
       "    </tr>\n",
       "    <tr>\n",
       "      <th id=\"T_f1dfc_level0_row10\" class=\"row_heading level0 row10\" >10</th>\n",
       "      <td id=\"T_f1dfc_row10_col0\" class=\"data row10 col0\" >ORDINAL</td>\n",
       "      <td id=\"T_f1dfc_row10_col1\" class=\"data row10 col1\" >1</td>\n",
       "      <td id=\"T_f1dfc_row10_col2\" class=\"data row10 col2\" >second (1)</td>\n",
       "    </tr>\n",
       "  </tbody>\n",
       "</table>\n"
      ],
      "text/plain": [
       "<pandas.io.formats.style.Styler at 0x14f51f150>"
      ]
     },
     "metadata": {},
     "output_type": "display_data"
    },
    {
     "data": {
      "text/html": [
       "<hr>"
      ],
      "text/plain": [
       "<IPython.core.display.HTML object>"
      ]
     },
     "metadata": {},
     "output_type": "display_data"
    },
    {
     "data": {
      "text/html": [
       "\n",
       "            <h3>Document: Comment s’élabore la mémoire collective sur le web ?</h3>\n",
       "            <p><strong>Authors:</strong> </p>\n",
       "            <p><strong>Date:</strong> 2019-06-17</p>\n",
       "            "
      ],
      "text/plain": [
       "<IPython.core.display.HTML object>"
      ]
     },
     "metadata": {},
     "output_type": "display_data"
    },
    {
     "data": {
      "text/html": [
       "<style type=\"text/css\">\n",
       "#T_b5756 th {\n",
       "  border: 1px solid black;\n",
       "  padding: 8px;\n",
       "  text-align: left;\n",
       "}\n",
       "#T_b5756_row0_col0, #T_b5756_row0_col1, #T_b5756_row0_col2, #T_b5756_row1_col0, #T_b5756_row1_col1, #T_b5756_row1_col2, #T_b5756_row2_col0, #T_b5756_row2_col1, #T_b5756_row2_col2, #T_b5756_row3_col0, #T_b5756_row3_col1, #T_b5756_row3_col2, #T_b5756_row4_col0, #T_b5756_row4_col1, #T_b5756_row4_col2, #T_b5756_row5_col0, #T_b5756_row5_col1, #T_b5756_row5_col2, #T_b5756_row6_col0, #T_b5756_row6_col1, #T_b5756_row6_col2, #T_b5756_row7_col0, #T_b5756_row7_col1, #T_b5756_row7_col2, #T_b5756_row8_col0, #T_b5756_row8_col1, #T_b5756_row8_col2, #T_b5756_row9_col0, #T_b5756_row9_col1, #T_b5756_row9_col2, #T_b5756_row10_col0, #T_b5756_row10_col1, #T_b5756_row10_col2, #T_b5756_row11_col0, #T_b5756_row11_col1, #T_b5756_row11_col2, #T_b5756_row12_col0, #T_b5756_row12_col1, #T_b5756_row12_col2, #T_b5756_row13_col0, #T_b5756_row13_col1, #T_b5756_row13_col2 {\n",
       "  border: 1px solid black;\n",
       "  padding: 8px;\n",
       "  text-align: left;\n",
       "}\n",
       "</style>\n",
       "<table id=\"T_b5756\">\n",
       "  <thead>\n",
       "    <tr>\n",
       "      <th class=\"blank level0\" >&nbsp;</th>\n",
       "      <th id=\"T_b5756_level0_col0\" class=\"col_heading level0 col0\" >Entity Type</th>\n",
       "      <th id=\"T_b5756_level0_col1\" class=\"col_heading level0 col1\" >Count</th>\n",
       "      <th id=\"T_b5756_level0_col2\" class=\"col_heading level0 col2\" >Unique Entities</th>\n",
       "    </tr>\n",
       "  </thead>\n",
       "  <tbody>\n",
       "    <tr>\n",
       "      <th id=\"T_b5756_level0_row0\" class=\"row_heading level0 row0\" >0</th>\n",
       "      <td id=\"T_b5756_row0_col0\" class=\"data row0 col0\" >FAC</td>\n",
       "      <td id=\"T_b5756_row0_col1\" class=\"data row0 col1\" >48</td>\n",
       "      <td id=\"T_b5756_row0_col2\" class=\"data row0 col2\" >Document (28), l’auteur (4), La Découverte (3), Le (2), ligne de la (1), Le cas de la Grande Guerre (1), état de (1), Le cadre méthodologique mis (1), même lieu (1), de Douaumont à Verdun (1), la mesure de leurs (1), la démarche de la micro-histoire (1), la mesure des (1), Le cas de l’Open-Source (1), Le sacre de l’amateur (1)</td>\n",
       "    </tr>\n",
       "    <tr>\n",
       "      <th id=\"T_b5756_level0_row1\" class=\"row_heading level0 row1\" >1</th>\n",
       "      <td id=\"T_b5756_row1_col0\" class=\"data row1 col0\" >ORG</td>\n",
       "      <td id=\"T_b5756_row1_col1\" class=\"data row1 col1\" >350</td>\n",
       "      <td id=\"T_b5756_row1_col2\" class=\"data row1 col2\" >un (82), La Découverte (39), La Découverte  Comment (13), de la (7), qu’il (6), Un (6), BnF (4), Cette (4), dans la (4), retraité (4), de la Grande Guerre (2), Halbwachs (2), Quelle (2), de la mémoire (2), dans sa (2), Ainsi (2), Par (2), collecte de (2), Iramuteq (2), une (2), IM (2), Alors (2), de la Grande Guerre\n",
       " \n",
       " (1), ISSN (1), ligne à (1), Distribution (1), Toute (1), sauf (1), LA MÉMOIRE (1), ligne de la (1), sein d’un réseau d’amateurs (1), fait dans des \n",
       "cadres (1), Télécom (1), créer des (1), devoir de mémoire (1), De la (1), de sa force (1), dominés de l’histoire (1), identifie trois (1), qui va conduire à (1), dans la fabrication de la (1), l’essor de l’histoire (1), multiculturalisme, qui permet (1), XXV (1), XXIV (1), la mise à disposition des (1), qui s’appuient (1), l’essor des technologies de reproduction et de diffusion (1), manière de faire (1), ligne montrait (1), de la BnF\n",
       "Comment (1), pris l’option (1), décidé \n",
       "de constituer une collecte dédiée à la Grande Guerre (1), la mise (1), l’abandon (1), sa disparition à (1), d’auteur (1), l’épreuve (1), Différentes (1), Parmi (1), la Grande (1), Il s’agit d’un forum dédié \n",
       "à la Grande Guerre (1), mesure des formes de citations (1), dans la mémoire de la Grande Guerre (1), compris des modérateurs (1), pour leur (1), ligne de lecture, d’exploration d’archives (1), mesure de jouer (1), sur la cartographie (1), la représentation qui leur est \n",
       "proposée (1), dans la carte (1), de la recherche (1), qui s’avère (1), précieux (1), UN CORPUS DE SITES (1), UN (1), Cela (1), sur la relation (analyse de réseau et (1), Défense, Éducation, Culture (1), BDIC (1), la carte des (1), de la thématique (1), sur la carte (1), qui n’avait pas été (1), cœur de notre (1), Si la carte (1), une approche systématique d’exploitation des métadonnées et (1), fiche de profil (1), dans la population française (1), la marine (1), cœur de \n",
       "ces (1), privilégié des collectionneurs (1), touche à la frontière (1), Vient (1), R.I (1), RIT (1), Journal (1), UNE (1), de la Grande (1), la participation est (1), cas plus problématique (1), fait de ceux qui (1), Conein (1), dans la longueur des fils (1), sa capacité d’apporter des (1), non problématique qui (1), qui sont des signes de reconnaissance (1), qui ont vocation (1), dans la rubrique (1), insérées (1), de la carte (1), sur la même (1), une même rue (1), ce que fait par (1), de la Défense (1), d’intéresser un public plus (1), sur la qualité des \n",
       "sources (1), ceux qui sont \n",
       "pertinents par (1), l’auteur (1), l’heure H de l’assaut (1), privé de l’auteur (1), site, (1), lors de cet assaut (1), SA (1), de la présence de toutes ces (1), qui passe par (1), Gunthert (1), d’être (1), par un devoir de mémoire (1), dans sa rubrique \n",
       "« (1), soldat (1), cœur consolé de ceux \n",
       " (1), humbles qui auraient (1), préféré continuer \n",
       "de pousser la (1), dans un petit coin de leur (1), qui ne purent jamais (1), présents à (1), Il n’y (1), Il s’agit (1), de la mémoire qui reconstituent (1), dans un milieu de mémoire (1), dans \n",
       "leur (1), manière de travailler (1), archivé par la (1), Il s’agit d’une (1), une organisation sociale qui fabrique (1), assez (1), dans un lieu (1), ligne dans trois (1), sur la (1), ligne par assemblage (1), transformer notre (1), cœur de la logique de \n",
       "l’écriture (1), la pression des \n",
       "normes devrait (1), de la recherche académique et (1), BnF et Ina (1), un fait social (1), être étendue à bien d’autres (1), RÉFÉRENCES (1), AMAR M. (1), Construction de la (1), Nanterre, Presses (1), Bibliothèque (1), IIPC (1), Éditions de Minuit (1), consulté (1), GUNTHERT A. (1), Études (1), Les (1), sociaux de la mémoire (1), LA V ABRE (1), Cambridge University Press (1), NORA P. ( (1), Entre Mémoire et Histoire (1), XV-XLII (1), the Historical Sociology of Mnemonic Practices (1), POLLAK M. (1), Métailié (1), Les Cahiers de l’analyse des (1)</td>\n",
       "    </tr>\n",
       "    <tr>\n",
       "      <th id=\"T_b5756_level0_row2\" class=\"row_heading level0 row2\" >2</th>\n",
       "      <td id=\"T_b5756_row2_col0\" class=\"data row2 col0\" >PERSON</td>\n",
       "      <td id=\"T_b5756_row2_col1\" class=\"data row2 col1\" >331</td>\n",
       "      <td id=\"T_b5756_row2_col2\" class=\"data row2 col2\" >Réseaux n (12), qui (8), Grande Guerre (8), qui se (6), La Découverte (5), de la (5), Nora (5), Qui (5), mais aussi (4), ce qui (4), Ensuite (4), Réseaux (3), lien (3), Valérie Beaudouin (2), ce soit (2), La (2), Marie-Claire Lavabre (2), cadre du projet (2), Philippe Chevallier (2), Beaudouin (2), Olick et Robbins (2), qui donne (2), Gallica (2), qui évoque (2), l’existence (2), HALBWACHS M. ( (2), Albin Michel (2), l'adresse (1), https://www.cairn.info/revue-reseaux-2019-2-page-141.htm\n",
       "-------------------------------------------------------------------------------------------------------------------- (1), écrit de\n",
       "l'éditeur (1), par la (1), TCPDF (1), Valérie BEAUDOUIN (1), Maurice Halbwachs (1), passé qui se (1), historiographie (1), menée dans (1), Labex Les Passés (1), Nicolas Auray (1), Josselin Morvan (1), Zeynep Pehlivan (1), Peter Stirling (1), Chevallier (1), donc pas de la mémoire (1), Nora de (1), Depuis (1), nos sociétés (1), Gensburger (1), de Gaulle (1), réveil de la (1), Michael Pollak (1), d’abord (1), la psychanalyse (1), l’émergence de (1), changement qui fait \n",
       " (1), Henry Rousso (1), Rousso (1), sourde liée (1), manière de construire la (1), qui mobilisent (1), pu se renouveler ce (1), qui constituent des \n",
       "lieux (1), web qui (1), journaux (1), journaux de guerre (1), Guigueno (1), aujourd’hui encore (1), l’effort (1), Guerre (1), laisse pas \n",
       "appréhender aisément (1), construire un (1), qu’il s’agit (1), mais qui est (1), l’on soit entré (1), pourvoyeur de requêtes (1), Amar et Chevallier (1), cadre de \n",
       "sa (1), passé (1), successifs du média (1), de la collecte (1), la constitu -\n",
       "tion (1), fouille de données (1), celui qui consiste (1), de la collecte \n",
       " (1), Pehlivan et (1), Gephi (1), sert de point (1), mais il (1), explora -\n",
       "tion (1), mesure de la (1), qui gra -\n",
       " (1), qui interviennent \n",
       " (1), qui ont créé des (1), d’autres qui publient leurs (1), d’autres qui (1), publique \n",
       "autour de la Grande Guerre (1), mais aussi à des activités (1), de visites de lieux (1), Connaisseurs de l’environnement (1), notre recherche (1), contexte de fouille de données (1), mémorielle (1), la fouille de texte (1), devoir hybrider (1), d’un cadre professionnel (1), tourisme (1), qui ont (1), avait \n",
       "pas de « (1), non \n",
       "de sa (1), anticipé (1), zone sud (1), zone nord (1), non institutionnelle (1), qui constitue (1), de \n",
       "la guerre : (1), Guerre qui (1), qui ont \n",
       "pour (1), ce qui \n",
       "explique leur (1), aucun lien (1), qui dis -\n",
       " (1), dur de participants (1), qui montre (1), que ce (1), De (1), de la marine (1), leur genre (1), Max Reinert (1), Reinert (1), qui \n",
       "constitue (1), qui l’entourent (1), la colonne (1), que se (1), du lien \n",
       "social (1), ceux qui (1), qui indique (1), modes de transmission (1), Latapy (1), mais aussi \n",
       "à progresser (1), être aisé (1), de Lave (1), Wenger (1), de ceux qui posent (1), l’appren (1), communauté de (1), qui depuis (1), décrite de la (1), chacun de se (1), voit bien (1), Autour (1), qui corres -\n",
       " (1), sert de \n",
       "point (1), plateforme de blog (1), chacun bénéficie de l’entraide (1), Spip (1), De même (1), d’archivage de toute (1), de journaux (1), gui -\n",
       "dées par une recherche généalogique (1), réseau de (1), n’ont aucun (1), d’un groupe (1), du régi -\n",
       " (1), que la (1), qui ont acquis (1), réseau de liens (1), de se mettre à collec (1), qu’il (1), voir à (1), présente de \n",
       "manière (1), L’auteur (1), qui témoignent de l’intensité (1), qui pro -\n",
       " (1), Guy Hallé (1), qui domine (1), je vais \n",
       "le (1), sourcer soit à la fin d’un petit papier (1), vais prendre (1), je vais récupérer (1), colonne d’un \n",
       "journal (1), je vais la mettre sur (1), Avec la (1), Depuis 2011 (1), travail mené (1), de (1), Oui (1), cela donne de la (1), Mais (1), acquiert \n",
       "une (1), être son (1), quand cela (1), l’égard de l’image (1), soit leur portée (1), L’auteur d’un des sites de référence (1), 149e Régiment (1), qui considère \n",
       " (1), de vécu de l’individu (1), d’un genre nouveau qui tentent (1), réseau de lieux (1), activé par (1), de la guerre et de mener (1), communauté de pra -\n",
       " (1), aussi autour (1), cadre de la (1), mais aussi \n",
       "avec (1), qui n’accordent pas (1), de la guerre (1), un territoire qui leur est (1), ce soit des (1), lien hypertexte qui (1), cœur de \n",
       "cette (1), bien constituer (1), Jack Goody (1), qui la distingue de (1), comme la (1), de penser \n",
       " (1), qui touche (1), contrainte apparente (1), Cependant (1), Avec (1), d’activité ana -\n",
       "lysé (1), Au cœur (1), d’enquête se trouve la (1), C’est \n",
       "bien l’agencement de (1), de Gallica (1), ALLIER P. (1), MAUREL L. ( (1), N. Brügger (1), I. Milligan (1), Handbook of Web History (1), BECKER A. (1), Voir la Grande Guerre (1), Armand Colin (1), Sociologie (1), GENSBURGER S. (1), Revue de synthèse (1), GINZBURG C. (1), Le Débat (1), GOODY J. ( (1), La raison (1), B. (1), Librairie Alcan (1), VENTURINI T. (1), HEYMANN S. (1), BASTIAN M. ( (1), PLoS (1), LAURENT B. (1), BAKER M. (1), Approches (1), Presses des Mines (1), VE J. (1), WENGER E. ( (1), P. Nora (1), dir. (1), I. La République (1), OLICK J. K. (1), RATINAUD P. (1), ALCESTE \n",
       "d’analyse de texte (1), ROUSSO H. (1)</td>\n",
       "    </tr>\n",
       "    <tr>\n",
       "      <th id=\"T_b5756_level0_row3\" class=\"row_heading level0 row3\" >3</th>\n",
       "      <td id=\"T_b5756_row3_col0\" class=\"data row3 col0\" >CARDINAL</td>\n",
       "      <td id=\"T_b5756_row3_col1\" class=\"data row3 col1\" >115</td>\n",
       "      <td id=\"T_b5756_row3_col2\" class=\"data row3 col2\" >214 (13), 1 (7), 2 (6), 3 (6), 5 (5), 4 (3), 30 (3), 7 (3), 8 (3), 9 (3), 169 (2), d’une (2), 15 (2), 6 (2), 214-215 (1), 141 (1), 9782348043581 (1), 10.3917 (1), 221 (1), 144 (1), 145 (1), 146 (1), 147 (1), 148 (1), 149 (1), 24 000 (1), 500 000 (1), 150 (1), 151 (1), 512 (1), 152 (1), 153 (1), 400 000 (1), 154 (1), 15 000 (1), membres (1), 155 (1), 54 639 (1), 156 (1), 157 (1), 159 (1), 100 (1), 160 (1), 161 (1), 162 (1), 163 (1), 164 (1), mémoriaux (1), 11 (1), 165 (1), 166 (1), 167 (1), 168 (1), 175 (1), 107 (1), 441-463 (1), 50 (1), 331-352 (1), 132 (1), 10 (1), 17 (1), 133-136 (1), 31 (1), ONE (1), 48-57 (1), 24 (1), 105-140 (1), 187-198 (1), 66 (1)</td>\n",
       "    </tr>\n",
       "    <tr>\n",
       "      <th id=\"T_b5756_level0_row4\" class=\"row_heading level0 row4\" >4</th>\n",
       "      <td id=\"T_b5756_row4_col0\" class=\"data row4 col0\" >GPE</td>\n",
       "      <td id=\"T_b5756_row4_col1\" class=\"data row4 col1\" >132</td>\n",
       "      <td id=\"T_b5756_row4_col2\" class=\"data row4 col2\" >Consortium Luxembourg (58), Paris (10), France (6), qui (6), Les (4), qu’il (4), pp. (3), La (2), Lavabre (2), la (2), sein du (2), Stirling (2), la zone (2), Seuil (2), Maurel (1), la mort du (1), la montée des (1), la parole (1), Pollak (1), la fin \n",
       "des (1), grâce (1), al. (1), journaux (1), Wendland (1), n’y (1), Enfin (1), la classe (1), qu’à (1), Beaudouin (1), Journaux (1), l’assaut du fort (1), cela va être (1), sont (1), IM (1), notre (1), Si (1), London (1), Critique (1), LA (1), Cambridge (1), Gallimard (1)</td>\n",
       "    </tr>\n",
       "    <tr>\n",
       "      <th id=\"T_b5756_level0_row5\" class=\"row_heading level0 row5\" >5</th>\n",
       "      <td id=\"T_b5756_row5_col0\" class=\"data row5 col0\" >NORP</td>\n",
       "      <td id=\"T_b5756_row5_col1\" class=\"data row5 col1\" >120</td>\n",
       "      <td id=\"T_b5756_row5_col2\" class=\"data row5 col2\" >dans (97), Dans (9), d’entrée (3), sans (2), ParisTech (1), Lionel (1), Becker (1), Gallica (1), Bretagne (1), Canalblog (1), d’époque (1), être (1), attendus (1)</td>\n",
       "    </tr>\n",
       "    <tr>\n",
       "      <th id=\"T_b5756_level0_row6\" class=\"row_heading level0 row6\" >6</th>\n",
       "      <td id=\"T_b5756_row6_col0\" class=\"data row6 col0\" >LOC</td>\n",
       "      <td id=\"T_b5756_row6_col1\" class=\"data row6 col1\" >3</td>\n",
       "      <td id=\"T_b5756_row6_col2\" class=\"data row6 col2\" >qu’elle pouvait être (1), Ce qui (1), Aucune (1)</td>\n",
       "    </tr>\n",
       "    <tr>\n",
       "      <th id=\"T_b5756_level0_row7\" class=\"row_heading level0 row7\" >7</th>\n",
       "      <td id=\"T_b5756_row7_col0\" class=\"data row7 col0\" >PRODUCT</td>\n",
       "      <td id=\"T_b5756_row7_col1\" class=\"data row7 col1\" >8</td>\n",
       "      <td id=\"T_b5756_row7_col2\" class=\"data row7 col2\" >Bergson (1), aujourd’hui des collectifs d’amateurs (1), d’être (1), aujourd’hui (1), Un (1), Mais (1), bon (1), qu’il (1)</td>\n",
       "    </tr>\n",
       "    <tr>\n",
       "      <th id=\"T_b5756_level0_row8\" class=\"row_heading level0 row8\" >8</th>\n",
       "      <td id=\"T_b5756_row8_col0\" class=\"data row8 col0\" >DATE</td>\n",
       "      <td id=\"T_b5756_row8_col1\" class=\"data row8 col1\" >81</td>\n",
       "      <td id=\"T_b5756_row8_col2\" class=\"data row8 col2\" >2014 (9), 2018 (6), 2012 (6), d’une (5), 1993 (4), 1984 (4), 2000 (3), 2010 (3), 2015 (3), 2004 (3), 1994 (2), 1987 (2), 2013 (2), 2004-2014 (2), 1983 (2), 2008 (2), 1981 (2), 1994, 1997 (1), 2019 (1), 14-18 (1), Ratinaud, 2009 (1), 22 mai 1916 (1), 2004 et 2005 (1), 2011 (1), qu’en (1), 1914-1918 (1), Goody, 1979 (1), 1979 (1), 2013-2014 (1), 1er avril 2019 (1), 1925 (1), 1997 (1), 1950 (1), 6 (1), 1991 (1), 1998 (1), 2009 (1), 1944 à (1)</td>\n",
       "    </tr>\n",
       "    <tr>\n",
       "      <th id=\"T_b5756_level0_row9\" class=\"row_heading level0 row9\" >9</th>\n",
       "      <td id=\"T_b5756_row9_col0\" class=\"data row9 col0\" >WORK_OF_ART</td>\n",
       "      <td id=\"T_b5756_row9_col1\" class=\"data row9 col1\" >15</td>\n",
       "      <td id=\"T_b5756_row9_col2\" class=\"data row9 col2\" >Le (4), Collecte Grande Guerre » de la \n",
       "BnF (3), Tout ce que l’on appelle aujourd’hui \n",
       "1 (1), aujourd’hui encore (1), Collecte Grande Guerre» de la \n",
       "BnF (1), La rubrique (1), Si je vais citer (1), Ginzburg et Poni (1), La micro-histoire (1), Social Memory Studies: From “Collective \n",
       "Memory (1)</td>\n",
       "    </tr>\n",
       "    <tr>\n",
       "      <th id=\"T_b5756_level0_row10\" class=\"row_heading level0 row10\" >10</th>\n",
       "      <td id=\"T_b5756_row10_col0\" class=\"data row10 col0\" >PERCENT</td>\n",
       "      <td id=\"T_b5756_row10_col1\" class=\"data row10 col1\" >26</td>\n",
       "      <td id=\"T_b5756_row10_col2\" class=\"data row10 col2\" >20 % (3), 37 % (2), 35 % (2), 17 % (1), 11 % (1), 80 % (1), 84 % (1), 54 % (1), 28 % (1), 8 % (1), 14 % (1), 9 % (1), 70 % (1), 64 % (1), 66 % (1), 47 % (1), 42 % (1), 5 % (1), 26 % (1), 49 % (1), 30 % (1), 15 % (1)</td>\n",
       "    </tr>\n",
       "    <tr>\n",
       "      <th id=\"T_b5756_level0_row11\" class=\"row_heading level0 row11\" >11</th>\n",
       "      <td id=\"T_b5756_row11_col0\" class=\"data row11 col0\" >ORDINAL</td>\n",
       "      <td id=\"T_b5756_row11_col1\" class=\"data row11 col1\" >2</td>\n",
       "      <td id=\"T_b5756_row11_col2\" class=\"data row11 col2\" >second (1), 1re (1)</td>\n",
       "    </tr>\n",
       "    <tr>\n",
       "      <th id=\"T_b5756_level0_row12\" class=\"row_heading level0 row12\" >12</th>\n",
       "      <td id=\"T_b5756_row12_col0\" class=\"data row12 col0\" >QUANTITY</td>\n",
       "      <td id=\"T_b5756_row12_col1\" class=\"data row12 col1\" >1</td>\n",
       "      <td id=\"T_b5756_row12_col2\" class=\"data row12 col2\" >74e RI (1)</td>\n",
       "    </tr>\n",
       "    <tr>\n",
       "      <th id=\"T_b5756_level0_row13\" class=\"row_heading level0 row13\" >13</th>\n",
       "      <td id=\"T_b5756_row13_col0\" class=\"data row13 col0\" >EVENT</td>\n",
       "      <td id=\"T_b5756_row13_col1\" class=\"data row13 col1\" >2</td>\n",
       "      <td id=\"T_b5756_row13_col2\" class=\"data row13 col2\" >the First World War (1), LE FOLLIC A. (1)</td>\n",
       "    </tr>\n",
       "  </tbody>\n",
       "</table>\n"
      ],
      "text/plain": [
       "<pandas.io.formats.style.Styler at 0x14f533050>"
      ]
     },
     "metadata": {},
     "output_type": "display_data"
    },
    {
     "data": {
      "text/html": [
       "<hr>"
      ],
      "text/plain": [
       "<IPython.core.display.HTML object>"
      ]
     },
     "metadata": {},
     "output_type": "display_data"
    },
    {
     "data": {
      "text/html": [
       "\n",
       "            <h3>Document: Enquêter à partir des traces textuelles du web</h3>\n",
       "            <p><strong>Authors:</strong> ; </p>\n",
       "            <p><strong>Date:</strong> 2019-06-17</p>\n",
       "            "
      ],
      "text/plain": [
       "<IPython.core.display.HTML object>"
      ]
     },
     "metadata": {},
     "output_type": "display_data"
    },
    {
     "data": {
      "text/html": [
       "<style type=\"text/css\">\n",
       "#T_45500 th {\n",
       "  border: 1px solid black;\n",
       "  padding: 8px;\n",
       "  text-align: left;\n",
       "}\n",
       "#T_45500_row0_col0, #T_45500_row0_col1, #T_45500_row0_col2, #T_45500_row1_col0, #T_45500_row1_col1, #T_45500_row1_col2, #T_45500_row2_col0, #T_45500_row2_col1, #T_45500_row2_col2, #T_45500_row3_col0, #T_45500_row3_col1, #T_45500_row3_col2, #T_45500_row4_col0, #T_45500_row4_col1, #T_45500_row4_col2, #T_45500_row5_col0, #T_45500_row5_col1, #T_45500_row5_col2, #T_45500_row6_col0, #T_45500_row6_col1, #T_45500_row6_col2, #T_45500_row7_col0, #T_45500_row7_col1, #T_45500_row7_col2, #T_45500_row8_col0, #T_45500_row8_col1, #T_45500_row8_col2, #T_45500_row9_col0, #T_45500_row9_col1, #T_45500_row9_col2, #T_45500_row10_col0, #T_45500_row10_col1, #T_45500_row10_col2, #T_45500_row11_col0, #T_45500_row11_col1, #T_45500_row11_col2, #T_45500_row12_col0, #T_45500_row12_col1, #T_45500_row12_col2 {\n",
       "  border: 1px solid black;\n",
       "  padding: 8px;\n",
       "  text-align: left;\n",
       "}\n",
       "</style>\n",
       "<table id=\"T_45500\">\n",
       "  <thead>\n",
       "    <tr>\n",
       "      <th class=\"blank level0\" >&nbsp;</th>\n",
       "      <th id=\"T_45500_level0_col0\" class=\"col_heading level0 col0\" >Entity Type</th>\n",
       "      <th id=\"T_45500_level0_col1\" class=\"col_heading level0 col1\" >Count</th>\n",
       "      <th id=\"T_45500_level0_col2\" class=\"col_heading level0 col2\" >Unique Entities</th>\n",
       "    </tr>\n",
       "  </thead>\n",
       "  <tbody>\n",
       "    <tr>\n",
       "      <th id=\"T_45500_level0_row0\" class=\"row_heading level0 row0\" >0</th>\n",
       "      <td id=\"T_45500_row0_col0\" class=\"data row0 col0\" >ORG</td>\n",
       "      <td id=\"T_45500_row0_col1\" class=\"data row0 col1\" >201</td>\n",
       "      <td id=\"T_45500_row0_col2\" class=\"data row0 col2\" >un (40), La Découverte (23), numéro (8), La Découverte   (6), Jean-Philippe Cointet (4), de la (4), Un (3), Danescu-Niculescu-Mizil (2), dans la (2), Maziyar Panahi (2), American Sociological Review (2), ENQUÊTER À PARTIR DES TRACES TEXTUELLES DU WEB\n",
       " \n",
       " (1), ISSN (1), ligne à (1), Distribution (1), Toute (1), sauf (1), Jean-Philippe (1), Combinés (1), matériaux sont (1), promesse qui (1), Nombreux (1), promesse (1), un individu affiche (1), Beuscart (1), Dominique (1), partir de ces matériaux textuels (1), Par (1), DE LA (1), TEXTES (1), l’impulsion de recherches (1), qui analysent (1), Berelson et Lazarsfeld (1), Lebart et Salem (1), qui sont encore ut ilisés (1), un grand (1), algorithmes qui sont étrangers au raisonnement \n",
       "des sciences (1), Cointet et Parasie (1), la juridiction des sciences (1), pris de ce (1), Ce sont trois che -\n",
       "mins (1), Combiner (1), numéro à la construction de \n",
       "la (1), Cardon et Cointet (1), Iramuteq (1), cette combinaison des méthodes (1), conçu une application qui offre aux utilisateurs (1), carte de leur (1), d’amis (1), une (1), Certains (1), Fligstein (1), la Federal Reserve (1), n’a (1), un lieu de résidence (1), la plupart des individus qui s’y (1), pseudonyme laisse (1), de la plateforme (1), qui porte (1), à un projet de science citoyenne dans le domaine de l’astronomie (1), cor (1), postés sur la plateforme (1), sur la méthode de classification de Max Reinert (1), de façon à mettre au jour un \n",
       "ensemble d’actions accomplies par (1), Chateauraynaud (1), Franzosi (1), commis à Los \n",
       "Angeles (1), Cointet (1), s’adresse (1), beaucoup de finesse le type (1), suivre avec beaucoup de finesse l’évolution (1), d’attaque à l’encontre \n",
       "de (1), cas de SETI@home (1), d’individus qui sont moins \n",
       "intéressés par la (1), une tâche peu commune dans (1), avec force (1), de la \n",
       "Grande Guerre (1), dans la construction de la (1), commis à (1), de la langue avec des \n",
       "théories sociolinguistiques (1), la relation de \n",
       "pouvoir (1), qui sont (1), étudiées par les sciences (1), Sortir de chez (1), précieux (1), numéro qui (1), RÉFÉRENCES (1), BASTARD I. (1), Sociologie (1), Imaginer (1), BERELSON B., LAZARSFELD P. F. (1), The Analysis of Communication \n",
       "Content (1), University of Chicago Press (1), BEUSCART (1), SCHILTZ (1), BUDAK C. (1), Gezi (1), Occupy Gezi (1), MAZIÈRES A. (1), Rennes (1), EV (1), FLIGSTEIN N. (1), Fed (1), American Journal of Sociology (1), National \n",
       "Bureau of Economic Research (1), NBER Working Paper (1), Automatic Content Analysis Methods for Political Texts (1), LEBART (1), the Dynamics of the News Cycle (1), ACM (1), Digital (1), The Reinvention of Social Research (1), Polity Press (1), VOIGHT (1), CAMP (1), Proceedings of the National Academy of Sciences (1)</td>\n",
       "    </tr>\n",
       "    <tr>\n",
       "      <th id=\"T_45500_level0_row1\" class=\"row_heading level0 row1\" >1</th>\n",
       "      <td id=\"T_45500_row1_col0\" class=\"data row1 col0\" >PERSON</td>\n",
       "      <td id=\"T_45500_row1_col1\" class=\"data row1 col1\" >213</td>\n",
       "      <td id=\"T_45500_row1_col2\" class=\"data row1 col2\" >Réseaux n (7), La Découverte (3), Réseaux (3), Mais (3), Madeleine Akrich (3), qui (3), Revue (3), de la (2), réseaux sociaux (2), qui leur (2), mais aussi (2), Jérôme Baudry (2), de Twitter (2), Sociologie (2), l'adresse (1), https://www.cairn.info/revue-reseaux-2019-2-page-9.htm\n",
       "-------------------------------------------------------------------------------------------------------------------- (1), ce soit (1), écrit de\n",
       "l'éditeur (1), par la (1), TCPDF (1), de \n",
       "famille échangent des conseils de (1), notre compréhension (1), d’un matériau (1), Ensuite (1), collectés n’ont (1), artificiel et (1), la métaphore de la (1), Marres (1), ancienneté (1), leur difficile (1), exploiter de \n",
       "tels matériaux (1), selon qui les (1), Baya-Laffitte (1), Benbouzid (1), qui \n",
       "contribuent (1), numéro de Réseaux (1), d’un appel (1), d’intégrer l’analyse du (1), l’effervescence qui \n",
       " (1), du \n",
       "numéro (1), EFFERVESCENCE (1), Depuis (1), de la langue (1), qui mesurent \n",
       "des fréquences de (1), qui mesure (1), d’un corpus de texte (1), La pra -\n",
       " (1), courant de l’analyse de données (1), de Benzécri (1), principaux logi -\n",
       "ciels (1), Au (1), donc confrontés (1), qui \n",
       "sont plus (1), qui peut être \n",
       "posée (1), de \n",
       "renouveler la connaissance de sciences (1), l’analyse (1), Stewart (1), Gentzkow (1), Kelly et Taddy (1), cycle de l’informa -\n",
       "tion (1), échelle de corpus tex -\n",
       "tuels (1), CHEMINS (1), de matériaux \n",
       "textuels (1), qui se transforme (1), C’est (1), Valérie Beaudouin (1), Venturini (1), La sociologue \n",
       " (1), de la Guerre (1), Comme elle l’explique (1), qui n’apparaissent pas \n",
       "dans le corpus en ligne (1), mais aussi de tester auprès des (1), démarche de Christopher Bail (1), qui ont (1), Taylor (1), Mann (1), Facebook de plus de 200 (1), domaine de l’autisme et (1), d’analyse (1), registre \n",
       "de la (1), choix du bon registre de publication est (1), Neil Fligstein (1), l’attitude de l’instance (1), l’importance de la \n",
       "crise alors (1), l’intérieur de l’organisme (1), Ce qui per -\n",
       " (1), Disposant de peu d’informations (1), de leur genre que leur (1), métriques de la (1), participation qui lui per -\n",
       " (1), de ce (1), de l’analyse Iramuteq 1 (1), qui se (1), Au-delà de l’extrême (1), de David Chavalarias (1), Twitter (1), la cam -\n",
       " (1), Chaque (1), qui \n",
       "font (1), qui identifie des (1), comme la seule manière \n",
       "de construire (1), l’enquête de René Flores (1), loi anti-immigra -\n",
       " (1), Flores (1), de la loi cor -\n",
       " (1), dégager la (1), bien antérieur (1), puisqu’il \n",
       "s’inscrit dans la continuité de recherches (1), Mikhaïl Bakhtine (1), Kenneth Burke (1), L’enquête de Sylvain (1), qui se forment autour (1), près de 29 (1), Luc Boltanski (1), comme la construction de (1), qui sont ici (1), locuteur qui (1), la \n",
       "victime (1), qui mani -\n",
       " (1), un lien (1), L’enquête de Christian Danescu-Niculescu (1), chemin proche (1), de parler de leurs (1), interlocuteur (1), lorsqu’un wikipédien ordinaire (1), combien \n",
       " (1), munauté (1), compte de \n",
       "l’histoire de ce (1), collectifs qui se (1), sociaux qui (1), David Chavalarias (1), du scrutin (1), d’astronomie \n",
       "qui existe depuis deux décennies (1), peu à l’image (1), Se (1), Pierre Ratinaud (1), Nikos Smyrnaios (1), Julien Figeac (1), Ophélie Fraisier (1), Gilles Hubert (1), Yoann Pitarch (1), Tristan Salord (1), leur \n",
       "famille politique (1), Valérie Beaudouin s’attelle (1), qui se \n",
       "forment (1), Lillian Lee (1), Jon Kleinberg (1), qui s’établit (1), tendra \n",
       "à (1), interlocuteur uti -\n",
       " (1), Basile Michel (1), Daniel Burnier (1), Harvey Molotch (1), laisser penser (1), leur écran (1), TAYLOR W. B. (1), MANN M. ( (1), Minds (1), PRIEUR C. (1), BENBOUZID B. (1), Menger (1), S. Paye (1), Collège de \n",
       " (1), Actes de \n",
       "la (1), Sociétés (1), Influence (1), Éditions (1), ACEVES P. (1), BRUNDAGE J. S., SCHULTZ M. ( (1), R. D. (1), FRANZOSI R. (1), Sociological Methodology (1), B. T. (1), TADDY  M. (1), MA (1), GRIMMER J. (1), STEWART (1), B. M. ( (1), ADAMIC L. et al (1), Dunod (1), J. (1), BACKSTROM L. (1), KLEINBERG J. ( (1), MARRES N. (1), de \n",
       "science politique (1), VENTURINI T. (1), N. P. (1), al. (1)</td>\n",
       "    </tr>\n",
       "    <tr>\n",
       "      <th id=\"T_45500_level0_row2\" class=\"row_heading level0 row2\" >2</th>\n",
       "      <td id=\"T_45500_row2_col0\" class=\"data row2 col0\" >CARDINAL</td>\n",
       "      <td id=\"T_45500_row2_col1\" class=\"data row2 col1\" >73</td>\n",
       "      <td id=\"T_45500_row2_col2\" class=\"data row2 col2\" >214 (7), 1 (4), 2 (4), 3 (3), 21 (2), 82 (2), 5 (2), 214-215 (1), 9782348043581 (1), 10.3917 (1), 12 (1), 13 (1), 15 (1), 16 (1), tenues (1), 17 (1), 170 000 (1), six (1), membres (1), 18 (1), 250 (1), 19 (1), aujourd’hui (1), 20 (1), 60 millions (1), 28 000 (1), 22 (1), 23 (1), 8 (1), 57-82 (1), 13es (1), 17-27 (1), 141-161 (1), 3-40 (1), 65 (1), 805-828 (1), 270-397 (1), 211 (1), 173 (1), 59 (1), 533 (1), 24 (1), 21-50 (1), 879-909 (1), 123 (1), 333 (1), 263-298 (1), 267-297 (1), 323 (1), 721-723 (1), 497-506 (1), 62 (1), 45-70 (1), 193-213 (1), 188 (1), 114 (1)</td>\n",
       "    </tr>\n",
       "    <tr>\n",
       "      <th id=\"T_45500_level0_row3\" class=\"row_heading level0 row3\" >3</th>\n",
       "      <td id=\"T_45500_row3_col0\" class=\"data row3 col0\" >TIME</td>\n",
       "      <td id=\"T_45500_row3_col1\" class=\"data row3 col1\" >1</td>\n",
       "      <td id=\"T_45500_row3_col2\" class=\"data row3 col2\" >9 à 24 (1)</td>\n",
       "    </tr>\n",
       "    <tr>\n",
       "      <th id=\"T_45500_level0_row4\" class=\"row_heading level0 row4\" >4</th>\n",
       "      <td id=\"T_45500_row4_col0\" class=\"data row4 col0\" >FAC</td>\n",
       "      <td id=\"T_45500_row4_col1\" class=\"data row4 col1\" >20</td>\n",
       "      <td id=\"T_45500_row4_col2\" class=\"data row4 col2\" >Document (14), La Découverte (2), Le fait que des chercheurs (1), l’enquête aboutit à (1), Le (1), la victime (1)</td>\n",
       "    </tr>\n",
       "    <tr>\n",
       "      <th id=\"T_45500_level0_row5\" class=\"row_heading level0 row5\" >5</th>\n",
       "      <td id=\"T_45500_row5_col0\" class=\"data row5 col0\" >GPE</td>\n",
       "      <td id=\"T_45500_row5_col1\" class=\"data row5 col1\" >99</td>\n",
       "      <td id=\"T_45500_row5_col2\" class=\"data row5 col2\" >Consortium Luxembourg (32), pp. (9), al. (6), COINTET (5), France (4), Arizona (3), Paris (3), la parole (2), Wikipédia (2), Les (2), sont (2), Gaumont (2), Cambridge (2), La (1), La Découverte (1), LinkedIn (1), l’enquête (1), la catégorie (1), qui (1), la (1), Beaudouin (1), Cardon (1), Leskovec et al. (1), Velkovska (1), voit (1), Logiciel (1), sein du (1), sa (1), Thibaut (1), Los Angeles (1), Enfin (1), la traduction (1), Chicago (1), New York (1), pp (1), TRABAL (1), GENTZKOW (1), KELLY (1)</td>\n",
       "    </tr>\n",
       "    <tr>\n",
       "      <th id=\"T_45500_level0_row6\" class=\"row_heading level0 row6\" >6</th>\n",
       "      <td id=\"T_45500_row6_col0\" class=\"data row6 col0\" >NORP</td>\n",
       "      <td id=\"T_45500_row6_col1\" class=\"data row6 col1\" >51</td>\n",
       "      <td id=\"T_45500_row6_col2\" class=\"data row6 col2\" >dans (32), Dans (4), D. (3), R. (2), Boullier (1), Parasie (1), États-Unis (1), Evans (1), Sans (1), Christian (1), CHARBEY (1), Journées (1), Prospéro (1), LAZER D. (1)</td>\n",
       "    </tr>\n",
       "    <tr>\n",
       "      <th id=\"T_45500_level0_row7\" class=\"row_heading level0 row7\" >7</th>\n",
       "      <td id=\"T_45500_row7_col0\" class=\"data row7 col0\" >DATE</td>\n",
       "      <td id=\"T_45500_row7_col1\" class=\"data row7 col1\" >80</td>\n",
       "      <td id=\"T_45500_row7_col2\" class=\"data row7 col2\" >2017 (20), 2018 (6), 2009 (4), 2015 (4), 2016 (4), 2006 (3), 2003 (3), 1984 (3), 1948 (2), 1988 (2), 2013 (2), 2014 (2), 1989 (2), 2012 (2), 6 (2), Aceves (1), d’une (1), 14-18 (1), de 2008 (1), 2002 (1), 2005 (1), 1994 (1), 1188-1213 (1), 49 (1), 5-32 (1), 2008 (1), 5 (1), 1070 (1), 19 (1), 23276 (1), 5915 (1), 9-21 (1), 25 (1), 6521-6526 (1)</td>\n",
       "    </tr>\n",
       "    <tr>\n",
       "      <th id=\"T_45500_level0_row8\" class=\"row_heading level0 row8\" >8</th>\n",
       "      <td id=\"T_45500_row8_col0\" class=\"data row8 col0\" >PRODUCT</td>\n",
       "      <td id=\"T_45500_row8_col1\" class=\"data row8 col1\" >5</td>\n",
       "      <td id=\"T_45500_row8_col2\" class=\"data row8 col2\" >aujourd’hui la (1), Saisir (1), Twitter (1), l’école (1), Analyse (1)</td>\n",
       "    </tr>\n",
       "    <tr>\n",
       "      <th id=\"T_45500_level0_row9\" class=\"row_heading level0 row9\" >9</th>\n",
       "      <td id=\"T_45500_row9_col0\" class=\"data row9 col0\" >LOC</td>\n",
       "      <td id=\"T_45500_row9_col1\" class=\"data row9 col1\" >2</td>\n",
       "      <td id=\"T_45500_row9_col2\" class=\"data row9 col2\" >Budak et Watts (1), sein des (1)</td>\n",
       "    </tr>\n",
       "    <tr>\n",
       "      <th id=\"T_45500_level0_row10\" class=\"row_heading level0 row10\" >10</th>\n",
       "      <td id=\"T_45500_row10_col0\" class=\"data row10 col0\" >LAW</td>\n",
       "      <td id=\"T_45500_row10_col1\" class=\"data row10 col1\" >1</td>\n",
       "      <td id=\"T_45500_row10_col2\" class=\"data row10 col2\" >manque d’informations sur l’ancrage (1)</td>\n",
       "    </tr>\n",
       "    <tr>\n",
       "      <th id=\"T_45500_level0_row11\" class=\"row_heading level0 row11\" >11</th>\n",
       "      <td id=\"T_45500_row11_col0\" class=\"data row11 col0\" >ORDINAL</td>\n",
       "      <td id=\"T_45500_row11_col1\" class=\"data row11 col1\" >3</td>\n",
       "      <td id=\"T_45500_row11_col2\" class=\"data row11 col2\" >temporelles (1), second (1), 15th (1)</td>\n",
       "    </tr>\n",
       "    <tr>\n",
       "      <th id=\"T_45500_level0_row12\" class=\"row_heading level0 row12\" >12</th>\n",
       "      <td id=\"T_45500_row12_col0\" class=\"data row12 col0\" >WORK_OF_ART</td>\n",
       "      <td id=\"T_45500_row12_col1\" class=\"data row12 col1\" >10</td>\n",
       "      <td id=\"T_45500_row12_col2\" class=\"data row12 col2\" >Science (1), The \n",
       "Homicide Report (1), Channeling Hearts (1), La (1), Sociological Science (1), La revanche des neurones (1), Meme-Tracking (1), International Conference on Knowledge Discovery and Data Mining (1), La presse (1), Language from \n",
       "Police Body Camera Footage Shows Racial Disparities in Officer Respect (1)</td>\n",
       "    </tr>\n",
       "  </tbody>\n",
       "</table>\n"
      ],
      "text/plain": [
       "<pandas.io.formats.style.Styler at 0x14f7cab90>"
      ]
     },
     "metadata": {},
     "output_type": "display_data"
    },
    {
     "data": {
      "text/html": [
       "<hr>"
      ],
      "text/plain": [
       "<IPython.core.display.HTML object>"
      ]
     },
     "metadata": {},
     "output_type": "display_data"
    },
    {
     "data": {
      "text/html": [
       "\n",
       "            <h3>Document: World Leaders a-Twitter: Communication Platforms and Agenda-Building During the 2018 NATO Summit</h3>\n",
       "            <p><strong>Authors:</strong> </p>\n",
       "            <p><strong>Date:</strong> </p>\n",
       "            "
      ],
      "text/plain": [
       "<IPython.core.display.HTML object>"
      ]
     },
     "metadata": {},
     "output_type": "display_data"
    },
    {
     "data": {
      "text/html": [
       "<style type=\"text/css\">\n",
       "#T_4d2ab th {\n",
       "  border: 1px solid black;\n",
       "  padding: 8px;\n",
       "  text-align: left;\n",
       "}\n",
       "#T_4d2ab_row0_col0, #T_4d2ab_row0_col1, #T_4d2ab_row0_col2, #T_4d2ab_row1_col0, #T_4d2ab_row1_col1, #T_4d2ab_row1_col2, #T_4d2ab_row2_col0, #T_4d2ab_row2_col1, #T_4d2ab_row2_col2, #T_4d2ab_row3_col0, #T_4d2ab_row3_col1, #T_4d2ab_row3_col2, #T_4d2ab_row4_col0, #T_4d2ab_row4_col1, #T_4d2ab_row4_col2, #T_4d2ab_row5_col0, #T_4d2ab_row5_col1, #T_4d2ab_row5_col2, #T_4d2ab_row6_col0, #T_4d2ab_row6_col1, #T_4d2ab_row6_col2, #T_4d2ab_row7_col0, #T_4d2ab_row7_col1, #T_4d2ab_row7_col2, #T_4d2ab_row8_col0, #T_4d2ab_row8_col1, #T_4d2ab_row8_col2, #T_4d2ab_row9_col0, #T_4d2ab_row9_col1, #T_4d2ab_row9_col2, #T_4d2ab_row10_col0, #T_4d2ab_row10_col1, #T_4d2ab_row10_col2, #T_4d2ab_row11_col0, #T_4d2ab_row11_col1, #T_4d2ab_row11_col2, #T_4d2ab_row12_col0, #T_4d2ab_row12_col1, #T_4d2ab_row12_col2, #T_4d2ab_row13_col0, #T_4d2ab_row13_col1, #T_4d2ab_row13_col2, #T_4d2ab_row14_col0, #T_4d2ab_row14_col1, #T_4d2ab_row14_col2, #T_4d2ab_row15_col0, #T_4d2ab_row15_col1, #T_4d2ab_row15_col2, #T_4d2ab_row16_col0, #T_4d2ab_row16_col1, #T_4d2ab_row16_col2 {\n",
       "  border: 1px solid black;\n",
       "  padding: 8px;\n",
       "  text-align: left;\n",
       "}\n",
       "</style>\n",
       "<table id=\"T_4d2ab\">\n",
       "  <thead>\n",
       "    <tr>\n",
       "      <th class=\"blank level0\" >&nbsp;</th>\n",
       "      <th id=\"T_4d2ab_level0_col0\" class=\"col_heading level0 col0\" >Entity Type</th>\n",
       "      <th id=\"T_4d2ab_level0_col1\" class=\"col_heading level0 col1\" >Count</th>\n",
       "      <th id=\"T_4d2ab_level0_col2\" class=\"col_heading level0 col2\" >Unique Entities</th>\n",
       "    </tr>\n",
       "  </thead>\n",
       "  <tbody>\n",
       "    <tr>\n",
       "      <th id=\"T_4d2ab_level0_row0\" class=\"row_heading level0 row0\" >0</th>\n",
       "      <td id=\"T_4d2ab_row0_col0\" class=\"data row0 col0\" >ORG</td>\n",
       "      <td id=\"T_4d2ab_row0_col1\" class=\"data row0 col1\" >519</td>\n",
       "      <td id=\"T_4d2ab_row0_col2\" class=\"data row0 col2\" >NATO (177), Trump (23), Summit (16), NATO Summit (12), Congress (8), Verbal Communications (6), Hypothesis (5), Positive Relations (5), Trade (5), Verbal (4), Schandorf (4), Kiousis (4), Self -Promotion/Job Performance (4), Neutral (4), NATO Press Conference (4), IRR (4), @realDonaldTrump (3), NAT (3), Burden -Sharing (3), the European Union (3), International Affairs Program (2), Data & Methodology (2), YouTube (2), Twittersphere (2), @POTUS (2), The North Atlantic Treaty Organization (2), Heritage (2), Shapiro (2), al (2), Gonay (2), White House (2), Hypotheses (2), the G7 Summit (2), Self -Promotion/Job \n",
       "Performance (2), Domestic Issues (2), Gratitude/Congratulations (2), European Union (2), the Liberal \n",
       "Party of Canada (2), the NATO Summit (2), Hypothesis 2 (2), The European Union (2), EU (2), CNN (2), Public Relations Review (2), North Atlantic Treaty Organization (2), CU Sc (1), Katja W (1), Social Influe (1), Social M (1), Honor s Program (1), CU Scholar (1), C U Scholar (1), Undergraduate Honors Th eses (1), University of Colorado Boulder  \n",
       " \n",
       " \n",
       "Defended (1), Honors Thesis Defense Committee (1), Department of Political Science (1), Honors Council (1), Thesis Committee (1), Descriptive Statistics (1), United \n",
       "Nations (1), Hashtag (1), Burson Cohn (1), @EmmanuelMacron (Lüfkens (1), un (1), the European \n",
       "Union (1), The Brussels Summit Declaration (1), NATO Command Structure (1), The NATO Summit (1), Literature Review (1), Sarcasm (1), Honeycutt (1), Schandorf 2013 (1), Frame (1), tch (1), non -verbal mechanisms (1), Offline (1), Conway -Silva et al. 2018 (1), Theory & Guiding Hypotheses (1), Maxwell McCombs (1), s. (1), Chambéry (1), the University of Toronto (1), Archive (1), @EmmanuelMacron (1), Data Analysis (1), • Gratitude/Congratulations (1), • Self-Promotion/Job Performance (1), rati (1), ”11 (1), European Council (1), Favor (1), Times a Tweet \n",
       "Is Retweeted (1), Social Media (1), @Élysée (1), Verbal Communication Summary Statistics (1), Content and Tone Analysis (1), Domestic Events (1), Gratitude/Congratulations, Condolences (1), Gratitude/  \n",
       "Congratulations (1), Self -\n",
       "Promotion/Job Performance (1), Self -Promotion /Job (1), Domestic and International Events (1), Tone Throug (1), Importance/Success (1), Security (1), ref (1), Presid (1), Success (1), European \n",
       "Union (1), The Liberal Party (1), the Importance/Success (1), Verbal CommunicationsVerbal Communication Tone (1), Verbal Communications  \n",
       " \n",
       " \n",
       " (1), the Importance/Success of NATO (1), Commitment and Positive Relations (1), Burden -Sharing on Twi (1), Importance/Success, Unity (1), NATO Engages (1), Positive Relation (1), Trump Demands (1), Country (1), this the European Union (1), Burde n-Sharing (1), Croatia Daily Newspaper (1), Washington Post (1), the Heads of \n",
       "State and Government (1), a European Union (1), Macron (1), Unity (1), Limitations and Future Research (1), NATO Summits (1), -1 (1), Colorado School (1), Macron NATO Tweet Content (1), Trudeau NATO Tweet Content Over (1), Negative (1), Macro n (1), Trump Verba l Communication (1), Macron  Verbal Communication Content Over Time (1), Trudeau Verbal Communication (1), Importance/Success  Importance/Success  \n",
       " \n",
       " \n",
       " \n",
       "Table 7b (1), Verbal Communica (1), Aharony (1), Sara Azarshahi (1), Informality (1), Individual Differences (1), Informatics (1), PLOS One (1), Journalism Practice (1), Utilization of Advice (1), Journal of Technology in Human Services (1), Journal of Pragmatics (1), Social Science Computer Review (1), Computer -mediated Communication and Persuasion (1), Speech Communication (1), US Relations (1), Intern ational Affairs (1), Social Communication (1), Journal of the American Society for Information Sci (1), Technology (1), Digital Dialogue (1), the Social Network Tool Twitter (1), Australian Journal of Political \n",
       "Science (1), Groth (1), Alexa (1), the Intelligence Aspects of Personal Diplomacy (1), Assessments of Sincerity in International Affairs (1), Tutorial (1), Journal of Information Technology & Politics (1), Garfinkel and Ethnomethodology (1), England: Polity Press (1), Social -Psychological Influences on Opinion   \n",
       "Expression (1), Communication \n",
       "Research (1), Mirror Neurons (1), the  \n",
       "Problem of Intentions (1), International Organization (1), Honey (1), Social Networks That Matter (1), The Journal of Neuroscience (1), Official Journal of the Society for Neuroscience (1), Transpersonal Implications (1), Nonverbal Communication (1), The White House (1), Media Coverage (1), Journal of Public Relations Research (1), Xinjian Riots (1), Journal of International Communication (1), IEEE Spectrum (1), Digital Journalism (1), Friederike (1), Journal of Communication (1), North Atl (1), the North Atlantic Council (1), State and Government (1), Nato Summit (1), https://www.nato.int/cps/ua/natohq/opinions_156733.htm?selectedLocale=en (1), New Me dia &  \n",
       "Society (1), Nonverbal Modality (1), Impressions of Political Candidates: Analysis (1), Communication Monographs (1), Accountability in Social Interaction (1), NY (1), Oxford University  \n",
       "Press (1), Politi cians (1), the U.S. Congress Direct New York Times Content (1), Policy & Internet (1), The Social Psychology of  \n",
       "Telecommunication (1), The Liberal Party of Canada (1), The  \n",
       "Washington Post (1), Cambridge University  \n",
       "Press (1), Cleanse Stop Words (1), nato (1), Hashtag Activism (1), Media and Communication (1), Yang, Xinxin (1), Social Informatics (1), ACM (1)</td>\n",
       "    </tr>\n",
       "    <tr>\n",
       "      <th id=\"T_4d2ab_level0_row1\" class=\"row_heading level0 row1\" >1</th>\n",
       "      <td id=\"T_4d2ab_row1_col0\" class=\"data row1 col0\" >WORK_OF_ART</td>\n",
       "      <td id=\"T_4d2ab_row1_col1\" class=\"data row1 col1\" >32</td>\n",
       "      <td id=\"T_4d2ab_row1_col2\" class=\"data row1 col2\" >Twitter Use (2), Undergraduate Honor s The ses (1), World Le (1), World L (1), World Leaders on Instagram 2018 (1), World Leaders on Facebook 2018 (1), • Sports:  Information (1), • Positive Relations (1), Leveling the Playing Field: The Use of  \n",
       " (1), Civility vs. Incivility in Online Social Interactions: An Evolutionary Approach (1), Tweeting the Agenda: How Print and Alternative Web -Only News  \n",
       "Organizations Use Twitter (1), Computers in Human Behavior (1), Le Tweet Strat (1), The Personal Touch: Leaders' Impressions (1), Computing Inter -Rater Reliability for Observational Data (1), Tweeting to the Target: Candidates' Use of Strategic Messages and @Mentions (1), Beyond Microblogging: Conversation and  \n",
       "Collaboration (1), Neural  \n",
       "Synchronization During Face -To-Face Communication (1), “How Gestures Can Become like Words (1), CA (1), Agenda Setting on Twitter (1), The Agenda -Setting Function of Mass  \n",
       "Media (1), The Public Opinion Quarterly (1), Technically Speaking: All A -Twitter (1), Journalists' Use of Political Tweets: Functions for  \n",
       "Journalistic Work and the Role of Perceived Influences (1), Vocal Communication Shape \n",
       "Viewers' Impressions of Political Candidates (1), The Agenda -Building Function of Political Tweets (1), Mediated Gesture: Paralinguistic Communication and Phatic Text (1), Twitter Is Officially Doubling the Character Limit (1), Socia l Politics (1), Video File] (1)</td>\n",
       "    </tr>\n",
       "    <tr>\n",
       "      <th id=\"T_4d2ab_level0_row2\" class=\"row_heading level0 row2\" >2</th>\n",
       "      <td id=\"T_4d2ab_row2_col0\" class=\"data row2 col0\" >DATE</td>\n",
       "      <td id=\"T_4d2ab_row2_col1\" class=\"data row2 col1\" >322</td>\n",
       "      <td id=\"T_4d2ab_row2_col2\" class=\"data row2 col2\" >2018 (54), 2010 (17), 2017 (15), July (10), 2012 (10), June (9), 2013 (7), August 31, 2018 (7), 3 (7), 2008 (6), 1972 (6), 2016 (6), August (6), 4 (6), July 11 (5), between June 1, 2018 (5), 2019 (4), July 12, 2018 (4), 1988 (4), 2009 (4), 2006 (3), Robinson 2016 (3), 1984 (3), 1976 (3), 1998 (3), June 1, 2018 (3), 2015 (3), Zakaria 2018 (3), December 14, 2018 (3), annual (2), 1964 (2), 2007 (2), 2014 (2), one month (2), June 11, 2018 (2), July 10, 2018  \n",
       "  \n",
       " \n",
       " (2), July 10 (2), 1960 (2), 1980 (2), 2 (2), 44 (2), September 23, 2018 (2), Spring 2019 (1), 1915 (1), April 2, 2019 (1), July 2018 (1), today (1), 2011 (1), February 20, 2019 (1), 70 -year -old (1), years (1), April 9, 1949 (1), Today (1), September 11, 2001 (1), 30 days (1), the year 2020 (1), 2024 (1), Herring 2009 (1), Bane 2019 (1), ten years (1), July 11 -12, (1), 70 years (1), the month (1), month (1), June 8 -9, (1), late June (1), June July (1), Month (1), August 31 (1), July 11-12 (1), June 14 to July 15, 2018 (1), the year (1), only four \n",
       "days (1), July 16, 2018 (1), July 5, 2018  \n",
       "   (1), July 11, 2018  \n",
       "   (1), June 12 (1), July 5, 2018  \n",
       " \n",
       " \n",
       " (1), July 9, 2018  \n",
       "  \n",
       " \n",
       " (1), July 9, 2018 (1), many years (1), July 10, 2018     (1), 12, 2018 (1), yesterday (1), April 2019 (1), November 2018 (1), two months (1), Trump 2018 (1), November (1), November 11, 2018  \n",
       "   (1), three -month (1), ium (1), January 1 -10 (1), 1−𝑃(𝑒 (1), 7): 1377 (1), 11 (1), 191 -205 (1), 6 (1), 34 (1), 1612 (1), Quarterly (1), 35 (1), Monday  14 (1), 32 (1), 45): 16064 (1), 2002 (1), September 20 (1), 10 (1), 84 (1), 9): 1155 -\n",
       "1172 (1), 5 (1), 1992 (1), February 27, 2019 (1), 9 November, 2018 (1), November 7 (1), 1999 (1), February 28, 2019 (1), November 11 (1), March 21, 2019 (1)</td>\n",
       "    </tr>\n",
       "    <tr>\n",
       "      <th id=\"T_4d2ab_level0_row3\" class=\"row_heading level0 row3\" >3</th>\n",
       "      <td id=\"T_4d2ab_row3_col0\" class=\"data row3 col0\" >GPE</td>\n",
       "      <td id=\"T_4d2ab_row3_col1\" class=\"data row3 col1\" >146</td>\n",
       "      <td id=\"T_4d2ab_row3_col2\" class=\"data row3 col2\" >U.S. (33), Russia (18), Canada (12), the United States (11), Germany (7), France (5), Brussels (3), the Soviet Union (2), Hall (2), Presiden (2), Paris (2), Cambridge (2), Katja (1), Turkey (1), Belgium (1), Iraq (1), Tunisia (1), Jordan (1), al. (1), Pre (1), Boston (1), Massachusetts (1), Attachment (1), Unsurprisin (1), the United State (1), Washington (1), Negative (1), Montana (1), Burden (1), The United States (1), United States (1), Antoci (1), Bethany A. (1), Paola (1), Dohen (1), Iran (1), Hallgren (1), Ho (1), Holmes, Marcus (1), Jing (1), San \n",
       "Diego (1), Kendon (1), Crosscultura (1), Kiousis (1), Florida (1), Klaus (1), Beverly Hills (1), Xiguang (1), Nagel (1), Visual (1), North At (1), MD (1), New York (1), London (1), China (1), UK (1), Guobin (1), https://www.youtube.com/watch?v=Epb5RwLXA8U&t=2s (1), Dejin (1)</td>\n",
       "    </tr>\n",
       "    <tr>\n",
       "      <th id=\"T_4d2ab_level0_row4\" class=\"row_heading level0 row4\" >4</th>\n",
       "      <td id=\"T_4d2ab_row4_col0\" class=\"data row4 col0\" >PERSON</td>\n",
       "      <td id=\"T_4d2ab_row4_col1\" class=\"data row4 col1\" >706</td>\n",
       "      <td id=\"T_4d2ab_row4_col2\" class=\"data row4 col2\" >Trump (120), Macron (96), Trudeau (81), Twitter (64), W (41), Parmelee (8), Donald Trump (6), Joinson (6), Sharing (5), Emmanuel Macron (4), Justin Trudeau (4), Bichard 2012 (4), Shaw (4), Lee (4), Metag (4), Cohen (4), Agenda (3), Tsukayama (3), Dohen et al (3), Minster Trudeau (3), Merkel (3), Macron Trudeau W (3), Hallgren (3), Agenda -Building (2), MeToo (2), Yang (2), Wolfe (2), @JustinTrudeau (2), Gérard Bailly (2), Susan C. Herring (2), Justin M. Grimes (2), Anthony Rogers (2), Hemsley (2), Duncombe (2), Di Blasio (2), Pulford (2), Luca Milani (2), Rauchfleisch 2017 (2), Weiai Xu (2), Adrian Rauchfleisch (2), Philomène Gonay (2), McCombs (2), Strömbäck (2), Angela Merkel (2), Fareed Zakaria (2), Krippendorff (2), John (2), Adam (2), Spiro (2), Common s (1), contactcuscholaradmin@c (1), Walton (1), Katja C. Walton (1), Janet L (1), Douglas Snyder (1), Levente Szentkirályi (1), Bl ackLivesMatter (1), Donald J. Trump (1), Bichard \n",
       "2012 (1), Aharony (1), @WhiteHouse (1), Jens Stoltenberg (1), defens (1), Marion Dohen (1), Jean -\n",
       "Luc Schwarts (1), Courtenay Honeycutt (1), Michael Schandorf (1), Jennifer Golbeck (1), al. (1), Hemphill (1), Ahmed et al (1), Grant et al (1), Brachotte 2015 (1), Constance Duncombe (1), Milani (1), Stephanie \n",
       "Bower (1), Briony Pulford (1), Paola Di Blasio (1), Variance On - and (1), Shirley Ho (1), Douglas M. \n",
       "McLeod (1), Adam Joinson (1), Agenda -Setting and (1), Yang et al. (1), Kaitlin Bane (1), Parmelee 2014 (1), Rauchfleisch (1), Jayeon Lee (1), Hillary Clinton (1), Julia \n",
       "Metag (1), Donald Shaw’s (1), Emmanuel Macro (1), Gonay (1), Brendan Brown (1), necessar (1), Remar (1), Ma (1), Dan Sca (1), Golbeck et al (1), Opponents (1), Tr (1), neutra l. \n",
       " \n",
       "                                                           \n",
       " (1), platfo rm (1), Barack Obama (1), Obama (1), Summi t. Additionally (1), Burden -Shari (1), tempora (1), Vladimir Putin (1), Angela (1), Montana Rally (1), Macron  Unity  Burden -Sharing (1), Burden -Sharing (1), politica l (1), Tomas LeCrass (1), Philip Rucker (1), Findings (1), fir st (1), Trud eau (1), Twiplomac (1), Oftentimes (1), Kappa (1), 𝐾=𝑃(𝑎)−𝑃(𝑒 (1), Kyoseo (1), David) Koo (1), Koo (1), Twit (1), tentativ e. \n",
       "    (1), Noa (1), Delroy L. Paulhus (1), Ahmed, Saifuddin (1), Jaeho Cho (1), Kokil Jaidka (1), Angelo (1), Alexi Delfino (1), Fabio Paglieri (1), Fabrizio Panebianco (1), Fabio Sabatini (1), Bane (1), Stephanie D. (1), Briony D. Pulford (1), Roel (1), Barbara De Cock (1), Jacob (1), Conway -Silva (1), Christine R. Filer (1), Kate Kenski (1), Eric Tsetsi (1), Jean -Luc Schwartz (1), Filimoniuk Nataliia (1), Alex (1), Gilles Brachotte (1), Golbeck (1), Jennifer (1), Grant (1), Will J. (1), Brenda Moon (1), Janie Busby (1), Todd (1), Keren Yarhi (1), Internation al Studies (1), Kevin A. 2012 (1), Jeff (1), Jennifer Stromer -Galley (1), Bryan Semaan (1), Sikana Tanupabrungsun (1), Shirley S. (1), Douglas M. McLeod (1), Courtenay (1), Huberman (1), Bernardo (1), Daniel M. Romero (1), Fang Wu (1), Bohan Dai (1), Danling Peng (1), Zhu (1), Li Liu (1), Chunming Lu (1), Int (1), Jayne Gackenbach (1), Fernando Poyatos (1), Lewiston (1), Jesper Strömbäck (1), Michael Mitrook (1), Xu Wu (1), Trent Seltzer (1), Jayeon (1), Clinton (1), Li (1), Jing Wang (1), Maxwell E. (1), Donald L. Shaw (1), McFedries (1), Paul (1), Juli (1), Marcus Maurer (1), Carsten Reinemann (1), Jens (1), John H. 2014 (1), John H. (1), Shannon L. Bichard (1), Lanham (1), Lexington Books (1), Patterson (1), Miles L. (1), Mary  E. Churchill (1), Gary K. Burger (1), Jack L. Powell (1), Robinson (1), Jeffrey D. 2016 (1), Michael (1), Matthew A. (1), Libby Hemphill (1), Ederyn Williams (1), Bruce Christie (1), John Wi (1), Donald (1), Ru ssia (1), Wallace (1), Patricia (1), index.html (1), Bo -Chiuan Chen (1), Mrinmoy Maity (1), Emilio Ferrara (1), Fareed (1), Zhao (1), Mary Beth Rosson (1)</td>\n",
       "    </tr>\n",
       "    <tr>\n",
       "      <th id=\"T_4d2ab_level0_row5\" class=\"row_heading level0 row5\" >5</th>\n",
       "      <td id=\"T_4d2ab_row5_col0\" class=\"data row5 col0\" >PRODUCT</td>\n",
       "      <td id=\"T_4d2ab_row5_col1\" class=\"data row5 col1\" >149</td>\n",
       "      <td id=\"T_4d2ab_row5_col2\" class=\"data row5 col2\" >Twitter (124), Appendix (5), Bower (3), McCombs (2), Table 1 (2), .5 (2), Citation (1), the “Four Thirties (1), Excel (1), • Comm (1), Remarks (1), Tables 5a (1), Air Force One (1), G7 (1), 4b (1), Convergence (1), the Policy Agenda: (1)</td>\n",
       "    </tr>\n",
       "    <tr>\n",
       "      <th id=\"T_4d2ab_level0_row6\" class=\"row_heading level0 row6\" >6</th>\n",
       "      <td id=\"T_4d2ab_row6_col0\" class=\"data row6 col0\" >CARDINAL</td>\n",
       "      <td id=\"T_4d2ab_row6_col1\" class=\"data row6 col1\" >372</td>\n",
       "      <td id=\"T_4d2ab_row6_col2\" class=\"data row6 col2\" >three (39), 1 (25), 2 (17), two (12), 3 (8), one (8), 15 (6), 8 (6), 30 (6), 4 (5), 36 (5), 52 (4), 13 (4), 16 (4), 10 (3), 20 (3), 22 (3), 56 (3), 67 (3), 5 (3), 24 (3), 58.4 million (3), 6 (3), twelve (3), 7 (3), 140 (3), 11 (3), 18 (3), 19 (3), 23 (3), 2,028 (3), 33 (2), 3 4 (2), 42 (2), 47 (2), 57 (2), 60 (2), 73 (2), nine (2), six (2), 12 (2), 14 (2), 280 (2), 21 (2), ten (2), 1a (2), half (2), 31 (2), 34 (2), 37 (2), 41 (2), 63 (2), 49 (2), 7a (2), 1b (2), 59 (2), 61 (2), 62 (2), 0.80 (2), 0.86 (2), 833 (2), 2,000 (1), 25.2 million (1), over 3 .5 million (1), 2017).2 (1), 9 (1), 951 (1), 2018).3 (1), 187 (1), twenty (1), eighty (1), eight (1), five (1), 17 (1), about one (1), 3.7 (1), 4.46 million (1), 18,135 (1), 25 (1), transcription (1), 26 (1), 27 (1), 28 (1), 29 (1), 1,049 (1), 498 (1), 481 (1), 050100150200250300350400 (1), 32 (1), 18,423 (1), 81,874 (1), 19,962 (1), 243 (1), 2,606 (1), 743 (1), 229 (1), 3,347 (1), 685 (1), 35 (1), more than two (1), 38 (1), 39 (1), 40 (1), 43 (1), more than one (1), 44 (1), 45 (1), 46 (1), 48 (1), 50 (1), 6a (1), 51 (1), 53 (1), about three (1), 7c (1), 54 (1), 55 (1), hese (1), 58 (1), only one (1), 64 (1), more than three (1), 65 (1), 66 (1), only 2 80 (1), 0.67 (1), 68 (1), between 0.67 (1), 0.84 (1), 0.81 (1), 0.89 (1), 0.73 (1), 69 (1), 70 (1), 5a (1), 71 (1), 72 (1), Three (1), 587 (1), 107 (1), 304 (1), 320 (1), 116 (1), 37-50 (1), 469 (1), 798-815 (1), 477 (1), 93 (1), 545 (1), 74 (1), 278 (1), 8) (1), 579 (1), 884 (1), 560 (1), 190 (1), 829 (1), 75 (1), 131 (1), 141 (1), 265 (1), 201 (1), 176 (1), 84 (1), 76 (1), 850 (1), 434 (1), 231 (1), 319 (1), 109 (1), 77 (1), 280/?noredirect (1), 330-344 (1)</td>\n",
       "    </tr>\n",
       "    <tr>\n",
       "      <th id=\"T_4d2ab_level0_row7\" class=\"row_heading level0 row7\" >7</th>\n",
       "      <td id=\"T_4d2ab_row7_col0\" class=\"data row7 col0\" >NORP</td>\n",
       "      <td id=\"T_4d2ab_row7_col1\" class=\"data row7 col1\" >59</td>\n",
       "      <td id=\"T_4d2ab_row7_col2\" class=\"data row7 col2\" >French (16), Canadian (6), Opponent (5), European (5), Russian (4), Twitter (2), Japanese (2), Iranian (2), North American (2), Western (1), Chinese (1), Korean (1), Schandorf (1), Swiss (1), Scribe (1), Greek (1), prese (1), Pessimistic (1), democratic (1), German (1), American (1), Ahmadian (1), Coesemans (1), Australian (1)</td>\n",
       "    </tr>\n",
       "    <tr>\n",
       "      <th id=\"T_4d2ab_level0_row8\" class=\"row_heading level0 row8\" >8</th>\n",
       "      <td id=\"T_4d2ab_row8_col0\" class=\"data row8 col0\" >LOC</td>\n",
       "      <td id=\"T_4d2ab_row8_col1\" class=\"data row8 col1\" >25</td>\n",
       "      <td id=\"T_4d2ab_row8_col2\" class=\"data row8 col2\" >Europe (13), Table 9 (2), The North Atlantic  Treaty Organization (1), the Middle East (1), Africa (1), Western Europe (1), North America (1), Eastern Europe (1), Internation al (1), Table 4 (1), Central Route (1), Hayley (1)</td>\n",
       "    </tr>\n",
       "    <tr>\n",
       "      <th id=\"T_4d2ab_level0_row9\" class=\"row_heading level0 row9\" >9</th>\n",
       "      <td id=\"T_4d2ab_row9_col0\" class=\"data row9 col0\" >EVENT</td>\n",
       "      <td id=\"T_4d2ab_row9_col1\" class=\"data row9 col1\" >6</td>\n",
       "      <td id=\"T_4d2ab_row9_col2\" class=\"data row9 col2\" >the Arab Spring (1), the 2018 Summit (1), World Cup (1), Hawaii International \n",
       "Conference on System Sciences (1), the Twitter Revolution: How  \n",
       "Tweets Influence the Relationship Between Political Leaders (1), International Conference on Supporting Group Work (1)</td>\n",
       "    </tr>\n",
       "    <tr>\n",
       "      <th id=\"T_4d2ab_level0_row10\" class=\"row_heading level0 row10\" >10</th>\n",
       "      <td id=\"T_4d2ab_row10_col0\" class=\"data row10 col0\" >ORDINAL</td>\n",
       "      <td id=\"T_4d2ab_row10_col1\" class=\"data row10 col1\" >39</td>\n",
       "      <td id=\"T_4d2ab_row10_col2\" class=\"data row10 col2\" >second (12), first (10), First (6), Second (4), third (2), 45th (1), fifth (1), 70th (1), tenth (1), 42nd (1)</td>\n",
       "    </tr>\n",
       "    <tr>\n",
       "      <th id=\"T_4d2ab_level0_row11\" class=\"row_heading level0 row11\" >11</th>\n",
       "      <td id=\"T_4d2ab_row11_col0\" class=\"data row11 col0\" >PERCENT</td>\n",
       "      <td id=\"T_4d2ab_row11_col1\" class=\"data row11 col1\" >317</td>\n",
       "      <td id=\"T_4d2ab_row11_col2\" class=\"data row11 col2\" >0% (82), 14.3% (5), 8.2% (4), 16.7% (4), 85.7% (4), 0.4283% (4), 18.5% (3), 13.3% (3), 12.5% (3), 50% (3), 4.8% (3), 90% (3), 1% (3), 4% (3), 8.3% (3), 10%  14.3% (3), 28.6% (3), 16.5% (2), 11.8% (2), 15.2% (2), 23.3% (2), 1.4% (2), 0.8% (2), 44.3% (2), 18.2% (2), 54.5% (2), 0.2789% (2), 0.0857% (2), 0.5996% (2), 0.5139% (2), 0.2998% (2), 0.1713% (2), 40% (2), 42.8% (2), 2% (2), 10% (2), 1.3699% (2), 0.1073% (2), 0.5479% (2), 0.8547% (2), 97 percent (1), at least 2% (1), 51.7% (1), 24.6% (1), 23.7% (1), 35% (1), 30.5% (1), 34.5% (1), 51.4% (1), 32.1% (1), 45.3% (1), 36.2% (1), 13.7% (1), 26.3% (1), 2.4%   (1), 63.5% (1), 88.4% (1), 9.7% (1), 46.6% (1), 22.7% (1), 2.4% (1), 29.4% (1), 0.3% (1), 23.4% (1), 46% (1), 0.9% (1), 27.2% (1), 16 .3% (1), 40.6% (1), 0.7% (1), 38.6% (1), 30.2% (1), 9.2% (1), 44.1% (1), 4.4% (1), 10.1% (1), 13.5% (1), 4.3% (1), 2.5% (1), 2.8% (1), 18.9% (1), 1.1% (1), 5.4%  6.4% (1), 6.3% (1), 6.8% (1), 42.4% (1), 48.8% (1), 65.6% (1), 43.8% (1), 33.9% (1), 7.4%  0.5% (1), 86.7% (1), 56.2% (1), 66.1% (1), only 7.4% (1), only 0.5% (1), 98.1% (1), 97.8% (1), 3.1% (1), 2.9% (1), 5.4% (1), 14.1% (1), 9.4% (1), 29.1% (1), 37.7% (1), 1.2% (1), 9.4%  27.3% (1), 80% (1), 26.7% (1), 76.9% (1), 23.1% (1), 100% (1), 86% (1), only 14.3% (1), 0.3087% (1), 0.1395% (1), 0.0349% (1), 0.4711 % (1), 0.3344% (1), 0.0174% (1), 0.5660% (1), 0.5056% (1), 1.0291% (1), 0.2615% (1), 0.1029% (1), 0.4184% (1), 0.0772% (1), 0.1046% (1), 0.1801% (1), 1.92% (1), 0.43% (1), 0.40% (1), 0.79% (1), 55.6% (1), 60% (1), 4.2% (1), about 50% (1), approximately 20% (1), 5.6% (1), 47.6% (1), 36.1% (1), 33.3% (1), 13.9% (1), 9.5% (1), 25%   (1), 3.6% (1), 19.4% (1), 27.3% (1), 30% (1), 15.4% (1), 46.1% (1), 38.5% (1), 83.3% (1), 71.4% (1), 0.0805%  0.7898% (1), 0.2740% (1), 0.1878% (1), 0.1215% (1), 0.0268% (1), 0.4025% (1), 0.5468% (1), 1.9178% (1), 0.3034% (1), 0.3220% (1), 0.0607% (1), 0.4293% (1), 0.1823% (1), 0.4711% (1), 0.2918% (1), 0.3448% (1), 0.5570% (1), 3.4188%  0.9549% (1), 0.1061% (1), 0.0796% (1), 0.1857% (1)</td>\n",
       "    </tr>\n",
       "    <tr>\n",
       "      <th id=\"T_4d2ab_level0_row12\" class=\"row_heading level0 row12\" >12</th>\n",
       "      <td id=\"T_4d2ab_row12_col0\" class=\"data row12 col0\" >FAC</td>\n",
       "      <td id=\"T_4d2ab_row12_col1\" class=\"data row12 col1\" >17</td>\n",
       "      <td id=\"T_4d2ab_row12_col2\" class=\"data row12 col2\" >Vatican (1), Burden -Sharing (1), Bethany Conway -Silva et al (1), Le Pen (1), Table 4 (1), “America First” (1), Table 7 (1), NATO Burden -Sharing (1), Burden -Sharing discussi (1), Table 4a (1), Table 4c (1), Table 5b (1), Table 5c (1), Table 6a (1), Table 6b (1), Table 6c (1), the Level of Heads (1)</td>\n",
       "    </tr>\n",
       "    <tr>\n",
       "      <th id=\"T_4d2ab_level0_row13\" class=\"row_heading level0 row13\" >13</th>\n",
       "      <td id=\"T_4d2ab_row13_col0\" class=\"data row13 col0\" >LANGUAGE</td>\n",
       "      <td id=\"T_4d2ab_row13_col1\" class=\"data row13 col1\" >12</td>\n",
       "      <td id=\"T_4d2ab_row13_col2\" class=\"data row13 col2\" >English (8), French (4)</td>\n",
       "    </tr>\n",
       "    <tr>\n",
       "      <th id=\"T_4d2ab_level0_row14\" class=\"row_heading level0 row14\" >14</th>\n",
       "      <td id=\"T_4d2ab_row14_col0\" class=\"data row14 col0\" >MONEY</td>\n",
       "      <td id=\"T_4d2ab_row14_col1\" class=\"data row14 col1\" >7</td>\n",
       "      <td id=\"T_4d2ab_row14_col2\" class=\"data row14 col2\" >$151 Billion (3), BlackLivesMatter (1), # of (1), 150 billion dollars (1), $151 Million (1)</td>\n",
       "    </tr>\n",
       "    <tr>\n",
       "      <th id=\"T_4d2ab_level0_row15\" class=\"row_heading level0 row15\" >15</th>\n",
       "      <td id=\"T_4d2ab_row15_col0\" class=\"data row15 col0\" >LAW</td>\n",
       "      <td id=\"T_4d2ab_row15_col1\" class=\"data row15 col1\" >4</td>\n",
       "      <td id=\"T_4d2ab_row15_col2\" class=\"data row15 col2\" >Article 5 (2), Table 3 (1), Table 6 (1)</td>\n",
       "    </tr>\n",
       "    <tr>\n",
       "      <th id=\"T_4d2ab_level0_row16\" class=\"row_heading level0 row16\" >16</th>\n",
       "      <td id=\"T_4d2ab_row16_col0\" class=\"data row16 col0\" >TIME</td>\n",
       "      <td id=\"T_4d2ab_row16_col1\" class=\"data row16 col1\" >3</td>\n",
       "      <td id=\"T_4d2ab_row16_col2\" class=\"data row16 col2\" >hourly (1), forty seconds (1), half an hour (1)</td>\n",
       "    </tr>\n",
       "  </tbody>\n",
       "</table>\n"
      ],
      "text/plain": [
       "<pandas.io.formats.style.Styler at 0x14f51f150>"
      ]
     },
     "metadata": {},
     "output_type": "display_data"
    },
    {
     "data": {
      "text/html": [
       "<hr>"
      ],
      "text/plain": [
       "<IPython.core.display.HTML object>"
      ]
     },
     "metadata": {},
     "output_type": "display_data"
    },
    {
     "data": {
      "text/html": [
       "\n",
       "            <h3>Document: Commémorer sans travestir: La guerre de 1914-1918 comme grand événement</h3>\n",
       "            <p><strong>Authors:</strong> </p>\n",
       "            <p><strong>Date:</strong> 2013</p>\n",
       "            "
      ],
      "text/plain": [
       "<IPython.core.display.HTML object>"
      ]
     },
     "metadata": {},
     "output_type": "display_data"
    },
    {
     "data": {
      "text/html": [
       "<style type=\"text/css\">\n",
       "#T_89826 th {\n",
       "  border: 1px solid black;\n",
       "  padding: 8px;\n",
       "  text-align: left;\n",
       "}\n",
       "#T_89826_row0_col0, #T_89826_row0_col1, #T_89826_row0_col2, #T_89826_row1_col0, #T_89826_row1_col1, #T_89826_row1_col2, #T_89826_row2_col0, #T_89826_row2_col1, #T_89826_row2_col2, #T_89826_row3_col0, #T_89826_row3_col1, #T_89826_row3_col2, #T_89826_row4_col0, #T_89826_row4_col1, #T_89826_row4_col2, #T_89826_row5_col0, #T_89826_row5_col1, #T_89826_row5_col2, #T_89826_row6_col0, #T_89826_row6_col1, #T_89826_row6_col2, #T_89826_row7_col0, #T_89826_row7_col1, #T_89826_row7_col2, #T_89826_row8_col0, #T_89826_row8_col1, #T_89826_row8_col2, #T_89826_row9_col0, #T_89826_row9_col1, #T_89826_row9_col2, #T_89826_row10_col0, #T_89826_row10_col1, #T_89826_row10_col2, #T_89826_row11_col0, #T_89826_row11_col1, #T_89826_row11_col2, #T_89826_row12_col0, #T_89826_row12_col1, #T_89826_row12_col2, #T_89826_row13_col0, #T_89826_row13_col1, #T_89826_row13_col2, #T_89826_row14_col0, #T_89826_row14_col1, #T_89826_row14_col2 {\n",
       "  border: 1px solid black;\n",
       "  padding: 8px;\n",
       "  text-align: left;\n",
       "}\n",
       "</style>\n",
       "<table id=\"T_89826\">\n",
       "  <thead>\n",
       "    <tr>\n",
       "      <th class=\"blank level0\" >&nbsp;</th>\n",
       "      <th id=\"T_89826_level0_col0\" class=\"col_heading level0 col0\" >Entity Type</th>\n",
       "      <th id=\"T_89826_level0_col1\" class=\"col_heading level0 col1\" >Count</th>\n",
       "      <th id=\"T_89826_level0_col2\" class=\"col_heading level0 col2\" >Unique Entities</th>\n",
       "    </tr>\n",
       "  </thead>\n",
       "  <tbody>\n",
       "    <tr>\n",
       "      <th id=\"T_89826_level0_row0\" class=\"row_heading level0 row0\" >0</th>\n",
       "      <td id=\"T_89826_row0_col0\" class=\"data row0 col0\" >PERSON</td>\n",
       "      <td id=\"T_89826_row0_col1\" class=\"data row0 col1\" >244</td>\n",
       "      <td id=\"T_89826_row0_col2\" class=\"data row0 col2\" >Gallimard (17), Mais (8), la guerre (6), de la guerre (3), qui se (3), Gallimard   (3), La (3), La guerre de 1914-1918 (2), Guerre (2), la guerre de 1914 (2), David Stevenson (2), Français (2), Grande Guerre (2), de Verdun (2), La guerre (2), Les Français (2), qui (2), Russie (2), l'adresse (1), https://www.cairn.info/revue-le-debat-2013-4-page-137.htm\n",
       "-------------------------------------------------------------------------------------------------------------------- (1), de la (1), ce soit (1), écrit de\n",
       "l'éditeur (1), par la (1), TCPDF (1), conseil scientiﬁque de la Mission du (1), de l’Ancien Régime (1), Celui-ci (1), qui pourront (1), lui appar -\n",
       "tient (1), Je \n",
       "n’entreprendrai (1), n’ont pas la \n",
       "même (1), de \n",
       "guerre français (1), même de l’absur -\n",
       " (1), épi -\n",
       " (1), Britanniques (1), qui ont fait (1), repoussé (1), du prin -\n",
       "temps (1), voit la (1), David \n",
       "Cameron (1), menée aussi (1), Mais la (1), de Passchen -\n",
       "daele leur est (1), sur bien (1), celui qui (1), Une (1), qui va de 1870 à 1940 (1), d’un même conﬂit \n",
       "trois (1), Schuman de \n",
       "1950 (1), de Verdun de 1984 (1), aujourd’hui (1), leur langue (1), qui l’ont (1), juste (1), commun qui ont laissé leur (1), Les Britanniques (1), qui n’avaient pas d’intérêt (1), l’effort de guerre (1), La \n",
       " (1), venir de \n",
       "Chine (1), Norvégiens (1), pourra \n",
       "donc pas être une commémoration (1), comme \n",
       "de (1), de l’ancien (1), l’anniversaire de la bataille de la \n",
       "Somme (1), de Britan -\n",
       "niques (1), Que sera-ce (1), Les Australiens (1), de Mésopotamie (1), de \n",
       "Macédoine ont eu leur importance stratégique (1), comportait \n",
       "des soldats de tous (1), près de (1), du Nord (1), secteur de Reims (1), quatre Empires (1), la Russie (1), l’Empire ottoman \n",
       " (1), Néo-Zélandais (1), Sud-Africains (1), de bataille de 1918 (1), peu moins de 90 (1), Xu Guiqi (1), Strangers (1), de \n",
       "Verdun (1), Britan -\n",
       "niques (1), de \n",
       "700 (1), Verdun (1), journée de la \n",
       "bataille de la Somme (1), de \n",
       "l’ampleur (1), qui ont (1), Dès août \n",
       "1914 (1), Beaucoup de \n",
       "chevaux (1), Retourner (1), Fromelles (1), Nord (1), de-Calais (1), Les Canadiens (1), Américains (1), aucun (1), comme \n",
       "autant (1), Commémorer la (1), se focaliser \n",
       "sur (1), la bataille \n",
       "de la Marne (1), l’importance de cette (1), qui vont (1), de \n",
       "temps et de lieu (1), Canadiens (1), La commémo -\n",
       " (1), jusqu’à trois (1), quatre (1), toute la (1), samedi matin (1), En Allemagne (1), Italie (1), Beau (1), qui veulent \n",
       " (1), la guerre ait (1), journées \n",
       "de travail s’allongent jusqu’à (1), s’étendait (1), de vin \n",
       "aussi (1), ce qui \n",
       "désorganisait (1), allait \n",
       "d’abord (1), Gerd Hardach (1), denson (1), Jürgen Kocka (1), Gerald D. Feldman (1), Berg (1), Princeton (1), printemps de 1918 (1), ceux qui la pro -\n",
       " (1), Ludendorff (1), pour l’Australie (1), qui \n",
       "refusa à deux reprises (1), mois de bateau (1), ce qui n’a (1), guerre donne (1), En Russie (1), de femmes qui (1), mais une \n",
       "réalité (1), épreuve inouïe pour (1), question qui \n",
       "domine (1), mais qui (1), l’unanimité nationale de l’entrée (1), de la popu -5 (1), Jean-Louis Robert (1), Les Ouvriers (1), juste de faire (1), de poursuivre (1), de \n",
       "conquérir de nouveaux (1), C’est ce qui \n",
       "fait la popularité des quatorze (1), du prési -\n",
       " (1), Wilson (1), elle prouve (1), Reich (1), devienne \n",
       "roi de Pologne (1), bien nourris (1), près de leur (1), ceux qui \n",
       "imposent des (1), La cam -\n",
       " (1), sa légitimité (1), de guerre (1), Hongrie (1), mais la (1), Quand l’ordre \n",
       "de mobilisation est (1), Croit (1), de la guerre d’Algérie allaient (1), d’abord la guerre de 1914-1918 (1), de l’État-nation (1), qu’il (1), pour \n",
       "être suivi (1), absurde de \n",
       "parler de « (1), la guerre de 1914-1918 est (1), Parler de « (1), comme absurde (1), ce qui n’est (1), anachronisme même (1), quatre années de guerre (1), Versailles de la (1), Hitler (1), La thématique de la guerre de \n",
       "Trente Ans (1), Hitler de sa (1), Seconde Guerre (1), Au (1), épais -\n",
       "seur (1), L’armée \n",
       "même (1), intérieur qui s’effondre (1), La guerre de 1914 (1), de nouveaux États (1), ce qui (1), déplacé de Londres (1), crise de \n",
       "1929 (1), permettra de sanctionner (1), Si l’on se (1), Raymond Aron (1), Paix (1), Cal -\n",
       "mann-Lévy (1)</td>\n",
       "    </tr>\n",
       "    <tr>\n",
       "      <th id=\"T_89826_level0_row1\" class=\"row_heading level0 row1\" >1</th>\n",
       "      <td id=\"T_89826_row1_col0\" class=\"data row1 col0\" >ORG</td>\n",
       "      <td id=\"T_89826_row1_col1\" class=\"data row1 col1\" >121</td>\n",
       "      <td id=\"T_89826_row1_col2\" class=\"data row1 col2\" >un (22), Commémorer (8), Elle (6), Antoine Prost  \n",
       " (4), Allemagne (3), Toute (2), dans sa (2), dans la (2), Antoine Prost (1), ISSN (1), ligne à (1), sauf (1), Gallimard  Antoine Prost (1), de la (1), d’adresser à \n",
       "la nation (1), chaque (1), Chaque (1), Commonwealth (1), Grande Guerre (1), La France (1), après la guerre de \n",
       "1870 (1), sur notre (1), de la guerre de \n",
       "1914 (1), Oxford (1), Clarendon Press (1), coolies qui ont \n",
       "travaillé (1), de la péninsule de Shandong (1), Le \n",
       "corps expéditionnaire britannique (1), Parmi (1), la France (1), une armée (1), alliées qui combattaient (1), triche-Hongrie (1), de \n",
       "même (1), Canadiens (1), La Belgique (1), the Western Front: (1), Harvard Univer (1), qu’il (1), l’armée de millions d’hommes (1), Il n’y (1), grenier \n",
       "n’était (1), Villers-Bretonneux (1), Indiens à Neuve-Chapelle (1), noms de lieux qui \n",
       "n’évoquent (1), Français (1), dans la guerre \n",
       "longue (1), peut leur (1), Chemin des Dames (1), l’embâcle de la Seine (1), aboutir (1), voit des \n",
       "maris quitter (1), remplacer leur (1), dans la queue (1), d’obus (1), la mise (1), Les (1), n’a (1), Patrick (1), Fri- (1), Harvard University Press (1), Army (1), Industry and Labor (1), Oxford/Providence (1), Princeton University Press (1), qui passait (1), Picardie (1), Apogée (1), l’union sacrée (1), Besançon, Annales (1), Série (1), Cette (1), Grande-Bretagne (1), sur la (1), C’est la raison pour laquelle il est (1), dans la défense de leur (1), n’a de sens que pour la (1), qui espéraient (1), Antoine (1), la carte de l’Eu -\n",
       " (1)</td>\n",
       "    </tr>\n",
       "    <tr>\n",
       "      <th id=\"T_89826_level0_row2\" class=\"row_heading level0 row2\" >2</th>\n",
       "      <td id=\"T_89826_row2_col0\" class=\"data row2 col0\" >FAC</td>\n",
       "      <td id=\"T_89826_row2_col1\" class=\"data row2 col1\" >7</td>\n",
       "      <td id=\"T_89826_row2_col2\" class=\"data row2 col2\" >Le Débat (1), Le Conseil (1), Le bilan des pertes (1), la répar -\n",
       "tition (1), Le charbon (1), Le patriotisme (1), qui est (1)</td>\n",
       "    </tr>\n",
       "    <tr>\n",
       "      <th id=\"T_89826_level0_row3\" class=\"row_heading level0 row3\" >3</th>\n",
       "      <td id=\"T_89826_row3_col0\" class=\"data row3 col0\" >CARDINAL</td>\n",
       "      <td id=\"T_89826_row3_col1\" class=\"data row3 col1\" >64</td>\n",
       "      <td id=\"T_89826_row3_col2\" class=\"data row3 col2\" >millions (4), 144 (3), 137 (2), 1 (2), 11 (2), 139 (2), 2 (2), 2 millions (2), 60 (2), 140 (2), 142 (2), 143 (2), 176 (1), 138 (1), 20 (1), 26 000 (1), 150 (1), 50 000 (1), 8,4 (1), 176 000 (1), 215 (1), 136 (1), 1 400 (1), 71 000 (1), 761 000 (1), 600 000 (1), 1 457 000 (1), 772 000 (1), 400 (1), 16 000 (1), 38 700 (1), 160 (1), 60 000 (1), 200 (1), 141 (1), 100 (1), 75 (1), 261 200 (1), 229 (1), 42 600 (1), 10 000 (1), 324 (1), 3 (1), 87 (1), 4 (1), 5 (1), 330 (1), 592 (1), 6 (1)</td>\n",
       "    </tr>\n",
       "    <tr>\n",
       "      <th id=\"T_89826_level0_row4\" class=\"row_heading level0 row4\" >4</th>\n",
       "      <td id=\"T_89826_row4_col0\" class=\"data row4 col0\" >DATE</td>\n",
       "      <td id=\"T_89826_row4_col1\" class=\"data row4 col1\" >40</td>\n",
       "      <td id=\"T_89826_row4_col2\" class=\"data row4 col2\" >1914-1918 (4), 1916 (3), 1914 (3), 1917 (3), d’une (3), 1914-1919 (2), 16 avril 1917 (2), 1984 (2), 9782070142743 (1), 1789 (1), Week (1), 2012 (1), 1982 (1), 54 (1), 2011 (1), 1er juillet 1916 (1), 24 septembre 1914 (1), septembre 1914 (1), 9 avril 1917 (1), 1914-\n",
       "1918 (1), 1977 (1), 1992 (1), 1995 (1), 1930 (1), 1948 (1), 1926 (1)</td>\n",
       "    </tr>\n",
       "    <tr>\n",
       "      <th id=\"T_89826_level0_row5\" class=\"row_heading level0 row5\" >5</th>\n",
       "      <td id=\"T_89826_row5_col0\" class=\"data row5 col0\" >NORP</td>\n",
       "      <td id=\"T_89826_row5_col1\" class=\"data row5 col1\" >51</td>\n",
       "      <td id=\"T_89826_row5_col2\" class=\"data row5 col2\" >dans (39), États (2), Dans (2), Australiens (1), laissé (1), Sénégalais (1), Certes (1), Chinese Labo (1), German (1), être (1), d’États (1)</td>\n",
       "    </tr>\n",
       "    <tr>\n",
       "      <th id=\"T_89826_level0_row6\" class=\"row_heading level0 row6\" >6</th>\n",
       "      <td id=\"T_89826_row6_col0\" class=\"data row6 col0\" >GPE</td>\n",
       "      <td id=\"T_89826_row6_col1\" class=\"data row6 col1\" >77</td>\n",
       "      <td id=\"T_89826_row6_col2\" class=\"data row6 col2\" >France (19), Consortium Luxembourg (18), Paris (3), Germany (2), sont (2), La (2), Cambridge (2), Mass. (2), la (2), la longue (1), Canada (1), Cameroun (1), Japonais (1), Bref (1), Indiens (1), Grèce (1), sait où (1), Berlin (1), l’incendie (1), l’hiver (1), la paix (1), Leipzig (1), Pétersbourg (1), qu’il (1), bureaux (1), qu’à (1), Celle (1), l’ordre du (1), Pologne (1), Tchécoslovaquie (1), la Yougoslavie (1), l’URSS (1), Le (1), New York (1)</td>\n",
       "    </tr>\n",
       "    <tr>\n",
       "      <th id=\"T_89826_level0_row7\" class=\"row_heading level0 row7\" >7</th>\n",
       "      <td id=\"T_89826_row7_col0\" class=\"data row7 col0\" >LOC</td>\n",
       "      <td id=\"T_89826_row7_col1\" class=\"data row7 col1\" >6</td>\n",
       "      <td id=\"T_89826_row7_col2\" class=\"data row7 col2\" >RP-Prost.indd (4), Il est (1), Europe (1)</td>\n",
       "    </tr>\n",
       "    <tr>\n",
       "      <th id=\"T_89826_level0_row8\" class=\"row_heading level0 row8\" >8</th>\n",
       "      <td id=\"T_89826_row8_col0\" class=\"data row8 col0\" >PRODUCT</td>\n",
       "      <td id=\"T_89826_row8_col1\" class=\"data row8 col1\" >6</td>\n",
       "      <td id=\"T_89826_row8_col2\" class=\"data row8 col2\" >RP-Prost.indd (4), Australiens (1), qu’en (1)</td>\n",
       "    </tr>\n",
       "    <tr>\n",
       "      <th id=\"T_89826_level0_row9\" class=\"row_heading level0 row9\" >9</th>\n",
       "      <td id=\"T_89826_row9_col0\" class=\"data row9 col0\" >EVENT</td>\n",
       "      <td id=\"T_89826_row9_col1\" class=\"data row9 col1\" >2</td>\n",
       "      <td id=\"T_89826_row9_col2\" class=\"data row9 col2\" >French War Aims (1), the Great War (1)</td>\n",
       "    </tr>\n",
       "    <tr>\n",
       "      <th id=\"T_89826_level0_row10\" class=\"row_heading level0 row10\" >10</th>\n",
       "      <td id=\"T_89826_row10_col0\" class=\"data row10 col0\" >TIME</td>\n",
       "      <td id=\"T_89826_row10_col1\" class=\"data row10 col1\" >2</td>\n",
       "      <td id=\"T_89826_row10_col2\" class=\"data row10 col2\" >138 28/08/13 (1), 141 28/08/13 (1)</td>\n",
       "    </tr>\n",
       "    <tr>\n",
       "      <th id=\"T_89826_level0_row11\" class=\"row_heading level0 row11\" >11</th>\n",
       "      <td id=\"T_89826_row11_col0\" class=\"data row11 col0\" >WORK_OF_ART</td>\n",
       "      <td id=\"T_89826_row11_col1\" class=\"data row11 col1\" >2</td>\n",
       "      <td id=\"T_89826_row11_col2\" class=\"data row11 col2\" >Le (1), La Grande Guerre (1)</td>\n",
       "    </tr>\n",
       "    <tr>\n",
       "      <th id=\"T_89826_level0_row12\" class=\"row_heading level0 row12\" >12</th>\n",
       "      <td id=\"T_89826_row12_col0\" class=\"data row12 col0\" >PERCENT</td>\n",
       "      <td id=\"T_89826_row12_col1\" class=\"data row12 col1\" >2</td>\n",
       "      <td id=\"T_89826_row12_col2\" class=\"data row12 col2\" >6 % (1), 61 000 (1)</td>\n",
       "    </tr>\n",
       "    <tr>\n",
       "      <th id=\"T_89826_level0_row13\" class=\"row_heading level0 row13\" >13</th>\n",
       "      <td id=\"T_89826_row13_col0\" class=\"data row13 col0\" >QUANTITY</td>\n",
       "      <td id=\"T_89826_row13_col1\" class=\"data row13 col1\" >5</td>\n",
       "      <td id=\"T_89826_row13_col2\" class=\"data row13 col2\" >260 000 (1), 7 000 (1), 1917 et mars (1), millions à venir (1), 15 000 kilomètres (1)</td>\n",
       "    </tr>\n",
       "    <tr>\n",
       "      <th id=\"T_89826_level0_row14\" class=\"row_heading level0 row14\" >14</th>\n",
       "      <td id=\"T_89826_row14_col0\" class=\"data row14 col0\" >LANGUAGE</td>\n",
       "      <td id=\"T_89826_row14_col1\" class=\"data row14 col1\" >1</td>\n",
       "      <td id=\"T_89826_row14_col2\" class=\"data row14 col2\" >succède (1)</td>\n",
       "    </tr>\n",
       "  </tbody>\n",
       "</table>\n"
      ],
      "text/plain": [
       "<pandas.io.formats.style.Styler at 0x14f562a90>"
      ]
     },
     "metadata": {},
     "output_type": "display_data"
    },
    {
     "data": {
      "text/html": [
       "<hr>"
      ],
      "text/plain": [
       "<IPython.core.display.HTML object>"
      ]
     },
     "metadata": {},
     "output_type": "display_data"
    },
    {
     "data": {
      "text/html": [
       "\n",
       "            <h3>Document: 1914, un lieu de mémoire européen ? de la commémoration nationale à l’émergence d’un consensus mémoriel</h3>\n",
       "            <p><strong>Authors:</strong> </p>\n",
       "            <p><strong>Date:</strong> 2017-05-02</p>\n",
       "            "
      ],
      "text/plain": [
       "<IPython.core.display.HTML object>"
      ]
     },
     "metadata": {},
     "output_type": "display_data"
    },
    {
     "data": {
      "text/html": [
       "<style type=\"text/css\">\n",
       "#T_78d23 th {\n",
       "  border: 1px solid black;\n",
       "  padding: 8px;\n",
       "  text-align: left;\n",
       "}\n",
       "#T_78d23_row0_col0, #T_78d23_row0_col1, #T_78d23_row0_col2, #T_78d23_row1_col0, #T_78d23_row1_col1, #T_78d23_row1_col2, #T_78d23_row2_col0, #T_78d23_row2_col1, #T_78d23_row2_col2, #T_78d23_row3_col0, #T_78d23_row3_col1, #T_78d23_row3_col2, #T_78d23_row4_col0, #T_78d23_row4_col1, #T_78d23_row4_col2, #T_78d23_row5_col0, #T_78d23_row5_col1, #T_78d23_row5_col2, #T_78d23_row6_col0, #T_78d23_row6_col1, #T_78d23_row6_col2, #T_78d23_row7_col0, #T_78d23_row7_col1, #T_78d23_row7_col2, #T_78d23_row8_col0, #T_78d23_row8_col1, #T_78d23_row8_col2, #T_78d23_row9_col0, #T_78d23_row9_col1, #T_78d23_row9_col2, #T_78d23_row10_col0, #T_78d23_row10_col1, #T_78d23_row10_col2, #T_78d23_row11_col0, #T_78d23_row11_col1, #T_78d23_row11_col2, #T_78d23_row12_col0, #T_78d23_row12_col1, #T_78d23_row12_col2, #T_78d23_row13_col0, #T_78d23_row13_col1, #T_78d23_row13_col2 {\n",
       "  border: 1px solid black;\n",
       "  padding: 8px;\n",
       "  text-align: left;\n",
       "}\n",
       "</style>\n",
       "<table id=\"T_78d23\">\n",
       "  <thead>\n",
       "    <tr>\n",
       "      <th class=\"blank level0\" >&nbsp;</th>\n",
       "      <th id=\"T_78d23_level0_col0\" class=\"col_heading level0 col0\" >Entity Type</th>\n",
       "      <th id=\"T_78d23_level0_col1\" class=\"col_heading level0 col1\" >Count</th>\n",
       "      <th id=\"T_78d23_level0_col2\" class=\"col_heading level0 col2\" >Unique Entities</th>\n",
       "    </tr>\n",
       "  </thead>\n",
       "  <tbody>\n",
       "    <tr>\n",
       "      <th id=\"T_78d23_level0_row0\" class=\"row_heading level0 row0\" >0</th>\n",
       "      <td id=\"T_78d23_row0_col0\" class=\"data row0 col0\" >DATE</td>\n",
       "      <td id=\"T_78d23_row0_col1\" class=\"data row0 col1\" >162</td>\n",
       "      <td id=\"T_78d23_row0_col2\" class=\"data row0 col2\" >1914 (26), 2017 (18), d’une (8), 29 mars (7), 2014 (6), 2011 (5), 2005 (4), 2012 (3), 2004 (3), 1989 (2), 1970 (2), 1992 (2), 2000 (2), 1996 (2), 1997 (2), 1920 (2), 1977 (2), 2010 (2), 1989-1991 (2), 1960 (2), 2008 (2), 2006 (2), 2002 (2), 1998 (2), 46 (2), 0984-2292 (1), 1948 (1), 12029 (1), 1982 à Vienne (1), 12129 mars (1), 1952 (1), 12229 mars (1), 1984 (1), 12329 mars (1), 2009 (1), 1986 (1), 1914/18-1961 (1), 1914-1918 (1), 68-74 (1), 12529 mars (1), 1930 (1), 1914-1939 (1), 1921-1939 (1), 1918-1939 (1), 2013 (1), 2001 (1), 12629 mars 2017 (1), 1961-1989/91 (1), 1961 (1), 1871-1914 (1), 1895-1914 (1), 1968 (1), 1963 (1), 1871-1918 (1), 12729 mars (1), 199227 (1), 200828 (1), 1915 (1), 1916 (1), 30 (1), 1990 (1), 1988 (1), 16 (1), 12829 (1), l’année 1914 (1), 12929 mars (1), 1932 (1), 31 (1), 1993 (1), 1er janvier 1993 (1), 7 février 2014 (1), 1914-1933 (1), 13129 mars 2017 (1), 42 (1), 13229 mars 2017 (1)</td>\n",
       "    </tr>\n",
       "    <tr>\n",
       "      <th id=\"T_78d23_level0_row1\" class=\"row_heading level0 row1\" >1</th>\n",
       "      <td id=\"T_78d23_row1_col0\" class=\"data row1 col0\" >ORG</td>\n",
       "      <td id=\"T_78d23_row1_col1\" class=\"data row1 col1\" >320</td>\n",
       "      <td id=\"T_78d23_row1_col2\" class=\"data row1 col2\" >PUF (54), un (37), un lieu de mémoire (12), Johannes Grossmann (9), de la (5), Cette (5), Podstatzký-Lichtenstein (4), Un (4), Grande-Bretagne (4), dans la (3), Elle (3), lieu de mémoire (3), UN LIEU DE MÉMOIRE (2), Il (2), lieux de mémoire (2), qu’il (2), d’abord (2), Les Lieux de mémoire (2), Göttingen, Vandenhoeck & Ruprecht (2), Paderborn, Schöningh (2), Macmillan (2), Klartext (2), DE LA (1), ISSN (1), ligne à (1), de la commémoration\n",
       "nationale à l’émergence d’un consensus (1), Toute (1), sauf (1), Guerres (1), DE LA COMMÉMORATION NATIONALE (1), François-Ferdinand de Habsbourg (1), de Podstatzký-Lichtenstein (1), François-Ferdinand (1), dans la République (1), d’assumer la nationalité (1), pouvoir (1), Geteiltes (1), Gedenken (1), Beginn des Ersten Weltkriegs (1), Wandel, Umbruch (1), Absturz (1), Steiner (1), The Transformation of the Bohemian (1), Harvard University Press (1), la famille (1), n’y voit qu’un (1), début de la (1), diale, cent ans après (1), de la mémoire de la (1), CONCEPTS (1), cœur de cette (1), dans \n",
       "la (1), Pendant (1), ligner que la (1), Lieux de (1), La (1), d’être (1), Les Cadres (1), affirmation de leur (1), Ainsi (1), de la mémoire \n",
       "s’applique (1), lieux de commémoration qu’aux anniversaires (1), un lieu de commémoration parce (1), la mémoire \n",
       "de la Première (1), Par (1), un lieu de mémoire est (1), Hagen (1), points de cristallisation de la (1), un lieu géographique (1), Les France (1), Entre (1), La problématique des (1), t. I (1), XV-XLII (1), la Moravie (1), Lieux de mémoire (1), qui (1), commencé à critiquer la (1), d’analyser des lieux de mémoire (1), mer l’unité (1), Allemagne (1), constitutif de la Dolchstoßlegende (1), n’a (1), un mais deux points de référence \n",
       "matériels qui ont cependant des qualités symboliques et (1), T. Robbe (1), Historische Forschung (1), Geschichtswissenschaft (1), Deutsch-Polnische Erinnerungsorte (1), Geschichtspolitik (1), t. II (1), La Nation (1), sein de cadres nationaux ou sociaux respectifs (1), delà de la guerre – être utilisée (1), transformation d’un lieu de mémoire (1), divisé à un \n",
       "lieu de mémoire (1), dans la plupart des (1), Autriche (1), celle de la (1), Ein Ort (1), Deutsche (1), Europäische (1), Deutsches Historisches Museum (1), avec leur (1), s’intéressait guère à la (1), En Union (1), la mémoire de la Première (1), Allemagne après 1945 (1), après la défaite de 1940 et la transformation (1), Les Anciens Combattants (1), Politics (1), Society (1), Praeger (1), Kriegsdeutungen – Staatsgründungen (1), J. P (1), K. Petrone (1), Indiana University Press (1), Geschichtsschreibung (1), J. Winter (1), Penser la Grande Guerre (1), d’historiographie (1), De la (1), Fischer à l’histoire (1), une (1), c’est la lutte (1), d’obus qui devient (1), graphies de corps mutilés (1), par la transition d’une (1), Moritz (1), J. Stengers (1), Belgique et Congo (1), La Renaissance (1), Politik (1), de la guerre est devenue incontournable (1), de la guerre (1), Nouvelle-Zélande (1), dans la mémoire (1), de la bataille de Gallipoli (1), Dardanelles (1), nouvelle politisation et (1), Disposer des corps (1), Histoire/Geschichte (1), Premières L-ES-S (1), Yale University Press (1), sur la (1), qui semblent offrir une certaine résonance (1), LOCALISATIONS (1), hégémoniques de l’Empire (1), fonctionnelle qui allait de pair avec (1), La nouvelle de l’édification (1), constat ne fait (1), Beaucoup de (1), Fl (1), EU (1), Süddeutsche Zeitung (1), Berühmtes Hitler-Foto (1), déformée à plus (1), par la censure et par une description réductrice dans (1), proclamée par (1), par l’empereur (1), liée à la scission de la gauche européenne (1), l’origine de la (1), Kriegsfurcht (1), Erfindung (1), Volksgemeinschaft (1), Oxford (1), Oxford University Press (1), Das (1), Öffentlichkeit (1), Literarische Deutungen (1), Die Nation (1), the Origins of Communist \n",
       "Internationalism (1), Durham, Duke University Press (1), dans \n",
       "la presse démontrent (1), sur la suite de la guerre (1), Belgique (1), accompagnée par des (1), Flanders Fields Museum à Ypres (1), ligne de tradition (1), de la crise de 1914 (1)</td>\n",
       "    </tr>\n",
       "    <tr>\n",
       "      <th id=\"T_78d23_level0_row2\" class=\"row_heading level0 row2\" >2</th>\n",
       "      <td id=\"T_78d23_row2_col0\" class=\"data row2 col0\" >PERSON</td>\n",
       "      <td id=\"T_78d23_row2_col1\" class=\"data row2 col1\" >459</td>\n",
       "      <td id=\"T_78d23_row2_col2\" class=\"data row2 col2\" >Presses Universitaires de France (33), Guerre (27), dir. (13), Verdun (11), de la (9), Mais (9), Nora (5), W (4), G. Krumeich (4), J. Großmann (3), Gallimard (3), Der (3), G. Hirschfeld (3), Serbie (3), Großmann (2), Erinnerungsort (2), J. Angelow (2), Die Welt (2), La (2), Russie (2), qui se (2), Pierre Nora (2), Voir (2), H. Duchhardt (2), G. Kreis (2), Erste Weltkrieg (2), qui ont \n",
       "participé (2), Ersten Weltkrieg (2), J. Eichenberg (2), Der Erste Weltkrieg (2), Londres (2), J. Assmann (2), Première Guerre (2), la guerre (2), Mais ce (2), contexte de la (2), Essen (2), Beginn (2), L’ÉMERGENCE D’UN (1), l'adresse (1), https://www.cairn.info/revue-guerres-mondiales-et-conflits-\n",
       "contemporains-2017-1-page-119.htm\n",
       "--------------------------------------------------------------------------------------------------------------------\n",
       "Pour (1), Guerres (1), ce soit (1), écrit de\n",
       "l'éditeur (1), par la (1), TCPDF (1), L’ÉMERGENCE D’UN CONSENSUS (1), château de la (1), Velké Mezi (1), Groß Meseritsch (1), Franz Graf (1), Johann von \n",
       " (1), Graf von Harrach (1), Johann (1), Protectorat de Bohême-Moravie (1), la famille \n",
       "des Podstatzký-Lichtenstein (1), noblesse bohémienne (1), se \n",
       "voit (1), d’être déportée (1), Cependant (1), jusqu’à la fin de la guerre\n",
       " (1), qu’avec la (1), de \n",
       "l’après-guerre (1), Coup de Prague (1), légèrement complétée (1), das Jahr 1914 (1), E. Glassheim (1), Noble Nationalists (1), débrouille d’abord (1), Mais après la victoire électorale (1), Salvador \n",
       "Allende (1), de Johann (1), autoroutier qui traverse (1), près du \n",
       "château et (1), qui domine (1), la silhouette de Velké Mezi (1), prince héritier (1), mais qui est (1), Ensuite (1), mais aussi des phases de silence (1), Maurice Halbwachs (1), qui ont suivi (1), jusqu’aux \n",
       " (1), mais aussi pour le (1), de se (1), physique qui (1), M. Halbwachs (1), Puf (1), aussi bien (1), objectifs du passé (1), du genre \n",
       "de commémoration (1), créés afin de rattraper et de (1), de Franz Graf von Harrach (1), n’a (1), Selon Pierre Nora (1), Étienne François (1), pour leur (1), générations qui (1), trois qualités (1), qu’un vestige \n",
       "soit (1), ce qui (1), fonctionnelle (1), É. François (1), Einleitung (1), Deutsche Erinnerungsorte (1), qu’en vue de la mémoire nationale française (1), l’existence de lieux de mémoire (1), de « Verdun » (1), justifier une (1), donc bien (1), Europäische Erinnerungsorte (1), suivante se trouve également (1), dans H. Henning Hahn (1), R. Traba (1), Erinne (1), Zwischen nationalem (1), Gedenken (1), de \n",
       "la Marne (1), de Tannenberg (1), un bon exemple de mémoire (1), lutte héroïque (1), pourrait donc (1), de réfé-\n",
       "rence (1), C’est de nouveau (1), vir d’exemple (1), du xx\n",
       "e (1), peu de liens (1), par toute (1), loin \n",
       "de se (1), de la \n",
       "11 (1), Erinnerung (1), H. Möller (1), J. Morizet (1), Franzosen (1), Das Haus Europa (1), Weltkriegserinnerung (1), Der Erste (1), B. Ulrich (1), B. Ziemann (1), Krieg (1), Frieden (1), Quellen (1), Frankfurt a.M., (1), de guerre (1), République de Weimar (1), Voir B. Zie (1), Veteranen der (1), Dietz (1), internationaliste qui \n",
       "influençait (1), durable15 (1), de celui (1), commé-\n",
       " (1), régime nazi (1), la Wehrhaftmachung (1), Cela (1), de \n",
       "la (1), Voir A. Prost (1), Mentalités (1), N. Barr (1), N. Stegmann (1), Sozialpolitik (1), Polnische Veteranen des \n",
       "Ersten Weltkriegs (1), Newman (1), S. Zala (1), Geschichte (1), Schere (1), Zensur (1), Amtliche Aktensammlungen (1), Fritz \n",
       "Fischer qui (1), de guerre de l’Allemagne (1), de la guerre \n",
       " (1), La controverse sur (1), internationale21 (1), d’abord (1), de la guerre \n",
       "qui furent désormais étudiées (1), ce qui fut parfaitement illustré (1), Désormais (1), de la fin des (1), l’homme et la (1), qui témoignent de l’inhumanité de la guerre (1), témoins de l’époque et (1), H. Leidinger (1), Wienne (1), Voir de façon emblématique (1), H. Brunschwig (1), Mythes (1), réalités de l’impérialisme colonial français (1), B. Porter (1), Bruxelles (1), Ullmann (1), Deutschen Kaiserreich (1), de l’identité culturelle26 (1), Depuis 25 ans (1), montre bien (1), de l’empire (1), rideau de fer (1), mémoriel qui (1), donc de nou -\n",
       " (1), T. Hölscher (1), Kultur (1), Suhrkamp (1), Voir S. Wahnich (1), A. Tisseron (1), mettre la guerre (1), de Péronne (1), européenne de la guerre de 1914-1918 (1), D. Henri (1), G. Le Quintrec (1), Geiss (1), congrès de Vienne à 1945 (1), J. Winter (1), J. Macleod (1), Gallipoli (1), Cass (1), M. Bayer (1), G. P (1), Kriegserinne (1), Ou pour (1), la question de façon plus (1), l’attentat de Sarajevo (1), de François-Ferdinand (1), déclencheur de la (1), d’un Empire (1), justificatif du (1), comportement dans (1), Au Royaume de Y (1), Traité de Trianon (1), État (1), Au (1), épreuve de la (1), G. Bavendamm (1), R. Berghahn (1), Sarajewo (1), Der Untergang (1), la menace d’un retour de la guerre (1), nouvelle hégémonie (1), l’honneur de Gavrilo (1), auteur de l’attentat (1), Sarajevo (1), Karl von Habsburg-Lothringen (1), d’Autriche Charles (1), Süddeutsche Zeitung (1), compris (1), d’identité européenne (1), Adolf Hitler (1), foule enthousiasmée (1), l’Odeonsplatz de Munich (1), de manipuler l’opinion (1), de l’entre-deux-guerres (1), la \n",
       "venue de la guerre (1), n’ont réagi qu’avec une (1), T. Sommer (1), Die Zeit (1), Gallois (1), O. Das Gupta (1), Österreichs Kaiser-Enkel (1), S. F . (1), Kellerhof (1), Mais \n",
       "cette (1), ennemis39 (1), jours de \n",
       "la guerre (1), Raymond Poincaré (1), août \n",
       " (1), qualités symbo-\n",
       "liques (1), Leur (1), bien au-delà de la guerre (1), unité nationale (1), de la guerre (1), Aujourd’hui (1), européenne de \n",
       "la (1), Geinitz (1), Kampfbereitschaft (1), Das Augusterlebnis (1), Eine Studie (1), zum Kriegsbeginn 1914 (1), J. Verhey (1), J.-J. Becker (1), Presses de la FNSP (1), C. Pennell (1), comparaison franco-allemande (1), Raithel (1), Einheit (1), Studien (1), C. Kretschmann (1), S. O. Müller (1), Großbritannien (1), R. C. Nation (1), Lenin (1), Zimmerwald Left (1), » de la « Trêve de Noël (1), Christmas Truce (1), l’encontre de \n",
       "la recherche scientifique qui n’aurait (1), péenne de la (1), Depuis sa (1), peu après (1), Merry (1), Joyeux Noël (1), européenne44 (1), La \n",
       "popularisation de la Trêve de Noël (1), Sylvia (1), contexte \n",
       "du (1), européens45 (1), européenne de l’année 1914 (1), aucun cadre de (1), eut pas de « Trêve de Noël (1), S. Paletschek (1), Hochbruck (1), Der Erste \n",
       "Weltkrieg (1), Erinnerungskultur (1), biais \n",
       "de la « Trêve de Noël (1), européenne comme (1), qui comme (1), C’est la rai-son (1), historiques qui \n",
       "prétendent voir (1), défis qui (1), aujourd’hui (1), Eberhard Karls Universität Tübingen (1), H. Münkler (1), Ersten Weltkriegs (1)</td>\n",
       "    </tr>\n",
       "    <tr>\n",
       "      <th id=\"T_78d23_level0_row3\" class=\"row_heading level0 row3\" >3</th>\n",
       "      <td id=\"T_78d23_row3_col0\" class=\"data row3 col0\" >GPE</td>\n",
       "      <td id=\"T_78d23_row3_col1\" class=\"data row3 col1\" >165</td>\n",
       "      <td id=\"T_78d23_row3_col2\" class=\"data row3 col2\" >Consortium Luxembourg (30), Paris (11), France (10), Munich (9), la (6), Oldenbourg (6), Les (3), quotidien (3), Burgfrieden (3), qui (2), t. III (2), Beck (2), Wirkung (2), Berlin (2), Bonn (2), Conn. (2), Aus Politik (2), Zeitgeschichte (2), journaux (2), La (2), Allemagne (2), Deutschland (2), Johannes (1), Stuttgart (1), Mass. (1), Autriche (1), Suisse (1), Suède (1), la paix (1), qu’à (1), matérielle (1), É. François (1), différents9 (1), Cahiers d’études (1), Gallimard (1), Payot (1), siècle11 (1), Geschichte (1), Erinnerungsorte (1), Dokumente (1), Republik (1), Tchécoslovaquie (1), Pologne (1), la Kriegsschuldfrage (1), la demande de leurs (1), Westport (1), Kämpfen (1), Kontakte (1), Vergleich (1), Bloomington (1), Seuil (1), Böhlau (1), Colin (1), s’intéresse (1), Canada (1), Frankfurt (1), Tumultes (1), Nathan (1), New Haven (1), Osten 1914/15 (1), Nach (1), Forschung (1), sein de ce (1), Sarajevo (1), de Burgfrieden (1), Mythen (1), Zeiten (1), Ellipses (1), Freiburg (1), Hamburg (1), A Kingdom United (1), Britain (1), Ireland (1), Ersten Weltkrieges (1), Bouvier (1), mémoriaux. (1), Finalement (1), n’y (1), B. Korte (1), Die Zeit (1)</td>\n",
       "    </tr>\n",
       "    <tr>\n",
       "      <th id=\"T_78d23_level0_row4\" class=\"row_heading level0 row4\" >4</th>\n",
       "      <td id=\"T_78d23_row4_col0\" class=\"data row4 col0\" >PRODUCT</td>\n",
       "      <td id=\"T_78d23_row4_col1\" class=\"data row4 col1\" >37</td>\n",
       "      <td id=\"T_78d23_row4_col2\" class=\"data row4 col2\" >Revue (28), Guerres (1), Trêve \n",
       "de Noël (1), Andenken (1), d’Autriche (1), Français et Allemands (1), Konjunkturen (1), comparative23 (1), Internationale \n",
       "communiste41 (1), Français (1)</td>\n",
       "    </tr>\n",
       "    <tr>\n",
       "      <th id=\"T_78d23_level0_row5\" class=\"row_heading level0 row5\" >5</th>\n",
       "      <td id=\"T_78d23_row5_col0\" class=\"data row5 col0\" >CARDINAL</td>\n",
       "      <td id=\"T_78d23_row5_col1\" class=\"data row5 col1\" >256</td>\n",
       "      <td id=\"T_78d23_row5_col2\" class=\"data row5 col2\" >265 (30), 155 (28), 240 (28), 29 (10), 156 (9), 28 (5), 3 (4), 5 (4), 119 (3), 2 (3), 4 (3), d’une (3), 8 (3), 14 (3), 16 (3), 213 (3), 132 (2), 23 (2), 120 (2), 121 (2), 122 (2), 123 (2), 20 (2), 9 (2), 18 (2), 10 (2), 124 (2), 125 (2), 12 (2), 17 (2), 19 (2), 15 (2), 47 (2), 126 (2), 127 (2), 22 (2), 24 (2), 32 (2), 128 (2), 129 (2), 34 (2), 37 (2), 38 (2), 130 (2), 131 (2), 40 (2), 43 (2), 2017/1 (1), 9782130788133 (1), 10.3917 (1), 118 (1), 265/2017Varia (1), 1Le (1), 1 (1), 219 (1), 206 (1), 6 (1), toriens (1), trahi (1), 113 (1), 66 (1), 207 (1), 111 (1), 162 (1), 437 (1), 69 (1), 13 (1), 63 (1), 29-30/2004 (1), 71 (1), 15-50 (1), 21 (1), 7 (1), 2e (1), 53 (1), 25 (1), 70 (1), 26 (1), 11 (1), 27 (1), 55 (1), II (1), 186 (1), 154 (1), 30 (1), 31 (1), 257 (1), 33 (1), 373 (1), 1914 (1), 35 (1), 36 (1), 39 (1), 41 (1), 42 (1), 44 (1), 216 (1), 45 (1), 133 (1)</td>\n",
       "    </tr>\n",
       "    <tr>\n",
       "      <th id=\"T_78d23_level0_row6\" class=\"row_heading level0 row6\" >6</th>\n",
       "      <td id=\"T_78d23_row6_col0\" class=\"data row6 col0\" >NORP</td>\n",
       "      <td id=\"T_78d23_row6_col1\" class=\"data row6 col1\" >58</td>\n",
       "      <td id=\"T_78d23_row6_col2\" class=\"data row6 col2\" >dans (40), British (2), Aristocracy (1), Dans (1), sans (1), d’unité (1), R. (1), d’anciens (1), Russian (1), Bretagne (1), Sonderweg (1), Kollektives Gedächtnis (1), Gedächtnis (1), D. (1), historiques33 (1), Guerres (1), Ordnungsvorstellungen (1), dem (1)</td>\n",
       "    </tr>\n",
       "    <tr>\n",
       "      <th id=\"T_78d23_level0_row7\" class=\"row_heading level0 row7\" >7</th>\n",
       "      <td id=\"T_78d23_row7_col0\" class=\"data row7 col0\" >FAC</td>\n",
       "      <td id=\"T_78d23_row7_col1\" class=\"data row7 col1\" >6</td>\n",
       "      <td id=\"T_78d23_row7_col2\" class=\"data row7 col2\" >Chili (1), Le Mythe Pétain (1), la ques-\n",
       "tion de la responsabilité de guerre (1), qu’illustre \n",
       " (1), Le mythe (1), La montée de l’histoire (1)</td>\n",
       "    </tr>\n",
       "    <tr>\n",
       "      <th id=\"T_78d23_level0_row8\" class=\"row_heading level0 row8\" >8</th>\n",
       "      <td id=\"T_78d23_row8_col0\" class=\"data row8 col0\" >LOC</td>\n",
       "      <td id=\"T_78d23_row8_col1\" class=\"data row8 col1\" >23</td>\n",
       "      <td id=\"T_78d23_row8_col2\" class=\"data row8 col2\" >Europe (11), Europa (3), Balkans (2), Europe de (1), En Allemagne (1), Africa (1), the Twentieth Century (1), Balkan (1), Guillaume II (1), Outbreak of the (1)</td>\n",
       "    </tr>\n",
       "    <tr>\n",
       "      <th id=\"T_78d23_level0_row9\" class=\"row_heading level0 row9\" >9</th>\n",
       "      <td id=\"T_78d23_row9_col0\" class=\"data row9 col0\" >ORDINAL</td>\n",
       "      <td id=\"T_78d23_row9_col1\" class=\"data row9 col1\" >3</td>\n",
       "      <td id=\"T_78d23_row9_col2\" class=\"data row9 col2\" >second (3)</td>\n",
       "    </tr>\n",
       "    <tr>\n",
       "      <th id=\"T_78d23_level0_row10\" class=\"row_heading level0 row10\" >10</th>\n",
       "      <td id=\"T_78d23_row10_col0\" class=\"data row10 col0\" >WORK_OF_ART</td>\n",
       "      <td id=\"T_78d23_row10_col1\" class=\"data row10 col1\" >18</td>\n",
       "      <td id=\"T_78d23_row10_col2\" class=\"data row10 col2\" >Der Erste Weltkrieg (5), Grande Guerre » qui est au (1), Marias Rückkehr (1), Grande Guerre (1), Grande Guerre » n’offrait plus de remède (1), Philippe Pétain (1), mémorielles20 (1), Konjunkturen (1), oubliée31 (1), Sarajevo (1), Contorsions Européennes (1), Le Monde (1), Union \n",
       "sacrée (1), Hamburger Edition (1)</td>\n",
       "    </tr>\n",
       "    <tr>\n",
       "      <th id=\"T_78d23_level0_row11\" class=\"row_heading level0 row11\" >11</th>\n",
       "      <td id=\"T_78d23_row11_col0\" class=\"data row11 col0\" >TIME</td>\n",
       "      <td id=\"T_78d23_row11_col1\" class=\"data row11 col1\" >1</td>\n",
       "      <td id=\"T_78d23_row11_col2\" class=\"data row11 col2\" >d’une quelconque (1)</td>\n",
       "    </tr>\n",
       "    <tr>\n",
       "      <th id=\"T_78d23_level0_row12\" class=\"row_heading level0 row12\" >12</th>\n",
       "      <td id=\"T_78d23_row12_col0\" class=\"data row12 col0\" >PERCENT</td>\n",
       "      <td id=\"T_78d23_row12_col1\" class=\"data row12 col1\" >1</td>\n",
       "      <td id=\"T_78d23_row12_col2\" class=\"data row12 col2\" >7. (1)</td>\n",
       "    </tr>\n",
       "    <tr>\n",
       "      <th id=\"T_78d23_level0_row13\" class=\"row_heading level0 row13\" >13</th>\n",
       "      <td id=\"T_78d23_row13_col0\" class=\"data row13 col0\" >EVENT</td>\n",
       "      <td id=\"T_78d23_row13_col1\" class=\"data row13 col1\" >6</td>\n",
       "      <td id=\"T_78d23_row13_col2\" class=\"data row13 col2\" >The Great War (3), Remembering War (1), , War on War (1), Konflikt (1)</td>\n",
       "    </tr>\n",
       "  </tbody>\n",
       "</table>\n"
      ],
      "text/plain": [
       "<pandas.io.formats.style.Styler at 0x14f540f50>"
      ]
     },
     "metadata": {},
     "output_type": "display_data"
    },
    {
     "data": {
      "text/html": [
       "<hr>"
      ],
      "text/plain": [
       "<IPython.core.display.HTML object>"
      ]
     },
     "metadata": {},
     "output_type": "display_data"
    },
    {
     "data": {
      "text/html": [
       "\n",
       "            <h3>Document: Tweeting from the past: Commemorating the Anzac Centenary @ABCNews1915</h3>\n",
       "            <p><strong>Authors:</strong> </p>\n",
       "            <p><strong>Date:</strong> 2017-05-28</p>\n",
       "            "
      ],
      "text/plain": [
       "<IPython.core.display.HTML object>"
      ]
     },
     "metadata": {},
     "output_type": "display_data"
    },
    {
     "data": {
      "text/html": [
       "<style type=\"text/css\">\n",
       "#T_1f79b th {\n",
       "  border: 1px solid black;\n",
       "  padding: 8px;\n",
       "  text-align: left;\n",
       "}\n",
       "#T_1f79b_row0_col0, #T_1f79b_row0_col1, #T_1f79b_row0_col2, #T_1f79b_row1_col0, #T_1f79b_row1_col1, #T_1f79b_row1_col2, #T_1f79b_row2_col0, #T_1f79b_row2_col1, #T_1f79b_row2_col2, #T_1f79b_row3_col0, #T_1f79b_row3_col1, #T_1f79b_row3_col2, #T_1f79b_row4_col0, #T_1f79b_row4_col1, #T_1f79b_row4_col2, #T_1f79b_row5_col0, #T_1f79b_row5_col1, #T_1f79b_row5_col2, #T_1f79b_row6_col0, #T_1f79b_row6_col1, #T_1f79b_row6_col2, #T_1f79b_row7_col0, #T_1f79b_row7_col1, #T_1f79b_row7_col2, #T_1f79b_row8_col0, #T_1f79b_row8_col1, #T_1f79b_row8_col2, #T_1f79b_row9_col0, #T_1f79b_row9_col1, #T_1f79b_row9_col2, #T_1f79b_row10_col0, #T_1f79b_row10_col1, #T_1f79b_row10_col2, #T_1f79b_row11_col0, #T_1f79b_row11_col1, #T_1f79b_row11_col2, #T_1f79b_row12_col0, #T_1f79b_row12_col1, #T_1f79b_row12_col2, #T_1f79b_row13_col0, #T_1f79b_row13_col1, #T_1f79b_row13_col2 {\n",
       "  border: 1px solid black;\n",
       "  padding: 8px;\n",
       "  text-align: left;\n",
       "}\n",
       "</style>\n",
       "<table id=\"T_1f79b\">\n",
       "  <thead>\n",
       "    <tr>\n",
       "      <th class=\"blank level0\" >&nbsp;</th>\n",
       "      <th id=\"T_1f79b_level0_col0\" class=\"col_heading level0 col0\" >Entity Type</th>\n",
       "      <th id=\"T_1f79b_level0_col1\" class=\"col_heading level0 col1\" >Count</th>\n",
       "      <th id=\"T_1f79b_level0_col2\" class=\"col_heading level0 col2\" >Unique Entities</th>\n",
       "    </tr>\n",
       "  </thead>\n",
       "  <tbody>\n",
       "    <tr>\n",
       "      <th id=\"T_1f79b_level0_row0\" class=\"row_heading level0 row0\" >0</th>\n",
       "      <td id=\"T_1f79b_row0_col0\" class=\"data row0 col0\" >CARDINAL</td>\n",
       "      <td id=\"T_1f79b_row0_col1\" class=\"data row0 col1\" >97</td>\n",
       "      <td id=\"T_1f79b_row0_col2\" class=\"data row0 col2\" >one (9), 1 (7), two (6), 2 (4), 3 (4), One (3), 4 (3), 16 (2), 13 (2), 5 (2), three (2), 7 (2), 10 (2), 8) (2), 140 (1), thousands (1), 424 (1), 66 (1), 17 (1), 4–5 (1), 419 (1), 6 (1), 745 (1), 746 (1), 324 (1), 69 (1), 62 (1), 12–13 (1), 22 (1), 26 (1), 61 (1), only two (1), 8 (1), 747 (1), 102,700 (1), 693 (1), at least two (1), 11 (1), 12 (1), 256 (1), 322–323 (1), only one (1), 14 (1), 149 (1), 15 (1), 63–81 (1), 148–166 (1), 22–26 (1), 267–281 (1), 692–716 (1), 99 (1), 1(3 (1), 295–313 (1), 745–747 (1), 418–436 (1), 21 (1), 437–454 (1), 100 (1), 267–288 (1), 57–76 (1), 255–271 (1)</td>\n",
       "    </tr>\n",
       "    <tr>\n",
       "      <th id=\"T_1f79b_level0_row1\" class=\"row_heading level0 row1\" >1</th>\n",
       "      <td id=\"T_1f79b_row1_col0\" class=\"data row1 col0\" >DATE</td>\n",
       "      <td id=\"T_1f79b_row1_col1\" class=\"data row1 col1\" >160</td>\n",
       "      <td id=\"T_1f79b_row1_col2\" class=\"data row1 col2\" >2014 (24), 2015 (17), 2013 (14), 2016 (9), 1989 (8), 2009 (6), 2003 (4), 2012 (4), 2008 (4), 2017 (3), 25 April 2015 (3), a century ago (3), 1915 (3), 2005 (3), the weeks (2), Anzac Day (2), 25 April (2), Winter, 2006 (2), 2004 (2), century-old (2), 2010 (2), 29 April (2), May 2016 (2), the April 2015 (1), 3001 (1), weeks (1), 28 April (1), years (1), century (1), Sumartojo 3 (1), 1 to 30 April 2015 (1), Anzac Day 2015 (1), the twentieth century (1), the 1980s (1), Sumartojo, 2015a (1), Schwarz, 2014 (1), present-day (1), daily (1), the archives years later (1), Today (1), several days later (1), May (1), April 1915 (1), 2681 (1), a ‘23 year old (1), 55-year-old (1), 31 March (1), 2 April (1), the next day (1), Sumartojo 13 (1), Sumartojo, 2015b (1), 19 April 2016 (1), 20 April 2016 (1), 1 April (1), May/June (1), 2 May 2016 (1), 7 April (1), 6(4 (1), 2015b (1), 2006 (1)</td>\n",
       "    </tr>\n",
       "    <tr>\n",
       "      <th id=\"T_1f79b_level0_row2\" class=\"row_heading level0 row2\" >2</th>\n",
       "      <td id=\"T_1f79b_row2_col0\" class=\"data row2 col0\" >PRODUCT</td>\n",
       "      <td id=\"T_1f79b_row2_col1\" class=\"data row2 col1\" >28</td>\n",
       "      <td id=\"T_1f79b_row2_col2\" class=\"data row2 col2\" >Twitter (23), Reprints (1), Anzac (1), Anzacs (1), Notes (1), Serena (1)</td>\n",
       "    </tr>\n",
       "    <tr>\n",
       "      <th id=\"T_1f79b_level0_row3\" class=\"row_heading level0 row3\" >3</th>\n",
       "      <td id=\"T_1f79b_row3_col0\" class=\"data row3 col0\" >PERSON</td>\n",
       "      <td id=\"T_1f79b_row3_col1\" class=\"data row3 col1\" >143</td>\n",
       "      <td id=\"T_1f79b_row3_col2\" class=\"data row3 col2\" >Anzac (13), @ABCNews1915 (12), Twitter (10), Gallipoli (5), Nora (5), Connerton (5), Sumartojo S (4), Peter Lang (4), Shanti Sumartojo (3), Keightley (3), Edwards (3), Mustafa Ataturk (2), George V (2), Closs Stephens (2), Graham et al. (2), Schlesinger (2), @ABCNews1915 Twitter (2), Berry (2), Hawkins (2), Alice Ross King (2), Abingdon (2), Bruns A (2), 10.1177/1750698017709873\n",
       "journals.sagepub.com/home/mss\n",
       "Tweeting (1), Centenary @ABCNews1915 (1), Keywords\n",
       "Anzac (1), MSS0010.1177/1750698017709873Memory StudiesSumartojo (1), Daley (1), Massey (1), Danilova (1), José van Dijck (1), Pink (1), Miller (1), Horst (1), @ABCNews1915\n",
       "The ABC’s (1), Charles Bean (1), Brown (1), McKenna (1), Brendan Nelson (1), Tidy (1), Daryl Karp (1), @EllisSilas1915 (1), Silas (1), @AliceRK_1915 (1), Joseph Beeston’s (1), Beachy Bill (1), Joseph Beeston (1), Berry D (1), Danilova N (1), De Gruyter (1), Routledge (1), Graham C (1), Arnold M (1), Kohn (1), Graham T (1), Broersma M (1), Hazelhoff K (1), Anzacs (1), Hermida A (1), JOURNALISM (1), Jankélévitch V (1), Kelley (1), Schlesinger P (1), Damousi J (1), Massey D (1), Mycock A (1), Multimedia (1), Nora P (1), Les Lieux de Mémoire (1), Lanzeni D (1), Bloomsbury (1), James L (1), Penguin (1), Schwarz O (1), Van Dijck (1), xxix (1), Trafalgar Square (1)</td>\n",
       "    </tr>\n",
       "    <tr>\n",
       "      <th id=\"T_1f79b_level0_row4\" class=\"row_heading level0 row4\" >4</th>\n",
       "      <td id=\"T_1f79b_row4_col0\" class=\"data row4 col0\" >ORG</td>\n",
       "      <td id=\"T_1f79b_row4_col1\" class=\"data row4 col1\" >110</td>\n",
       "      <td id=\"T_1f79b_row4_col2\" class=\"data row4 col2\" >Gallipoli (11), ABC (8), AWM (4), Bell (4), RMIT University (3), NewSouth (3), Holbrook (2), Digital (2), New Review of Hypermedia (2), Ardèvol (2), Beeston (2), Bell D (2), the Australian Broadcasting Corporation (1), The Australian Broadcasting Corporation (1), the National Library of Australia (1), NLA (1), the Australian War Memorial (1), the Museum of Australian Democracy (MoAD (1), GPO Box 2476 (1), the Empire #Anzac100 @FergusonGG_1915 (1), the contemporary national narrative (1), Frame (1), Hansard (1), Sites (1), Papailias (1), Knudsen (1), Stage’s (1), Hart (1), @ABCNews1915 (1), the Gallipoli Campaign (1), linear (1), the Australian Parliament (1), Australian Army Nursing Service (1), NSW (1), Paddy’s (1), the Dawn Service (1), Tweeted (1), References\n",
       "Australian Broadcasting Corporation (1), British Journal of Sociology (1), State (1), Justice (1), VIC (1), Black Inc. (1), CUP.Daley P (1), Guardian (1), Idea of Nation (1), Photographs Objects Histories (1), the Materiality of Images (1), Information, Communication & Society 16(5 (1), Hajek A (1), Pentzold C (1), Reconstruction (1), Crikey.com (1), Digital Journalism (1), Holbrook C (1), IL: University of Chicago Press (1), Media Culture & Society (1), Knudsen B and Stage C ( (1), YouTube (1), Reynolds H (1), McKenna M (1), Digital Anthropology (1), Papailias P (1), Digital Materialities: Design and Anthropology (1), Wheatley R (1), Landscape Review (1), Anzac Day Dawn Service (1), Sumartojo S (1), Visual Communication (1), Weller K (1), Society (1), CT (1), Yale University Press (1), Museum Management and Curatorship (1), the Digital Ethnography Research Centre (1), the Narration of Britishness (1), Nation, Memory (1)</td>\n",
       "    </tr>\n",
       "    <tr>\n",
       "      <th id=\"T_1f79b_level0_row5\" class=\"row_heading level0 row5\" >5</th>\n",
       "      <td id=\"T_1f79b_row5_col0\" class=\"data row5 col0\" >GPE</td>\n",
       "      <td id=\"T_1f79b_row5_col1\" class=\"data row5 col1\" >86</td>\n",
       "      <td id=\"T_1f79b_row5_col2\" class=\"data row5 col2\" >Australia (17), Connerton (9), Gallipoli (6), New Zealand (5), Paddy (5), Melbourne (4), London (4), Sydney (4), NSW (4), al. (3), n.d. (2), Beeston (2), Cambridge (2), New York (2), Cairo (1), pp. (1), Jankélévitch (1), Bevernage (1), Multimedia (1), Lanzeni (1), Hermida (1), Newcastle (1), Egypt (1), @ABCNews1915 (1), Iraq (1), Afghanistan (1), Berlin (1), Chicago (1), Space (1), pp (1), New Haven (1)</td>\n",
       "    </tr>\n",
       "    <tr>\n",
       "      <th id=\"T_1f79b_level0_row6\" class=\"row_heading level0 row6\" >6</th>\n",
       "      <td id=\"T_1f79b_row6_col0\" class=\"data row6 col0\" >NORP</td>\n",
       "      <td id=\"T_1f79b_row6_col1\" class=\"data row6 col1\" >27</td>\n",
       "      <td id=\"T_1f79b_row6_col2\" class=\"data row6 col2\" >Australian (13), Australians (5), Turkish (2), British (2), Tweets (2), German (1), Agonistic (1), Danish (1)</td>\n",
       "    </tr>\n",
       "    <tr>\n",
       "      <th id=\"T_1f79b_level0_row7\" class=\"row_heading level0 row7\" >7</th>\n",
       "      <td id=\"T_1f79b_row7_col0\" class=\"data row7 col0\" >LAW</td>\n",
       "      <td id=\"T_1f79b_row7_col1\" class=\"data row7 col1\" >2</td>\n",
       "      <td id=\"T_1f79b_row7_col2\" class=\"data row7 col2\" >Article\n",
       " 2 Memory Studies (1), Representations 26 (1)</td>\n",
       "    </tr>\n",
       "    <tr>\n",
       "      <th id=\"T_1f79b_level0_row8\" class=\"row_heading level0 row8\" >8</th>\n",
       "      <td id=\"T_1f79b_row8_col0\" class=\"data row8 col0\" >ORDINAL</td>\n",
       "      <td id=\"T_1f79b_row8_col1\" class=\"data row8 col1\" >9</td>\n",
       "      <td id=\"T_1f79b_row8_col2\" class=\"data row8 col2\" >first (7), 4th (1), 5th (1)</td>\n",
       "    </tr>\n",
       "    <tr>\n",
       "      <th id=\"T_1f79b_level0_row9\" class=\"row_heading level0 row9\" >9</th>\n",
       "      <td id=\"T_1f79b_row9_col0\" class=\"data row9 col0\" >EVENT</td>\n",
       "      <td id=\"T_1f79b_row9_col1\" class=\"data row9 col1\" >12</td>\n",
       "      <td id=\"T_1f79b_row9_col2\" class=\"data row9 col2\" >Great War Commemoration (3), the First World War (2), The Great War (2), WWII (1), The Australian War Memorial’s (1), the Great War (1), World War One (1), the Great War Centenary (1)</td>\n",
       "    </tr>\n",
       "    <tr>\n",
       "      <th id=\"T_1f79b_level0_row10\" class=\"row_heading level0 row10\" >10</th>\n",
       "      <td id=\"T_1f79b_row10_col0\" class=\"data row10 col0\" >WORK_OF_ART</td>\n",
       "      <td id=\"T_1f79b_row10_col1\" class=\"data row10 col1\" >4</td>\n",
       "      <td id=\"T_1f79b_row10_col2\" class=\"data row10 col2\" >Sumartojo and Wellings (1), Sumartojo 5\n",
       "‘national ritual time (1), Sumartojo 9 (1), @ABCNews1915 (1)</td>\n",
       "    </tr>\n",
       "    <tr>\n",
       "      <th id=\"T_1f79b_level0_row11\" class=\"row_heading level0 row11\" >11</th>\n",
       "      <td id=\"T_1f79b_row11_col0\" class=\"data row11 col0\" >LOC</td>\n",
       "      <td id=\"T_1f79b_row11_col1\" class=\"data row11 col1\" >13</td>\n",
       "      <td id=\"T_1f79b_row11_col2\" class=\"data row11 col2\" >Beeston (5), Europe (3), Burgess J (2), Pink et al. (1), Lake et al. (1), the Twentieth Century (1)</td>\n",
       "    </tr>\n",
       "    <tr>\n",
       "      <th id=\"T_1f79b_level0_row12\" class=\"row_heading level0 row12\" >12</th>\n",
       "      <td id=\"T_1f79b_row12_col0\" class=\"data row12 col0\" >QUANTITY</td>\n",
       "      <td id=\"T_1f79b_row12_col1\" class=\"data row12 col1\" >1</td>\n",
       "      <td id=\"T_1f79b_row12_col2\" class=\"data row12 col2\" >three miles (1)</td>\n",
       "    </tr>\n",
       "    <tr>\n",
       "      <th id=\"T_1f79b_level0_row13\" class=\"row_heading level0 row13\" >13</th>\n",
       "      <td id=\"T_1f79b_row13_col0\" class=\"data row13 col0\" >FAC</td>\n",
       "      <td id=\"T_1f79b_row13_col1\" class=\"data row13 col1\" >3</td>\n",
       "      <td id=\"T_1f79b_row13_col2\" class=\"data row13 col2\" >Lake M (1), the Anzac ‘Resurgence (1), Pink S (1)</td>\n",
       "    </tr>\n",
       "  </tbody>\n",
       "</table>\n"
      ],
      "text/plain": [
       "<pandas.io.formats.style.Styler at 0x151067f10>"
      ]
     },
     "metadata": {},
     "output_type": "display_data"
    },
    {
     "data": {
      "text/html": [
       "<hr>"
      ],
      "text/plain": [
       "<IPython.core.display.HTML object>"
      ]
     },
     "metadata": {},
     "output_type": "display_data"
    },
    {
     "data": {
      "text/html": [
       "\n",
       "            <h3>Document: What does Twitter have to say about ideology?</h3>\n",
       "            <p><strong>Authors:</strong> ; ; ; ; </p>\n",
       "            <p><strong>Date:</strong> 2014/10/07</p>\n",
       "            "
      ],
      "text/plain": [
       "<IPython.core.display.HTML object>"
      ]
     },
     "metadata": {},
     "output_type": "display_data"
    },
    {
     "data": {
      "text/html": [
       "<style type=\"text/css\">\n",
       "#T_c2daa th {\n",
       "  border: 1px solid black;\n",
       "  padding: 8px;\n",
       "  text-align: left;\n",
       "}\n",
       "#T_c2daa_row0_col0, #T_c2daa_row0_col1, #T_c2daa_row0_col2, #T_c2daa_row1_col0, #T_c2daa_row1_col1, #T_c2daa_row1_col2, #T_c2daa_row2_col0, #T_c2daa_row2_col1, #T_c2daa_row2_col2, #T_c2daa_row3_col0, #T_c2daa_row3_col1, #T_c2daa_row3_col2, #T_c2daa_row4_col0, #T_c2daa_row4_col1, #T_c2daa_row4_col2, #T_c2daa_row5_col0, #T_c2daa_row5_col1, #T_c2daa_row5_col2, #T_c2daa_row6_col0, #T_c2daa_row6_col1, #T_c2daa_row6_col2, #T_c2daa_row7_col0, #T_c2daa_row7_col1, #T_c2daa_row7_col2, #T_c2daa_row8_col0, #T_c2daa_row8_col1, #T_c2daa_row8_col2, #T_c2daa_row9_col0, #T_c2daa_row9_col1, #T_c2daa_row9_col2, #T_c2daa_row10_col0, #T_c2daa_row10_col1, #T_c2daa_row10_col2, #T_c2daa_row11_col0, #T_c2daa_row11_col1, #T_c2daa_row11_col2, #T_c2daa_row12_col0, #T_c2daa_row12_col1, #T_c2daa_row12_col2, #T_c2daa_row13_col0, #T_c2daa_row13_col1, #T_c2daa_row13_col2, #T_c2daa_row14_col0, #T_c2daa_row14_col1, #T_c2daa_row14_col2, #T_c2daa_row15_col0, #T_c2daa_row15_col1, #T_c2daa_row15_col2, #T_c2daa_row16_col0, #T_c2daa_row16_col1, #T_c2daa_row16_col2, #T_c2daa_row17_col0, #T_c2daa_row17_col1, #T_c2daa_row17_col2 {\n",
       "  border: 1px solid black;\n",
       "  padding: 8px;\n",
       "  text-align: left;\n",
       "}\n",
       "</style>\n",
       "<table id=\"T_c2daa\">\n",
       "  <thead>\n",
       "    <tr>\n",
       "      <th class=\"blank level0\" >&nbsp;</th>\n",
       "      <th id=\"T_c2daa_level0_col0\" class=\"col_heading level0 col0\" >Entity Type</th>\n",
       "      <th id=\"T_c2daa_level0_col1\" class=\"col_heading level0 col1\" >Count</th>\n",
       "      <th id=\"T_c2daa_level0_col2\" class=\"col_heading level0 col2\" >Unique Entities</th>\n",
       "    </tr>\n",
       "  </thead>\n",
       "  <tbody>\n",
       "    <tr>\n",
       "      <th id=\"T_c2daa_level0_row0\" class=\"row_heading level0 row0\" >0</th>\n",
       "      <td id=\"T_c2daa_row0_col0\" class=\"data row0 col0\" >PERSON</td>\n",
       "      <td id=\"T_c2daa_row0_col1\" class=\"data row0 col1\" >127</td>\n",
       "      <td id=\"T_c2daa_row0_col2\" class=\"data row0 col2\" >Julien Longhi (7), Twitter (4), Longhi (4), Sarah Djemili (2), Dimitris Kotzinos (2), Wikimeta Tagger (2), Wikimeta (2), Mourad (2), Descl (2), Bruno Lemaire (2), Computational Linguistics (2), Noah A. Smith (2), Georges-Elia (1), Josef Ruppenhofer (1), Uni-\n",
       "versit atsverlag (1), Hildesheim (1), Paris Sorbonne (1), Dimitris Kotzinos\n",
       "ETIS - UCP/ENSEA (1), Zhou et al. (1), Durant (1), Efron (1), Sim et al. (1), Tedin (1), Knight (1), Speciﬁc (1), ﬁeld (1), je\n",
       "- fr (1), noun (1), Morpho (1), Java (1), ﬁle (1), Treebank (1), NMON (1), Poulard et al. (1), day7 (1), Je suis ravi de pouvoir (1), @DominiqueReynie bravo pour (1), La R (1), Franc ¸ais (1), de v ´ (1), Quoi de plus (1), l’amour de\n",
       "sa (1), Data Journalisme (1), France8 (1), Nouvelles (1), Ortolang (1), Pierre-Andr ´e (1), Thierry Chanier (1), Benoit Sagot (1), Georges Antoniadis (1), Ciara R. Wigham (1), Linda\n",
       "Hriba (1), Djam ´e Seddah (1), Linguistics (1), J Ratkiewicz (1), Literary (1), Linguistic\n",
       "Computing (1), Kathleen T. Durant (1), Michael D. Smith (1), Kathleen Durant (1), Michael Smith (1), Springer Berlin / Heidelberg (1), Miles Efron (1), RS Erikson (1), KL Tedin (1), Sean Gerrish (1), David M. Blei (1), Emmanuel Giguet (1), informatifs (1), Minghui Qiu (1), Liu Yang (1), Feida Zhu (1), Jing Jiang (1), Peter Enns (1), Jordan Boyd-Graber (1), Philip Resnik (1), Kathaleen Knight (1), Boris Borzic (1), Abdul Alkhouli (1), Essai de caract ´ (1), Ghassan Mourad (1), Jean-Pierre Descl (1), Ramnath Balasubramanyan (1), Bryan R. Routledge (1), William W. Cohen (1), Samuel Gosling (1), Thierry Waszak (1), Nicolas Hernan-\n",
       "dez (1), Langues\n",
       "Naturelles (1), Honor ´e (1), Yaroslav Riabinin (1), de lanalyse (1), Yanchuan Sim (1), Brice D. L. Acree (1), Justin H. Gross (1), Janyce Wiebe (1), Computational Approaches to Analysis (1), Marilyn A. Walker (1), Pranav Anand (1), Rob Abbott (1), Jean\n",
       "E. Fox Tree (1), Craig H. Martell (1), Joseph King (1), Daniel Xiaodan Zhou (1), Paul Resnick (1), Qiaozhu\n",
       "Mei. 2011 (1)</td>\n",
       "    </tr>\n",
       "    <tr>\n",
       "      <th id=\"T_c2daa_level0_row1\" class=\"row_heading level0 row1\" >1</th>\n",
       "      <td id=\"T_c2daa_row1_col0\" class=\"data row1 col0\" >GPE</td>\n",
       "      <td id=\"T_c2daa_row1_col1\" class=\"data row1 col1\" >45</td>\n",
       "      <td id=\"T_c2daa_row1_col2\" class=\"data row1 col2\" >France (8), Sarfati (8), al. (5), Claudia Marinica (3), Smith (2), Lucas (2), Proceedings (2), Hildesheim (1), Germany (1), Somasundaran (1), Wiebe (1), Gottipati (1), Giguet (1), Actes (1), L’Harmattan (1), Brendan O’Connor (1), Fabien Poulard (1), Emotion (1), Morristown (1), NJ (1), USA (1), Media (1)</td>\n",
       "    </tr>\n",
       "    <tr>\n",
       "      <th id=\"T_c2daa_level0_row2\" class=\"row_heading level0 row2\" >2</th>\n",
       "      <td id=\"T_c2daa_row2_col0\" class=\"data row2 col0\" >ORG</td>\n",
       "      <td id=\"T_c2daa_row2_col1\" class=\"data row2 col1\" >93</td>\n",
       "      <td id=\"T_c2daa_row2_col2\" class=\"data row2 col2\" >NLP (6), un (6), API (5), Cergy-Pontoise (4), Stanford (4), Wikimeta (3), Georges-Elia Sarfati (2), Rastier (2), Stanford NLP (2), RDF (2), Digital Humanities (2), The AAAI Press (2), Gertrud (1), HAL (1), Sarra (1), Georges-Elia (1), CRTF - UCP/EA (1), International License (1), Blei (1), HMM (1), Model (1), Iyyer et al. (1), RNN (1), Erikson (1), Treebank (1), the Linked Data (1), Linked Data (1), NLP Tagger (1), NTIME (1), NDAY (1), ABR (1), the Natural Language\n",
       "Processing (1), Shefﬁeld University (1), Dataset (1), Ce qu’il (1), Il (1), probl (1), nos (1), Les d ´ (1), Conclusions and Future Work (1), NLP System (1), the Foundation of the Cergy-Pontoise\n",
       "University (1), Chanier (1), JADT (1), Poudat (1), Journal of Language Technology (1), M Conover (1), IEEE Conference on Social Computing (1), Mats Dahllf (1), Web Usage Analysis (1), Knowledge and Information Systems (1), American Public\n",
       "Opinion (1), ICML (1), Swapna Gottipati (1), Social Informat-\n",
       "ics (1), Mohit Iyyer (1), Social Media (1), Patrice Bellot (1), Franc ¸ois Rastier (1), University of\n",
       "Toronto (1), chapter Lem- (1), LHarmattan (1), the Conference on Empirical Methods (1), Language Processing and Natural Language\n",
       "Learning (1), InProceedings (1)</td>\n",
       "    </tr>\n",
       "    <tr>\n",
       "      <th id=\"T_c2daa_level0_row3\" class=\"row_heading level0 row3\" >3</th>\n",
       "      <td id=\"T_c2daa_row3_col0\" class=\"data row3 col0\" >FAC</td>\n",
       "      <td id=\"T_c2daa_row3_col1\" class=\"data row3 col1\" >6</td>\n",
       "      <td id=\"T_c2daa_row3_col2\" class=\"data row3 col2\" >Konvens 2014 (1), Claudia Marinica (1), •Apache Open (1), Tweet 2 (1), Table 2 (1), Le Discoursrapport ´ (1)</td>\n",
       "    </tr>\n",
       "    <tr>\n",
       "      <th id=\"T_c2daa_level0_row4\" class=\"row_heading level0 row4\" >4</th>\n",
       "      <td id=\"T_c2daa_row4_col0\" class=\"data row4 col0\" >DATE</td>\n",
       "      <td id=\"T_c2daa_row4_col1\" class=\"data row4 col1\" >96</td>\n",
       "      <td id=\"T_c2daa_row4_col2\" class=\"data row4 col2\" >2014 (12), 2012 (9), 2011 (7), 2013 (7), 2006 (5), 2010 (5), 2003 (5), 2008 (4), 2001 (3), 6 (3), 2 (3), 2009 (2), 2007 (2), tomorrow (2), 7 (2), 3 (2), 5 (2), Oct 2014 (1), 1 (1), 8 Oct 2014\n",
       "HAL (1), 1392 (1), the last\n",
       "few years (1), many\n",
       "years (1), •Criterion 1 (1), •Criterion 2 (1), •Criterion 3 (1), •Criterion 4 (1), •Criterion 5 (1), 1920 (1), recent years (1), monthly (1), 7087 (1), 2934 (1), 27\n",
       "March 2014 (1), 2009-03-04 (1), 75 (1), 32 (1), the twentieth century (1)</td>\n",
       "    </tr>\n",
       "    <tr>\n",
       "      <th id=\"T_c2daa_level0_row5\" class=\"row_heading level0 row5\" >5</th>\n",
       "      <td id=\"T_c2daa_row5_col0\" class=\"data row5 col0\" >NORP</td>\n",
       "      <td id=\"T_c2daa_row5_col1\" class=\"data row5 col1\" >29</td>\n",
       "      <td id=\"T_c2daa_row5_col2\" class=\"data row5 col2\" >French (11), dans (6), corpora (2), halshs-01058867v2 (1), Dahllf (1), Semantic (1), Linguistic (1), french (1), Flammini (1), swedish (1), American (1), canadian (1), NAACL (1)</td>\n",
       "    </tr>\n",
       "    <tr>\n",
       "      <th id=\"T_c2daa_level0_row6\" class=\"row_heading level0 row6\" >6</th>\n",
       "      <td id=\"T_c2daa_row6_col0\" class=\"data row6 col0\" >CARDINAL</td>\n",
       "      <td id=\"T_c2daa_row6_col1\" class=\"data row6 col1\" >134</td>\n",
       "      <td id=\"T_c2daa_row6_col2\" class=\"data row6 col2\" >1 (13), 4 (10), 2 (9), 3 (9), 6 (8), 321 (8), two (6), three (5), 7 (5), seven (4), one (3), 4.0 (2), One (2), 5 (2), four (2), 205 (2), 20400 (2), 20079 (2), 214 (2), char- (1), 3.1 (1), 3http://nlp.stanford.edu/software/tagger.shtmlfor (1), 100 (1), 5http://www.wikimeta.fr/ (1), 8 (1), 3.2 (1), seventeen (1), 17 (1), 3.3 (1), 4.1 (1), Hundreds of millions (1), up to 140 (1), 4.2 (1), six (1), more than 12 (1), 200 (1), 34,273 (1), 4.4 (1), # (1), 4.4.2 (1), only one (1), 117 (1), 329 (1), 446 (1), 4.4.3 (1), gros (1), 8http://fondation.u-cergy.fr/ (1), 2):139–153 (1), 187–206 (1), 489–496 (1), 177–191 (1), 619–626 (1), 125 (1), 132 (1), 10 (1), 116–124 (1), 4):719–729 (1)</td>\n",
       "    </tr>\n",
       "    <tr>\n",
       "      <th id=\"T_c2daa_level0_row7\" class=\"row_heading level0 row7\" >7</th>\n",
       "      <td id=\"T_c2daa_row7_col0\" class=\"data row7 col0\" >PRODUCT</td>\n",
       "      <td id=\"T_c2daa_row7_col1\" class=\"data row7 col1\" >12</td>\n",
       "      <td id=\"T_c2daa_row7_col2\" class=\"data row7 col2\" >Twitter (4), 2We (1), TreeTagger (1), Tweet 1 (1), Tweet 2 (1), Rule 7 (1), Rule 2 (1), Expert (1), F Menczer (1)</td>\n",
       "    </tr>\n",
       "    <tr>\n",
       "      <th id=\"T_c2daa_level0_row8\" class=\"row_heading level0 row8\" >8</th>\n",
       "      <td id=\"T_c2daa_row8_col0\" class=\"data row8 col0\" >LANGUAGE</td>\n",
       "      <td id=\"T_c2daa_row8_col1\" class=\"data row8 col1\" >6</td>\n",
       "      <td id=\"T_c2daa_row8_col2\" class=\"data row8 col2\" >French (6)</td>\n",
       "    </tr>\n",
       "    <tr>\n",
       "      <th id=\"T_c2daa_level0_row9\" class=\"row_heading level0 row9\" >9</th>\n",
       "      <td id=\"T_c2daa_row9_col0\" class=\"data row9 col0\" >WORK_OF_ART</td>\n",
       "      <td id=\"T_c2daa_row9_col1\" class=\"data row9 col1\" >8</td>\n",
       "      <td id=\"T_c2daa_row9_col2\" class=\"data row9 col2\" >Natural Language\n",
       "Processing (NLP) System (1), Natural Language\n",
       "Processing System (1), Natural Language Processing (NLP (1), Apache Open NLP (1), Apache Open (1), 4.3 Applying (1), Le (1), Workshop (1)</td>\n",
       "    </tr>\n",
       "    <tr>\n",
       "      <th id=\"T_c2daa_level0_row10\" class=\"row_heading level0 row10\" >10</th>\n",
       "      <td id=\"T_c2daa_row10_col0\" class=\"data row10 col0\" >LAW</td>\n",
       "      <td id=\"T_c2daa_row10_col1\" class=\"data row10 col1\" >8</td>\n",
       "      <td id=\"T_c2daa_row10_col2\" class=\"data row10 col2\" >section 3 (1), section 5 (1), Criterion 1 (1), Criterion 2 (1), Criterion 3 (1), Criterion 4 (1), Criterion 5 (1), section 2 (1)</td>\n",
       "    </tr>\n",
       "    <tr>\n",
       "      <th id=\"T_c2daa_level0_row11\" class=\"row_heading level0 row11\" >11</th>\n",
       "      <td id=\"T_c2daa_row11_col0\" class=\"data row11 col0\" >PERCENT</td>\n",
       "      <td id=\"T_c2daa_row11_col1\" class=\"data row11 col1\" >14</td>\n",
       "      <td id=\"T_c2daa_row11_col2\" class=\"data row11 col2\" >66.66% (3), 96.64% (2), 2,5% (1), 2,55% (1), 2,39% (1), 33.33% (1), 4% (1), 2% (1), 3.36% (1), 23.36% (1), 9.96% (1)</td>\n",
       "    </tr>\n",
       "    <tr>\n",
       "      <th id=\"T_c2daa_level0_row12\" class=\"row_heading level0 row12\" >12</th>\n",
       "      <td id=\"T_c2daa_row12_col0\" class=\"data row12 col0\" >ORDINAL</td>\n",
       "      <td id=\"T_c2daa_row12_col1\" class=\"data row12 col1\" >4</td>\n",
       "      <td id=\"T_c2daa_row12_col2\" class=\"data row12 col2\" >second (2), 3rd (1), Fifth (1)</td>\n",
       "    </tr>\n",
       "    <tr>\n",
       "      <th id=\"T_c2daa_level0_row13\" class=\"row_heading level0 row13\" >13</th>\n",
       "      <td id=\"T_c2daa_row13_col0\" class=\"data row13 col0\" >LOC</td>\n",
       "      <td id=\"T_c2daa_row13_col1\" class=\"data row13 col1\" >6</td>\n",
       "      <td id=\"T_c2daa_row13_col2\" class=\"data row13 col2\" >Buvet (2), Tweet 1 (1), Tweet 4 (1), Ce qui est (1), Actes de la 15me (1)</td>\n",
       "    </tr>\n",
       "    <tr>\n",
       "      <th id=\"T_c2daa_level0_row14\" class=\"row_heading level0 row14\" >14</th>\n",
       "      <td id=\"T_c2daa_row14_col0\" class=\"data row14 col0\" >QUANTITY</td>\n",
       "      <td id=\"T_c2daa_row14_col1\" class=\"data row14 col1\" >1</td>\n",
       "      <td id=\"T_c2daa_row14_col2\" class=\"data row14 col2\" >more than 255 million (1)</td>\n",
       "    </tr>\n",
       "    <tr>\n",
       "      <th id=\"T_c2daa_level0_row15\" class=\"row_heading level0 row15\" >15</th>\n",
       "      <td id=\"T_c2daa_row15_col0\" class=\"data row15 col0\" >MONEY</td>\n",
       "      <td id=\"T_c2daa_row15_col1\" class=\"data row15 col1\" >2</td>\n",
       "      <td id=\"T_c2daa_row15_col2\" class=\"data row15 col2\" >more than 500 million (1), #Souvenirfranc ¸ais (1)</td>\n",
       "    </tr>\n",
       "    <tr>\n",
       "      <th id=\"T_c2daa_level0_row16\" class=\"row_heading level0 row16\" >16</th>\n",
       "      <td id=\"T_c2daa_row16_col0\" class=\"data row16 col0\" >TIME</td>\n",
       "      <td id=\"T_c2daa_row16_col1\" class=\"data row16 col1\" >1</td>\n",
       "      <td id=\"T_c2daa_row16_col2\" class=\"data row16 col2\" >tonight (1)</td>\n",
       "    </tr>\n",
       "    <tr>\n",
       "      <th id=\"T_c2daa_level0_row17\" class=\"row_heading level0 row17\" >17</th>\n",
       "      <td id=\"T_c2daa_row17_col0\" class=\"data row17 col0\" >EVENT</td>\n",
       "      <td id=\"T_c2daa_row17_col1\" class=\"data row17 col1\" >4</td>\n",
       "      <td id=\"T_c2daa_row17_col2\" class=\"data row17 col2\" >Tweet 3 (1), Tweet 4 (1), Fourth International (1), International AAAI Conference on Weblogs (1)</td>\n",
       "    </tr>\n",
       "  </tbody>\n",
       "</table>\n"
      ],
      "text/plain": [
       "<pandas.io.formats.style.Styler at 0x14f532b50>"
      ]
     },
     "metadata": {},
     "output_type": "display_data"
    },
    {
     "data": {
      "text/html": [
       "<hr>"
      ],
      "text/plain": [
       "<IPython.core.display.HTML object>"
      ]
     },
     "metadata": {},
     "output_type": "display_data"
    },
    {
     "data": {
      "text/html": [
       "\n",
       "            <h3>Document: The politics of memory: Commemorating the centenary of the First World War</h3>\n",
       "            <p><strong>Authors:</strong> </p>\n",
       "            <p><strong>Date:</strong> juillet 3, 2015</p>\n",
       "            "
      ],
      "text/plain": [
       "<IPython.core.display.HTML object>"
      ]
     },
     "metadata": {},
     "output_type": "display_data"
    },
    {
     "data": {
      "text/html": [
       "<style type=\"text/css\">\n",
       "#T_6b2dc th {\n",
       "  border: 1px solid black;\n",
       "  padding: 8px;\n",
       "  text-align: left;\n",
       "}\n",
       "#T_6b2dc_row0_col0, #T_6b2dc_row0_col1, #T_6b2dc_row0_col2, #T_6b2dc_row1_col0, #T_6b2dc_row1_col1, #T_6b2dc_row1_col2, #T_6b2dc_row2_col0, #T_6b2dc_row2_col1, #T_6b2dc_row2_col2, #T_6b2dc_row3_col0, #T_6b2dc_row3_col1, #T_6b2dc_row3_col2, #T_6b2dc_row4_col0, #T_6b2dc_row4_col1, #T_6b2dc_row4_col2, #T_6b2dc_row5_col0, #T_6b2dc_row5_col1, #T_6b2dc_row5_col2, #T_6b2dc_row6_col0, #T_6b2dc_row6_col1, #T_6b2dc_row6_col2, #T_6b2dc_row7_col0, #T_6b2dc_row7_col1, #T_6b2dc_row7_col2, #T_6b2dc_row8_col0, #T_6b2dc_row8_col1, #T_6b2dc_row8_col2, #T_6b2dc_row9_col0, #T_6b2dc_row9_col1, #T_6b2dc_row9_col2, #T_6b2dc_row10_col0, #T_6b2dc_row10_col1, #T_6b2dc_row10_col2 {\n",
       "  border: 1px solid black;\n",
       "  padding: 8px;\n",
       "  text-align: left;\n",
       "}\n",
       "</style>\n",
       "<table id=\"T_6b2dc\">\n",
       "  <thead>\n",
       "    <tr>\n",
       "      <th class=\"blank level0\" >&nbsp;</th>\n",
       "      <th id=\"T_6b2dc_level0_col0\" class=\"col_heading level0 col0\" >Entity Type</th>\n",
       "      <th id=\"T_6b2dc_level0_col1\" class=\"col_heading level0 col1\" >Count</th>\n",
       "      <th id=\"T_6b2dc_level0_col2\" class=\"col_heading level0 col2\" >Unique Entities</th>\n",
       "    </tr>\n",
       "  </thead>\n",
       "  <tbody>\n",
       "    <tr>\n",
       "      <th id=\"T_6b2dc_level0_row0\" class=\"row_heading level0 row0\" >0</th>\n",
       "      <td id=\"T_6b2dc_row0_col0\" class=\"data row0 col0\" >ORG</td>\n",
       "      <td id=\"T_6b2dc_row0_col1\" class=\"data row0 col1\" >51</td>\n",
       "      <td id=\"T_6b2dc_row0_col2\" class=\"data row0 col2\" >the Western Front (5), Australian Journal of Political Science (3), ANZAC (3), Bayer (3), AEF (2), Bell (2), Centenary News (2), Oxford (2), Full Terms & Conditions (1), http://www.tandfonline.com/action/journalInformation?journalCode=cajp20\n",
       "Download (1), ISSN (1), Submit (1), View Crossmark (1), Australian National University (1), National (1), the Australian National\n",
       "University (1), Australian Political Studies Association (1), sociaux de la\n",
       "mémoire (1), Aboriginal (1), TorresStrait (1), Australian Research Council (1), EasternFront.2 (1), Passchendaele (1), the American Expeditionary Force (1), the Russian Academy of\n",
       "Sciences (1), the Easter Uprising (1), Ulster) Division (1), Allied (1), Princeton University Press (1), Franco-Australian Relations (1), Journal of Multidisciplinary International Studies (1), Cambridge University Press (1), Oxford\n",
       "University Press (1), Ulster) Division Memorial (1), the Ulster Memorial Tower (1), J. 2006 (1), Yale University Press (1)</td>\n",
       "    </tr>\n",
       "    <tr>\n",
       "      <th id=\"T_6b2dc_level0_row1\" class=\"row_heading level0 row1\" >1</th>\n",
       "      <td id=\"T_6b2dc_row1_col0\" class=\"data row1 col0\" >PERSON</td>\n",
       "      <td id=\"T_6b2dc_row1_col1\" class=\"data row1 col1\" >70</td>\n",
       "      <td id=\"T_6b2dc_row1_col2\" class=\"data row1 col2\" >Fathi (5), Joan Beaumont (4), Ashplant (2), Gillis (2), Müller (2), Olick (2), Seroussi (2), Kidd (2), Hirsch (2), Craig (2), Universitaire De Lausanne] Date (1), Anzac (1), Maurice Halbwachs (1), Roper 2000 (1), Vinitsky – (1), Meanwhile,530 J. BEAUMONT (1), Rechniewski (1), Vinitsky (1), Levy 2011:3 (1), Marianne Hirsch (1), rapid- ﬁre\n",
       " (1), Gallipoli (1), Romain\n",
       "Fathi (1), Keith Jeffery (1), Ypres (1), Martin Bayer (1), Douglas Craig (1), Evgeny Sergeev (1), Lenin (1), Verdun (1), Jeffrey (1), Jeffery (1), Pierre Nora (1), St Sym-phorien (1), Matthew Graves (1), sacri ﬁce (1), the534\n",
       "J. BEAUMONT\n",
       " commemoration (1), G. (1), Sydney (1), Allen & Unwin (1), Macmillan (1), J.R. (1), J.R. Gillis (1), ed (1), Commemorations (1), Princeton (1), B. Wellings (1), Peter Lang (1), M. and Rechniewski (1), M. Evans (1), K. Lunn (1), Berg (1), J-W. 2003 (1), Vinitsky –Seroussi (1), V. (1)</td>\n",
       "    </tr>\n",
       "    <tr>\n",
       "      <th id=\"T_6b2dc_level0_row2\" class=\"row_heading level0 row2\" >2</th>\n",
       "      <td id=\"T_6b2dc_row2_col0\" class=\"data row2 col0\" >DATE</td>\n",
       "      <td id=\"T_6b2dc_row2_col1\" class=\"data row2 col1\" >76</td>\n",
       "      <td id=\"T_6b2dc_row2_col2\" class=\"data row2 col2\" >2015 (8), today (5), 1916 (3), 2014 (2), 1994 (2), 1918 (2), 2013 (2), Graves 2014 (2), 22 July 2015 (2), 14 September 2016 (1), 1036-1146 (1), at least three decades (1), 1925 (1), the 1970s (1), recent decades (1), the\n",
       "20th century (1), the end of (1), 2003 (1), Levy 2011 (1), the end of the century (1), the 1990s (1), Winter\n",
       "2006 (1), Winter 2006 (1), 1997 (1), 2008 (1), 7 (1), 1The (1), April 1915 (1), 18 (1), 1 July 2016 (1), August to November 1917 (1), April 1917 (1), months (1), 1 August 2014 (1), 1940 (1), 1914 (1), seven decades (1), 1919 (1), 21 (1), 1922 (1), 2016 (1), the ﬁrst day (1), August 2014 (1), the immediate (1), post-1918 years (1), 1916 –2015 (1), 4 August (1), 100 years (1), 2 August (1), E. 2010 (1), 29(1 (1), 1908 –1988 (1), the twentieth century (1), 21 July 2015 (1), 1 June 2015 (1), Winter (1), the twentieth\n",
       "century (1)</td>\n",
       "    </tr>\n",
       "    <tr>\n",
       "      <th id=\"T_6b2dc_level0_row3\" class=\"row_heading level0 row3\" >3</th>\n",
       "      <td id=\"T_6b2dc_row3_col0\" class=\"data row3 col0\" >GPE</td>\n",
       "      <td id=\"T_6b2dc_row3_col1\" class=\"data row3 col1\" >79</td>\n",
       "      <td id=\"T_6b2dc_row3_col2\" class=\"data row3 col2\" >France (11), Australia (9), Germany (9), USA (6), UK (5), Beaumont (4), Graves (3), Dawson (2), Russia (2), Britain (2), Moscow (2), London (2), Print (1), the United Kingdom (1), the United States (1), the United Kingdom ’s (1), Bolshevism (1), the Soviet Union (1), Centenary News (1), the Weimar Republic (1), US (1), Gallipoli (1), Dublin (1), Belgium (1), Turkey (1), T.G. (1), Lorraine (1), Cambridge (1), Olick (1), J.K. (1), Levy (1), New York (1), Wikipedia (1), New Haven (1)</td>\n",
       "    </tr>\n",
       "    <tr>\n",
       "      <th id=\"T_6b2dc_level0_row4\" class=\"row_heading level0 row4\" >4</th>\n",
       "      <td id=\"T_6b2dc_row4_col0\" class=\"data row4 col0\" >CARDINAL</td>\n",
       "      <td id=\"T_6b2dc_row4_col1\" class=\"data row4 col1\" >49</td>\n",
       "      <td id=\"T_6b2dc_row4_col2\" class=\"data row4 col2\" >3 (2), 535 (2), two (2), 1363 (1), 50:3 (1), 529-535 (1), 05 (1), 526 (1), 2015has (1), 50 (1), 529 (1), 5 (1), 40 (1), 7 (1), 6 (1), 25 (1), 2010:1 1 (1), 12 (1), 4 (1), 157 (1), 1Or (1), 106 (1), 531 (1), four (1), 61,500 (1), 489 (1), 1.4 million (1), two million (1), 2Russia (1), three (1), .532 (1), 44 (1), 1914–18 (1), eight (1), 18 (1), 65 (1), 23 (1), 4900 (1), One (1), 169–70 (1), 170 (1), 2006:1 (1), 45 (1), 1 (1), 103 (1), 28 (1)</td>\n",
       "    </tr>\n",
       "    <tr>\n",
       "      <th id=\"T_6b2dc_level0_row5\" class=\"row_heading level0 row5\" >5</th>\n",
       "      <td id=\"T_6b2dc_row5_col0\" class=\"data row5 col0\" >EVENT</td>\n",
       "      <td id=\"T_6b2dc_row5_col1\" class=\"data row5 col1\" >44</td>\n",
       "      <td id=\"T_6b2dc_row5_col2\" class=\"data row5 col2\" >the First World War (20), First World War (5), Holocaust (4), the Second World War (2), the Great War (2), The Great War (2), the Cold War (1), the First World\n",
       "War (1), The Russian Revolution of 1917 (1), catastrophic Civil War of 1861 (1), World War (1), the ‘Irish\n",
       "War of Independence ’( (1), The Great War 2015 (1), World War I (1), THE FIRST WORLD WAR (1)</td>\n",
       "    </tr>\n",
       "    <tr>\n",
       "      <th id=\"T_6b2dc_level0_row6\" class=\"row_heading level0 row6\" >6</th>\n",
       "      <td id=\"T_6b2dc_row6_col0\" class=\"data row6 col0\" >LOC</td>\n",
       "      <td id=\"T_6b2dc_row6_col1\" class=\"data row6 col1\" >8</td>\n",
       "      <td id=\"T_6b2dc_row6_col2\" class=\"data row6 col2\" >Europe (4), West (2), the Battle of the Somme (1), S. Sumartojo (1)</td>\n",
       "    </tr>\n",
       "    <tr>\n",
       "      <th id=\"T_6b2dc_level0_row7\" class=\"row_heading level0 row7\" >7</th>\n",
       "      <td id=\"T_6b2dc_row7_col0\" class=\"data row7 col0\" >NORP</td>\n",
       "      <td id=\"T_6b2dc_row7_col1\" class=\"data row7 col1\" >32</td>\n",
       "      <td id=\"T_6b2dc_row7_col2\" class=\"data row7 col2\" >British (5), European (4), Australians (4), German (4), American (3), Australian (3), Armenian (1), Gramscian (1), Germans (1), Hohenzollern (1), Nazism (1), Nazi (1), Scottish (1), French (1), andGermans (1)</td>\n",
       "    </tr>\n",
       "    <tr>\n",
       "      <th id=\"T_6b2dc_level0_row8\" class=\"row_heading level0 row8\" >8</th>\n",
       "      <td id=\"T_6b2dc_row8_col0\" class=\"data row8 col0\" >PRODUCT</td>\n",
       "      <td id=\"T_6b2dc_row8_col1\" class=\"data row8 col1\" >3</td>\n",
       "      <td id=\"T_6b2dc_row8_col2\" class=\"data row8 col2\" >2006:1 9 (1), Gallipoli (1), J-W. Müller (1)</td>\n",
       "    </tr>\n",
       "    <tr>\n",
       "      <th id=\"T_6b2dc_level0_row9\" class=\"row_heading level0 row9\" >9</th>\n",
       "      <td id=\"T_6b2dc_row9_col0\" class=\"data row9 col0\" >ORDINAL</td>\n",
       "      <td id=\"T_6b2dc_row9_col1\" class=\"data row9 col1\" >7</td>\n",
       "      <td id=\"T_6b2dc_row9_col2\" class=\"data row9 col2\" >FIRST (2), sixth (1), Third (1), Second (1), First (1), 36th (1)</td>\n",
       "    </tr>\n",
       "    <tr>\n",
       "      <th id=\"T_6b2dc_level0_row10\" class=\"row_heading level0 row10\" >10</th>\n",
       "      <td id=\"T_6b2dc_row10_col0\" class=\"data row10 col0\" >MONEY</td>\n",
       "      <td id=\"T_6b2dc_row10_col1\" class=\"data row10 col1\" >1</td>\n",
       "      <td id=\"T_6b2dc_row10_col2\" class=\"data row10 col2\" >87 per cent (1)</td>\n",
       "    </tr>\n",
       "  </tbody>\n",
       "</table>\n"
      ],
      "text/plain": [
       "<pandas.io.formats.style.Styler at 0x14f5d51d0>"
      ]
     },
     "metadata": {},
     "output_type": "display_data"
    },
    {
     "data": {
      "text/html": [
       "<hr>"
      ],
      "text/plain": [
       "<IPython.core.display.HTML object>"
      ]
     },
     "metadata": {},
     "output_type": "display_data"
    },
    {
     "data": {
      "text/html": [
       "\n",
       "            <h3>Document: Le quotidien d’un poilu de la première guerre mondiale sur Facebook : nouvelle forme de médiation, nouvelle expérience ?</h3>\n",
       "            <p><strong>Authors:</strong> ; ; ; ; ; </p>\n",
       "            <p><strong>Date:</strong> 2016</p>\n",
       "            "
      ],
      "text/plain": [
       "<IPython.core.display.HTML object>"
      ]
     },
     "metadata": {},
     "output_type": "display_data"
    },
    {
     "data": {
      "text/html": [
       "<style type=\"text/css\">\n",
       "#T_23a33 th {\n",
       "  border: 1px solid black;\n",
       "  padding: 8px;\n",
       "  text-align: left;\n",
       "}\n",
       "#T_23a33_row0_col0, #T_23a33_row0_col1, #T_23a33_row0_col2, #T_23a33_row1_col0, #T_23a33_row1_col1, #T_23a33_row1_col2, #T_23a33_row2_col0, #T_23a33_row2_col1, #T_23a33_row2_col2, #T_23a33_row3_col0, #T_23a33_row3_col1, #T_23a33_row3_col2, #T_23a33_row4_col0, #T_23a33_row4_col1, #T_23a33_row4_col2, #T_23a33_row5_col0, #T_23a33_row5_col1, #T_23a33_row5_col2, #T_23a33_row6_col0, #T_23a33_row6_col1, #T_23a33_row6_col2, #T_23a33_row7_col0, #T_23a33_row7_col1, #T_23a33_row7_col2, #T_23a33_row8_col0, #T_23a33_row8_col1, #T_23a33_row8_col2, #T_23a33_row9_col0, #T_23a33_row9_col1, #T_23a33_row9_col2, #T_23a33_row10_col0, #T_23a33_row10_col1, #T_23a33_row10_col2, #T_23a33_row11_col0, #T_23a33_row11_col1, #T_23a33_row11_col2, #T_23a33_row12_col0, #T_23a33_row12_col1, #T_23a33_row12_col2 {\n",
       "  border: 1px solid black;\n",
       "  padding: 8px;\n",
       "  text-align: left;\n",
       "}\n",
       "</style>\n",
       "<table id=\"T_23a33\">\n",
       "  <thead>\n",
       "    <tr>\n",
       "      <th class=\"blank level0\" >&nbsp;</th>\n",
       "      <th id=\"T_23a33_level0_col0\" class=\"col_heading level0 col0\" >Entity Type</th>\n",
       "      <th id=\"T_23a33_level0_col1\" class=\"col_heading level0 col1\" >Count</th>\n",
       "      <th id=\"T_23a33_level0_col2\" class=\"col_heading level0 col2\" >Unique Entities</th>\n",
       "    </tr>\n",
       "  </thead>\n",
       "  <tbody>\n",
       "    <tr>\n",
       "      <th id=\"T_23a33_level0_row0\" class=\"row_heading level0 row0\" >0</th>\n",
       "      <td id=\"T_23a33_row0_col0\" class=\"data row0 col0\" >ORG</td>\n",
       "      <td id=\"T_23a33_row0_col1\" class=\"data row0 col1\" >162</td>\n",
       "      <td id=\"T_23a33_row0_col2\" class=\"data row0 col2\" >un (53), dans Transforming (4), de la (4), Raivo Kelomees (3), La muséologie (3), Par (3), Mémoire de master (2), HEC Paris (2), dans Communication (2), sur la relation (2), Anne-Sophie Collard (2), de Namur (2), Topique (2), Club Innovation & Culture (2), Sciences-Po (2), Participation (2), Bristol/Chicago, Intellect (2), qu’il (2), sur la guerre (2), dans la même (2), fait qu’un (2), Parmi (2), POILU DE LA (1), UNE NOUVELLE FORME DE MÉDIATION (1), jeunes2 (1), fait de l’injonction à être plus (1), locaux ou associatifs (1), Médias (1), dans la construction des savoirs9 (1), Facebook qui pourrait être (1), DDB Paris (1), Léon décide de créer un compte Facebook (1), sa joie d’être (1), Mucem (1), Lion d’or à Cannes (1), de la collection du musée (des photographies de scènes quotidiennes et d’objets (1), Facebook (1), un nouveau rapport à l’histoire (1), Il s’agit (1), Un (1), auprès de différents (1), de la situation d’énonciation (1), de la rigueur et du                                                              10 Tropes (1), par leur (1), sur la (1), qu'il (1), une fiction qui montre (1), Cognitivo-Discursive (1), Nouveau (1), l’énonciateur (1), un nouveau (1), regarder de plus près (1), Léon (1), sur Facebook (1), vécu (1), qui ouvre incontestablement un espace de discussion et de confrontation de points de vue (1), l’effet de (1), chez les followers (1), sur la page (1), de Léon (1), par qui (1), signifie (1), n’a (1), état de (1), sur la capacité de Facebook (1), par exemple à un parent qui (1), n’ont pas fait à proprement parler de (1), Dans notre échantillon de 1.096 (1), qui sont pour la plupart des (1), Léon qui n’appellent pas de (1), qui sont de véritables (1), L’anonymat permettrait alors (1), dans la page de Léon (1), qui seraient de devenir (1), empathie de point de vue avec (1), avec des followers qui se sont exprimés sur des (1), un média spécifiquement (1), qui relèverait (1), Centre Norbert Elias (1), Equipe Culture et (1), Médias et Arts (1), p.36-42 (1)</td>\n",
       "    </tr>\n",
       "    <tr>\n",
       "      <th id=\"T_23a33_level0_row1\" class=\"row_heading level0 row1\" >1</th>\n",
       "      <td id=\"T_23a33_row1_col0\" class=\"data row1 col0\" >PERSON</td>\n",
       "      <td id=\"T_23a33_row1_col1\" class=\"data row1 col1\" >220</td>\n",
       "      <td id=\"T_23a33_row1_col2\" class=\"data row1 col2\" >qui (6), de la (5), ce qui (5), réseaux sociaux (4), Tartu (4), Lea Schick (3), de Léon (3), Ensuite (3), de Annabelle Klein (2), Presses (2), Jacqueline Eidelman (2), Hana Gottesdiener (2), Joëlle Le Marec (2), Karine Damkjær (2), Sociologie (2), Léon Vivien (2), mais aussi (2), de Facebook (2), Facebook de Léon (2), fictifs de Léon (2), Méridiens Klincksieck (2), Communications (2), communauté de valeurs (2), Mais (2), Le Débat (2), quête de (2), Revue du MAUSS (2), aujourd’hui devenue incontournable1 (1), cela va de la (1), musées de se démarquer (1), Katrine Damkjær (1), Claire Besset (1), Yves Evrard (1), Marie Van Cranenbroeck (1), p.96 (1), français4 (1), comme d’un outil de diffusion d’informations (1), De même (1), pour interagir avec (1), Pour Schick (1), de se (1), Hervé Kabla (1), Fabien Granjon (1), Julie Denouël (1), quotidien de la (1), Musée de la (1), quotidien lors de la (1), instituteur âgé de 29 ans en (1), de ce qui se (1), autour de lui (1), de l’attentat de Sarajevo (1), qui sera (1), Première Guerre Mondiale (1), guerre et (1), Madeleine (1), L’identité de Léon est (1), de Olivier Donnat (1), Paul Tolila (1), Nico Carpentier (1), de juin 1914 à mai 1915 (1), possibilité de suivre (1), Louvre Lens (1), La (1), Comme (1), blanc de (1), musée L’analyse de la presse et des nombreuses (1), qui s’appuie (1), spécialiste de la (1), avec leur (1), la fréquentation de ce (1), Méthode d’analyse de la (1), Combien de termes (1), discours qui (1), destinataire caché (1), mais qui est (1), qui parlent au (1), qui vit dans (1), énoncée12 (1), particularité importante (1), l’unité de (1), Jean-Marie Schaeffer (1), nouveau (1), bien réels (1), mais de recevoir (1), postés par chacune des (1), variée du (1), de l’épaisseur (1), récit de Léon (1), l’assassinat de l’archiduc (1), de Caillaux (1), l’assassinat de Jaurès (1), de la Marne (1), vécu (1), contexte (1), Facebook soit crédible (1), qui n’ont pas de (1), sur la guerre (1), qui n’ont (1), guerre et qui (1), à se (1), vécu de Léon (1), avec l’analyse des (1), ce qui participe de l’incarnation (1), apportés (1), de la page (1), récit de guerre (1), s’adresser (1), musée qui n’est pas dans la transmission (1), et qui ne tranche (1), de l’analyse de (1), de la part des followers (1), donc bien (1), donc pas de commentaires (1), mais cela (1), qui ont fait des (1), qui ont participé (1), près de 80% (1), qui ont (1), annonçant la mort de Léon (1), qui ont fait (1), regarde leur profil (1), qui n’ont fait (1), pu être conduite de façon systématique (1), d’obtenir une plus (1), l’ambiguïté de la situation de (1), héros comme s’il était (1), Ce qui (1), de la « (1), de la page de Léon (1), mais ont posté des (1), guerre (1), de la guerre et leur réhabilitation par (1), Qualitativement (1), Au-delà de ces demandes (1), comme un espace aconflictuel14 (1), conflictuelle (1), ce qui se (1), Conclusions La (1), Facebook de Léon Vivien (1), nouvelle forme de médiation (1), mais qui (1), musée comme (1), Simon Borel (1), qui laisserait (1), de lui-même (1), mais aussi se (1), de sa (1), cadre de (1), qui se (1), muséale quotidienne qui favorise (1), qui provoque de l’empathie (1), amis de Léon (1), média de « (1), de l’ordre de l’affect (1), nouvelle forme de médiation comme (1), de Lorraine (1), Nancy (1), Batout J. (1), de Y. Evrard (1), Borel S. (1), Carpentier N. (1), Ducrot O. et Schaeffer (1), Nouveau (1), Eidelman J., Gottesdiener H. et (1), Granjon F. et Denouël J. (1), Kabla H. (1), Médias (1), Metz C. (1), Passeron J.-C. (1), de O. Donnat (1), Potier R. (1), Schick L. (1), Damkjær K. (1), de A. Aljas (1), R. Kelomees (1), Van Cranenbroeck (1)</td>\n",
       "    </tr>\n",
       "    <tr>\n",
       "      <th id=\"T_23a33_level0_row2\" class=\"row_heading level0 row2\" >2</th>\n",
       "      <td id=\"T_23a33_row2_col0\" class=\"data row2 col0\" >CARDINAL</td>\n",
       "      <td id=\"T_23a33_row2_col1\" class=\"data row2 col1\" >93</td>\n",
       "      <td id=\"T_23a33_row2_col2\" class=\"data row2 col2\" >1 (7), 229 (5), 2 (4), 3 (3), 20 (3), 73 (3), 5 (3), 18 (3), 121 (2), 97 (2), 37 (2), 25 (2), 361 (2), 12 (2), 14 (2), 13 (2), 84 (2), 61.000 (2), 3.631 (2), 163 (2), 4 (2), 2ème (2), 257 (2), d’une (1), 104 (1), 1.200 (1), 6 (1), 7 (1), d’interroger (1), 9 (1), 65.000 (1), 15.087 (1), 51.608 (1), 30 (1), 40 (1), 500 (1), 11 (1), 618 (1), 177 (1), 138 (1), 43 (1), 24 (1), 8 (1), 147 (1), 29 (1), 50.000 (1), 1.724 (1), 2.294 (1), 1.720 (1), 34 (1), 1.096 (1), 108 (1), 263 (1), 15 (1), 101 (1)</td>\n",
       "    </tr>\n",
       "    <tr>\n",
       "      <th id=\"T_23a33_level0_row3\" class=\"row_heading level0 row3\" >3</th>\n",
       "      <td id=\"T_23a33_row3_col0\" class=\"data row3 col0\" >DATE</td>\n",
       "      <td id=\"T_23a33_row3_col1\" class=\"data row3 col1\" >48</td>\n",
       "      <td id=\"T_23a33_row3_col2\" class=\"data row3 col2\" >2012 (7), 2011 (6), 14-16 april 2010 (4), 2010 (4), 2014 (4), 2013 (2), 1er avril 2014 (2), 1, 2010 (2), 1914 (2), 2003 (2), 1999 (2), 1991 (2), 11, 1968 (2), d’une (2), 40 (2), 1er avril (1), 11 avril (1), 27 mai 2013 (1)</td>\n",
       "    </tr>\n",
       "    <tr>\n",
       "      <th id=\"T_23a33_level0_row4\" class=\"row_heading level0 row4\" >4</th>\n",
       "      <td id=\"T_23a33_row4_col0\" class=\"data row4 col0\" >GPE</td>\n",
       "      <td id=\"T_23a33_row4_col1\" class=\"data row4 col1\" >44</td>\n",
       "      <td id=\"T_23a33_row4_col2\" class=\"data row4 col2\" >Paris (6), quotidien (5), al. (4), qu’il (3), Seuil (2), Léon (2), sont (2), p.36 (1), la (1), qui (1), Germain (1), Media (1), public11 (1), la page de Léon (1), Enfin (1), la page (1), François Ferdinand (1), la soif (1), la puanteur (1), Toutefois (1), Quand (1), la parole (1), publics15 (1), de Vaucluse (1), Avignon (1), France (1), Université du Luxembourg (1)</td>\n",
       "    </tr>\n",
       "    <tr>\n",
       "      <th id=\"T_23a33_level0_row5\" class=\"row_heading level0 row5\" >5</th>\n",
       "      <td id=\"T_23a33_row5_col0\" class=\"data row5 col0\" >NORP</td>\n",
       "      <td id=\"T_23a33_row5_col1\" class=\"data row5 col1\" >46</td>\n",
       "      <td id=\"T_23a33_row5_col2\" class=\"data row5 col2\" >dans (26), Dans (6), Actes (4), donc (3), Namur (2), amis (1), post de Léon (1), d’époque (1), Christian (1), voit (1)</td>\n",
       "    </tr>\n",
       "    <tr>\n",
       "      <th id=\"T_23a33_level0_row6\" class=\"row_heading level0 row6\" >6</th>\n",
       "      <td id=\"T_23a33_row6_col0\" class=\"data row6 col0\" >WORK_OF_ART</td>\n",
       "      <td id=\"T_23a33_row6_col1\" class=\"data row6 col1\" >7</td>\n",
       "      <td id=\"T_23a33_row6_col2\" class=\"data row6 col2\" >Le (3), Facebook à l'épreuve de la différence (2), Consommation et réception de la (2)</td>\n",
       "    </tr>\n",
       "    <tr>\n",
       "      <th id=\"T_23a33_level0_row7\" class=\"row_heading level0 row7\" >7</th>\n",
       "      <td id=\"T_23a33_row7_col0\" class=\"data row7 col0\" >FAC</td>\n",
       "      <td id=\"T_23a33_row7_col1\" class=\"data row7 col1\" >8</td>\n",
       "      <td id=\"T_23a33_row7_col2\" class=\"data row7 col2\" >Visiter (3), Le (2), Lulu l’Andouille (1), La démarche (1), Le Musée de la Grande (1)</td>\n",
       "    </tr>\n",
       "    <tr>\n",
       "      <th id=\"T_23a33_level0_row8\" class=\"row_heading level0 row8\" >8</th>\n",
       "      <td id=\"T_23a33_row8_col0\" class=\"data row8 col0\" >LOC</td>\n",
       "      <td id=\"T_23a33_row8_col1\" class=\"data row8 col1\" >2</td>\n",
       "      <td id=\"T_23a33_row8_col2\" class=\"data row8 col2\" >Cette (1), avec des moments plus (1)</td>\n",
       "    </tr>\n",
       "    <tr>\n",
       "      <th id=\"T_23a33_level0_row9\" class=\"row_heading level0 row9\" >9</th>\n",
       "      <td id=\"T_23a33_row9_col0\" class=\"data row9 col0\" >PRODUCT</td>\n",
       "      <td id=\"T_23a33_row9_col1\" class=\"data row9 col1\" >1</td>\n",
       "      <td id=\"T_23a33_row9_col2\" class=\"data row9 col2\" >d’être (1)</td>\n",
       "    </tr>\n",
       "    <tr>\n",
       "      <th id=\"T_23a33_level0_row10\" class=\"row_heading level0 row10\" >10</th>\n",
       "      <td id=\"T_23a33_row10_col0\" class=\"data row10 col0\" >ORDINAL</td>\n",
       "      <td id=\"T_23a33_row10_col1\" class=\"data row10 col1\" >1</td>\n",
       "      <td id=\"T_23a33_row10_col2\" class=\"data row10 col2\" >second (1)</td>\n",
       "    </tr>\n",
       "    <tr>\n",
       "      <th id=\"T_23a33_level0_row11\" class=\"row_heading level0 row11\" >11</th>\n",
       "      <td id=\"T_23a33_row11_col0\" class=\"data row11 col0\" >TIME</td>\n",
       "      <td id=\"T_23a33_row11_col1\" class=\"data row11 col1\" >1</td>\n",
       "      <td id=\"T_23a33_row11_col2\" class=\"data row11 col2\" >seconds (1)</td>\n",
       "    </tr>\n",
       "    <tr>\n",
       "      <th id=\"T_23a33_level0_row12\" class=\"row_heading level0 row12\" >12</th>\n",
       "      <td id=\"T_23a33_row12_col0\" class=\"data row12 col0\" >PERCENT</td>\n",
       "      <td id=\"T_23a33_row12_col1\" class=\"data row12 col1\" >26</td>\n",
       "      <td id=\"T_23a33_row12_col2\" class=\"data row12 col2\" >1,4% (2), 60,3% (1), 18,8% (1), 10,5% (1), 6,1% (1), 3,5% (1), 0,9% (1), 19,7 % (1), 12,3% (1), 2,2% (1), 6% (1), 94% (1), 63% (1), 18% (1), 11% (1), 29% (1), 13% (1), 9,5% (1), 8% (1), 7% (1), 5% (1), 4% (1), 1,7% (1), 1,3% (1), 2,1% (1)</td>\n",
       "    </tr>\n",
       "  </tbody>\n",
       "</table>\n"
      ],
      "text/plain": [
       "<pandas.io.formats.style.Styler at 0x14f5d7dd0>"
      ]
     },
     "metadata": {},
     "output_type": "display_data"
    },
    {
     "data": {
      "text/html": [
       "<hr>"
      ],
      "text/plain": [
       "<IPython.core.display.HTML object>"
      ]
     },
     "metadata": {},
     "output_type": "display_data"
    },
    {
     "data": {
      "text/html": [
       "\n",
       "            <h3>Document: French commemoration: The centenary effect and the (re)discovery of <i>14–18</i></h3>\n",
       "            <p><strong>Authors:</strong> </p>\n",
       "            <p><strong>Date:</strong> 2015-07-03</p>\n",
       "            "
      ],
      "text/plain": [
       "<IPython.core.display.HTML object>"
      ]
     },
     "metadata": {},
     "output_type": "display_data"
    },
    {
     "data": {
      "text/html": [
       "<style type=\"text/css\">\n",
       "#T_58010 th {\n",
       "  border: 1px solid black;\n",
       "  padding: 8px;\n",
       "  text-align: left;\n",
       "}\n",
       "#T_58010_row0_col0, #T_58010_row0_col1, #T_58010_row0_col2, #T_58010_row1_col0, #T_58010_row1_col1, #T_58010_row1_col2, #T_58010_row2_col0, #T_58010_row2_col1, #T_58010_row2_col2, #T_58010_row3_col0, #T_58010_row3_col1, #T_58010_row3_col2, #T_58010_row4_col0, #T_58010_row4_col1, #T_58010_row4_col2, #T_58010_row5_col0, #T_58010_row5_col1, #T_58010_row5_col2, #T_58010_row6_col0, #T_58010_row6_col1, #T_58010_row6_col2, #T_58010_row7_col0, #T_58010_row7_col1, #T_58010_row7_col2, #T_58010_row8_col0, #T_58010_row8_col1, #T_58010_row8_col2, #T_58010_row9_col0, #T_58010_row9_col1, #T_58010_row9_col2, #T_58010_row10_col0, #T_58010_row10_col1, #T_58010_row10_col2, #T_58010_row11_col0, #T_58010_row11_col1, #T_58010_row11_col2, #T_58010_row12_col0, #T_58010_row12_col1, #T_58010_row12_col2, #T_58010_row13_col0, #T_58010_row13_col1, #T_58010_row13_col2 {\n",
       "  border: 1px solid black;\n",
       "  padding: 8px;\n",
       "  text-align: left;\n",
       "}\n",
       "</style>\n",
       "<table id=\"T_58010\">\n",
       "  <thead>\n",
       "    <tr>\n",
       "      <th class=\"blank level0\" >&nbsp;</th>\n",
       "      <th id=\"T_58010_level0_col0\" class=\"col_heading level0 col0\" >Entity Type</th>\n",
       "      <th id=\"T_58010_level0_col1\" class=\"col_heading level0 col1\" >Count</th>\n",
       "      <th id=\"T_58010_level0_col2\" class=\"col_heading level0 col2\" >Unique Entities</th>\n",
       "    </tr>\n",
       "  </thead>\n",
       "  <tbody>\n",
       "    <tr>\n",
       "      <th id=\"T_58010_level0_row0\" class=\"row_heading level0 row0\" >0</th>\n",
       "      <td id=\"T_58010_row0_col0\" class=\"data row0 col0\" >ORG</td>\n",
       "      <td id=\"T_58010_row0_col1\" class=\"data row0 col1\" >81</td>\n",
       "      <td id=\"T_58010_row0_col2\" class=\"data row0 col2\" >un (5), Journal Of ﬁciel de la République (3), Commonwealth (3), Australian Journal of Political Science (2), François Hollande (2), Craonne (2), the Western Front (2), Full Terms & Conditions (1), http://www.tandfonline.com/action/journalInformation?journalCode=cajp20\n",
       "Download (1), ISSN (1), Submit (1), View Crossmark (1), ROMAIN FATHI\n",
       "University of Queensland and Centre (1), Lamartine (1), the School of Historical and Philosophical Inquiry (1), the University of\n",
       "Queensland (1), Australian Political Studies Association (1), Centenaire (1), the Elysée Palace (1), the Mission du Centenaire (1), Palace (1), ﬁng (1), a Scienti ﬁc Council (1), First World\n",
       "War (1), Antoine Prost (1), Collectif (1), Centre (1), in2018 (1), Ypres (1), Theﬁrst (1), the Champs-Elysées (1), Présidence de la République 2014 (1), François Hollande ’s (1), Hartmannswillerkopf/Le Vieil (1), the Ring of Remembrance (1), Veterans ’Affairs (1), whichFRENCH (1), Hollande (1), the European\n",
       "Union (1), the National Front (1), Ministère de l ’Intérieur 2014 (1), the Socialist Party ’s (1), The Elysée Palace (1), aca-demics (1), Prost (1), La Grande Collecte (1), Vimy for Canada (1), Villers –Bretonneux (1), References\n",
       "Audoin –Rouzeau Stéphane 2015. (1), Université de Paris I. (1), IGPS/Audoin_Rouzeau_Centenaire_manqu%C3%A9.pdf (1), J. 2006 (1), Cabanes (1), Institut National de l (1), Ministère de l ’ (1), ER2014/FE.html (1), Présidence de la République (1), Dossier de Presse (1), Paci (1), Interwar (1), Quelle (1), Un (1), RFI (1), Radio France Internationale (1), J. Zimet (1), Les Echos (1), de la France (1), Tourisme-de-Memoire/Workshops-Australie (1), Amsterdam University Press (1)</td>\n",
       "    </tr>\n",
       "    <tr>\n",
       "      <th id=\"T_58010_level0_row1\" class=\"row_heading level0 row1\" >1</th>\n",
       "      <td id=\"T_58010_row1_col0\" class=\"data row1 col0\" >PERSON</td>\n",
       "      <td id=\"T_58010_row1_col1\" class=\"data row1 col1\" >69</td>\n",
       "      <td id=\"T_58010_row1_col2\" class=\"data row1 col2\" >Verdun (4), Romain Fathi (3), Guerre (3), JO (3), Sciences Po (2), Guerre de 1914 (2), Krief (2), Somme Tourisme (2), Mission du Centenaire (2), Universitaire De Lausanne] Date (1), Clovis (1), Robespierre (1), Presi (1), Nicolas Sarkozy (1), Normandy (1), Inter-\n",
       "estingly (1), Robert (1), Ypres (1), Somme (1), R. FATHI (1), Ouistreham (1), Vladimir Putin (1), Petro Porochenko (1), Joachim Gauck (1), ﬁeld (1), Historian Stéphane Audoin (1), Flandrin (1), Mitterrand (1), Chirac (1), Sarkozy (1), a550\n",
       "R. FATHI\n",
       "  (1), Presses de la FNSP (1), D. Roberts (1), Sydney (1), Garcia (1), ed (1), Arrêté du (1), Décret n° (1), Jospin (1), Audiovisuel (1), Nabilla (1), Intérieur (1), Printz (1), Projet de loi de ﬁnances (1), Anciens (1), Veterans (1), Rouzeau (1), La (1), de vue historien (1), J. Zimet (1), Labels (1), J. 2010 (1), F. van Vree (1), J. Winter (1), November.552 R. FATHI (1)</td>\n",
       "    </tr>\n",
       "    <tr>\n",
       "      <th id=\"T_58010_level0_row2\" class=\"row_heading level0 row2\" >2</th>\n",
       "      <td id=\"T_58010_row2_col0\" class=\"data row2 col0\" >DATE</td>\n",
       "      <td id=\"T_58010_row2_col1\" class=\"data row2 col1\" >176</td>\n",
       "      <td id=\"T_58010_row2_col2\" class=\"data row2 col2\" >2014 (26), 1914 (11), 2015 (9), 2013 (8), 2012 (8), 1914 –1918 (4), November (4), 1918 (3), 2020 (3), today (2), 1998 (2), November 2014 (2), 2012a (2), the years (2), 1918 –1920 (2), 1305 (2), 6 January 2015 (2), 14 September 2016 (1), 1036-1146 (1), 2009 (1), the centuries (1), four-year (1), 20th-century (1), the last century (1), Prost 2004: (1), 1215 (1), 1965 (1), 1977 (1), 2010 (1), 1989 (1), Garcia 2000 (1), RFI 2014 (1), recent decades (1), October 2014 (1), 1917 (1), Flandrin 2014b (1), coming years (1), 5 April\n",
       "2012 (1), December 2014 (1), trilingual (1), Printz 2012 (1), 2016 (1), 2017 (1), 2019 (1), 20th-\n",
       "century (1), 14 July 2014 (1), 6 June\n",
       "2014 (1), Libération 2014 (1), Five months (1), a month (1), August (1), 3 August 1914 (1), 1915 (1), 100\n",
       "years ago (1), the ﬁrst month (1), 12 September 2014 (1), the\n",
       "1980s (1), the 1990s (1), March 2014 (1), 2013a (1), decades (1), years (1), Today (1), 8 February 2015 (1), 171(4 (1), spring – (1), summer 1914 (1), 10 March (1), B. 2004 (1), 25 April 1915 (1), A. 2014a (1), 3 August (1), A. 2014b (1), 7 November (1), April 2012 (1), 11 April (1), 2012b (1), 26 November 2012 (1), 28 November (1), 5 January 2015 (1), B. 2014 (1), 1914 –2014 (1), 2245 (1), 25 May 2015 (1), 6 June 2014 (1), 6 June (1), 7 January 2015 (1), 14 July (1), 29 December 2014 (1), A. 2004 (1), A. 2013a (1), 25 January (1), A. 2013b (1), de-1914-1918 (1), 28 December 2014 (1), January 2015 (1), Robert, M. 2014 (1), 11 November (1), 1 October 2014 (1), Winter (1), 27 March (1)</td>\n",
       "    </tr>\n",
       "    <tr>\n",
       "      <th id=\"T_58010_level0_row3\" class=\"row_heading level0 row3\" >3</th>\n",
       "      <td id=\"T_58010_row3_col0\" class=\"data row3 col0\" >GPE</td>\n",
       "      <td id=\"T_58010_row3_col1\" class=\"data row3 col1\" >86</td>\n",
       "      <td id=\"T_58010_row3_col2\" class=\"data row3 col2\" >France (37), Paris (6), Zimet (4), Germany (4), Australia (3), Prost (3), Flandrin (2), Invalides (2), Print (1), Gallipoli (1), Saint-Louis (1), Saint Just (1), Péronne (1), Frenchmen (1), Pétain (1), Bastille (1), Kiev (1), Moscow (1), Armand (1), Alsace (1), Canada (1), Austria (1), Belgium (1), UK (1), Britain (1), South Africa (1), Birnbaum (1), M. Crotty (1), La (1), Leprêtre (1), S. Audoin (1), Bayard (1), Amsterdam (1)</td>\n",
       "    </tr>\n",
       "    <tr>\n",
       "      <th id=\"T_58010_level0_row4\" class=\"row_heading level0 row4\" >4</th>\n",
       "      <td id=\"T_58010_row4_col0\" class=\"data row4 col0\" >CARDINAL</td>\n",
       "      <td id=\"T_58010_row4_col1\" class=\"data row4 col1\" >78</td>\n",
       "      <td id=\"T_58010_row4_col2\" class=\"data row4 col2\" >14–18 (7), 14 (4), 18 (3), two (3), 545 (2), millions (2), one (2), 100 (2), One (2), four (2), 5 (2), 1 (2), 2013 (2), 151 (2), 1363 (1), 50:3 (1), 05 (1), 135 (1), 113 (1), 50 (1), 3 (1), 552 (1), 1.4 million (1), 8\n",
       "million (1), over a million (1), hundreds of thousands (1), 21 (1), 12 (1), seven (1), 16 (1), 547 (1), suc (1), 141–326 (1), 19 (1), three (1), 22 (1), 6 (1), Eighty (1), 101 (1), Nineteen (1), between 1 and 3 (1), between 8 and 11 (1), nearly 600,000 (1), Over a dozen (1), 549 (1), 36,000 (1), over 150 (1), 96 (1), 13 (1), 152 (1), 26 (1), 17 (1), 1918 (1), 15 (1), 9 (1)</td>\n",
       "    </tr>\n",
       "    <tr>\n",
       "      <th id=\"T_58010_level0_row5\" class=\"row_heading level0 row5\" >5</th>\n",
       "      <td id=\"T_58010_row5_col0\" class=\"data row5 col0\" >NORP</td>\n",
       "      <td id=\"T_58010_row5_col1\" class=\"data row5 col1\" >63</td>\n",
       "      <td id=\"T_58010_row5_col2\" class=\"data row5 col2\" >French (37), European (10), Australian (3), Australians (2), German (2), Parisian (1), British (1), Germans (1), republican (1), dans (1), FRENCH (1), interministérielle (1), Nabilla (1), K. Tilmans (1)</td>\n",
       "    </tr>\n",
       "    <tr>\n",
       "      <th id=\"T_58010_level0_row6\" class=\"row_heading level0 row6\" >6</th>\n",
       "      <td id=\"T_58010_row6_col0\" class=\"data row6 col0\" >EVENT</td>\n",
       "      <td id=\"T_58010_row6_col1\" class=\"data row6 col1\" >42</td>\n",
       "      <td id=\"T_58010_row6_col2\" class=\"data row6 col2\" >the First World War (17), the Great War (6), the Second World War (5), First World War (3), Great War (3), French Revolution (1), the Great\n",
       "War (1), the FirstWorld War (1), Holocaust (1), Second World War (1), the First World\n",
       "War (1), the French Revolution: Social (1), Le 36e RI (1)</td>\n",
       "    </tr>\n",
       "    <tr>\n",
       "      <th id=\"T_58010_level0_row7\" class=\"row_heading level0 row7\" >7</th>\n",
       "      <td id=\"T_58010_row7_col0\" class=\"data row7 col0\" >ORDINAL</td>\n",
       "      <td id=\"T_58010_row7_col1\" class=\"data row7 col1\" >12</td>\n",
       "      <td id=\"T_58010_row7_col2\" class=\"data row7 col2\" >second (3), First (2), 70th (2), third (2), Second (1), sixth (1), fourth (1)</td>\n",
       "    </tr>\n",
       "    <tr>\n",
       "      <th id=\"T_58010_level0_row8\" class=\"row_heading level0 row8\" >8</th>\n",
       "      <td id=\"T_58010_row8_col0\" class=\"data row8 col0\" >MONEY</td>\n",
       "      <td id=\"T_58010_row8_col1\" class=\"data row8 col1\" >5</td>\n",
       "      <td id=\"T_58010_row8_col2\" class=\"data row8 col2\" >7.2 per cent (1), €30 million (1), €8 million (1), €10 million (1), €120 million (1)</td>\n",
       "    </tr>\n",
       "    <tr>\n",
       "      <th id=\"T_58010_level0_row9\" class=\"row_heading level0 row9\" >9</th>\n",
       "      <td id=\"T_58010_row9_col0\" class=\"data row9 col0\" >LOC</td>\n",
       "      <td id=\"T_58010_row9_col1\" class=\"data row9 col1\" >5</td>\n",
       "      <td id=\"T_58010_row9_col2\" class=\"data row9 col2\" >Somme (2), Europe (2), the Mission du\n",
       " (1)</td>\n",
       "    </tr>\n",
       "    <tr>\n",
       "      <th id=\"T_58010_level0_row10\" class=\"row_heading level0 row10\" >10</th>\n",
       "      <td id=\"T_58010_row10_col0\" class=\"data row10 col0\" >FAC</td>\n",
       "      <td id=\"T_58010_row10_col1\" class=\"data row10 col1\" >15</td>\n",
       "      <td id=\"T_58010_row10_col2\" class=\"data row10 col2\" >Hollande (4), Le Monde (3), Centenaire de la Première (1), La Mission du Centenaire (1), Sword Beach (1), Notre-Dame de\n",
       "Lorette (1), Le Débat (1), Gallipoli: Trial (1), Le Parisien (1), Le 6 (1)</td>\n",
       "    </tr>\n",
       "    <tr>\n",
       "      <th id=\"T_58010_level0_row11\" class=\"row_heading level0 row11\" >11</th>\n",
       "      <td id=\"T_58010_row11_col0\" class=\"data row11 col0\" >PRODUCT</td>\n",
       "      <td id=\"T_58010_row11_col1\" class=\"data row11 col1\" >5</td>\n",
       "      <td id=\"T_58010_row11_col2\" class=\"data row11 col2\" >The “Victor of Verdun (1), G20 (1), Becker (1), Français (1), J-J. Becker (1)</td>\n",
       "    </tr>\n",
       "    <tr>\n",
       "      <th id=\"T_58010_level0_row12\" class=\"row_heading level0 row12\" >12</th>\n",
       "      <td id=\"T_58010_row12_col0\" class=\"data row12 col0\" >LANGUAGE</td>\n",
       "      <td id=\"T_58010_row12_col1\" class=\"data row12 col1\" >2</td>\n",
       "      <td id=\"T_58010_row12_col2\" class=\"data row12 col2\" >Centenary (1), French (1)</td>\n",
       "    </tr>\n",
       "    <tr>\n",
       "      <th id=\"T_58010_level0_row13\" class=\"row_heading level0 row13\" >13</th>\n",
       "      <td id=\"T_58010_row13_col0\" class=\"data row13 col0\" >WORK_OF_ART</td>\n",
       "      <td id=\"T_58010_row13_col1\" class=\"data row13 col1\" >2</td>\n",
       "      <td id=\"T_58010_row13_col2\" class=\"data row13 col2\" >The Order of 5 (1), Commemorating the Great War (1)</td>\n",
       "    </tr>\n",
       "  </tbody>\n",
       "</table>\n"
      ],
      "text/plain": [
       "<pandas.io.formats.style.Styler at 0x14ee59ed0>"
      ]
     },
     "metadata": {},
     "output_type": "display_data"
    },
    {
     "data": {
      "text/html": [
       "<hr>"
      ],
      "text/plain": [
       "<IPython.core.display.HTML object>"
      ]
     },
     "metadata": {},
     "output_type": "display_data"
    },
    {
     "data": {
      "text/html": [
       "\n",
       "            <h3>Document: Commemoration in the United States: ‘The reason for fighting I never got straight’</h3>\n",
       "            <p><strong>Authors:</strong> </p>\n",
       "            <p><strong>Date:</strong> 2015-07-03</p>\n",
       "            "
      ],
      "text/plain": [
       "<IPython.core.display.HTML object>"
      ]
     },
     "metadata": {},
     "output_type": "display_data"
    },
    {
     "data": {
      "text/html": [
       "<style type=\"text/css\">\n",
       "#T_bec2e th {\n",
       "  border: 1px solid black;\n",
       "  padding: 8px;\n",
       "  text-align: left;\n",
       "}\n",
       "#T_bec2e_row0_col0, #T_bec2e_row0_col1, #T_bec2e_row0_col2, #T_bec2e_row1_col0, #T_bec2e_row1_col1, #T_bec2e_row1_col2, #T_bec2e_row2_col0, #T_bec2e_row2_col1, #T_bec2e_row2_col2, #T_bec2e_row3_col0, #T_bec2e_row3_col1, #T_bec2e_row3_col2, #T_bec2e_row4_col0, #T_bec2e_row4_col1, #T_bec2e_row4_col2, #T_bec2e_row5_col0, #T_bec2e_row5_col1, #T_bec2e_row5_col2, #T_bec2e_row6_col0, #T_bec2e_row6_col1, #T_bec2e_row6_col2, #T_bec2e_row7_col0, #T_bec2e_row7_col1, #T_bec2e_row7_col2, #T_bec2e_row8_col0, #T_bec2e_row8_col1, #T_bec2e_row8_col2, #T_bec2e_row9_col0, #T_bec2e_row9_col1, #T_bec2e_row9_col2, #T_bec2e_row10_col0, #T_bec2e_row10_col1, #T_bec2e_row10_col2, #T_bec2e_row11_col0, #T_bec2e_row11_col1, #T_bec2e_row11_col2, #T_bec2e_row12_col0, #T_bec2e_row12_col1, #T_bec2e_row12_col2, #T_bec2e_row13_col0, #T_bec2e_row13_col1, #T_bec2e_row13_col2 {\n",
       "  border: 1px solid black;\n",
       "  padding: 8px;\n",
       "  text-align: left;\n",
       "}\n",
       "</style>\n",
       "<table id=\"T_bec2e\">\n",
       "  <thead>\n",
       "    <tr>\n",
       "      <th class=\"blank level0\" >&nbsp;</th>\n",
       "      <th id=\"T_bec2e_level0_col0\" class=\"col_heading level0 col0\" >Entity Type</th>\n",
       "      <th id=\"T_bec2e_level0_col1\" class=\"col_heading level0 col1\" >Count</th>\n",
       "      <th id=\"T_bec2e_level0_col2\" class=\"col_heading level0 col2\" >Unique Entities</th>\n",
       "    </tr>\n",
       "  </thead>\n",
       "  <tbody>\n",
       "    <tr>\n",
       "      <th id=\"T_bec2e_level0_row0\" class=\"row_heading level0 row0\" >0</th>\n",
       "      <td id=\"T_bec2e_row0_col0\" class=\"data row0 col0\" >ORG</td>\n",
       "      <td id=\"T_bec2e_row0_col1\" class=\"data row0 col1\" >99</td>\n",
       "      <td id=\"T_bec2e_row0_col2\" class=\"data row0 col2\" >Wilson (12), AEF (8), Congress (7), the Western Front (3), Australian Journal of Political Science (2), Snell (2), United States (2), AUD (2), Allied (2), Fleming (2), the League of Nations (2), House (2), Full Terms & Conditions (1), http://www.tandfonline.com/action/journalInformation?journalCode=cajp20\n",
       "Download (1), ISSN (1), Submit (1), View Crossmark (1), Australian National University (1), Capitol\n",
       "Hill (1), District of Columbia War Memorial (1), the White House (1), The School of History (1), the Australian National University (1), douglas.craig@anu.edu.auAustralian Journal of Political Science (1), Australian Political Studies Association (1), Western Front (1), the American Legion (1), Arlington National Cemetery (1), United States World War (1), the Liberty Memorial (1), the National World War I Museum and Memorial (1), the Liberty\n",
       "Memorial (1), the Districtof Columbia War Memorial (1), by11 (1), Veterans Affairs (1), Bythen (1), the American Civil War (1), State (1), Allies (1), War Newton (1), Treasury (1), Front (1), Western Front (Budreau (1), Belleau Wood (1), Meuse (1), Budreau (1), New York University Press (1), Johns Hopkins University Press (1), J.S.D. (1), J.T. 2002 (1), McFarland &\n",
       "Company Inc. (1), M.E. 2006 (1), Cambridge University Press (1), CBC News (1), Johns\n",
       "Hopkins University Press (1), Brill (1), Piehler (1), Smithsonian Books (1), Kent State University Press (1), Rowman & Little (1), Thompson (1), Macmillan (1), Lawrence: University Press of\n",
       " (1), Tuscaloosa: University of Alabama Press (1), The U.S. (1)</td>\n",
       "    </tr>\n",
       "    <tr>\n",
       "      <th id=\"T_bec2e_level0_row1\" class=\"row_heading level0 row1\" >1</th>\n",
       "      <td id=\"T_bec2e_row1_col0\" class=\"data row1 col0\" >PERSON</td>\n",
       "      <td id=\"T_bec2e_row1_col1\" class=\"data row1 col1\" >63</td>\n",
       "      <td id=\"T_bec2e_row1_col2\" class=\"data row1 col2\" >Cooper (5), Douglas Craig (3), Kostrich (3), Keene (3), Theodore Roosevelt (3), Clifford (2), Harris (2), Dylan (2), Woodrow Wilson ’s (2), Eisenhower (2), Baker (2), William G. McAdoo (2), Craig (2), Universitaire De Lausanne] Date (1), Mark Snell (1), Steven Trout (1), Lisa Budreau (1), Stephen Harper (1), Jennifer Keene (1), John Milton Cooper (1), Michael Kazin (1), Britons (1), Edward M. House (1), Robert Lansing (1), McAdoo (1), Roosevelt (1), Newton Baker (1), John (1), Graham 2005 (1), Piehler (1), Argonne (1), Centenary (1), L.M. 2010 (1), Why Woodrow Wilson (1), Newton D. Baker (1), Graham (1), Doughboys (1), Leiden (1), G.K. 1995 (1), Woodrow Wilson (1), Lanham (1), ﬁeld (1), Trask (1)</td>\n",
       "    </tr>\n",
       "    <tr>\n",
       "      <th id=\"T_bec2e_level0_row2\" class=\"row_heading level0 row2\" >2</th>\n",
       "      <td id=\"T_bec2e_row2_col0\" class=\"data row2 col0\" >DATE</td>\n",
       "      <td id=\"T_bec2e_row2_col1\" class=\"data row2 col1\" >145</td>\n",
       "      <td id=\"T_bec2e_row2_col2\" class=\"data row2 col2\" >2015 (14), 1917 (9), 2014 (9), April 1917 (6), 2010 (4), 2014b (4), 16 March 2015 (4), 2014a (3), 1914 (3), 2008 (2), today (2), 1930 (2), four-year (2), 2003 (2), two years (2), April 2017 (2), 12 March (2), 2005 (2), 1941 (2), 12 March 2015 (2), 1919 (2), 14 September 2016 (1), 1036-1146 (1), 2017 (1), the end of the (1), 19 (1), November 1921 (1), a century ago (1), January 2013 (1), Nearly a year later (1), December 2014 (1), 1921 (1), 1918 (1), Memorial 2015 (1), November 2018 (1), the centennial of the (1), 1812 (1), Kostrich 2014 (1), between 2014 and\n",
       "2018 (1), Centenary 2015 (1), 6 April 1917 (1), seven months (1), 7 May 1915 (1), only 20 months (1), April 2017 and November 2018 (1), 12 April 1861 to 9\n",
       "April 1865 (1), 2012 (1), 2001 (1), between April 1917 and November 1918 (1), November 1918,and (1), the next 12 months (1), 2006 (1), Trask 1993 (1), the centennial (1), more than 50 years ago (1), Dylan 1964 (1), July 2014 (1), 2002 (1), 20 years later (1), the 1950s (1), 1937 (1), the 1910s (1), January 1918 (1), April\n",
       "1917 (1), October 1915 (1), June 1915 (1), March 1916 (1), 1915 (1), between 1917 and 1920 (1), 1922 (1), 1995 (1), 1933 (1), 17 November (1), D.B. 2013 (1), 1863 –1941 (1), 2 April 2015 (1), T. 2003 (1), the 1930s (1), August (1), 6 July (1), J.D. 2001 (1), 22 February (1), 1 June 2015 (1), March 2015 (1), 23 February 2015 (1), 24 February 2015.COMMEMORATION (1)</td>\n",
       "    </tr>\n",
       "    <tr>\n",
       "      <th id=\"T_bec2e_level0_row3\" class=\"row_heading level0 row3\" >3</th>\n",
       "      <td id=\"T_bec2e_row3_col0\" class=\"data row3 col0\" >CARDINAL</td>\n",
       "      <td id=\"T_bec2e_row3_col1\" class=\"data row3 col1\" >67</td>\n",
       "      <td id=\"T_bec2e_row3_col2\" class=\"data row3 col2\" >36 (3), 568 (2), 24 (2), 575 (2), 2 million (2), 80 (2), 2–3 (2), 2 (2), 18 (2), 731 (2), 07:09 (1), 1363 (1), 50:3 (1), 05 (1), 70 (1), 250 (1), 499 (1), 50 (1), 3 (1), 11 (1), 107–56 (1), 10 (1), CAD$30 million (1), 569 (1), 1.7 million (1), 128 (1), 1For (1), 22 (1), edu- (1), 2See (1), 479 (1), 571 (1), two (1), 728 (1), one (1), 45 (1), 730 (1), 735 (1), 732 (1), 729 (1), 43 (1), 81 (1), 194–96 (1), 30 (1), 146 (1), 172 (1), 75,000 (1), Almost 70 (1), nearly 46,000 (1), 573 (1), 116 (1), 97 (1), 38 (1), 727 (1), 27 (1), 12 (1)</td>\n",
       "    </tr>\n",
       "    <tr>\n",
       "      <th id=\"T_bec2e_level0_row4\" class=\"row_heading level0 row4\" >4</th>\n",
       "      <td id=\"T_bec2e_row4_col0\" class=\"data row4 col0\" >GPE</td>\n",
       "      <td id=\"T_bec2e_row4_col1\" class=\"data row4 col1\" >136</td>\n",
       "      <td id=\"T_bec2e_row4_col2\" class=\"data row4 col2\" >US (35), Germany (13), America (8), the United States (5), France (5), THE UNITED STATES (4), Washington, DC (3), Canada (3), Kazin (3), Britain (3), New York (3), Cooper (3), MD (3), Keene (3), United States (2), Australia (2), Belgium (2), WWI (2), Baltimore (2), J.D. (2), Print (1), The United States (1), Vietnam (1), Canberra (1), Washington (1), British Empire (1), Kansas\n",
       "City (1), Missouri (1), Pershing Park (1), Washington DC (1), States (1), the New Republic (1), the New Republic ’s (1), Berlin (1), Roosevelt (1), Russia (1), Europeanwar (1), New Republic (1), germany (1), Eisenhower (1), New York: Touchstone Books (1), Jefferson (1), NC (1), Grotelueschen (1), Cambridge (1), Ottawa (1), New\n",
       "Republic (1), Snell (1), Striner (1), Kansas (1)</td>\n",
       "    </tr>\n",
       "    <tr>\n",
       "      <th id=\"T_bec2e_level0_row5\" class=\"row_heading level0 row5\" >5</th>\n",
       "      <td id=\"T_bec2e_row5_col0\" class=\"data row5 col0\" >EVENT</td>\n",
       "      <td id=\"T_bec2e_row5_col1\" class=\"data row5 col1\" >68</td>\n",
       "      <td id=\"T_bec2e_row5_col2\" class=\"data row5 col2\" >the First World War (25), World War I (6), First World War (5), the Great War (3), World War (3), the Civil War (2), World War I ’ (1), the Second World War (1), Second World War (1), Korean War (1), the World War One Centennial Commission (1), the National World War One (1), National World War I Museum (1), National World War One Memorial (1), the First World War centennial (1), Civil War (1), The Civil War (1), Great War (1), War (1), World War (Cooper 2014a (1), Russian Revolution (1), its Great War (1), World War I. New Republic (1), The World War (1), World\n",
       "War I (1), World War II (1), the First World\n",
       "War (1), National World War I Museum and Memorial (1), The First World War (1), World War One Centennial\n",
       "Commission (1)</td>\n",
       "    </tr>\n",
       "    <tr>\n",
       "      <th id=\"T_bec2e_level0_row6\" class=\"row_heading level0 row6\" >6</th>\n",
       "      <td id=\"T_bec2e_row6_col0\" class=\"data row6 col0\" >NORP</td>\n",
       "      <td id=\"T_bec2e_row6_col1\" class=\"data row6 col1\" >90</td>\n",
       "      <td id=\"T_bec2e_row6_col2\" class=\"data row6 col2\" >American (47), Americans (18), European (6), German (3), Veterans (2), Australian (2), D. (2), Korean (1), British (1), Canadian (1), theAmerican (1), Russian (1), pro-British (1), USwould (1), Republican (1), Nazis (1), African American (1)</td>\n",
       "    </tr>\n",
       "    <tr>\n",
       "      <th id=\"T_bec2e_level0_row7\" class=\"row_heading level0 row7\" >7</th>\n",
       "      <td id=\"T_bec2e_row7_col0\" class=\"data row7 col0\" >LANGUAGE</td>\n",
       "      <td id=\"T_bec2e_row7_col1\" class=\"data row7 col1\" >1</td>\n",
       "      <td id=\"T_bec2e_row7_col2\" class=\"data row7 col2\" >English (1)</td>\n",
       "    </tr>\n",
       "    <tr>\n",
       "      <th id=\"T_bec2e_level0_row8\" class=\"row_heading level0 row8\" >8</th>\n",
       "      <td id=\"T_bec2e_row8_col0\" class=\"data row8 col0\" >PRODUCT</td>\n",
       "      <td id=\"T_bec2e_row8_col1\" class=\"data row8 col1\" >3</td>\n",
       "      <td id=\"T_bec2e_row8_col2\" class=\"data row8 col2\" >the National Mall (2), Cooper (1)</td>\n",
       "    </tr>\n",
       "    <tr>\n",
       "      <th id=\"T_bec2e_level0_row9\" class=\"row_heading level0 row9\" >9</th>\n",
       "      <td id=\"T_bec2e_row9_col0\" class=\"data row9 col0\" >FAC</td>\n",
       "      <td id=\"T_bec2e_row9_col1\" class=\"data row9 col1\" >3</td>\n",
       "      <td id=\"T_bec2e_row9_col2\" class=\"data row9 col2\" >Pershing Park (3)</td>\n",
       "    </tr>\n",
       "    <tr>\n",
       "      <th id=\"T_bec2e_level0_row10\" class=\"row_heading level0 row10\" >10</th>\n",
       "      <td id=\"T_bec2e_row10_col0\" class=\"data row10 col0\" >ORDINAL</td>\n",
       "      <td id=\"T_bec2e_row10_col1\" class=\"data row10 col1\" >4</td>\n",
       "      <td id=\"T_bec2e_row10_col2\" class=\"data row10 col2\" >First (3), second (1)</td>\n",
       "    </tr>\n",
       "    <tr>\n",
       "      <th id=\"T_bec2e_level0_row11\" class=\"row_heading level0 row11\" >11</th>\n",
       "      <td id=\"T_bec2e_row11_col0\" class=\"data row11 col0\" >LOC</td>\n",
       "      <td id=\"T_bec2e_row11_col1\" class=\"data row11 col1\" >11</td>\n",
       "      <td id=\"T_bec2e_row11_col2\" class=\"data row11 col2\" >Europe (5), Atlantic (3), Western Europe (1), Oceania (1), Diplomatic History (1)</td>\n",
       "    </tr>\n",
       "    <tr>\n",
       "      <th id=\"T_bec2e_level0_row12\" class=\"row_heading level0 row12\" >12</th>\n",
       "      <td id=\"T_bec2e_row12_col0\" class=\"data row12 col0\" >MONEY</td>\n",
       "      <td id=\"T_bec2e_row12_col1\" class=\"data row12 col1\" >6</td>\n",
       "      <td id=\"T_bec2e_row12_col2\" class=\"data row12 col2\" >at least £59 million (1), $116 million (1), €120 million (1), more than €8\n",
       "million (1), €5 million (1), 70 per cent (1)</td>\n",
       "    </tr>\n",
       "    <tr>\n",
       "      <th id=\"T_bec2e_level0_row13\" class=\"row_heading level0 row13\" >13</th>\n",
       "      <td id=\"T_bec2e_row13_col0\" class=\"data row13 col0\" >WORK_OF_ART</td>\n",
       "      <td id=\"T_bec2e_row13_col1\" class=\"data row13 col1\" >2</td>\n",
       "      <td id=\"T_bec2e_row13_col2\" class=\"data row13 col2\" >Gallup (1), Fourteen Points (1)</td>\n",
       "    </tr>\n",
       "  </tbody>\n",
       "</table>\n"
      ],
      "text/plain": [
       "<pandas.io.formats.style.Styler at 0x14fda94d0>"
      ]
     },
     "metadata": {},
     "output_type": "display_data"
    },
    {
     "data": {
      "text/html": [
       "<hr>"
      ],
      "text/plain": [
       "<IPython.core.display.HTML object>"
      ]
     },
     "metadata": {},
     "output_type": "display_data"
    },
    {
     "data": {
      "text/html": [
       "\n",
       "            <h3>Document: Commemoration in the United Kingdom: A multitude of memories</h3>\n",
       "            <p><strong>Authors:</strong> </p>\n",
       "            <p><strong>Date:</strong> 2015-07-03</p>\n",
       "            "
      ],
      "text/plain": [
       "<IPython.core.display.HTML object>"
      ]
     },
     "metadata": {},
     "output_type": "display_data"
    },
    {
     "data": {
      "text/html": [
       "<style type=\"text/css\">\n",
       "#T_fe873 th {\n",
       "  border: 1px solid black;\n",
       "  padding: 8px;\n",
       "  text-align: left;\n",
       "}\n",
       "#T_fe873_row0_col0, #T_fe873_row0_col1, #T_fe873_row0_col2, #T_fe873_row1_col0, #T_fe873_row1_col1, #T_fe873_row1_col2, #T_fe873_row2_col0, #T_fe873_row2_col1, #T_fe873_row2_col2, #T_fe873_row3_col0, #T_fe873_row3_col1, #T_fe873_row3_col2, #T_fe873_row4_col0, #T_fe873_row4_col1, #T_fe873_row4_col2, #T_fe873_row5_col0, #T_fe873_row5_col1, #T_fe873_row5_col2, #T_fe873_row6_col0, #T_fe873_row6_col1, #T_fe873_row6_col2, #T_fe873_row7_col0, #T_fe873_row7_col1, #T_fe873_row7_col2, #T_fe873_row8_col0, #T_fe873_row8_col1, #T_fe873_row8_col2, #T_fe873_row9_col0, #T_fe873_row9_col1, #T_fe873_row9_col2, #T_fe873_row10_col0, #T_fe873_row10_col1, #T_fe873_row10_col2, #T_fe873_row11_col0, #T_fe873_row11_col1, #T_fe873_row11_col2, #T_fe873_row12_col0, #T_fe873_row12_col1, #T_fe873_row12_col2, #T_fe873_row13_col0, #T_fe873_row13_col1, #T_fe873_row13_col2, #T_fe873_row14_col0, #T_fe873_row14_col1, #T_fe873_row14_col2, #T_fe873_row15_col0, #T_fe873_row15_col1, #T_fe873_row15_col2 {\n",
       "  border: 1px solid black;\n",
       "  padding: 8px;\n",
       "  text-align: left;\n",
       "}\n",
       "</style>\n",
       "<table id=\"T_fe873\">\n",
       "  <thead>\n",
       "    <tr>\n",
       "      <th class=\"blank level0\" >&nbsp;</th>\n",
       "      <th id=\"T_fe873_level0_col0\" class=\"col_heading level0 col0\" >Entity Type</th>\n",
       "      <th id=\"T_fe873_level0_col1\" class=\"col_heading level0 col1\" >Count</th>\n",
       "      <th id=\"T_fe873_level0_col2\" class=\"col_heading level0 col2\" >Unique Entities</th>\n",
       "    </tr>\n",
       "  </thead>\n",
       "  <tbody>\n",
       "    <tr>\n",
       "      <th id=\"T_fe873_level0_row0\" class=\"row_heading level0 row0\" >0</th>\n",
       "      <td id=\"T_fe873_row0_col0\" class=\"data row0 col0\" >ORG</td>\n",
       "      <td id=\"T_fe873_row0_col1\" class=\"data row0 col1\" >60</td>\n",
       "      <td id=\"T_fe873_row0_col2\" class=\"data row0 col2\" >Australian Journal of Political Science (3), Department for Culture (2), Cambridgeshire County Council (2), Church of England (2), Full Terms & Conditions (1), http://www.tandfonline.com/action/journalInformation?journalCode=cajp20\n",
       "Download (1), ISSN (1), Submit (1), View Crossmark (1), KEITHJEFFERY (1), Queen’ s University Belfast (1), the Imperial War Museum (1), Passchendaele (1), Queen ’s University Belfast (1), Australian Political Studies Association\n",
       "  (1), the British Heritage Lottery Fund (1), HMS Caroline (1), The UKNational Committee (1), Commonwealth (1), Glasgow Cathedral (1), Llandaff Cathedral (1), Conservative (1), Education (1), Blackadder (1), Opposition (1), Royal British Legion (1), the national Union of Railwaymen (1), Afgha- (1), Hew Strachan (1), Chichele Professor of War (1), Oxford University (1), The Ministry of Defence (1), Foreign & Commonwealth Of ﬁce2013 (1), the Irish Civil War (1), Troubles (1), Sinn Féin (1), the German Army (1), CWGC (1), Clare College (1), Court (1), the University Library (1), Truro Cathedral (1), the National\n",
       "Theatre of Wales (1), the ‘Blood Swept Lands (1), References\n",
       "Brankin, U. 2014 (1), Imperial War Museum (1), The Church of England (1), CNEditor (1), Foreign & Commonwealth (1), Guardian (1), National Theatre of Wales (1), Pitel (1), L. (1), Times (1), Sinn Fein ’s (1)</td>\n",
       "    </tr>\n",
       "    <tr>\n",
       "      <th id=\"T_fe873_level0_row1\" class=\"row_heading level0 row1\" >1</th>\n",
       "      <td id=\"T_fe873_row1_col0\" class=\"data row1 col0\" >PERSON</td>\n",
       "      <td id=\"T_fe873_row1_col1\" class=\"data row1 col1\" >46</td>\n",
       "      <td id=\"T_fe873_row1_col2\" class=\"data row1 col2\" >Cameron (4), Keith Jeffery (3), Hunt (3), Miller (2), St Symphorien (2), Michael Gove (2), Williamson (2), Universitaire De Lausanne] Date (1), David Cameron (1), Maria Miller (1), St Anne’ s (1), fﬁce2013 (1), Rupert\n",
       "Brooke (1), Wilfred Owen (1), Owen (1), Sweet (1), Gove (1), Gove\n",
       "as‘crass’and (1), Scot (1), Forsome (1), County Armagh (1), Catherine Seeley (1), ﬂicts,’she (1), Michael Higgins (1), Brian Davidson (1), St\n",
       "Symphorien (1), Paul\n",
       "Cummins (1), Tom Piper (1), Brian (1), Centenary News (1), B. Ziino (1), Abingdon (1), Coghlan (1), www.nexis.com/results/docview/docview.do?docLinkInd=true&risb=21_T21797440127&format= (1), Belfast Telegraph (1)</td>\n",
       "    </tr>\n",
       "    <tr>\n",
       "      <th id=\"T_fe873_level0_row2\" class=\"row_heading level0 row2\" >2</th>\n",
       "      <td id=\"T_fe873_row2_col0\" class=\"data row2 col0\" >DATE</td>\n",
       "      <td id=\"T_fe873_row2_col1\" class=\"data row2 col1\" >96</td>\n",
       "      <td id=\"T_fe873_row2_col2\" class=\"data row2 col2\" >2014 (12), 9 April 2015 (8), 2015 (5), 2012 (5), 1914 (3), November (3), 4 August 2014 (2), October 2013 (2), 1916 (2), 11 November 2014 (2), 14 May 2015 (2), 14 September 2016 (1), 1036-1146 (1), 1 July 2016 (1), the beginning of the Battle of the\n",
       " (1), 11 November 2018 (1), 4 August (1), 1 July (1), the ﬁrst day (1), 24 June 1916 (1), 11 November 1918 (1), the beginning of the last century (1), this day (1), a century (1), 18 September 2014 (1), August 2014 (1), 11 November (1), 1915 (1), 28 June 1914 (1), 1314 (1), Jeffery 2014 (1), 1919 (1), 21 (1), 1922 (1), recent years (1), the late 1990s (1), November\n",
       "2014 (1), 4 August\n",
       " (1), Today (1), the 1920s (1), the 1930s (1), June 2014 (1), the 38th (Welsh) Division (1), April 2015 (1), four-and-a-half year anniversary (1), Between 17 July (1), nearly four more years (1), 2018 (1), August (1), 17 December (1), 10 April 2015 (1), 2 January (1), T. 2014 (1), 4 January (1), Jeffery, K. 2014 (1), 100 years (1), 12 October (1), 2013 (1), 10 November (1), 5 August (1), 14 May 2015.COMMEMORATION (1)</td>\n",
       "    </tr>\n",
       "    <tr>\n",
       "      <th id=\"T_fe873_level0_row3\" class=\"row_heading level0 row3\" >3</th>\n",
       "      <td id=\"T_fe873_row3_col0\" class=\"data row3 col0\" >GPE</td>\n",
       "      <td id=\"T_fe873_row3_col1\" class=\"data row3 col1\" >60</td>\n",
       "      <td id=\"T_fe873_row3_col2\" class=\"data row3 col2\" >UK (12), the United Kingdom (5), England (3), Northern Ireland (3), Belfast (3), Belgium (3), Ireland (3), Scotland (2), Wales (2), Glasgow (2), Cambridge (2), Print (1), United Kingdom (1), October2012 (1), Jutland (1), Gallipoli (1), Media (1), Pitel (1), Britain (1), Iraq (1), Belgo (1), Sarajevo (1), Craigavon (1), THE UNITED KINGDOM (1), Cambridgeshire County\n",
       "Council (1), Cornwall (1), Monmouthshire (1), been‘front (1), London (1), BOOLEAN&startDocNo=426&resultsUrlKey=29_T21798693125&cisb=22_T21798693124&treeMax (1), UNITED KINGDOM (1)</td>\n",
       "    </tr>\n",
       "    <tr>\n",
       "      <th id=\"T_fe873_level0_row4\" class=\"row_heading level0 row4\" >4</th>\n",
       "      <td id=\"T_fe873_row4_col0\" class=\"data row4 col0\" >CARDINAL</td>\n",
       "      <td id=\"T_fe873_row4_col1\" class=\"data row4 col1\" >29</td>\n",
       "      <td id=\"T_fe873_row4_col2\" class=\"data row4 col2\" >567 (2), two (2), one (2), 18 (2), 11 (2), 1363 (1), 50:3 (1), 562-567 (1), 05 (1), 183 (1), three (1), 50 (1), 3 (1), 562 (1), millions (1), 563 (1), worse)between (1), 23 (1), nine to 92 (1), 565 (1), 888,246 (1), thousands (1), One (1), 566 (1)</td>\n",
       "    </tr>\n",
       "    <tr>\n",
       "      <th id=\"T_fe873_level0_row5\" class=\"row_heading level0 row5\" >5</th>\n",
       "      <td id=\"T_fe873_row5_col0\" class=\"data row5 col0\" >EVENT</td>\n",
       "      <td id=\"T_fe873_row5_col1\" class=\"data row5 col1\" >36</td>\n",
       "      <td id=\"T_fe873_row5_col2\" class=\"data row5 col2\" >the First World War (8), First World War (7), World War One (3), Great War (2), the First World\n",
       "War (1), Armistice Day (1), the Imperial War\n",
       "Museum (1), the Commonwealth Games (1), the Commonwealth War Graves Commission (1), the Great War (1), Battle of Bannockburn (1), the ‘Irish War of Independence ’( (1), The First World War (1), Remembrance Day (1), the Great War\n",
       "Walking and Cycling Map (1), the ‘First Eastern General Hospital (1), World War (1), Battle of the Somme (National Theatre of Wales (1), World War Centenary Cathedral Repairs (1), World War Centenary (1)</td>\n",
       "    </tr>\n",
       "    <tr>\n",
       "      <th id=\"T_fe873_level0_row6\" class=\"row_heading level0 row6\" >6</th>\n",
       "      <td id=\"T_fe873_row6_col0\" class=\"data row6 col0\" >LOC</td>\n",
       "      <td id=\"T_fe873_row6_col1\" class=\"data row6 col1\" >4</td>\n",
       "      <td id=\"T_fe873_row6_col2\" class=\"data row6 col2\" >Somme (1), the Battle of the Somme (1), the Battle of Jutland (1), Europe (1)</td>\n",
       "    </tr>\n",
       "    <tr>\n",
       "      <th id=\"T_fe873_level0_row7\" class=\"row_heading level0 row7\" >7</th>\n",
       "      <td id=\"T_fe873_row7_col0\" class=\"data row7 col0\" >MONEY</td>\n",
       "      <td id=\"T_fe873_row7_col1\" class=\"data row7 col1\" >4</td>\n",
       "      <td id=\"T_fe873_row7_col2\" class=\"data row7 col2\" >35 (1), £5.3 million (1), £15 million (1), over £50 million (1)</td>\n",
       "    </tr>\n",
       "    <tr>\n",
       "      <th id=\"T_fe873_level0_row8\" class=\"row_heading level0 row8\" >8</th>\n",
       "      <td id=\"T_fe873_row8_col0\" class=\"data row8 col0\" >NORP</td>\n",
       "      <td id=\"T_fe873_row8_col1\" class=\"data row8 col1\" >29</td>\n",
       "      <td id=\"T_fe873_row8_col2\" class=\"data row8 col2\" >British (13), Scottish (4), German (2), Irish (2), Darwinism (1), Indian (1), Ethiopian (1), Australian (1), Nationalists (1), republican (1), Belgians (1), Belgian (1)</td>\n",
       "    </tr>\n",
       "    <tr>\n",
       "      <th id=\"T_fe873_level0_row9\" class=\"row_heading level0 row9\" >9</th>\n",
       "      <td id=\"T_fe873_row9_col0\" class=\"data row9 col0\" >FAC</td>\n",
       "      <td id=\"T_fe873_row9_col1\" class=\"data row9 col1\" >8</td>\n",
       "      <td id=\"T_fe873_row9_col2\" class=\"data row9 col2\" >the Tower of London (2), Westminster Abbey (1), Stirling Castle (1), the St Symphorien Military Cemetery (1), Telegraph 5 (1), Left (1), Tower of London (1)</td>\n",
       "    </tr>\n",
       "    <tr>\n",
       "      <th id=\"T_fe873_level0_row10\" class=\"row_heading level0 row10\" >10</th>\n",
       "      <td id=\"T_fe873_row10_col0\" class=\"data row10 col0\" >LANGUAGE</td>\n",
       "      <td id=\"T_fe873_row10_col1\" class=\"data row10 col1\" >2</td>\n",
       "      <td id=\"T_fe873_row10_col2\" class=\"data row10 col2\" >English (2)</td>\n",
       "    </tr>\n",
       "    <tr>\n",
       "      <th id=\"T_fe873_level0_row11\" class=\"row_heading level0 row11\" >11</th>\n",
       "      <td id=\"T_fe873_row11_col0\" class=\"data row11 col0\" >ORDINAL</td>\n",
       "      <td id=\"T_fe873_row11_col1\" class=\"data row11 col1\" >2</td>\n",
       "      <td id=\"T_fe873_row11_col2\" class=\"data row11 col2\" >First (1), 100th (1)</td>\n",
       "    </tr>\n",
       "    <tr>\n",
       "      <th id=\"T_fe873_level0_row12\" class=\"row_heading level0 row12\" >12</th>\n",
       "      <td id=\"T_fe873_row12_col0\" class=\"data row12 col0\" >LAW</td>\n",
       "      <td id=\"T_fe873_row12_col1\" class=\"data row12 col1\" >1</td>\n",
       "      <td id=\"T_fe873_row12_col2\" class=\"data row12 col2\" >CNEditor 2014 (1)</td>\n",
       "    </tr>\n",
       "    <tr>\n",
       "      <th id=\"T_fe873_level0_row13\" class=\"row_heading level0 row13\" >13</th>\n",
       "      <td id=\"T_fe873_row13_col0\" class=\"data row13 col0\" >WORK_OF_ART</td>\n",
       "      <td id=\"T_fe873_row13_col1\" class=\"data row13 col1\" >1</td>\n",
       "      <td id=\"T_fe873_row13_col2\" class=\"data row13 col2\" >the Market Place (1)</td>\n",
       "    </tr>\n",
       "    <tr>\n",
       "      <th id=\"T_fe873_level0_row14\" class=\"row_heading level0 row14\" >14</th>\n",
       "      <td id=\"T_fe873_row14_col0\" class=\"data row14 col0\" >QUANTITY</td>\n",
       "      <td id=\"T_fe873_row14_col1\" class=\"data row14 col1\" >1</td>\n",
       "      <td id=\"T_fe873_row14_col2\" class=\"data row14 col2\" >several\n",
       "million pounds (1)</td>\n",
       "    </tr>\n",
       "    <tr>\n",
       "      <th id=\"T_fe873_level0_row15\" class=\"row_heading level0 row15\" >15</th>\n",
       "      <td id=\"T_fe873_row15_col0\" class=\"data row15 col0\" >PRODUCT</td>\n",
       "      <td id=\"T_fe873_row15_col1\" class=\"data row15 col1\" >1</td>\n",
       "      <td id=\"T_fe873_row15_col2\" class=\"data row15 col2\" >Logan (1)</td>\n",
       "    </tr>\n",
       "  </tbody>\n",
       "</table>\n"
      ],
      "text/plain": [
       "<pandas.io.formats.style.Styler at 0x1502e2cd0>"
      ]
     },
     "metadata": {},
     "output_type": "display_data"
    },
    {
     "data": {
      "text/html": [
       "<hr>"
      ],
      "text/plain": [
       "<IPython.core.display.HTML object>"
      ]
     },
     "metadata": {},
     "output_type": "display_data"
    },
    {
     "data": {
      "text/html": [
       "\n",
       "            <h3>Document: Commemoration in Germany: Rediscovering history</h3>\n",
       "            <p><strong>Authors:</strong> </p>\n",
       "            <p><strong>Date:</strong> 2015-07-03</p>\n",
       "            "
      ],
      "text/plain": [
       "<IPython.core.display.HTML object>"
      ]
     },
     "metadata": {},
     "output_type": "display_data"
    },
    {
     "data": {
      "text/html": [
       "<style type=\"text/css\">\n",
       "#T_1062e th {\n",
       "  border: 1px solid black;\n",
       "  padding: 8px;\n",
       "  text-align: left;\n",
       "}\n",
       "#T_1062e_row0_col0, #T_1062e_row0_col1, #T_1062e_row0_col2, #T_1062e_row1_col0, #T_1062e_row1_col1, #T_1062e_row1_col2, #T_1062e_row2_col0, #T_1062e_row2_col1, #T_1062e_row2_col2, #T_1062e_row3_col0, #T_1062e_row3_col1, #T_1062e_row3_col2, #T_1062e_row4_col0, #T_1062e_row4_col1, #T_1062e_row4_col2, #T_1062e_row5_col0, #T_1062e_row5_col1, #T_1062e_row5_col2, #T_1062e_row6_col0, #T_1062e_row6_col1, #T_1062e_row6_col2, #T_1062e_row7_col0, #T_1062e_row7_col1, #T_1062e_row7_col2, #T_1062e_row8_col0, #T_1062e_row8_col1, #T_1062e_row8_col2, #T_1062e_row9_col0, #T_1062e_row9_col1, #T_1062e_row9_col2, #T_1062e_row10_col0, #T_1062e_row10_col1, #T_1062e_row10_col2, #T_1062e_row11_col0, #T_1062e_row11_col1, #T_1062e_row11_col2, #T_1062e_row12_col0, #T_1062e_row12_col1, #T_1062e_row12_col2, #T_1062e_row13_col0, #T_1062e_row13_col1, #T_1062e_row13_col2, #T_1062e_row14_col0, #T_1062e_row14_col1, #T_1062e_row14_col2, #T_1062e_row15_col0, #T_1062e_row15_col1, #T_1062e_row15_col2 {\n",
       "  border: 1px solid black;\n",
       "  padding: 8px;\n",
       "  text-align: left;\n",
       "}\n",
       "</style>\n",
       "<table id=\"T_1062e\">\n",
       "  <thead>\n",
       "    <tr>\n",
       "      <th class=\"blank level0\" >&nbsp;</th>\n",
       "      <th id=\"T_1062e_level0_col0\" class=\"col_heading level0 col0\" >Entity Type</th>\n",
       "      <th id=\"T_1062e_level0_col1\" class=\"col_heading level0 col1\" >Count</th>\n",
       "      <th id=\"T_1062e_level0_col2\" class=\"col_heading level0 col2\" >Unique Entities</th>\n",
       "    </tr>\n",
       "  </thead>\n",
       "  <tbody>\n",
       "    <tr>\n",
       "      <th id=\"T_1062e_level0_row0\" class=\"row_heading level0 row0\" >0</th>\n",
       "      <td id=\"T_1062e_row0_col0\" class=\"data row0 col0\" >ORG</td>\n",
       "      <td id=\"T_1062e_row0_col1\" class=\"data row0 col1\" >82</td>\n",
       "      <td id=\"T_1062e_row0_col2\" class=\"data row0 col2\" >Australian Journal of Political Science (2), the Western Front (2), the Federal Foreign Of ﬁce (2), EU (2), Full Terms & Conditions (1), http://www.tandfonline.com/action/journalInformation?journalCode=cajp20\n",
       "Download (1), ISSN (1), Submit (1), View Crossmark (1), MARTIN BAYER\n",
       "Independent Scholar (1), Journal of Political Science (1), Australian Political Studies Association\n",
       "  (1), the German Federal Parliament (1), ler (1), Pickelhaube (1), Nazis (1), Bolshevik (1), onlycommon (1), National Socialist (1), Commonwealth (1), War Graves Commission (1), the Institute for Foreign Cultural Relations (1), Frank-Walter Steinmeier (1), the ImperialWar Museum (1), the European Union (1), The Deutsches Historisches Museum (1), 2004,5held (1), Breitkopf-Bruckschen 2015 (1), Militärhistorisches Museum (1), Cossack (1), ANZAC (1), The\n",
       "Bavarian Army Museum (1), DHM (1), German Historical Museum (1), the German Armed Forces (1), ﬁne (1), Historisches Museum (1), Palatinate (1), the State Archive of Rhineland –Palatinate (1), Spiegel (1), Reutlingen (1), International Comic Salon Erlangen (1), the Federal Agency (1), Civic Education (1), Bosch-Stiftung and Körber-Stiftung (1), Volkswagen (1), the Federal ForeignOfﬁce (1), the ‘Institute for Foreign Cultural Relations (1), Diva (1), Schwules Museum (1), Museum für Kommunikation (1), Museum (1), Ypres (1), the German Bundestag Norbert Lammert (1), Sincemid-2014 (1), Bundestag (1), References\n",
       "Breitkopf –Bruckschen (1), Deutsches Historisches Museum (1), Einzelplan 05 (1), Standardartikel/Themen (1), Imperial War Museum (1), Copping (1), the\n",
       "Catholic University of Leuven (1), DVA/Randomhouse Germany (1), Waffenstillstands (1), Nieuwpoort (1), Die Ausrede (1), Wagner (1), Chérisy-Kaserne (1), Stone (1), Chérisy (1), Wehler (1), Epoche (1), FAZ (1), Werth (1), Tannenberg-Mythos (1), I.\n",
       "Renz (1), Avantgarden (1)</td>\n",
       "    </tr>\n",
       "    <tr>\n",
       "      <th id=\"T_1062e_level0_row1\" class=\"row_heading level0 row1\" >1</th>\n",
       "      <td id=\"T_1062e_row1_col0\" class=\"data row1 col0\" >PERSON</td>\n",
       "      <td id=\"T_1062e_row1_col1\" class=\"data row1 col1\" >106</td>\n",
       "      <td id=\"T_1062e_row1_col2\" class=\"data row1 col2\" >Merkel (6), Clark (5), Gauck (5), Angela Merkel (4), Martin Bayer (3), Avi Primor (2), Primor (2), Hirschfeld (2), Tannenberg (2), Cameron (2), Gedenkfeier (2), Erster Weltkrieg (2), Rede von Bundeskanzlerin (2), Der Tagesspiegel (2), Universitaire De Lausanne] Date (1), Sweet (1), Gerd Krumeich (1), Edgar Wolfrum (1), Christopher Clark ’s (1), Wehler (1), Fritz Fischer ’s (1), Nigel Jones (1), David Lloyd\n",
       "George ’s (1), Frontkämpfer (1), Volkstrauertag (1), Westerwelle (1), Patrick Kurth (1), Andreas Meitzner (1), David Cameron (1), Diamond Jubilee (1), −Meitzner (1), Norman Walter (1), Die Avantgarden (1), Gallipoli (1), Petrograd (1), Käthe Kollwitz (1), Kingsley Baird (1), Landesausstellung (1), Heimat (1), Krieg (1), Der Weltkrieg (1), Ernst Jünger (1), Zeiten (1), Brunswick (1), Essen (1), Erste Weltkrieg (1), Kunst (1), Jacques Tardi (1), Joe Sacco (1), Steinmeier (1), Kunstbibliothek Berlin (1), Eisen (1), Bode (1), Markus Meckel (1), Franco (1), Leuven (1), Liège (1), Christopher Clark (1), Rabbi Baal Shem (1), Daily Telegraph (1), Lüttich (1), bundespraesident.de/SharedDocs/Reden/DE/Joachim-Gauck/Reden/2014/08/ (1), Katholischen Universität Löwen (1), http://www.bundespraesident.de/SharedDocs/\n",
       "Reden/DE/Joachim-Gauck (1), Lecture Der (1), Deutsche Aufmarsch (1), Jahrhundert (1), Jones (1), Ersten Weltkrieg (1), Gedenkveranstaltung (1), zum Volkstrauertag (1), Scott (1), John\n",
       "Day (1), Weltkriegsgeschichte (1), G. Hirschfeld (1), G. Krumeich (1), Enzyklopädie Erster Weltkrieg (1), Kriegsschuld (1), Die Zeit 32/\n",
       "2014 (1)</td>\n",
       "    </tr>\n",
       "    <tr>\n",
       "      <th id=\"T_1062e_level0_row2\" class=\"row_heading level0 row2\" >2</th>\n",
       "      <td id=\"T_1062e_row2_col0\" class=\"data row2 col0\" >DATE</td>\n",
       "      <td id=\"T_1062e_row2_col1\" class=\"data row2 col1\" >172</td>\n",
       "      <td id=\"T_1062e_row2_col2\" class=\"data row2 col2\" >2014 (19), 1914 (7), 2015 (4), 2013 (3), 2012 (3), 1918 (3), 1933 (3), 2014a (3), 2014b (3), 4 August (3), post-1918 (2), 2010 (2), Monath 2014b (2), autumn 2013 (2), March 2015 (2), 1919 (2), 2009 (2), 1994 (2), 100 years (2), 2018 (2), 18 August (2), 14 September 2016 (1), 1036-1146 (1), recent years (1), late 2013 (1), Primor 2013 (1), September\n",
       "2013 (1), Grau 2015 (1), the 1960s (1), Ullrich 2014 (1), August (1), decades (1), the 1920s (1), 1930s (1), autumn 1914 (1), 1927 (1), 1937 (1), 1952 two weeks (1), Sunday (1), 45 (1), April 2013 (1), September 2013 (1), October 2012 (1), this year (1), 8 November 2013 to 23556\n",
       "M. BAYER (1), February 2014),4centred (1), the early 20th century (1), 29 May to 30 November (1), 1\n",
       "August 2014 (1), 24 February 2015).7This (1), annual (1), coming\n",
       "years (1), The last days (1), 2004 (1), 4 April 2014 to 1 March\n",
       "2015 (1), 1 August 2014 (1), the middle of Europe (1), 30 April to 6 October 2014.COMMEMORATION (1), earlier decades (1), 29 May 2014 (1), 7–9 May 2014 (1), the end of the (1), 1945 (1), October\n",
       "2013 (1), June 2014 (1), December (1), 5 September to 30 November 2014 (1), 12‘Krieg (1), 25 September 2014 to 18 January 2015 (1), 21 March 2014 to 30 March 2015 (1), 14‘Netze des Krieges 1914 (1), 9 May to 17 August 2014 (1), 20 June to 2 November (1), the commemorative year (1), Merkel 2014 (1), 3 July 2014 (1), 16 November 2014 (1), the 20th century ’s (1), 1918 nor after 1945 (1), an interesting year (1), Primor 2014 (1), E. 2015 (1), 13 March (1), Bundeshaushaltsplan 2014 (1), 25 July (1), 3 August 2014 (1), 11 October (1), 9 June 2013 (1), 22 August 2013 (1), 6 August 2014 (1), 6 August\n",
       "2014 (1), 23 March (1), 24 October (1), 27 September (1), 15 June 2013 (1), 3\n",
       "July (1), July 2014 (1), 11 November (1), 9\n",
       "June 2013 (1), 28 October (1), 30 October 2014 (1), 17 January (1), 27 January (1), 28 January 2014 (1), 30 October (1), A. 2014 (1), 16 November (1), 20 November 2014 (1), Five weeks (1), the eve of the Great War (1), 24 January (1), 30 January 2014 (1), Südkurier 30 August (1), 9\n",
       "September 2014 (1), 7 May (1), 7 May\n",
       "2014 (1), Ausstellung ‘1914 (1), November (1), 20 November 2013 (1), 22 August (1)</td>\n",
       "    </tr>\n",
       "    <tr>\n",
       "      <th id=\"T_1062e_level0_row3\" class=\"row_heading level0 row3\" >3</th>\n",
       "      <td id=\"T_1062e_row3_col0\" class=\"data row3 col0\" >GPE</td>\n",
       "      <td id=\"T_1062e_row3_col1\" class=\"data row3 col1\" >103</td>\n",
       "      <td id=\"T_1062e_row3_col2\" class=\"data row3 col2\" >Germany (25), Berlin (7), Belgium (4), GERMANY (4), France (3), Hindenburg (2), London (2), Bonn (2), Primor (2), Print (1), the Weimar Republic (1), Historikerstreit (1), Cambridge (1), the Federal Republic of\n",
       " (1), Weimar Republic (1), Tannenberg (1), Olsztynek (1), Poland (1), East Germany (1), Nazi Germany (1), West Germany (1), Advent (1), Britain (1), Italy (1), Portugal (1), Federal Republic of Germany (1), Australia (1), Bildung (1), Bundeskunsthalle (1), Bundeswehr (1), Dresden (1), US (1), remembrance,‘Stela (1), New Zealand (1), Baden –Württemberg (1), Saxony (1), North\n",
       "Rhine –Westphalia (1), Baden (1), Württemberg (1), Switzerland (1), Ingolstadt (1), the Free State of (1), Bavaria (1), the Federal Republic of Germany (1), Erinnerung (1), Stuttgart (1), Attendorn (1), Aschaffenburg (1), Hanover (1), GDR (1), Alsace (1), Potsdam (1), Paris (1), Monath, H. 2014a (1), Regierung (1), Monath, H. 2014b (1), New York (1), Ullrich (1), Westerwelle (1), Eröffnung (1), Winkler (1)</td>\n",
       "    </tr>\n",
       "    <tr>\n",
       "      <th id=\"T_1062e_level0_row4\" class=\"row_heading level0 row4\" >4</th>\n",
       "      <td id=\"T_1062e_row4_col0\" class=\"data row4 col0\" >CARDINAL</td>\n",
       "      <td id=\"T_1062e_row4_col1\" class=\"data row4 col1\" >62</td>\n",
       "      <td id=\"T_1062e_row4_col2\" class=\"data row4 col2\" >14 (5), 100 (4), 18 (3), 553 (2), 3 (2), 561 (2), two (2), one (2), 8 (2), 1914/18 (2), 1363 (1), 50:3 (1), 10.1080/10361146.2015.1079942 (1), 05 (1), 96 (1), 50 (1), more than 300,000 (1), 2012).1 (1), 11 (1), 1918 (1), at least one (1), 231 (1), 1914 (1), 2Founded (1), 555 (1), 45 (1), 16 (1), thousands (1), four (1), 1914–1918 (1), some 170,000 (1), 4Art (1), 6The (1), 7TheBundeswehr (1), 9‘1914 (1), 10‘1914 (1), 557 (1), One (1), Four hundred (1), 40 (1), 11‘Mein (1), 13‘Gold (1), 15‘Krieg (1), 559 (1), 19 (1), 2nd (1)</td>\n",
       "    </tr>\n",
       "    <tr>\n",
       "      <th id=\"T_1062e_level0_row5\" class=\"row_heading level0 row5\" >5</th>\n",
       "      <td id=\"T_1062e_row5_col0\" class=\"data row5 col0\" >EVENT</td>\n",
       "      <td id=\"T_1062e_row5_col1\" class=\"data row5 col1\" >67</td>\n",
       "      <td id=\"T_1062e_row5_col2\" class=\"data row5 col2\" >the First World War (35), the Second World War (8), World War (5), Holocaust (4), First World War (2), Second World War (2), The First World War (2), the Cold\n",
       "War (1), the ‘Great War (1), The World War (1), the FirstWorld War (1), the National Day of Mourning (1), the First World\n",
       "War (1), the First World War ’s (1), the World War ’in (1), World War I] (1)</td>\n",
       "    </tr>\n",
       "    <tr>\n",
       "      <th id=\"T_1062e_level0_row6\" class=\"row_heading level0 row6\" >6</th>\n",
       "      <td id=\"T_1062e_row6_col0\" class=\"data row6 col0\" >NORP</td>\n",
       "      <td id=\"T_1062e_row6_col1\" class=\"data row6 col1\" >54</td>\n",
       "      <td id=\"T_1062e_row6_col2\" class=\"data row6 col2\" >German (21), Nazi (6), British (5), European (5), Germans (4), Jewish (3), Israeli (1), Hohenzollern (1), Ritterkreuz (1), Nazis (1), Italian (1), Australian (1), Bavarian (1), French (1), Belgian (1), Europeans (1)</td>\n",
       "    </tr>\n",
       "    <tr>\n",
       "      <th id=\"T_1062e_level0_row7\" class=\"row_heading level0 row7\" >7</th>\n",
       "      <td id=\"T_1062e_row7_col0\" class=\"data row7 col0\" >PRODUCT</td>\n",
       "      <td id=\"T_1062e_row7_col1\" class=\"data row7 col1\" >4</td>\n",
       "      <td id=\"T_1062e_row7_col2\" class=\"data row7 col2\" >German- (1), Hölle (1), Versailles (1), Kunst (1)</td>\n",
       "    </tr>\n",
       "    <tr>\n",
       "      <th id=\"T_1062e_level0_row8\" class=\"row_heading level0 row8\" >8</th>\n",
       "      <td id=\"T_1062e_row8_col0\" class=\"data row8 col0\" >LOC</td>\n",
       "      <td id=\"T_1062e_row8_col1\" class=\"data row8 col1\" >7</td>\n",
       "      <td id=\"T_1062e_row8_col2\" class=\"data row8 col2\" >Europe (2), Eastern Europe (1), Latin America (1), Europa (1), Somme (1), Liege (1)</td>\n",
       "    </tr>\n",
       "    <tr>\n",
       "      <th id=\"T_1062e_level0_row9\" class=\"row_heading level0 row9\" >9</th>\n",
       "      <td id=\"T_1062e_row9_col0\" class=\"data row9 col0\" >ORDINAL</td>\n",
       "      <td id=\"T_1062e_row9_col1\" class=\"data row9 col1\" >4</td>\n",
       "      <td id=\"T_1062e_row9_col2\" class=\"data row9 col2\" >First (3), Second (1)</td>\n",
       "    </tr>\n",
       "    <tr>\n",
       "      <th id=\"T_1062e_level0_row10\" class=\"row_heading level0 row10\" >10</th>\n",
       "      <td id=\"T_1062e_row10_col0\" class=\"data row10 col0\" >LAW</td>\n",
       "      <td id=\"T_1062e_row10_col1\" class=\"data row10 col1\" >3</td>\n",
       "      <td id=\"T_1062e_row10_col2\" class=\"data row10 col2\" >the Versailles Treaty (1), Section 05 (1), 140804-Gedenken-Luettich (1)</td>\n",
       "    </tr>\n",
       "    <tr>\n",
       "      <th id=\"T_1062e_level0_row11\" class=\"row_heading level0 row11\" >11</th>\n",
       "      <td id=\"T_1062e_row11_col0\" class=\"data row11 col0\" >TIME</td>\n",
       "      <td id=\"T_1062e_row11_col1\" class=\"data row11 col1\" >3</td>\n",
       "      <td id=\"T_1062e_row11_col2\" class=\"data row11 col2\" >just a few hours (1), 52 minutes (1), 2014.COMMEMORATION (1)</td>\n",
       "    </tr>\n",
       "    <tr>\n",
       "      <th id=\"T_1062e_level0_row12\" class=\"row_heading level0 row12\" >12</th>\n",
       "      <td id=\"T_1062e_row12_col0\" class=\"data row12 col0\" >QUANTITY</td>\n",
       "      <td id=\"T_1062e_row12_col1\" class=\"data row12 col1\" >1</td>\n",
       "      <td id=\"T_1062e_row12_col2\" class=\"data row12 col2\" >a mere €3.5 million (1)</td>\n",
       "    </tr>\n",
       "    <tr>\n",
       "      <th id=\"T_1062e_level0_row13\" class=\"row_heading level0 row13\" >13</th>\n",
       "      <td id=\"T_1062e_row13_col0\" class=\"data row13 col0\" >MONEY</td>\n",
       "      <td id=\"T_1062e_row13_col1\" class=\"data row13 col1\" >1</td>\n",
       "      <td id=\"T_1062e_row13_col2\" class=\"data row13 col2\" >€296.5 billion (1)</td>\n",
       "    </tr>\n",
       "    <tr>\n",
       "      <th id=\"T_1062e_level0_row14\" class=\"row_heading level0 row14\" >14</th>\n",
       "      <td id=\"T_1062e_row14_col0\" class=\"data row14 col0\" >FAC</td>\n",
       "      <td id=\"T_1062e_row14_col1\" class=\"data row14 col1\" >5</td>\n",
       "      <td id=\"T_1062e_row14_col2\" class=\"data row14 col2\" >Copping 2013 (2), Exhibition Hall of (1), the ‘Centre for Military History and Social Sciences of the Bundeswehr (1), Gewerbe Hamburg (1)</td>\n",
       "    </tr>\n",
       "    <tr>\n",
       "      <th id=\"T_1062e_level0_row15\" class=\"row_heading level0 row15\" >15</th>\n",
       "      <td id=\"T_1062e_row15_col0\" class=\"data row15 col0\" >WORK_OF_ART</td>\n",
       "      <td id=\"T_1062e_row15_col1\" class=\"data row15 col1\" >2</td>\n",
       "      <td id=\"T_1062e_row15_col2\" class=\"data row15 col2\" >Gorlice –Tarnow (1), The Palatinate (1)</td>\n",
       "    </tr>\n",
       "  </tbody>\n",
       "</table>\n"
      ],
      "text/plain": [
       "<pandas.io.formats.style.Styler at 0x1502e38d0>"
      ]
     },
     "metadata": {},
     "output_type": "display_data"
    },
    {
     "data": {
      "text/html": [
       "<hr>"
      ],
      "text/plain": [
       "<IPython.core.display.HTML object>"
      ]
     },
     "metadata": {},
     "output_type": "display_data"
    },
    {
     "data": {
      "application/vnd.plotly.v1+json": {
       "config": {
        "plotlyServerURL": "https://plot.ly"
       },
       "data": [
        {
         "hoverinfo": "none",
         "line": {
          "color": "#888",
          "width": 0.5
         },
         "mode": "lines",
         "type": "scatter",
         "x": [
          -0.037825235636061494,
          -0.10050179440344825,
          null,
          -0.037825235636061494,
          -0.0738188985871589,
          null,
          -0.10050179440344825,
          -0.0738188985871589,
          null,
          -0.59343319360443,
          -0.6555325007968142,
          null,
          0.04016233638171959,
          -0.022737191811347743,
          null,
          0.3980888039971504,
          0.4836044195909556,
          null,
          0.8761330455839703,
          0.9537970244293937,
          null,
          -0.15804601380719246,
          -0.1344842832207877,
          null,
          -0.15681339667036884,
          -0.09525553456964372,
          null,
          -0.6346968166341097,
          -0.695267839178745,
          null,
          0.16423933758277415,
          0.18047847907544295,
          null,
          0.16423933758277415,
          0.1205410566932067,
          null,
          0.18047847907544295,
          0.1205410566932067,
          null
         ],
         "y": [
          -0.18619163627311933,
          -0.18158936622609342,
          null,
          -0.18619163627311933,
          -0.23941912482719596,
          null,
          -0.18158936622609342,
          -0.23941912482719596,
          null,
          0.7518396105795437,
          0.7434122605128229,
          null,
          0.2747533007125948,
          0.2866090393818386,
          null,
          -0.7791964986361437,
          -0.7502140280025295,
          null,
          -0.05790133413174123,
          -0.06601793401003374,
          null,
          0.9297973366322105,
          0.8509777121340385,
          null,
          -0.9642961874661208,
          -0.9527688539914096,
          null,
          -0.5624951697943072,
          -0.572620306817452,
          null,
          0.7407382000992568,
          0.676487144174192,
          null,
          0.7407382000992568,
          0.6856099395504046,
          null,
          0.676487144174192,
          0.6856099395504046,
          null
         ]
        },
        {
         "hoverinfo": "text",
         "marker": {
          "color": [
           "#7aecec",
           "#ffd966",
           "#ffd966",
           "#ffd966",
           "#7aecec",
           "#7aecec",
           "#ffeb80",
           "#ffd966",
           "#ffd966",
           "#ff9966",
           "#7aecec",
           "#ffd966",
           "#7aecec",
           "#ff9966",
           "#ffd966",
           "#888",
           "#7aecec",
           "#bfe1d9",
           "#ffd966",
           "#7aecec",
           "#bfe1d9",
           "#ffd966",
           "#ffd966",
           "#bfeeb7",
           "#ff9966",
           "#888",
           "#ff9966",
           "#ff9966",
           "#ff9966"
          ],
          "line": {
           "width": 2
          },
          "size": 10
         },
         "mode": "markers+text",
         "text": [
          "Guerre<br>PERSON",
          "QAnon<br>ORG",
          "Social Media<br>ORG",
          "Information Visualization<br>ORG",
          "Twitter<br>PERSON",
          "Eine Betriebsblindenschri<br>PERSON",
          "The Sense of History<br>WORK_OF_ART",
          "Digital<br>ORG",
          "Créer un cadre français de responsabilisation des réseaux sociaux :<br>ORG",
          "France<br>GPE",
          "Zombie Twitter<br>PERSON",
          "Media Research<br>ORG",
          "Mastodon<br>PERSON",
          "the Global South: A<br>LOC",
          "the Malian Twittersphere<br>ORG",
          "14-18<br>CARDINAL",
          "Agenda-Building During<br>PERSON",
          "2018<br>DATE",
          "Commémorer<br>ORG",
          "La guerre de 1914-1918<br>PERSON",
          "1914<br>DATE",
          "un lieu de mémoire<br>ORG",
          "de la commémoration nationale à l’émergence d’un consensus<br>ORG",
          "the First World War<br>EVENT",
          "quotidien<br>GPE",
          "French<br>NORP",
          "the United States<br>GPE",
          "the United Kingdom<br>GPE",
          "Germany<br>GPE"
         ],
         "type": "scatter",
         "x": [
          -0.8342921023690221,
          -0.037825235636061494,
          -0.10050179440344825,
          -0.0738188985871589,
          -0.59343319360443,
          -0.6555325007968142,
          0.04016233638171959,
          -0.022737191811347743,
          0.3980888039971504,
          0.4836044195909556,
          -0.8909772966860399,
          0.8761330455839703,
          0.9537970244293937,
          -0.15804601380719246,
          -0.1344842832207877,
          0.8086142885854009,
          -0.15681339667036884,
          -0.09525553456964372,
          -0.6346968166341097,
          -0.695267839178745,
          0.16423933758277415,
          0.18047847907544295,
          0.1205410566932067,
          -1,
          0.47159230610644126,
          0.7386628336635664,
          0.8760983985295282,
          0.4411607192235319,
          -0.46949095146791237
         ],
         "y": [
          0.161696575980113,
          -0.18619163627311933,
          -0.18158936622609342,
          -0.23941912482719596,
          0.7518396105795437,
          0.7434122605128229,
          0.2747533007125948,
          0.2866090393818386,
          -0.7791964986361437,
          -0.7502140280025295,
          -0.387226441215161,
          -0.05790133413174123,
          -0.06601793401003374,
          0.9297973366322105,
          0.8509777121340385,
          -0.566280693320996,
          -0.9642961874661208,
          -0.9527688539914096,
          -0.5624951697943072,
          -0.572620306817452,
          0.7407382000992568,
          0.676487144174192,
          0.6856099395504046,
          -0.11592893168225206,
          0.8489217887158936,
          0.6565944482529752,
          0.3606170166156511,
          -0.7680989250881723,
          -0.8178089418588091
         ]
        }
       ],
       "layout": {
        "hovermode": "closest",
        "margin": {
         "b": 0,
         "l": 0,
         "r": 0,
         "t": 40
        },
        "showlegend": false,
        "template": {
         "data": {
          "bar": [
           {
            "error_x": {
             "color": "#2a3f5f"
            },
            "error_y": {
             "color": "#2a3f5f"
            },
            "marker": {
             "line": {
              "color": "#E5ECF6",
              "width": 0.5
             },
             "pattern": {
              "fillmode": "overlay",
              "size": 10,
              "solidity": 0.2
             }
            },
            "type": "bar"
           }
          ],
          "barpolar": [
           {
            "marker": {
             "line": {
              "color": "#E5ECF6",
              "width": 0.5
             },
             "pattern": {
              "fillmode": "overlay",
              "size": 10,
              "solidity": 0.2
             }
            },
            "type": "barpolar"
           }
          ],
          "carpet": [
           {
            "aaxis": {
             "endlinecolor": "#2a3f5f",
             "gridcolor": "white",
             "linecolor": "white",
             "minorgridcolor": "white",
             "startlinecolor": "#2a3f5f"
            },
            "baxis": {
             "endlinecolor": "#2a3f5f",
             "gridcolor": "white",
             "linecolor": "white",
             "minorgridcolor": "white",
             "startlinecolor": "#2a3f5f"
            },
            "type": "carpet"
           }
          ],
          "choropleth": [
           {
            "colorbar": {
             "outlinewidth": 0,
             "ticks": ""
            },
            "type": "choropleth"
           }
          ],
          "contour": [
           {
            "colorbar": {
             "outlinewidth": 0,
             "ticks": ""
            },
            "colorscale": [
             [
              0,
              "#0d0887"
             ],
             [
              0.1111111111111111,
              "#46039f"
             ],
             [
              0.2222222222222222,
              "#7201a8"
             ],
             [
              0.3333333333333333,
              "#9c179e"
             ],
             [
              0.4444444444444444,
              "#bd3786"
             ],
             [
              0.5555555555555556,
              "#d8576b"
             ],
             [
              0.6666666666666666,
              "#ed7953"
             ],
             [
              0.7777777777777778,
              "#fb9f3a"
             ],
             [
              0.8888888888888888,
              "#fdca26"
             ],
             [
              1,
              "#f0f921"
             ]
            ],
            "type": "contour"
           }
          ],
          "contourcarpet": [
           {
            "colorbar": {
             "outlinewidth": 0,
             "ticks": ""
            },
            "type": "contourcarpet"
           }
          ],
          "heatmap": [
           {
            "colorbar": {
             "outlinewidth": 0,
             "ticks": ""
            },
            "colorscale": [
             [
              0,
              "#0d0887"
             ],
             [
              0.1111111111111111,
              "#46039f"
             ],
             [
              0.2222222222222222,
              "#7201a8"
             ],
             [
              0.3333333333333333,
              "#9c179e"
             ],
             [
              0.4444444444444444,
              "#bd3786"
             ],
             [
              0.5555555555555556,
              "#d8576b"
             ],
             [
              0.6666666666666666,
              "#ed7953"
             ],
             [
              0.7777777777777778,
              "#fb9f3a"
             ],
             [
              0.8888888888888888,
              "#fdca26"
             ],
             [
              1,
              "#f0f921"
             ]
            ],
            "type": "heatmap"
           }
          ],
          "heatmapgl": [
           {
            "colorbar": {
             "outlinewidth": 0,
             "ticks": ""
            },
            "colorscale": [
             [
              0,
              "#0d0887"
             ],
             [
              0.1111111111111111,
              "#46039f"
             ],
             [
              0.2222222222222222,
              "#7201a8"
             ],
             [
              0.3333333333333333,
              "#9c179e"
             ],
             [
              0.4444444444444444,
              "#bd3786"
             ],
             [
              0.5555555555555556,
              "#d8576b"
             ],
             [
              0.6666666666666666,
              "#ed7953"
             ],
             [
              0.7777777777777778,
              "#fb9f3a"
             ],
             [
              0.8888888888888888,
              "#fdca26"
             ],
             [
              1,
              "#f0f921"
             ]
            ],
            "type": "heatmapgl"
           }
          ],
          "histogram": [
           {
            "marker": {
             "pattern": {
              "fillmode": "overlay",
              "size": 10,
              "solidity": 0.2
             }
            },
            "type": "histogram"
           }
          ],
          "histogram2d": [
           {
            "colorbar": {
             "outlinewidth": 0,
             "ticks": ""
            },
            "colorscale": [
             [
              0,
              "#0d0887"
             ],
             [
              0.1111111111111111,
              "#46039f"
             ],
             [
              0.2222222222222222,
              "#7201a8"
             ],
             [
              0.3333333333333333,
              "#9c179e"
             ],
             [
              0.4444444444444444,
              "#bd3786"
             ],
             [
              0.5555555555555556,
              "#d8576b"
             ],
             [
              0.6666666666666666,
              "#ed7953"
             ],
             [
              0.7777777777777778,
              "#fb9f3a"
             ],
             [
              0.8888888888888888,
              "#fdca26"
             ],
             [
              1,
              "#f0f921"
             ]
            ],
            "type": "histogram2d"
           }
          ],
          "histogram2dcontour": [
           {
            "colorbar": {
             "outlinewidth": 0,
             "ticks": ""
            },
            "colorscale": [
             [
              0,
              "#0d0887"
             ],
             [
              0.1111111111111111,
              "#46039f"
             ],
             [
              0.2222222222222222,
              "#7201a8"
             ],
             [
              0.3333333333333333,
              "#9c179e"
             ],
             [
              0.4444444444444444,
              "#bd3786"
             ],
             [
              0.5555555555555556,
              "#d8576b"
             ],
             [
              0.6666666666666666,
              "#ed7953"
             ],
             [
              0.7777777777777778,
              "#fb9f3a"
             ],
             [
              0.8888888888888888,
              "#fdca26"
             ],
             [
              1,
              "#f0f921"
             ]
            ],
            "type": "histogram2dcontour"
           }
          ],
          "mesh3d": [
           {
            "colorbar": {
             "outlinewidth": 0,
             "ticks": ""
            },
            "type": "mesh3d"
           }
          ],
          "parcoords": [
           {
            "line": {
             "colorbar": {
              "outlinewidth": 0,
              "ticks": ""
             }
            },
            "type": "parcoords"
           }
          ],
          "pie": [
           {
            "automargin": true,
            "type": "pie"
           }
          ],
          "scatter": [
           {
            "fillpattern": {
             "fillmode": "overlay",
             "size": 10,
             "solidity": 0.2
            },
            "type": "scatter"
           }
          ],
          "scatter3d": [
           {
            "line": {
             "colorbar": {
              "outlinewidth": 0,
              "ticks": ""
             }
            },
            "marker": {
             "colorbar": {
              "outlinewidth": 0,
              "ticks": ""
             }
            },
            "type": "scatter3d"
           }
          ],
          "scattercarpet": [
           {
            "marker": {
             "colorbar": {
              "outlinewidth": 0,
              "ticks": ""
             }
            },
            "type": "scattercarpet"
           }
          ],
          "scattergeo": [
           {
            "marker": {
             "colorbar": {
              "outlinewidth": 0,
              "ticks": ""
             }
            },
            "type": "scattergeo"
           }
          ],
          "scattergl": [
           {
            "marker": {
             "colorbar": {
              "outlinewidth": 0,
              "ticks": ""
             }
            },
            "type": "scattergl"
           }
          ],
          "scattermapbox": [
           {
            "marker": {
             "colorbar": {
              "outlinewidth": 0,
              "ticks": ""
             }
            },
            "type": "scattermapbox"
           }
          ],
          "scatterpolar": [
           {
            "marker": {
             "colorbar": {
              "outlinewidth": 0,
              "ticks": ""
             }
            },
            "type": "scatterpolar"
           }
          ],
          "scatterpolargl": [
           {
            "marker": {
             "colorbar": {
              "outlinewidth": 0,
              "ticks": ""
             }
            },
            "type": "scatterpolargl"
           }
          ],
          "scatterternary": [
           {
            "marker": {
             "colorbar": {
              "outlinewidth": 0,
              "ticks": ""
             }
            },
            "type": "scatterternary"
           }
          ],
          "surface": [
           {
            "colorbar": {
             "outlinewidth": 0,
             "ticks": ""
            },
            "colorscale": [
             [
              0,
              "#0d0887"
             ],
             [
              0.1111111111111111,
              "#46039f"
             ],
             [
              0.2222222222222222,
              "#7201a8"
             ],
             [
              0.3333333333333333,
              "#9c179e"
             ],
             [
              0.4444444444444444,
              "#bd3786"
             ],
             [
              0.5555555555555556,
              "#d8576b"
             ],
             [
              0.6666666666666666,
              "#ed7953"
             ],
             [
              0.7777777777777778,
              "#fb9f3a"
             ],
             [
              0.8888888888888888,
              "#fdca26"
             ],
             [
              1,
              "#f0f921"
             ]
            ],
            "type": "surface"
           }
          ],
          "table": [
           {
            "cells": {
             "fill": {
              "color": "#EBF0F8"
             },
             "line": {
              "color": "white"
             }
            },
            "header": {
             "fill": {
              "color": "#C8D4E3"
             },
             "line": {
              "color": "white"
             }
            },
            "type": "table"
           }
          ]
         },
         "layout": {
          "annotationdefaults": {
           "arrowcolor": "#2a3f5f",
           "arrowhead": 0,
           "arrowwidth": 1
          },
          "autotypenumbers": "strict",
          "coloraxis": {
           "colorbar": {
            "outlinewidth": 0,
            "ticks": ""
           }
          },
          "colorscale": {
           "diverging": [
            [
             0,
             "#8e0152"
            ],
            [
             0.1,
             "#c51b7d"
            ],
            [
             0.2,
             "#de77ae"
            ],
            [
             0.3,
             "#f1b6da"
            ],
            [
             0.4,
             "#fde0ef"
            ],
            [
             0.5,
             "#f7f7f7"
            ],
            [
             0.6,
             "#e6f5d0"
            ],
            [
             0.7,
             "#b8e186"
            ],
            [
             0.8,
             "#7fbc41"
            ],
            [
             0.9,
             "#4d9221"
            ],
            [
             1,
             "#276419"
            ]
           ],
           "sequential": [
            [
             0,
             "#0d0887"
            ],
            [
             0.1111111111111111,
             "#46039f"
            ],
            [
             0.2222222222222222,
             "#7201a8"
            ],
            [
             0.3333333333333333,
             "#9c179e"
            ],
            [
             0.4444444444444444,
             "#bd3786"
            ],
            [
             0.5555555555555556,
             "#d8576b"
            ],
            [
             0.6666666666666666,
             "#ed7953"
            ],
            [
             0.7777777777777778,
             "#fb9f3a"
            ],
            [
             0.8888888888888888,
             "#fdca26"
            ],
            [
             1,
             "#f0f921"
            ]
           ],
           "sequentialminus": [
            [
             0,
             "#0d0887"
            ],
            [
             0.1111111111111111,
             "#46039f"
            ],
            [
             0.2222222222222222,
             "#7201a8"
            ],
            [
             0.3333333333333333,
             "#9c179e"
            ],
            [
             0.4444444444444444,
             "#bd3786"
            ],
            [
             0.5555555555555556,
             "#d8576b"
            ],
            [
             0.6666666666666666,
             "#ed7953"
            ],
            [
             0.7777777777777778,
             "#fb9f3a"
            ],
            [
             0.8888888888888888,
             "#fdca26"
            ],
            [
             1,
             "#f0f921"
            ]
           ]
          },
          "colorway": [
           "#636efa",
           "#EF553B",
           "#00cc96",
           "#ab63fa",
           "#FFA15A",
           "#19d3f3",
           "#FF6692",
           "#B6E880",
           "#FF97FF",
           "#FECB52"
          ],
          "font": {
           "color": "#2a3f5f"
          },
          "geo": {
           "bgcolor": "white",
           "lakecolor": "white",
           "landcolor": "#E5ECF6",
           "showlakes": true,
           "showland": true,
           "subunitcolor": "white"
          },
          "hoverlabel": {
           "align": "left"
          },
          "hovermode": "closest",
          "mapbox": {
           "style": "light"
          },
          "paper_bgcolor": "white",
          "plot_bgcolor": "#E5ECF6",
          "polar": {
           "angularaxis": {
            "gridcolor": "white",
            "linecolor": "white",
            "ticks": ""
           },
           "bgcolor": "#E5ECF6",
           "radialaxis": {
            "gridcolor": "white",
            "linecolor": "white",
            "ticks": ""
           }
          },
          "scene": {
           "xaxis": {
            "backgroundcolor": "#E5ECF6",
            "gridcolor": "white",
            "gridwidth": 2,
            "linecolor": "white",
            "showbackground": true,
            "ticks": "",
            "zerolinecolor": "white"
           },
           "yaxis": {
            "backgroundcolor": "#E5ECF6",
            "gridcolor": "white",
            "gridwidth": 2,
            "linecolor": "white",
            "showbackground": true,
            "ticks": "",
            "zerolinecolor": "white"
           },
           "zaxis": {
            "backgroundcolor": "#E5ECF6",
            "gridcolor": "white",
            "gridwidth": 2,
            "linecolor": "white",
            "showbackground": true,
            "ticks": "",
            "zerolinecolor": "white"
           }
          },
          "shapedefaults": {
           "line": {
            "color": "#2a3f5f"
           }
          },
          "ternary": {
           "aaxis": {
            "gridcolor": "white",
            "linecolor": "white",
            "ticks": ""
           },
           "baxis": {
            "gridcolor": "white",
            "linecolor": "white",
            "ticks": ""
           },
           "bgcolor": "#E5ECF6",
           "caxis": {
            "gridcolor": "white",
            "linecolor": "white",
            "ticks": ""
           }
          },
          "title": {
           "x": 0.05
          },
          "xaxis": {
           "automargin": true,
           "gridcolor": "white",
           "linecolor": "white",
           "ticks": "",
           "title": {
            "standoff": 15
           },
           "zerolinecolor": "white",
           "zerolinewidth": 2
          },
          "yaxis": {
           "automargin": true,
           "gridcolor": "white",
           "linecolor": "white",
           "ticks": "",
           "title": {
            "standoff": 15
           },
           "zerolinecolor": "white",
           "zerolinewidth": 2
          }
         }
        },
        "title": {
         "text": "Entity Co-occurrence Network"
        },
        "xaxis": {
         "showgrid": false,
         "showticklabels": false,
         "zeroline": false
        },
        "yaxis": {
         "showgrid": false,
         "showticklabels": false,
         "zeroline": false
        }
       }
      }
     },
     "metadata": {},
     "output_type": "display_data"
    }
   ],
   "source": [
    "#!python3.11 -m pip install nbformat>=4.2.0 spacy plotly networkx pyLDAvis pandas\n",
    "# For English\n",
    "#!python3.11 -m spacy download en_core_web_sm\n",
    "\n",
    "# For French\n",
    "#!python3.11 -m spacy download fr_core_news_sm\n",
    "\n",
    "from zotero_nerprocessor import NERProcessor\n",
    "\n",
    "# Initialize NER processor (use appropriate language model)\n",
    "ner_processor = NERProcessor(model=\"en_core_web_sm\")  # or \"fr_core_news_sm\" for French texts\n",
    "\n",
    "# Process the texts\n",
    "ner_results = ner_processor.process_texts(texts, metadata_list)\n",
    "\n",
    "# Display overall entity summary\n",
    "ner_processor.display_entity_summary(ner_results)\n",
    "\n",
    "# Display detailed entities for each document\n",
    "ner_processor.display_document_entities(ner_results)\n",
    "\n",
    "# Create and display entity network\n",
    "ner_processor.create_entity_network(ner_results)"
   ]
  }
 ],
 "metadata": {
  "kernelspec": {
   "display_name": "Python 3",
   "language": "python",
   "name": "python3"
  },
  "language_info": {
   "codemirror_mode": {
    "name": "ipython",
    "version": 3
   },
   "file_extension": ".py",
   "mimetype": "text/x-python",
   "name": "python",
   "nbconvert_exporter": "python",
   "pygments_lexer": "ipython3",
   "version": "3.11.10"
  }
 },
 "nbformat": 4,
 "nbformat_minor": 2
}
